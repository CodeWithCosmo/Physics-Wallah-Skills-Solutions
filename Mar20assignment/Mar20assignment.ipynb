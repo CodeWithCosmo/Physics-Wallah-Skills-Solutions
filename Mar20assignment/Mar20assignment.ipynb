{
 "cells": [
  {
   "cell_type": "markdown",
   "id": "dcdd42ac-f9d0-49e6-bd28-2584fc2b4dc7",
   "metadata": {},
   "source": [
    "# Q1. What is data encoding? How is it useful in data science?\n",
    "## In general, encoding is the process of converting data from one form to another. When working on some datasets, we found that some of the features are categorical, if we pass that feature directly to our model, our model can’t understand those feature variables. We all know that machines can’t understand categorical data. So, it is necessary to convert the categorical values of the features into numerical ones, so the machine can learn from those data and gives the right model. This process of converting categorical data into numerical data is called encoding.\n",
    "\n",
    "## In data science, encoding is useful in many ways. It helps in converting categorical data into numerical data, which is easier to work with. It also helps in reducing the dimensionality of the data, which makes it easier to analyze. Moreover, it helps in improving the accuracy of the model by providing more information to the model"
   ]
  },
  {
   "cell_type": "markdown",
   "id": "4e60b5d6-dc21-4e0a-95a5-347770123a38",
   "metadata": {},
   "source": []
  },
  {
   "cell_type": "markdown",
   "id": "109c7179-f823-48f4-ab2d-d29774cd5147",
   "metadata": {},
   "source": []
  },
  {
   "cell_type": "markdown",
   "id": "777fa2c3-5100-4736-9898-a696ae4eb7d0",
   "metadata": {},
   "source": []
  },
  {
   "cell_type": "markdown",
   "id": "320a9ce7-7b2b-413b-92ac-28de9c3d16e6",
   "metadata": {},
   "source": []
  },
  {
   "cell_type": "markdown",
   "id": "c3047ce6-d658-4b20-9022-ce5754b51590",
   "metadata": {},
   "source": [
    "# Q2. What is nominal encoding? Provide an example of how you would use it in a real-world scenario.\n",
    "## Nominal encoding is a type of encoding used when the categories of the categorical data do not have any particular order. For example, the city of a person lives in, gender of a person, marital status, etc. are nominal features.\n",
    "\n",
    "## Nominal encoding is useful in many ways. It helps in converting categorical data into numerical data, which is easier to work with. It also helps in reducing the dimensionality of the data, which makes it easier to analyze. Moreover, it helps in improving the accuracy of the model by providing more information to the model.\n",
    "\n",
    "## Here’s an example of how nominal encoding can be used in a real-world scenario. Suppose you are working on a dataset that contains information about the customers of a bank. One of the features in the dataset is the occupation of the customer. The occupation of the customer is a nominal feature because there is no particular order to the different occupations. To use this feature in your model, you can convert it into numerical data using nominal encoding."
   ]
  },
  {
   "cell_type": "markdown",
   "id": "46fcd935-d8e0-4fee-ab2e-58efa99d180b",
   "metadata": {},
   "source": []
  },
  {
   "cell_type": "markdown",
   "id": "d5f6cea6-c143-4cf4-b46f-11c272442038",
   "metadata": {},
   "source": []
  },
  {
   "cell_type": "markdown",
   "id": "b6cc9d09-b5ed-4352-8a79-3a1d9f0e1d22",
   "metadata": {},
   "source": []
  },
  {
   "cell_type": "markdown",
   "id": "2875ac20-d1f5-44d7-998a-4f499448e9af",
   "metadata": {},
   "source": []
  },
  {
   "cell_type": "markdown",
   "id": "73b59193-6ca3-413d-af71-bcaee71e4c9c",
   "metadata": {},
   "source": [
    "# Q3. In what situations is nominal encoding preferred over one-hot encoding? Provide a practical example.\n",
    "## Nominal encoding is preferred over one-hot encoding when the number of categories in the data is large. One-hot encoding creates a new column for each category, which can lead to a large number of columns in the dataset. This can make the dataset difficult to work with and can also lead to overfitting.\n",
    "\n",
    "## For example, suppose you are working on a dataset that contains information about the customers of a bank. One of the features in the dataset is the occupation of the customer. The occupation of the customer is a nominal feature because there is no particular order to the different occupations. To use this feature in your model, you can convert it into numerical data using nominal encoding. This will create a new column for each category in the dataset."
   ]
  },
  {
   "cell_type": "markdown",
   "id": "93295407-f5b3-4ffc-b452-fd6937350df7",
   "metadata": {},
   "source": []
  },
  {
   "cell_type": "markdown",
   "id": "325963de-5347-4a95-9e29-2f05086a46b7",
   "metadata": {},
   "source": []
  },
  {
   "cell_type": "markdown",
   "id": "9a5ccffc-599c-4153-ba43-b94ccd8702d4",
   "metadata": {},
   "source": []
  },
  {
   "cell_type": "markdown",
   "id": "01080116-9517-47a7-b4d9-7324f26a48cc",
   "metadata": {},
   "source": []
  },
  {
   "cell_type": "markdown",
   "id": "3dfced49-65f9-487c-b9ae-41fdf6707173",
   "metadata": {},
   "source": [
    "# Q4. Suppose you have a dataset containing categorical data with 5 unique values. Which encoding technique would you use to transform this data into a format suitable for machine learning algorithms? Explain why you made this choice.\n",
    "\n",
    "## One-hot encoding is the most common technique used for categorical data with 5 unique values. It creates a binary column for each unique value in the dataset and assigns a 1 to the column corresponding to the value for each data point, while assigning a 0 to all other columns.\n",
    "\n",
    "### For example, suppose we have a categorical variable \"color\" with 5 unique values: red, blue, green, yellow, and black. One-hot encoding would transform the variable into 5 binary columns: \"color_red,\" \"color_blue,\" \"color_green,\" \"color_yellow,\" and \"color_black.\" Each row in the dataset would have a 1 in the column corresponding to its color and 0s in all other columns.\n",
    "\n",
    "## The advantage of one-hot encoding is that it preserves the information contained in the categorical variable and does not introduce any implicit ordering or hierarchy among the values. This is particularly important when working with nominal data, where there is no inherent ordering among the categories. One-hot encoding also works well with most machine learning algorithms, including linear models, tree-based models, and neural networks."
   ]
  },
  {
   "cell_type": "markdown",
   "id": "adb49a49-4fe4-4e77-946f-daf1dc0ead76",
   "metadata": {},
   "source": []
  },
  {
   "cell_type": "markdown",
   "id": "2092332b-41b6-4730-a59d-51c1b66b93f5",
   "metadata": {},
   "source": []
  },
  {
   "cell_type": "markdown",
   "id": "272a9c0e-ac62-4c70-a974-13d000150e7e",
   "metadata": {},
   "source": []
  },
  {
   "cell_type": "markdown",
   "id": "88fe0e8f-34a6-449d-a1fa-46fe385cd9b6",
   "metadata": {},
   "source": []
  },
  {
   "cell_type": "markdown",
   "id": "508139b6-11b9-4a6d-829b-6fadf8bcfd94",
   "metadata": {},
   "source": [
    "# Q5. In a machine learning project, you have a dataset with 1000 rows and 5 columns. Two of the columns are categorical, and the remaining three columns are numerical. If you were to use nominal encoding to transform the categorical data, how many new columns would be created? Show your calculations.\n",
    "## If we use nominal encoding to transform the categorical data, we would create a new column for each unique value in each of the categorical columns.\n",
    "\n",
    "## To determine the number of new columns that would be created, we need to first find the number of unique values in each of the categorical columns. Let's assume that column 1 and column 2 are the categorical columns in the dataset.\n",
    "#### We can use the pandas library in Python to calculate the number of unique values in each categorical column:"
   ]
  },
  {
   "cell_type": "code",
   "execution_count": 17,
   "id": "8ed9720c-6b71-41a9-97c1-a6a497b8d39e",
   "metadata": {
    "tags": []
   },
   "outputs": [],
   "source": [
    "import pandas as pd\n",
    "df = pd.read_csv('dataset.csv')"
   ]
  },
  {
   "cell_type": "code",
   "execution_count": 28,
   "id": "b84d4b4f-7e9c-48ab-93f1-1abccf4b3453",
   "metadata": {
    "tags": []
   },
   "outputs": [
    {
     "data": {
      "text/html": [
       "<div>\n",
       "<style scoped>\n",
       "    .dataframe tbody tr th:only-of-type {\n",
       "        vertical-align: middle;\n",
       "    }\n",
       "\n",
       "    .dataframe tbody tr th {\n",
       "        vertical-align: top;\n",
       "    }\n",
       "\n",
       "    .dataframe thead th {\n",
       "        text-align: right;\n",
       "    }\n",
       "</style>\n",
       "<table border=\"1\" class=\"dataframe\">\n",
       "  <thead>\n",
       "    <tr style=\"text-align: right;\">\n",
       "      <th></th>\n",
       "      <th>column1</th>\n",
       "      <th>column2</th>\n",
       "      <th>column3</th>\n",
       "      <th>column4</th>\n",
       "      <th>column5</th>\n",
       "    </tr>\n",
       "  </thead>\n",
       "  <tbody>\n",
       "    <tr>\n",
       "      <th>0</th>\n",
       "      <td>C</td>\n",
       "      <td>Green</td>\n",
       "      <td>11.814990</td>\n",
       "      <td>15.672434</td>\n",
       "      <td>15.744067</td>\n",
       "    </tr>\n",
       "    <tr>\n",
       "      <th>1</th>\n",
       "      <td>D</td>\n",
       "      <td>Blue</td>\n",
       "      <td>10.071789</td>\n",
       "      <td>21.041776</td>\n",
       "      <td>38.129142</td>\n",
       "    </tr>\n",
       "    <tr>\n",
       "      <th>2</th>\n",
       "      <td>A</td>\n",
       "      <td>Red</td>\n",
       "      <td>13.730006</td>\n",
       "      <td>20.535801</td>\n",
       "      <td>22.226099</td>\n",
       "    </tr>\n",
       "    <tr>\n",
       "      <th>3</th>\n",
       "      <td>C</td>\n",
       "      <td>Red</td>\n",
       "      <td>11.640965</td>\n",
       "      <td>25.983454</td>\n",
       "      <td>36.933247</td>\n",
       "    </tr>\n",
       "    <tr>\n",
       "      <th>4</th>\n",
       "      <td>C</td>\n",
       "      <td>Red</td>\n",
       "      <td>12.207428</td>\n",
       "      <td>21.359366</td>\n",
       "      <td>25.716548</td>\n",
       "    </tr>\n",
       "    <tr>\n",
       "      <th>5</th>\n",
       "      <td>D</td>\n",
       "      <td>Red</td>\n",
       "      <td>10.265132</td>\n",
       "      <td>25.790554</td>\n",
       "      <td>9.530653</td>\n",
       "    </tr>\n",
       "    <tr>\n",
       "      <th>6</th>\n",
       "      <td>A</td>\n",
       "      <td>Red</td>\n",
       "      <td>10.314723</td>\n",
       "      <td>15.309113</td>\n",
       "      <td>31.311901</td>\n",
       "    </tr>\n",
       "    <tr>\n",
       "      <th>7</th>\n",
       "      <td>A</td>\n",
       "      <td>Red</td>\n",
       "      <td>13.462641</td>\n",
       "      <td>20.709305</td>\n",
       "      <td>30.864285</td>\n",
       "    </tr>\n",
       "    <tr>\n",
       "      <th>8</th>\n",
       "      <td>C</td>\n",
       "      <td>Red</td>\n",
       "      <td>9.243414</td>\n",
       "      <td>14.426261</td>\n",
       "      <td>38.810716</td>\n",
       "    </tr>\n",
       "    <tr>\n",
       "      <th>9</th>\n",
       "      <td>B</td>\n",
       "      <td>Green</td>\n",
       "      <td>11.093559</td>\n",
       "      <td>20.488379</td>\n",
       "      <td>45.560006</td>\n",
       "    </tr>\n",
       "  </tbody>\n",
       "</table>\n",
       "</div>"
      ],
      "text/plain": [
       "  column1 column2    column3    column4    column5\n",
       "0       C   Green  11.814990  15.672434  15.744067\n",
       "1       D    Blue  10.071789  21.041776  38.129142\n",
       "2       A     Red  13.730006  20.535801  22.226099\n",
       "3       C     Red  11.640965  25.983454  36.933247\n",
       "4       C     Red  12.207428  21.359366  25.716548\n",
       "5       D     Red  10.265132  25.790554   9.530653\n",
       "6       A     Red  10.314723  15.309113  31.311901\n",
       "7       A     Red  13.462641  20.709305  30.864285\n",
       "8       C     Red   9.243414  14.426261  38.810716\n",
       "9       B   Green  11.093559  20.488379  45.560006"
      ]
     },
     "execution_count": 28,
     "metadata": {},
     "output_type": "execute_result"
    }
   ],
   "source": [
    "df.head(10)"
   ]
  },
  {
   "cell_type": "markdown",
   "id": "50fc1a9f-9d6e-4146-8a74-70e42d309d78",
   "metadata": {},
   "source": [
    "### Counts the column1 unique values"
   ]
  },
  {
   "cell_type": "code",
   "execution_count": 21,
   "id": "d09381c9-2855-4f4a-8612-5b021115e843",
   "metadata": {
    "tags": []
   },
   "outputs": [],
   "source": [
    "n_unique_col1 = df['column1'].nunique()"
   ]
  },
  {
   "cell_type": "code",
   "execution_count": 19,
   "id": "fc639748-21bb-40c9-aa61-2742ec87e132",
   "metadata": {
    "tags": []
   },
   "outputs": [
    {
     "data": {
      "text/plain": [
       "4"
      ]
     },
     "execution_count": 19,
     "metadata": {},
     "output_type": "execute_result"
    }
   ],
   "source": [
    "n_unique_col1"
   ]
  },
  {
   "cell_type": "markdown",
   "id": "5213e63e-1e30-41f6-8507-a2595b37cc3d",
   "metadata": {},
   "source": [
    "### Counts the column2 unique values"
   ]
  },
  {
   "cell_type": "code",
   "execution_count": 22,
   "id": "a2a4fef9-45dc-4b81-84c0-ca63c95b6841",
   "metadata": {
    "tags": []
   },
   "outputs": [],
   "source": [
    "n_unique_col2 = df['column2'].nunique()"
   ]
  },
  {
   "cell_type": "code",
   "execution_count": 23,
   "id": "8a478b4b-5bfa-4ea3-a70a-27820c719b67",
   "metadata": {
    "tags": []
   },
   "outputs": [
    {
     "data": {
      "text/plain": [
       "3"
      ]
     },
     "execution_count": 23,
     "metadata": {},
     "output_type": "execute_result"
    }
   ],
   "source": [
    "n_unique_col2"
   ]
  },
  {
   "cell_type": "markdown",
   "id": "9f46c27e-ebb4-4876-bbab-9ff7085b35b0",
   "metadata": {},
   "source": [
    "### Total no of new columns created"
   ]
  },
  {
   "cell_type": "code",
   "execution_count": 24,
   "id": "f5aecb89-8d77-42b2-9186-661847e65f47",
   "metadata": {
    "tags": []
   },
   "outputs": [],
   "source": [
    "new_columns = n_unique_col1 + n_unique_col2"
   ]
  },
  {
   "cell_type": "code",
   "execution_count": 26,
   "id": "002f6ace-ce61-4c26-81e7-2453e9989ea1",
   "metadata": {
    "tags": []
   },
   "outputs": [
    {
     "data": {
      "text/plain": [
       "7"
      ]
     },
     "execution_count": 26,
     "metadata": {},
     "output_type": "execute_result"
    }
   ],
   "source": [
    "new_columns"
   ]
  },
  {
   "cell_type": "markdown",
   "id": "9fc89010-b57d-40cb-a776-73a0a19acae6",
   "metadata": {},
   "source": []
  },
  {
   "cell_type": "markdown",
   "id": "f5697625-c8f5-4c59-a070-66669afbbf65",
   "metadata": {},
   "source": []
  },
  {
   "cell_type": "markdown",
   "id": "694d8b58-2c63-4bf9-b209-bca7b3f3c7cf",
   "metadata": {},
   "source": []
  },
  {
   "cell_type": "markdown",
   "id": "b1bdeb37-009d-4388-ac1c-a61e8aa8b1bc",
   "metadata": {},
   "source": []
  },
  {
   "cell_type": "markdown",
   "id": "6aca7510-75ec-43a7-87e4-58d26237a2be",
   "metadata": {},
   "source": [
    "# Q6. You are working with a dataset containing information about different types of animals, including their species, habitat, and diet. Which encoding technique would you use to transform the categorical data into a format suitable for machine learning algorithms? Justify your answer.\n",
    "## If I were working with a dataset containing information about different types of animals, including their species, habitat, and diet, I would use one-hot encoding to transform the categorical data into a format suitable for machine learning algorithms. One-hot encoding is used when the data is nominal and creates a new column for each category in the dataset. This technique is useful when the number of categories in the data is small.\n",
    "\n",
    "## For example, suppose you are working on a dataset that contains information about different types of animals. One of the features in the dataset is the habitat of the animal. The habitat of the animal is a nominal feature because there is no particular order to the different habitats. To use this feature in your model, you can convert it into numerical data using one-hot encoding. This will create a new column for each habitat in the dataset."
   ]
  },
  {
   "cell_type": "markdown",
   "id": "894ff72d-0b2b-4032-8ec7-5b0f5cb1a4be",
   "metadata": {},
   "source": []
  },
  {
   "cell_type": "markdown",
   "id": "6215fc23-43db-4a49-84a9-17721d897215",
   "metadata": {},
   "source": []
  },
  {
   "cell_type": "markdown",
   "id": "5cfc42be-6b30-432d-9cbd-c8b746fa18a0",
   "metadata": {},
   "source": []
  },
  {
   "cell_type": "markdown",
   "id": "0508d1c8-682b-48ad-8021-59d74ac867f7",
   "metadata": {},
   "source": []
  },
  {
   "cell_type": "markdown",
   "id": "157132bd-90ce-4d02-8921-665ef86f5850",
   "metadata": {},
   "source": [
    "# Q7.You are working on a project that involves predicting customer churn for a telecommunications company. You have a dataset with 5 features, including the customer's gender, age, contract type,monthly charges, and tenure. Which encoding technique(s) would you use to transform the categorical data into numerical data? Provide a step-by-step explanation of how you would implement the encoding.\n",
    "\n",
    "## To transform the categorical data into numerical data, I would use a combination of nominal encoding and one-hot encoding. Here’s how I would implement the encoding:\n",
    "\n",
    "## 1.Gender: Since gender is a binary feature, I would use nominal encoding to convert it into numerical data. I would assign a value of 0 to represent male and a value of 1 to represent female.\n",
    "\n",
    "## 2.Age: Since age is a continuous feature, I would not need to encode it.\n",
    "\n",
    "## 3.Contract type: Since contract type is a nominal feature, I would use one-hot encoding to convert it into numerical data. This would create a new column for each contract type in the dataset.\n",
    "\n",
    "## 4.Monthly charges: Since monthly charges is a continuous feature, I would not need to encode it.\n",
    "\n",
    "## 5.Tenure: Since tenure is a continuous feature, I would not need to encode it.\n",
    "### Python script"
   ]
  },
  {
   "cell_type": "code",
   "execution_count": 75,
   "id": "f0760246-b214-40a9-89ce-8619bc32a66d",
   "metadata": {
    "tags": []
   },
   "outputs": [],
   "source": [
    "import pandas as pd\n",
    "df = pd.read_csv('customer_churn.csv')"
   ]
  },
  {
   "cell_type": "code",
   "execution_count": 76,
   "id": "3a6164c8-ac67-4e52-8cf2-76a79ccbc2bd",
   "metadata": {
    "tags": []
   },
   "outputs": [
    {
     "data": {
      "text/html": [
       "<div>\n",
       "<style scoped>\n",
       "    .dataframe tbody tr th:only-of-type {\n",
       "        vertical-align: middle;\n",
       "    }\n",
       "\n",
       "    .dataframe tbody tr th {\n",
       "        vertical-align: top;\n",
       "    }\n",
       "\n",
       "    .dataframe thead th {\n",
       "        text-align: right;\n",
       "    }\n",
       "</style>\n",
       "<table border=\"1\" class=\"dataframe\">\n",
       "  <thead>\n",
       "    <tr style=\"text-align: right;\">\n",
       "      <th></th>\n",
       "      <th>gender</th>\n",
       "      <th>age</th>\n",
       "      <th>contract_type</th>\n",
       "      <th>monthly_charges</th>\n",
       "      <th>tenure</th>\n",
       "    </tr>\n",
       "  </thead>\n",
       "  <tbody>\n",
       "    <tr>\n",
       "      <th>0</th>\n",
       "      <td>Male</td>\n",
       "      <td>30</td>\n",
       "      <td>One year</td>\n",
       "      <td>91.558394</td>\n",
       "      <td>20</td>\n",
       "    </tr>\n",
       "    <tr>\n",
       "      <th>1</th>\n",
       "      <td>Female</td>\n",
       "      <td>37</td>\n",
       "      <td>Two year</td>\n",
       "      <td>99.318027</td>\n",
       "      <td>34</td>\n",
       "    </tr>\n",
       "    <tr>\n",
       "      <th>2</th>\n",
       "      <td>Male</td>\n",
       "      <td>71</td>\n",
       "      <td>Month-to-month</td>\n",
       "      <td>24.921362</td>\n",
       "      <td>26</td>\n",
       "    </tr>\n",
       "    <tr>\n",
       "      <th>3</th>\n",
       "      <td>Male</td>\n",
       "      <td>24</td>\n",
       "      <td>Month-to-month</td>\n",
       "      <td>90.632502</td>\n",
       "      <td>5</td>\n",
       "    </tr>\n",
       "    <tr>\n",
       "      <th>4</th>\n",
       "      <td>Male</td>\n",
       "      <td>32</td>\n",
       "      <td>Month-to-month</td>\n",
       "      <td>61.286322</td>\n",
       "      <td>61</td>\n",
       "    </tr>\n",
       "  </tbody>\n",
       "</table>\n",
       "</div>"
      ],
      "text/plain": [
       "   gender  age   contract_type  monthly_charges  tenure\n",
       "0    Male   30        One year        91.558394      20\n",
       "1  Female   37        Two year        99.318027      34\n",
       "2    Male   71  Month-to-month        24.921362      26\n",
       "3    Male   24  Month-to-month        90.632502       5\n",
       "4    Male   32  Month-to-month        61.286322      61"
      ]
     },
     "execution_count": 76,
     "metadata": {},
     "output_type": "execute_result"
    }
   ],
   "source": [
    "df.head()"
   ]
  },
  {
   "cell_type": "markdown",
   "id": "c9bcef9d-c821-4970-b833-ce757a2b98ce",
   "metadata": {
    "tags": []
   },
   "source": [
    "## Apply label encoding to gender"
   ]
  },
  {
   "cell_type": "code",
   "execution_count": 77,
   "id": "d4d88100-874e-4d73-9cf6-4efc374e8788",
   "metadata": {
    "tags": []
   },
   "outputs": [],
   "source": [
    "df['gender'] = df['gender'].map({'Male': 0, 'Female': 1})"
   ]
  },
  {
   "cell_type": "code",
   "execution_count": 78,
   "id": "6ca13f3f-1d28-4d83-a527-b55103882492",
   "metadata": {
    "tags": []
   },
   "outputs": [
    {
     "data": {
      "text/html": [
       "<div>\n",
       "<style scoped>\n",
       "    .dataframe tbody tr th:only-of-type {\n",
       "        vertical-align: middle;\n",
       "    }\n",
       "\n",
       "    .dataframe tbody tr th {\n",
       "        vertical-align: top;\n",
       "    }\n",
       "\n",
       "    .dataframe thead th {\n",
       "        text-align: right;\n",
       "    }\n",
       "</style>\n",
       "<table border=\"1\" class=\"dataframe\">\n",
       "  <thead>\n",
       "    <tr style=\"text-align: right;\">\n",
       "      <th></th>\n",
       "      <th>gender</th>\n",
       "      <th>age</th>\n",
       "      <th>contract_type</th>\n",
       "      <th>monthly_charges</th>\n",
       "      <th>tenure</th>\n",
       "    </tr>\n",
       "  </thead>\n",
       "  <tbody>\n",
       "    <tr>\n",
       "      <th>0</th>\n",
       "      <td>0</td>\n",
       "      <td>30</td>\n",
       "      <td>One year</td>\n",
       "      <td>91.558394</td>\n",
       "      <td>20</td>\n",
       "    </tr>\n",
       "    <tr>\n",
       "      <th>1</th>\n",
       "      <td>1</td>\n",
       "      <td>37</td>\n",
       "      <td>Two year</td>\n",
       "      <td>99.318027</td>\n",
       "      <td>34</td>\n",
       "    </tr>\n",
       "    <tr>\n",
       "      <th>2</th>\n",
       "      <td>0</td>\n",
       "      <td>71</td>\n",
       "      <td>Month-to-month</td>\n",
       "      <td>24.921362</td>\n",
       "      <td>26</td>\n",
       "    </tr>\n",
       "    <tr>\n",
       "      <th>3</th>\n",
       "      <td>0</td>\n",
       "      <td>24</td>\n",
       "      <td>Month-to-month</td>\n",
       "      <td>90.632502</td>\n",
       "      <td>5</td>\n",
       "    </tr>\n",
       "    <tr>\n",
       "      <th>4</th>\n",
       "      <td>0</td>\n",
       "      <td>32</td>\n",
       "      <td>Month-to-month</td>\n",
       "      <td>61.286322</td>\n",
       "      <td>61</td>\n",
       "    </tr>\n",
       "  </tbody>\n",
       "</table>\n",
       "</div>"
      ],
      "text/plain": [
       "   gender  age   contract_type  monthly_charges  tenure\n",
       "0       0   30        One year        91.558394      20\n",
       "1       1   37        Two year        99.318027      34\n",
       "2       0   71  Month-to-month        24.921362      26\n",
       "3       0   24  Month-to-month        90.632502       5\n",
       "4       0   32  Month-to-month        61.286322      61"
      ]
     },
     "execution_count": 78,
     "metadata": {},
     "output_type": "execute_result"
    }
   ],
   "source": [
    "df.head()"
   ]
  },
  {
   "cell_type": "markdown",
   "id": "b905c556-4e0a-49e1-9395-b6295262c699",
   "metadata": {
    "tags": []
   },
   "source": [
    "## Apply one-hot encoding to contract type"
   ]
  },
  {
   "cell_type": "code",
   "execution_count": 79,
   "id": "eb0a2297-f8a9-4bfa-9002-67569e91dd28",
   "metadata": {
    "tags": []
   },
   "outputs": [],
   "source": [
    "contract_type_dummies = pd.get_dummies(df['contract_type'], prefix='contract_type')\n",
    "df = pd.concat([df, contract_type_dummies], axis=1)"
   ]
  },
  {
   "cell_type": "markdown",
   "id": "25c8ebd2-8ed8-4ed4-9646-b9df6f39219f",
   "metadata": {
    "tags": []
   },
   "source": [
    "## Drop the original categorical variables"
   ]
  },
  {
   "cell_type": "code",
   "execution_count": 80,
   "id": "e102fc6f-442b-4a3b-8ca2-fa93e58c22ab",
   "metadata": {
    "tags": []
   },
   "outputs": [],
   "source": [
    "df.drop(['gender', 'contract_type'], axis=1, inplace=True)"
   ]
  },
  {
   "cell_type": "code",
   "execution_count": 81,
   "id": "c2130aa2-6035-431a-80d8-cea7a421f450",
   "metadata": {
    "tags": []
   },
   "outputs": [
    {
     "data": {
      "text/html": [
       "<div>\n",
       "<style scoped>\n",
       "    .dataframe tbody tr th:only-of-type {\n",
       "        vertical-align: middle;\n",
       "    }\n",
       "\n",
       "    .dataframe tbody tr th {\n",
       "        vertical-align: top;\n",
       "    }\n",
       "\n",
       "    .dataframe thead th {\n",
       "        text-align: right;\n",
       "    }\n",
       "</style>\n",
       "<table border=\"1\" class=\"dataframe\">\n",
       "  <thead>\n",
       "    <tr style=\"text-align: right;\">\n",
       "      <th></th>\n",
       "      <th>age</th>\n",
       "      <th>monthly_charges</th>\n",
       "      <th>tenure</th>\n",
       "      <th>contract_type_Month-to-month</th>\n",
       "      <th>contract_type_One year</th>\n",
       "      <th>contract_type_Two year</th>\n",
       "    </tr>\n",
       "  </thead>\n",
       "  <tbody>\n",
       "    <tr>\n",
       "      <th>0</th>\n",
       "      <td>30</td>\n",
       "      <td>91.558394</td>\n",
       "      <td>20</td>\n",
       "      <td>0</td>\n",
       "      <td>1</td>\n",
       "      <td>0</td>\n",
       "    </tr>\n",
       "    <tr>\n",
       "      <th>1</th>\n",
       "      <td>37</td>\n",
       "      <td>99.318027</td>\n",
       "      <td>34</td>\n",
       "      <td>0</td>\n",
       "      <td>0</td>\n",
       "      <td>1</td>\n",
       "    </tr>\n",
       "    <tr>\n",
       "      <th>2</th>\n",
       "      <td>71</td>\n",
       "      <td>24.921362</td>\n",
       "      <td>26</td>\n",
       "      <td>1</td>\n",
       "      <td>0</td>\n",
       "      <td>0</td>\n",
       "    </tr>\n",
       "    <tr>\n",
       "      <th>3</th>\n",
       "      <td>24</td>\n",
       "      <td>90.632502</td>\n",
       "      <td>5</td>\n",
       "      <td>1</td>\n",
       "      <td>0</td>\n",
       "      <td>0</td>\n",
       "    </tr>\n",
       "    <tr>\n",
       "      <th>4</th>\n",
       "      <td>32</td>\n",
       "      <td>61.286322</td>\n",
       "      <td>61</td>\n",
       "      <td>1</td>\n",
       "      <td>0</td>\n",
       "      <td>0</td>\n",
       "    </tr>\n",
       "  </tbody>\n",
       "</table>\n",
       "</div>"
      ],
      "text/plain": [
       "   age  monthly_charges  tenure  contract_type_Month-to-month  \\\n",
       "0   30        91.558394      20                             0   \n",
       "1   37        99.318027      34                             0   \n",
       "2   71        24.921362      26                             1   \n",
       "3   24        90.632502       5                             1   \n",
       "4   32        61.286322      61                             1   \n",
       "\n",
       "   contract_type_One year  contract_type_Two year  \n",
       "0                       1                       0  \n",
       "1                       0                       1  \n",
       "2                       0                       0  \n",
       "3                       0                       0  \n",
       "4                       0                       0  "
      ]
     },
     "execution_count": 81,
     "metadata": {},
     "output_type": "execute_result"
    }
   ],
   "source": [
    "df.head()"
   ]
  }
 ],
 "metadata": {
  "kernelspec": {
   "display_name": "Python 3 (ipykernel)",
   "language": "python",
   "name": "python3"
  },
  "language_info": {
   "codemirror_mode": {
    "name": "ipython",
    "version": 3
   },
   "file_extension": ".py",
   "mimetype": "text/x-python",
   "name": "python",
   "nbconvert_exporter": "python",
   "pygments_lexer": "ipython3",
   "version": "3.11.2"
  }
 },
 "nbformat": 4,
 "nbformat_minor": 5
}
