{
 "cells": [
  {
   "cell_type": "markdown",
   "id": "6239bfc2-fd2c-4a28-90da-ae0d135def9d",
   "metadata": {},
   "source": [
    "# Q1. What is Elastic Net Regression and how does it differ from other regression techniques?\n",
    "## Elastic Net regression is a type of linear regression that combines both L1 (Lasso) and L2 (Ridge) regularization techniques to overcome the limitations of these individual methods.\n",
    "\n",
    "- ## Lasso regression uses L1 regularization to enforce sparsity, which means that it shrinks the coefficients of less important features to zero. In contrast, Ridge regression uses L2 regularization to reduce the magnitude of the coefficients of all the features. However, Lasso tends to be too aggressive in feature selection and may exclude important variables from the model, while Ridge may not effectively reduce the number of variables.\n",
    "\n",
    "- ## Elastic Net combines the strengths of both Lasso and Ridge, by adding a penalty term that is a weighted sum of both L1 and L2 norms of the coefficients. The relative weight of L1 and L2 regularization is controlled by a hyperparameter alpha. This allows Elastic Net to perform both feature selection and regularization, while overcoming the limitations of individual methods.\n",
    "\n",
    "### The key advantages of Elastic Net over other regression techniques are:\n",
    "\n",
    "- ### It can handle a large number of features, including highly correlated predictors, without overfitting.\n",
    "- ### It can identify and select important predictors while accounting for the effects of other predictors, leading to better generalization performance and interpretability.\n",
    "- ### It is less sensitive to outliers and less affected by multicollinearity compared to other linear regression methods.\n",
    "- ### It can be used for both linear and nonlinear regression models.\n",
    "### However, Elastic Net can be computationally expensive, especially when the number of predictors is large. It also requires tuning of the hyperparameter alpha, which can be a challenging task in practice."
   ]
  },
  {
   "cell_type": "markdown",
   "id": "9f750db6-3e92-47a5-9e62-02a9b6ea9f2f",
   "metadata": {},
   "source": []
  },
  {
   "cell_type": "markdown",
   "id": "96920962-ee14-40bf-9a4a-a03dc692b132",
   "metadata": {},
   "source": []
  },
  {
   "cell_type": "markdown",
   "id": "7122eb2a-32ab-46ce-8b00-c18afd15371e",
   "metadata": {},
   "source": []
  },
  {
   "cell_type": "markdown",
   "id": "99568748-6ccb-4043-9874-c4e7ceb36c66",
   "metadata": {},
   "source": []
  },
  {
   "cell_type": "markdown",
   "id": "67eb82c0-f1a7-42f4-83c3-d727cb2f2948",
   "metadata": {},
   "source": []
  },
  {
   "cell_type": "markdown",
   "id": "5f1e468c-2138-4054-b116-75e9ac6cd91c",
   "metadata": {},
   "source": [
    "# Q2. How do you choose the optimal values of the regularization parameters for Elastic Net Regression?\n",
    "### Choosing the optimal values of the regularization parameters for Elastic Net Regression can be done using a process called hyperparameter tuning. This involves selecting the values of the hyperparameters that result in the best performance of the model on a validation set or through cross-validation. There are various methods for hyperparameter tuning, including:\n",
    "\n",
    "- ### Grid Search: In this method, a grid of possible hyperparameters is specified, and the model is trained and evaluated on all possible combinations of the hyperparameters in the grid. The combination that produces the best performance on the validation set is selected as the optimal set of hyperparameters.\n",
    "\n",
    "- ### Random Search: In this method, random values for the hyperparameters are selected from a specified range or distribution, and the model is trained and evaluated on these random combinations. This process is repeated for a specified number of iterations, and the set of hyperparameters that results in the best performance is selected.\n",
    "\n",
    "- ### Bayesian Optimization: This is a more advanced method that involves building a probabilistic model of the objective function (i.e., the performance metric) and using it to iteratively select the next set of hyperparameters to evaluate. The objective function is evaluated on a limited set of hyperparameters, and the model is updated based on the observed results. The process is repeated until convergence to the optimal set of hyperparameters.\n",
    "\n",
    "- ### Genetic Algorithm: This method simulates the process of natural selection and evolution to find the optimal set of hyperparameters. A population of possible solutions (sets of hyperparameters) is randomly generated, and the best solutions are selected based on their fitness (performance metric). The selected solutions are then combined to form new solutions, which are evaluated, and the process is repeated until convergence.\n",
    "\n",
    "### In general, it is recommended to use cross-validation to evaluate the performance of different hyperparameter combinations and avoid overfitting. The optimal set of hyperparameters is then selected based on the best performance on the validation set or the average performance across multiple folds of cross-validation."
   ]
  },
  {
   "cell_type": "markdown",
   "id": "d297e458-b0a9-424c-bc9b-28ee382997f0",
   "metadata": {},
   "source": []
  },
  {
   "cell_type": "markdown",
   "id": "2d67c8d1-3131-4c4e-91a0-9673a31fd12d",
   "metadata": {},
   "source": []
  },
  {
   "cell_type": "markdown",
   "id": "6c1e5718-c76e-41c4-b3f3-65b6cf3089ec",
   "metadata": {},
   "source": []
  },
  {
   "cell_type": "markdown",
   "id": "37565cb2-1870-4f74-8ffc-6f05cb669170",
   "metadata": {},
   "source": []
  },
  {
   "cell_type": "markdown",
   "id": "b4135529-c821-40bb-901a-71d73705aa95",
   "metadata": {},
   "source": []
  },
  {
   "cell_type": "markdown",
   "id": "b1e492eb-7107-4fa3-becf-49c64f0f5cc5",
   "metadata": {},
   "source": [
    "# Q3. What are the advantages and disadvantages of Elastic Net Regression?\n",
    "## Advantages of Elastic Net Regression:\n",
    "\n",
    "- ### Reduces overfitting: Elastic Net Regression reduces overfitting by adding both L1 (Lasso) and L2 (Ridge) regularization terms. This helps to handle high-dimensional datasets with a large number of features.\n",
    "\n",
    "- ### Feature selection: Elastic Net Regression performs feature selection by shrinking the coefficients of less important features to zero. This leads to a sparse model, which is easy to interpret and reduces the risk of overfitting.\n",
    "\n",
    "- ### Handles correlated predictors: Elastic Net Regression handles highly correlated predictors by jointly selecting them and estimating their coefficients.\n",
    "\n",
    "- ### Improved prediction performance: Elastic Net Regression can improve the prediction performance compared to other regression methods by accounting for both the effects of important predictors and the correlations between predictors.\n",
    "\n",
    "- ### Robustness to outliers: Elastic Net Regression is robust to outliers due to the L1 regularization term, which reduces the impact of outliers on the model.\n",
    "\n",
    "## Disadvantages of Elastic Net Regression:\n",
    "\n",
    "- ### Computationally expensive: Elastic Net Regression can be computationally expensive, especially when the number of features is large. This is because it requires solving an optimization problem with two regularization terms.\n",
    "\n",
    "- ### Requires hyperparameter tuning: Elastic Net Regression requires tuning of the hyperparameters alpha and lambda to obtain the best performance. This can be a time-consuming process and requires expertise in model selection.\n",
    "\n",
    "- ### Limited interpretability: Although Elastic Net Regression can perform feature selection and create a sparse model, the resulting model may not be easily interpretable due to the combined effects of L1 and L2 regularization terms.\n",
    "\n",
    "- ### Nonlinear relationships: Elastic Net Regression is a linear model and may not capture nonlinear relationships between the predictors and the response variable. In such cases, more complex models such as tree-based models or neural networks may be more appropriate."
   ]
  },
  {
   "cell_type": "markdown",
   "id": "68213a3e-5868-4df6-9578-7d920fa6467a",
   "metadata": {},
   "source": []
  },
  {
   "cell_type": "markdown",
   "id": "68c3baaa-005c-4bd4-b118-1ba5a5219c77",
   "metadata": {},
   "source": []
  },
  {
   "cell_type": "markdown",
   "id": "5615745d-e6ff-439d-815e-d5b166719ba5",
   "metadata": {},
   "source": []
  },
  {
   "cell_type": "markdown",
   "id": "291f0893-1641-4404-b232-1441b5a72bbb",
   "metadata": {},
   "source": []
  },
  {
   "cell_type": "markdown",
   "id": "707b9d95-aeb5-4dd6-b3e6-340e9a5011e7",
   "metadata": {},
   "source": []
  },
  {
   "cell_type": "markdown",
   "id": "7a271c23-e7e6-468c-aa89-24ae97bad34d",
   "metadata": {},
   "source": [
    "# Q4. What are some common use cases for Elastic Net Regression?\n",
    "### Elastic Net Regression can be used in a variety of fields where linear regression models are applicable. Here are some common use cases for Elastic Net Regression:\n",
    "\n",
    "- ### Predictive modeling: Elastic Net Regression can be used to predict a continuous variable based on a set of predictor variables. This can be useful in fields such as finance, economics, and engineering.\n",
    "\n",
    "- ### Feature selection: Elastic Net Regression can be used to select a subset of important features from a large number of predictors. This can help to reduce the dimensionality of the dataset and improve the interpretability of the model.\n",
    "\n",
    "- ### High-dimensional data: Elastic Net Regression is particularly useful when dealing with high-dimensional datasets, where the number of predictors is much larger than the number of observations. This is common in fields such as genomics and bioinformatics.\n",
    "\n",
    "- ### Image and signal processing: Elastic Net Regression can be used to denoise images or signals by selecting relevant features and reducing the impact of noise.\n",
    "\n",
    "- ### Marketing and sales: Elastic Net Regression can be used to predict customer behavior and identify key drivers of sales.\n",
    "\n",
    "- ### Health care: Elastic Net Regression can be used to predict disease outcomes based on patient characteristics and medical history.\n",
    "### Overall, Elastic Net Regression is a versatile and powerful tool that can be used in many fields for predictive modeling, feature selection, and dimensionality reduction. Its ability to handle high-dimensional data and identify important predictors makes it particularly useful in fields such as genomics, finance, and marketing."
   ]
  },
  {
   "cell_type": "markdown",
   "id": "cd20310d-4f1d-4ac1-8a22-4114fbfcacff",
   "metadata": {},
   "source": []
  },
  {
   "cell_type": "markdown",
   "id": "e1794426-98e3-4da6-a50d-fc6b2e2edbef",
   "metadata": {},
   "source": []
  },
  {
   "cell_type": "markdown",
   "id": "4077705f-19cb-4d08-92c0-4c1a1ebccf19",
   "metadata": {},
   "source": []
  },
  {
   "cell_type": "markdown",
   "id": "734d4c7f-81c9-488b-8d5b-24af62232757",
   "metadata": {},
   "source": []
  },
  {
   "cell_type": "markdown",
   "id": "60a8ce3c-2c27-427d-9c97-767bad423d9c",
   "metadata": {},
   "source": []
  },
  {
   "cell_type": "markdown",
   "id": "2efba896-954f-4c1d-a517-38795574581b",
   "metadata": {},
   "source": [
    "# Q5. How do you interpret the coefficients in Elastic Net Regression?\n",
    "### In Elastic Net Regression, the coefficients can be interpreted in a similar way as in linear regression. However, due to the presence of both L1 and L2 regularization terms, the interpretation can be more complex. Here are some general guidelines for interpreting the coefficients in Elastic Net Regression:\n",
    "\n",
    "- ### Sign of the coefficient: The sign of the coefficient indicates the direction of the relationship between the predictor variable and the response variable. A positive coefficient means that an increase in the predictor variable leads to an increase in the response variable, while a negative coefficient means the opposite.\n",
    "\n",
    "- ### Magnitude of the coefficient: The magnitude of the coefficient indicates the strength of the relationship between the predictor variable and the response variable. A larger magnitude indicates a stronger relationship.\n",
    "\n",
    "- ### Importance of the variable: The importance of a variable can be inferred from the magnitude of its coefficient. Variables with larger coefficients are more important predictors of the response variable.\n",
    "\n",
    "- ### Sparsity of the model: In Elastic Net Regression, some coefficients may be exactly zero due to the L1 regularization term. This means that the corresponding predictor variable has been eliminated from the model and is not contributing to the prediction.\n",
    "\n",
    "### It's important to note that the interpretation of the coefficients in Elastic Net Regression can be more complex than in linear regression due to the presence of regularization terms. Also, the interpretation can depend on the specific values of the hyperparameters alpha and lambda used in the model. Therefore, it's recommended to carefully choose the hyperparameters and perform sensitivity analysis to ensure the robustness of the results."
   ]
  },
  {
   "cell_type": "markdown",
   "id": "93e5757b-24d1-445f-90c1-36b60c3b3f8e",
   "metadata": {},
   "source": []
  },
  {
   "cell_type": "markdown",
   "id": "9d2f3434-f9d2-4eb1-b143-c0efaa2dc022",
   "metadata": {},
   "source": []
  },
  {
   "cell_type": "markdown",
   "id": "ed13631f-5d2c-483a-ad28-f1031864fc3e",
   "metadata": {},
   "source": []
  },
  {
   "cell_type": "markdown",
   "id": "5963dbda-4930-406b-b67e-940dd062b866",
   "metadata": {},
   "source": []
  },
  {
   "cell_type": "markdown",
   "id": "15a14ce0-d81f-4ef3-90f2-deb0a2b38ef1",
   "metadata": {},
   "source": []
  },
  {
   "cell_type": "markdown",
   "id": "627411aa-672a-4977-b523-e8da16419a16",
   "metadata": {
    "tags": []
   },
   "source": [
    "# Q6. How do you handle missing values when using Elastic Net Regression?\n",
    "### Handling missing values is an important step in any machine learning algorithm, including Elastic Net Regression. Here are some common strategies for handling missing values when using Elastic Net Regression:\n",
    "\n",
    "- ### Imputation: One common strategy is to impute the missing values with estimated values. This can be done using various imputation techniques such as mean imputation, median imputation, or regression imputation. Imputing missing values can help to retain more data and reduce the potential bias introduced by excluding observations with missing values.\n",
    "\n",
    "- ### Deletion: Another strategy is to simply delete the observations with missing values. This is appropriate when the number of observations with missing values is small relative to the total number of observations, and when the missing values are believed to be missing completely at random (MCAR) or missing at random (MAR).\n",
    "\n",
    "- ### Indicator variables: Another strategy is to create an indicator variable for each feature with missing values. This allows the model to use the information from the other features while still accounting for the missing values.\n",
    "\n",
    "- ### Model-based imputation: A more sophisticated strategy is to use a model-based imputation method that takes into account the relationship between the missing and observed values. This can be done using techniques such as regression imputation, multiple imputation, or nearest-neighbor imputation.\n",
    "\n",
    "### It's important to carefully consider the missing value strategy used for Elastic Net Regression, as it can have a significant impact on the performance of the model. It's also important to ensure that the missing value strategy is appropriate for the specific dataset and research question at hand."
   ]
  },
  {
   "cell_type": "markdown",
   "id": "dea02417-6dc4-40ce-9ff5-c1bfc38cd178",
   "metadata": {},
   "source": []
  },
  {
   "cell_type": "markdown",
   "id": "cb433173-a211-4257-9efb-5c3e06664b22",
   "metadata": {},
   "source": []
  },
  {
   "cell_type": "markdown",
   "id": "f811d91e-80c6-49c0-9efd-00dd408ec496",
   "metadata": {},
   "source": []
  },
  {
   "cell_type": "markdown",
   "id": "731b954d-79ab-4b02-abdc-2f0ea685fe4e",
   "metadata": {},
   "source": []
  },
  {
   "cell_type": "markdown",
   "id": "33d8dbe7-a923-4d83-84f6-9146230a1117",
   "metadata": {},
   "source": []
  },
  {
   "cell_type": "markdown",
   "id": "be142b09-33ea-488c-b188-6a5b7f877d1b",
   "metadata": {},
   "source": [
    "# Q7. How do you use Elastic Net Regression for feature selection?\n",
    "### Elastic Net Regression can be used for feature selection by exploiting the L1 regularization term in the cost function. The L1 regularization term introduces sparsity in the model by shrinking some of the coefficients to exactly zero. The features corresponding to these zero coefficients are excluded from the model, effectively performing feature selection. Here are the general steps for using Elastic Net Regression for feature selection:\n",
    "\n",
    "- ### Data pre-processing: The first step is to pre-process the data by handling missing values, scaling the features, and encoding categorical variables as necessary.\n",
    "\n",
    "- ### Splitting the data: The data is split into training and testing sets to evaluate the performance of the model.\n",
    "\n",
    "- ### Tuning the hyperparameters: The hyperparameters alpha and lambda are tuned using cross-validation on the training set to find the optimal values that balance the bias-variance trade-off.\n",
    "\n",
    "- ### Fitting the model: The Elastic Net Regression model is fitted on the training set using the optimal hyperparameters.\n",
    "\n",
    "- ### Selecting important features: The features with non-zero coefficients are identified as important predictors of the response variable. The corresponding features can be selected for further analysis or used to build a simpler and more interpretable model.\n",
    "\n",
    "- ### Evaluating the performance: The performance of the selected features is evaluated on the testing set using appropriate metrics such as R-squared, mean squared error, or cross-validated error.\n",
    "\n",
    "### It's important to note that Elastic Net Regression can also be used in combination with other feature selection techniques such as principal component analysis (PCA) or mutual information-based feature selection to further improve the feature selection process."
   ]
  },
  {
   "cell_type": "markdown",
   "id": "d289e7f5-3644-41c6-86f1-800ed5329ac9",
   "metadata": {},
   "source": []
  },
  {
   "cell_type": "markdown",
   "id": "bcc04063-6aac-434b-bcb3-9238cbbf9fc6",
   "metadata": {},
   "source": []
  },
  {
   "cell_type": "markdown",
   "id": "907ea040-734f-4283-88ef-82cdc1f4027e",
   "metadata": {},
   "source": []
  },
  {
   "cell_type": "markdown",
   "id": "71eb7a50-6194-4dd4-b8a2-6c2ddf31e34b",
   "metadata": {},
   "source": []
  },
  {
   "cell_type": "markdown",
   "id": "aec9b6a8-c293-4774-a016-6dc6922cd260",
   "metadata": {},
   "source": []
  },
  {
   "cell_type": "markdown",
   "id": "692bc29a-e86a-467e-b692-071bada62fab",
   "metadata": {
    "tags": []
   },
   "source": [
    "# Q8. How do you pickle and unpickle a trained Elastic Net Regression model in Python?\n",
    "### In Python, the pickle module can be used to serialize and deserialize Python objects, including trained Elastic Net Regression models. Here are the general steps for pickling and unpickling a trained Elastic Net Regression model:\n",
    "\n",
    "\n",
    "\n"
   ]
  },
  {
   "cell_type": "markdown",
   "id": "88b8ae69-db50-4c2e-a014-5aa05de6b337",
   "metadata": {
    "tags": []
   },
   "source": [
    "- ### Train the Elastic Net Regression model on the data.\n",
    "### Suppose we sample model"
   ]
  },
  {
   "cell_type": "code",
   "execution_count": 15,
   "id": "c148ca09-bac3-47ca-b1d0-81b102c54db7",
   "metadata": {
    "tags": []
   },
   "outputs": [],
   "source": [
    "model = [True,2,3,'machineLearning']"
   ]
  },
  {
   "cell_type": "markdown",
   "id": "f46cf19c-24c4-4df5-acfa-a9ed12b931bf",
   "metadata": {},
   "source": [
    "- ### Import the pickle module:"
   ]
  },
  {
   "cell_type": "code",
   "execution_count": 12,
   "id": "44419415-2148-4077-90cd-37f9347fc06f",
   "metadata": {
    "tags": []
   },
   "outputs": [],
   "source": [
    "import pickle"
   ]
  },
  {
   "cell_type": "markdown",
   "id": "090be5b5-b5ec-45a4-9d87-4d3cecab5675",
   "metadata": {},
   "source": [
    "- ### Pickle the trained model"
   ]
  },
  {
   "cell_type": "code",
   "execution_count": 16,
   "id": "2d78d613-d37f-4d57-b8fa-713359c62dd0",
   "metadata": {
    "tags": []
   },
   "outputs": [],
   "source": [
    "pickle.dump(model,open('model.pkl','wb'))"
   ]
  },
  {
   "cell_type": "markdown",
   "id": "94468c8f-9322-43cf-8902-e1388be5df8a",
   "metadata": {},
   "source": [
    "- #### This saves the trained model to a file called 'model.pkl'"
   ]
  },
  {
   "cell_type": "markdown",
   "id": "8010fc0b-db98-41b7-b1a0-b94115625d47",
   "metadata": {},
   "source": [
    "- ### Unpickle the model"
   ]
  },
  {
   "cell_type": "code",
   "execution_count": 23,
   "id": "5d1ec445-19c8-41bb-8a43-478e645cf276",
   "metadata": {
    "tags": []
   },
   "outputs": [],
   "source": [
    "unpicle_model = pickle.load(open('model.pkl','rb'))"
   ]
  },
  {
   "cell_type": "markdown",
   "id": "77c6bb42-00af-4e6a-a99b-06f13149d348",
   "metadata": {
    "tags": []
   },
   "source": [
    "- #### This loads the saved model from the file and assigns it to the variable 'unpicle_model'."
   ]
  },
  {
   "cell_type": "code",
   "execution_count": 25,
   "id": "44f55f39-8085-4e15-a1eb-d0355aa09a19",
   "metadata": {
    "tags": []
   },
   "outputs": [
    {
     "data": {
      "text/plain": [
       "[True, 2, 3, 'machineLearning']"
      ]
     },
     "execution_count": 25,
     "metadata": {},
     "output_type": "execute_result"
    }
   ],
   "source": [
    "unpicle_model"
   ]
  },
  {
   "cell_type": "markdown",
   "id": "e3caa41d-8151-4ee1-96c1-b39ad1a14680",
   "metadata": {},
   "source": [
    "- ## Note:\n",
    "### When pickling and unpickling a trained model, it's important to ensure that the same version of scikit-learn or other required packages are used to avoid compatibility issues. It's also recommended to compress the pickled model file to save disk space and improve I/O performance using the gzip module. Here is an example of pickling a compressed Elastic Net Regression model:"
   ]
  },
  {
   "cell_type": "code",
   "execution_count": 27,
   "id": "a5538648-108b-475f-ab04-beeac469d12a",
   "metadata": {
    "tags": []
   },
   "outputs": [
    {
     "data": {
      "text/plain": [
       "[True, 2, 3, 'machineLearning']"
      ]
     },
     "execution_count": 27,
     "metadata": {},
     "output_type": "execute_result"
    }
   ],
   "source": [
    "import pickle\n",
    "import gzip\n",
    "\n",
    "pickle.dump(model,gzip.open('gzip_model.pkl.gz','wb'))    \n",
    "gzip_unpicle_model = pickle.load(gzip.open('gzip_model.pkl.gz','rb'))\n",
    "gzip_unpicle_model"
   ]
  },
  {
   "cell_type": "markdown",
   "id": "9583f54a-aca6-418b-8424-9113254f224e",
   "metadata": {},
   "source": []
  },
  {
   "cell_type": "markdown",
   "id": "ad6463c7-8411-4d09-a0cc-1ebca3c1d21e",
   "metadata": {},
   "source": []
  },
  {
   "cell_type": "markdown",
   "id": "d14c14ed-0f10-482d-bcf9-fff3491ba7ff",
   "metadata": {},
   "source": []
  },
  {
   "cell_type": "markdown",
   "id": "38d749cd-f842-4853-b781-f11969b89f3f",
   "metadata": {},
   "source": []
  },
  {
   "cell_type": "markdown",
   "id": "86a7717e-6942-4c2b-aa3f-c0f51eeb7dbb",
   "metadata": {},
   "source": []
  },
  {
   "cell_type": "markdown",
   "id": "2c4c096d-c428-45d8-9e64-e6444bcda2c9",
   "metadata": {
    "tags": []
   },
   "source": [
    "# Q9. What is the purpose of pickling a model in machine learning?\n",
    "## In machine learning, pickling a model refers to the process of serializing a trained model into a file that can be saved and later loaded into memory to make predictions on new data. The purpose of pickling a model is to save time and resources, especially when working with large datasets, by avoiding the need to retrain the model every time it needs to be used.\n",
    "\n",
    "## Once a model has been trained on a dataset, it can be time-consuming and computationally expensive to retrain the model on the same or similar datasets. By pickling the trained model, it can be saved to disk and later loaded into memory as needed, allowing for quick and efficient predictions on new data without the need for retraining.\n",
    "\n",
    "## Pickling also allows for easy sharing of trained models between team members or across different environments. By sharing a pickled model file, others can load the model into their own Python environment and use it to make predictions without the need for retraining or access to the original training data.\n",
    "\n",
    "### Overall, pickling a trained model provides a convenient and efficient way to save, share, and reuse machine learning models, which can save time and resources in the development and deployment of machine learning applications."
   ]
  }
 ],
 "metadata": {
  "kernelspec": {
   "display_name": "Python 3 (ipykernel)",
   "language": "python",
   "name": "python3"
  },
  "language_info": {
   "codemirror_mode": {
    "name": "ipython",
    "version": 3
   },
   "file_extension": ".py",
   "mimetype": "text/x-python",
   "name": "python",
   "nbconvert_exporter": "python",
   "pygments_lexer": "ipython3",
   "version": "3.11.2"
  }
 },
 "nbformat": 4,
 "nbformat_minor": 5
}
