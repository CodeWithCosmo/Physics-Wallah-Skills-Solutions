{
 "cells": [
  {
   "cell_type": "markdown",
   "id": "e3858348-9cf2-46a8-b583-62a17e75209b",
   "metadata": {},
   "source": [
    "# 1\n",
    "\n",
    "#### Multithreading in Python is a technique used to run multiple threads (also called subtasks) concurrently within a single process. A thread is a lightweight process that can execute independently, while sharing the same memory space as the main thread of the program.\n",
    "#### In python, we can achive multithreading using 'threading' module."
   ]
  },
  {
   "cell_type": "code",
   "execution_count": null,
   "id": "11601d51-b8d0-4006-8d2a-8c4bf5115c9d",
   "metadata": {},
   "outputs": [],
   "source": []
  },
  {
   "cell_type": "code",
   "execution_count": null,
   "id": "1079f1e9-6317-498c-a20d-bf26a242eb81",
   "metadata": {},
   "outputs": [],
   "source": []
  },
  {
   "cell_type": "markdown",
   "id": "67d88c2f-0ef5-43b3-9b5d-47f57d2e4a41",
   "metadata": {},
   "source": [
    "# 2\n",
    "### The 'threading' module is used in Python to create and manage threads within a single process.\n",
    "#### A. The 'active_count()' method is used to return the number of active threads in the current thread's thread group. The active_count() method is a class method of the threading module, and it returns an integer representing the number of threads that are currently running.\n",
    "#### B.The 'current_thread()' method returns the current thread object, which can be useful in a multithreaded program for identifying the current thread and its attributes, such as the thread name, ID, or other properties.\n",
    "#### C. The 'enumerate()' function takes no arguments and returns a list of Thread objects that represent all currently active threads. Each thread object returned by enumerate() includes the name and thread ID of the thread."
   ]
  },
  {
   "cell_type": "code",
   "execution_count": null,
   "id": "c2ec5081-a2e0-4b67-abe0-b7ca5b00265f",
   "metadata": {
    "tags": []
   },
   "outputs": [],
   "source": []
  },
  {
   "cell_type": "code",
   "execution_count": null,
   "id": "e1b247cf-35c5-4194-8c66-e61ebfbb0f7f",
   "metadata": {},
   "outputs": [],
   "source": []
  },
  {
   "cell_type": "markdown",
   "id": "286d85cf-cbf3-4deb-ad97-7b193582f04e",
   "metadata": {},
   "source": [
    "# 3\n",
    "#### A.run(): The run() method is called when a thread is started using the start() method. This method should be overridden in a subclass of the Thread class to define the thread's behavior. When the start() method is called, it creates a new thread and then calls the run() method of that thread.\n",
    "\n",
    "#### B.start(): The start() method is used to start a new thread. When this method is called, a new thread is created and the run() method of that thread is called. It is important to note that the start() method does not wait for the thread to finish before returning, so the new thread runs in parallel with the calling thread.\n",
    "\n",
    "#### C.join(): The join() method is used to wait for a thread to finish before continuing with the program's execution. When this method is called, the calling thread will block until the target thread has finished. This can be useful for ensuring that a thread has completed its work before continuing with dependent tasks.\n",
    "\n",
    "#### D.isAlive(): The isAlive() method is used to determine if a thread is still running. When this method is called, it returns True if the thread is still running, and False otherwise."
   ]
  },
  {
   "cell_type": "code",
   "execution_count": null,
   "id": "bcca04d4-cc22-40f9-b013-d11b672dd7bf",
   "metadata": {},
   "outputs": [],
   "source": []
  },
  {
   "cell_type": "code",
   "execution_count": null,
   "id": "387d23db-d5be-4e3b-9c2b-73ebf3713976",
   "metadata": {},
   "outputs": [],
   "source": []
  },
  {
   "cell_type": "markdown",
   "id": "9978c0d0-b623-4e6f-92c9-a7d2f3266e96",
   "metadata": {},
   "source": [
    "# 4\n",
    "### printing the list of squares and cubes using multithreading"
   ]
  },
  {
   "cell_type": "code",
   "execution_count": 32,
   "id": "cdf519e3-ded6-4229-9a63-29a1516ce5eb",
   "metadata": {
    "tags": []
   },
   "outputs": [
    {
     "name": "stdout",
     "output_type": "stream",
     "text": [
      "[1, 4, 9, 16, 25, 36, 49, 64, 81]\n",
      "[1, 8, 27, 64, 125, 216, 343, 512, 729]\n"
     ]
    }
   ],
   "source": [
    "import threading\n",
    "\n",
    "lis = [1,2,3,4,5,6,7,8,9]\n",
    "def squares():\n",
    "    print(list(map(lambda x : x**2, lis)))\n",
    "def cubes():\n",
    "    print(list(map(lambda x : x**3 , lis)))\n",
    "\n",
    "t1 = threading.Thread(target = squares)\n",
    "t2 = threading.Thread(target = cubes)\n",
    "\n",
    "t1.start() # prints the list of squares\n",
    "t2.start() # prints the list of cubes"
   ]
  },
  {
   "cell_type": "code",
   "execution_count": null,
   "id": "0c3d0e00-365d-4101-8af0-235f81470d48",
   "metadata": {},
   "outputs": [],
   "source": []
  },
  {
   "cell_type": "code",
   "execution_count": null,
   "id": "fe29ab5a-c2ed-4f94-9291-ee7498754442",
   "metadata": {},
   "outputs": [],
   "source": []
  },
  {
   "cell_type": "markdown",
   "id": "a1a619fd-353a-4f6d-b3d1-ead5b95fdb50",
   "metadata": {},
   "source": [
    "# 5\n",
    "## Advantages of Multithreading\n",
    "#### 1.Improved performance: By running multiple threads concurrently, multithreading can improve the performance of programs that are I/O bound.\n",
    "\n",
    "#### 2.Better resource utilization: Multithreading allows programs to use the available CPU resources more efficiently, as each thread can run on a different CPU core simultaneously.\n",
    "\n",
    "#### 3.Simplified code: In some cases, multithreading can make the code simpler, as it allows the program to be written in a more natural way."
   ]
  },
  {
   "cell_type": "markdown",
   "id": "e90b7c52-cc53-4dd1-992e-eed042e21a85",
   "metadata": {
    "tags": []
   },
   "source": [
    "## Disadvantages of Multithreading\n",
    "#### 1. Increased complexity: Multithreaded programs are generally more complex than single-threaded programs, as they need to manage the synchronization and communication between threads, which can be error-prone.\n",
    "#### 2.Synchronization issues: Multithreading can cause synchronization issues, such as race conditions and deadlocks, which can lead to unpredictable and hard-to-debug behavior.\n",
    "\n",
    "#### 3.Resource contention: When multiple threads access the same resources, such as shared memory or I/O devices, there can be contention for these resources, leading to decreased performance or even program crashes.\n",
    "\n",
    "#### 4.Limited scaling: Multithreading in Python is limited by the Global Interpreter Lock (GIL), which restricts parallel execution of Python code, making it unsuitable for parallelizing CPU-bound tasks."
   ]
  },
  {
   "cell_type": "code",
   "execution_count": null,
   "id": "1173a411-53d9-4795-8691-cce5871c8f40",
   "metadata": {},
   "outputs": [],
   "source": []
  },
  {
   "cell_type": "code",
   "execution_count": null,
   "id": "0e72506f-125b-41b4-aff3-c67345d080a9",
   "metadata": {},
   "outputs": [],
   "source": []
  },
  {
   "cell_type": "markdown",
   "id": "2b57e83e-91fc-48ba-aea3-246d55a2ea8b",
   "metadata": {},
   "source": [
    "# 6\n",
    "## Deadlock:\n",
    "#### Deadlock is a situation where two or more threads are waiting for each other to release a resource or lock, which results in all threads being blocked and unable to proceed. Deadlocks can occur when threads hold locks on resources while waiting for other locks, creating a circular dependency that cannot be resolved. Deadlocks can lead to programs hanging and becoming unresponsive."
   ]
  },
  {
   "cell_type": "markdown",
   "id": "0acb5399-404f-4e6e-b161-a883a1436bda",
   "metadata": {
    "tags": []
   },
   "source": [
    "## Race condition:\n",
    "#### A race condition is a situation where the behavior of a program depends on the timing and interleaving of concurrent operations. Race conditions can occur when two or more threads access shared data or resources concurrently without proper synchronization. The result is unpredictable and often incorrect behavior, as the order in which the threads execute can affect the final result."
   ]
  }
 ],
 "metadata": {
  "kernelspec": {
   "display_name": "Python 3",
   "language": "python",
   "name": "python3"
  },
  "language_info": {
   "codemirror_mode": {
    "name": "ipython",
    "version": 3
   },
   "file_extension": ".py",
   "mimetype": "text/x-python",
   "name": "python",
   "nbconvert_exporter": "python",
   "pygments_lexer": "ipython3",
   "version": "3.11.1"
  },
  "vscode": {
   "interpreter": {
    "hash": "60604c6687abd3d44db2988d94478afd71bdd2eba4a4e06208197b7b67afacd2"
   }
  }
 },
 "nbformat": 4,
 "nbformat_minor": 5
}
