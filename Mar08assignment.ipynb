{
 "cells": [
  {
   "cell_type": "markdown",
   "id": "d0b15af4-0e5e-40a3-9369-97f1155a8643",
   "metadata": {},
   "source": [
    "# Q1. What is the Probability density function?\n",
    "## The probability density function (PDF) is a mathematical function that describes the probability distribution of a random variable. The PDF is used to specify the probability of the random variable falling within a particular range of values, as opposed to taking on any one specific value.\n",
    "\n",
    "## Formally, the PDF is defined as the derivative of the cumulative distribution function (CDF) of a continuous random variable. The CDF gives the probability that the random variable takes on a value less than or equal to a given value.\n",
    "\n",
    "## The PDF is a non-negative function, and the area under the curve of the PDF over the entire range of values of the random variable is equal to one. This means that the integral of the PDF over the entire range of the random variable gives the probability that the random variable takes on a value in that range.\n",
    "\n",
    "## The PDF is a fundamental concept in probability theory and is used to model and analyze a wide range of phenomena in science, engineering, and finance, among other fields."
   ]
  },
  {
   "cell_type": "markdown",
   "id": "e9075906-61eb-400d-8f0c-2c2395379a36",
   "metadata": {},
   "source": []
  },
  {
   "cell_type": "markdown",
   "id": "4e867096-84b5-4e0b-8b2c-3e1f4410bb08",
   "metadata": {},
   "source": []
  },
  {
   "cell_type": "markdown",
   "id": "0dd83abf-73d6-4241-affe-600845043370",
   "metadata": {},
   "source": []
  },
  {
   "cell_type": "markdown",
   "id": "533c8538-a05d-474f-8e82-b99433ecc97a",
   "metadata": {
    "tags": []
   },
   "source": [
    "# Q2. What are the types of Probability distribution?\n",
    "## There are many types of probability distributions, but some of the most commonly used ones include:\n",
    "\n",
    "### 1.Normal Distribution: Also known as the Gaussian distribution, it is a continuous probability distribution that is symmetric and bell-shaped. It is commonly used to model data that are approximately normally distributed.\n",
    "\n",
    "### 2.Binomial Distribution: This is a discrete probability distribution that models the probability of a certain number of successes in a fixed number of trials. It is used when each trial is independent and has only two possible outcomes (success or failure).\n",
    "\n",
    "### 3.Poisson Distribution: This is a discrete probability distribution that models the number of occurrences of an event in a fixed interval of time or space. It is commonly used to model rare events.\n",
    "\n",
    "### 4.Exponential Distribution: This is a continuous probability distribution that models the time between two consecutive events in a Poisson process. It is commonly used to model waiting times or failure times.\n",
    "\n",
    "### 5.Uniform Distribution: This is a continuous probability distribution that models events that are equally likely to occur over a certain interval. It is commonly used when there is no prior information about the distribution of the data.\n",
    "\n",
    "### 6.Gamma Distribution: This is a continuous probability distribution that is used to model the waiting time until a certain number of events have occurred in a Poisson process.\n",
    "### 7.Bernoulli Distribution: This is a discrete probability distribution that models the probability of success or failure in a single trial. It is a special case of the binomial distribution where the number of trials is one.\n",
    "\n",
    "### 8.Beta Distribution: This is a continuous probability distribution that is used to model probabilities or proportions. It is commonly used as a prior distribution for Bayesian inference.\n",
    "\n",
    "### 9.Chi-Square Distribution: This is a continuous probability distribution that arises in the context of hypothesis testing and estimation of variance. It is commonly used in statistics to test for goodness of fit or to compare variances.\n",
    "\n",
    "### 10.Student's t-Distribution: This is a continuous probability distribution that arises in the context of hypothesis testing and estimation of means. It is commonly used in statistics to test for differences between means when the sample sizes are small.\n",
    "\n",
    "### 11.Weibull Distribution: This is a continuous probability distribution that is used to model the time until failure in reliability analysis. It is commonly used in engineering and survival analysis."
   ]
  },
  {
   "cell_type": "markdown",
   "id": "fe5c5b4d-5177-412c-b27a-48a090b48e0d",
   "metadata": {},
   "source": []
  },
  {
   "cell_type": "markdown",
   "id": "7ad893ac-02cf-450a-aae0-9aae6dc92486",
   "metadata": {},
   "source": []
  },
  {
   "cell_type": "markdown",
   "id": "bad7ddcc-f238-4b15-848a-de389ff46a1f",
   "metadata": {},
   "source": []
  },
  {
   "cell_type": "markdown",
   "id": "d76918cf-0c18-4510-b383-f9df9e6eccbd",
   "metadata": {},
   "source": [
    "# Q3. Write a Python function to calculate the probability density function of a normal distribution with given mean and standard deviation at a given point.\n",
    "### Here is a Python function that calculates the probability density function (PDF) of a normal distribution at a given point x, given the mean mu and standard deviation sigma:"
   ]
  },
  {
   "cell_type": "code",
   "execution_count": 3,
   "id": "808c9cad-a5ca-423d-a788-c2b36ac3ebe3",
   "metadata": {
    "tags": []
   },
   "outputs": [],
   "source": [
    "import math\n",
    "\n",
    "def normal_pdf(x, mu, sigma):\n",
    "    \"\"\"\n",
    "    Calculates the probability density function (PDF) of a normal distribution\n",
    "    at a given point x, given the mean mu and standard deviation sigma.\n",
    "    \"\"\"\n",
    "    exponent = -((x - mu) ** 2) / (2 * sigma ** 2)\n",
    "    coefficient = 1 / (math.sqrt(2 * math.pi) * sigma)\n",
    "    pdf = coefficient * math.exp(exponent)\n",
    "    return pdf"
   ]
  },
  {
   "cell_type": "code",
   "execution_count": 5,
   "id": "64e49a1e-d2ca-4446-b536-b3f8818e3a80",
   "metadata": {
    "tags": []
   },
   "outputs": [
    {
     "name": "stdout",
     "output_type": "stream",
     "text": [
      "0.48394144903828673\n"
     ]
    }
   ],
   "source": [
    "pdf_value = normal_pdf(2.5, 3, 0.5)\n",
    "print(pdf_value)"
   ]
  },
  {
   "cell_type": "markdown",
   "id": "b969c2a3-8d2a-4b9e-8f14-2807a2503618",
   "metadata": {},
   "source": []
  },
  {
   "cell_type": "markdown",
   "id": "9a35528c-ac6f-431d-b66d-a4658a8203b7",
   "metadata": {},
   "source": []
  },
  {
   "cell_type": "markdown",
   "id": "4744017d-55da-4276-ab98-c98e058f7ed1",
   "metadata": {},
   "source": []
  },
  {
   "cell_type": "markdown",
   "id": "3fc6a2fa-883e-4339-b79f-37e3821731ce",
   "metadata": {},
   "source": [
    "# Q4. What are the properties of Binomial distribution? Give two examples of events where binomial distribution can be applied.\n",
    "## The properties of a Binomial distribution are:\n",
    "\n",
    "### 1.The binomial distribution is a discrete probability distribution that describes the number of successes in a fixed number of independent trials, where each trial has only two possible outcomes, usually labeled as success or failure.\n",
    "\n",
    "### 2.The probability of success on any given trial remains constant throughout all trials, denoted by p, and the probability of failure is 1-p.\n",
    "\n",
    "### 3.The number of trials is fixed and denoted by n.\n",
    "\n",
    "### 4.The random variable X, which represents the number of successes in n trials, has a binomial distribution.\n",
    "\n",
    "### 5.The mean of a binomial distribution is given by the product of the number of trials and the probability of success, i.e., E(X) = np.\n",
    "\n",
    "### 6.The variance of a binomial distribution is given by the product of the number of trials, the probability of success, and the probability of failure, i.e., Var(X) = np(1-p).\n",
    "\n",
    "## Examples of events where binomial distribution can be applied are:\n",
    "\n",
    "### 1.Tossing a coin: Suppose we toss a fair coin 10 times, and we want to know the probability of getting exactly 5 heads. Since each toss is independent and has only two possible outcomes, heads or tails, the number of heads in 10 tosses follows a binomial distribution with n = 10 and p = 0.5.\n",
    "\n",
    "### 2.Defective items in a batch: Suppose a factory produces a large batch of items, and we want to know the probability of getting exactly 2 defective items in a batch of 20. Since each item in the batch is either defective or non-defective, and the probability of a defective item remains constant throughout the batch, the number of defective items in a batch of 20 follows a binomial distribution with n = 20 and a known value of p."
   ]
  },
  {
   "cell_type": "markdown",
   "id": "842997f3-4241-40aa-bf66-b85a2764f874",
   "metadata": {},
   "source": []
  },
  {
   "cell_type": "markdown",
   "id": "5dc6755a-5d30-4dce-9ee4-172ea6638f22",
   "metadata": {},
   "source": []
  },
  {
   "cell_type": "markdown",
   "id": "0d31868b-5e8b-4c84-aa1a-6658b45dcd9a",
   "metadata": {},
   "source": []
  },
  {
   "cell_type": "markdown",
   "id": "4570f086-6a94-43e1-912a-8d3a39552367",
   "metadata": {},
   "source": [
    "# Q5. Generate a random sample of size 1000 from a binomial distribution with probability of success 0.4 and plot a histogram of the results using matplotlib."
   ]
  },
  {
   "cell_type": "code",
   "execution_count": 6,
   "id": "97b1b96e-02b9-45df-96d1-da10b8330fb7",
   "metadata": {
    "tags": []
   },
   "outputs": [
    {
     "data": {
      "image/png": "[encoded data removed]",
      "text/plain": [
       "<Figure size 640x480 with 1 Axes>"
      ]
     },
     "metadata": {},
     "output_type": "display_data"
    }
   ],
   "source": [
    "import numpy as np\n",
    "import matplotlib.pyplot as plt\n",
    "\n",
    "# Set the parameters of the binomial distribution\n",
    "n = 1  # number of trials per experiment (in this case, only one trial per experiment)\n",
    "p = 0.4  # probability of success\n",
    "\n",
    "# Generate a random sample of size 1000 from the binomial distribution\n",
    "sample = np.random.binomial(n, p, size=1000)\n",
    "\n",
    "# Plot a histogram of the results\n",
    "plt.hist(sample, bins=range(3), align='left', rwidth=0.8)\n",
    "\n",
    "# Add axis labels and a title\n",
    "plt.xlabel('Number of successes')\n",
    "plt.ylabel('Frequency')\n",
    "plt.title('Histogram of a binomial distribution with p=0.4')\n",
    "\n",
    "# Show the plot\n",
    "plt.show()"
   ]
  },
  {
   "cell_type": "markdown",
   "id": "dd2b3f67-706f-4f19-b362-584cbbe45c9d",
   "metadata": {},
   "source": []
  },
  {
   "cell_type": "markdown",
   "id": "91bd7d92-0789-44f4-bb50-eaf4c249659f",
   "metadata": {},
   "source": []
  },
  {
   "cell_type": "markdown",
   "id": "0ae9624a-568b-4814-82c5-c06c644301cd",
   "metadata": {},
   "source": []
  },
  {
   "cell_type": "markdown",
   "id": "8ff9a4eb-33c1-4e27-8623-02d6bf7e1cd9",
   "metadata": {},
   "source": [
    "# Q6. Write a Python function to calculate the cumulative distribution function of a Poisson distribution with given mean at a given point."
   ]
  },
  {
   "cell_type": "code",
   "execution_count": 7,
   "id": "8be92829-912e-47f0-b1a1-e0c6d7ae9710",
   "metadata": {
    "tags": []
   },
   "outputs": [],
   "source": [
    "import math\n",
    "\n",
    "def poisson_cdf(k, mu):\n",
    "    \"\"\"\n",
    "    Calculates the cumulative distribution function (CDF) of a Poisson distribution\n",
    "    at a given point k, given the mean mu.\n",
    "    \"\"\"\n",
    "    cdf = 0\n",
    "    for i in range(k+1):\n",
    "        cdf += (math.exp(-mu) * mu**i) / math.factorial(i)\n",
    "    return cdf"
   ]
  },
  {
   "cell_type": "code",
   "execution_count": 8,
   "id": "00063914-44a9-4fd6-a76e-a71cfd3656c6",
   "metadata": {
    "tags": []
   },
   "outputs": [
    {
     "name": "stdout",
     "output_type": "stream",
     "text": [
      "0.7575761331330659\n"
     ]
    }
   ],
   "source": [
    "cdf_value = poisson_cdf(3, 2.5)\n",
    "print(cdf_value)"
   ]
  },
  {
   "cell_type": "markdown",
   "id": "89b6f268-e3d4-454f-b75a-bac1353ff52f",
   "metadata": {},
   "source": []
  },
  {
   "cell_type": "markdown",
   "id": "e48bb6b9-961e-4fed-9956-d7a17e949dce",
   "metadata": {},
   "source": []
  },
  {
   "cell_type": "markdown",
   "id": "b0a8460a-2588-46a9-8d9a-da78a87d78fb",
   "metadata": {},
   "source": []
  },
  {
   "cell_type": "markdown",
   "id": "cc2d65ee-5da7-4465-93bc-a7c2e9abd3be",
   "metadata": {},
   "source": [
    "# Q7. How Binomial distribution different from Poisson distribution?\n",
    "## The main differences between the Binomial distribution and the Poisson distribution are:\n",
    "\n",
    "### 1.Nature of the events: The Binomial distribution models the number of successes in a fixed number of independent trials, where each trial has only two possible outcomes, usually labeled as success or failure. The Poisson distribution, on the other hand, models the number of events that occur in a fixed interval of time or space, where the events occur randomly and independently of each other.\n",
    "\n",
    "### 2.Number of trials or events: The Binomial distribution assumes a fixed number of trials or events, denoted by n, while the Poisson distribution does not have a fixed number of events, but rather the events occur randomly and independently of each other.\n",
    "\n",
    "### 3.Probability of success or event rate: In the Binomial distribution, the probability of success, denoted by p, remains constant throughout all trials. In the Poisson distribution, the event rate, denoted by lambda, also remains constant, but it represents the average number of events per unit of time or space.\n",
    "\n",
    "### 4.Distribution shape: The shape of the Binomial distribution is symmetric, with a single peak at the center, while the Poisson distribution is skewed to the right, with a long tail to the right.\n",
    "\n",
    "### 5.Mean and variance: The mean of a Binomial distribution is given by np, where n is the number of trials and p is the probability of success. The variance is given by np(1-p). The mean of a Poisson distribution is given by lambda, and the variance is also lambda."
   ]
  },
  {
   "cell_type": "markdown",
   "id": "ae9ad676-b255-458d-895a-e4916155d13e",
   "metadata": {},
   "source": []
  },
  {
   "cell_type": "markdown",
   "id": "486080c5-3a67-4e91-8ef3-3b6c096392f0",
   "metadata": {},
   "source": []
  },
  {
   "cell_type": "markdown",
   "id": "fdec837f-429b-421c-a2b8-b25458419d62",
   "metadata": {},
   "source": []
  },
  {
   "cell_type": "markdown",
   "id": "65a2f1bb-b769-4702-8528-82271b130dc8",
   "metadata": {},
   "source": [
    "# Q8. Generate a random sample of size 1000 from a Poisson distribution with mean 5 and calculate the sample mean and variance."
   ]
  },
  {
   "cell_type": "code",
   "execution_count": 10,
   "id": "ae35d71a-6172-4208-aacd-d79586ca105d",
   "metadata": {
    "tags": []
   },
   "outputs": [
    {
     "name": "stdout",
     "output_type": "stream",
     "text": [
      "Sample mean:  5.039\n",
      "Sample variance:  5.1654789999999995\n"
     ]
    }
   ],
   "source": [
    "import numpy as np\n",
    "\n",
    "# Set the parameters of the Poisson distribution\n",
    "mu = 5  # mean\n",
    "\n",
    "# Generate a random sample of size 1000 from the Poisson distribution\n",
    "sample = np.random.poisson(mu, size=1000)\n",
    "\n",
    "# Calculate the sample mean and variance\n",
    "sample_mean = np.mean(sample)\n",
    "sample_var = np.var(sample)\n",
    "\n",
    "# Print the results\n",
    "print(\"Sample mean: \", sample_mean)\n",
    "print(\"Sample variance: \", sample_var)"
   ]
  },
  {
   "cell_type": "markdown",
   "id": "07deb913-c260-478a-a68e-762323f3781b",
   "metadata": {},
   "source": []
  },
  {
   "cell_type": "markdown",
   "id": "de4753b2-2458-46b3-854b-130af6602382",
   "metadata": {},
   "source": []
  },
  {
   "cell_type": "markdown",
   "id": "594bfe03-ea0b-4cee-94e0-09e783e61f27",
   "metadata": {},
   "source": []
  },
  {
   "cell_type": "markdown",
   "id": "ae96c2ba-992a-4816-bc5c-265ae94521fb",
   "metadata": {},
   "source": [
    "# Q9. How mean and variance are related in Binomial distribution and Poisson distribution?\n",
    "## In the Binomial distribution, the mean and variance are related by the formula:\n",
    "### mean = np\n",
    "### variance = np(1-p)\n",
    "#### where n is the number of trials and p is the probability of success in each trial.\n",
    "\n",
    "## In the Poisson distribution, the mean and variance are equal and are both equal to the event rate parameter lambda, i.e.,\n",
    "### mean = variance = lambda\n",
    "#### This means that in the Poisson distribution, the variability of the data is directly proportional to the mean. If the mean is high, the variance will also be high, indicating that there is more variability in the data."
   ]
  },
  {
   "cell_type": "markdown",
   "id": "f275d081-166a-4d4a-adcb-297a93273efb",
   "metadata": {},
   "source": []
  },
  {
   "cell_type": "markdown",
   "id": "71707cde-b0a9-4a2f-a226-4aa90ecfc713",
   "metadata": {},
   "source": []
  },
  {
   "cell_type": "markdown",
   "id": "ebd115c6-5a9a-4c4d-98ed-b94122ac2fa9",
   "metadata": {},
   "source": []
  },
  {
   "cell_type": "markdown",
   "id": "eddfe801-dd13-46ec-a394-f36f1455ba58",
   "metadata": {
    "tags": []
   },
   "source": [
    "# Q10. In normal distribution with respect to mean position, where does the least frequent data appear?\n",
    "## In a normal distribution, the least frequent data appears at the tails of the distribution, which are located at the extreme ends of the range of possible values.\n",
    "\n",
    "### For example, if we consider a normal distribution with a mean of 0 and a standard deviation of 1, the least frequent data will be located at the tails of the distribution, which are at -3 and +3 standard deviations from the mean. The probability of observing data in these tails is relatively low, as most of the data is concentrated around the mean."
   ]
  }
 ],
 "metadata": {
  "kernelspec": {
   "display_name": "Python 3 (ipykernel)",
   "language": "python",
   "name": "python3"
  },
  "language_info": {
   "codemirror_mode": {
    "name": "ipython",
    "version": 3
   },
   "file_extension": ".py",
   "mimetype": "text/x-python",
   "name": "python",
   "nbconvert_exporter": "python",
   "pygments_lexer": "ipython3",
   "version": "3.11.2"
  }
 },
 "nbformat": 4,
 "nbformat_minor": 5
}
