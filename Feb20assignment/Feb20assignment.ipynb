{
 "cells": [
  {
   "attachments": {},
   "cell_type": "markdown",
   "metadata": {},
   "source": [
    "# 1\n",
    "## GET\n",
    "#### GET is used to request data from a specified resource.\n",
    "#### GET requests can be cached.\n",
    "#### GET requests remain in the browser history.\n",
    "#### GET requests can be bookmarked.\n",
    "#### GET requests should never be used when dealing with sensitive data.\n",
    "#### GET requests have length restrictions.\n",
    "#### GET requests are only used to request data (not modify).\n",
    "## POST\n",
    "#### POST is used to send data to a server to create/update a resource.\n",
    "#### POST requests are never cached\n",
    "#### POST requests do not remain in the browser history\n",
    "#### POST requests cannot be bookmarked\n",
    "#### POST requests have no restrictions on data length\n"
   ]
  },
  {
   "cell_type": "markdown",
   "metadata": {},
   "source": []
  },
  {
   "cell_type": "markdown",
   "metadata": {},
   "source": []
  },
  {
   "attachments": {},
   "cell_type": "markdown",
   "metadata": {},
   "source": [
    "# 2\n",
    "#### In Flask, request is an object that contains all the data sent from the Client to Server. This data can be recovered using the GET/POST Methods. \n",
    "#### Example"
   ]
  },
  {
   "cell_type": "code",
   "execution_count": 1,
   "metadata": {},
   "outputs": [
    {
     "name": "stdout",
     "output_type": "stream",
     "text": [
      " * Serving Flask app '__main__'\n",
      " * Debug mode: off\n"
     ]
    },
    {
     "name": "stderr",
     "output_type": "stream",
     "text": [
      "WARNING: This is a development server. Do not use it in a production deployment. Use a production WSGI server instead.\n",
      " * Running on all addresses (0.0.0.0)\n",
      " * Running on http://127.0.0.1:5000\n",
      " * Running on http://192.168.1.205:5000\n",
      "Press CTRL+C to quit\n",
      "192.168.1.205 - - [21/Feb/2023 15:36:43] \"GET / HTTP/1.1\" 404 -\n",
      "192.168.1.205 - - [21/Feb/2023 15:36:44] \"GET /favicon.ico HTTP/1.1\" 404 -\n",
      "127.0.0.1 - - [21/Feb/2023 15:37:09] \"GET / HTTP/1.1\" 404 -\n",
      "127.0.0.1 - - [21/Feb/2023 15:37:09] \"GET /favicon.ico HTTP/1.1\" 404 -\n",
      "127.0.0.1 - - [21/Feb/2023 15:37:14] \"GET /hello HTTP/1.1\" 200 -\n",
      "127.0.0.1 - - [21/Feb/2023 15:37:32] \"GET /hello?name=Lalit HTTP/1.1\" 200 -\n",
      "127.0.0.1 - - [21/Feb/2023 15:37:45] \"GET /hello%20lalit HTTP/1.1\" 404 -\n",
      "127.0.0.1 - - [21/Feb/2023 15:37:59] \"GET /hello?name=Python HTTP/1.1\" 200 -\n"
     ]
    }
   ],
   "source": [
    "from flask import Flask, request\n",
    "app = Flask(__name__)\n",
    "\n",
    "@app.route('/hello')\n",
    "def hello():\n",
    "    name = request.args.get('name')\n",
    "    return f'Hello, {name}!'\n",
    "if __name__ == '__main__':\n",
    "    app.run(host='0.0.0.0')"
   ]
  },
  {
   "cell_type": "markdown",
   "metadata": {},
   "source": []
  },
  {
   "cell_type": "markdown",
   "metadata": {},
   "source": []
  },
  {
   "attachments": {},
   "cell_type": "markdown",
   "metadata": {},
   "source": [
    "# 3\n",
    "#### In Flask, redirect is a function that allows us to redirect the user to a different URL or route. It is a useful way to direct the user to a different part of our application, such as after a successful form submission or login.\n",
    "#### Example"
   ]
  },
  {
   "cell_type": "code",
   "execution_count": 14,
   "metadata": {},
   "outputs": [],
   "source": [
    "from flask import Flask, redirect, url_for\n",
    "app = Flask(__name__)\n",
    "\n",
    "@app.route('/login',methods=['POST'])\n",
    "def login():    \n",
    "    name = request.form['name']\n",
    "    password = request.form['password']\n",
    "    if name == 'python' and password == 'data science':\n",
    "        return redirect(url_for('welcome_page'))   "
   ]
  },
  {
   "cell_type": "markdown",
   "metadata": {},
   "source": []
  },
  {
   "cell_type": "markdown",
   "metadata": {},
   "source": []
  },
  {
   "attachments": {},
   "cell_type": "markdown",
   "metadata": {},
   "source": [
    "# 4\n",
    "#### In Flask, render_template is a function that allows us to generate a response using a Jinja2 template. Jinja2 is a popular templating engine for Python, and it allows us to separate the presentation logic from the application logic in your Flask application.\n",
    "#### Example"
   ]
  },
  {
   "cell_type": "code",
   "execution_count": 2,
   "metadata": {},
   "outputs": [],
   "source": [
    "from flask import Flask, render_template\n",
    "\n",
    "app = Flask(__name__)\n",
    "\n",
    "@app.route('/hello/<name>')\n",
    "def hello(name):\n",
    "    return render_template('hello.html', name=name)"
   ]
  },
  {
   "cell_type": "markdown",
   "metadata": {},
   "source": []
  },
  {
   "cell_type": "markdown",
   "metadata": {},
   "source": []
  },
  {
   "attachments": {},
   "cell_type": "markdown",
   "metadata": {},
   "source": [
    "# 5"
   ]
  },
  {
   "attachments": {},
   "cell_type": "markdown",
   "metadata": {},
   "source": [
    "![](Feb20_Q5_API_Test_1.png)"
   ]
  },
  {
   "attachments": {},
   "cell_type": "markdown",
   "metadata": {},
   "source": [
    "![](Feb20_Q5_API_Test_2.png)"
   ]
  }
 ],
 "metadata": {
  "kernelspec": {
   "display_name": "Python 3",
   "language": "python",
   "name": "python3"
  },
  "language_info": {
   "codemirror_mode": {
    "name": "ipython",
    "version": 3
   },
   "file_extension": ".py",
   "mimetype": "text/x-python",
   "name": "python",
   "nbconvert_exporter": "python",
   "pygments_lexer": "ipython3",
   "version": "3.11.2"
  },
  "orig_nbformat": 4,
  "vscode": {
   "interpreter": {
    "hash": "60604c6687abd3d44db2988d94478afd71bdd2eba4a4e06208197b7b67afacd2"
   }
  }
 },
 "nbformat": 4,
 "nbformat_minor": 2
}
