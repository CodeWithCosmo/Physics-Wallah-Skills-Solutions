{
 "cells": [
  {
   "attachments": {},
   "cell_type": "markdown",
   "metadata": {},
   "source": [
    "# 1\n",
    "\n",
    "'open()' method is used to open a file.\n",
    "\n",
    "Modes of openings a file are: \n",
    "\n",
    "read(r)\n",
    "\n",
    "write(w)\n",
    "\n",
    "append(a)\n",
    "\n",
    "read and write (r+)\n",
    "\n",
    "binary(b)"
   ]
  },
  {
   "attachments": {},
   "cell_type": "markdown",
   "metadata": {},
   "source": [
    "# 2\n",
    "\n",
    "The 'close()' method is used to close the file after read and write using open() method.\n",
    "\n",
    "The 'close()' method is important because it cleans the system resources used by the file.\n",
    "\n",
    "If 'close()' is not used, then other programs which needs that file cannot read or write it because it is open somewhere else."
   ]
  },
  {
   "attachments": {},
   "cell_type": "markdown",
   "metadata": {},
   "source": [
    "# 3"
   ]
  },
  {
   "cell_type": "code",
   "execution_count": 40,
   "metadata": {},
   "outputs": [],
   "source": [
    "# create and write data\n",
    "f = open(\"Feb10_Q3.txt\",'w')\n",
    "f.write(\"I want to become a Data Scientist\")\n",
    "f.close()"
   ]
  },
  {
   "cell_type": "code",
   "execution_count": 41,
   "metadata": {},
   "outputs": [
    {
     "name": "stdout",
     "output_type": "stream",
     "text": [
      "I want to become a Data Scientist\n"
     ]
    }
   ],
   "source": [
    "f = open('Feb10_Q3.txt', 'r')\n",
    "print(f.read())\n",
    "f.close()"
   ]
  },
  {
   "attachments": {},
   "cell_type": "markdown",
   "metadata": {},
   "source": [
    "# 4"
   ]
  },
  {
   "cell_type": "code",
   "execution_count": 42,
   "metadata": {},
   "outputs": [],
   "source": [
    "f = open('Feb10_Q4.txt', 'w')\n",
    "f.write('Data Science\\nPW Skills\\niNeuron\\nJava Development')\n",
    "f.close()"
   ]
  },
  {
   "attachments": {},
   "cell_type": "markdown",
   "metadata": {},
   "source": [
    "#### read() method read all the data from the file"
   ]
  },
  {
   "cell_type": "code",
   "execution_count": 43,
   "metadata": {},
   "outputs": [
    {
     "name": "stdout",
     "output_type": "stream",
     "text": [
      "Data Science\n",
      "PW Skills\n",
      "iNeuron\n",
      "Java Development\n"
     ]
    }
   ],
   "source": [
    "f = open('Feb10_Q4.txt', 'r')\n",
    "print(f.read())  \n",
    "f.close()"
   ]
  },
  {
   "attachments": {},
   "cell_type": "markdown",
   "metadata": {},
   "source": [
    "#### readline() method is used to read the first line of a file"
   ]
  },
  {
   "cell_type": "code",
   "execution_count": 44,
   "metadata": {},
   "outputs": [
    {
     "name": "stdout",
     "output_type": "stream",
     "text": [
      "Data Science\n",
      "\n"
     ]
    }
   ],
   "source": [
    "f = open('Feb10_Q4.txt', 'r')\n",
    "print(f.readline()) \n",
    "f.close()"
   ]
  },
  {
   "attachments": {},
   "cell_type": "markdown",
   "metadata": {},
   "source": [
    "#### readlines() method is used to read all the lines from a file and show a list of all lines as a element"
   ]
  },
  {
   "cell_type": "code",
   "execution_count": 45,
   "metadata": {},
   "outputs": [
    {
     "name": "stdout",
     "output_type": "stream",
     "text": [
      "['Data Science\\n', 'PW Skills\\n', 'iNeuron\\n', 'Java Development']\n"
     ]
    }
   ],
   "source": [
    "f = open('Feb10_Q4.txt', 'r')\n",
    "print(f.readlines())   \n",
    "f.close()"
   ]
  },
  {
   "attachments": {},
   "cell_type": "markdown",
   "metadata": {},
   "source": [
    "# 5\n",
    "\n",
    "The 'with' statement is used with 'open()' method to open a file.\n",
    "\n",
    "The main advantage of using 'with' statement with 'open()' method is that it closes the file automatically after the operation on file is complete,whatever the operation is, either read,write and append etc...\n",
    "\n",
    "And, we don't need to used close() method after file use explicitly.\n",
    "\n",
    "Example;"
   ]
  },
  {
   "cell_type": "code",
   "execution_count": 52,
   "metadata": {},
   "outputs": [],
   "source": [
    "with open('Feb10_Q5.txt','w') as f:\n",
    "    f.write('File using with statement to open a file')"
   ]
  },
  {
   "cell_type": "code",
   "execution_count": 54,
   "metadata": {},
   "outputs": [
    {
     "name": "stdout",
     "output_type": "stream",
     "text": [
      "File using with statement to open a file\n"
     ]
    }
   ],
   "source": [
    "with open('Feb10_Q5.txt','r') as f:\n",
    "    print(f.read())"
   ]
  },
  {
   "attachments": {},
   "cell_type": "markdown",
   "metadata": {},
   "source": [
    "# 6"
   ]
  },
  {
   "attachments": {},
   "cell_type": "markdown",
   "metadata": {},
   "source": [
    "#### 'write()' method is used to write all the data as it is passed to write() method"
   ]
  },
  {
   "cell_type": "code",
   "execution_count": 63,
   "metadata": {},
   "outputs": [],
   "source": [
    "f = open(\"Feb10_Q6_write().txt\",'w')\n",
    "f.write(\"'write()' method is used to write all the data as it is passed to write() method\")\n",
    "f.close()"
   ]
  },
  {
   "cell_type": "code",
   "execution_count": 66,
   "metadata": {},
   "outputs": [
    {
     "name": "stdout",
     "output_type": "stream",
     "text": [
      "'write()' method is used to write all the data as it is passed to write() method\n"
     ]
    }
   ],
   "source": [
    "f = open('Feb10_Q6_write().txt', 'r')\n",
    "print(f.read())\n",
    "f.close()"
   ]
  },
  {
   "attachments": {},
   "cell_type": "markdown",
   "metadata": {},
   "source": [
    "#### writelines() is used to write the data in text format from a list of strings passed in writelines() method"
   ]
  },
  {
   "cell_type": "code",
   "execution_count": 67,
   "metadata": {},
   "outputs": [],
   "source": [
    "f = open(\"Feb10_Q6_writelines().txt\",'w')\n",
    "f.writelines(['Python',' is',' very', ' simple',' language'])\n",
    "f.close()"
   ]
  },
  {
   "cell_type": "code",
   "execution_count": 68,
   "metadata": {},
   "outputs": [
    {
     "name": "stdout",
     "output_type": "stream",
     "text": [
      "Python is very simple language\n"
     ]
    }
   ],
   "source": [
    "f = open('Feb10_Q6_writelines().txt', 'r')\n",
    "print(f.read())\n",
    "f.close()"
   ]
  }
 ],
 "metadata": {
  "kernelspec": {
   "display_name": "Python 3",
   "language": "python",
   "name": "python3"
  },
  "language_info": {
   "codemirror_mode": {
    "name": "ipython",
    "version": 3
   },
   "file_extension": ".py",
   "mimetype": "text/x-python",
   "name": "python",
   "nbconvert_exporter": "python",
   "pygments_lexer": "ipython3",
   "version": "3.11.1"
  },
  "orig_nbformat": 4,
  "vscode": {
   "interpreter": {
    "hash": "60604c6687abd3d44db2988d94478afd71bdd2eba4a4e06208197b7b67afacd2"
   }
  }
 },
 "nbformat": 4,
 "nbformat_minor": 2
}
