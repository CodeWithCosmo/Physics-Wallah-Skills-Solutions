{
 "cells": [
  {
   "attachments": {},
   "cell_type": "markdown",
   "metadata": {},
   "source": [
    "# 1\n",
    "OOP, basically comes in picture after the concept of Classes & Objects as 'Object' is in 'Object Oriented Programming'\n",
    "1. Class is a blueprint for creating objects.\n",
    "\n",
    "2. In class, variables, methods and their properties are defined.\n",
    "\n",
    "3. Objects which are instance of the class, we can use them to access the properties of the class.\n",
    "\n",
    "4. In python, some inbuilt classes are int,float,list,tuple etc..."
   ]
  },
  {
   "cell_type": "code",
   "execution_count": 3,
   "metadata": {},
   "outputs": [],
   "source": [
    "a = int # this is syntax of creating class object, here 'int' is a class and 'a' is instance or object of this 'int' class."
   ]
  },
  {
   "cell_type": "code",
   "execution_count": 4,
   "metadata": {},
   "outputs": [
    {
     "name": "stdout",
     "output_type": "stream",
     "text": [
      "Speces: Cat\n",
      "Speces: Dog\n"
     ]
    }
   ],
   "source": [
    "# Let's crete our custom class\n",
    "class animal: # creating class animal\n",
    "  def __init__(self,name): # defining constructor\n",
    "    self.name = name # defining class instance\n",
    "    print(f'Speces: {self.name}')\n",
    "a = animal('Cat')  # Creating class 'animal' instance\n",
    "# 'a' is an instance variable or object of class 'animal'\n",
    "# Similary, we can create as many instances of class 'animal'  we want.\n",
    "b = animal('Dog')"
   ]
  },
  {
   "attachments": {},
   "cell_type": "markdown",
   "metadata": {},
   "source": [
    "# 2\n",
    "The four pillars of Object Oriented Programming are:\n",
    "\n",
    "1. Inheritence\n",
    "\n",
    "2. Encapsulation\n",
    "\n",
    "3. Abstraction \n",
    "\n",
    "4. Polymorphism"
   ]
  },
  {
   "attachments": {},
   "cell_type": "markdown",
   "metadata": {},
   "source": [
    "# 3\n",
    "\n",
    "The __init__ ()  method in python is the default constructor which invoked while the object creation\n",
    "\n",
    "Example;\n"
   ]
  },
  {
   "cell_type": "code",
   "execution_count": 2,
   "metadata": {},
   "outputs": [
    {
     "name": "stdout",
     "output_type": "stream",
     "text": [
      "Roll.No: 23 \n",
      "Name: Mihir\n",
      "Roll.No: 26 \n",
      "Name: Sohan\n"
     ]
    }
   ],
   "source": [
    "class student:\n",
    "  def __init__(this,roll_no,name):\n",
    "    this.roll_no = roll_no\n",
    "    this.name = name\n",
    "  def details(this):\n",
    "    print(f'Roll.No: {this.roll_no} \\nName: {this.name}')\n",
    "\n",
    "# Construcor is similar to function but the differnce is that they auto invoked without calling\n",
    "s1 = student(23,'Mihir')\n",
    "s2 = student(26,'Sohan')\n",
    "# Here, details() is not a constructor so we explicitly call details() function by using class instance or object\n",
    "s1.details() # s1 & s2 are class student instance\n",
    "s2.details()"
   ]
  },
  {
   "attachments": {},
   "cell_type": "markdown",
   "metadata": {},
   "source": [
    "# 4\n",
    "1. In OOP, 'self' is not a keyword so don't confuse with that.\n",
    "2. 'self' is reference which is used to refer the class member variables and methods.\n",
    "3. self is always first parameter in class methods and constructor also.\n",
    "4. In place of 'self' we can use whatever name we required like\n",
    "'this' as I use in quesion 3.\n",
    "5. 'self' is helpful to distinguish between the mehthod parameters and class instance varialble names in case of name conflict."
   ]
  },
  {
   "cell_type": "code",
   "execution_count": 1,
   "metadata": {},
   "outputs": [],
   "source": [
    "# Example: \n",
    "class shape:\n",
    "  def __init__(self,shape_name):\n",
    "    self.shpae_name = shape_name\n",
    "# In this example, 'self.shape_name' is considered the class instance not 'shape_name'."
   ]
  },
  {
   "attachments": {},
   "cell_type": "markdown",
   "metadata": {},
   "source": [
    "# 5\n",
    "\n",
    "Inheritance is an approach by which we can inherit parent class properties to its children classes.\n",
    "\n",
    "Properties include members variables, methods and other properties of the class.\n",
    "\n",
    "Inheritance can be Single-Level, Multi-Level, Multiple & Hierarchical \n"
   ]
  },
  {
   "cell_type": "code",
   "execution_count": 57,
   "metadata": {},
   "outputs": [
    {
     "name": "stdout",
     "output_type": "stream",
     "text": [
      "Your brand is vivo.\n",
      "Tuning radio...\n",
      "Connecting to wifi...\n"
     ]
    }
   ],
   "source": [
    "# 1. Single-Level Inheritance: The derived class inherits properties from only one base class\n",
    "class Phone: \n",
    "    def __init__(self,brand):\n",
    "        self.brand = brand\n",
    "        print(f'Your brand is {self.brand}.')\n",
    "    def radio(self):\n",
    "        print('Tuning radio...')        \n",
    "class SmartPhone(Phone): \n",
    "    def wifi(self):\n",
    "        print('Connecting to wifi...')\n",
    "v = SmartPhone('vivo') # Creating a Base class object\n",
    "v.radio() # Parent class method\n",
    "v.wifi() # Base class method\n"
   ]
  },
  {
   "cell_type": "code",
   "execution_count": 61,
   "metadata": {},
   "outputs": [
    {
     "name": "stdout",
     "output_type": "stream",
     "text": [
      "Your brand is realme.\n",
      "Calling...\n",
      "Tuning radio...\n",
      "Connecting to wifi...\n"
     ]
    }
   ],
   "source": [
    "# 2.Multi-Level Inheritance: The derived class inherits properties from derived class of another base class\n",
    "class Telephone:\n",
    "    def call(self):\n",
    "        print('Calling...')\n",
    "class Phone(Telephone): \n",
    "    def __init__(self,brand):\n",
    "        self.brand = brand\n",
    "        print(f'Your brand is {self.brand}.')\n",
    "    def radio(self):\n",
    "        print('Tuning radio...')\n",
    "class SmartPhone(Phone): \n",
    "    def wifi(self):\n",
    "        print('Connecting to wifi...')\n",
    "\n",
    "r = SmartPhone('realme') # Creating a Base class object\n",
    "r.call() # Grandparent class method\n",
    "r.radio() # Parent class method\n",
    "r.wifi() # Base class method"
   ]
  },
  {
   "cell_type": "code",
   "execution_count": 62,
   "metadata": {},
   "outputs": [
    {
     "name": "stdout",
     "output_type": "stream",
     "text": [
      "Your brand is apple.\n",
      "Recording in 4K...\n",
      "Tuning imusic...\n",
      "Connecting to wifi...\n"
     ]
    }
   ],
   "source": [
    "# 3. Multiple Inheritance: The derived class inherits properties from more than one base class\n",
    "class Camera:\n",
    "    def Record4K(self):\n",
    "        print('Recording in 4K...')\n",
    "class Phone: \n",
    "    def __init__(self,brand):\n",
    "        self.brand = brand\n",
    "        print(f'Your brand is {self.brand}.')\n",
    "    def imusic(self):\n",
    "        print('Tuning imusic...')\n",
    "class SmartPhone(Camera,Phone): \n",
    "    def wifi(self):\n",
    "        print('Connecting to wifi...')\n",
    "\n",
    "a = SmartPhone('apple') # Creating a Base class object\n",
    "a.Record4K() # Parent class 1 method\n",
    "a.imusic() # Parent class 2 method\n",
    "a.wifi() # Base class method"
   ]
  },
  {
   "cell_type": "code",
   "execution_count": 63,
   "metadata": {},
   "outputs": [
    {
     "name": "stdout",
     "output_type": "stream",
     "text": [
      "Your need 3 wheels.\n",
      "Start with a kick\n",
      "Your need 2 wheels.\n",
      "Start with a self\n"
     ]
    }
   ],
   "source": [
    "# 4.Hierarchical Inheritance: There are more than one subclass of a base class\n",
    "class cycle(): \n",
    "    def __init__(self,wheel):\n",
    "        self.wheel = wheel\n",
    "        print(f'Your need {self.wheel} wheels.')\n",
    "    \n",
    "class Scooter(cycle): \n",
    "    def kick(self):\n",
    "        print('Start with a kick')\n",
    "\n",
    "class Bike(cycle):\n",
    "    def quick_start(self):\n",
    "        print('Start with a self')\n",
    "S = Scooter(3) # Creating derived class 1 object\n",
    "S.kick() \n",
    "B = Bike(2) # Creating derived class 2 object\n",
    "B.quick_start()"
   ]
  }
 ],
 "metadata": {
  "kernelspec": {
   "display_name": "Python 3",
   "language": "python",
   "name": "python3"
  },
  "language_info": {
   "codemirror_mode": {
    "name": "ipython",
    "version": 3
   },
   "file_extension": ".py",
   "mimetype": "text/x-python",
   "name": "python",
   "nbconvert_exporter": "python",
   "pygments_lexer": "ipython3",
   "version": "3.11.1"
  },
  "orig_nbformat": 4,
  "vscode": {
   "interpreter": {
    "hash": "60604c6687abd3d44db2988d94478afd71bdd2eba4a4e06208197b7b67afacd2"
   }
  }
 },
 "nbformat": 4,
 "nbformat_minor": 2
}
