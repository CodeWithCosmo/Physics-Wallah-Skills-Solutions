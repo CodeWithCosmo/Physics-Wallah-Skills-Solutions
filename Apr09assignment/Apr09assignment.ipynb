{
 "cells": [
  {
   "cell_type": "markdown",
   "id": "190951c3-8ddb-4623-9870-68999fcb6a04",
   "metadata": {
    "tags": []
   },
   "source": [
    "# ``` Q1. What is Bayes' theorem?```\n",
    "## ```Bayes' theorem``` is a fundamental concept in probability theory and statistics. It describes the relationship between conditional probabilities of two events. The theorem states that the probability of event A occurring given that event B has occurred is equal to the probability of event B occurring given that event A has occurred multiplied by the probability of event A occurring and divided by the probability of event B occurring. In mathematical notation, it is represented as:\n",
    "\n",
    "## <center> ```P(A|B) = P(B|A) * P(A) / P(B)```\n",
    "\n",
    "- #### where P(A|B) is the conditional probability of event A given event B, P(B|A) is the conditional probability of event B given event A, P(A) is the prior probability of event A, and P(B) is the prior probability of event B.\n",
    "\n",
    "## Bayes' theorem is widely used in various fields, including machine learning, data science, and artificial intelligence. It is the basis for Bayesian inference, which is a statistical approach to model building and data analysis. Bayesian inference involves updating prior beliefs about a parameter or hypothesis in light of new evidence or data."
   ]
  },
  {
   "cell_type": "markdown",
   "id": "83638a4b-e9a9-46ff-9220-ab63473c6798",
   "metadata": {},
   "source": []
  },
  {
   "cell_type": "markdown",
   "id": "47cc432b-ee81-4149-b67f-6e3660e48f1b",
   "metadata": {},
   "source": []
  },
  {
   "cell_type": "markdown",
   "id": "3240348a-b694-4023-8989-157045c9177c",
   "metadata": {},
   "source": []
  },
  {
   "cell_type": "markdown",
   "id": "ef2f4b41-1452-4d6e-9ce6-6c36e73bb93d",
   "metadata": {},
   "source": []
  },
  {
   "cell_type": "markdown",
   "id": "020b220c-1c47-4c9e-a5a7-9378b1ba166a",
   "metadata": {},
   "source": []
  },
  {
   "cell_type": "markdown",
   "id": "0a6c90fd-619d-4dcd-9f60-3ce8b6c18485",
   "metadata": {},
   "source": [
    "# ``` Q2. What is the formula for Bayes' theorem?```\n",
    "## The formula of Bayes' theorem is given as follows:\n",
    "## <center> P(A|B) = P(B|A) * P(A) / P(B)\n",
    "\n",
    "- ### where P(A|B) is the conditional probability of event A given event B, P(B|A) is the conditional probability of event B given event A, P(A) is the prior probability of event A, and P(B) is the prior probability of event B."
   ]
  },
  {
   "cell_type": "markdown",
   "id": "a6d15c28-fce6-4bca-819d-8405b7f30d8e",
   "metadata": {},
   "source": []
  },
  {
   "cell_type": "markdown",
   "id": "859c109f-bd35-4555-b307-2920fa5770ce",
   "metadata": {},
   "source": []
  },
  {
   "cell_type": "markdown",
   "id": "36d64610-77a6-457c-843f-273baf431048",
   "metadata": {},
   "source": []
  },
  {
   "cell_type": "markdown",
   "id": "70fa5fec-3aaf-4704-9da1-d37f6c318229",
   "metadata": {},
   "source": []
  },
  {
   "cell_type": "markdown",
   "id": "70d200d5-5cd3-4beb-b15e-bac4b6ef9f4b",
   "metadata": {},
   "source": []
  },
  {
   "cell_type": "markdown",
   "id": "953f0b86-d5c9-4805-a094-28e7cb5db5ef",
   "metadata": {},
   "source": [
    "# ``` Q3. How is Bayes' theorem used in practice?```\n",
    "### Bayes' theorem is used in various applications in practice, especially in the fields of machine learning, data science, and artificial intelligence. Some of the practical applications of Bayes' theorem are:\n",
    "\n",
    "- ### 1. Bayesian inference: Bayes' theorem is used in Bayesian inference, which is a statistical approach to model building and data analysis. Bayesian inference involves updating prior beliefs about a parameter or hypothesis in light of new evidence or data.\n",
    "\n",
    "- ### 2. Spam filtering: Bayes' theorem is used in spam filtering to identify whether an email is spam or not. The algorithm uses Bayes' theorem to calculate the probability that an email is spam given certain words or phrases in the email.\n",
    "\n",
    "- ### 3. Medical diagnosis: Bayes' theorem is used in medical diagnosis to calculate the probability that a patient has a certain disease given certain symptoms or test results.\n",
    "\n",
    "- ### 4. Sentiment analysis: Bayes' theorem is used in sentiment analysis to identify the sentiment of a piece of text, such as a review or social media post.\n",
    "\n",
    "- ### 5. Fraud detection: Bayes' theorem is used in fraud detection to identify fraudulent transactions or activities based on historical data and patterns.\n",
    "\n",
    "### In practice, Bayes' theorem is often implemented using Bayesian networks, which are graphical models that represent the relationships between variables and their probabilities. Bayesian networks can be used to make predictions, perform inference, and learn from data."
   ]
  },
  {
   "cell_type": "markdown",
   "id": "fb2c84e7-464a-41c5-8c1c-22734bbd3bbd",
   "metadata": {},
   "source": []
  },
  {
   "cell_type": "markdown",
   "id": "117abc3b-b19e-4a9e-b78d-a9cb0a8c75c8",
   "metadata": {},
   "source": []
  },
  {
   "cell_type": "markdown",
   "id": "0ccaab9e-3dd2-4032-9e5a-5ba21facf4ef",
   "metadata": {},
   "source": []
  },
  {
   "cell_type": "markdown",
   "id": "0e2dc19f-b6ad-4d05-a4be-e4b5eb01323b",
   "metadata": {},
   "source": []
  },
  {
   "cell_type": "markdown",
   "id": "3380b4fe-d387-4981-b559-9032f576b509",
   "metadata": {},
   "source": []
  },
  {
   "cell_type": "markdown",
   "id": "0c9ece31-937a-49d7-9da3-80107823262e",
   "metadata": {},
   "source": [
    "# ``` Q4. What is the relationship between Bayes' theorem and conditional probability?```\n",
    "## Bayes' theorem is closely related to conditional probability, as it provides a way to calculate conditional probabilities in reverse. \n",
    "\n",
    "### ```Conditional probability``` is the probability of an event A occurring, given that another event B has occurred. It can be calculated using the formula: \n",
    "\n",
    "### <center> ```P(A|B) = P(A and B) / P(B)```\n",
    "\n",
    "### ```Bayes' theorem```, on the other hand, is a way to calculate the probability of an event B, given that another event A has occurred. It can be expressed as: \n",
    "\n",
    "### <center> ```P(B|A) = P(A|B) * P(B) / P(A)```\n",
    "\n",
    "- ### where P(B|A) is the conditional probability of B given A, P(A|B) is the conditional probability of A given B, P(B) is the prior probability of B, and P(A) is the prior probability of A.\n",
    "\n",
    "### Bayes' theorem can be thought of as a way to \"invert\" conditional probabilities, in order to calculate the probability of a cause given an effect. It is particularly useful when dealing with uncertain or incomplete information, and can be used in a wide range of applications, including statistical inference, machine learning, and decision making."
   ]
  },
  {
   "cell_type": "markdown",
   "id": "f9be0c24-fed3-4de7-81a7-5b0700dd2b36",
   "metadata": {},
   "source": []
  },
  {
   "cell_type": "markdown",
   "id": "21645b5e-09c8-44a2-9683-7a33b98a5356",
   "metadata": {},
   "source": []
  },
  {
   "cell_type": "markdown",
   "id": "67fdab55-319e-4889-b2cc-c9fdde017284",
   "metadata": {},
   "source": []
  },
  {
   "cell_type": "markdown",
   "id": "3160b80d-01f7-4cb2-8e43-a2c1322824ea",
   "metadata": {},
   "source": []
  },
  {
   "cell_type": "markdown",
   "id": "67bbc5f3-8498-40c0-acb7-765fc71998ad",
   "metadata": {},
   "source": []
  },
  {
   "cell_type": "markdown",
   "id": "ed0edb0d-8eb2-4a8b-b556-f53f091d4c57",
   "metadata": {},
   "source": [
    "# ``` Q5. How do you choose which type of Naive Bayes classifier to use for any given problem?```\n",
    "\n",
    "### There are three main types of Naive Bayes classifiers: Gaussian Naive Bayes, Multinomial Naive Bayes, and Bernoulli Naive Bayes. \n",
    "### The choice of which type of Naive Bayes classifier to use depends on the nature of the data and the problem at hand. \n",
    "\n",
    "### ```Gaussian Naive Bayes``` is used when the features are continuous and follow a Gaussian (normal) distribution. This is often the case in natural language processing, where features such as word frequencies or sentence lengths can be modeled as continuous variables. \n",
    "\n",
    "### ```Multinomial Naive Bayes``` is used when the features represent counts or frequencies, such as word counts in a document or occurrence of a feature in a sample. It is often used in text classification problems, such as spam detection or sentiment analysis.\n",
    "\n",
    "### ```Bernoulli Naive Bayes``` is similar to Multinomial Naive Bayes, but is used when the features are binary or Boolean, representing the presence or absence of a feature. This is often the case in text classification problems, where the features can be binary indicators of whether a word appears in a document or not.\n",
    "\n",
    "### In general, it is a good idea to try all three types of Naive Bayes classifiers on the problem at hand, and compare their performance using cross-validation or other evaluation metrics. The choice of which classifier to use ultimately depends on the specific characteristics of the data and the problem, and the performance of each classifier on the task."
   ]
  },
  {
   "cell_type": "markdown",
   "id": "3c88594f-fb22-4f43-9b3a-22b74167d359",
   "metadata": {},
   "source": []
  },
  {
   "cell_type": "markdown",
   "id": "0e576552-8442-4f71-b271-289809f37eab",
   "metadata": {},
   "source": []
  },
  {
   "cell_type": "markdown",
   "id": "ad00a233-ada9-49a0-ae09-093f60592025",
   "metadata": {},
   "source": []
  },
  {
   "cell_type": "markdown",
   "id": "5ba6eae1-4d8f-4028-bef1-631eae0fcffd",
   "metadata": {},
   "source": []
  },
  {
   "cell_type": "markdown",
   "id": "6dacfed9-6d8d-483d-bd12-80b5a245f5d9",
   "metadata": {},
   "source": []
  },
  {
   "cell_type": "markdown",
   "id": "025a4d3f-3b7f-42de-aa48-73768834106c",
   "metadata": {},
   "source": [
    "# ``` Q6. You have a dataset with two features, X1 and X2, and two possible classes, A and B. You want to use Naive Bayes to classify a new instance with features X1 = 3 and X2 = 4. The following table shows the frequency of each feature value for each class:```\n",
    "\n",
    "<img width ='600' src = 'question6.jpg'>\n",
    "\n",
    "### ```Assuming equal prior probabilities for each class, which class would Naive Bayes predict the new instance to belong to? ```"
   ]
  },
  {
   "cell_type": "markdown",
   "id": "d774190e-c3cd-44d3-a431-87fbb9c2b3c3",
   "metadata": {},
   "source": [
    "> ## Class A:\n",
    ">> ### X1: 1 (3 times), 2 (3 times), 3 (4 times)  \n",
    ">> ### X2: 1 (4 times), 2 (3 times), 3 (3 times), 4 (3 times)\n",
    "\n",
    "> ## Class B:\n",
    ">> ### X1: 1 (2 times), 2 (2 times), 3 (1 time)  \n",
    ">> ### X2: 1 (2 times), 2 (2 times), 3 (2 times), 4 (3 times)\n",
    "\n",
    "## ```Using Naive Bayes, we want to determine the probability that the instance (x1 = 3,x2 = 4) belongs to class A or class B.```\n",
    "\n",
    "### 1. The prior probabilities of each class:\n",
    "\n",
    "> ### P(A) = 3/6 = 0.5\n",
    "> ### P(B) = 3/6 = 0.5\n",
    "\n",
    "### 2. The likelihood probabilities for each feature given each class:\n",
    "\n",
    "> ### P(X1=3 | A) = 4/10 = 0.4\n",
    "> ### P(X2=4 | A) = 3/14 = 0.214\n",
    "\n",
    "> ### P(X1=3 | B) = 1/5 = 0.2\n",
    "> ### P(X2=4 | B) = 3/14 = 0.214\n",
    "\n",
    "### 3. The probability of the  (X1 = 3,X2 = 4) belonging to class A or B, we can use Bayes' theorem:\n",
    "\n",
    "> ### P(A | X1=3, X2=4) = P(X1=3 | A) * P(X2=4 | A) * P(A) / P(X1=3, X2=4)  \n",
    "\n",
    "> ### P(B | X1=3, X2=4) = P(X1=3 | B) * P(X2=4 | B) * P(B) / P(X1=3, X2=4)\n",
    "\n",
    "* ### The denominator, P(X1=3, X2=4), is the same for both so, we can reject it . Therefore,\n",
    "\n",
    "> ### P(A | X1=3, X2=4) = 0.4 * 0.214 * 0.5 = 0.0428\n",
    "\n",
    "> ### P(B | X1=3, X2=4) = 0.2 * 0.214* 0.5 = 0.0214\n",
    "\n",
    "### So, the probability that the instance (X1=3,X2=4) belongs to class A is 0.0428, and the probability that it belongs to class B is 0.0214. \n",
    "### Therefore, ```the new instance (X1=3,X2=4) would be belonged to class A.```"
   ]
  }
 ],
 "metadata": {
  "kernelspec": {
   "display_name": "default:Python",
   "language": "python",
   "name": "conda-env-default-py"
  },
  "language_info": {
   "codemirror_mode": {
    "name": "ipython",
    "version": 3
   },
   "file_extension": ".py",
   "mimetype": "text/x-python",
   "name": "python",
   "nbconvert_exporter": "python",
   "pygments_lexer": "ipython3",
   "version": "3.9.13"
  }
 },
 "nbformat": 4,
 "nbformat_minor": 5
}
