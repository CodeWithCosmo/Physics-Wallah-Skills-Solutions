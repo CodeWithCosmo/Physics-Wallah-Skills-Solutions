{
 "cells": [
  {
   "cell_type": "markdown",
   "id": "fa3ca426",
   "metadata": {},
   "source": [
    "# `Part 1: Theoretical Questions`"
   ]
  },
  {
   "cell_type": "markdown",
   "id": "680f1811",
   "metadata": {},
   "source": [
    "# Q1. What are the different data structures used in Tensorflow?. Give some examples.\n",
    "___\n",
    "## `TensorFlow, being a powerful deep learning framework, uses several data structures to represent and manipulate data efficiently`. Some of the common data structures used in TensorFlow are:\n",
    "\n",
    "## 1. `Tensor`: Tensors are the primary data structures in TensorFlow, representing multi-dimensional arrays. They can have different ranks (number of dimensions) and data types. Tensors are used to store and process the input data, intermediate values, and model parameters. Examples of tensors include scalars (rank 0), vectors (rank 1), matrices (rank 2), and higher-dimensional arrays (rank > 2).\n",
    "\n",
    "## 2.`tf.constant`: A constant tensor is an immutable tensor with a fixed value that does not change during the course of the computation. It is created using the `tf.constant` function and can be used to hold fixed values like hyperparameters or numerical constants.\n",
    "\n",
    "### *Example:*\n",
    "```python\n",
    "import tensorflow as tf\n",
    "\n",
    "# Create a constant tensor\n",
    "tensor_const = tf.constant([1, 2, 3, 4])\n",
    "```\n",
    "\n",
    "## 3.`tf.Variable`: A variable tensor is a mutable tensor that can change during the course of the computation. It is used to hold model parameters that need to be updated during training. Variables are created using the `tf.Variable` class.\n",
    "\n",
    "### *Example:*\n",
    "```python\n",
    "import tensorflow as tf\n",
    "\n",
    "# Create a variable tensor\n",
    "initial_value = tf.random.normal(shape=(3, 3))\n",
    "tensor_variable = tf.Variable(initial_value)\n",
    "```\n",
    "\n",
    "## 4. `tf.placeholder`: In older versions of TensorFlow, `tf.placeholder` was used to create tensors that act as placeholders for input data during the graph construction phase. However, in recent versions, eager execution is the default mode, and `tf.placeholder` is no longer needed. Instead, you can use Python variables directly in the computation.\n",
    "\n",
    "### *Example (Older versions)*:\n",
    "```python\n",
    "import tensorflow as tf\n",
    "\n",
    "# Create a placeholder tensor\n",
    "input_data = tf.placeholder(tf.float32, shape=(None, 784))\n",
    "```\n",
    "\n",
    "## 5. `tf.data.Dataset`: The `tf.data.Dataset` API provides a powerful data pipeline for efficiently reading and preprocessing data for training or inference. It allows you to create a dataset from various sources, apply transformations, and iterate through batches during training.\n",
    "\n",
    "### *Example:*\n",
    "```python\n",
    "import tensorflow as tf\n",
    "\n",
    "# Create a dataset from a numpy array\n",
    "data = tf.data.Dataset.from_tensor_slices(np.array([1, 2, 3, 4, 5]))\n",
    "\n",
    "# Apply transformations\n",
    "data = data.map(lambda x: x * 2).shuffle(buffer_size=5).batch(2)\n",
    "\n",
    "# Iterate through the dataset\n",
    "for batch in data:\n",
    "    print(batch)\n",
    "```\n",
    "\n",
    "## *These are some of the common data structures used in TensorFlow, and they play a crucial role in defining the computation graph and efficiently managing data in deep learning models.*"
   ]
  },
  {
   "cell_type": "markdown",
   "id": "4894d4a8",
   "metadata": {},
   "source": []
  },
  {
   "cell_type": "markdown",
   "id": "48e4c2f3",
   "metadata": {},
   "source": []
  },
  {
   "cell_type": "markdown",
   "id": "69777bc8",
   "metadata": {},
   "source": []
  },
  {
   "cell_type": "markdown",
   "id": "82761907",
   "metadata": {},
   "source": [
    "# Q2. How does the TensorFlow constant differ from a TensorFlow variable? Explain with an example.\n",
    "___\n",
    "## In TensorFlow, both constants and variables are used to store data in tensors. However, there are some key differences between them:\n",
    "\n",
    "## 1.`Immutability vs. Mutability`:\n",
    "   - ## `Constants`: Constants are immutable, which means their values cannot be changed after they are initialized. They are typically used to hold fixed values like hyperparameters or numerical constants.\n",
    "   - ## `Variables`: Variables, on the other hand, are mutable, which means their values can be updated during the course of the computation. They are typically used to hold model parameters that need to be learned and updated during training.\n",
    "\n",
    "## 2. `Initialization`:\n",
    "   - ## `Constants`: Constants are initialized with a fixed value at the time of creation using the `tf.constant` function.\n",
    "   - ## `Variables`: Variables require an initial value to be provided when they are created. The initial value can be a constant tensor, a random tensor, or even another variable.\n",
    "\n",
    "### Here's an example to illustrate the difference between a TensorFlow constant and a TensorFlow variable:"
   ]
  },
  {
   "cell_type": "code",
   "execution_count": 1,
   "id": "64b0aeba",
   "metadata": {},
   "outputs": [],
   "source": [
    "import tensorflow as tf\n",
    "\n",
    "# Create a TensorFlow constant\n",
    "tensor_const = tf.constant([1, 2, 3, 4])\n",
    "\n",
    "# Create a TensorFlow variable with an initial value\n",
    "initial_value = tf.random.normal(shape=(3, 3))\n",
    "tensor_variable = tf.Variable(initial_value)"
   ]
  },
  {
   "cell_type": "code",
   "execution_count": 2,
   "id": "d47a6b71",
   "metadata": {},
   "outputs": [
    {
     "data": {
      "text/plain": [
       "<tf.Tensor: shape=(4,), dtype=int32, numpy=array([1, 2, 3, 4])>"
      ]
     },
     "execution_count": 2,
     "metadata": {},
     "output_type": "execute_result"
    }
   ],
   "source": [
    "tensor_const"
   ]
  },
  {
   "cell_type": "code",
   "execution_count": 3,
   "id": "057fa97e",
   "metadata": {},
   "outputs": [
    {
     "data": {
      "text/plain": [
       "<tf.Variable 'Variable:0' shape=(3, 3) dtype=float32, numpy=\n",
       "array([[ 0.20427597,  1.0691606 , -0.78566426],\n",
       "       [-0.7761255 , -0.6040877 , -0.8292028 ],\n",
       "       [-0.12120707, -0.7888299 ,  0.19783275]], dtype=float32)>"
      ]
     },
     "execution_count": 3,
     "metadata": {},
     "output_type": "execute_result"
    }
   ],
   "source": [
    "tensor_variable"
   ]
  },
  {
   "cell_type": "markdown",
   "id": "c492779d",
   "metadata": {},
   "source": [
    "## *In this example, `tensor_const` is a TensorFlow constant, and its value is fixed to `[1, 2, 3, 4]`. It cannot be modified later in the computation.*\n",
    "\n",
    "## *On the other hand, `tensor_variable` is a TensorFlow variable. It is initialized with a random tensor of shape `(3, 3)` and can be updated during training if needed. For example, we can use gradient descent or other optimization algorithms to update the value of `tensor_variable` during the training process.*"
   ]
  },
  {
   "cell_type": "markdown",
   "id": "0cf16ee9",
   "metadata": {},
   "source": []
  },
  {
   "cell_type": "markdown",
   "id": "86e0f033",
   "metadata": {},
   "source": []
  },
  {
   "cell_type": "markdown",
   "id": "0ff4b7d3",
   "metadata": {},
   "source": [
    "# Q3. Describe the process of matrix addition, multiplication, and element-wise operations in TensorFlow.\n",
    "___\n",
    "## In TensorFlow, matrix addition, multiplication, and element-wise operations can be performed using various functions and operators. Let's describe each operation:\n",
    "\n",
    "## 1. `Matrix Addition`:\n",
    "   - ## Matrix addition is performed using the `tf.add()` function or the `+` operator. The two matrices being added must have the same shape."
   ]
  },
  {
   "cell_type": "code",
   "execution_count": 4,
   "id": "fd8cbbfb",
   "metadata": {},
   "outputs": [],
   "source": [
    "import tensorflow as tf\n",
    "# Defining two matrices\n",
    "matrix_a = tf.constant([[1, 2], [3, 4]])\n",
    "matrix_b = tf.constant([[5, 6], [7, 8]])"
   ]
  },
  {
   "cell_type": "code",
   "execution_count": 5,
   "id": "bed68334",
   "metadata": {},
   "outputs": [
    {
     "name": "stdout",
     "output_type": "stream",
     "text": [
      "tf.Tensor(\n",
      "[[1 2]\n",
      " [3 4]], shape=(2, 2), dtype=int32)\n"
     ]
    }
   ],
   "source": [
    "print(matrix_a)"
   ]
  },
  {
   "cell_type": "code",
   "execution_count": 6,
   "id": "3793d9ff",
   "metadata": {},
   "outputs": [
    {
     "name": "stdout",
     "output_type": "stream",
     "text": [
      "tf.Tensor(\n",
      "[[5 6]\n",
      " [7 8]], shape=(2, 2), dtype=int32)\n"
     ]
    }
   ],
   "source": [
    "print(matrix_b)"
   ]
  },
  {
   "cell_type": "code",
   "execution_count": 7,
   "id": "fb551b56",
   "metadata": {},
   "outputs": [
    {
     "data": {
      "text/plain": [
       "<tf.Tensor: shape=(2, 2), dtype=int32, numpy=\n",
       "array([[ 6,  8],\n",
       "       [10, 12]])>"
      ]
     },
     "execution_count": 7,
     "metadata": {},
     "output_type": "execute_result"
    }
   ],
   "source": [
    "# Matrix addition (using tf.add)\n",
    "tf.add(matrix_a,matrix_b)"
   ]
  },
  {
   "cell_type": "code",
   "execution_count": 8,
   "id": "52b3d504",
   "metadata": {},
   "outputs": [
    {
     "data": {
      "text/plain": [
       "<tf.Tensor: shape=(2, 2), dtype=int32, numpy=\n",
       "array([[ 6,  8],\n",
       "       [10, 12]])>"
      ]
     },
     "execution_count": 8,
     "metadata": {},
     "output_type": "execute_result"
    }
   ],
   "source": [
    "# Matrix addition (using +)\n",
    "matrix_a + matrix_b"
   ]
  },
  {
   "cell_type": "markdown",
   "id": "ed752147",
   "metadata": {},
   "source": [
    "## 2. Matrix Multiplication:\n",
    "   - ## Matrix multiplication is performed using the `tf.matmul()` function or the `@` operator. For element-wise multiplication, we can use the `tf.multiply()` function or the `*` operator."
   ]
  },
  {
   "cell_type": "code",
   "execution_count": 9,
   "id": "170877e6",
   "metadata": {},
   "outputs": [
    {
     "data": {
      "text/plain": [
       "(<tf.Tensor: shape=(2, 2), dtype=int32, numpy=\n",
       " array([[1, 2],\n",
       "        [3, 4]])>,\n",
       " <tf.Tensor: shape=(2, 2), dtype=int32, numpy=\n",
       " array([[5, 6],\n",
       "        [7, 8]])>)"
      ]
     },
     "execution_count": 9,
     "metadata": {},
     "output_type": "execute_result"
    }
   ],
   "source": [
    "matrix_a,matrix_b"
   ]
  },
  {
   "cell_type": "code",
   "execution_count": 10,
   "id": "5cb844c9",
   "metadata": {},
   "outputs": [
    {
     "data": {
      "text/plain": [
       "<tf.Tensor: shape=(2, 2), dtype=int32, numpy=\n",
       "array([[19, 22],\n",
       "       [43, 50]])>"
      ]
     },
     "execution_count": 10,
     "metadata": {},
     "output_type": "execute_result"
    }
   ],
   "source": [
    "# Matrix multiplication (using tf.matmul)\n",
    "tf.matmul(matrix_a,matrix_b)"
   ]
  },
  {
   "cell_type": "code",
   "execution_count": 11,
   "id": "9f672945",
   "metadata": {},
   "outputs": [
    {
     "data": {
      "text/plain": [
       "<tf.Tensor: shape=(2, 2), dtype=int32, numpy=\n",
       "array([[19, 22],\n",
       "       [43, 50]])>"
      ]
     },
     "execution_count": 11,
     "metadata": {},
     "output_type": "execute_result"
    }
   ],
   "source": [
    "# Matrix multiplication (using @)\n",
    "matrix_a @ matrix_b"
   ]
  },
  {
   "cell_type": "code",
   "execution_count": 12,
   "id": "a6efcb05",
   "metadata": {},
   "outputs": [
    {
     "data": {
      "text/plain": [
       "<tf.Tensor: shape=(2, 2), dtype=int32, numpy=\n",
       "array([[ 5, 12],\n",
       "       [21, 32]])>"
      ]
     },
     "execution_count": 12,
     "metadata": {},
     "output_type": "execute_result"
    }
   ],
   "source": [
    "# Matrix element-wie multiplication (using tf.multiply)\n",
    "tf.multiply(matrix_a,matrix_b)"
   ]
  },
  {
   "cell_type": "code",
   "execution_count": 13,
   "id": "e3b29e7d",
   "metadata": {},
   "outputs": [
    {
     "data": {
      "text/plain": [
       "<tf.Tensor: shape=(2, 2), dtype=int32, numpy=\n",
       "array([[ 5, 12],\n",
       "       [21, 32]])>"
      ]
     },
     "execution_count": 13,
     "metadata": {},
     "output_type": "execute_result"
    }
   ],
   "source": [
    "# Matrix element-wise multiplication (using *)\n",
    "matrix_a * matrix_b"
   ]
  },
  {
   "cell_type": "markdown",
   "id": "9d80c6ae",
   "metadata": {},
   "source": [
    "## 3. Element-wise Operations:\n",
    "   - ## Element-wise operations apply an operation between corresponding elements of two tensors (matrices) with the same shape. For example, we can use the `tf.add()`, `tf.subtract()`, `tf.multiply()`, `tf.divide()`, and other functions for element-wise operations."
   ]
  },
  {
   "cell_type": "code",
   "execution_count": 14,
   "id": "775c8356",
   "metadata": {},
   "outputs": [
    {
     "data": {
      "text/plain": [
       "(<tf.Tensor: shape=(2, 2), dtype=int32, numpy=\n",
       " array([[1, 2],\n",
       "        [3, 4]])>,\n",
       " <tf.Tensor: shape=(2, 2), dtype=int32, numpy=\n",
       " array([[5, 6],\n",
       "        [7, 8]])>)"
      ]
     },
     "execution_count": 14,
     "metadata": {},
     "output_type": "execute_result"
    }
   ],
   "source": [
    "matrix_a,matrix_b"
   ]
  },
  {
   "cell_type": "code",
   "execution_count": 15,
   "id": "c3a1b6c4",
   "metadata": {},
   "outputs": [
    {
     "data": {
      "text/plain": [
       "<tf.Tensor: shape=(2, 2), dtype=int32, numpy=\n",
       "array([[ 6,  8],\n",
       "       [10, 12]])>"
      ]
     },
     "execution_count": 15,
     "metadata": {},
     "output_type": "execute_result"
    }
   ],
   "source": [
    "# Element-wise addition (using tf.add or +)\n",
    "tf.add(matrix_a,matrix_b)"
   ]
  },
  {
   "cell_type": "code",
   "execution_count": 16,
   "id": "b142b70e",
   "metadata": {},
   "outputs": [
    {
     "data": {
      "text/plain": [
       "<tf.Tensor: shape=(2, 2), dtype=int32, numpy=\n",
       "array([[-4, -4],\n",
       "       [-4, -4]])>"
      ]
     },
     "execution_count": 16,
     "metadata": {},
     "output_type": "execute_result"
    }
   ],
   "source": [
    "# Element-wise subtraction (using tf.subtract or -)\n",
    "tf.subtract(matrix_a,matrix_b)"
   ]
  },
  {
   "cell_type": "code",
   "execution_count": 17,
   "id": "dff61b4c",
   "metadata": {},
   "outputs": [
    {
     "data": {
      "text/plain": [
       "<tf.Tensor: shape=(2, 2), dtype=int32, numpy=\n",
       "array([[ 5, 12],\n",
       "       [21, 32]])>"
      ]
     },
     "execution_count": 17,
     "metadata": {},
     "output_type": "execute_result"
    }
   ],
   "source": [
    "# Element-wise multiplicaiton (using tf.multiply or *)\n",
    "tf.multiply(matrix_a,matrix_b)"
   ]
  },
  {
   "cell_type": "code",
   "execution_count": 23,
   "id": "f0671f20",
   "metadata": {},
   "outputs": [
    {
     "data": {
      "text/plain": [
       "<tf.Tensor: shape=(2, 2), dtype=float64, numpy=\n",
       "array([[0.2       , 0.33333333],\n",
       "       [0.42857143, 0.5       ]])>"
      ]
     },
     "execution_count": 23,
     "metadata": {},
     "output_type": "execute_result"
    }
   ],
   "source": [
    "# Element-wise addition (using tf.divide or /)\n",
    "tf.divide(matrix_a,matrix_b)"
   ]
  },
  {
   "cell_type": "markdown",
   "id": "0b9a55fb",
   "metadata": {},
   "source": [
    "### `Note`: When performing matrix multiplication using `tf.matmul()`, ensure that the shapes of the matrices are compatible for multiplication (i.e., the number of columns in the first matrix must be equal to the number of rows in the second matrix). For element-wise operations, the shapes of the input tensors must be the same."
   ]
  },
  {
   "cell_type": "markdown",
   "id": "136ee5ef",
   "metadata": {},
   "source": []
  },
  {
   "cell_type": "markdown",
   "id": "dbd78958",
   "metadata": {},
   "source": []
  },
  {
   "cell_type": "markdown",
   "id": "2f04fe7f",
   "metadata": {},
   "source": []
  },
  {
   "cell_type": "markdown",
   "id": "876d46df",
   "metadata": {},
   "source": []
  },
  {
   "cell_type": "markdown",
   "id": "aae85b6d",
   "metadata": {},
   "source": []
  },
  {
   "cell_type": "markdown",
   "id": "78c9cda7",
   "metadata": {},
   "source": [
    "# `Part 2: Practical Implementation`"
   ]
  },
  {
   "cell_type": "markdown",
   "id": "60f2383a",
   "metadata": {},
   "source": [
    "># **Task 1: Creating and Manipulating Matrices**"
   ]
  },
  {
   "cell_type": "code",
   "execution_count": 19,
   "id": "734dd5a3",
   "metadata": {},
   "outputs": [],
   "source": [
    "import tensorflow as tf"
   ]
  },
  {
   "cell_type": "markdown",
   "id": "3e0c35e5",
   "metadata": {},
   "source": [
    "# Q1. Create a normal matrix A with dimensions 3x3, using TensorFlow's random_normal function. Display the values of matrix A.\n",
    "___\n"
   ]
  },
  {
   "cell_type": "code",
   "execution_count": 40,
   "id": "6714eaed",
   "metadata": {},
   "outputs": [],
   "source": [
    "matrix_A = tf.random.normal(shape=(3,3))"
   ]
  },
  {
   "cell_type": "code",
   "execution_count": 41,
   "id": "70a68b7d",
   "metadata": {},
   "outputs": [
    {
     "data": {
      "text/plain": [
       "array([[ 0.19708003,  0.7502121 , -0.18231754],\n",
       "       [-0.7191529 , -0.2666759 ,  1.1476651 ],\n",
       "       [-0.60042775, -1.373721  , -0.81151265]], dtype=float32)"
      ]
     },
     "execution_count": 41,
     "metadata": {},
     "output_type": "execute_result"
    }
   ],
   "source": [
    "matrix_A.numpy()"
   ]
  },
  {
   "cell_type": "markdown",
   "id": "da3450ee",
   "metadata": {},
   "source": [
    "# Q2. Create a Gaussian matrix B with dimensions 3x3, using TensorFlow's truncated_normal function. Display the values of matrix B.\n",
    "___"
   ]
  },
  {
   "cell_type": "code",
   "execution_count": 46,
   "id": "bc18d0da",
   "metadata": {},
   "outputs": [],
   "source": [
    "matrix_B = tf.random.truncated_normal(shape=(3,3))"
   ]
  },
  {
   "cell_type": "code",
   "execution_count": 47,
   "id": "afdb6f80",
   "metadata": {},
   "outputs": [
    {
     "data": {
      "text/plain": [
       "array([[-1.6304157 , -0.46560797, -0.6696561 ],\n",
       "       [ 0.7305882 , -0.8702906 ,  0.96658623],\n",
       "       [ 0.5249548 , -0.44582632, -1.0809076 ]], dtype=float32)"
      ]
     },
     "execution_count": 47,
     "metadata": {},
     "output_type": "execute_result"
    }
   ],
   "source": [
    "matrix_B.numpy()"
   ]
  },
  {
   "cell_type": "markdown",
   "id": "c00aa362",
   "metadata": {},
   "source": [
    "# Q3. Create a matrix C with dimensions 2x3, where the values are drawn from a normal distribution with a mean of 3 and a standard deviation of 0.5, using TensorFlow's random.normal function. Display the values of matrix C.\n",
    "___"
   ]
  },
  {
   "cell_type": "code",
   "execution_count": 53,
   "id": "1e5901e2",
   "metadata": {},
   "outputs": [],
   "source": [
    "matrix_C = tf.random.normal(shape=(2,3),mean = 3, stddev=0.5)"
   ]
  },
  {
   "cell_type": "code",
   "execution_count": 54,
   "id": "b692b557",
   "metadata": {},
   "outputs": [
    {
     "data": {
      "text/plain": [
       "array([[3.1724694, 2.24002  , 2.777005 ],\n",
       "       [2.7108805, 2.8456235, 2.3292804]], dtype=float32)"
      ]
     },
     "execution_count": 54,
     "metadata": {},
     "output_type": "execute_result"
    }
   ],
   "source": [
    "matrix_C.numpy()"
   ]
  },
  {
   "cell_type": "markdown",
   "id": "8bbb1c13",
   "metadata": {},
   "source": [
    "# Q4. Perform matrix addition between matrix A and matrix B, and store the result in matrix D.\n",
    "___"
   ]
  },
  {
   "cell_type": "code",
   "execution_count": 57,
   "id": "4bcf6202",
   "metadata": {},
   "outputs": [
    {
     "data": {
      "text/plain": [
       "array([[ 0.19708003,  0.7502121 , -0.18231754],\n",
       "       [-0.7191529 , -0.2666759 ,  1.1476651 ],\n",
       "       [-0.60042775, -1.373721  , -0.81151265]], dtype=float32)"
      ]
     },
     "execution_count": 57,
     "metadata": {},
     "output_type": "execute_result"
    }
   ],
   "source": [
    "matrix_A.numpy()"
   ]
  },
  {
   "cell_type": "code",
   "execution_count": 58,
   "id": "10f4d0ee",
   "metadata": {},
   "outputs": [
    {
     "data": {
      "text/plain": [
       "array([[-1.6304157 , -0.46560797, -0.6696561 ],\n",
       "       [ 0.7305882 , -0.8702906 ,  0.96658623],\n",
       "       [ 0.5249548 , -0.44582632, -1.0809076 ]], dtype=float32)"
      ]
     },
     "execution_count": 58,
     "metadata": {},
     "output_type": "execute_result"
    }
   ],
   "source": [
    "matrix_B.numpy()"
   ]
  },
  {
   "cell_type": "code",
   "execution_count": 50,
   "id": "2c335e84",
   "metadata": {},
   "outputs": [],
   "source": [
    "matrix_D = tf.add(matrix_A,matrix_B)"
   ]
  },
  {
   "cell_type": "code",
   "execution_count": 51,
   "id": "ab624fdb",
   "metadata": {},
   "outputs": [
    {
     "data": {
      "text/plain": [
       "array([[-1.4333357 ,  0.2846041 , -0.85197365],\n",
       "       [ 0.01143527, -1.1369665 ,  2.1142514 ],\n",
       "       [-0.07547295, -1.8195473 , -1.8924203 ]], dtype=float32)"
      ]
     },
     "execution_count": 51,
     "metadata": {},
     "output_type": "execute_result"
    }
   ],
   "source": [
    "matrix_D.numpy()"
   ]
  },
  {
   "cell_type": "markdown",
   "id": "beedf547",
   "metadata": {},
   "source": [
    "# Q5. Perform matrix multiplication between matrix C and matrix D, and store the result in matrix E.\n",
    "___"
   ]
  },
  {
   "cell_type": "code",
   "execution_count": 59,
   "id": "f65a3b6d",
   "metadata": {},
   "outputs": [
    {
     "data": {
      "text/plain": [
       "array([[3.1724694, 2.24002  , 2.777005 ],\n",
       "       [2.7108805, 2.8456235, 2.3292804]], dtype=float32)"
      ]
     },
     "execution_count": 59,
     "metadata": {},
     "output_type": "execute_result"
    }
   ],
   "source": [
    "matrix_C.numpy()"
   ]
  },
  {
   "cell_type": "code",
   "execution_count": 60,
   "id": "3d0f9c02",
   "metadata": {},
   "outputs": [
    {
     "data": {
      "text/plain": [
       "array([[-1.4333357 ,  0.2846041 , -0.85197365],\n",
       "       [ 0.01143527, -1.1369665 ,  2.1142514 ],\n",
       "       [-0.07547295, -1.8195473 , -1.8924203 ]], dtype=float32)"
      ]
     },
     "execution_count": 60,
     "metadata": {},
     "output_type": "execute_result"
    }
   ],
   "source": [
    "matrix_D.numpy()"
   ]
  },
  {
   "cell_type": "code",
   "execution_count": 61,
   "id": "47bac2fe",
   "metadata": {},
   "outputs": [],
   "source": [
    "matrix_E = tf.matmul(matrix_C,matrix_D)"
   ]
  },
  {
   "cell_type": "code",
   "execution_count": 62,
   "id": "e3d8f4c5",
   "metadata": {},
   "outputs": [
    {
     "data": {
      "text/plain": [
       "<tf.Tensor: shape=(2, 3), dtype=float32, numpy=\n",
       "array([[-4.731187  , -6.6968217 , -3.2221553 ],\n",
       "       [-4.0288587 , -6.7020864 , -0.70121276]], dtype=float32)>"
      ]
     },
     "execution_count": 62,
     "metadata": {},
     "output_type": "execute_result"
    }
   ],
   "source": [
    "matrix_E"
   ]
  },
  {
   "cell_type": "markdown",
   "id": "a7674977",
   "metadata": {},
   "source": []
  },
  {
   "cell_type": "markdown",
   "id": "ad6d6b90",
   "metadata": {},
   "source": []
  },
  {
   "cell_type": "markdown",
   "id": "4979691f",
   "metadata": {},
   "source": []
  },
  {
   "cell_type": "markdown",
   "id": "cd880c49",
   "metadata": {},
   "source": []
  },
  {
   "cell_type": "markdown",
   "id": "ef2a1897",
   "metadata": {},
   "source": []
  },
  {
   "cell_type": "markdown",
   "id": "42dbe3ee",
   "metadata": {},
   "source": [
    "># **Task 2: Performing Additional Matrix Operations**"
   ]
  },
  {
   "cell_type": "code",
   "execution_count": 65,
   "id": "81b0a36e",
   "metadata": {},
   "outputs": [],
   "source": [
    "import tensorflow as tf"
   ]
  },
  {
   "cell_type": "markdown",
   "id": "6ac9eabd",
   "metadata": {},
   "source": [
    "# Q1. Create a matrix F with dimensions 3x3, initialized with random values using TensorFlow's random_uniform function.\n",
    "___"
   ]
  },
  {
   "cell_type": "code",
   "execution_count": 95,
   "id": "abe91612",
   "metadata": {},
   "outputs": [],
   "source": [
    "matrix_F = tf.random.uniform(shape=(3,3))"
   ]
  },
  {
   "cell_type": "code",
   "execution_count": 101,
   "id": "1d68bb93",
   "metadata": {},
   "outputs": [
    {
     "data": {
      "text/plain": [
       "array([[0.53619456, 0.5416889 , 0.45589566],\n",
       "       [0.4438113 , 0.39252293, 0.92210793],\n",
       "       [0.20408809, 0.04513919, 0.7531333 ]], dtype=float32)"
      ]
     },
     "execution_count": 101,
     "metadata": {},
     "output_type": "execute_result"
    }
   ],
   "source": [
    "matrix_F.numpy()"
   ]
  },
  {
   "cell_type": "markdown",
   "id": "3fb7f3db",
   "metadata": {},
   "source": [
    "# Q2. Calculate the transpose of matrix F and store the result in matrix G.\n",
    "___"
   ]
  },
  {
   "cell_type": "code",
   "execution_count": 97,
   "id": "42870091",
   "metadata": {},
   "outputs": [],
   "source": [
    "matrix_G = tf.transpose(matrix_F)"
   ]
  },
  {
   "cell_type": "code",
   "execution_count": 102,
   "id": "76397e94",
   "metadata": {},
   "outputs": [
    {
     "data": {
      "text/plain": [
       "array([[0.53619456, 0.4438113 , 0.20408809],\n",
       "       [0.5416889 , 0.39252293, 0.04513919],\n",
       "       [0.45589566, 0.92210793, 0.7531333 ]], dtype=float32)"
      ]
     },
     "execution_count": 102,
     "metadata": {},
     "output_type": "execute_result"
    }
   ],
   "source": [
    "matrix_G.numpy()"
   ]
  },
  {
   "cell_type": "markdown",
   "id": "aabb8b10",
   "metadata": {},
   "source": [
    "# Q3.Calculate the element-wise exponential of matrix F and store the result in matrix H.\n",
    "___"
   ]
  },
  {
   "cell_type": "code",
   "execution_count": 99,
   "id": "052bb8c0",
   "metadata": {},
   "outputs": [],
   "source": [
    "matrix_H = tf.exp(matrix_F)"
   ]
  },
  {
   "cell_type": "code",
   "execution_count": 100,
   "id": "f3561151",
   "metadata": {},
   "outputs": [
    {
     "data": {
      "text/plain": [
       "array([[1.7094891, 1.7189075, 1.5775857],\n",
       "       [1.5586363, 1.4807118, 2.5145855],\n",
       "       [1.2264062, 1.0461735, 2.1236436]], dtype=float32)"
      ]
     },
     "execution_count": 100,
     "metadata": {},
     "output_type": "execute_result"
    }
   ],
   "source": [
    "matrix_H.numpy()"
   ]
  },
  {
   "cell_type": "markdown",
   "id": "594485a5",
   "metadata": {},
   "source": [
    "# Q4. Create a matrix I by concatenating matrix F and matrix G horizontally.\n",
    "___"
   ]
  },
  {
   "cell_type": "code",
   "execution_count": 110,
   "id": "d61c91c8",
   "metadata": {},
   "outputs": [
    {
     "data": {
      "text/plain": [
       "array([[0.53619456, 0.5416889 , 0.45589566],\n",
       "       [0.4438113 , 0.39252293, 0.92210793],\n",
       "       [0.20408809, 0.04513919, 0.7531333 ]], dtype=float32)"
      ]
     },
     "execution_count": 110,
     "metadata": {},
     "output_type": "execute_result"
    }
   ],
   "source": [
    "matrix_F.numpy()"
   ]
  },
  {
   "cell_type": "code",
   "execution_count": 109,
   "id": "793954b0",
   "metadata": {},
   "outputs": [
    {
     "data": {
      "text/plain": [
       "array([[0.53619456, 0.4438113 , 0.20408809],\n",
       "       [0.5416889 , 0.39252293, 0.04513919],\n",
       "       [0.45589566, 0.92210793, 0.7531333 ]], dtype=float32)"
      ]
     },
     "execution_count": 109,
     "metadata": {},
     "output_type": "execute_result"
    }
   ],
   "source": [
    "matrix_G.numpy()"
   ]
  },
  {
   "cell_type": "code",
   "execution_count": 106,
   "id": "694fac83",
   "metadata": {},
   "outputs": [],
   "source": [
    "matrix_I = tf.concat([matrix_F,matrix_G],1)"
   ]
  },
  {
   "cell_type": "code",
   "execution_count": 107,
   "id": "f7b4082e",
   "metadata": {},
   "outputs": [
    {
     "data": {
      "text/plain": [
       "array([[0.53619456, 0.5416889 , 0.45589566, 0.53619456, 0.4438113 ,\n",
       "        0.20408809],\n",
       "       [0.4438113 , 0.39252293, 0.92210793, 0.5416889 , 0.39252293,\n",
       "        0.04513919],\n",
       "       [0.20408809, 0.04513919, 0.7531333 , 0.45589566, 0.92210793,\n",
       "        0.7531333 ]], dtype=float32)"
      ]
     },
     "execution_count": 107,
     "metadata": {},
     "output_type": "execute_result"
    }
   ],
   "source": [
    "matrix_I.numpy()"
   ]
  },
  {
   "cell_type": "markdown",
   "id": "54afb732",
   "metadata": {},
   "source": [
    "# Q5. Create a matrix J by concatenating matrix F and matrix H vertically.\n",
    "___"
   ]
  },
  {
   "cell_type": "code",
   "execution_count": 111,
   "id": "646e99c6",
   "metadata": {},
   "outputs": [
    {
     "data": {
      "text/plain": [
       "array([[0.53619456, 0.5416889 , 0.45589566],\n",
       "       [0.4438113 , 0.39252293, 0.92210793],\n",
       "       [0.20408809, 0.04513919, 0.7531333 ]], dtype=float32)"
      ]
     },
     "execution_count": 111,
     "metadata": {},
     "output_type": "execute_result"
    }
   ],
   "source": [
    "matrix_F.numpy()"
   ]
  },
  {
   "cell_type": "code",
   "execution_count": 112,
   "id": "676557ea",
   "metadata": {},
   "outputs": [
    {
     "data": {
      "text/plain": [
       "array([[1.7094891, 1.7189075, 1.5775857],\n",
       "       [1.5586363, 1.4807118, 2.5145855],\n",
       "       [1.2264062, 1.0461735, 2.1236436]], dtype=float32)"
      ]
     },
     "execution_count": 112,
     "metadata": {},
     "output_type": "execute_result"
    }
   ],
   "source": [
    "matrix_H.numpy()"
   ]
  },
  {
   "cell_type": "code",
   "execution_count": 113,
   "id": "85920bcc",
   "metadata": {},
   "outputs": [],
   "source": [
    "matrix_J = tf.concat([matrix_F,matrix_H],0)"
   ]
  },
  {
   "cell_type": "code",
   "execution_count": 114,
   "id": "fdd6efaf",
   "metadata": {},
   "outputs": [
    {
     "data": {
      "text/plain": [
       "array([[0.53619456, 0.5416889 , 0.45589566],\n",
       "       [0.4438113 , 0.39252293, 0.92210793],\n",
       "       [0.20408809, 0.04513919, 0.7531333 ],\n",
       "       [1.7094891 , 1.7189075 , 1.5775857 ],\n",
       "       [1.5586363 , 1.4807118 , 2.5145855 ],\n",
       "       [1.2264062 , 1.0461735 , 2.1236436 ]], dtype=float32)"
      ]
     },
     "execution_count": 114,
     "metadata": {},
     "output_type": "execute_result"
    }
   ],
   "source": [
    "matrix_J.numpy()"
   ]
  }
 ],
 "metadata": {
  "kernelspec": {
   "display_name": "Python 3 (ipykernel)",
   "language": "python",
   "name": "python3"
  },
  "language_info": {
   "codemirror_mode": {
    "name": "ipython",
    "version": 3
   },
   "file_extension": ".py",
   "mimetype": "text/x-python",
   "name": "python",
   "nbconvert_exporter": "python",
   "pygments_lexer": "ipython3",
   "version": "3.11.3"
  }
 },
 "nbformat": 4,
 "nbformat_minor": 5
}
