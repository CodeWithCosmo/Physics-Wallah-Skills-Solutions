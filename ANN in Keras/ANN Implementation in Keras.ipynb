{
 "cells": [
  {
   "cell_type": "markdown",
   "id": "232dc857",
   "metadata": {},
   "source": [
    "# Q1. Install and load the latest versions of TensorFlow and Keras. Print their versions.\n",
    "___"
   ]
  },
  {
   "cell_type": "code",
   "execution_count": 1,
   "id": "ba0b3b62",
   "metadata": {},
   "outputs": [],
   "source": [
    "import tensorflow as tf\n",
    "import keras"
   ]
  },
  {
   "cell_type": "code",
   "execution_count": 2,
   "id": "9230f5e3",
   "metadata": {},
   "outputs": [
    {
     "name": "stdout",
     "output_type": "stream",
     "text": [
      "Tensorflow Version 2.13.0\n"
     ]
    }
   ],
   "source": [
    "print(f'Tensorflow Version {tf.__version__}')"
   ]
  },
  {
   "cell_type": "code",
   "execution_count": 3,
   "id": "ec5badc6",
   "metadata": {},
   "outputs": [
    {
     "name": "stdout",
     "output_type": "stream",
     "text": [
      "Keras Version 2.13.1\n"
     ]
    }
   ],
   "source": [
    "print(f'Keras Version {keras.__version__}')"
   ]
  },
  {
   "cell_type": "markdown",
   "id": "592b0f35",
   "metadata": {},
   "source": [
    "# Q2. Load the Wine Quality dataset and explore its dimensions. \n",
    "___"
   ]
  },
  {
   "cell_type": "code",
   "execution_count": 4,
   "id": "a3cc5746",
   "metadata": {},
   "outputs": [],
   "source": [
    "import pandas as pd\n",
    "import numpy as np\n",
    "import matplotlib.pyplot as plt\n",
    "import seaborn as sns"
   ]
  },
  {
   "cell_type": "code",
   "execution_count": 5,
   "id": "058d7f19",
   "metadata": {},
   "outputs": [],
   "source": [
    "wines = pd.read_csv('wine_quality_dataset.csv')"
   ]
  },
  {
   "cell_type": "code",
   "execution_count": 6,
   "id": "1e2aec8d",
   "metadata": {},
   "outputs": [
    {
     "data": {
      "text/html": [
       "<div>\n",
       "<style scoped>\n",
       "    .dataframe tbody tr th:only-of-type {\n",
       "        vertical-align: middle;\n",
       "    }\n",
       "\n",
       "    .dataframe tbody tr th {\n",
       "        vertical-align: top;\n",
       "    }\n",
       "\n",
       "    .dataframe thead th {\n",
       "        text-align: right;\n",
       "    }\n",
       "</style>\n",
       "<table border=\"1\" class=\"dataframe\">\n",
       "  <thead>\n",
       "    <tr style=\"text-align: right;\">\n",
       "      <th></th>\n",
       "      <th>fixed acidity</th>\n",
       "      <th>volatile acidity</th>\n",
       "      <th>citric acid</th>\n",
       "      <th>residual sugar</th>\n",
       "      <th>chlorides</th>\n",
       "      <th>free sulfur dioxide</th>\n",
       "      <th>total sulfur dioxide</th>\n",
       "      <th>density</th>\n",
       "      <th>pH</th>\n",
       "      <th>sulphates</th>\n",
       "      <th>alcohol</th>\n",
       "      <th>quality</th>\n",
       "    </tr>\n",
       "  </thead>\n",
       "  <tbody>\n",
       "    <tr>\n",
       "      <th>0</th>\n",
       "      <td>7.4</td>\n",
       "      <td>0.70</td>\n",
       "      <td>0.00</td>\n",
       "      <td>1.9</td>\n",
       "      <td>0.076</td>\n",
       "      <td>11.0</td>\n",
       "      <td>34.0</td>\n",
       "      <td>0.9978</td>\n",
       "      <td>3.51</td>\n",
       "      <td>0.56</td>\n",
       "      <td>9.4</td>\n",
       "      <td>bad</td>\n",
       "    </tr>\n",
       "    <tr>\n",
       "      <th>1</th>\n",
       "      <td>7.8</td>\n",
       "      <td>0.88</td>\n",
       "      <td>0.00</td>\n",
       "      <td>2.6</td>\n",
       "      <td>0.098</td>\n",
       "      <td>25.0</td>\n",
       "      <td>67.0</td>\n",
       "      <td>0.9968</td>\n",
       "      <td>3.20</td>\n",
       "      <td>0.68</td>\n",
       "      <td>9.8</td>\n",
       "      <td>bad</td>\n",
       "    </tr>\n",
       "    <tr>\n",
       "      <th>2</th>\n",
       "      <td>7.8</td>\n",
       "      <td>0.76</td>\n",
       "      <td>0.04</td>\n",
       "      <td>2.3</td>\n",
       "      <td>0.092</td>\n",
       "      <td>15.0</td>\n",
       "      <td>54.0</td>\n",
       "      <td>0.9970</td>\n",
       "      <td>3.26</td>\n",
       "      <td>0.65</td>\n",
       "      <td>9.8</td>\n",
       "      <td>bad</td>\n",
       "    </tr>\n",
       "    <tr>\n",
       "      <th>3</th>\n",
       "      <td>11.2</td>\n",
       "      <td>0.28</td>\n",
       "      <td>0.56</td>\n",
       "      <td>1.9</td>\n",
       "      <td>0.075</td>\n",
       "      <td>17.0</td>\n",
       "      <td>60.0</td>\n",
       "      <td>0.9980</td>\n",
       "      <td>3.16</td>\n",
       "      <td>0.58</td>\n",
       "      <td>9.8</td>\n",
       "      <td>good</td>\n",
       "    </tr>\n",
       "    <tr>\n",
       "      <th>4</th>\n",
       "      <td>7.4</td>\n",
       "      <td>0.70</td>\n",
       "      <td>0.00</td>\n",
       "      <td>1.9</td>\n",
       "      <td>0.076</td>\n",
       "      <td>11.0</td>\n",
       "      <td>34.0</td>\n",
       "      <td>0.9978</td>\n",
       "      <td>3.51</td>\n",
       "      <td>0.56</td>\n",
       "      <td>9.4</td>\n",
       "      <td>bad</td>\n",
       "    </tr>\n",
       "  </tbody>\n",
       "</table>\n",
       "</div>"
      ],
      "text/plain": [
       "   fixed acidity  volatile acidity  citric acid  residual sugar  chlorides   \n",
       "0            7.4              0.70         0.00             1.9      0.076  \\\n",
       "1            7.8              0.88         0.00             2.6      0.098   \n",
       "2            7.8              0.76         0.04             2.3      0.092   \n",
       "3           11.2              0.28         0.56             1.9      0.075   \n",
       "4            7.4              0.70         0.00             1.9      0.076   \n",
       "\n",
       "   free sulfur dioxide  total sulfur dioxide  density    pH  sulphates   \n",
       "0                 11.0                  34.0   0.9978  3.51       0.56  \\\n",
       "1                 25.0                  67.0   0.9968  3.20       0.68   \n",
       "2                 15.0                  54.0   0.9970  3.26       0.65   \n",
       "3                 17.0                  60.0   0.9980  3.16       0.58   \n",
       "4                 11.0                  34.0   0.9978  3.51       0.56   \n",
       "\n",
       "   alcohol quality  \n",
       "0      9.4     bad  \n",
       "1      9.8     bad  \n",
       "2      9.8     bad  \n",
       "3      9.8    good  \n",
       "4      9.4     bad  "
      ]
     },
     "execution_count": 6,
     "metadata": {},
     "output_type": "execute_result"
    }
   ],
   "source": [
    "wines.head()"
   ]
  },
  {
   "cell_type": "code",
   "execution_count": 7,
   "id": "555957ef",
   "metadata": {},
   "outputs": [
    {
     "data": {
      "text/plain": [
       "(1599, 12)"
      ]
     },
     "execution_count": 7,
     "metadata": {},
     "output_type": "execute_result"
    }
   ],
   "source": [
    "wines.shape"
   ]
  },
  {
   "cell_type": "code",
   "execution_count": 8,
   "id": "74915e1a",
   "metadata": {},
   "outputs": [
    {
     "name": "stdout",
     "output_type": "stream",
     "text": [
      "<class 'pandas.core.frame.DataFrame'>\n",
      "RangeIndex: 1599 entries, 0 to 1598\n",
      "Data columns (total 12 columns):\n",
      " #   Column                Non-Null Count  Dtype  \n",
      "---  ------                --------------  -----  \n",
      " 0   fixed acidity         1599 non-null   float64\n",
      " 1   volatile acidity      1599 non-null   float64\n",
      " 2   citric acid           1599 non-null   float64\n",
      " 3   residual sugar        1599 non-null   float64\n",
      " 4   chlorides             1599 non-null   float64\n",
      " 5   free sulfur dioxide   1599 non-null   float64\n",
      " 6   total sulfur dioxide  1599 non-null   float64\n",
      " 7   density               1599 non-null   float64\n",
      " 8   pH                    1599 non-null   float64\n",
      " 9   sulphates             1599 non-null   float64\n",
      " 10  alcohol               1599 non-null   float64\n",
      " 11  quality               1599 non-null   object \n",
      "dtypes: float64(11), object(1)\n",
      "memory usage: 150.0+ KB\n"
     ]
    }
   ],
   "source": [
    "wines.info()"
   ]
  },
  {
   "cell_type": "code",
   "execution_count": 9,
   "id": "eb1e93ec",
   "metadata": {},
   "outputs": [
    {
     "data": {
      "text/html": [
       "<div>\n",
       "<style scoped>\n",
       "    .dataframe tbody tr th:only-of-type {\n",
       "        vertical-align: middle;\n",
       "    }\n",
       "\n",
       "    .dataframe tbody tr th {\n",
       "        vertical-align: top;\n",
       "    }\n",
       "\n",
       "    .dataframe thead th {\n",
       "        text-align: right;\n",
       "    }\n",
       "</style>\n",
       "<table border=\"1\" class=\"dataframe\">\n",
       "  <thead>\n",
       "    <tr style=\"text-align: right;\">\n",
       "      <th></th>\n",
       "      <th>fixed acidity</th>\n",
       "      <th>volatile acidity</th>\n",
       "      <th>citric acid</th>\n",
       "      <th>residual sugar</th>\n",
       "      <th>chlorides</th>\n",
       "      <th>free sulfur dioxide</th>\n",
       "      <th>total sulfur dioxide</th>\n",
       "      <th>density</th>\n",
       "      <th>pH</th>\n",
       "      <th>sulphates</th>\n",
       "      <th>alcohol</th>\n",
       "    </tr>\n",
       "  </thead>\n",
       "  <tbody>\n",
       "    <tr>\n",
       "      <th>count</th>\n",
       "      <td>1599.000000</td>\n",
       "      <td>1599.000000</td>\n",
       "      <td>1599.000000</td>\n",
       "      <td>1599.000000</td>\n",
       "      <td>1599.000000</td>\n",
       "      <td>1599.000000</td>\n",
       "      <td>1599.000000</td>\n",
       "      <td>1599.000000</td>\n",
       "      <td>1599.000000</td>\n",
       "      <td>1599.000000</td>\n",
       "      <td>1599.000000</td>\n",
       "    </tr>\n",
       "    <tr>\n",
       "      <th>mean</th>\n",
       "      <td>8.319637</td>\n",
       "      <td>0.527821</td>\n",
       "      <td>0.270976</td>\n",
       "      <td>2.538806</td>\n",
       "      <td>0.087467</td>\n",
       "      <td>15.874922</td>\n",
       "      <td>46.467792</td>\n",
       "      <td>0.996747</td>\n",
       "      <td>3.311113</td>\n",
       "      <td>0.658149</td>\n",
       "      <td>10.422983</td>\n",
       "    </tr>\n",
       "    <tr>\n",
       "      <th>std</th>\n",
       "      <td>1.741096</td>\n",
       "      <td>0.179060</td>\n",
       "      <td>0.194801</td>\n",
       "      <td>1.409928</td>\n",
       "      <td>0.047065</td>\n",
       "      <td>10.460157</td>\n",
       "      <td>32.895324</td>\n",
       "      <td>0.001887</td>\n",
       "      <td>0.154386</td>\n",
       "      <td>0.169507</td>\n",
       "      <td>1.065668</td>\n",
       "    </tr>\n",
       "    <tr>\n",
       "      <th>min</th>\n",
       "      <td>4.600000</td>\n",
       "      <td>0.120000</td>\n",
       "      <td>0.000000</td>\n",
       "      <td>0.900000</td>\n",
       "      <td>0.012000</td>\n",
       "      <td>1.000000</td>\n",
       "      <td>6.000000</td>\n",
       "      <td>0.990070</td>\n",
       "      <td>2.740000</td>\n",
       "      <td>0.330000</td>\n",
       "      <td>8.400000</td>\n",
       "    </tr>\n",
       "    <tr>\n",
       "      <th>25%</th>\n",
       "      <td>7.100000</td>\n",
       "      <td>0.390000</td>\n",
       "      <td>0.090000</td>\n",
       "      <td>1.900000</td>\n",
       "      <td>0.070000</td>\n",
       "      <td>7.000000</td>\n",
       "      <td>22.000000</td>\n",
       "      <td>0.995600</td>\n",
       "      <td>3.210000</td>\n",
       "      <td>0.550000</td>\n",
       "      <td>9.500000</td>\n",
       "    </tr>\n",
       "    <tr>\n",
       "      <th>50%</th>\n",
       "      <td>7.900000</td>\n",
       "      <td>0.520000</td>\n",
       "      <td>0.260000</td>\n",
       "      <td>2.200000</td>\n",
       "      <td>0.079000</td>\n",
       "      <td>14.000000</td>\n",
       "      <td>38.000000</td>\n",
       "      <td>0.996750</td>\n",
       "      <td>3.310000</td>\n",
       "      <td>0.620000</td>\n",
       "      <td>10.200000</td>\n",
       "    </tr>\n",
       "    <tr>\n",
       "      <th>75%</th>\n",
       "      <td>9.200000</td>\n",
       "      <td>0.640000</td>\n",
       "      <td>0.420000</td>\n",
       "      <td>2.600000</td>\n",
       "      <td>0.090000</td>\n",
       "      <td>21.000000</td>\n",
       "      <td>62.000000</td>\n",
       "      <td>0.997835</td>\n",
       "      <td>3.400000</td>\n",
       "      <td>0.730000</td>\n",
       "      <td>11.100000</td>\n",
       "    </tr>\n",
       "    <tr>\n",
       "      <th>max</th>\n",
       "      <td>15.900000</td>\n",
       "      <td>1.580000</td>\n",
       "      <td>1.000000</td>\n",
       "      <td>15.500000</td>\n",
       "      <td>0.611000</td>\n",
       "      <td>72.000000</td>\n",
       "      <td>289.000000</td>\n",
       "      <td>1.003690</td>\n",
       "      <td>4.010000</td>\n",
       "      <td>2.000000</td>\n",
       "      <td>14.900000</td>\n",
       "    </tr>\n",
       "  </tbody>\n",
       "</table>\n",
       "</div>"
      ],
      "text/plain": [
       "       fixed acidity  volatile acidity  citric acid  residual sugar   \n",
       "count    1599.000000       1599.000000  1599.000000     1599.000000  \\\n",
       "mean        8.319637          0.527821     0.270976        2.538806   \n",
       "std         1.741096          0.179060     0.194801        1.409928   \n",
       "min         4.600000          0.120000     0.000000        0.900000   \n",
       "25%         7.100000          0.390000     0.090000        1.900000   \n",
       "50%         7.900000          0.520000     0.260000        2.200000   \n",
       "75%         9.200000          0.640000     0.420000        2.600000   \n",
       "max        15.900000          1.580000     1.000000       15.500000   \n",
       "\n",
       "         chlorides  free sulfur dioxide  total sulfur dioxide      density   \n",
       "count  1599.000000          1599.000000           1599.000000  1599.000000  \\\n",
       "mean      0.087467            15.874922             46.467792     0.996747   \n",
       "std       0.047065            10.460157             32.895324     0.001887   \n",
       "min       0.012000             1.000000              6.000000     0.990070   \n",
       "25%       0.070000             7.000000             22.000000     0.995600   \n",
       "50%       0.079000            14.000000             38.000000     0.996750   \n",
       "75%       0.090000            21.000000             62.000000     0.997835   \n",
       "max       0.611000            72.000000            289.000000     1.003690   \n",
       "\n",
       "                pH    sulphates      alcohol  \n",
       "count  1599.000000  1599.000000  1599.000000  \n",
       "mean      3.311113     0.658149    10.422983  \n",
       "std       0.154386     0.169507     1.065668  \n",
       "min       2.740000     0.330000     8.400000  \n",
       "25%       3.210000     0.550000     9.500000  \n",
       "50%       3.310000     0.620000    10.200000  \n",
       "75%       3.400000     0.730000    11.100000  \n",
       "max       4.010000     2.000000    14.900000  "
      ]
     },
     "execution_count": 9,
     "metadata": {},
     "output_type": "execute_result"
    }
   ],
   "source": [
    "wines.describe()"
   ]
  },
  {
   "cell_type": "code",
   "execution_count": 10,
   "id": "c9a02237",
   "metadata": {},
   "outputs": [
    {
     "data": {
      "text/html": [
       "<div>\n",
       "<style scoped>\n",
       "    .dataframe tbody tr th:only-of-type {\n",
       "        vertical-align: middle;\n",
       "    }\n",
       "\n",
       "    .dataframe tbody tr th {\n",
       "        vertical-align: top;\n",
       "    }\n",
       "\n",
       "    .dataframe thead th {\n",
       "        text-align: right;\n",
       "    }\n",
       "</style>\n",
       "<table border=\"1\" class=\"dataframe\">\n",
       "  <thead>\n",
       "    <tr style=\"text-align: right;\">\n",
       "      <th></th>\n",
       "      <th>fixed acidity</th>\n",
       "      <th>volatile acidity</th>\n",
       "      <th>citric acid</th>\n",
       "      <th>residual sugar</th>\n",
       "      <th>chlorides</th>\n",
       "      <th>free sulfur dioxide</th>\n",
       "      <th>total sulfur dioxide</th>\n",
       "      <th>density</th>\n",
       "      <th>pH</th>\n",
       "      <th>sulphates</th>\n",
       "      <th>alcohol</th>\n",
       "    </tr>\n",
       "  </thead>\n",
       "  <tbody>\n",
       "    <tr>\n",
       "      <th>fixed acidity</th>\n",
       "      <td>1.000000</td>\n",
       "      <td>-0.278282</td>\n",
       "      <td>0.661708</td>\n",
       "      <td>0.220701</td>\n",
       "      <td>0.250904</td>\n",
       "      <td>-0.175137</td>\n",
       "      <td>-0.088417</td>\n",
       "      <td>0.623071</td>\n",
       "      <td>-0.706674</td>\n",
       "      <td>0.212654</td>\n",
       "      <td>-0.066576</td>\n",
       "    </tr>\n",
       "    <tr>\n",
       "      <th>volatile acidity</th>\n",
       "      <td>-0.278282</td>\n",
       "      <td>1.000000</td>\n",
       "      <td>-0.610259</td>\n",
       "      <td>0.032386</td>\n",
       "      <td>0.158770</td>\n",
       "      <td>0.021163</td>\n",
       "      <td>0.094110</td>\n",
       "      <td>0.025014</td>\n",
       "      <td>0.233572</td>\n",
       "      <td>-0.325584</td>\n",
       "      <td>-0.224932</td>\n",
       "    </tr>\n",
       "    <tr>\n",
       "      <th>citric acid</th>\n",
       "      <td>0.661708</td>\n",
       "      <td>-0.610259</td>\n",
       "      <td>1.000000</td>\n",
       "      <td>0.176417</td>\n",
       "      <td>0.112577</td>\n",
       "      <td>-0.076452</td>\n",
       "      <td>0.009400</td>\n",
       "      <td>0.352285</td>\n",
       "      <td>-0.548026</td>\n",
       "      <td>0.331074</td>\n",
       "      <td>0.096456</td>\n",
       "    </tr>\n",
       "    <tr>\n",
       "      <th>residual sugar</th>\n",
       "      <td>0.220701</td>\n",
       "      <td>0.032386</td>\n",
       "      <td>0.176417</td>\n",
       "      <td>1.000000</td>\n",
       "      <td>0.212959</td>\n",
       "      <td>0.074618</td>\n",
       "      <td>0.145375</td>\n",
       "      <td>0.422266</td>\n",
       "      <td>-0.089971</td>\n",
       "      <td>0.038332</td>\n",
       "      <td>0.116548</td>\n",
       "    </tr>\n",
       "    <tr>\n",
       "      <th>chlorides</th>\n",
       "      <td>0.250904</td>\n",
       "      <td>0.158770</td>\n",
       "      <td>0.112577</td>\n",
       "      <td>0.212959</td>\n",
       "      <td>1.000000</td>\n",
       "      <td>0.000805</td>\n",
       "      <td>0.130033</td>\n",
       "      <td>0.411390</td>\n",
       "      <td>-0.234361</td>\n",
       "      <td>0.020825</td>\n",
       "      <td>-0.284504</td>\n",
       "    </tr>\n",
       "    <tr>\n",
       "      <th>free sulfur dioxide</th>\n",
       "      <td>-0.175137</td>\n",
       "      <td>0.021163</td>\n",
       "      <td>-0.076452</td>\n",
       "      <td>0.074618</td>\n",
       "      <td>0.000805</td>\n",
       "      <td>1.000000</td>\n",
       "      <td>0.789698</td>\n",
       "      <td>-0.041178</td>\n",
       "      <td>0.115679</td>\n",
       "      <td>0.045862</td>\n",
       "      <td>-0.081367</td>\n",
       "    </tr>\n",
       "    <tr>\n",
       "      <th>total sulfur dioxide</th>\n",
       "      <td>-0.088417</td>\n",
       "      <td>0.094110</td>\n",
       "      <td>0.009400</td>\n",
       "      <td>0.145375</td>\n",
       "      <td>0.130033</td>\n",
       "      <td>0.789698</td>\n",
       "      <td>1.000000</td>\n",
       "      <td>0.129332</td>\n",
       "      <td>-0.009841</td>\n",
       "      <td>-0.000504</td>\n",
       "      <td>-0.257806</td>\n",
       "    </tr>\n",
       "    <tr>\n",
       "      <th>density</th>\n",
       "      <td>0.623071</td>\n",
       "      <td>0.025014</td>\n",
       "      <td>0.352285</td>\n",
       "      <td>0.422266</td>\n",
       "      <td>0.411390</td>\n",
       "      <td>-0.041178</td>\n",
       "      <td>0.129332</td>\n",
       "      <td>1.000000</td>\n",
       "      <td>-0.312055</td>\n",
       "      <td>0.161478</td>\n",
       "      <td>-0.462445</td>\n",
       "    </tr>\n",
       "    <tr>\n",
       "      <th>pH</th>\n",
       "      <td>-0.706674</td>\n",
       "      <td>0.233572</td>\n",
       "      <td>-0.548026</td>\n",
       "      <td>-0.089971</td>\n",
       "      <td>-0.234361</td>\n",
       "      <td>0.115679</td>\n",
       "      <td>-0.009841</td>\n",
       "      <td>-0.312055</td>\n",
       "      <td>1.000000</td>\n",
       "      <td>-0.080306</td>\n",
       "      <td>0.179932</td>\n",
       "    </tr>\n",
       "    <tr>\n",
       "      <th>sulphates</th>\n",
       "      <td>0.212654</td>\n",
       "      <td>-0.325584</td>\n",
       "      <td>0.331074</td>\n",
       "      <td>0.038332</td>\n",
       "      <td>0.020825</td>\n",
       "      <td>0.045862</td>\n",
       "      <td>-0.000504</td>\n",
       "      <td>0.161478</td>\n",
       "      <td>-0.080306</td>\n",
       "      <td>1.000000</td>\n",
       "      <td>0.207330</td>\n",
       "    </tr>\n",
       "    <tr>\n",
       "      <th>alcohol</th>\n",
       "      <td>-0.066576</td>\n",
       "      <td>-0.224932</td>\n",
       "      <td>0.096456</td>\n",
       "      <td>0.116548</td>\n",
       "      <td>-0.284504</td>\n",
       "      <td>-0.081367</td>\n",
       "      <td>-0.257806</td>\n",
       "      <td>-0.462445</td>\n",
       "      <td>0.179932</td>\n",
       "      <td>0.207330</td>\n",
       "      <td>1.000000</td>\n",
       "    </tr>\n",
       "  </tbody>\n",
       "</table>\n",
       "</div>"
      ],
      "text/plain": [
       "                      fixed acidity  volatile acidity  citric acid   \n",
       "fixed acidity              1.000000         -0.278282     0.661708  \\\n",
       "volatile acidity          -0.278282          1.000000    -0.610259   \n",
       "citric acid                0.661708         -0.610259     1.000000   \n",
       "residual sugar             0.220701          0.032386     0.176417   \n",
       "chlorides                  0.250904          0.158770     0.112577   \n",
       "free sulfur dioxide       -0.175137          0.021163    -0.076452   \n",
       "total sulfur dioxide      -0.088417          0.094110     0.009400   \n",
       "density                    0.623071          0.025014     0.352285   \n",
       "pH                        -0.706674          0.233572    -0.548026   \n",
       "sulphates                  0.212654         -0.325584     0.331074   \n",
       "alcohol                   -0.066576         -0.224932     0.096456   \n",
       "\n",
       "                      residual sugar  chlorides  free sulfur dioxide   \n",
       "fixed acidity               0.220701   0.250904            -0.175137  \\\n",
       "volatile acidity            0.032386   0.158770             0.021163   \n",
       "citric acid                 0.176417   0.112577            -0.076452   \n",
       "residual sugar              1.000000   0.212959             0.074618   \n",
       "chlorides                   0.212959   1.000000             0.000805   \n",
       "free sulfur dioxide         0.074618   0.000805             1.000000   \n",
       "total sulfur dioxide        0.145375   0.130033             0.789698   \n",
       "density                     0.422266   0.411390            -0.041178   \n",
       "pH                         -0.089971  -0.234361             0.115679   \n",
       "sulphates                   0.038332   0.020825             0.045862   \n",
       "alcohol                     0.116548  -0.284504            -0.081367   \n",
       "\n",
       "                      total sulfur dioxide   density        pH  sulphates   \n",
       "fixed acidity                    -0.088417  0.623071 -0.706674   0.212654  \\\n",
       "volatile acidity                  0.094110  0.025014  0.233572  -0.325584   \n",
       "citric acid                       0.009400  0.352285 -0.548026   0.331074   \n",
       "residual sugar                    0.145375  0.422266 -0.089971   0.038332   \n",
       "chlorides                         0.130033  0.411390 -0.234361   0.020825   \n",
       "free sulfur dioxide               0.789698 -0.041178  0.115679   0.045862   \n",
       "total sulfur dioxide              1.000000  0.129332 -0.009841  -0.000504   \n",
       "density                           0.129332  1.000000 -0.312055   0.161478   \n",
       "pH                               -0.009841 -0.312055  1.000000  -0.080306   \n",
       "sulphates                        -0.000504  0.161478 -0.080306   1.000000   \n",
       "alcohol                          -0.257806 -0.462445  0.179932   0.207330   \n",
       "\n",
       "                       alcohol  \n",
       "fixed acidity        -0.066576  \n",
       "volatile acidity     -0.224932  \n",
       "citric acid           0.096456  \n",
       "residual sugar        0.116548  \n",
       "chlorides            -0.284504  \n",
       "free sulfur dioxide  -0.081367  \n",
       "total sulfur dioxide -0.257806  \n",
       "density              -0.462445  \n",
       "pH                    0.179932  \n",
       "sulphates             0.207330  \n",
       "alcohol               1.000000  "
      ]
     },
     "execution_count": 10,
     "metadata": {},
     "output_type": "execute_result"
    }
   ],
   "source": [
    "corr_metrics = wines.corr(method='spearman',numeric_only=True)\n",
    "corr_metrics"
   ]
  },
  {
   "cell_type": "code",
   "execution_count": 11,
   "id": "d9a48f7d",
   "metadata": {},
   "outputs": [
    {
     "data": {
      "image/png": "[encoded data removed]",
      "text/plain": [
       "<Figure size 2000x800 with 2 Axes>"
      ]
     },
     "metadata": {},
     "output_type": "display_data"
    }
   ],
   "source": [
    "plt.figure(figsize=(20,8))\n",
    "sns.heatmap(corr_metrics, annot=True, cmap='coolwarm')\n",
    "plt.show()"
   ]
  },
  {
   "cell_type": "markdown",
   "id": "6f08a8c5",
   "metadata": {},
   "source": [
    "# Q3. Check for null values, identify categorical variables, and encode them.\n",
    "___"
   ]
  },
  {
   "cell_type": "code",
   "execution_count": 12,
   "id": "b43b9675",
   "metadata": {},
   "outputs": [
    {
     "data": {
      "text/plain": [
       "fixed acidity           0\n",
       "volatile acidity        0\n",
       "citric acid             0\n",
       "residual sugar          0\n",
       "chlorides               0\n",
       "free sulfur dioxide     0\n",
       "total sulfur dioxide    0\n",
       "density                 0\n",
       "pH                      0\n",
       "sulphates               0\n",
       "alcohol                 0\n",
       "quality                 0\n",
       "dtype: int64"
      ]
     },
     "execution_count": 12,
     "metadata": {},
     "output_type": "execute_result"
    }
   ],
   "source": [
    "wines.isnull().sum()"
   ]
  },
  {
   "cell_type": "code",
   "execution_count": 13,
   "id": "41239eca",
   "metadata": {},
   "outputs": [],
   "source": [
    "# Label Encoding\n",
    "from sklearn.preprocessing import LabelBinarizer\n",
    "lb = LabelBinarizer()\n",
    "wines['quality'] = lb.fit_transform(wines['quality'])"
   ]
  },
  {
   "cell_type": "code",
   "execution_count": 14,
   "id": "d45ace86",
   "metadata": {},
   "outputs": [
    {
     "data": {
      "text/html": [
       "<div>\n",
       "<style scoped>\n",
       "    .dataframe tbody tr th:only-of-type {\n",
       "        vertical-align: middle;\n",
       "    }\n",
       "\n",
       "    .dataframe tbody tr th {\n",
       "        vertical-align: top;\n",
       "    }\n",
       "\n",
       "    .dataframe thead th {\n",
       "        text-align: right;\n",
       "    }\n",
       "</style>\n",
       "<table border=\"1\" class=\"dataframe\">\n",
       "  <thead>\n",
       "    <tr style=\"text-align: right;\">\n",
       "      <th></th>\n",
       "      <th>fixed acidity</th>\n",
       "      <th>volatile acidity</th>\n",
       "      <th>citric acid</th>\n",
       "      <th>residual sugar</th>\n",
       "      <th>chlorides</th>\n",
       "      <th>free sulfur dioxide</th>\n",
       "      <th>total sulfur dioxide</th>\n",
       "      <th>density</th>\n",
       "      <th>pH</th>\n",
       "      <th>sulphates</th>\n",
       "      <th>alcohol</th>\n",
       "      <th>quality</th>\n",
       "    </tr>\n",
       "  </thead>\n",
       "  <tbody>\n",
       "    <tr>\n",
       "      <th>0</th>\n",
       "      <td>7.4</td>\n",
       "      <td>0.70</td>\n",
       "      <td>0.00</td>\n",
       "      <td>1.9</td>\n",
       "      <td>0.076</td>\n",
       "      <td>11.0</td>\n",
       "      <td>34.0</td>\n",
       "      <td>0.9978</td>\n",
       "      <td>3.51</td>\n",
       "      <td>0.56</td>\n",
       "      <td>9.4</td>\n",
       "      <td>0</td>\n",
       "    </tr>\n",
       "    <tr>\n",
       "      <th>1</th>\n",
       "      <td>7.8</td>\n",
       "      <td>0.88</td>\n",
       "      <td>0.00</td>\n",
       "      <td>2.6</td>\n",
       "      <td>0.098</td>\n",
       "      <td>25.0</td>\n",
       "      <td>67.0</td>\n",
       "      <td>0.9968</td>\n",
       "      <td>3.20</td>\n",
       "      <td>0.68</td>\n",
       "      <td>9.8</td>\n",
       "      <td>0</td>\n",
       "    </tr>\n",
       "    <tr>\n",
       "      <th>2</th>\n",
       "      <td>7.8</td>\n",
       "      <td>0.76</td>\n",
       "      <td>0.04</td>\n",
       "      <td>2.3</td>\n",
       "      <td>0.092</td>\n",
       "      <td>15.0</td>\n",
       "      <td>54.0</td>\n",
       "      <td>0.9970</td>\n",
       "      <td>3.26</td>\n",
       "      <td>0.65</td>\n",
       "      <td>9.8</td>\n",
       "      <td>0</td>\n",
       "    </tr>\n",
       "    <tr>\n",
       "      <th>3</th>\n",
       "      <td>11.2</td>\n",
       "      <td>0.28</td>\n",
       "      <td>0.56</td>\n",
       "      <td>1.9</td>\n",
       "      <td>0.075</td>\n",
       "      <td>17.0</td>\n",
       "      <td>60.0</td>\n",
       "      <td>0.9980</td>\n",
       "      <td>3.16</td>\n",
       "      <td>0.58</td>\n",
       "      <td>9.8</td>\n",
       "      <td>1</td>\n",
       "    </tr>\n",
       "    <tr>\n",
       "      <th>4</th>\n",
       "      <td>7.4</td>\n",
       "      <td>0.70</td>\n",
       "      <td>0.00</td>\n",
       "      <td>1.9</td>\n",
       "      <td>0.076</td>\n",
       "      <td>11.0</td>\n",
       "      <td>34.0</td>\n",
       "      <td>0.9978</td>\n",
       "      <td>3.51</td>\n",
       "      <td>0.56</td>\n",
       "      <td>9.4</td>\n",
       "      <td>0</td>\n",
       "    </tr>\n",
       "  </tbody>\n",
       "</table>\n",
       "</div>"
      ],
      "text/plain": [
       "   fixed acidity  volatile acidity  citric acid  residual sugar  chlorides   \n",
       "0            7.4              0.70         0.00             1.9      0.076  \\\n",
       "1            7.8              0.88         0.00             2.6      0.098   \n",
       "2            7.8              0.76         0.04             2.3      0.092   \n",
       "3           11.2              0.28         0.56             1.9      0.075   \n",
       "4            7.4              0.70         0.00             1.9      0.076   \n",
       "\n",
       "   free sulfur dioxide  total sulfur dioxide  density    pH  sulphates   \n",
       "0                 11.0                  34.0   0.9978  3.51       0.56  \\\n",
       "1                 25.0                  67.0   0.9968  3.20       0.68   \n",
       "2                 15.0                  54.0   0.9970  3.26       0.65   \n",
       "3                 17.0                  60.0   0.9980  3.16       0.58   \n",
       "4                 11.0                  34.0   0.9978  3.51       0.56   \n",
       "\n",
       "   alcohol  quality  \n",
       "0      9.4        0  \n",
       "1      9.8        0  \n",
       "2      9.8        0  \n",
       "3      9.8        1  \n",
       "4      9.4        0  "
      ]
     },
     "execution_count": 14,
     "metadata": {},
     "output_type": "execute_result"
    }
   ],
   "source": [
    "wines.head()"
   ]
  },
  {
   "cell_type": "markdown",
   "id": "63537fd6",
   "metadata": {},
   "source": [
    "# Q4. Separate the features and target variables from the dataset.\n",
    "___"
   ]
  },
  {
   "cell_type": "code",
   "execution_count": 15,
   "id": "d9cc8777",
   "metadata": {},
   "outputs": [],
   "source": [
    "X = wines.drop('quality', axis=1)\n",
    "y = wines.quality"
   ]
  },
  {
   "cell_type": "markdown",
   "id": "07538555",
   "metadata": {},
   "source": [
    "# Q5. Perform a train-test split, dividing the data into training, validation, and test datasets.\n",
    "___"
   ]
  },
  {
   "cell_type": "code",
   "execution_count": 16,
   "id": "f5b9e8e6",
   "metadata": {},
   "outputs": [],
   "source": [
    "from sklearn.model_selection import train_test_split\n",
    "X_train_full, X_test, y_train_full, y_test = train_test_split(X, y, test_size=0.2, random_state=42)\n",
    "X_train, X_valid, y_train, y_valid = train_test_split(X_train_full, y_train_full, test_size=0.20, random_state=42)"
   ]
  },
  {
   "cell_type": "code",
   "execution_count": 17,
   "id": "e7dcefdd",
   "metadata": {},
   "outputs": [
    {
     "name": "stdout",
     "output_type": "stream",
     "text": [
      "(1279, 11) (1279,)\n"
     ]
    }
   ],
   "source": [
    "print(X_train_full.shape, y_train_full.shape) # Full Training Set"
   ]
  },
  {
   "cell_type": "code",
   "execution_count": 18,
   "id": "2ce50037",
   "metadata": {},
   "outputs": [
    {
     "name": "stdout",
     "output_type": "stream",
     "text": [
      "(320, 11) (320,)\n"
     ]
    }
   ],
   "source": [
    "print(X_test.shape, y_test.shape) # Test Set"
   ]
  },
  {
   "cell_type": "code",
   "execution_count": 19,
   "id": "7b9dd67c",
   "metadata": {},
   "outputs": [
    {
     "name": "stdout",
     "output_type": "stream",
     "text": [
      "(1023, 11) (1023,)\n"
     ]
    }
   ],
   "source": [
    "print(X_train.shape, y_train.shape) # Training Set"
   ]
  },
  {
   "cell_type": "code",
   "execution_count": 20,
   "id": "d5dacb95",
   "metadata": {},
   "outputs": [
    {
     "name": "stdout",
     "output_type": "stream",
     "text": [
      "(256, 11) (256,)\n"
     ]
    }
   ],
   "source": [
    "print(X_valid.shape, y_valid.shape) # Validation Set"
   ]
  },
  {
   "cell_type": "markdown",
   "id": "60b7fec0",
   "metadata": {},
   "source": [
    "# Q6. Scale the dataset using an appropriate scaling technique.\n",
    "___"
   ]
  },
  {
   "cell_type": "code",
   "execution_count": 21,
   "id": "2a2b504c",
   "metadata": {},
   "outputs": [],
   "source": [
    "from sklearn.preprocessing import StandardScaler\n",
    "scaler = StandardScaler()\n",
    "X_train = scaler.fit_transform(X_train)\n",
    "X_valid = scaler.transform(X_valid)\n",
    "X_test = scaler.transform(X_test)"
   ]
  },
  {
   "cell_type": "markdown",
   "id": "7988b882",
   "metadata": {},
   "source": [
    "# Q7. Design and implement at least two hidden layers and an output layer for the binary categorical variables.\n",
    "___"
   ]
  },
  {
   "cell_type": "code",
   "execution_count": 22,
   "id": "e2a6405b",
   "metadata": {},
   "outputs": [],
   "source": [
    "from keras.layers import InputLayer,Dense"
   ]
  },
  {
   "cell_type": "code",
   "execution_count": 23,
   "id": "5b76f82f",
   "metadata": {},
   "outputs": [
    {
     "data": {
      "text/plain": [
       "11"
      ]
     },
     "execution_count": 23,
     "metadata": {},
     "output_type": "execute_result"
    }
   ],
   "source": [
    "# defining input neurons\n",
    "input_neurons = X_train.shape[1]\n",
    "input_neurons"
   ]
  },
  {
   "cell_type": "code",
   "execution_count": 24,
   "id": "e6ace196",
   "metadata": {},
   "outputs": [
    {
     "data": {
      "text/plain": [
       "2"
      ]
     },
     "execution_count": 24,
     "metadata": {},
     "output_type": "execute_result"
    }
   ],
   "source": [
    "# defining number of output neurons\n",
    "output_neurons = len(np.unique(y_train))\n",
    "output_neurons"
   ]
  },
  {
   "cell_type": "code",
   "execution_count": 25,
   "id": "af9580b8",
   "metadata": {},
   "outputs": [],
   "source": [
    "# defining hidden layers and neurons in each layer\n",
    "number_of_hidden_layers = 2\n",
    "neuron_hidden_layer_1 = 10\n",
    "neuron_hidden_layer_2 = 5"
   ]
  },
  {
   "cell_type": "markdown",
   "id": "441651eb",
   "metadata": {},
   "source": [
    "# Q8. Create a Sequential model in Keras and add the previously designed layers to it.\n",
    "___"
   ]
  },
  {
   "cell_type": "code",
   "execution_count": 45,
   "id": "cee91234",
   "metadata": {},
   "outputs": [],
   "source": [
    "from keras.models import Sequential"
   ]
  },
  {
   "cell_type": "code",
   "execution_count": 46,
   "id": "6e761fe5",
   "metadata": {},
   "outputs": [],
   "source": [
    "model = Sequential()\n",
    "model.add(InputLayer(input_shape=(input_neurons,)))\n",
    "model.add(Dense(units=neuron_hidden_layer_1, activation='elu'))\n",
    "model.add(Dense(units=neuron_hidden_layer_2, activation='elu'))\n",
    "model.add(Dense(units=output_neurons, activation='tanh'))"
   ]
  },
  {
   "cell_type": "markdown",
   "id": "45168e46",
   "metadata": {},
   "source": [
    "# Q9. Print the summary of the model architecture.\n",
    "___"
   ]
  },
  {
   "cell_type": "code",
   "execution_count": 47,
   "id": "f9839d76",
   "metadata": {},
   "outputs": [
    {
     "name": "stdout",
     "output_type": "stream",
     "text": [
      "Model: \"sequential_1\"\n",
      "_________________________________________________________________\n",
      " Layer (type)                Output Shape              Param #   \n",
      "=================================================================\n",
      " dense_3 (Dense)             (None, 10)                120       \n",
      "                                                                 \n",
      " dense_4 (Dense)             (None, 5)                 55        \n",
      "                                                                 \n",
      " dense_5 (Dense)             (None, 2)                 12        \n",
      "                                                                 \n",
      "=================================================================\n",
      "Total params: 187 (748.00 Byte)\n",
      "Trainable params: 187 (748.00 Byte)\n",
      "Non-trainable params: 0 (0.00 Byte)\n",
      "_________________________________________________________________\n"
     ]
    }
   ],
   "source": [
    "model.summary()"
   ]
  },
  {
   "cell_type": "markdown",
   "id": "72c832e5",
   "metadata": {},
   "source": [
    "# Q10. Set the loss function(‘binary_crossentropy’), optimizer, and include the accuracy metric in the model.\n",
    "___"
   ]
  },
  {
   "cell_type": "code",
   "execution_count": 48,
   "id": "67fbbf48",
   "metadata": {},
   "outputs": [],
   "source": [
    "LOSS = 'binary_crossentropy'\n",
    "OPTIMIZER = 'adam'\n",
    "METRICS = ['accuracy']"
   ]
  },
  {
   "cell_type": "markdown",
   "id": "21413c43",
   "metadata": {},
   "source": [
    "# Q11. Compile the model with the specified loss function, optimizer, and metrics.\n",
    "___"
   ]
  },
  {
   "cell_type": "code",
   "execution_count": 49,
   "id": "25340eef",
   "metadata": {},
   "outputs": [],
   "source": [
    "model.compile(loss=LOSS, optimizer=OPTIMIZER, metrics=METRICS)"
   ]
  },
  {
   "cell_type": "markdown",
   "id": "26b2d992",
   "metadata": {},
   "source": [
    "# Q12. Fit the model to the training data using appropriate batch size and number of epochs.\n",
    "___"
   ]
  },
  {
   "cell_type": "code",
   "execution_count": 50,
   "id": "d12a3526",
   "metadata": {},
   "outputs": [
    {
     "name": "stdout",
     "output_type": "stream",
     "text": [
      "Epoch 1/100\n",
      "32/32 [==============================] - 1s 5ms/step - loss: 2.9521 - accuracy: 0.5122 - val_loss: 2.5825 - val_accuracy: 0.5312\n",
      "Epoch 2/100\n",
      "32/32 [==============================] - 0s 2ms/step - loss: 2.2910 - accuracy: 0.5034 - val_loss: 2.0825 - val_accuracy: 0.5156\n",
      "Epoch 3/100\n",
      "32/32 [==============================] - 0s 2ms/step - loss: 1.8955 - accuracy: 0.5171 - val_loss: 1.7447 - val_accuracy: 0.5117\n",
      "Epoch 4/100\n",
      "32/32 [==============================] - 0s 2ms/step - loss: 1.7270 - accuracy: 0.5122 - val_loss: 1.6381 - val_accuracy: 0.5039\n",
      "Epoch 5/100\n",
      "32/32 [==============================] - 0s 2ms/step - loss: 1.5875 - accuracy: 0.5024 - val_loss: 1.5193 - val_accuracy: 0.4883\n",
      "Epoch 6/100\n",
      "32/32 [==============================] - 0s 2ms/step - loss: 1.4238 - accuracy: 0.4721 - val_loss: 1.2934 - val_accuracy: 0.4805\n",
      "Epoch 7/100\n",
      "32/32 [==============================] - 0s 2ms/step - loss: 1.2759 - accuracy: 0.4545 - val_loss: 1.2256 - val_accuracy: 0.4922\n",
      "Epoch 8/100\n",
      "32/32 [==============================] - 0s 2ms/step - loss: 1.1755 - accuracy: 0.4477 - val_loss: 1.0672 - val_accuracy: 0.5000\n",
      "Epoch 9/100\n",
      "32/32 [==============================] - 0s 2ms/step - loss: 1.0424 - accuracy: 0.4575 - val_loss: 0.9801 - val_accuracy: 0.4961\n",
      "Epoch 10/100\n",
      "32/32 [==============================] - 0s 2ms/step - loss: 0.9944 - accuracy: 0.4536 - val_loss: 0.9489 - val_accuracy: 0.4961\n",
      "Epoch 11/100\n",
      "32/32 [==============================] - 0s 2ms/step - loss: 0.9798 - accuracy: 0.4506 - val_loss: 0.9153 - val_accuracy: 0.4961\n",
      "Epoch 12/100\n",
      "32/32 [==============================] - 0s 2ms/step - loss: 0.9653 - accuracy: 0.4516 - val_loss: 0.8598 - val_accuracy: 0.4883\n",
      "Epoch 13/100\n",
      "32/32 [==============================] - 0s 2ms/step - loss: 0.9294 - accuracy: 0.4536 - val_loss: 0.8502 - val_accuracy: 0.4922\n",
      "Epoch 14/100\n",
      "32/32 [==============================] - 0s 2ms/step - loss: 0.8977 - accuracy: 0.4585 - val_loss: 0.8174 - val_accuracy: 0.4922\n",
      "Epoch 15/100\n",
      "32/32 [==============================] - 0s 2ms/step - loss: 0.8846 - accuracy: 0.4594 - val_loss: 0.8076 - val_accuracy: 0.4961\n",
      "Epoch 16/100\n",
      "32/32 [==============================] - 0s 2ms/step - loss: 0.8769 - accuracy: 0.4604 - val_loss: 0.7995 - val_accuracy: 0.4961\n",
      "Epoch 17/100\n",
      "32/32 [==============================] - 0s 2ms/step - loss: 0.8513 - accuracy: 0.4585 - val_loss: 0.7960 - val_accuracy: 0.4961\n",
      "Epoch 18/100\n",
      "32/32 [==============================] - 0s 2ms/step - loss: 0.8363 - accuracy: 0.4643 - val_loss: 0.7890 - val_accuracy: 0.4961\n",
      "Epoch 19/100\n",
      "32/32 [==============================] - 0s 2ms/step - loss: 0.8081 - accuracy: 0.4663 - val_loss: 0.7794 - val_accuracy: 0.4805\n",
      "Epoch 20/100\n",
      "32/32 [==============================] - 0s 2ms/step - loss: 0.7417 - accuracy: 0.4487 - val_loss: 0.7274 - val_accuracy: 0.4844\n",
      "Epoch 21/100\n",
      "32/32 [==============================] - 0s 2ms/step - loss: 0.7181 - accuracy: 0.4448 - val_loss: 0.7213 - val_accuracy: 0.4844\n",
      "Epoch 22/100\n",
      "32/32 [==============================] - 0s 2ms/step - loss: 0.7128 - accuracy: 0.4467 - val_loss: 0.7156 - val_accuracy: 0.4883\n",
      "Epoch 23/100\n",
      "32/32 [==============================] - 0s 3ms/step - loss: 0.7084 - accuracy: 0.4477 - val_loss: 0.7102 - val_accuracy: 0.4766\n",
      "Epoch 24/100\n",
      "32/32 [==============================] - 0s 2ms/step - loss: 0.7040 - accuracy: 0.4497 - val_loss: 0.7055 - val_accuracy: 0.4688\n",
      "Epoch 25/100\n",
      "32/32 [==============================] - 0s 2ms/step - loss: 0.7001 - accuracy: 0.4487 - val_loss: 0.7010 - val_accuracy: 0.4648\n",
      "Epoch 26/100\n",
      "32/32 [==============================] - 0s 2ms/step - loss: 0.6963 - accuracy: 0.4457 - val_loss: 0.6974 - val_accuracy: 0.4609\n",
      "Epoch 27/100\n",
      "32/32 [==============================] - 0s 2ms/step - loss: 0.6927 - accuracy: 0.4448 - val_loss: 0.6932 - val_accuracy: 0.4688\n",
      "Epoch 28/100\n",
      "32/32 [==============================] - 0s 3ms/step - loss: 0.6899 - accuracy: 0.4409 - val_loss: 0.6897 - val_accuracy: 0.4648\n",
      "Epoch 29/100\n",
      "32/32 [==============================] - 0s 2ms/step - loss: 0.6865 - accuracy: 0.4321 - val_loss: 0.6865 - val_accuracy: 0.4609\n",
      "Epoch 30/100\n",
      "32/32 [==============================] - 0s 2ms/step - loss: 0.6837 - accuracy: 0.4252 - val_loss: 0.6824 - val_accuracy: 0.4609\n",
      "Epoch 31/100\n",
      "32/32 [==============================] - 0s 2ms/step - loss: 0.6805 - accuracy: 0.4252 - val_loss: 0.6796 - val_accuracy: 0.4648\n",
      "Epoch 32/100\n",
      "32/32 [==============================] - 0s 2ms/step - loss: 0.6780 - accuracy: 0.4252 - val_loss: 0.6761 - val_accuracy: 0.4609\n",
      "Epoch 33/100\n",
      "32/32 [==============================] - 0s 2ms/step - loss: 0.6754 - accuracy: 0.4242 - val_loss: 0.6733 - val_accuracy: 0.4648\n",
      "Epoch 34/100\n",
      "32/32 [==============================] - 0s 2ms/step - loss: 0.6727 - accuracy: 0.4272 - val_loss: 0.6706 - val_accuracy: 0.4609\n",
      "Epoch 35/100\n",
      "32/32 [==============================] - 0s 2ms/step - loss: 0.6707 - accuracy: 0.4282 - val_loss: 0.6683 - val_accuracy: 0.4570\n",
      "Epoch 36/100\n",
      "32/32 [==============================] - 0s 2ms/step - loss: 0.6682 - accuracy: 0.4262 - val_loss: 0.6656 - val_accuracy: 0.4570\n",
      "Epoch 37/100\n",
      "32/32 [==============================] - 0s 2ms/step - loss: 0.6615 - accuracy: 0.4272 - val_loss: 0.6640 - val_accuracy: 0.4609\n",
      "Epoch 38/100\n",
      "32/32 [==============================] - 0s 2ms/step - loss: 0.6395 - accuracy: 0.4242 - val_loss: 0.6669 - val_accuracy: 0.4570\n",
      "Epoch 39/100\n",
      "32/32 [==============================] - 0s 2ms/step - loss: 0.6352 - accuracy: 0.4340 - val_loss: 0.6644 - val_accuracy: 0.4609\n",
      "Epoch 40/100\n",
      "32/32 [==============================] - 0s 2ms/step - loss: 0.6100 - accuracy: 0.4868 - val_loss: 0.6746 - val_accuracy: 0.5352\n",
      "Epoch 41/100\n",
      "32/32 [==============================] - 0s 2ms/step - loss: 0.5947 - accuracy: 0.4829 - val_loss: 0.6901 - val_accuracy: 0.4648\n",
      "Epoch 42/100\n",
      "32/32 [==============================] - 0s 2ms/step - loss: 0.6008 - accuracy: 0.4614 - val_loss: 0.6906 - val_accuracy: 0.4609\n",
      "Epoch 43/100\n",
      "32/32 [==============================] - 0s 2ms/step - loss: 0.5974 - accuracy: 0.4585 - val_loss: 0.6831 - val_accuracy: 0.4727\n",
      "Epoch 44/100\n",
      "32/32 [==============================] - 0s 2ms/step - loss: 0.5931 - accuracy: 0.4614 - val_loss: 0.6763 - val_accuracy: 0.4727\n",
      "Epoch 45/100\n",
      "32/32 [==============================] - 0s 2ms/step - loss: 0.5893 - accuracy: 0.4673 - val_loss: 0.6716 - val_accuracy: 0.4805\n",
      "Epoch 46/100\n",
      "32/32 [==============================] - 0s 2ms/step - loss: 0.5857 - accuracy: 0.4682 - val_loss: 0.6659 - val_accuracy: 0.4766\n",
      "Epoch 47/100\n",
      "32/32 [==============================] - 0s 2ms/step - loss: 0.5828 - accuracy: 0.4702 - val_loss: 0.6614 - val_accuracy: 0.4727\n",
      "Epoch 48/100\n",
      "32/32 [==============================] - 0s 2ms/step - loss: 0.5801 - accuracy: 0.4721 - val_loss: 0.6572 - val_accuracy: 0.4805\n",
      "Epoch 49/100\n",
      "32/32 [==============================] - 0s 2ms/step - loss: 0.5777 - accuracy: 0.4751 - val_loss: 0.6540 - val_accuracy: 0.4883\n",
      "Epoch 50/100\n",
      "32/32 [==============================] - 0s 2ms/step - loss: 0.5756 - accuracy: 0.4731 - val_loss: 0.6501 - val_accuracy: 0.4922\n",
      "Epoch 51/100\n",
      "32/32 [==============================] - 0s 2ms/step - loss: 0.5734 - accuracy: 0.4751 - val_loss: 0.6473 - val_accuracy: 0.4961\n",
      "Epoch 52/100\n",
      "32/32 [==============================] - 0s 2ms/step - loss: 0.5717 - accuracy: 0.4761 - val_loss: 0.6444 - val_accuracy: 0.5039\n",
      "Epoch 53/100\n",
      "32/32 [==============================] - 0s 2ms/step - loss: 0.5699 - accuracy: 0.4751 - val_loss: 0.6419 - val_accuracy: 0.5000\n",
      "Epoch 54/100\n",
      "32/32 [==============================] - 0s 2ms/step - loss: 0.5682 - accuracy: 0.4770 - val_loss: 0.6393 - val_accuracy: 0.5039\n",
      "Epoch 55/100\n",
      "32/32 [==============================] - 0s 2ms/step - loss: 0.5631 - accuracy: 0.4751 - val_loss: 0.6387 - val_accuracy: 0.4805\n",
      "Epoch 56/100\n",
      "32/32 [==============================] - 0s 2ms/step - loss: 0.5589 - accuracy: 0.4594 - val_loss: 0.6177 - val_accuracy: 0.4844\n",
      "Epoch 57/100\n",
      "32/32 [==============================] - 0s 2ms/step - loss: 0.5574 - accuracy: 0.4614 - val_loss: 0.6177 - val_accuracy: 0.5000\n",
      "Epoch 58/100\n",
      "32/32 [==============================] - 0s 2ms/step - loss: 0.5560 - accuracy: 0.4624 - val_loss: 0.6324 - val_accuracy: 0.5000\n"
     ]
    },
    {
     "name": "stdout",
     "output_type": "stream",
     "text": [
      "Epoch 59/100\n",
      "32/32 [==============================] - 0s 2ms/step - loss: 0.5547 - accuracy: 0.4682 - val_loss: 0.6305 - val_accuracy: 0.5117\n",
      "Epoch 60/100\n",
      "32/32 [==============================] - 0s 2ms/step - loss: 0.5535 - accuracy: 0.4643 - val_loss: 0.6288 - val_accuracy: 0.5195\n",
      "Epoch 61/100\n",
      "32/32 [==============================] - 0s 2ms/step - loss: 0.5523 - accuracy: 0.4633 - val_loss: 0.6144 - val_accuracy: 0.5156\n",
      "Epoch 62/100\n",
      "32/32 [==============================] - 0s 2ms/step - loss: 0.5511 - accuracy: 0.4604 - val_loss: 0.6102 - val_accuracy: 0.5195\n",
      "Epoch 63/100\n",
      "32/32 [==============================] - 0s 2ms/step - loss: 0.5500 - accuracy: 0.4614 - val_loss: 0.6065 - val_accuracy: 0.5234\n",
      "Epoch 64/100\n",
      "32/32 [==============================] - 0s 2ms/step - loss: 0.5491 - accuracy: 0.4633 - val_loss: 0.6026 - val_accuracy: 0.5234\n",
      "Epoch 65/100\n",
      "32/32 [==============================] - 0s 2ms/step - loss: 0.5480 - accuracy: 0.4663 - val_loss: 0.6020 - val_accuracy: 0.5234\n",
      "Epoch 66/100\n",
      "32/32 [==============================] - 0s 2ms/step - loss: 0.5469 - accuracy: 0.4673 - val_loss: 0.5995 - val_accuracy: 0.5156\n",
      "Epoch 67/100\n",
      "32/32 [==============================] - 0s 2ms/step - loss: 0.5462 - accuracy: 0.4712 - val_loss: 0.5975 - val_accuracy: 0.5117\n",
      "Epoch 68/100\n",
      "32/32 [==============================] - 0s 2ms/step - loss: 0.5450 - accuracy: 0.4653 - val_loss: 0.5961 - val_accuracy: 0.5117\n",
      "Epoch 69/100\n",
      "32/32 [==============================] - 0s 2ms/step - loss: 0.5440 - accuracy: 0.4692 - val_loss: 0.5939 - val_accuracy: 0.5117\n",
      "Epoch 70/100\n",
      "32/32 [==============================] - 0s 2ms/step - loss: 0.5432 - accuracy: 0.4653 - val_loss: 0.5924 - val_accuracy: 0.5117\n",
      "Epoch 71/100\n",
      "32/32 [==============================] - 0s 2ms/step - loss: 0.5422 - accuracy: 0.4653 - val_loss: 0.5912 - val_accuracy: 0.5156\n",
      "Epoch 72/100\n",
      "32/32 [==============================] - 0s 2ms/step - loss: 0.5414 - accuracy: 0.4643 - val_loss: 0.5898 - val_accuracy: 0.5156\n",
      "Epoch 73/100\n",
      "32/32 [==============================] - 0s 2ms/step - loss: 0.5405 - accuracy: 0.4614 - val_loss: 0.5885 - val_accuracy: 0.5195\n",
      "Epoch 74/100\n",
      "32/32 [==============================] - 0s 2ms/step - loss: 0.5400 - accuracy: 0.4663 - val_loss: 0.5876 - val_accuracy: 0.5195\n",
      "Epoch 75/100\n",
      "32/32 [==============================] - 0s 2ms/step - loss: 0.5391 - accuracy: 0.4663 - val_loss: 0.5865 - val_accuracy: 0.5195\n",
      "Epoch 76/100\n",
      "32/32 [==============================] - 0s 2ms/step - loss: 0.5381 - accuracy: 0.4721 - val_loss: 0.5849 - val_accuracy: 0.5156\n",
      "Epoch 77/100\n",
      "32/32 [==============================] - 0s 2ms/step - loss: 0.5373 - accuracy: 0.4761 - val_loss: 0.5835 - val_accuracy: 0.5195\n",
      "Epoch 78/100\n",
      "32/32 [==============================] - 0s 2ms/step - loss: 0.5364 - accuracy: 0.4770 - val_loss: 0.5826 - val_accuracy: 0.5156\n",
      "Epoch 79/100\n",
      "32/32 [==============================] - 0s 2ms/step - loss: 0.5361 - accuracy: 0.4770 - val_loss: 0.5814 - val_accuracy: 0.5195\n",
      "Epoch 80/100\n",
      "32/32 [==============================] - 0s 2ms/step - loss: 0.5351 - accuracy: 0.4780 - val_loss: 0.5804 - val_accuracy: 0.5234\n",
      "Epoch 81/100\n",
      "32/32 [==============================] - 0s 2ms/step - loss: 0.5344 - accuracy: 0.4761 - val_loss: 0.5792 - val_accuracy: 0.5273\n",
      "Epoch 82/100\n",
      "32/32 [==============================] - 0s 2ms/step - loss: 0.5337 - accuracy: 0.4741 - val_loss: 0.5783 - val_accuracy: 0.5273\n",
      "Epoch 83/100\n",
      "32/32 [==============================] - 0s 2ms/step - loss: 0.5328 - accuracy: 0.4741 - val_loss: 0.5772 - val_accuracy: 0.5273\n",
      "Epoch 84/100\n",
      "32/32 [==============================] - 0s 2ms/step - loss: 0.5323 - accuracy: 0.4721 - val_loss: 0.5766 - val_accuracy: 0.5273\n",
      "Epoch 85/100\n",
      "32/32 [==============================] - 0s 2ms/step - loss: 0.5315 - accuracy: 0.4731 - val_loss: 0.5754 - val_accuracy: 0.5273\n",
      "Epoch 86/100\n",
      "32/32 [==============================] - 0s 2ms/step - loss: 0.5310 - accuracy: 0.4770 - val_loss: 0.5742 - val_accuracy: 0.5273\n",
      "Epoch 87/100\n",
      "32/32 [==============================] - 0s 2ms/step - loss: 0.5303 - accuracy: 0.4800 - val_loss: 0.5736 - val_accuracy: 0.5312\n",
      "Epoch 88/100\n",
      "32/32 [==============================] - 0s 2ms/step - loss: 0.5296 - accuracy: 0.4790 - val_loss: 0.5728 - val_accuracy: 0.5391\n",
      "Epoch 89/100\n",
      "32/32 [==============================] - 0s 2ms/step - loss: 0.5290 - accuracy: 0.4819 - val_loss: 0.5716 - val_accuracy: 0.5391\n",
      "Epoch 90/100\n",
      "32/32 [==============================] - 0s 2ms/step - loss: 0.5282 - accuracy: 0.4809 - val_loss: 0.5709 - val_accuracy: 0.5352\n",
      "Epoch 91/100\n",
      "32/32 [==============================] - 0s 2ms/step - loss: 0.5278 - accuracy: 0.4829 - val_loss: 0.5703 - val_accuracy: 0.5352\n",
      "Epoch 92/100\n",
      "32/32 [==============================] - 0s 2ms/step - loss: 0.5273 - accuracy: 0.4839 - val_loss: 0.5695 - val_accuracy: 0.5430\n",
      "Epoch 93/100\n",
      "32/32 [==============================] - 0s 2ms/step - loss: 0.5266 - accuracy: 0.4809 - val_loss: 0.5683 - val_accuracy: 0.5469\n",
      "Epoch 94/100\n",
      "32/32 [==============================] - 0s 2ms/step - loss: 0.5262 - accuracy: 0.4878 - val_loss: 0.5679 - val_accuracy: 0.5391\n",
      "Epoch 95/100\n",
      "32/32 [==============================] - 0s 2ms/step - loss: 0.5256 - accuracy: 0.4829 - val_loss: 0.5669 - val_accuracy: 0.5391\n",
      "Epoch 96/100\n",
      "32/32 [==============================] - 0s 2ms/step - loss: 0.5251 - accuracy: 0.4848 - val_loss: 0.5665 - val_accuracy: 0.5391\n",
      "Epoch 97/100\n",
      "32/32 [==============================] - 0s 2ms/step - loss: 0.5245 - accuracy: 0.4907 - val_loss: 0.5657 - val_accuracy: 0.5391\n",
      "Epoch 98/100\n",
      "32/32 [==============================] - 0s 2ms/step - loss: 0.5241 - accuracy: 0.4878 - val_loss: 0.5651 - val_accuracy: 0.5391\n",
      "Epoch 99/100\n",
      "32/32 [==============================] - 0s 2ms/step - loss: 0.5233 - accuracy: 0.4888 - val_loss: 0.5640 - val_accuracy: 0.5469\n",
      "Epoch 100/100\n",
      "32/32 [==============================] - 0s 2ms/step - loss: 0.5229 - accuracy: 0.4819 - val_loss: 0.5630 - val_accuracy: 0.5547\n"
     ]
    }
   ],
   "source": [
    "model_history = model.fit(X_train, y_train, validation_data=(X_valid, y_valid), epochs=100,batch_size=32)"
   ]
  },
  {
   "cell_type": "markdown",
   "id": "b9b8b8a0",
   "metadata": {},
   "source": [
    "# Q13. Obtain the model's parameters (weights and biases).\n",
    "___"
   ]
  },
  {
   "cell_type": "code",
   "execution_count": 51,
   "id": "b1a52ce6",
   "metadata": {},
   "outputs": [
    {
     "name": "stdout",
     "output_type": "stream",
     "text": [
      "[<tf.Variable 'dense_3/kernel:0' shape=(11, 10) dtype=float32, numpy=\n",
      "array([[-0.2480356 , -0.26047733,  0.36546412, -0.40287653,  0.1941314 ,\n",
      "         0.01513656,  0.4248525 ,  0.06023916, -0.36852935, -0.09220807],\n",
      "       [ 0.700733  , -0.39769307,  0.5339761 ,  0.14095215,  0.05025923,\n",
      "         0.34747118, -0.35176888, -0.66716033, -0.17224237,  0.1413081 ],\n",
      "       [ 0.11921073,  0.3866134 , -0.3435421 ,  0.09194848,  0.19442306,\n",
      "        -0.20843163, -0.13551112,  0.07777275,  0.2213804 ,  0.17876308],\n",
      "       [ 0.29271266,  0.09116299,  0.2738735 , -0.05399635,  0.2812902 ,\n",
      "         0.2200455 , -0.37774476, -0.27978253,  0.23538545, -0.03391093],\n",
      "       [-0.16836725,  0.31832558, -0.20044209,  0.09386306, -0.30950996,\n",
      "        -0.23931232,  0.0617473 , -0.12587716, -0.18408194, -0.1180987 ],\n",
      "       [-0.35088602, -0.05169186, -0.11810967, -0.2071885 , -0.21139467,\n",
      "         0.12535688,  0.15255234, -0.33835325, -0.01023048, -0.1789697 ],\n",
      "       [-0.05657115,  0.42132872, -0.04787792,  0.21726835, -0.41548634,\n",
      "        -0.44154537,  0.39454073,  0.3622176 ,  0.11325525,  0.4010296 ],\n",
      "       [ 0.46841446, -0.00527095,  0.18249021,  0.40697944, -0.12999174,\n",
      "        -0.3154263 ,  0.09091782, -0.47952116,  0.04737534,  0.20058905],\n",
      "       [ 0.38276985, -0.08255745,  0.35824817,  0.00590577,  0.35120064,\n",
      "        -0.00424591,  0.21414064,  0.21151716, -0.4957212 ,  0.40224862],\n",
      "       [-0.76942945,  0.40951112, -0.21861564,  0.2764094 ,  0.36186373,\n",
      "         0.09627143, -0.29165033,  0.44661182, -0.19988105, -0.17519528],\n",
      "       [ 0.04737867, -0.5990567 ,  0.05930832,  0.31601512,  0.23125108,\n",
      "         0.28005   , -0.13311033,  0.38844022, -0.20424382,  0.04179578]],\n",
      "      dtype=float32)>, <tf.Variable 'dense_3/bias:0' shape=(10,) dtype=float32, numpy=\n",
      "array([ 0.2335883 ,  0.09630539, -0.00979723,  0.19351463,  0.18352208,\n",
      "        0.20207863,  0.17698723,  0.209835  ,  0.17639545, -0.07507732],\n",
      "      dtype=float32)>, <tf.Variable 'dense_4/kernel:0' shape=(10, 5) dtype=float32, numpy=\n",
      "array([[-0.3647033 , -0.22686687, -0.23816624, -0.57717186, -0.25040558],\n",
      "       [-0.59501195, -0.6179386 ,  0.01616163, -0.39846376, -0.24262771],\n",
      "       [ 0.1100473 , -0.28659955,  0.41329712,  0.35393125, -0.4496332 ],\n",
      "       [ 0.14960767,  0.2594729 ,  0.36807787, -0.2224375 ,  0.28172722],\n",
      "       [-0.02099361, -0.0110474 ,  0.56085503, -0.14682865, -0.18426591],\n",
      "       [ 0.19831869,  0.42899033, -0.28708085, -0.47560725, -0.0413728 ],\n",
      "       [ 0.0876927 ,  0.27566844,  0.24890327, -0.38550556, -0.36831546],\n",
      "       [ 0.5838907 ,  0.5973252 , -0.1271036 , -0.23531497, -0.25833362],\n",
      "       [-0.25258863, -0.4710608 ,  0.27933955, -0.35586706, -0.02032852],\n",
      "       [ 0.07203469, -0.16958123, -0.7760296 , -0.30974242, -0.26724067]],\n",
      "      dtype=float32)>, <tf.Variable 'dense_4/bias:0' shape=(5,) dtype=float32, numpy=\n",
      "array([ 0.10190561,  0.03936143,  0.17790909, -0.22790551,  0.03213429],\n",
      "      dtype=float32)>, <tf.Variable 'dense_5/kernel:0' shape=(5, 2) dtype=float32, numpy=\n",
      "array([[ 0.89509755, -0.27133137],\n",
      "       [-0.2934819 ,  0.7148395 ],\n",
      "       [ 0.46656376,  0.49118733],\n",
      "       [-0.5782014 , -0.4158666 ],\n",
      "       [ 0.22066863, -0.14187968]], dtype=float32)>, <tf.Variable 'dense_5/bias:0' shape=(2,) dtype=float32, numpy=array([0.18069856, 0.13219938], dtype=float32)>]\n"
     ]
    }
   ],
   "source": [
    "print(model.weights)"
   ]
  },
  {
   "cell_type": "markdown",
   "id": "00d3f45a",
   "metadata": {},
   "source": [
    "# Q14. Store the model's training history as a Pandas DataFrame.\n",
    "___"
   ]
  },
  {
   "cell_type": "code",
   "execution_count": 52,
   "id": "33cd0981",
   "metadata": {},
   "outputs": [],
   "source": [
    "model_history_df = pd.DataFrame(model_history.history)"
   ]
  },
  {
   "cell_type": "code",
   "execution_count": 53,
   "id": "cdd211da",
   "metadata": {},
   "outputs": [
    {
     "data": {
      "text/html": [
       "<div>\n",
       "<style scoped>\n",
       "    .dataframe tbody tr th:only-of-type {\n",
       "        vertical-align: middle;\n",
       "    }\n",
       "\n",
       "    .dataframe tbody tr th {\n",
       "        vertical-align: top;\n",
       "    }\n",
       "\n",
       "    .dataframe thead th {\n",
       "        text-align: right;\n",
       "    }\n",
       "</style>\n",
       "<table border=\"1\" class=\"dataframe\">\n",
       "  <thead>\n",
       "    <tr style=\"text-align: right;\">\n",
       "      <th></th>\n",
       "      <th>loss</th>\n",
       "      <th>accuracy</th>\n",
       "      <th>val_loss</th>\n",
       "      <th>val_accuracy</th>\n",
       "    </tr>\n",
       "  </thead>\n",
       "  <tbody>\n",
       "    <tr>\n",
       "      <th>0</th>\n",
       "      <td>2.952073</td>\n",
       "      <td>0.512219</td>\n",
       "      <td>2.582546</td>\n",
       "      <td>0.531250</td>\n",
       "    </tr>\n",
       "    <tr>\n",
       "      <th>1</th>\n",
       "      <td>2.290976</td>\n",
       "      <td>0.503421</td>\n",
       "      <td>2.082515</td>\n",
       "      <td>0.515625</td>\n",
       "    </tr>\n",
       "    <tr>\n",
       "      <th>2</th>\n",
       "      <td>1.895492</td>\n",
       "      <td>0.517107</td>\n",
       "      <td>1.744652</td>\n",
       "      <td>0.511719</td>\n",
       "    </tr>\n",
       "    <tr>\n",
       "      <th>3</th>\n",
       "      <td>1.727011</td>\n",
       "      <td>0.512219</td>\n",
       "      <td>1.638128</td>\n",
       "      <td>0.503906</td>\n",
       "    </tr>\n",
       "    <tr>\n",
       "      <th>4</th>\n",
       "      <td>1.587526</td>\n",
       "      <td>0.502444</td>\n",
       "      <td>1.519258</td>\n",
       "      <td>0.488281</td>\n",
       "    </tr>\n",
       "  </tbody>\n",
       "</table>\n",
       "</div>"
      ],
      "text/plain": [
       "       loss  accuracy  val_loss  val_accuracy\n",
       "0  2.952073  0.512219  2.582546      0.531250\n",
       "1  2.290976  0.503421  2.082515      0.515625\n",
       "2  1.895492  0.517107  1.744652      0.511719\n",
       "3  1.727011  0.512219  1.638128      0.503906\n",
       "4  1.587526  0.502444  1.519258      0.488281"
      ]
     },
     "execution_count": 53,
     "metadata": {},
     "output_type": "execute_result"
    }
   ],
   "source": [
    "model_history_df.head()"
   ]
  },
  {
   "cell_type": "markdown",
   "id": "412867d8",
   "metadata": {},
   "source": [
    "# Q15. Plot the training history (e.g., accuracy and loss) using suitable visualization techniques.\n",
    "___"
   ]
  },
  {
   "cell_type": "markdown",
   "id": "37e3423b",
   "metadata": {},
   "source": [
    "### Visualizing history for loss"
   ]
  },
  {
   "cell_type": "code",
   "execution_count": 54,
   "id": "bba86a67",
   "metadata": {},
   "outputs": [
    {
     "data": {
      "image/png": "[encoded data removed]",
      "text/plain": [
       "<Figure size 640x480 with 1 Axes>"
      ]
     },
     "metadata": {},
     "output_type": "display_data"
    }
   ],
   "source": [
    "plt.plot(model_history.history['loss'])\n",
    "plt.plot(model_history.history['val_loss'])\n",
    "plt.title('model loss')\n",
    "plt.ylabel('loss')\n",
    "plt.xlabel('epoch')\n",
    "plt.legend(['train', 'validation'], loc='upper right')\n",
    "plt.show()"
   ]
  },
  {
   "cell_type": "markdown",
   "id": "cbaabd1c",
   "metadata": {},
   "source": [
    "### Visualizing history for accuracy"
   ]
  },
  {
   "cell_type": "code",
   "execution_count": 55,
   "id": "059659d9",
   "metadata": {},
   "outputs": [
    {
     "data": {
      "image/png": "[encoded data removed]",
      "text/plain": [
       "<Figure size 640x480 with 1 Axes>"
      ]
     },
     "metadata": {},
     "output_type": "display_data"
    }
   ],
   "source": [
    "plt.plot(model_history.history['accuracy'])\n",
    "plt.plot(model_history.history['val_accuracy'])\n",
    "plt.title('model accuracy')\n",
    "plt.ylabel('accuracy')\n",
    "plt.xlabel('epoch')\n",
    "plt.legend(['train', 'validation'], loc='upper left')\n",
    "plt.show()"
   ]
  },
  {
   "cell_type": "markdown",
   "id": "0d6da147",
   "metadata": {},
   "source": [
    "# Q16. Evaluate the model's performance using the test dataset and report relevant metrics.\n",
    "___"
   ]
  },
  {
   "cell_type": "code",
   "execution_count": 56,
   "id": "34420c2e",
   "metadata": {},
   "outputs": [
    {
     "name": "stdout",
     "output_type": "stream",
     "text": [
      "10/10 [==============================] - 0s 2ms/step\n"
     ]
    }
   ],
   "source": [
    "y_pred_probabilities = model.predict(X_test)"
   ]
  },
  {
   "cell_type": "code",
   "execution_count": 57,
   "id": "a2649926",
   "metadata": {},
   "outputs": [
    {
     "data": {
      "text/plain": [
       "array([[ 0.3613841 ,  0.27568218],\n",
       "       [ 0.22306035,  0.24466656],\n",
       "       [ 0.6348709 ,  0.587867  ],\n",
       "       [ 0.26944053,  0.30602866],\n",
       "       [ 0.6925013 ,  0.7053276 ],\n",
       "       [ 0.12780674,  0.19813678],\n",
       "       [ 0.24617828,  0.23155785],\n",
       "       [ 0.15066032,  0.21337758],\n",
       "       [ 0.7196709 ,  0.6937669 ],\n",
       "       [ 0.7203061 ,  0.75083256],\n",
       "       [ 0.82483447,  0.7922496 ],\n",
       "       [ 0.45169273,  0.46825856],\n",
       "       [ 0.5313378 ,  0.49575537],\n",
       "       [ 0.23256718,  0.23583426],\n",
       "       [ 0.35610312,  0.37805164],\n",
       "       [ 0.94842917,  0.95263726],\n",
       "       [ 0.24005468,  0.16380425],\n",
       "       [ 0.49899676,  0.49423984],\n",
       "       [ 0.9460663 ,  0.93744653],\n",
       "       [ 0.45778686,  0.32027015],\n",
       "       [ 0.270401  ,  0.32864097],\n",
       "       [ 0.24627137,  0.26051703],\n",
       "       [ 0.83712095,  0.86750597],\n",
       "       [ 0.92010677,  0.9315881 ],\n",
       "       [ 0.43559742,  0.46373907],\n",
       "       [ 0.49197176,  0.504012  ],\n",
       "       [ 0.8647983 ,  0.7998468 ],\n",
       "       [ 0.48540017,  0.48597378],\n",
       "       [ 0.27005416,  0.3475841 ],\n",
       "       [ 0.8393842 ,  0.8620159 ],\n",
       "       [ 0.23262057,  0.18990311],\n",
       "       [ 0.48532784,  0.48648703],\n",
       "       [ 0.66800237,  0.6677486 ],\n",
       "       [ 0.36824533,  0.38748106],\n",
       "       [ 0.55519265,  0.5525739 ],\n",
       "       [ 0.16194266,  0.16206853],\n",
       "       [ 0.91687536,  0.92067397],\n",
       "       [ 0.82401   ,  0.835782  ],\n",
       "       [ 0.58434814,  0.57747066],\n",
       "       [ 0.9077777 ,  0.9045822 ],\n",
       "       [ 0.5020689 ,  0.51944804],\n",
       "       [ 0.35276878,  0.31804147],\n",
       "       [ 0.8213079 ,  0.75217974],\n",
       "       [ 0.40489197,  0.2907189 ],\n",
       "       [ 0.6722244 ,  0.6362249 ],\n",
       "       [ 0.8806786 ,  0.8626495 ],\n",
       "       [ 0.9349119 ,  0.94912577],\n",
       "       [ 0.54582477,  0.56452405],\n",
       "       [ 0.15500118,  0.11557695],\n",
       "       [ 0.6145319 ,  0.6379836 ],\n",
       "       [ 0.41039366,  0.45606253],\n",
       "       [ 0.5461254 ,  0.45941296],\n",
       "       [ 0.61884314,  0.6727146 ],\n",
       "       [ 0.98286736,  0.976518  ],\n",
       "       [ 0.06357379,  0.0904404 ],\n",
       "       [ 0.24930806,  0.20649166],\n",
       "       [ 0.8988226 ,  0.9021095 ],\n",
       "       [ 0.40648785,  0.44139674],\n",
       "       [ 0.74130166,  0.7543408 ],\n",
       "       [ 0.30576488,  0.3361701 ],\n",
       "       [ 0.5102108 ,  0.410053  ],\n",
       "       [ 0.79226345,  0.776903  ],\n",
       "       [ 0.24296089,  0.24408567],\n",
       "       [ 0.26256803,  0.28608978],\n",
       "       [ 0.9378268 ,  0.9602346 ],\n",
       "       [ 0.24218452,  0.33755037],\n",
       "       [ 0.92135733,  0.9172378 ],\n",
       "       [ 0.5510309 ,  0.47147104],\n",
       "       [ 0.9594765 ,  0.9559098 ],\n",
       "       [ 0.24374814,  0.29856288],\n",
       "       [ 0.9473852 ,  0.95551777],\n",
       "       [ 0.0852514 ,  0.02587934],\n",
       "       [ 0.6421999 ,  0.6070148 ],\n",
       "       [ 0.75422883,  0.7973201 ],\n",
       "       [ 0.89680654,  0.90557957],\n",
       "       [ 0.35267052,  0.29984733],\n",
       "       [ 0.98567414,  0.98748463],\n",
       "       [ 0.60400724,  0.575037  ],\n",
       "       [ 0.9003631 ,  0.8843522 ],\n",
       "       [ 0.9444894 ,  0.9433014 ],\n",
       "       [ 0.38260034,  0.4137043 ],\n",
       "       [ 0.9449538 ,  0.94816935],\n",
       "       [ 0.38743368,  0.42223018],\n",
       "       [ 0.5131914 ,  0.514251  ],\n",
       "       [ 0.5906674 ,  0.5188628 ],\n",
       "       [ 0.8899885 ,  0.8978248 ],\n",
       "       [ 0.16259554,  0.22796449],\n",
       "       [ 0.87377   ,  0.8867526 ],\n",
       "       [ 0.9265803 ,  0.93777704],\n",
       "       [ 0.3688022 ,  0.36444864],\n",
       "       [ 0.77888817,  0.7819713 ],\n",
       "       [ 0.31578934,  0.21831563],\n",
       "       [ 0.84173816,  0.8487141 ],\n",
       "       [ 0.7006805 ,  0.6921369 ],\n",
       "       [ 0.27392036,  0.22604921],\n",
       "       [ 0.6269408 ,  0.5671401 ],\n",
       "       [ 0.17579976,  0.15192233],\n",
       "       [ 0.58096415,  0.4882008 ],\n",
       "       [ 0.14913674,  0.23042482],\n",
       "       [ 0.47748342,  0.51738805],\n",
       "       [ 0.2121989 ,  0.22891048],\n",
       "       [ 0.1702598 ,  0.2030113 ],\n",
       "       [ 0.56602186,  0.5357344 ],\n",
       "       [ 0.5967702 ,  0.5927752 ],\n",
       "       [ 0.3713207 ,  0.40628147],\n",
       "       [ 0.8513249 ,  0.855858  ],\n",
       "       [ 0.5838043 ,  0.547204  ],\n",
       "       [ 0.34089956,  0.34933767],\n",
       "       [ 0.63596267,  0.45499042],\n",
       "       [ 0.5203537 ,  0.3656267 ],\n",
       "       [ 0.9840738 ,  0.9852147 ],\n",
       "       [ 0.33506542,  0.37710622],\n",
       "       [ 0.6520874 ,  0.81962436],\n",
       "       [ 0.07716291,  0.10929893],\n",
       "       [ 0.68436307,  0.721655  ],\n",
       "       [ 0.6852469 ,  0.6849893 ],\n",
       "       [ 0.90254456,  0.9347611 ],\n",
       "       [ 0.40744734,  0.44239628],\n",
       "       [ 0.0680123 ,  0.09727339],\n",
       "       [ 0.6720534 ,  0.7067819 ],\n",
       "       [ 0.9039072 ,  0.8563188 ],\n",
       "       [ 0.5087368 ,  0.45382205],\n",
       "       [ 0.66042095,  0.661967  ],\n",
       "       [ 0.41013202,  0.3882201 ],\n",
       "       [ 0.48065996,  0.49023786],\n",
       "       [ 0.26298875,  0.277183  ],\n",
       "       [ 0.8672962 ,  0.87518436],\n",
       "       [ 0.57806855,  0.5375733 ],\n",
       "       [ 0.45321953,  0.5239012 ],\n",
       "       [ 0.7564144 ,  0.80134255],\n",
       "       [ 0.6421999 ,  0.6070148 ],\n",
       "       [ 0.28731745,  0.3484519 ],\n",
       "       [ 0.12431736,  0.09216528],\n",
       "       [ 0.89358395,  0.8907469 ],\n",
       "       [ 0.6145319 ,  0.6379836 ],\n",
       "       [ 0.21502325,  0.21456839],\n",
       "       [ 0.13848664,  0.13362314],\n",
       "       [ 0.45113754,  0.37499082],\n",
       "       [ 0.18462127,  0.16259035],\n",
       "       [ 0.582329  ,  0.5840409 ],\n",
       "       [ 0.7435433 ,  0.8468042 ],\n",
       "       [ 0.89660543,  0.90261143],\n",
       "       [ 0.9045359 ,  0.8806507 ],\n",
       "       [ 0.50914466,  0.5602687 ],\n",
       "       [ 0.67236865,  0.6353463 ],\n",
       "       [ 0.4299089 ,  0.3275713 ],\n",
       "       [ 0.88706756,  0.91974294],\n",
       "       [ 0.3546306 ,  0.39913836],\n",
       "       [ 0.72653055,  0.6885734 ],\n",
       "       [ 0.23656972,  0.24975702],\n",
       "       [ 0.60786796,  0.62021947],\n",
       "       [ 0.9207032 ,  0.9284623 ],\n",
       "       [ 0.23983583,  0.25425047],\n",
       "       [ 0.61851037,  0.66734445],\n",
       "       [ 0.6421999 ,  0.6070148 ],\n",
       "       [ 0.8423538 ,  0.83417493],\n",
       "       [ 0.48206687,  0.42719966],\n",
       "       [ 0.8107349 ,  0.82697755],\n",
       "       [ 0.42306012,  0.41430596],\n",
       "       [ 0.8390576 ,  0.8331179 ],\n",
       "       [ 0.90699327,  0.89961535],\n",
       "       [ 0.55317223,  0.60029745],\n",
       "       [ 0.76864684,  0.7510353 ],\n",
       "       [ 0.18444626,  0.13316429],\n",
       "       [ 0.32668388,  0.34275943],\n",
       "       [ 0.5257313 ,  0.50370204],\n",
       "       [ 0.07601863,  0.0790796 ],\n",
       "       [ 0.20261885,  0.1938586 ],\n",
       "       [ 0.3672816 ,  0.48058677],\n",
       "       [ 0.04827253,  0.13917828],\n",
       "       [ 0.20920809,  0.23533888],\n",
       "       [ 0.13023087,  0.19294325],\n",
       "       [ 0.9174972 ,  0.91451013],\n",
       "       [ 0.41229743,  0.3916972 ],\n",
       "       [ 0.22969253,  0.09439451],\n",
       "       [ 0.7192863 ,  0.6705574 ],\n",
       "       [ 0.67445487,  0.75958794],\n",
       "       [ 0.3341827 ,  0.38310713],\n",
       "       [ 0.29462638,  0.3556645 ],\n",
       "       [ 0.40597734,  0.31288666],\n",
       "       [-0.02809842,  0.0545439 ],\n",
       "       [ 0.911522  ,  0.91825724],\n",
       "       [ 0.44961673,  0.46537757],\n",
       "       [ 0.91223466,  0.8997446 ],\n",
       "       [ 0.2815227 ,  0.30758137],\n",
       "       [ 0.83816993,  0.7816549 ],\n",
       "       [ 0.54698324,  0.57016903],\n",
       "       [ 0.6331695 ,  0.63001996],\n",
       "       [ 0.9764944 ,  0.97677076],\n",
       "       [ 0.41229743,  0.3916972 ],\n",
       "       [ 0.3782996 ,  0.40172115],\n",
       "       [ 0.7816152 ,  0.7545855 ],\n",
       "       [ 0.3160612 ,  0.31344482],\n",
       "       [ 0.91045904,  0.90287757],\n",
       "       [ 0.6714379 ,  0.59113324],\n",
       "       [ 0.36184797,  0.41952798],\n",
       "       [ 0.07220011,  0.10395762],\n",
       "       [ 0.27900848,  0.31735685],\n",
       "       [ 0.5736716 ,  0.5812952 ],\n",
       "       [ 0.8513249 ,  0.855858  ],\n",
       "       [ 0.5072524 ,  0.5157482 ],\n",
       "       [ 0.73977524,  0.6456421 ],\n",
       "       [ 0.3982989 ,  0.439571  ],\n",
       "       [ 0.1735575 ,  0.10513142],\n",
       "       [ 0.9470691 ,  0.9536649 ],\n",
       "       [ 0.697526  ,  0.7055656 ],\n",
       "       [ 0.04123534,  0.07084219],\n",
       "       [ 0.55086625,  0.5526889 ],\n",
       "       [ 0.6330895 ,  0.6527961 ],\n",
       "       [ 0.48008385,  0.6345    ],\n",
       "       [ 0.96332324,  0.94584763],\n",
       "       [ 0.42327753,  0.447278  ],\n",
       "       [ 0.6785355 ,  0.6631545 ],\n",
       "       [ 0.90660816,  0.9245527 ],\n",
       "       [ 0.93504393,  0.93678755],\n",
       "       [ 0.7252738 ,  0.7576566 ],\n",
       "       [ 0.68948525,  0.78658104],\n",
       "       [ 0.2591686 ,  0.21951775],\n",
       "       [ 0.7596606 ,  0.78920346],\n",
       "       [ 0.3372432 ,  0.35880506],\n",
       "       [ 0.18742386,  0.2066201 ],\n",
       "       [ 0.9254581 ,  0.9232563 ],\n",
       "       [ 0.9224584 ,  0.92068136],\n",
       "       [ 0.77361256,  0.7929099 ],\n",
       "       [ 0.18002315,  0.21206026],\n",
       "       [ 0.05313241,  0.04022853],\n",
       "       [ 0.23608239,  0.22625123],\n",
       "       [ 0.9560645 ,  0.9571486 ],\n",
       "       [ 0.38551995,  0.47120994],\n",
       "       [ 0.4128228 ,  0.40648052],\n",
       "       [ 0.47499943,  0.54583555],\n",
       "       [ 0.17036048,  0.20788677],\n",
       "       [ 0.91381484,  0.9143784 ],\n",
       "       [ 0.83633995,  0.8496294 ],\n",
       "       [ 0.70528525,  0.66256493],\n",
       "       [ 0.8513249 ,  0.855858  ],\n",
       "       [ 0.34460256,  0.35409018],\n",
       "       [ 0.5906674 ,  0.5188628 ],\n",
       "       [ 0.11186633,  0.18070649],\n",
       "       [ 0.11755585,  0.14878216],\n",
       "       [ 0.5873328 ,  0.50245726],\n",
       "       [ 0.10951466,  0.14440668],\n",
       "       [ 0.80281615,  0.80032307],\n",
       "       [ 0.81613106,  0.8089068 ],\n",
       "       [ 0.50951135,  0.41475374],\n",
       "       [ 0.6305318 ,  0.68941206],\n",
       "       [ 0.91875124,  0.9202586 ],\n",
       "       [ 0.40042382,  0.37780106],\n",
       "       [ 0.9391208 ,  0.9324031 ],\n",
       "       [ 0.22837113,  0.20922749],\n",
       "       [ 0.57463163,  0.57286686],\n",
       "       [ 0.58698946,  0.60145193],\n",
       "       [ 0.42441007,  0.35673386],\n",
       "       [ 0.562227  ,  0.47683147],\n",
       "       [ 0.4246804 ,  0.44669342],\n",
       "       [ 0.21098387,  0.17694739],\n",
       "       [ 0.3447367 ,  0.4062589 ],\n",
       "       [ 0.7826639 ,  0.8085047 ],\n",
       "       [ 0.59235084,  0.5824539 ],\n",
       "       [ 0.9882337 ,  0.9904533 ],\n",
       "       [ 0.89745903,  0.8827638 ],\n",
       "       [ 0.7958566 ,  0.85153115],\n",
       "       [ 0.3341827 ,  0.38310713],\n",
       "       [ 0.91901803,  0.9261857 ],\n",
       "       [ 0.9116581 ,  0.9035264 ],\n",
       "       [ 0.9015342 ,  0.879216  ],\n",
       "       [ 0.2049971 ,  0.2036582 ],\n",
       "       [-0.02478262,  0.06161378],\n",
       "       [ 0.6111877 ,  0.60074526],\n",
       "       [ 0.8881124 ,  0.87546355],\n",
       "       [ 0.30795646,  0.21434052],\n",
       "       [ 0.65656585,  0.55396163],\n",
       "       [ 0.36990055,  0.40423077],\n",
       "       [ 0.24974307,  0.2129845 ],\n",
       "       [ 0.42781198,  0.44805878],\n",
       "       [ 0.4756664 ,  0.4842872 ],\n",
       "       [ 0.42604887,  0.3370959 ],\n",
       "       [ 0.903283  ,  0.8600038 ],\n",
       "       [ 0.90166086,  0.887838  ],\n",
       "       [ 0.423206  ,  0.39672253],\n",
       "       [ 0.9531971 ,  0.9571719 ],\n",
       "       [ 0.07170659,  0.1554555 ],\n",
       "       [ 0.41372752,  0.41374433],\n",
       "       [ 0.594509  ,  0.6131555 ],\n",
       "       [ 0.38388732,  0.2835637 ],\n",
       "       [ 0.58812064,  0.62857854],\n",
       "       [-0.04029034,  0.10321476],\n",
       "       [ 0.89660543,  0.90261143],\n",
       "       [ 0.32528394,  0.22873192],\n",
       "       [ 0.9150052 ,  0.8642278 ],\n",
       "       [ 0.24809262,  0.35039997],\n",
       "       [ 0.9650951 ,  0.9695848 ],\n",
       "       [ 0.61644894,  0.65494406],\n",
       "       [ 0.38896328,  0.37746736],\n",
       "       [ 0.09652396,  0.10962983],\n",
       "       [ 0.87843055,  0.8805067 ],\n",
       "       [ 0.21894774,  0.1758553 ],\n",
       "       [ 0.88377684,  0.87432885],\n",
       "       [ 0.8696793 ,  0.883854  ],\n",
       "       [ 0.94299847,  0.93687016],\n",
       "       [ 0.45699227,  0.33702046],\n",
       "       [ 0.07252853,  0.16467012],\n",
       "       [ 0.9087463 ,  0.9136908 ],\n",
       "       [ 0.3119504 ,  0.3262929 ],\n",
       "       [ 0.30529153,  0.31466013],\n",
       "       [ 0.3957673 ,  0.40789902],\n",
       "       [ 0.7142296 ,  0.7604781 ],\n",
       "       [ 0.59877545,  0.6155121 ],\n",
       "       [ 0.8162889 ,  0.86981076],\n",
       "       [ 0.96476614,  0.97211844],\n",
       "       [ 0.49909726,  0.571495  ],\n",
       "       [ 0.41571426,  0.38020092],\n",
       "       [ 0.4480851 ,  0.45524782],\n",
       "       [ 0.56108314,  0.5525116 ],\n",
       "       [ 0.36824533,  0.38748106],\n",
       "       [ 0.6774174 ,  0.69618404],\n",
       "       [ 0.2747178 ,  0.17813176],\n",
       "       [ 0.28712258,  0.19648838],\n",
       "       [ 0.82222986,  0.81599665],\n",
       "       [ 0.32742774,  0.3504371 ]], dtype=float32)"
      ]
     },
     "execution_count": 57,
     "metadata": {},
     "output_type": "execute_result"
    }
   ],
   "source": [
    "y_pred_probabilities"
   ]
  },
  {
   "cell_type": "code",
   "execution_count": 58,
   "id": "29ef16c5",
   "metadata": {},
   "outputs": [],
   "source": [
    "# Converting predicted probabilities to class labels\n",
    "y_pred_labels = np.argmax(y_pred_probabilities, axis=1)"
   ]
  },
  {
   "cell_type": "code",
   "execution_count": 59,
   "id": "aed37060",
   "metadata": {},
   "outputs": [
    {
     "data": {
      "text/plain": [
       "array([0, 1, 0, 1, 1, 1, 0, 1, 0, 1, 0, 1, 0, 1, 1, 1, 0, 0, 0, 0, 1, 1,\n",
       "       1, 1, 1, 1, 0, 1, 1, 1, 0, 1, 0, 1, 0, 1, 1, 1, 0, 0, 1, 0, 0, 0,\n",
       "       0, 0, 1, 1, 0, 1, 1, 0, 1, 0, 1, 0, 1, 1, 1, 1, 0, 0, 1, 1, 1, 1,\n",
       "       0, 0, 0, 1, 1, 0, 0, 1, 1, 0, 1, 0, 0, 0, 1, 1, 1, 1, 0, 1, 1, 1,\n",
       "       1, 0, 1, 0, 1, 0, 0, 0, 0, 0, 1, 1, 1, 1, 0, 0, 1, 1, 0, 1, 0, 0,\n",
       "       1, 1, 1, 1, 1, 0, 1, 1, 1, 1, 0, 0, 1, 0, 1, 1, 1, 0, 1, 1, 0, 1,\n",
       "       0, 0, 1, 0, 0, 0, 0, 1, 1, 1, 0, 1, 0, 0, 1, 1, 0, 1, 1, 1, 1, 1,\n",
       "       0, 0, 0, 1, 0, 0, 0, 1, 0, 0, 1, 0, 1, 0, 1, 1, 1, 1, 0, 0, 0, 0,\n",
       "       1, 1, 1, 0, 1, 1, 1, 0, 1, 0, 1, 0, 1, 0, 1, 0, 0, 0, 0, 1, 1, 1,\n",
       "       1, 1, 1, 0, 1, 0, 1, 1, 1, 1, 1, 1, 0, 1, 0, 1, 1, 1, 1, 0, 1, 1,\n",
       "       1, 0, 0, 1, 1, 0, 0, 1, 1, 0, 1, 1, 1, 1, 0, 1, 1, 0, 1, 1, 0, 1,\n",
       "       0, 0, 0, 1, 1, 0, 0, 0, 0, 1, 0, 0, 1, 0, 1, 1, 0, 1, 0, 1, 1, 1,\n",
       "       0, 0, 0, 1, 0, 0, 0, 0, 1, 0, 1, 1, 0, 0, 0, 0, 1, 1, 1, 1, 0, 1,\n",
       "       1, 1, 0, 0, 1, 1, 1, 0, 1, 1, 0, 0, 1, 0, 0, 1, 1, 1, 1, 1, 1, 1,\n",
       "       1, 1, 1, 0, 1, 0, 1, 1, 0, 0, 0, 1], dtype=int64)"
      ]
     },
     "execution_count": 59,
     "metadata": {},
     "output_type": "execute_result"
    }
   ],
   "source": [
    "y_pred_labels"
   ]
  },
  {
   "cell_type": "markdown",
   "id": "1bf61d66",
   "metadata": {},
   "source": [
    "### Evaluating model's performance"
   ]
  },
  {
   "cell_type": "code",
   "execution_count": 60,
   "id": "e6af631a",
   "metadata": {},
   "outputs": [],
   "source": [
    "from sklearn.metrics import accuracy_score,confusion_matrix,classification_report"
   ]
  },
  {
   "cell_type": "code",
   "execution_count": 61,
   "id": "edfa257e",
   "metadata": {},
   "outputs": [
    {
     "name": "stdout",
     "output_type": "stream",
     "text": [
      "Accuracy: 49.6875 %\n"
     ]
    }
   ],
   "source": [
    "print(f'Accuracy: {accuracy_score(y_test,y_pred_labels)*100} %')"
   ]
  },
  {
   "cell_type": "code",
   "execution_count": 62,
   "id": "b651e979",
   "metadata": {},
   "outputs": [
    {
     "name": "stdout",
     "output_type": "stream",
     "text": [
      "Confusion Matirix:\n",
      "[[ 59  82]\n",
      " [ 79 100]]\n"
     ]
    }
   ],
   "source": [
    "print('Confusion Matirix:')\n",
    "print(confusion_matrix(y_test,y_pred_labels))"
   ]
  },
  {
   "cell_type": "code",
   "execution_count": 63,
   "id": "16932f81",
   "metadata": {},
   "outputs": [
    {
     "name": "stdout",
     "output_type": "stream",
     "text": [
      "Classification Report:\n",
      "              precision    recall  f1-score   support\n",
      "\n",
      "           0       0.43      0.42      0.42       141\n",
      "           1       0.55      0.56      0.55       179\n",
      "\n",
      "    accuracy                           0.50       320\n",
      "   macro avg       0.49      0.49      0.49       320\n",
      "weighted avg       0.50      0.50      0.50       320\n",
      "\n"
     ]
    }
   ],
   "source": [
    "print('Classification Report:')\n",
    "print(classification_report(y_test,y_pred_labels))"
   ]
  }
 ],
 "metadata": {
  "kernelspec": {
   "display_name": "Python 3 (ipykernel)",
   "language": "python",
   "name": "python3"
  },
  "language_info": {
   "codemirror_mode": {
    "name": "ipython",
    "version": 3
   },
   "file_extension": ".py",
   "mimetype": "text/x-python",
   "name": "python",
   "nbconvert_exporter": "python",
   "pygments_lexer": "ipython3",
   "version": "3.11.3"
  }
 },
 "nbformat": 4,
 "nbformat_minor": 5
}
