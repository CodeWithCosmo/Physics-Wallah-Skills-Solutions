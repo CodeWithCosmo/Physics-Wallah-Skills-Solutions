{
 "cells": [
  {
   "cell_type": "markdown",
   "id": "232dc857",
   "metadata": {},
   "source": [
    "# Q1. Install and load the latest versions of TensorFlow and Keras. Print their versions.\n",
    "___"
   ]
  },
  {
   "cell_type": "code",
   "execution_count": 43,
   "id": "ba0b3b62",
   "metadata": {},
   "outputs": [],
   "source": [
    "import tensorflow as tf\n",
    "import keras"
   ]
  },
  {
   "cell_type": "code",
   "execution_count": 44,
   "id": "9230f5e3",
   "metadata": {},
   "outputs": [
    {
     "name": "stdout",
     "output_type": "stream",
     "text": [
      "Tensorflow Version 2.13.0\n"
     ]
    }
   ],
   "source": [
    "print(f'Tensorflow Version {tf.__version__}')"
   ]
  },
  {
   "cell_type": "code",
   "execution_count": 45,
   "id": "ec5badc6",
   "metadata": {},
   "outputs": [
    {
     "name": "stdout",
     "output_type": "stream",
     "text": [
      "Keras Version 2.13.1\n"
     ]
    }
   ],
   "source": [
    "print(f'Keras Version {keras.__version__}')"
   ]
  },
  {
   "cell_type": "markdown",
   "id": "592b0f35",
   "metadata": {},
   "source": [
    "# Q2. Load the Wine Quality dataset and explore its dimensions. \n",
    "___"
   ]
  },
  {
   "cell_type": "code",
   "execution_count": 46,
   "id": "a3cc5746",
   "metadata": {},
   "outputs": [],
   "source": [
    "import pandas as pd\n",
    "import numpy as np\n",
    "import matplotlib.pyplot as plt\n",
    "import seaborn as sns"
   ]
  },
  {
   "cell_type": "code",
   "execution_count": 47,
   "id": "058d7f19",
   "metadata": {},
   "outputs": [],
   "source": [
    "wines = pd.read_csv('wine_quality_dataset.csv')"
   ]
  },
  {
   "cell_type": "code",
   "execution_count": 48,
   "id": "1e2aec8d",
   "metadata": {},
   "outputs": [
    {
     "data": {
      "text/html": [
       "<div>\n",
       "<style scoped>\n",
       "    .dataframe tbody tr th:only-of-type {\n",
       "        vertical-align: middle;\n",
       "    }\n",
       "\n",
       "    .dataframe tbody tr th {\n",
       "        vertical-align: top;\n",
       "    }\n",
       "\n",
       "    .dataframe thead th {\n",
       "        text-align: right;\n",
       "    }\n",
       "</style>\n",
       "<table border=\"1\" class=\"dataframe\">\n",
       "  <thead>\n",
       "    <tr style=\"text-align: right;\">\n",
       "      <th></th>\n",
       "      <th>fixed acidity</th>\n",
       "      <th>volatile acidity</th>\n",
       "      <th>citric acid</th>\n",
       "      <th>residual sugar</th>\n",
       "      <th>chlorides</th>\n",
       "      <th>free sulfur dioxide</th>\n",
       "      <th>total sulfur dioxide</th>\n",
       "      <th>density</th>\n",
       "      <th>pH</th>\n",
       "      <th>sulphates</th>\n",
       "      <th>alcohol</th>\n",
       "      <th>quality</th>\n",
       "    </tr>\n",
       "  </thead>\n",
       "  <tbody>\n",
       "    <tr>\n",
       "      <th>0</th>\n",
       "      <td>7.4</td>\n",
       "      <td>0.70</td>\n",
       "      <td>0.00</td>\n",
       "      <td>1.9</td>\n",
       "      <td>0.076</td>\n",
       "      <td>11.0</td>\n",
       "      <td>34.0</td>\n",
       "      <td>0.9978</td>\n",
       "      <td>3.51</td>\n",
       "      <td>0.56</td>\n",
       "      <td>9.4</td>\n",
       "      <td>bad</td>\n",
       "    </tr>\n",
       "    <tr>\n",
       "      <th>1</th>\n",
       "      <td>7.8</td>\n",
       "      <td>0.88</td>\n",
       "      <td>0.00</td>\n",
       "      <td>2.6</td>\n",
       "      <td>0.098</td>\n",
       "      <td>25.0</td>\n",
       "      <td>67.0</td>\n",
       "      <td>0.9968</td>\n",
       "      <td>3.20</td>\n",
       "      <td>0.68</td>\n",
       "      <td>9.8</td>\n",
       "      <td>bad</td>\n",
       "    </tr>\n",
       "    <tr>\n",
       "      <th>2</th>\n",
       "      <td>7.8</td>\n",
       "      <td>0.76</td>\n",
       "      <td>0.04</td>\n",
       "      <td>2.3</td>\n",
       "      <td>0.092</td>\n",
       "      <td>15.0</td>\n",
       "      <td>54.0</td>\n",
       "      <td>0.9970</td>\n",
       "      <td>3.26</td>\n",
       "      <td>0.65</td>\n",
       "      <td>9.8</td>\n",
       "      <td>bad</td>\n",
       "    </tr>\n",
       "    <tr>\n",
       "      <th>3</th>\n",
       "      <td>11.2</td>\n",
       "      <td>0.28</td>\n",
       "      <td>0.56</td>\n",
       "      <td>1.9</td>\n",
       "      <td>0.075</td>\n",
       "      <td>17.0</td>\n",
       "      <td>60.0</td>\n",
       "      <td>0.9980</td>\n",
       "      <td>3.16</td>\n",
       "      <td>0.58</td>\n",
       "      <td>9.8</td>\n",
       "      <td>good</td>\n",
       "    </tr>\n",
       "    <tr>\n",
       "      <th>4</th>\n",
       "      <td>7.4</td>\n",
       "      <td>0.70</td>\n",
       "      <td>0.00</td>\n",
       "      <td>1.9</td>\n",
       "      <td>0.076</td>\n",
       "      <td>11.0</td>\n",
       "      <td>34.0</td>\n",
       "      <td>0.9978</td>\n",
       "      <td>3.51</td>\n",
       "      <td>0.56</td>\n",
       "      <td>9.4</td>\n",
       "      <td>bad</td>\n",
       "    </tr>\n",
       "  </tbody>\n",
       "</table>\n",
       "</div>"
      ],
      "text/plain": [
       "   fixed acidity  volatile acidity  citric acid  residual sugar  chlorides   \n",
       "0            7.4              0.70         0.00             1.9      0.076  \\\n",
       "1            7.8              0.88         0.00             2.6      0.098   \n",
       "2            7.8              0.76         0.04             2.3      0.092   \n",
       "3           11.2              0.28         0.56             1.9      0.075   \n",
       "4            7.4              0.70         0.00             1.9      0.076   \n",
       "\n",
       "   free sulfur dioxide  total sulfur dioxide  density    pH  sulphates   \n",
       "0                 11.0                  34.0   0.9978  3.51       0.56  \\\n",
       "1                 25.0                  67.0   0.9968  3.20       0.68   \n",
       "2                 15.0                  54.0   0.9970  3.26       0.65   \n",
       "3                 17.0                  60.0   0.9980  3.16       0.58   \n",
       "4                 11.0                  34.0   0.9978  3.51       0.56   \n",
       "\n",
       "   alcohol quality  \n",
       "0      9.4     bad  \n",
       "1      9.8     bad  \n",
       "2      9.8     bad  \n",
       "3      9.8    good  \n",
       "4      9.4     bad  "
      ]
     },
     "execution_count": 48,
     "metadata": {},
     "output_type": "execute_result"
    }
   ],
   "source": [
    "wines.head()"
   ]
  },
  {
   "cell_type": "code",
   "execution_count": 49,
   "id": "555957ef",
   "metadata": {},
   "outputs": [
    {
     "data": {
      "text/plain": [
       "(1599, 12)"
      ]
     },
     "execution_count": 49,
     "metadata": {},
     "output_type": "execute_result"
    }
   ],
   "source": [
    "wines.shape"
   ]
  },
  {
   "cell_type": "code",
   "execution_count": 50,
   "id": "74915e1a",
   "metadata": {},
   "outputs": [
    {
     "name": "stdout",
     "output_type": "stream",
     "text": [
      "<class 'pandas.core.frame.DataFrame'>\n",
      "RangeIndex: 1599 entries, 0 to 1598\n",
      "Data columns (total 12 columns):\n",
      " #   Column                Non-Null Count  Dtype  \n",
      "---  ------                --------------  -----  \n",
      " 0   fixed acidity         1599 non-null   float64\n",
      " 1   volatile acidity      1599 non-null   float64\n",
      " 2   citric acid           1599 non-null   float64\n",
      " 3   residual sugar        1599 non-null   float64\n",
      " 4   chlorides             1599 non-null   float64\n",
      " 5   free sulfur dioxide   1599 non-null   float64\n",
      " 6   total sulfur dioxide  1599 non-null   float64\n",
      " 7   density               1599 non-null   float64\n",
      " 8   pH                    1599 non-null   float64\n",
      " 9   sulphates             1599 non-null   float64\n",
      " 10  alcohol               1599 non-null   float64\n",
      " 11  quality               1599 non-null   object \n",
      "dtypes: float64(11), object(1)\n",
      "memory usage: 150.0+ KB\n"
     ]
    }
   ],
   "source": [
    "wines.info()"
   ]
  },
  {
   "cell_type": "code",
   "execution_count": 51,
   "id": "eb1e93ec",
   "metadata": {},
   "outputs": [
    {
     "data": {
      "text/html": [
       "<div>\n",
       "<style scoped>\n",
       "    .dataframe tbody tr th:only-of-type {\n",
       "        vertical-align: middle;\n",
       "    }\n",
       "\n",
       "    .dataframe tbody tr th {\n",
       "        vertical-align: top;\n",
       "    }\n",
       "\n",
       "    .dataframe thead th {\n",
       "        text-align: right;\n",
       "    }\n",
       "</style>\n",
       "<table border=\"1\" class=\"dataframe\">\n",
       "  <thead>\n",
       "    <tr style=\"text-align: right;\">\n",
       "      <th></th>\n",
       "      <th>fixed acidity</th>\n",
       "      <th>volatile acidity</th>\n",
       "      <th>citric acid</th>\n",
       "      <th>residual sugar</th>\n",
       "      <th>chlorides</th>\n",
       "      <th>free sulfur dioxide</th>\n",
       "      <th>total sulfur dioxide</th>\n",
       "      <th>density</th>\n",
       "      <th>pH</th>\n",
       "      <th>sulphates</th>\n",
       "      <th>alcohol</th>\n",
       "    </tr>\n",
       "  </thead>\n",
       "  <tbody>\n",
       "    <tr>\n",
       "      <th>count</th>\n",
       "      <td>1599.000000</td>\n",
       "      <td>1599.000000</td>\n",
       "      <td>1599.000000</td>\n",
       "      <td>1599.000000</td>\n",
       "      <td>1599.000000</td>\n",
       "      <td>1599.000000</td>\n",
       "      <td>1599.000000</td>\n",
       "      <td>1599.000000</td>\n",
       "      <td>1599.000000</td>\n",
       "      <td>1599.000000</td>\n",
       "      <td>1599.000000</td>\n",
       "    </tr>\n",
       "    <tr>\n",
       "      <th>mean</th>\n",
       "      <td>8.319637</td>\n",
       "      <td>0.527821</td>\n",
       "      <td>0.270976</td>\n",
       "      <td>2.538806</td>\n",
       "      <td>0.087467</td>\n",
       "      <td>15.874922</td>\n",
       "      <td>46.467792</td>\n",
       "      <td>0.996747</td>\n",
       "      <td>3.311113</td>\n",
       "      <td>0.658149</td>\n",
       "      <td>10.422983</td>\n",
       "    </tr>\n",
       "    <tr>\n",
       "      <th>std</th>\n",
       "      <td>1.741096</td>\n",
       "      <td>0.179060</td>\n",
       "      <td>0.194801</td>\n",
       "      <td>1.409928</td>\n",
       "      <td>0.047065</td>\n",
       "      <td>10.460157</td>\n",
       "      <td>32.895324</td>\n",
       "      <td>0.001887</td>\n",
       "      <td>0.154386</td>\n",
       "      <td>0.169507</td>\n",
       "      <td>1.065668</td>\n",
       "    </tr>\n",
       "    <tr>\n",
       "      <th>min</th>\n",
       "      <td>4.600000</td>\n",
       "      <td>0.120000</td>\n",
       "      <td>0.000000</td>\n",
       "      <td>0.900000</td>\n",
       "      <td>0.012000</td>\n",
       "      <td>1.000000</td>\n",
       "      <td>6.000000</td>\n",
       "      <td>0.990070</td>\n",
       "      <td>2.740000</td>\n",
       "      <td>0.330000</td>\n",
       "      <td>8.400000</td>\n",
       "    </tr>\n",
       "    <tr>\n",
       "      <th>25%</th>\n",
       "      <td>7.100000</td>\n",
       "      <td>0.390000</td>\n",
       "      <td>0.090000</td>\n",
       "      <td>1.900000</td>\n",
       "      <td>0.070000</td>\n",
       "      <td>7.000000</td>\n",
       "      <td>22.000000</td>\n",
       "      <td>0.995600</td>\n",
       "      <td>3.210000</td>\n",
       "      <td>0.550000</td>\n",
       "      <td>9.500000</td>\n",
       "    </tr>\n",
       "    <tr>\n",
       "      <th>50%</th>\n",
       "      <td>7.900000</td>\n",
       "      <td>0.520000</td>\n",
       "      <td>0.260000</td>\n",
       "      <td>2.200000</td>\n",
       "      <td>0.079000</td>\n",
       "      <td>14.000000</td>\n",
       "      <td>38.000000</td>\n",
       "      <td>0.996750</td>\n",
       "      <td>3.310000</td>\n",
       "      <td>0.620000</td>\n",
       "      <td>10.200000</td>\n",
       "    </tr>\n",
       "    <tr>\n",
       "      <th>75%</th>\n",
       "      <td>9.200000</td>\n",
       "      <td>0.640000</td>\n",
       "      <td>0.420000</td>\n",
       "      <td>2.600000</td>\n",
       "      <td>0.090000</td>\n",
       "      <td>21.000000</td>\n",
       "      <td>62.000000</td>\n",
       "      <td>0.997835</td>\n",
       "      <td>3.400000</td>\n",
       "      <td>0.730000</td>\n",
       "      <td>11.100000</td>\n",
       "    </tr>\n",
       "    <tr>\n",
       "      <th>max</th>\n",
       "      <td>15.900000</td>\n",
       "      <td>1.580000</td>\n",
       "      <td>1.000000</td>\n",
       "      <td>15.500000</td>\n",
       "      <td>0.611000</td>\n",
       "      <td>72.000000</td>\n",
       "      <td>289.000000</td>\n",
       "      <td>1.003690</td>\n",
       "      <td>4.010000</td>\n",
       "      <td>2.000000</td>\n",
       "      <td>14.900000</td>\n",
       "    </tr>\n",
       "  </tbody>\n",
       "</table>\n",
       "</div>"
      ],
      "text/plain": [
       "       fixed acidity  volatile acidity  citric acid  residual sugar   \n",
       "count    1599.000000       1599.000000  1599.000000     1599.000000  \\\n",
       "mean        8.319637          0.527821     0.270976        2.538806   \n",
       "std         1.741096          0.179060     0.194801        1.409928   \n",
       "min         4.600000          0.120000     0.000000        0.900000   \n",
       "25%         7.100000          0.390000     0.090000        1.900000   \n",
       "50%         7.900000          0.520000     0.260000        2.200000   \n",
       "75%         9.200000          0.640000     0.420000        2.600000   \n",
       "max        15.900000          1.580000     1.000000       15.500000   \n",
       "\n",
       "         chlorides  free sulfur dioxide  total sulfur dioxide      density   \n",
       "count  1599.000000          1599.000000           1599.000000  1599.000000  \\\n",
       "mean      0.087467            15.874922             46.467792     0.996747   \n",
       "std       0.047065            10.460157             32.895324     0.001887   \n",
       "min       0.012000             1.000000              6.000000     0.990070   \n",
       "25%       0.070000             7.000000             22.000000     0.995600   \n",
       "50%       0.079000            14.000000             38.000000     0.996750   \n",
       "75%       0.090000            21.000000             62.000000     0.997835   \n",
       "max       0.611000            72.000000            289.000000     1.003690   \n",
       "\n",
       "                pH    sulphates      alcohol  \n",
       "count  1599.000000  1599.000000  1599.000000  \n",
       "mean      3.311113     0.658149    10.422983  \n",
       "std       0.154386     0.169507     1.065668  \n",
       "min       2.740000     0.330000     8.400000  \n",
       "25%       3.210000     0.550000     9.500000  \n",
       "50%       3.310000     0.620000    10.200000  \n",
       "75%       3.400000     0.730000    11.100000  \n",
       "max       4.010000     2.000000    14.900000  "
      ]
     },
     "execution_count": 51,
     "metadata": {},
     "output_type": "execute_result"
    }
   ],
   "source": [
    "wines.describe()"
   ]
  },
  {
   "cell_type": "code",
   "execution_count": 52,
   "id": "c9a02237",
   "metadata": {},
   "outputs": [
    {
     "data": {
      "text/html": [
       "<div>\n",
       "<style scoped>\n",
       "    .dataframe tbody tr th:only-of-type {\n",
       "        vertical-align: middle;\n",
       "    }\n",
       "\n",
       "    .dataframe tbody tr th {\n",
       "        vertical-align: top;\n",
       "    }\n",
       "\n",
       "    .dataframe thead th {\n",
       "        text-align: right;\n",
       "    }\n",
       "</style>\n",
       "<table border=\"1\" class=\"dataframe\">\n",
       "  <thead>\n",
       "    <tr style=\"text-align: right;\">\n",
       "      <th></th>\n",
       "      <th>fixed acidity</th>\n",
       "      <th>volatile acidity</th>\n",
       "      <th>citric acid</th>\n",
       "      <th>residual sugar</th>\n",
       "      <th>chlorides</th>\n",
       "      <th>free sulfur dioxide</th>\n",
       "      <th>total sulfur dioxide</th>\n",
       "      <th>density</th>\n",
       "      <th>pH</th>\n",
       "      <th>sulphates</th>\n",
       "      <th>alcohol</th>\n",
       "    </tr>\n",
       "  </thead>\n",
       "  <tbody>\n",
       "    <tr>\n",
       "      <th>fixed acidity</th>\n",
       "      <td>1.000000</td>\n",
       "      <td>-0.278282</td>\n",
       "      <td>0.661708</td>\n",
       "      <td>0.220701</td>\n",
       "      <td>0.250904</td>\n",
       "      <td>-0.175137</td>\n",
       "      <td>-0.088417</td>\n",
       "      <td>0.623071</td>\n",
       "      <td>-0.706674</td>\n",
       "      <td>0.212654</td>\n",
       "      <td>-0.066576</td>\n",
       "    </tr>\n",
       "    <tr>\n",
       "      <th>volatile acidity</th>\n",
       "      <td>-0.278282</td>\n",
       "      <td>1.000000</td>\n",
       "      <td>-0.610259</td>\n",
       "      <td>0.032386</td>\n",
       "      <td>0.158770</td>\n",
       "      <td>0.021163</td>\n",
       "      <td>0.094110</td>\n",
       "      <td>0.025014</td>\n",
       "      <td>0.233572</td>\n",
       "      <td>-0.325584</td>\n",
       "      <td>-0.224932</td>\n",
       "    </tr>\n",
       "    <tr>\n",
       "      <th>citric acid</th>\n",
       "      <td>0.661708</td>\n",
       "      <td>-0.610259</td>\n",
       "      <td>1.000000</td>\n",
       "      <td>0.176417</td>\n",
       "      <td>0.112577</td>\n",
       "      <td>-0.076452</td>\n",
       "      <td>0.009400</td>\n",
       "      <td>0.352285</td>\n",
       "      <td>-0.548026</td>\n",
       "      <td>0.331074</td>\n",
       "      <td>0.096456</td>\n",
       "    </tr>\n",
       "    <tr>\n",
       "      <th>residual sugar</th>\n",
       "      <td>0.220701</td>\n",
       "      <td>0.032386</td>\n",
       "      <td>0.176417</td>\n",
       "      <td>1.000000</td>\n",
       "      <td>0.212959</td>\n",
       "      <td>0.074618</td>\n",
       "      <td>0.145375</td>\n",
       "      <td>0.422266</td>\n",
       "      <td>-0.089971</td>\n",
       "      <td>0.038332</td>\n",
       "      <td>0.116548</td>\n",
       "    </tr>\n",
       "    <tr>\n",
       "      <th>chlorides</th>\n",
       "      <td>0.250904</td>\n",
       "      <td>0.158770</td>\n",
       "      <td>0.112577</td>\n",
       "      <td>0.212959</td>\n",
       "      <td>1.000000</td>\n",
       "      <td>0.000805</td>\n",
       "      <td>0.130033</td>\n",
       "      <td>0.411390</td>\n",
       "      <td>-0.234361</td>\n",
       "      <td>0.020825</td>\n",
       "      <td>-0.284504</td>\n",
       "    </tr>\n",
       "    <tr>\n",
       "      <th>free sulfur dioxide</th>\n",
       "      <td>-0.175137</td>\n",
       "      <td>0.021163</td>\n",
       "      <td>-0.076452</td>\n",
       "      <td>0.074618</td>\n",
       "      <td>0.000805</td>\n",
       "      <td>1.000000</td>\n",
       "      <td>0.789698</td>\n",
       "      <td>-0.041178</td>\n",
       "      <td>0.115679</td>\n",
       "      <td>0.045862</td>\n",
       "      <td>-0.081367</td>\n",
       "    </tr>\n",
       "    <tr>\n",
       "      <th>total sulfur dioxide</th>\n",
       "      <td>-0.088417</td>\n",
       "      <td>0.094110</td>\n",
       "      <td>0.009400</td>\n",
       "      <td>0.145375</td>\n",
       "      <td>0.130033</td>\n",
       "      <td>0.789698</td>\n",
       "      <td>1.000000</td>\n",
       "      <td>0.129332</td>\n",
       "      <td>-0.009841</td>\n",
       "      <td>-0.000504</td>\n",
       "      <td>-0.257806</td>\n",
       "    </tr>\n",
       "    <tr>\n",
       "      <th>density</th>\n",
       "      <td>0.623071</td>\n",
       "      <td>0.025014</td>\n",
       "      <td>0.352285</td>\n",
       "      <td>0.422266</td>\n",
       "      <td>0.411390</td>\n",
       "      <td>-0.041178</td>\n",
       "      <td>0.129332</td>\n",
       "      <td>1.000000</td>\n",
       "      <td>-0.312055</td>\n",
       "      <td>0.161478</td>\n",
       "      <td>-0.462445</td>\n",
       "    </tr>\n",
       "    <tr>\n",
       "      <th>pH</th>\n",
       "      <td>-0.706674</td>\n",
       "      <td>0.233572</td>\n",
       "      <td>-0.548026</td>\n",
       "      <td>-0.089971</td>\n",
       "      <td>-0.234361</td>\n",
       "      <td>0.115679</td>\n",
       "      <td>-0.009841</td>\n",
       "      <td>-0.312055</td>\n",
       "      <td>1.000000</td>\n",
       "      <td>-0.080306</td>\n",
       "      <td>0.179932</td>\n",
       "    </tr>\n",
       "    <tr>\n",
       "      <th>sulphates</th>\n",
       "      <td>0.212654</td>\n",
       "      <td>-0.325584</td>\n",
       "      <td>0.331074</td>\n",
       "      <td>0.038332</td>\n",
       "      <td>0.020825</td>\n",
       "      <td>0.045862</td>\n",
       "      <td>-0.000504</td>\n",
       "      <td>0.161478</td>\n",
       "      <td>-0.080306</td>\n",
       "      <td>1.000000</td>\n",
       "      <td>0.207330</td>\n",
       "    </tr>\n",
       "    <tr>\n",
       "      <th>alcohol</th>\n",
       "      <td>-0.066576</td>\n",
       "      <td>-0.224932</td>\n",
       "      <td>0.096456</td>\n",
       "      <td>0.116548</td>\n",
       "      <td>-0.284504</td>\n",
       "      <td>-0.081367</td>\n",
       "      <td>-0.257806</td>\n",
       "      <td>-0.462445</td>\n",
       "      <td>0.179932</td>\n",
       "      <td>0.207330</td>\n",
       "      <td>1.000000</td>\n",
       "    </tr>\n",
       "  </tbody>\n",
       "</table>\n",
       "</div>"
      ],
      "text/plain": [
       "                      fixed acidity  volatile acidity  citric acid   \n",
       "fixed acidity              1.000000         -0.278282     0.661708  \\\n",
       "volatile acidity          -0.278282          1.000000    -0.610259   \n",
       "citric acid                0.661708         -0.610259     1.000000   \n",
       "residual sugar             0.220701          0.032386     0.176417   \n",
       "chlorides                  0.250904          0.158770     0.112577   \n",
       "free sulfur dioxide       -0.175137          0.021163    -0.076452   \n",
       "total sulfur dioxide      -0.088417          0.094110     0.009400   \n",
       "density                    0.623071          0.025014     0.352285   \n",
       "pH                        -0.706674          0.233572    -0.548026   \n",
       "sulphates                  0.212654         -0.325584     0.331074   \n",
       "alcohol                   -0.066576         -0.224932     0.096456   \n",
       "\n",
       "                      residual sugar  chlorides  free sulfur dioxide   \n",
       "fixed acidity               0.220701   0.250904            -0.175137  \\\n",
       "volatile acidity            0.032386   0.158770             0.021163   \n",
       "citric acid                 0.176417   0.112577            -0.076452   \n",
       "residual sugar              1.000000   0.212959             0.074618   \n",
       "chlorides                   0.212959   1.000000             0.000805   \n",
       "free sulfur dioxide         0.074618   0.000805             1.000000   \n",
       "total sulfur dioxide        0.145375   0.130033             0.789698   \n",
       "density                     0.422266   0.411390            -0.041178   \n",
       "pH                         -0.089971  -0.234361             0.115679   \n",
       "sulphates                   0.038332   0.020825             0.045862   \n",
       "alcohol                     0.116548  -0.284504            -0.081367   \n",
       "\n",
       "                      total sulfur dioxide   density        pH  sulphates   \n",
       "fixed acidity                    -0.088417  0.623071 -0.706674   0.212654  \\\n",
       "volatile acidity                  0.094110  0.025014  0.233572  -0.325584   \n",
       "citric acid                       0.009400  0.352285 -0.548026   0.331074   \n",
       "residual sugar                    0.145375  0.422266 -0.089971   0.038332   \n",
       "chlorides                         0.130033  0.411390 -0.234361   0.020825   \n",
       "free sulfur dioxide               0.789698 -0.041178  0.115679   0.045862   \n",
       "total sulfur dioxide              1.000000  0.129332 -0.009841  -0.000504   \n",
       "density                           0.129332  1.000000 -0.312055   0.161478   \n",
       "pH                               -0.009841 -0.312055  1.000000  -0.080306   \n",
       "sulphates                        -0.000504  0.161478 -0.080306   1.000000   \n",
       "alcohol                          -0.257806 -0.462445  0.179932   0.207330   \n",
       "\n",
       "                       alcohol  \n",
       "fixed acidity        -0.066576  \n",
       "volatile acidity     -0.224932  \n",
       "citric acid           0.096456  \n",
       "residual sugar        0.116548  \n",
       "chlorides            -0.284504  \n",
       "free sulfur dioxide  -0.081367  \n",
       "total sulfur dioxide -0.257806  \n",
       "density              -0.462445  \n",
       "pH                    0.179932  \n",
       "sulphates             0.207330  \n",
       "alcohol               1.000000  "
      ]
     },
     "execution_count": 52,
     "metadata": {},
     "output_type": "execute_result"
    }
   ],
   "source": [
    "corr_metrics = wines.corr(method='spearman',numeric_only=True)\n",
    "corr_metrics"
   ]
  },
  {
   "cell_type": "code",
   "execution_count": 53,
   "id": "d9a48f7d",
   "metadata": {},
   "outputs": [
    {
     "data": {
      "image/png": "[encoded data removed]",
      "text/plain": [
       "<Figure size 2000x800 with 2 Axes>"
      ]
     },
     "metadata": {},
     "output_type": "display_data"
    }
   ],
   "source": [
    "plt.figure(figsize=(20,8))\n",
    "sns.heatmap(corr_metrics, annot=True, cmap='coolwarm')\n",
    "plt.show()"
   ]
  },
  {
   "cell_type": "markdown",
   "id": "6f08a8c5",
   "metadata": {},
   "source": [
    "# Q3. Check for null values, identify categorical variables, and encode them.\n",
    "___"
   ]
  },
  {
   "cell_type": "code",
   "execution_count": 54,
   "id": "b43b9675",
   "metadata": {},
   "outputs": [
    {
     "data": {
      "text/plain": [
       "fixed acidity           0\n",
       "volatile acidity        0\n",
       "citric acid             0\n",
       "residual sugar          0\n",
       "chlorides               0\n",
       "free sulfur dioxide     0\n",
       "total sulfur dioxide    0\n",
       "density                 0\n",
       "pH                      0\n",
       "sulphates               0\n",
       "alcohol                 0\n",
       "quality                 0\n",
       "dtype: int64"
      ]
     },
     "execution_count": 54,
     "metadata": {},
     "output_type": "execute_result"
    }
   ],
   "source": [
    "wines.isnull().sum()"
   ]
  },
  {
   "cell_type": "code",
   "execution_count": 55,
   "id": "41239eca",
   "metadata": {},
   "outputs": [],
   "source": [
    "# Label Encoding\n",
    "from sklearn.preprocessing import LabelBinarizer\n",
    "lb = LabelBinarizer()\n",
    "wines['quality'] = lb.fit_transform(wines['quality'])"
   ]
  },
  {
   "cell_type": "code",
   "execution_count": 56,
   "id": "d45ace86",
   "metadata": {},
   "outputs": [
    {
     "data": {
      "text/html": [
       "<div>\n",
       "<style scoped>\n",
       "    .dataframe tbody tr th:only-of-type {\n",
       "        vertical-align: middle;\n",
       "    }\n",
       "\n",
       "    .dataframe tbody tr th {\n",
       "        vertical-align: top;\n",
       "    }\n",
       "\n",
       "    .dataframe thead th {\n",
       "        text-align: right;\n",
       "    }\n",
       "</style>\n",
       "<table border=\"1\" class=\"dataframe\">\n",
       "  <thead>\n",
       "    <tr style=\"text-align: right;\">\n",
       "      <th></th>\n",
       "      <th>fixed acidity</th>\n",
       "      <th>volatile acidity</th>\n",
       "      <th>citric acid</th>\n",
       "      <th>residual sugar</th>\n",
       "      <th>chlorides</th>\n",
       "      <th>free sulfur dioxide</th>\n",
       "      <th>total sulfur dioxide</th>\n",
       "      <th>density</th>\n",
       "      <th>pH</th>\n",
       "      <th>sulphates</th>\n",
       "      <th>alcohol</th>\n",
       "      <th>quality</th>\n",
       "    </tr>\n",
       "  </thead>\n",
       "  <tbody>\n",
       "    <tr>\n",
       "      <th>0</th>\n",
       "      <td>7.4</td>\n",
       "      <td>0.70</td>\n",
       "      <td>0.00</td>\n",
       "      <td>1.9</td>\n",
       "      <td>0.076</td>\n",
       "      <td>11.0</td>\n",
       "      <td>34.0</td>\n",
       "      <td>0.9978</td>\n",
       "      <td>3.51</td>\n",
       "      <td>0.56</td>\n",
       "      <td>9.4</td>\n",
       "      <td>0</td>\n",
       "    </tr>\n",
       "    <tr>\n",
       "      <th>1</th>\n",
       "      <td>7.8</td>\n",
       "      <td>0.88</td>\n",
       "      <td>0.00</td>\n",
       "      <td>2.6</td>\n",
       "      <td>0.098</td>\n",
       "      <td>25.0</td>\n",
       "      <td>67.0</td>\n",
       "      <td>0.9968</td>\n",
       "      <td>3.20</td>\n",
       "      <td>0.68</td>\n",
       "      <td>9.8</td>\n",
       "      <td>0</td>\n",
       "    </tr>\n",
       "    <tr>\n",
       "      <th>2</th>\n",
       "      <td>7.8</td>\n",
       "      <td>0.76</td>\n",
       "      <td>0.04</td>\n",
       "      <td>2.3</td>\n",
       "      <td>0.092</td>\n",
       "      <td>15.0</td>\n",
       "      <td>54.0</td>\n",
       "      <td>0.9970</td>\n",
       "      <td>3.26</td>\n",
       "      <td>0.65</td>\n",
       "      <td>9.8</td>\n",
       "      <td>0</td>\n",
       "    </tr>\n",
       "    <tr>\n",
       "      <th>3</th>\n",
       "      <td>11.2</td>\n",
       "      <td>0.28</td>\n",
       "      <td>0.56</td>\n",
       "      <td>1.9</td>\n",
       "      <td>0.075</td>\n",
       "      <td>17.0</td>\n",
       "      <td>60.0</td>\n",
       "      <td>0.9980</td>\n",
       "      <td>3.16</td>\n",
       "      <td>0.58</td>\n",
       "      <td>9.8</td>\n",
       "      <td>1</td>\n",
       "    </tr>\n",
       "    <tr>\n",
       "      <th>4</th>\n",
       "      <td>7.4</td>\n",
       "      <td>0.70</td>\n",
       "      <td>0.00</td>\n",
       "      <td>1.9</td>\n",
       "      <td>0.076</td>\n",
       "      <td>11.0</td>\n",
       "      <td>34.0</td>\n",
       "      <td>0.9978</td>\n",
       "      <td>3.51</td>\n",
       "      <td>0.56</td>\n",
       "      <td>9.4</td>\n",
       "      <td>0</td>\n",
       "    </tr>\n",
       "  </tbody>\n",
       "</table>\n",
       "</div>"
      ],
      "text/plain": [
       "   fixed acidity  volatile acidity  citric acid  residual sugar  chlorides   \n",
       "0            7.4              0.70         0.00             1.9      0.076  \\\n",
       "1            7.8              0.88         0.00             2.6      0.098   \n",
       "2            7.8              0.76         0.04             2.3      0.092   \n",
       "3           11.2              0.28         0.56             1.9      0.075   \n",
       "4            7.4              0.70         0.00             1.9      0.076   \n",
       "\n",
       "   free sulfur dioxide  total sulfur dioxide  density    pH  sulphates   \n",
       "0                 11.0                  34.0   0.9978  3.51       0.56  \\\n",
       "1                 25.0                  67.0   0.9968  3.20       0.68   \n",
       "2                 15.0                  54.0   0.9970  3.26       0.65   \n",
       "3                 17.0                  60.0   0.9980  3.16       0.58   \n",
       "4                 11.0                  34.0   0.9978  3.51       0.56   \n",
       "\n",
       "   alcohol  quality  \n",
       "0      9.4        0  \n",
       "1      9.8        0  \n",
       "2      9.8        0  \n",
       "3      9.8        1  \n",
       "4      9.4        0  "
      ]
     },
     "execution_count": 56,
     "metadata": {},
     "output_type": "execute_result"
    }
   ],
   "source": [
    "wines.head()"
   ]
  },
  {
   "cell_type": "markdown",
   "id": "63537fd6",
   "metadata": {},
   "source": [
    "# Q4. Separate the features and target variables from the dataset.\n",
    "___"
   ]
  },
  {
   "cell_type": "code",
   "execution_count": 57,
   "id": "d9cc8777",
   "metadata": {},
   "outputs": [],
   "source": [
    "X = wines.drop('quality', axis=1)\n",
    "y = wines.quality"
   ]
  },
  {
   "cell_type": "markdown",
   "id": "07538555",
   "metadata": {},
   "source": [
    "# Q5. Perform a train-test split, dividing the data into training, validation, and test datasets.\n",
    "___"
   ]
  },
  {
   "cell_type": "code",
   "execution_count": 58,
   "id": "f5b9e8e6",
   "metadata": {},
   "outputs": [],
   "source": [
    "from sklearn.model_selection import train_test_split\n",
    "X_train_full, X_test, y_train_full, y_test = train_test_split(X, y, test_size=0.2, random_state=42)\n",
    "X_train, X_valid, y_train, y_valid = train_test_split(X_train_full, y_train_full, test_size=0.20, random_state=42)"
   ]
  },
  {
   "cell_type": "code",
   "execution_count": 59,
   "id": "e7dcefdd",
   "metadata": {},
   "outputs": [
    {
     "name": "stdout",
     "output_type": "stream",
     "text": [
      "(1279, 11) (1279,)\n"
     ]
    }
   ],
   "source": [
    "print(X_train_full.shape, y_train_full.shape) # Full Training Set"
   ]
  },
  {
   "cell_type": "code",
   "execution_count": 60,
   "id": "2ce50037",
   "metadata": {},
   "outputs": [
    {
     "name": "stdout",
     "output_type": "stream",
     "text": [
      "(320, 11) (320,)\n"
     ]
    }
   ],
   "source": [
    "print(X_test.shape, y_test.shape) # Test Set"
   ]
  },
  {
   "cell_type": "code",
   "execution_count": 61,
   "id": "7b9dd67c",
   "metadata": {},
   "outputs": [
    {
     "name": "stdout",
     "output_type": "stream",
     "text": [
      "(1023, 11) (1023,)\n"
     ]
    }
   ],
   "source": [
    "print(X_train.shape, y_train.shape) # Training Set"
   ]
  },
  {
   "cell_type": "code",
   "execution_count": 62,
   "id": "d5dacb95",
   "metadata": {},
   "outputs": [
    {
     "name": "stdout",
     "output_type": "stream",
     "text": [
      "(256, 11) (256,)\n"
     ]
    }
   ],
   "source": [
    "print(X_valid.shape, y_valid.shape) # Validation Set"
   ]
  },
  {
   "cell_type": "markdown",
   "id": "60b7fec0",
   "metadata": {},
   "source": [
    "# Q6. Scale the dataset using an appropriate scaling technique.\n",
    "___"
   ]
  },
  {
   "cell_type": "code",
   "execution_count": 63,
   "id": "2a2b504c",
   "metadata": {},
   "outputs": [],
   "source": [
    "from sklearn.preprocessing import StandardScaler\n",
    "scaler = StandardScaler()\n",
    "X_train = scaler.fit_transform(X_train)\n",
    "X_valid = scaler.transform(X_valid)\n",
    "X_test = scaler.transform(X_test)"
   ]
  },
  {
   "cell_type": "markdown",
   "id": "7988b882",
   "metadata": {},
   "source": [
    "# Q7. Design and implement at least two hidden layers and an output layer for the binary categorical variables.\n",
    "___"
   ]
  },
  {
   "cell_type": "code",
   "execution_count": 64,
   "id": "e2a6405b",
   "metadata": {},
   "outputs": [],
   "source": [
    "from keras.layers import InputLayer,Dense"
   ]
  },
  {
   "cell_type": "code",
   "execution_count": 65,
   "id": "5b76f82f",
   "metadata": {},
   "outputs": [
    {
     "data": {
      "text/plain": [
       "11"
      ]
     },
     "execution_count": 65,
     "metadata": {},
     "output_type": "execute_result"
    }
   ],
   "source": [
    "# defining input neurons\n",
    "input_neurons = X_train.shape[1]\n",
    "input_neurons"
   ]
  },
  {
   "cell_type": "code",
   "execution_count": 66,
   "id": "e6ace196",
   "metadata": {},
   "outputs": [
    {
     "data": {
      "text/plain": [
       "2"
      ]
     },
     "execution_count": 66,
     "metadata": {},
     "output_type": "execute_result"
    }
   ],
   "source": [
    "# define number of output neurons\n",
    "output_neurons = len(np.unique(y_train))\n",
    "output_neurons"
   ]
  },
  {
   "cell_type": "code",
   "execution_count": 67,
   "id": "af9580b8",
   "metadata": {},
   "outputs": [],
   "source": [
    "# define hidden layers and neuron in each layer\n",
    "number_of_hidden_layers = 2\n",
    "neuron_hidden_layer_1 = 10\n",
    "neuron_hidden_layer_2 = 5"
   ]
  },
  {
   "cell_type": "markdown",
   "id": "441651eb",
   "metadata": {},
   "source": [
    "# Q8. Create a Sequential model in Keras and add the previously designed layers to it.\n",
    "___"
   ]
  },
  {
   "cell_type": "code",
   "execution_count": 68,
   "id": "cee91234",
   "metadata": {},
   "outputs": [],
   "source": [
    "from keras.models import Sequential"
   ]
  },
  {
   "cell_type": "code",
   "execution_count": 69,
   "id": "6e761fe5",
   "metadata": {},
   "outputs": [],
   "source": [
    "model = Sequential()\n",
    "model.add(InputLayer(input_shape=(input_neurons,)))\n",
    "model.add(Dense(units=neuron_hidden_layer_1, activation='relu'))\n",
    "model.add(Dense(units=neuron_hidden_layer_2, activation='relu'))\n",
    "model.add(Dense(units=output_neurons, activation='tanh'))"
   ]
  },
  {
   "cell_type": "markdown",
   "id": "45168e46",
   "metadata": {},
   "source": [
    "# Q9. Print the summary of the model architecture.\n",
    "___"
   ]
  },
  {
   "cell_type": "code",
   "execution_count": 70,
   "id": "f9839d76",
   "metadata": {},
   "outputs": [
    {
     "name": "stdout",
     "output_type": "stream",
     "text": [
      "Model: \"sequential_1\"\n",
      "_________________________________________________________________\n",
      " Layer (type)                Output Shape              Param #   \n",
      "=================================================================\n",
      " dense_3 (Dense)             (None, 10)                120       \n",
      "                                                                 \n",
      " dense_4 (Dense)             (None, 5)                 55        \n",
      "                                                                 \n",
      " dense_5 (Dense)             (None, 2)                 12        \n",
      "                                                                 \n",
      "=================================================================\n",
      "Total params: 187 (748.00 Byte)\n",
      "Trainable params: 187 (748.00 Byte)\n",
      "Non-trainable params: 0 (0.00 Byte)\n",
      "_________________________________________________________________\n"
     ]
    }
   ],
   "source": [
    "model.summary()"
   ]
  },
  {
   "cell_type": "markdown",
   "id": "72c832e5",
   "metadata": {},
   "source": [
    "# Q10. Set the loss function(‘binary_crossentropy’), optimizer, and include the accuracy metric in the model.\n",
    "___"
   ]
  },
  {
   "cell_type": "code",
   "execution_count": 71,
   "id": "67fbbf48",
   "metadata": {},
   "outputs": [],
   "source": [
    "LOSS = 'binary_crossentropy'\n",
    "OPTIMIZER = 'adam'\n",
    "METRICS = ['accuracy']"
   ]
  },
  {
   "cell_type": "markdown",
   "id": "21413c43",
   "metadata": {},
   "source": [
    "# Q11. Compile the model with the specified loss function, optimizer, and metrics.\n",
    "___"
   ]
  },
  {
   "cell_type": "code",
   "execution_count": 72,
   "id": "25340eef",
   "metadata": {},
   "outputs": [],
   "source": [
    "model.compile(loss=LOSS, optimizer=OPTIMIZER, metrics=METRICS)"
   ]
  },
  {
   "cell_type": "markdown",
   "id": "26b2d992",
   "metadata": {},
   "source": [
    "# Q12. Fit the model to the training data using appropriate batch size and number of epochs.\n",
    "___"
   ]
  },
  {
   "cell_type": "code",
   "execution_count": 73,
   "id": "d12a3526",
   "metadata": {},
   "outputs": [
    {
     "name": "stdout",
     "output_type": "stream",
     "text": [
      "Epoch 1/100\n"
     ]
    },
    {
     "name": "stdout",
     "output_type": "stream",
     "text": [
      "32/32 [==============================] - 1s 5ms/step - loss: 2.7072 - accuracy: 0.5552 - val_loss: 2.1408 - val_accuracy: 0.4805\n",
      "Epoch 2/100\n",
      "32/32 [==============================] - 0s 3ms/step - loss: 2.0945 - accuracy: 0.5611 - val_loss: 1.5893 - val_accuracy: 0.5156\n",
      "Epoch 3/100\n",
      "32/32 [==============================] - 0s 2ms/step - loss: 1.7574 - accuracy: 0.5543 - val_loss: 1.3366 - val_accuracy: 0.5352\n",
      "Epoch 4/100\n",
      "32/32 [==============================] - 0s 2ms/step - loss: 1.3999 - accuracy: 0.5474 - val_loss: 1.1014 - val_accuracy: 0.5234\n",
      "Epoch 5/100\n",
      "32/32 [==============================] - 0s 2ms/step - loss: 1.2063 - accuracy: 0.5523 - val_loss: 1.0161 - val_accuracy: 0.5195\n",
      "Epoch 6/100\n",
      "32/32 [==============================] - 0s 2ms/step - loss: 1.0498 - accuracy: 0.5552 - val_loss: 0.9569 - val_accuracy: 0.5156\n",
      "Epoch 7/100\n",
      "32/32 [==============================] - 0s 2ms/step - loss: 1.0201 - accuracy: 0.5552 - val_loss: 0.9288 - val_accuracy: 0.5117\n",
      "Epoch 8/100\n",
      "32/32 [==============================] - 0s 2ms/step - loss: 1.0022 - accuracy: 0.5591 - val_loss: 0.9139 - val_accuracy: 0.5117\n",
      "Epoch 9/100\n",
      "32/32 [==============================] - 0s 3ms/step - loss: 0.9867 - accuracy: 0.5601 - val_loss: 0.9036 - val_accuracy: 0.5234\n",
      "Epoch 10/100\n",
      "32/32 [==============================] - 0s 2ms/step - loss: 0.9654 - accuracy: 0.5572 - val_loss: 0.8726 - val_accuracy: 0.5234\n",
      "Epoch 11/100\n",
      "32/32 [==============================] - 0s 2ms/step - loss: 0.9313 - accuracy: 0.5572 - val_loss: 0.8185 - val_accuracy: 0.5273\n",
      "Epoch 12/100\n",
      "32/32 [==============================] - 0s 2ms/step - loss: 0.8810 - accuracy: 0.5601 - val_loss: 0.7861 - val_accuracy: 0.5352\n",
      "Epoch 13/100\n",
      "32/32 [==============================] - 0s 2ms/step - loss: 0.8513 - accuracy: 0.5640 - val_loss: 0.7278 - val_accuracy: 0.5430\n",
      "Epoch 14/100\n",
      "32/32 [==============================] - 0s 2ms/step - loss: 0.7738 - accuracy: 0.5650 - val_loss: 0.6887 - val_accuracy: 0.5547\n",
      "Epoch 15/100\n",
      "32/32 [==============================] - 0s 2ms/step - loss: 0.7467 - accuracy: 0.5689 - val_loss: 0.6655 - val_accuracy: 0.5469\n",
      "Epoch 16/100\n",
      "32/32 [==============================] - 0s 3ms/step - loss: 0.7349 - accuracy: 0.5718 - val_loss: 0.6558 - val_accuracy: 0.5469\n",
      "Epoch 17/100\n",
      "32/32 [==============================] - 0s 3ms/step - loss: 0.7276 - accuracy: 0.5728 - val_loss: 0.6498 - val_accuracy: 0.5508\n",
      "Epoch 18/100\n",
      "32/32 [==============================] - 0s 2ms/step - loss: 0.7165 - accuracy: 0.5767 - val_loss: 0.6455 - val_accuracy: 0.5586\n",
      "Epoch 19/100\n",
      "32/32 [==============================] - 0s 2ms/step - loss: 0.7109 - accuracy: 0.5797 - val_loss: 0.6407 - val_accuracy: 0.5625\n",
      "Epoch 20/100\n",
      "32/32 [==============================] - 0s 2ms/step - loss: 0.7059 - accuracy: 0.5846 - val_loss: 0.6372 - val_accuracy: 0.5625\n",
      "Epoch 21/100\n",
      "32/32 [==============================] - 0s 3ms/step - loss: 0.6904 - accuracy: 0.5836 - val_loss: 0.6325 - val_accuracy: 0.5664\n",
      "Epoch 22/100\n",
      "32/32 [==============================] - 0s 3ms/step - loss: 0.6731 - accuracy: 0.5865 - val_loss: 0.6284 - val_accuracy: 0.5664\n",
      "Epoch 23/100\n",
      "32/32 [==============================] - 0s 2ms/step - loss: 0.6614 - accuracy: 0.5855 - val_loss: 0.6254 - val_accuracy: 0.5664\n",
      "Epoch 24/100\n",
      "32/32 [==============================] - 0s 2ms/step - loss: 0.6513 - accuracy: 0.5885 - val_loss: 0.6227 - val_accuracy: 0.5703\n",
      "Epoch 25/100\n",
      "32/32 [==============================] - 0s 3ms/step - loss: 0.6295 - accuracy: 0.5855 - val_loss: 0.5979 - val_accuracy: 0.5781\n",
      "Epoch 26/100\n",
      "32/32 [==============================] - 0s 2ms/step - loss: 0.6015 - accuracy: 0.5846 - val_loss: 0.5954 - val_accuracy: 0.5742\n",
      "Epoch 27/100\n",
      "32/32 [==============================] - 0s 2ms/step - loss: 0.5915 - accuracy: 0.5846 - val_loss: 0.5935 - val_accuracy: 0.5742\n",
      "Epoch 28/100\n",
      "32/32 [==============================] - 0s 2ms/step - loss: 0.5884 - accuracy: 0.5816 - val_loss: 0.5908 - val_accuracy: 0.5820\n",
      "Epoch 29/100\n",
      "32/32 [==============================] - 0s 2ms/step - loss: 0.5854 - accuracy: 0.5797 - val_loss: 0.5887 - val_accuracy: 0.5859\n",
      "Epoch 30/100\n",
      "32/32 [==============================] - 0s 3ms/step - loss: 0.5830 - accuracy: 0.5806 - val_loss: 0.5867 - val_accuracy: 0.5859\n",
      "Epoch 31/100\n",
      "32/32 [==============================] - 0s 2ms/step - loss: 0.5805 - accuracy: 0.5777 - val_loss: 0.5850 - val_accuracy: 0.5898\n",
      "Epoch 32/100\n",
      "32/32 [==============================] - 0s 2ms/step - loss: 0.5782 - accuracy: 0.5777 - val_loss: 0.5836 - val_accuracy: 0.5859\n",
      "Epoch 33/100\n",
      "32/32 [==============================] - 0s 2ms/step - loss: 0.5761 - accuracy: 0.5777 - val_loss: 0.5822 - val_accuracy: 0.5820\n",
      "Epoch 34/100\n",
      "32/32 [==============================] - 0s 4ms/step - loss: 0.5743 - accuracy: 0.5758 - val_loss: 0.5810 - val_accuracy: 0.5820\n",
      "Epoch 35/100\n",
      "32/32 [==============================] - 0s 2ms/step - loss: 0.5723 - accuracy: 0.5758 - val_loss: 0.5796 - val_accuracy: 0.5820\n",
      "Epoch 36/100\n",
      "32/32 [==============================] - 0s 3ms/step - loss: 0.5707 - accuracy: 0.5758 - val_loss: 0.5778 - val_accuracy: 0.5781\n",
      "Epoch 37/100\n",
      "32/32 [==============================] - 0s 2ms/step - loss: 0.5688 - accuracy: 0.5748 - val_loss: 0.5772 - val_accuracy: 0.5742\n",
      "Epoch 38/100\n",
      "32/32 [==============================] - 0s 2ms/step - loss: 0.5672 - accuracy: 0.5758 - val_loss: 0.5761 - val_accuracy: 0.5742\n",
      "Epoch 39/100\n",
      "32/32 [==============================] - 0s 2ms/step - loss: 0.5658 - accuracy: 0.5758 - val_loss: 0.5746 - val_accuracy: 0.5703\n",
      "Epoch 40/100\n",
      "32/32 [==============================] - 0s 2ms/step - loss: 0.5637 - accuracy: 0.5699 - val_loss: 0.5740 - val_accuracy: 0.5781\n",
      "Epoch 41/100\n",
      "32/32 [==============================] - 0s 2ms/step - loss: 0.5583 - accuracy: 0.5748 - val_loss: 0.5777 - val_accuracy: 0.5703\n",
      "Epoch 42/100\n",
      "32/32 [==============================] - 0s 2ms/step - loss: 0.5551 - accuracy: 0.5846 - val_loss: 0.5763 - val_accuracy: 0.5703\n",
      "Epoch 43/100\n",
      "32/32 [==============================] - 0s 2ms/step - loss: 0.5538 - accuracy: 0.5855 - val_loss: 0.5746 - val_accuracy: 0.5703\n",
      "Epoch 44/100\n",
      "32/32 [==============================] - 0s 2ms/step - loss: 0.5522 - accuracy: 0.5855 - val_loss: 0.5727 - val_accuracy: 0.5703\n",
      "Epoch 45/100\n",
      "32/32 [==============================] - 0s 2ms/step - loss: 0.5508 - accuracy: 0.5836 - val_loss: 0.5716 - val_accuracy: 0.5742\n",
      "Epoch 46/100\n",
      "32/32 [==============================] - 0s 2ms/step - loss: 0.5497 - accuracy: 0.5826 - val_loss: 0.5708 - val_accuracy: 0.5742\n",
      "Epoch 47/100\n",
      "32/32 [==============================] - 0s 2ms/step - loss: 0.5487 - accuracy: 0.5836 - val_loss: 0.5693 - val_accuracy: 0.5781\n",
      "Epoch 48/100\n",
      "32/32 [==============================] - 0s 3ms/step - loss: 0.5471 - accuracy: 0.5846 - val_loss: 0.5685 - val_accuracy: 0.5820\n",
      "Epoch 49/100\n",
      "32/32 [==============================] - 0s 2ms/step - loss: 0.5462 - accuracy: 0.5816 - val_loss: 0.5680 - val_accuracy: 0.5703\n",
      "Epoch 50/100\n",
      "32/32 [==============================] - 0s 2ms/step - loss: 0.5453 - accuracy: 0.5787 - val_loss: 0.5671 - val_accuracy: 0.5664\n",
      "Epoch 51/100\n",
      "32/32 [==============================] - 0s 2ms/step - loss: 0.5441 - accuracy: 0.5826 - val_loss: 0.5656 - val_accuracy: 0.5586\n",
      "Epoch 52/100\n",
      "32/32 [==============================] - 0s 2ms/step - loss: 0.5429 - accuracy: 0.5806 - val_loss: 0.5651 - val_accuracy: 0.5586\n",
      "Epoch 53/100\n",
      "32/32 [==============================] - 0s 2ms/step - loss: 0.5418 - accuracy: 0.5767 - val_loss: 0.5641 - val_accuracy: 0.5586\n",
      "Epoch 54/100\n",
      "32/32 [==============================] - 0s 2ms/step - loss: 0.5409 - accuracy: 0.5806 - val_loss: 0.5629 - val_accuracy: 0.5625\n",
      "Epoch 55/100\n",
      "32/32 [==============================] - 0s 4ms/step - loss: 0.5401 - accuracy: 0.5797 - val_loss: 0.5623 - val_accuracy: 0.5547\n",
      "Epoch 56/100\n",
      "32/32 [==============================] - 0s 2ms/step - loss: 0.5390 - accuracy: 0.5777 - val_loss: 0.5613 - val_accuracy: 0.5547\n",
      "Epoch 57/100\n",
      "32/32 [==============================] - 0s 2ms/step - loss: 0.5381 - accuracy: 0.5787 - val_loss: 0.5593 - val_accuracy: 0.5508\n",
      "Epoch 58/100\n",
      "32/32 [==============================] - 0s 2ms/step - loss: 0.5373 - accuracy: 0.5806 - val_loss: 0.5587 - val_accuracy: 0.5469\n",
      "Epoch 59/100\n",
      "32/32 [==============================] - 0s 2ms/step - loss: 0.5367 - accuracy: 0.5748 - val_loss: 0.5587 - val_accuracy: 0.5391\n",
      "Epoch 60/100\n",
      "32/32 [==============================] - 0s 2ms/step - loss: 0.5354 - accuracy: 0.5767 - val_loss: 0.5567 - val_accuracy: 0.5430\n",
      "Epoch 61/100\n",
      "32/32 [==============================] - 0s 2ms/step - loss: 0.5344 - accuracy: 0.5767 - val_loss: 0.5574 - val_accuracy: 0.5508\n",
      "Epoch 62/100\n",
      "32/32 [==============================] - 0s 2ms/step - loss: 0.5341 - accuracy: 0.5806 - val_loss: 0.5572 - val_accuracy: 0.5469\n",
      "Epoch 63/100\n",
      "32/32 [==============================] - 0s 2ms/step - loss: 0.5327 - accuracy: 0.5806 - val_loss: 0.5554 - val_accuracy: 0.5430\n",
      "Epoch 64/100\n",
      "32/32 [==============================] - 0s 2ms/step - loss: 0.5319 - accuracy: 0.5797 - val_loss: 0.5548 - val_accuracy: 0.5469\n",
      "Epoch 65/100\n",
      "32/32 [==============================] - 0s 2ms/step - loss: 0.5313 - accuracy: 0.5797 - val_loss: 0.5541 - val_accuracy: 0.5508\n",
      "Epoch 66/100\n",
      "32/32 [==============================] - 0s 2ms/step - loss: 0.5302 - accuracy: 0.5806 - val_loss: 0.5535 - val_accuracy: 0.5469\n",
      "Epoch 67/100\n",
      "32/32 [==============================] - 0s 2ms/step - loss: 0.5296 - accuracy: 0.5767 - val_loss: 0.5539 - val_accuracy: 0.5469\n",
      "Epoch 68/100\n",
      "32/32 [==============================] - 0s 2ms/step - loss: 0.5285 - accuracy: 0.5709 - val_loss: 0.5529 - val_accuracy: 0.5508\n",
      "Epoch 69/100\n",
      "32/32 [==============================] - 0s 2ms/step - loss: 0.5277 - accuracy: 0.5689 - val_loss: 0.5521 - val_accuracy: 0.5430\n",
      "Epoch 70/100\n",
      "32/32 [==============================] - 0s 2ms/step - loss: 0.5271 - accuracy: 0.5728 - val_loss: 0.5513 - val_accuracy: 0.5469\n",
      "Epoch 71/100\n",
      "32/32 [==============================] - 0s 2ms/step - loss: 0.5260 - accuracy: 0.5718 - val_loss: 0.5519 - val_accuracy: 0.5508\n",
      "Epoch 72/100\n",
      "32/32 [==============================] - 0s 2ms/step - loss: 0.5252 - accuracy: 0.5748 - val_loss: 0.5520 - val_accuracy: 0.5547\n",
      "Epoch 73/100\n",
      "32/32 [==============================] - 0s 2ms/step - loss: 0.5243 - accuracy: 0.5738 - val_loss: 0.5511 - val_accuracy: 0.5508\n",
      "Epoch 74/100\n",
      "32/32 [==============================] - 0s 4ms/step - loss: 0.5233 - accuracy: 0.5699 - val_loss: 0.5501 - val_accuracy: 0.5469\n",
      "Epoch 75/100\n",
      "32/32 [==============================] - 0s 2ms/step - loss: 0.5228 - accuracy: 0.5718 - val_loss: 0.5503 - val_accuracy: 0.5469\n",
      "Epoch 76/100\n",
      "32/32 [==============================] - 0s 3ms/step - loss: 0.5223 - accuracy: 0.5650 - val_loss: 0.5500 - val_accuracy: 0.5352\n",
      "Epoch 77/100\n",
      "32/32 [==============================] - 0s 2ms/step - loss: 0.5215 - accuracy: 0.5650 - val_loss: 0.5495 - val_accuracy: 0.5352\n",
      "Epoch 78/100\n",
      "32/32 [==============================] - 0s 2ms/step - loss: 0.5204 - accuracy: 0.5660 - val_loss: 0.5477 - val_accuracy: 0.5430\n",
      "Epoch 79/100\n",
      "32/32 [==============================] - 0s 2ms/step - loss: 0.5199 - accuracy: 0.5689 - val_loss: 0.5482 - val_accuracy: 0.5391\n",
      "Epoch 80/100\n",
      "32/32 [==============================] - 0s 2ms/step - loss: 0.5189 - accuracy: 0.5679 - val_loss: 0.5482 - val_accuracy: 0.5430\n",
      "Epoch 81/100\n",
      "32/32 [==============================] - 0s 2ms/step - loss: 0.5184 - accuracy: 0.5699 - val_loss: 0.5474 - val_accuracy: 0.5391\n",
      "Epoch 82/100\n",
      "32/32 [==============================] - 0s 2ms/step - loss: 0.5172 - accuracy: 0.5650 - val_loss: 0.5481 - val_accuracy: 0.5352\n",
      "Epoch 83/100\n",
      "32/32 [==============================] - 0s 2ms/step - loss: 0.5164 - accuracy: 0.5679 - val_loss: 0.5474 - val_accuracy: 0.5391\n",
      "Epoch 84/100\n",
      "32/32 [==============================] - 0s 2ms/step - loss: 0.5156 - accuracy: 0.5670 - val_loss: 0.5469 - val_accuracy: 0.5469\n",
      "Epoch 85/100\n",
      "32/32 [==============================] - 0s 2ms/step - loss: 0.5146 - accuracy: 0.5679 - val_loss: 0.5462 - val_accuracy: 0.5352\n",
      "Epoch 86/100\n",
      "32/32 [==============================] - 0s 2ms/step - loss: 0.5135 - accuracy: 0.5630 - val_loss: 0.5454 - val_accuracy: 0.5352\n",
      "Epoch 87/100\n",
      "32/32 [==============================] - 0s 4ms/step - loss: 0.5126 - accuracy: 0.5611 - val_loss: 0.5468 - val_accuracy: 0.5352\n",
      "Epoch 88/100\n",
      "32/32 [==============================] - 0s 2ms/step - loss: 0.5113 - accuracy: 0.5640 - val_loss: 0.5460 - val_accuracy: 0.5430\n",
      "Epoch 89/100\n",
      "32/32 [==============================] - 0s 2ms/step - loss: 0.5103 - accuracy: 0.5630 - val_loss: 0.5451 - val_accuracy: 0.5508\n",
      "Epoch 90/100\n",
      "32/32 [==============================] - 0s 2ms/step - loss: 0.5094 - accuracy: 0.5611 - val_loss: 0.5451 - val_accuracy: 0.5469\n",
      "Epoch 91/100\n",
      "32/32 [==============================] - 0s 2ms/step - loss: 0.5080 - accuracy: 0.5611 - val_loss: 0.5432 - val_accuracy: 0.5469\n",
      "Epoch 92/100\n",
      "32/32 [==============================] - 0s 2ms/step - loss: 0.4991 - accuracy: 0.5660 - val_loss: 0.5510 - val_accuracy: 0.5547\n",
      "Epoch 93/100\n",
      "32/32 [==============================] - 0s 2ms/step - loss: 0.4953 - accuracy: 0.5728 - val_loss: 0.5487 - val_accuracy: 0.5508\n",
      "Epoch 94/100\n",
      "32/32 [==============================] - 0s 2ms/step - loss: 0.4930 - accuracy: 0.5728 - val_loss: 0.5476 - val_accuracy: 0.5352\n",
      "Epoch 95/100\n",
      "32/32 [==============================] - 0s 2ms/step - loss: 0.4913 - accuracy: 0.5758 - val_loss: 0.5457 - val_accuracy: 0.5430\n",
      "Epoch 96/100\n",
      "32/32 [==============================] - 0s 2ms/step - loss: 0.4898 - accuracy: 0.5797 - val_loss: 0.5456 - val_accuracy: 0.5391\n",
      "Epoch 97/100\n",
      "32/32 [==============================] - 0s 2ms/step - loss: 0.4885 - accuracy: 0.5865 - val_loss: 0.5456 - val_accuracy: 0.5469\n",
      "Epoch 98/100\n",
      "32/32 [==============================] - 0s 2ms/step - loss: 0.4875 - accuracy: 0.5875 - val_loss: 0.5434 - val_accuracy: 0.5430\n",
      "Epoch 99/100\n",
      "32/32 [==============================] - 0s 2ms/step - loss: 0.4858 - accuracy: 0.5836 - val_loss: 0.5448 - val_accuracy: 0.5391\n",
      "Epoch 100/100\n",
      "32/32 [==============================] - 0s 4ms/step - loss: 0.4857 - accuracy: 0.5826 - val_loss: 0.5432 - val_accuracy: 0.5547\n"
     ]
    }
   ],
   "source": [
    "model_history = model.fit(X_train, y_train, validation_data=(X_valid, y_valid), epochs=100,batch_size=32)"
   ]
  },
  {
   "cell_type": "markdown",
   "id": "b9b8b8a0",
   "metadata": {},
   "source": [
    "# Q13. Obtain the model's parameters (weights and biases).\n",
    "___"
   ]
  },
  {
   "cell_type": "code",
   "execution_count": 74,
   "id": "b1a52ce6",
   "metadata": {},
   "outputs": [
    {
     "name": "stdout",
     "output_type": "stream",
     "text": [
      "[<tf.Variable 'dense_3/kernel:0' shape=(11, 10) dtype=float32, numpy=\n",
      "array([[ 0.09789655, -0.04506261, -0.03794033,  0.0926134 ,  0.44820708,\n",
      "         0.08795753, -0.0329734 , -0.4523497 ,  0.3182221 ,  0.14634722],\n",
      "       [ 0.32945532,  0.19920847, -0.3197019 ,  0.38771927,  0.28957242,\n",
      "        -0.33397207, -0.75988317,  0.21395847,  0.30518782,  0.3821005 ],\n",
      "       [-0.45393512, -0.09786299, -0.28145662, -0.20133162, -0.02412386,\n",
      "        -0.36141106, -0.28297135,  0.16041449,  0.07076095,  0.05211511],\n",
      "       [-0.45613444, -0.05084827, -0.3188468 ,  0.11099859, -0.05287823,\n",
      "        -0.1284976 , -0.19503191, -0.31975138,  0.28873408,  0.13334182],\n",
      "       [-0.41552988, -0.2680483 ,  0.02448483, -0.36468658, -0.37509018,\n",
      "        -0.1510901 , -0.31812817,  0.12170444,  0.04641951,  0.02007134],\n",
      "       [-0.02406123, -0.4865438 , -0.10483986,  0.22031908, -0.2535783 ,\n",
      "        -0.47120485,  0.13942477,  0.32734677, -0.05573973,  0.17684805],\n",
      "       [ 0.07952713, -0.5194689 ,  0.1420345 ,  0.02637367,  0.20245302,\n",
      "        -0.2654326 , -0.41121146, -0.16490087, -0.6856536 , -0.03517843],\n",
      "       [-0.22887294, -0.13300206, -0.46754208,  0.6828091 , -0.49570164,\n",
      "        -0.12490464, -0.14196795,  0.20383175,  0.42995897, -0.35829827],\n",
      "       [-0.35178256, -0.05628353,  0.6699435 , -0.28170255,  0.65324736,\n",
      "         0.0047655 , -0.05902955, -0.22697769, -0.3212601 ,  0.039447  ],\n",
      "       [ 0.11441785, -0.331916  ,  0.3229189 ,  0.40725228, -0.56560755,\n",
      "        -0.29138595,  0.23567492, -0.16575353,  0.258435  ,  0.00242621],\n",
      "       [-0.2631641 ,  0.05725166, -0.4808415 , -0.4126144 , -0.13000527,\n",
      "        -0.372998  ,  0.7498519 ,  0.0691617 ,  0.5679102 ,  0.29871544]],\n",
      "      dtype=float32)>, <tf.Variable 'dense_3/bias:0' shape=(10,) dtype=float32, numpy=\n",
      "array([ 0.16227272,  0.00880827,  0.09022491, -0.00403376, -0.11524643,\n",
      "       -0.088751  ,  0.32323414, -0.19664663,  0.2912343 ,  0.13395958],\n",
      "      dtype=float32)>, <tf.Variable 'dense_4/kernel:0' shape=(10, 5) dtype=float32, numpy=\n",
      "array([[ 0.28345028,  0.3967564 , -0.19045731,  0.19026235, -0.4416909 ],\n",
      "       [ 0.38249698, -0.42859462,  0.46769288,  0.02973136, -0.26323563],\n",
      "       [-0.1080366 , -0.27173862,  0.5965889 ,  0.3496003 , -0.07328057],\n",
      "       [ 0.19946268, -0.2266616 ,  0.02939666,  0.11002178, -0.15387984],\n",
      "       [-0.59842885, -0.551116  , -0.48155475, -0.28170723,  0.38889936],\n",
      "       [-0.46362513,  0.15273991, -0.30366823, -0.20773047,  0.4393615 ],\n",
      "       [ 0.02893402,  0.6544691 ,  0.14664692, -0.11561975,  0.36043587],\n",
      "       [ 0.33226627, -0.42797768, -0.04236737,  0.21674858,  0.43406302],\n",
      "       [-0.9056876 ,  0.4727178 , -0.4995314 , -0.2528467 , -0.32069877],\n",
      "       [ 0.1958411 ,  0.45081314,  0.54697084,  0.368852  , -0.6382851 ]],\n",
      "      dtype=float32)>, <tf.Variable 'dense_4/bias:0' shape=(5,) dtype=float32, numpy=\n",
      "array([-0.07174634,  0.14949018,  0.07694901,  0.06059038, -0.12433485],\n",
      "      dtype=float32)>, <tf.Variable 'dense_5/kernel:0' shape=(5, 2) dtype=float32, numpy=\n",
      "array([[-0.3373566 , -0.75988615],\n",
      "       [ 0.6300654 ,  0.71831787],\n",
      "       [ 0.68850416,  0.4325158 ],\n",
      "       [-0.18198931,  0.1515431 ],\n",
      "       [-0.7640515 , -0.11839705]], dtype=float32)>, <tf.Variable 'dense_5/bias:0' shape=(2,) dtype=float32, numpy=array([0.14727286, 0.11363105], dtype=float32)>]\n"
     ]
    }
   ],
   "source": [
    "print(model.weights)"
   ]
  },
  {
   "cell_type": "markdown",
   "id": "00d3f45a",
   "metadata": {},
   "source": [
    "# Q14. Store the model's training history as a Pandas DataFrame.\n",
    "___"
   ]
  },
  {
   "cell_type": "code",
   "execution_count": 75,
   "id": "33cd0981",
   "metadata": {},
   "outputs": [],
   "source": [
    "model_history_df = pd.DataFrame(model_history.history)"
   ]
  },
  {
   "cell_type": "code",
   "execution_count": 76,
   "id": "cdd211da",
   "metadata": {},
   "outputs": [
    {
     "data": {
      "text/html": [
       "<div>\n",
       "<style scoped>\n",
       "    .dataframe tbody tr th:only-of-type {\n",
       "        vertical-align: middle;\n",
       "    }\n",
       "\n",
       "    .dataframe tbody tr th {\n",
       "        vertical-align: top;\n",
       "    }\n",
       "\n",
       "    .dataframe thead th {\n",
       "        text-align: right;\n",
       "    }\n",
       "</style>\n",
       "<table border=\"1\" class=\"dataframe\">\n",
       "  <thead>\n",
       "    <tr style=\"text-align: right;\">\n",
       "      <th></th>\n",
       "      <th>loss</th>\n",
       "      <th>accuracy</th>\n",
       "      <th>val_loss</th>\n",
       "      <th>val_accuracy</th>\n",
       "    </tr>\n",
       "  </thead>\n",
       "  <tbody>\n",
       "    <tr>\n",
       "      <th>0</th>\n",
       "      <td>2.707208</td>\n",
       "      <td>0.555230</td>\n",
       "      <td>2.140760</td>\n",
       "      <td>0.480469</td>\n",
       "    </tr>\n",
       "    <tr>\n",
       "      <th>1</th>\n",
       "      <td>2.094524</td>\n",
       "      <td>0.561095</td>\n",
       "      <td>1.589286</td>\n",
       "      <td>0.515625</td>\n",
       "    </tr>\n",
       "    <tr>\n",
       "      <th>2</th>\n",
       "      <td>1.757440</td>\n",
       "      <td>0.554252</td>\n",
       "      <td>1.336633</td>\n",
       "      <td>0.535156</td>\n",
       "    </tr>\n",
       "    <tr>\n",
       "      <th>3</th>\n",
       "      <td>1.399863</td>\n",
       "      <td>0.547410</td>\n",
       "      <td>1.101421</td>\n",
       "      <td>0.523438</td>\n",
       "    </tr>\n",
       "    <tr>\n",
       "      <th>4</th>\n",
       "      <td>1.206346</td>\n",
       "      <td>0.552297</td>\n",
       "      <td>1.016116</td>\n",
       "      <td>0.519531</td>\n",
       "    </tr>\n",
       "  </tbody>\n",
       "</table>\n",
       "</div>"
      ],
      "text/plain": [
       "       loss  accuracy  val_loss  val_accuracy\n",
       "0  2.707208  0.555230  2.140760      0.480469\n",
       "1  2.094524  0.561095  1.589286      0.515625\n",
       "2  1.757440  0.554252  1.336633      0.535156\n",
       "3  1.399863  0.547410  1.101421      0.523438\n",
       "4  1.206346  0.552297  1.016116      0.519531"
      ]
     },
     "execution_count": 76,
     "metadata": {},
     "output_type": "execute_result"
    }
   ],
   "source": [
    "model_history_df.head()"
   ]
  },
  {
   "cell_type": "markdown",
   "id": "412867d8",
   "metadata": {},
   "source": [
    "# Q15. Plot the training history (e.g., accuracy and loss) using suitable visualization techniques.\n",
    "___"
   ]
  },
  {
   "cell_type": "code",
   "execution_count": 77,
   "id": "bba86a67",
   "metadata": {},
   "outputs": [
    {
     "data": {
      "image/png": "[encoded data removed]",
      "text/plain": [
       "<Figure size 640x480 with 1 Axes>"
      ]
     },
     "metadata": {},
     "output_type": "display_data"
    }
   ],
   "source": [
    "# Visualizing history for loss\n",
    "plt.plot(model_history.history['loss'])\n",
    "plt.plot(model_history.history['val_loss'])\n",
    "plt.title('model loss')\n",
    "plt.ylabel('loss')\n",
    "plt.xlabel('epoch')\n",
    "plt.legend(['train', 'validation'], loc='upper right')\n",
    "plt.show()"
   ]
  },
  {
   "cell_type": "code",
   "execution_count": 78,
   "id": "059659d9",
   "metadata": {},
   "outputs": [
    {
     "data": {
      "image/png": "[encoded data removed]",
      "text/plain": [
       "<Figure size 640x480 with 1 Axes>"
      ]
     },
     "metadata": {},
     "output_type": "display_data"
    }
   ],
   "source": [
    "# Visualizing history for accuracy\n",
    "plt.plot(model_history.history['accuracy'])\n",
    "plt.plot(model_history.history['val_accuracy'])\n",
    "plt.title('model accuracy')\n",
    "plt.ylabel('accuracy')\n",
    "plt.xlabel('epoch')\n",
    "plt.legend(['train', 'validation'], loc='upper left')\n",
    "plt.show()"
   ]
  },
  {
   "cell_type": "markdown",
   "id": "0d6da147",
   "metadata": {},
   "source": [
    "# Q16. Evaluate the model's performance using the test dataset and report relevant metrics.\n",
    "___"
   ]
  },
  {
   "cell_type": "code",
   "execution_count": 79,
   "id": "34420c2e",
   "metadata": {},
   "outputs": [
    {
     "name": "stdout",
     "output_type": "stream",
     "text": [
      "10/10 [==============================] - 0s 887us/step\n"
     ]
    }
   ],
   "source": [
    "y_pred_probabilities = model.predict(X_test)"
   ]
  },
  {
   "cell_type": "code",
   "execution_count": 80,
   "id": "a2649926",
   "metadata": {},
   "outputs": [
    {
     "data": {
      "text/plain": [
       "array([[ 0.27638325,  0.33575818],\n",
       "       [ 0.12684242,  0.17617317],\n",
       "       [ 0.5673624 ,  0.59119827],\n",
       "       [ 0.09879208,  0.03822865],\n",
       "       [ 0.7049034 ,  0.70900846],\n",
       "       [ 0.38606608,  0.39958146],\n",
       "       [ 0.19563797,  0.25932828],\n",
       "       [ 0.31477404,  0.27240047],\n",
       "       [ 0.70305884,  0.70866233],\n",
       "       [ 0.75797105,  0.6853338 ],\n",
       "       [ 0.8923653 ,  0.9185905 ],\n",
       "       [ 0.5254949 ,  0.44890383],\n",
       "       [ 0.72744304,  0.7279902 ],\n",
       "       [ 0.2020595 ,  0.2511242 ],\n",
       "       [ 0.5026633 ,  0.4441601 ],\n",
       "       [ 0.91727066,  0.9529457 ],\n",
       "       [ 0.179527  ,  0.25233778],\n",
       "       [ 0.36448222,  0.36382517],\n",
       "       [ 0.9541404 ,  0.9695399 ],\n",
       "       [ 0.22650929,  0.20516156],\n",
       "       [ 0.14621724,  0.1131445 ],\n",
       "       [ 0.22393794,  0.25191048],\n",
       "       [ 0.76875055,  0.67910665],\n",
       "       [ 0.9787138 ,  0.9714101 ],\n",
       "       [ 0.26006013,  0.2224272 ],\n",
       "       [ 0.55278534,  0.4924625 ],\n",
       "       [ 0.9406867 ,  0.9590546 ],\n",
       "       [ 0.41950423,  0.361003  ],\n",
       "       [ 0.08835322,  0.02876247],\n",
       "       [ 0.85691386,  0.88682467],\n",
       "       [ 0.1270246 ,  0.14370444],\n",
       "       [ 0.03507601,  0.31152287],\n",
       "       [ 0.49749163,  0.67272335],\n",
       "       [ 0.22362384,  0.20223182],\n",
       "       [ 0.48614293,  0.4768177 ],\n",
       "       [ 0.16821635,  0.13845332],\n",
       "       [ 0.93401164,  0.9349869 ],\n",
       "       [ 0.7997825 ,  0.72991985],\n",
       "       [ 0.6400936 ,  0.66974527],\n",
       "       [ 0.71523654,  0.8463465 ],\n",
       "       [ 0.5940394 ,  0.6202467 ],\n",
       "       [ 0.3645209 ,  0.4063422 ],\n",
       "       [ 0.8689965 ,  0.8978163 ],\n",
       "       [ 0.1926496 ,  0.16304947],\n",
       "       [ 0.6410153 ,  0.6707268 ],\n",
       "       [ 0.80569756,  0.8475994 ],\n",
       "       [ 0.8997364 ,  0.9419878 ],\n",
       "       [ 0.56084025,  0.5840581 ],\n",
       "       [ 0.09800018,  0.16971985],\n",
       "       [ 0.6342981 ,  0.57618463],\n",
       "       [ 0.04344318,  0.06753892],\n",
       "       [ 0.29421654,  0.2967672 ],\n",
       "       [ 0.6052838 ,  0.572905  ],\n",
       "       [ 0.9877333 ,  0.98637325],\n",
       "       [ 0.16837831,  0.25835842],\n",
       "       [ 0.2487504 ,  0.22629093],\n",
       "       [ 0.94781476,  0.9349367 ],\n",
       "       [ 0.410176  ,  0.41822824],\n",
       "       [ 0.6978813 ,  0.7414817 ],\n",
       "       [ 0.4969896 ,  0.45320317],\n",
       "       [ 0.5395724 ,  0.59830743],\n",
       "       [ 0.7867274 ,  0.8213102 ],\n",
       "       [ 0.29730666,  0.33176327],\n",
       "       [ 0.05418813,  0.21940549],\n",
       "       [ 0.95628357,  0.9738069 ],\n",
       "       [ 0.3451432 ,  0.30337   ],\n",
       "       [ 0.91380906,  0.93419015],\n",
       "       [ 0.59235346,  0.5354545 ],\n",
       "       [ 0.9082957 ,  0.9445196 ],\n",
       "       [ 0.27659944,  0.24560745],\n",
       "       [ 0.9027659 ,  0.9405882 ],\n",
       "       [ 0.07575288,  0.14504689],\n",
       "       [ 0.48496845,  0.62127745],\n",
       "       [ 0.7827579 ,  0.7916033 ],\n",
       "       [ 0.9492217 ,  0.93430513],\n",
       "       [ 0.46968392,  0.4842215 ],\n",
       "       [ 0.9982145 ,  0.99795556],\n",
       "       [ 0.6195124 ,  0.62521696],\n",
       "       [ 0.9001017 ,  0.8779868 ],\n",
       "       [ 0.9087104 ,  0.95518166],\n",
       "       [ 0.4520075 ,  0.49975643],\n",
       "       [ 0.94770694,  0.96457833],\n",
       "       [ 0.45052177,  0.40398934],\n",
       "       [ 0.5898314 ,  0.615682  ],\n",
       "       [ 0.6972848 ,  0.6893606 ],\n",
       "       [ 0.9636069 ,  0.97503984],\n",
       "       [ 0.18946491,  0.16216479],\n",
       "       [ 0.905682  ,  0.86799043],\n",
       "       [ 0.87048036,  0.9327785 ],\n",
       "       [ 0.4948893 ,  0.4094242 ],\n",
       "       [ 0.86663765,  0.8855217 ],\n",
       "       [ 0.6719216 ,  0.6451958 ],\n",
       "       [ 0.43534714,  0.576303  ],\n",
       "       [ 0.7894751 ,  0.82287115],\n",
       "       [ 0.50679785,  0.48076764],\n",
       "       [ 0.41899705,  0.66601676],\n",
       "       [ 0.08464751,  0.16411264],\n",
       "       [ 0.610577  ,  0.5732367 ],\n",
       "       [ 0.36761323,  0.29812643],\n",
       "       [ 0.53156054,  0.5359641 ],\n",
       "       [ 0.38946265,  0.365988  ],\n",
       "       [ 0.23947586,  0.26433975],\n",
       "       [ 0.6740459 ,  0.70563906],\n",
       "       [ 0.5882903 ,  0.58319974],\n",
       "       [ 0.28206196,  0.14386493],\n",
       "       [ 0.87868804,  0.89456326],\n",
       "       [ 0.64216983,  0.6719555 ],\n",
       "       [ 0.09656674,  0.06261984],\n",
       "       [ 0.8881648 ,  0.88432187],\n",
       "       [ 0.44987118,  0.46065098],\n",
       "       [ 0.9865757 ,  0.98995256],\n",
       "       [-0.03632557, -0.11970874],\n",
       "       [ 0.79013467,  0.7990963 ],\n",
       "       [-0.03025959, -0.2014432 ],\n",
       "       [ 0.62672895,  0.6554718 ],\n",
       "       [ 0.83697087,  0.86834735],\n",
       "       [ 0.94143426,  0.902838  ],\n",
       "       [ 0.4466819 ,  0.45705873],\n",
       "       [ 0.05584404,  0.09914551],\n",
       "       [ 0.8002343 ,  0.8084788 ],\n",
       "       [ 0.8964234 ,  0.9008143 ],\n",
       "       [ 0.43813598,  0.5071802 ],\n",
       "       [ 0.44062722,  0.42060992],\n",
       "       [ 0.3990931 ,  0.4032202 ],\n",
       "       [ 0.5304468 ,  0.4526388 ],\n",
       "       [ 0.14855896,  0.18165657],\n",
       "       [ 0.9201774 ,  0.92586803],\n",
       "       [ 0.58154947,  0.60667855],\n",
       "       [ 0.18758312,  0.16074389],\n",
       "       [ 0.8096845 ,  0.83695203],\n",
       "       [ 0.48496845,  0.62127745],\n",
       "       [ 0.46627516,  0.3887633 ],\n",
       "       [ 0.10082308,  0.16269124],\n",
       "       [ 0.9217062 ,  0.9436232 ],\n",
       "       [ 0.6342981 ,  0.57618463],\n",
       "       [ 0.1305867 ,  0.1262243 ],\n",
       "       [ 0.03594997,  0.06184661],\n",
       "       [ 0.07484863,  0.02838309],\n",
       "       [-0.01272617, -0.03086828],\n",
       "       [ 0.7047567 ,  0.6931848 ],\n",
       "       [ 0.8177014 ,  0.8501318 ],\n",
       "       [ 0.69869137,  0.83911765],\n",
       "       [ 0.93706566,  0.94240147],\n",
       "       [ 0.4261118 ,  0.3292999 ],\n",
       "       [ 0.63868344,  0.6682428 ],\n",
       "       [ 0.19496086,  0.19336607],\n",
       "       [ 0.9493022 ,  0.920815  ],\n",
       "       [ 0.58046687,  0.54643863],\n",
       "       [ 0.7412456 ,  0.74963456],\n",
       "       [ 0.04581439,  0.01843502],\n",
       "       [ 0.7656956 ,  0.74015814],\n",
       "       [ 0.86867696,  0.86573976],\n",
       "       [ 0.20911159,  0.18552682],\n",
       "       [ 0.6464924 ,  0.67217284],\n",
       "       [ 0.48496845,  0.62127745],\n",
       "       [ 0.8444095 ,  0.8779793 ],\n",
       "       [ 0.55618584,  0.5089024 ],\n",
       "       [ 0.6704089 ,  0.7584488 ],\n",
       "       [ 0.43462032,  0.43576834],\n",
       "       [ 0.7674608 ,  0.8011793 ],\n",
       "       [ 0.8811837 ,  0.9463021 ],\n",
       "       [ 0.7244383 ,  0.73669153],\n",
       "       [ 0.84540874,  0.8762138 ],\n",
       "       [ 0.125465  ,  0.07862343],\n",
       "       [ 0.13058467,  0.20540924],\n",
       "       [ 0.66916525,  0.62856156],\n",
       "       [ 0.10160653,  0.13768527],\n",
       "       [ 0.18609501,  0.14571455],\n",
       "       [ 0.12138507,  0.04372319],\n",
       "       [ 0.10945997,  0.0844579 ],\n",
       "       [ 0.03401198,  0.01144493],\n",
       "       [ 0.08871833,  0.10421396],\n",
       "       [ 0.85449487,  0.92080843],\n",
       "       [ 0.40002602,  0.44116738],\n",
       "       [ 0.7729079 ,  0.7601309 ],\n",
       "       [ 0.69295794,  0.725386  ],\n",
       "       [ 0.73930883,  0.77294475],\n",
       "       [ 0.12056626,  0.21583255],\n",
       "       [ 0.23626745,  0.22218226],\n",
       "       [ 0.27077746,  0.26095203],\n",
       "       [ 0.14621724,  0.1131445 ],\n",
       "       [ 0.8761441 ,  0.94679147],\n",
       "       [ 0.13298748,  0.07242858],\n",
       "       [ 0.9704216 ,  0.9780703 ],\n",
       "       [ 0.28843752,  0.23882766],\n",
       "       [ 0.93576   ,  0.95511544],\n",
       "       [ 0.36112648,  0.29333028],\n",
       "       [ 0.7360789 ,  0.71314615],\n",
       "       [ 0.97034323,  0.9849204 ],\n",
       "       [ 0.40002602,  0.44116738],\n",
       "       [ 0.5576913 ,  0.49615458],\n",
       "       [ 0.7967471 ,  0.8299562 ],\n",
       "       [ 0.34105113,  0.34257722],\n",
       "       [ 0.97891134,  0.9855686 ],\n",
       "       [ 0.66482264,  0.6959427 ],\n",
       "       [ 0.20677851,  0.30203214],\n",
       "       [ 0.20062661,  0.16944014],\n",
       "       [ 0.5248666 ,  0.48335698],\n",
       "       [ 0.7150722 ,  0.745673  ],\n",
       "       [ 0.87868804,  0.89456326],\n",
       "       [ 0.5998715 ,  0.5151145 ],\n",
       "       [ 0.6758151 ,  0.7827695 ],\n",
       "       [ 0.05120088,  0.27090555],\n",
       "       [ 0.11666846,  0.17681135],\n",
       "       [ 0.97670066,  0.9844291 ],\n",
       "       [ 0.6902935 ,  0.64428824],\n",
       "       [-0.13735941, -0.17911674],\n",
       "       [ 0.40593114,  0.49278703],\n",
       "       [ 0.64526075,  0.7144615 ],\n",
       "       [ 0.59018636,  0.61606723],\n",
       "       [ 0.922512  ,  0.9254501 ],\n",
       "       [ 0.01543906, -0.17591414],\n",
       "       [ 0.62352836,  0.6520422 ],\n",
       "       [ 0.9831001 ,  0.9789731 ],\n",
       "       [ 0.74652463,  0.8823918 ],\n",
       "       [ 0.8207133 ,  0.78083056],\n",
       "       [ 0.5679555 ,  0.59184676],\n",
       "       [ 0.06166739,  0.03481388],\n",
       "       [ 0.7565884 ,  0.6711484 ],\n",
       "       [ 0.40699923,  0.36001825],\n",
       "       [ 0.26026738,  0.30509156],\n",
       "       [ 0.8495335 ,  0.9001682 ],\n",
       "       [ 0.9546523 ,  0.9540845 ],\n",
       "       [ 0.76232696,  0.7960704 ],\n",
       "       [ 0.20730083,  0.21636674],\n",
       "       [-0.13316643, -0.13212109],\n",
       "       [ 0.29943734,  0.2926604 ],\n",
       "       [ 0.9015982 ,  0.95463043],\n",
       "       [ 0.29764843,  0.22413981],\n",
       "       [ 0.5942021 ,  0.5097352 ],\n",
       "       [ 0.11285518,  0.14094411],\n",
       "       [ 0.14621724,  0.1131445 ],\n",
       "       [ 0.9458862 ,  0.95221597],\n",
       "       [ 0.8474325 ,  0.8317226 ],\n",
       "       [ 0.88832843,  0.9150506 ],\n",
       "       [ 0.87868804,  0.89456326],\n",
       "       [ 0.2243203 ,  0.18221138],\n",
       "       [ 0.6972848 ,  0.6893606 ],\n",
       "       [ 0.3875715 ,  0.39012596],\n",
       "       [ 0.08454961,  0.06670015],\n",
       "       [ 0.47381967,  0.48755473],\n",
       "       [ 0.13491428,  0.12261283],\n",
       "       [ 0.7637638 ,  0.7184851 ],\n",
       "       [ 0.8807158 ,  0.9083183 ],\n",
       "       [ 0.38964912,  0.3924887 ],\n",
       "       [ 0.7488878 ,  0.782611  ],\n",
       "       [ 0.7422521 ,  0.82080925],\n",
       "       [ 0.18948655,  0.15389434],\n",
       "       [ 0.9803451 ,  0.988471  ],\n",
       "       [ 0.13789023,  0.13336965],\n",
       "       [ 0.54985064,  0.5719951 ],\n",
       "       [ 0.34884152,  0.33914423],\n",
       "       [ 0.2766502 ,  0.36271542],\n",
       "       [ 0.53914315,  0.5602042 ],\n",
       "       [ 0.14621724,  0.1131445 ],\n",
       "       [ 0.54317063,  0.5206906 ],\n",
       "       [ 0.3085979 ,  0.22918813],\n",
       "       [ 0.71506304,  0.6739926 ],\n",
       "       [ 0.6837011 ,  0.7157437 ],\n",
       "       [ 0.9923797 ,  0.995673  ],\n",
       "       [ 0.89412725,  0.9201288 ],\n",
       "       [ 0.8652849 ,  0.82174295],\n",
       "       [ 0.12056626,  0.21583255],\n",
       "       [ 0.96664387,  0.97858423],\n",
       "       [ 0.8266029 ,  0.8154102 ],\n",
       "       [ 0.9057842 ,  0.92772335],\n",
       "       [ 0.3124767 ,  0.33476695],\n",
       "       [ 0.28178418,  0.26635104],\n",
       "       [ 0.76846725,  0.8021787 ],\n",
       "       [ 0.9338448 ,  0.9535711 ],\n",
       "       [-0.00312287, -0.09678026],\n",
       "       [ 0.7697053 ,  0.803407  ],\n",
       "       [ 0.552764  ,  0.56563056],\n",
       "       [ 0.1240494 ,  0.07411618],\n",
       "       [ 0.3961986 ,  0.39993265],\n",
       "       [ 0.04946326,  0.31061894],\n",
       "       [ 0.36707282,  0.46290523],\n",
       "       [ 0.9498996 ,  0.9310055 ],\n",
       "       [ 0.8617715 ,  0.8912628 ],\n",
       "       [ 0.41979784,  0.39520153],\n",
       "       [ 0.9388733 ,  0.9625725 ],\n",
       "       [ 0.43924192,  0.39513654],\n",
       "       [ 0.28807923,  0.23987223],\n",
       "       [ 0.1019059 ,  0.34240162],\n",
       "       [ 0.31317595,  0.35997686],\n",
       "       [ 0.757582  ,  0.7943668 ],\n",
       "       [ 0.17845637,  0.11016476],\n",
       "       [ 0.69869137,  0.83911765],\n",
       "       [ 0.14058442,  0.20718114],\n",
       "       [ 0.77610254,  0.75103474],\n",
       "       [ 0.53247654,  0.38926208],\n",
       "       [ 0.9929417 ,  0.9923158 ],\n",
       "       [ 0.6962218 ,  0.72877496],\n",
       "       [ 0.08838742,  0.02413903],\n",
       "       [ 0.17472288,  0.166065  ],\n",
       "       [ 0.97527105,  0.976418  ],\n",
       "       [ 0.17270449,  0.22493856],\n",
       "       [ 0.9227218 ,  0.94446534],\n",
       "       [ 0.8823162 ,  0.9047121 ],\n",
       "       [ 0.94999593,  0.97316045],\n",
       "       [ 0.57359797,  0.59801096],\n",
       "       [ 0.14022538,  0.11817029],\n",
       "       [ 0.827312  ,  0.89795274],\n",
       "       [ 0.20345116,  0.10575712],\n",
       "       [ 0.24936765,  0.2318552 ],\n",
       "       [ 0.14155069,  0.21042036],\n",
       "       [ 0.9306773 ,  0.9073994 ],\n",
       "       [ 0.61558574,  0.6435129 ],\n",
       "       [ 0.9298598 ,  0.9242518 ],\n",
       "       [ 0.9009916 ,  0.96897376],\n",
       "       [ 0.482484  ,  0.480336  ],\n",
       "       [ 0.41054794,  0.41817364],\n",
       "       [ 0.3828879 ,  0.4244569 ],\n",
       "       [ 0.5881973 ,  0.6139075 ],\n",
       "       [ 0.22362384,  0.20223182],\n",
       "       [ 0.82142246,  0.7893957 ],\n",
       "       [ 0.11736144, -0.05442083],\n",
       "       [ 0.3132741 ,  0.32613605],\n",
       "       [ 0.8431537 ,  0.9199826 ],\n",
       "       [ 0.20242946,  0.17783448]], dtype=float32)"
      ]
     },
     "execution_count": 80,
     "metadata": {},
     "output_type": "execute_result"
    }
   ],
   "source": [
    "y_pred_probabilities"
   ]
  },
  {
   "cell_type": "code",
   "execution_count": 81,
   "id": "29ef16c5",
   "metadata": {},
   "outputs": [],
   "source": [
    "# Converting predicted probabilities to class labels\n",
    "y_pred_labels = np.argmax(y_pred_probabilities, axis=1)"
   ]
  },
  {
   "cell_type": "code",
   "execution_count": 82,
   "id": "aed37060",
   "metadata": {},
   "outputs": [
    {
     "data": {
      "text/plain": [
       "array([1, 1, 1, 0, 1, 1, 1, 0, 1, 0, 1, 0, 1, 1, 0, 1, 1, 0, 1, 0, 0, 1,\n",
       "       0, 0, 0, 0, 1, 0, 0, 1, 1, 1, 1, 0, 0, 0, 1, 0, 1, 1, 1, 1, 1, 0,\n",
       "       1, 1, 1, 1, 1, 0, 1, 1, 0, 0, 1, 0, 0, 1, 1, 0, 1, 1, 1, 1, 1, 0,\n",
       "       1, 0, 1, 0, 1, 1, 1, 1, 0, 1, 0, 1, 0, 1, 1, 1, 0, 1, 0, 1, 0, 0,\n",
       "       1, 0, 1, 0, 1, 1, 0, 1, 1, 0, 0, 1, 0, 1, 1, 0, 0, 1, 1, 0, 0, 1,\n",
       "       1, 0, 1, 0, 1, 1, 0, 1, 1, 1, 1, 1, 0, 1, 0, 1, 1, 1, 0, 1, 1, 0,\n",
       "       1, 1, 0, 0, 1, 0, 0, 0, 1, 1, 1, 0, 1, 0, 0, 0, 1, 0, 0, 0, 0, 1,\n",
       "       1, 1, 0, 1, 1, 1, 1, 1, 1, 0, 1, 0, 1, 0, 0, 0, 0, 1, 1, 1, 0, 1,\n",
       "       1, 1, 0, 0, 0, 1, 0, 1, 0, 1, 0, 0, 1, 1, 0, 1, 1, 1, 1, 1, 0, 0,\n",
       "       1, 1, 0, 1, 1, 1, 1, 0, 0, 1, 1, 1, 1, 0, 1, 0, 1, 0, 1, 0, 0, 0,\n",
       "       1, 1, 0, 1, 1, 1, 0, 1, 0, 0, 1, 0, 1, 0, 1, 1, 0, 0, 1, 0, 1, 0,\n",
       "       0, 1, 1, 1, 1, 0, 1, 0, 1, 0, 1, 1, 0, 0, 0, 0, 1, 1, 1, 0, 1, 1,\n",
       "       0, 1, 1, 0, 1, 1, 0, 1, 1, 0, 1, 1, 1, 0, 1, 0, 1, 0, 0, 1, 1, 1,\n",
       "       0, 1, 1, 0, 0, 0, 1, 0, 0, 1, 1, 1, 1, 1, 1, 0, 1, 0, 0, 1, 0, 1,\n",
       "       0, 1, 0, 1, 1, 1, 0, 0, 0, 1, 1, 0], dtype=int64)"
      ]
     },
     "execution_count": 82,
     "metadata": {},
     "output_type": "execute_result"
    }
   ],
   "source": [
    "y_pred_labels"
   ]
  },
  {
   "cell_type": "code",
   "execution_count": 88,
   "id": "e6af631a",
   "metadata": {},
   "outputs": [],
   "source": [
    "# Evaluating model's accuracy using accuracy_score\n",
    "from sklearn.metrics import accuracy_score,confusion_matrix,classification_report"
   ]
  },
  {
   "cell_type": "code",
   "execution_count": 99,
   "id": "edfa257e",
   "metadata": {},
   "outputs": [
    {
     "name": "stdout",
     "output_type": "stream",
     "text": [
      "Accuracy: 59.375 %\n"
     ]
    }
   ],
   "source": [
    "print(f'Accuracy: {accuracy_score(y_test,y_pred_labels)*100} %')"
   ]
  },
  {
   "cell_type": "code",
   "execution_count": 98,
   "id": "b651e979",
   "metadata": {},
   "outputs": [
    {
     "name": "stdout",
     "output_type": "stream",
     "text": [
      "Confusion Matirix:\n",
      "[[ 73  68]\n",
      " [ 62 117]]\n"
     ]
    }
   ],
   "source": [
    "print('Confusion Matirix:')\n",
    "print(confusion_matrix(y_test,y_pred_labels))"
   ]
  },
  {
   "cell_type": "code",
   "execution_count": 96,
   "id": "16932f81",
   "metadata": {},
   "outputs": [
    {
     "name": "stdout",
     "output_type": "stream",
     "text": [
      "Classification Report:\n",
      "              precision    recall  f1-score   support\n",
      "\n",
      "           0       0.54      0.52      0.53       141\n",
      "           1       0.63      0.65      0.64       179\n",
      "\n",
      "    accuracy                           0.59       320\n",
      "   macro avg       0.59      0.59      0.59       320\n",
      "weighted avg       0.59      0.59      0.59       320\n",
      "\n"
     ]
    }
   ],
   "source": [
    "print('Classification Report:')\n",
    "print(classification_report(y_test,y_pred_labels))"
   ]
  }
 ],
 "metadata": {
  "kernelspec": {
   "display_name": "Python 3 (ipykernel)",
   "language": "python",
   "name": "python3"
  },
  "language_info": {
   "codemirror_mode": {
    "name": "ipython",
    "version": 3
   },
   "file_extension": ".py",
   "mimetype": "text/x-python",
   "name": "python",
   "nbconvert_exporter": "python",
   "pygments_lexer": "ipython3",
   "version": "3.11.3"
  }
 },
 "nbformat": 4,
 "nbformat_minor": 5
}
