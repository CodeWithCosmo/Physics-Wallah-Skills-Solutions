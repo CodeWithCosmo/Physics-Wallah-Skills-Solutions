{
 "cells": [
  {
   "cell_type": "markdown",
   "id": "1de51996-5d9a-4401-a0e7-8eada9fc06a1",
   "metadata": {},
   "source": [
    "# Q1: What is the difference between a t-test and a z-test? Provide an example scenario where you would use each type of test.\n",
    "## Both t-tests and z-tests are statistical tests used to determine whether two sample means are significantly different from each other. However, they differ in their assumptions and the situations in which they are appropriate.\n",
    "\n",
    "## The main difference between t-tests and z-tests is that t-tests are used when the sample size is small (less than 30) and the population standard deviation is unknown, while z-tests are used when the sample size is large (greater than or equal to 30) and the population standard deviation is known or can be estimated from the sample.\n",
    "\n",
    "### A t-test uses the t-distribution to calculate the probability that the difference between two sample means is due to chance. For example, a researcher might use a t-test to determine whether there is a significant difference in the average weight loss between two groups of participants who followed different diets for a month.\n",
    "\n",
    "### On the other hand, a z-test uses the standard normal distribution to test the difference between two means. For example, a quality control manager might use a z-test to determine whether there is a significant difference in the mean length of two different brands of screws produced by a factory, where the population standard deviation is known."
   ]
  },
  {
   "cell_type": "markdown",
   "id": "16602c23-c62d-43e6-8ba5-bec974f176c7",
   "metadata": {},
   "source": []
  },
  {
   "cell_type": "markdown",
   "id": "0fb80623-16ee-4b41-a9bb-852cc5c94adc",
   "metadata": {},
   "source": []
  },
  {
   "cell_type": "markdown",
   "id": "d337e1d9-ff36-46f5-bc75-567b9162caa7",
   "metadata": {},
   "source": []
  },
  {
   "cell_type": "markdown",
   "id": "fda4e62b-3321-4117-97ef-46fa4e7c0f39",
   "metadata": {},
   "source": []
  },
  {
   "cell_type": "markdown",
   "id": "0b791c17-8f21-43ca-b23e-95ceccf1de8c",
   "metadata": {},
   "source": [
    "# Q2: Differentiate between one-tailed and two-tailed tests.\n",
    "## In hypothesis testing, a one-tailed test is a statistical test where the alternative hypothesis is directional, meaning it predicts the direction of the difference between the sample statistic and the population parameter. In contrast, a two-tailed test is a statistical test where the alternative hypothesis is non-directional, meaning it predicts that there is a difference between the sample statistic and the population parameter, but it does not specify the direction of that difference.\n",
    "\n",
    "## The choice between a one-tailed and a two-tailed test depends on the research question and the directionality of the hypothesis. If the research question and hypothesis specify a direction, a one-tailed test is appropriate. For example, if a researcher hypothesizes that a new medication will decrease symptoms of a disease, they would use a one-tailed test because they are only interested in detecting a decrease in symptoms, not an increase.\n",
    "\n",
    "## On the other hand, if the hypothesis is non-directional or there is no clear prediction about the direction of the difference, a two-tailed test is appropriate. For example, if a researcher wants to test whether there is a significant difference in IQ scores between two groups of students, but does not have a prior expectation about which group will score higher, they would use a two-tailed test.\n",
    "\n",
    "## In a one-tailed test, the critical region is located entirely on one side of the sampling distribution, whereas in a two-tailed test, the critical region is split between the two tails of the sampling distribution. As a result, the p-value for a one-tailed test is half that of a two-tailed test for the same observed effect size."
   ]
  },
  {
   "cell_type": "markdown",
   "id": "997e6ae5-c1d9-4f96-a508-57a0ae23d61f",
   "metadata": {},
   "source": []
  },
  {
   "cell_type": "markdown",
   "id": "b182a837-16d9-40b7-b69c-f6b998588d7e",
   "metadata": {},
   "source": []
  },
  {
   "cell_type": "markdown",
   "id": "b007c49a-113d-4fda-b5e7-302655538c1d",
   "metadata": {},
   "source": []
  },
  {
   "cell_type": "markdown",
   "id": "86d39212-66b7-42ac-af1b-0122c90d8225",
   "metadata": {},
   "source": []
  },
  {
   "cell_type": "markdown",
   "id": "300dbc9c-a21b-40ff-8ded-ec887af97ee8",
   "metadata": {},
   "source": [
    "# Q3: Explain the concept of Type 1 and Type 2 errors in hypothesis testing. Provide an example scenario for each type of error.\n",
    "## In hypothesis testing, a Type 1 error is the rejection of a null hypothesis when it is actually true. This error occurs when a researcher concludes that there is a significant effect or difference between two groups when in reality there is no such effect or difference. Type 1 errors are also called false positives and have a significance level denoted by alpha.\n",
    "### Example: A researcher wants to determine whether a new drug reduces the symptoms of a disease. They conduct a study with a sample of patients and find a statistically significant improvement in symptoms. However, in reality, the drug has no effect on the symptoms of the disease, and the observed difference is due to chance. The researcher commits a Type 1 error by rejecting the null hypothesis that the drug has no effect when it is actually true.\n",
    "\n",
    "## A Type 2 error is the acceptance of a null hypothesis when it is actually false. This error occurs when a researcher fails to detect a significant effect or difference between two groups when in reality there is such an effect or difference. Type 2 errors are also called false negatives and have a significance level denoted by beta.\n",
    "### Example: A researcher wants to determine whether a new educational program improves the academic performance of students. They conduct a study with a sample of students and find no statistically significant difference in performance between the group that received the educational program and the control group. However, in reality, the program does improve academic performance, but the observed difference is not statistically significant due to a small sample size or other factors. The researcher commits a Type 2 error by accepting the null hypothesis that the program has no effect when it is actually false.\n",
    "\n",
    "## Both Type 1 and Type 2 errors are possible in any hypothesis testing scenario, and researchers need to balance the risks of each type of error when designing their studies and interpreting their results. Reducing the risk of one type of error often increases the risk of the other, so it is important to carefully consider the consequences of each type of error in the specific context of the research question."
   ]
  },
  {
   "cell_type": "markdown",
   "id": "ac272341-f93a-476b-bd5a-19e2b79ce6ab",
   "metadata": {},
   "source": []
  },
  {
   "cell_type": "markdown",
   "id": "db7cb4ad-6d70-44a4-a5a3-dc09931a4f72",
   "metadata": {},
   "source": []
  },
  {
   "cell_type": "markdown",
   "id": "79d669cf-86c1-41c5-b60e-11d6e2ee458d",
   "metadata": {},
   "source": []
  },
  {
   "cell_type": "markdown",
   "id": "907bba37-3267-4263-9d4f-5d1ccf45fbcd",
   "metadata": {},
   "source": []
  },
  {
   "cell_type": "markdown",
   "id": "911d20b9-d837-4f50-88c8-572299861c1a",
   "metadata": {},
   "source": [
    "# Q4: Explain Bayes's theorem with an example.\n",
    "## Bayes's theorem is a mathematical formula that describes the relationship between conditional probabilities of two events. The theorem states that the probability of event A given that event B has occurred is equal to the probability of event B given that event A has occurred multiplied by the probability of event A, divided by the probability of event B.\n",
    "\n",
    "### Here is the formula for Bayes's theorem:\n",
    "\n",
    "## P(A|B) = P(B|A) * P(A) / P(B)\n",
    "\n",
    "#### where:\n",
    "#### P(A|B) is the probability of event A given that event B has occurred\n",
    "#### P(B|A) is the probability of event B given that event A has occurred\n",
    "#### P(A) is the prior probability of event A\n",
    "#### P(B) is the prior probability of event B\n",
    "\n",
    "## Example of Baye's Theorem:\n",
    "### Suppose we have two bags of marbles: Bag A and Bag B. Bag A contains 5 red marbles and 3 blue marbles, while Bag B contains 2 red marbles and 7 blue marbles. You choose one bag at random and draw one marble from it. The marble you draw is blue. What is the probability that we chose Bag A?\n",
    "\n",
    "#### To calculate this probability, we can set up the following events:\n",
    "\n",
    "### A: We chose Bag A\n",
    "### B: We drew a blue marble\n",
    "#### We want to calculate the probability of A given B, or P(A|B).\n",
    "\n",
    "### First, we need to calculate the conditional probabilities of B given A and B given not A:\n",
    "#### P(B|A) = 3/8, since Bag A contains 3 blue marbles out of 8 total marbles\n",
    "#### P(B|not A) = 7/9, since Bag B contains 7 blue marbles out of 9 total marbles\n",
    "### Now, we can calculate the prior probabilities of A and B:\n",
    "\n",
    "#### P(A) = 0.5, since you chose one bag at random\n",
    "#### P(B) = P(B|A) * P(A) + P(B|not A) * P(not A) = 0.5 * 0.375 + 0.5 * 0.7 = 0.5375, since the probability of drawing a blue marble depends on which bag we chose.\n",
    "### Now we can use Bayes's theorem to calculate the probability of A given B:\n",
    "#### P(A|B) = P(B|A) * P(A) / P(B) = (3/8 * 0.5) / 0.5375 = 0.279\n",
    "### So the probability that we chose Bag A given that we drew a blue marble is approximately 0.279 or 27.9%. This means that even though Bag A has fewer blue marbles, there is still a relatively high probability that we chose it if we drew a blue marble, because Bag B has a much higher proportion of blue marbles overall."
   ]
  },
  {
   "cell_type": "markdown",
   "id": "bbf559f6-b650-4dd6-83fe-b94187ee1484",
   "metadata": {},
   "source": []
  },
  {
   "cell_type": "markdown",
   "id": "8cbea930-81ff-479b-986d-963aee24472d",
   "metadata": {},
   "source": []
  },
  {
   "cell_type": "markdown",
   "id": "ada48d82-d166-4d55-8bd2-fd379da8d672",
   "metadata": {},
   "source": []
  },
  {
   "cell_type": "markdown",
   "id": "ccf4fcac-bab7-45d0-86e8-a4de7d5154db",
   "metadata": {},
   "source": []
  },
  {
   "cell_type": "markdown",
   "id": "35f678a4-3600-47db-94a1-0da0af036167",
   "metadata": {},
   "source": [
    "# Q5: What is a confidence interval? How to calculate the confidence interval, explain with an example.\n",
    "## A confidence interval is a range of values that is likely to contain the true value of a population parameter with a certain level of confidence. It is used to estimate an unknown population parameter based on a sample of data.\n",
    "\n",
    "### To calculate a confidence interval, we first need to choose a confidence level, which is the probability that the interval will contain the true population parameter. The most common confidence levels are 90%, 95%, and 99%. The corresponding alpha level, or level of significance, is the probability of rejecting the null hypothesis when it is true, and it is usually set at 0.05.\n",
    "\n",
    "## The formula for a confidence interval for the mean of a population is:\n",
    "\n",
    "### CI = X̄ ± z*(s/√n)\n",
    "#### where:\n",
    "#### CI is the confidence interval\n",
    "### X̄ is the sample mean\n",
    "#### z is the critical value from the standard normal distribution corresponding to the desired confidence level\n",
    "#### s is the sample standard deviation\n",
    "#### n is the sample size\n",
    "\n",
    "## Example:\n",
    "### Suppose we want to estimate the average height of all students at a university. We take a random sample of 50 students and measure their heights. The sample mean is 68 inches and the sample standard deviation is 3 inches.\n",
    "\n",
    "### We want to construct a 95% confidence interval for the true population mean height. The critical value for a 95% confidence level is 1.96 from the standard normal distribution.\n",
    "\n",
    "### CI = 68 ± 1.96*(3/√50)\n",
    "### CI = 68 ± 0.84\n",
    "### CI = [67.16, 68.84]\n",
    "\n",
    "## This means that we are 95% confident that the true population mean height is between 67.16 inches and 68.84 inches. If we were to repeat this process many times, we would expect the true population mean to fall within this range 95% of the time."
   ]
  },
  {
   "cell_type": "markdown",
   "id": "dd48c711-9729-417f-b36f-d62984b87fbd",
   "metadata": {},
   "source": []
  },
  {
   "cell_type": "markdown",
   "id": "0dd511a2-27c4-4b49-a79b-dd9a31d4bd82",
   "metadata": {},
   "source": []
  },
  {
   "cell_type": "markdown",
   "id": "669c6da6-712d-4cbe-9d18-2cb2a6f3af97",
   "metadata": {},
   "source": []
  },
  {
   "cell_type": "markdown",
   "id": "2afb2156-948f-41c5-9162-e2c2803c6626",
   "metadata": {},
   "source": []
  },
  {
   "cell_type": "markdown",
   "id": "450565a1-adec-472d-9611-2f4cc56dcbaa",
   "metadata": {},
   "source": [
    "# Q6. Use Bayes' Theorem to calculate the probability of an event occurring given prior knowledge of the event's probability and new evidence. Provide a sample problem and solution.\n",
    "## Suppose a certain disease affects 1 in 1000 people in a population. There is a test for this disease that is 99% accurate, meaning that it correctly identifies 99% of people who have the disease and 99% of people who do not have the disease. If a person tests positive for the disease, what is the probability that they actually have the disease?\n",
    "\n",
    "### To use Bayes' Theorem to calculate this probability, we can set up the following events:\n",
    "\n",
    "#### A: The person has the disease\n",
    "#### B: The person tests positive for the disease\n",
    "### We want to calculate the probability of A given B, or P(A|B).\n",
    "\n",
    "### First, we can calculate the prior probability of A:\n",
    "\n",
    "#### P(A) = 1/1000, since the disease affects 1 in 1000 people in the population\n",
    "### Next, we need to calculate the conditional probabilities of B given A and B given not A:\n",
    "\n",
    "#### P(B|A) = 0.99, since the test correctly identifies 99% of people who have the disease\n",
    "#### P(B|not A) = 0.01, since the test incorrectly identifies 1% of people who do not have the disease\n",
    "### Now we can use Bayes' Theorem to calculate the probability of A given B:\n",
    "\n",
    "##### P(A|B) = P(B|A) * P(A) / P(B) = (0.99 * 0.001) / P(B)\n",
    "### To calculate P(B), we can use the Law of Total Probability:\n",
    "####  P(B) = P(B|A) * P(A) + P(B|not A) * P(not A)\n",
    "#### P(B) = 0.99 * 0.001 + 0.01 * 0.999\n",
    "#### P(B) = 0.01098"
   ]
  },
  {
   "cell_type": "markdown",
   "id": "a599ec29-4a33-4b75-a8fe-8f76c40a0183",
   "metadata": {},
   "source": []
  },
  {
   "cell_type": "markdown",
   "id": "fefea52a-1982-45cf-b89c-166067be0979",
   "metadata": {},
   "source": []
  },
  {
   "cell_type": "markdown",
   "id": "a67f8cc7-47ef-4de7-830e-6c52176576da",
   "metadata": {},
   "source": []
  },
  {
   "cell_type": "markdown",
   "id": "b95e45de-6b16-42d0-82e5-9b7025c00ae0",
   "metadata": {},
   "source": []
  },
  {
   "cell_type": "markdown",
   "id": "1505fee0-c591-4840-a1fc-33c9c4f68e54",
   "metadata": {},
   "source": [
    "# Q7. Calculate the 95% confidence interval for a sample of data with a mean of 50 and a standard deviation of 5. Interpret the results."
   ]
  },
  {
   "cell_type": "code",
   "execution_count": 7,
   "id": "0ee73f45-1293-4c7a-9ad3-109bf9683908",
   "metadata": {
    "tags": []
   },
   "outputs": [],
   "source": [
    "import math\n",
    "from scipy.stats import t\n",
    "def estimate_population_mean(sample_mean, sample_std, sample_size, alpha=0.05):    \n",
    "    moe = 1.96 * sample_std / math.sqrt(sample_size)  # margin of error\n",
    "    lower = sample_mean - moe  # lower bound of confidence interval\n",
    "    upper = sample_mean + moe  # upper bound of confidence interval    \n",
    "    return lower, upper"
   ]
  },
  {
   "cell_type": "markdown",
   "id": "ed49b434-70a5-46e0-839f-70a2db2eea66",
   "metadata": {},
   "source": [
    "### We don't know the sample size, so we cannot calculate the exact confidence interval. However, we can still interpret the result. This confidence interval tells us that if we were to take many random samples of the same size from the same population, we would expect 95% of the resulting confidence intervals to contain the true population mean. In other words, we are 95% confident that the true population mean falls within this range.\n",
    "\n",
    "### For example, if we had a sample size of 100, the confidence interval would be:"
   ]
  },
  {
   "cell_type": "code",
   "execution_count": 29,
   "id": "8d30037a-b6e7-420a-b7a2-f92b6ec5f0ad",
   "metadata": {
    "tags": []
   },
   "outputs": [],
   "source": [
    "lower,upper = estimate_population_mean(50,5,100)"
   ]
  },
  {
   "cell_type": "code",
   "execution_count": 30,
   "id": "7e338a5c-b8f5-4db6-83c5-756c62711cfb",
   "metadata": {
    "tags": []
   },
   "outputs": [
    {
     "name": "stdout",
     "output_type": "stream",
     "text": [
      "The population mean is between 49.02 and 50.98\n"
     ]
    }
   ],
   "source": [
    "print(f'The population mean is between {lower:.2f} and {upper:.2f}')"
   ]
  },
  {
   "cell_type": "markdown",
   "id": "08eb661e-54d6-4e2d-bc62-ad5c6502a82a",
   "metadata": {
    "tags": []
   },
   "source": [
    "### This means that we are 95% confident that the true population mean is between 49.02 and 50.98. If we were to repeat the sampling process many times, we would expect the true population mean to fall within this range in 95% of the samples."
   ]
  },
  {
   "cell_type": "markdown",
   "id": "57af3f85-476b-476b-800f-632485681b7e",
   "metadata": {},
   "source": []
  },
  {
   "cell_type": "markdown",
   "id": "e8f8af60-bfd9-41a6-8f7d-3a2cb292a8ae",
   "metadata": {},
   "source": []
  },
  {
   "cell_type": "markdown",
   "id": "a912fc4d-9387-4111-86f3-d8068932e9f9",
   "metadata": {},
   "source": []
  },
  {
   "cell_type": "markdown",
   "id": "8c42fa98-090c-488a-8983-6d28a9d29261",
   "metadata": {},
   "source": []
  },
  {
   "cell_type": "markdown",
   "id": "e6d1091e-1cf8-44fc-aa05-bcd4cf98bf5a",
   "metadata": {},
   "source": [
    "# Q8. What is the margin of error in a confidence interval? How does sample size affect the margin of error ? Provide an example of a scenario where a larger sample size would result in a smaller margin of error.\n",
    "## The margin of error in a confidence interval is the range of values above and below the point estimate (such as the sample mean) that is likely to contain the true population parameter with a certain level of confidence. It is the product of the critical value (obtained from the standard normal or t-distribution based on the desired confidence level) and the standard error of the sample.\n",
    "\n",
    "## The margin of error decreases with increasing sample size, as larger samples tend to produce more precise estimates of the population parameter. This is because larger samples provide more information about the population, and therefore have less sampling variability. As a result, larger samples can estimate the population parameter with greater precision, resulting in a smaller margin of error.\n",
    "\n",
    "### For example, suppose we want to estimate the average income of people in a particular city with a 95% confidence interval. If we take a sample of 50 people, the margin of error might be around 10,000 INR. However, if we take a sample of 500 people from the same population, the margin of error might be reduced to 2,000 INR. This means that we can be more confident that the true population mean falls within a narrower range, and our estimate is more precise.\n",
    "\n",
    "## In general, a larger sample size leads to a smaller margin of error, all other things being equal. However, it is important to note that increasing the sample size indefinitely will not necessarily result in a zero margin of error, as there will always be some level of sampling variability due to the nature of random sampling."
   ]
  },
  {
   "cell_type": "markdown",
   "id": "862d2e61-2a1a-4df6-8f59-c75c4fc616ac",
   "metadata": {},
   "source": []
  },
  {
   "cell_type": "markdown",
   "id": "ef987f8c-95a2-4e2c-9d3b-b2576dc959df",
   "metadata": {},
   "source": []
  },
  {
   "cell_type": "markdown",
   "id": "a55bcc63-3108-4321-80c7-45dec4724b72",
   "metadata": {},
   "source": []
  },
  {
   "cell_type": "markdown",
   "id": "26c21e7e-4f04-4ebe-93f2-04b7aa361785",
   "metadata": {},
   "source": []
  },
  {
   "cell_type": "markdown",
   "id": "f3f0d6f0-6ccc-4f09-a499-75e282fe1c1e",
   "metadata": {},
   "source": [
    "# Q9. Calculate the z-score for a data point with a value of 75, a population mean of 70, and a population standard deviation of 5. Interpret the results.\n",
    "## The z-score (also known as standard score) is a measure of how many standard deviations a data point is from the mean of a distribution. It is calculated by subtracting the population mean from the data point and then dividing by the population standard deviation. The formula for calculating the z-score is:\n",
    "\n",
    "### z = (x - μ) / σ\n",
    "### where:\n",
    "#### x is the data point\n",
    "#### μ is the population mean\n",
    "#### σ is the population standard deviation\n",
    "\n",
    "#### z = (75 - 70) / 5\n",
    "#### z = 1\n",
    "\n",
    "### A positive z-score indicates a data point above the mean, while a negative z-score indicates a data point below the mean. A z-score of 0 indicates a data point at the mean."
   ]
  },
  {
   "cell_type": "markdown",
   "id": "dc4109bf-3bde-45b3-a990-202fdd2665b6",
   "metadata": {},
   "source": []
  },
  {
   "cell_type": "markdown",
   "id": "2c46b818-c5eb-4117-8c7b-98667199db05",
   "metadata": {},
   "source": []
  },
  {
   "cell_type": "markdown",
   "id": "90db57ed-f5e8-44ad-a232-a06ccfab1fb6",
   "metadata": {},
   "source": []
  },
  {
   "cell_type": "markdown",
   "id": "39c48cc6-965a-44d9-9788-e54b3c4bb702",
   "metadata": {},
   "source": []
  },
  {
   "cell_type": "markdown",
   "id": "282a3be3-ff07-409c-92f5-619f2f131958",
   "metadata": {},
   "source": [
    "# Q10. In a study of the effectiveness of a new weight loss drug, a sample of 50 participants lost an average of 6 pounds with a standard deviation of 2.5 pounds. Conduct a hypothesis test to determine if the drug is significantly effective at a 95% confidence level using a t-test."
   ]
  },
  {
   "cell_type": "code",
   "execution_count": 103,
   "id": "ac273431-43d3-4351-a964-4ac0671ff5b2",
   "metadata": {
    "tags": []
   },
   "outputs": [],
   "source": [
    "import math\n",
    "from scipy.stats import t\n",
    "\n",
    "# Given \n",
    "sample_mean = 6\n",
    "mu = 0 # Hypothesized mean\n",
    "sample_std = 2.5\n",
    "sample_size = 50\n",
    "significance_level = 0.05"
   ]
  },
  {
   "cell_type": "markdown",
   "id": "f1e0c957-a6dc-4bfc-bb6b-1b629215bd2d",
   "metadata": {},
   "source": [
    "#### Null hypothesis (H0):The mean weight loss for the population of individuals taking the new drug is not significantly different from zero (μ = 0).\n",
    "#### Alternative hypothesis (Ha): The mean weight loss for the population of individuals taking the new drug is significantly different from zero (μ != 0)."
   ]
  },
  {
   "cell_type": "code",
   "execution_count": 122,
   "id": "1f345047-c2a2-4042-90e5-76697381f0a3",
   "metadata": {
    "tags": []
   },
   "outputs": [
    {
     "name": "stdout",
     "output_type": "stream",
     "text": [
      "Reject the null hypothesis with a p-value of 6.896726383560639e-100\n"
     ]
    }
   ],
   "source": [
    "# t-statistic\n",
    "t_stat = (sample_mean - mu) / (sample_std / math.sqrt(sample_size))\n",
    "\n",
    "# p-value\n",
    "p_value = t.sf(abs(t_stat), dof:=sample_size-1) *2 # 2-tailed test\n",
    "\n",
    "# Conclusion\n",
    "if p_value < significance_level:\n",
    "    print(f\"Reject the null hypothesis with a p-value of {p_value}\")\n",
    "else:\n",
    "    print(f\"Fail to reject the null hypothesis with a p-value of {p_value}\")"
   ]
  },
  {
   "cell_type": "markdown",
   "id": "02dba34a-215f-4e59-b50f-22df41b3f76a",
   "metadata": {
    "tags": []
   },
   "source": [
    "### The p-value is much smaller than our significance level of 0.05, which means that the probability of observing a t-value as extreme as ours (or more extreme) if the null hypothesis were true is very small. Therefore, we reject the null hypothesis and conclude that the mean weight loss for the population of individuals taking the new drug is significantly different from zero at a 95% confidence level. In other words, we can be confident that the weight loss drug is effective."
   ]
  },
  {
   "cell_type": "markdown",
   "id": "1bb32b31-056c-4afa-993e-57ab9b3ad093",
   "metadata": {},
   "source": []
  },
  {
   "cell_type": "markdown",
   "id": "43d60577-2c03-44a8-9cf8-cdc0f9a6cdc8",
   "metadata": {},
   "source": []
  },
  {
   "cell_type": "markdown",
   "id": "ea790767-1e49-404a-a04b-351bfaa2d3c8",
   "metadata": {},
   "source": []
  },
  {
   "cell_type": "markdown",
   "id": "e9a54eea-6679-4b7a-ba19-c0bf7438278a",
   "metadata": {},
   "source": []
  },
  {
   "cell_type": "markdown",
   "id": "9d3e98e2-fecd-437a-b181-6aa5ff1d383e",
   "metadata": {},
   "source": [
    "# Q11. In a survey of 500 people, 65% reported being satisfied with their current job. Calculate the 95% confidence interval for the true proportion of people who are satisfied with their job."
   ]
  },
  {
   "cell_type": "code",
   "execution_count": 57,
   "id": "87f83ffa-e27d-440e-b0db-12f86b5c656f",
   "metadata": {
    "tags": []
   },
   "outputs": [
    {
     "name": "stdout",
     "output_type": "stream",
     "text": [
      "The true proportion of people who are satisfied with their job is between\n",
      "60.82% and 69.18% with a 95% confidence level.\n"
     ]
    }
   ],
   "source": [
    "import math\n",
    "from scipy.stats import norm\n",
    "\n",
    "# data\n",
    "p = 0.65  # Probability of succees \n",
    "q = 1 - p # Probability of failure \n",
    "n = 500\n",
    "confidence_level = 0.95\n",
    "\n",
    "# z-score\n",
    "z_score = norm.ppf((1 + confidence_level) / 2)\n",
    "\n",
    "# SE (standard error)\n",
    "SE = math.sqrt(p*q/n)\n",
    "\n",
    "# margin of error\n",
    "moe = z_score * SE\n",
    "\n",
    "# confidence interval\n",
    "lower_bound,upper_bound = p - moe , p + moe\n",
    "\n",
    "# result\n",
    "print(f'''The true proportion of people who are satisfied with their job is between\n",
    "{lower_bound*100:.2f}% and {upper_bound*100:.2f}% with a {confidence_level*100:.0f}% confidence level.''')"
   ]
  },
  {
   "cell_type": "markdown",
   "id": "d98dd971-59e5-4d7e-a851-05b9ea0dc79f",
   "metadata": {},
   "source": []
  },
  {
   "cell_type": "markdown",
   "id": "3298c772-938f-40b6-91e9-61282508c413",
   "metadata": {},
   "source": []
  },
  {
   "cell_type": "markdown",
   "id": "18646cc1-60ac-439f-a413-485ed38776d1",
   "metadata": {},
   "source": []
  },
  {
   "cell_type": "markdown",
   "id": "59328b07-b4f1-49d5-96e1-3b0b63a5d995",
   "metadata": {},
   "source": []
  },
  {
   "cell_type": "markdown",
   "id": "966126a1-f1a9-484a-9aa2-7a9b3059853e",
   "metadata": {
    "tags": []
   },
   "source": [
    "# Q12. A researcher is testing the effectiveness of two different teaching methods on student performance. Sample A has a mean score of 85 with a standard deviation of 6, while sample B has a mean score of 82 with a standard deviation of 5. Conduct a hypothesis test to determine if the two teaching methods have a significant difference in student performance using a t-test with a significance level of 0.01."
   ]
  },
  {
   "cell_type": "code",
   "execution_count": 18,
   "id": "cd70ee23-2dc9-4ca3-8d83-93cac11bfbf3",
   "metadata": {
    "tags": []
   },
   "outputs": [],
   "source": [
    "# Giben\n",
    "x̄A,x̄B = 85,82\n",
    "sA,sB = 6,5 # (standard deviation of sample A and sample B)\n",
    "nA,nB = 30,30 # (consider)"
   ]
  },
  {
   "cell_type": "markdown",
   "id": "9c5b9ed1-61bd-4858-8edf-8e7ac5dd4834",
   "metadata": {},
   "source": [
    "#### Null hypothesis (H0):There is no significant difference in student performance of two different teaching methods (x̄A = x̄B).\n",
    "#### Alternative hypothesis (Ha): There is a significant difference in student performance of two different teaching methods (x̄A ≠ x̄B)."
   ]
  },
  {
   "cell_type": "code",
   "execution_count": 4,
   "id": "37dee476-1ed5-4aea-b45d-8df2beef5600",
   "metadata": {
    "tags": []
   },
   "outputs": [
    {
     "name": "stdout",
     "output_type": "stream",
     "text": [
      "11.148350294358098\n"
     ]
    }
   ],
   "source": [
    "significance_level = 0.01"
   ]
  },
  {
   "cell_type": "code",
   "execution_count": null,
   "id": "cb917f14-f7d2-4096-ac15-4d7c9b36f762",
   "metadata": {
    "tags": []
   },
   "outputs": [],
   "source": [
    "dof = n1+n2-2"
   ]
  },
  {
   "cell_type": "code",
   "execution_count": null,
   "id": "dd784ea7-8e2f-42c8-9bc7-d8877ccf4b85",
   "metadata": {
    "tags": []
   },
   "outputs": [],
   "source": [
    "from math import sqrt\n",
    "# SP is standard deviation of pooled standard deviation\n",
    "SP = sqrt(((nA-1)*sA^2 + (nB-1)*sB^2) / (nA+nB-2))"
   ]
  },
  {
   "cell_type": "code",
   "execution_count": null,
   "id": "c42aaab4-b6ab-4318-8993-5439b621c33a",
   "metadata": {
    "tags": []
   },
   "outputs": [
    {
     "name": "stdout",
     "output_type": "stream",
     "text": [
      "11.148350294358098\n"
     ]
    }
   ],
   "source": [
    "t_stat = (x̄1 - x̄2)/(SP * sqrt(1/nA + 1/nB))\n",
    "print(t_stat)"
   ]
  },
  {
   "cell_type": "code",
   "execution_count": 21,
   "id": "e95d1f07-fbb8-4ce4-8118-287aa438fdaa",
   "metadata": {
    "tags": []
   },
   "outputs": [
    {
     "name": "stdout",
     "output_type": "stream",
     "text": [
      "Critical value: -2.392377470282891\n",
      "p value: 4.740110532916404e-16\n"
     ]
    }
   ],
   "source": [
    "from scipy.stats import t\n",
    "\n",
    "# critical value using the t.ppf() function\n",
    "critical_value = t.ppf(significance_level, dof)\n",
    "\n",
    "# p-value using the t.sf() function\n",
    "p_value = t.sf(abs(t_stat),dof) * 2  # 2-tailed test\n",
    "\n",
    "print(\"Critical value:\", critical_value)\n",
    "print(\"p value:\", p_value)"
   ]
  },
  {
   "cell_type": "code",
   "execution_count": 22,
   "id": "bedf2ae2-a04b-45a2-98f4-ce923a5e9281",
   "metadata": {
    "tags": []
   },
   "outputs": [
    {
     "name": "stdout",
     "output_type": "stream",
     "text": [
      "Reject the null hypothesis with a p-value of 4.740110532916404e-16 with confidence level 99.0 %\n"
     ]
    }
   ],
   "source": [
    "if t_stat > critical_value and p_value < significance_level:\n",
    "    print(f\"Reject the null hypothesis with a p-value of {p_value} with confidence level {(1-significance_level)*100} %\")\n",
    "else:\n",
    "    print(f\"Fail to reject the null hypothesis with a p-value of {p_value} with confidence level {(1-significance_level)*100} %\")"
   ]
  },
  {
   "cell_type": "markdown",
   "id": "27029da7-5767-4182-933e-a2fd7ef65379",
   "metadata": {},
   "source": [
    "### The p-value is much smaller than our significance level of 0.01, which means that the probability of observing a t-value as extreme as ours (or more extreme) if the null hypothesis were true is very small. Therefore, we reject the null hypothesis and conclude that there is a significant difference in student performance of two different teaching methods at a 99% confidence level."
   ]
  },
  {
   "cell_type": "markdown",
   "id": "b779891d-325c-4255-9f8e-def2cfcc5b34",
   "metadata": {},
   "source": []
  },
  {
   "cell_type": "markdown",
   "id": "cea0c665-c514-4c0c-85f8-fac2a7732f97",
   "metadata": {},
   "source": []
  },
  {
   "cell_type": "markdown",
   "id": "07e3e34b-4a99-4c5e-a6dd-52958d0015fe",
   "metadata": {},
   "source": []
  },
  {
   "cell_type": "markdown",
   "id": "17659439-ed30-467f-aa0a-58b9d97487d6",
   "metadata": {},
   "source": []
  },
  {
   "cell_type": "markdown",
   "id": "2f33f0f5-9b52-41de-a737-36ebeaeae145",
   "metadata": {
    "tags": []
   },
   "source": [
    "# Q13. A population has a mean of 60 and a standard deviation of 8. A sample of 50 observations has a mean of 65. Calculate the 90% confidence interval for the true population mean."
   ]
  },
  {
   "cell_type": "code",
   "execution_count": 121,
   "id": "72b12f16-4a5c-48f0-8696-d6146e5f432b",
   "metadata": {
    "tags": []
   },
   "outputs": [
    {
     "name": "stdout",
     "output_type": "stream",
     "text": [
      "The population mean lies between 63.14 and 66.86 with a 90 % confidence level.\n"
     ]
    }
   ],
   "source": [
    "import math\n",
    "from scipy.stats import norm\n",
    "\n",
    "# data\n",
    "mu = 60\n",
    "sigma = 8\n",
    "sample_mean = 65\n",
    "sample_size = 50\n",
    "confidence_level = 0.90\n",
    "# z-score\n",
    "z_score = norm.ppf((1 + confidence_level) / 2)\n",
    "# margin of error\n",
    "moe = z_score * (sigma/math.sqrt(sample_size))\n",
    "# confidence interval\n",
    "lower_bound,upper_bound = sample_mean - moe , sample_mean + moe\n",
    "print(f\"The population mean lies between {lower_bound:.2f} and {upper_bound:.2f} with a {confidence_level*100:.0f} % confidence level.\")"
   ]
  },
  {
   "cell_type": "markdown",
   "id": "e4df0369-a3ff-4e63-bfbf-83e694de19e9",
   "metadata": {},
   "source": [
    "#### Therefore, we can say with 90% confidence that the true population mean lies between 63.14 and 66.86."
   ]
  },
  {
   "cell_type": "markdown",
   "id": "687b2042-7f0e-42f0-b562-0b6d6c9528e9",
   "metadata": {},
   "source": []
  },
  {
   "cell_type": "markdown",
   "id": "a9ff3761-94a9-484d-9cb8-0794cff82384",
   "metadata": {},
   "source": []
  },
  {
   "cell_type": "markdown",
   "id": "bcf84971-0592-4bf1-b5d7-cc48e55ac99b",
   "metadata": {},
   "source": []
  },
  {
   "cell_type": "markdown",
   "id": "4508824f-4595-4d3a-8c05-9753c77ccb67",
   "metadata": {},
   "source": []
  },
  {
   "cell_type": "markdown",
   "id": "0a16aeb8-dcf7-41db-87d5-17893e4c7135",
   "metadata": {
    "tags": []
   },
   "source": [
    "# Q14. In a study of the effects of caffeine on reaction time, a sample of 30 participants had an average reaction time of 0.25 seconds with a standard deviation of 0.05 seconds. Conduct a hypothesis test to determine if the caffeine has a significant effect on reaction time at a 90% confidence level using a t-test."
   ]
  },
  {
   "cell_type": "code",
   "execution_count": 28,
   "id": "9ecd1a94-254f-4951-bc98-69b88e55017b",
   "metadata": {
    "tags": []
   },
   "outputs": [],
   "source": [
    "import math\n",
    "from scipy.stats import t\n",
    "\n",
    "# Given \n",
    "sample_mean = 0.25\n",
    "mu = 0 # Hypothesized mean\n",
    "sample_std = 0.05\n",
    "sample_size = 30\n",
    "significance_level = 0.10"
   ]
  },
  {
   "cell_type": "markdown",
   "id": "d99900d9-aa19-4c73-a085-8a724a832afd",
   "metadata": {
    "tags": []
   },
   "source": [
    "#### Null hypothesis (H0):The mean reaction time for the population of individuals taking the caffeine is not significantly different from zero (μ = 0).\n",
    "#### Alternative hypothesis (Ha):The mean reaction time for the population of individuals taking the caffeine is significantly different from zero (μ ≠ 0)."
   ]
  },
  {
   "cell_type": "code",
   "execution_count": 29,
   "id": "42871e76-dc9b-4b08-b88b-f328a70f8972",
   "metadata": {
    "tags": []
   },
   "outputs": [
    {
     "name": "stdout",
     "output_type": "stream",
     "text": [
      "Reject the null hypothesis with a p-value of 2.8325244885113353e-22\n"
     ]
    }
   ],
   "source": [
    "# t-statistic\n",
    "t_stat = (sample_mean - mu) / (sample_std / math.sqrt(sample_size))\n",
    "\n",
    "# p-value\n",
    "p_value = t.sf(abs(t_stat), dof:=sample_size-1) *2 # 2-tailed test\n",
    "\n",
    "# Conclusion\n",
    "if p_value < significance_level:\n",
    "    print(f\"Reject the null hypothesis with a p-value of {p_value}\")\n",
    "else:\n",
    "    print(f\"Fail to reject the null hypothesis with a p-value of {p_value}\")"
   ]
  },
  {
   "cell_type": "markdown",
   "id": "1334c0bf-26dc-42b6-b939-92378e471639",
   "metadata": {
    "tags": []
   },
   "source": [
    "### The p-value is much smaller than our significance level of 0.05, which means that the probability of observing a t-value as extreme as ours (or more extreme) if the null hypothesis were true is very small. Therefore, we reject the null hypothesis and conclude that the mean reaction time for the population of individuals taking the caffeine is significantly different from zero at a 90% confidence level. In other words, we can be confident that the caffeine is effective on reaction time."
   ]
  }
 ],
 "metadata": {
  "kernelspec": {
   "display_name": "Python 3 (ipykernel)",
   "language": "python",
   "name": "python3"
  },
  "language_info": {
   "codemirror_mode": {
    "name": "ipython",
    "version": 3
   },
   "file_extension": ".py",
   "mimetype": "text/x-python",
   "name": "python",
   "nbconvert_exporter": "python",
   "pygments_lexer": "ipython3",
   "version": "3.11.2"
  }
 },
 "nbformat": 4,
 "nbformat_minor": 5
}
