{
 "cells": [
  {
   "cell_type": "markdown",
   "id": "4a5492a6-914e-41d8-98ef-a84d32f11fb5",
   "metadata": {},
   "source": [
    "# Q1. Write a Python function that takes in two arrays of data and calculates the F-value for a variance ratio test. The function should return the F-value and the corresponding p-value for the test."
   ]
  },
  {
   "cell_type": "code",
   "execution_count": 59,
   "id": "4f6c14db-af08-49b3-9ea9-8dd1a95448f1",
   "metadata": {
    "tags": []
   },
   "outputs": [],
   "source": [
    "import numpy as np\n",
    "from scipy.stats import f\n",
    "def variance_ratio_test(x, y):    \n",
    "    n1,n2 = len(x),len(y)\n",
    "    \n",
    "    var_x = np.var(x, ddof=1)\n",
    "    var_y = np.var(y, ddof=1)\n",
    "    \n",
    "    f_stat = var_x / var_y\n",
    "    \n",
    "    dof1,dof2 = n1 - 1, n2 - 1\n",
    "    \n",
    "    p_value = 1 - f.cdf(f_stat, dof1, dof2)\n",
    "    \n",
    "    return f_stat, p_value"
   ]
  },
  {
   "cell_type": "code",
   "execution_count": 60,
   "id": "c8e6b052-2d9d-47a9-af80-d38ec059bc26",
   "metadata": {
    "tags": []
   },
   "outputs": [],
   "source": [
    "arr1 = np.array([1,2,3,4,5])\n",
    "arr2 = np.array([2,4,6,8,10])"
   ]
  },
  {
   "cell_type": "code",
   "execution_count": 61,
   "id": "25c98011-fc54-4b63-a37e-1154a77dc746",
   "metadata": {
    "tags": []
   },
   "outputs": [],
   "source": [
    "f,p = variance_ratio_test(arr1,arr2)"
   ]
  },
  {
   "cell_type": "code",
   "execution_count": 62,
   "id": "009f1400-8e35-43f3-91ef-7f56c42c1d2f",
   "metadata": {
    "tags": []
   },
   "outputs": [
    {
     "name": "stdout",
     "output_type": "stream",
     "text": [
      "f-value: 0.25\n",
      "p-value: 0.896\n"
     ]
    }
   ],
   "source": [
    "print('f-value:',f)\n",
    "print('p-value:',p)"
   ]
  },
  {
   "cell_type": "markdown",
   "id": "0c1b5c4f-9328-4b40-ab1d-27bd12e9b4a0",
   "metadata": {},
   "source": []
  },
  {
   "cell_type": "markdown",
   "id": "d3f08685-7fbf-4e77-8e4c-b3a89493413e",
   "metadata": {},
   "source": []
  },
  {
   "cell_type": "markdown",
   "id": "e4880c5d-5573-47c2-9005-fd8f4de3899c",
   "metadata": {},
   "source": []
  },
  {
   "cell_type": "markdown",
   "id": "ef7fa1db-ab66-4fa1-99f3-d03dac1f1edc",
   "metadata": {},
   "source": []
  },
  {
   "cell_type": "markdown",
   "id": "fe09766e-ccad-4cc4-8a2c-0c531d9d2809",
   "metadata": {},
   "source": [
    "# Q2. Given a significance level of 0.05 and the degrees of freedom for the numerator and denominator of an F-distribution, write a Python function that returns the critical F-value for a two-tailed test."
   ]
  },
  {
   "cell_type": "code",
   "execution_count": 17,
   "id": "25387c99-c87d-4862-8596-dc65e761782f",
   "metadata": {
    "tags": []
   },
   "outputs": [],
   "source": [
    "from scipy.stats import f\n",
    "\n",
    "def critical_f_value(alpha, dof_n, dof_d):    \n",
    "    return f.ppf([alpha/2, 1-alpha/2], dof_n,dof_d)"
   ]
  },
  {
   "cell_type": "code",
   "execution_count": 35,
   "id": "dda6f431-9df6-4383-912a-3eb8f4a63152",
   "metadata": {
    "tags": []
   },
   "outputs": [
    {
     "data": {
      "text/plain": [
       "array([0.26904923, 3.71679186])"
      ]
     },
     "execution_count": 35,
     "metadata": {},
     "output_type": "execute_result"
    }
   ],
   "source": [
    "critical_f_value(0.05,10,10)"
   ]
  },
  {
   "cell_type": "markdown",
   "id": "6fb65af3-c461-457e-9a94-e720106272fc",
   "metadata": {},
   "source": []
  },
  {
   "cell_type": "markdown",
   "id": "28691086-d451-4d3c-ae06-80e1199b3e12",
   "metadata": {},
   "source": []
  },
  {
   "cell_type": "markdown",
   "id": "770bf05d-700c-4f15-9f79-8c5d4c3ada20",
   "metadata": {},
   "source": []
  },
  {
   "cell_type": "markdown",
   "id": "0151653e-691d-490c-aa07-db07e52e23f8",
   "metadata": {},
   "source": []
  },
  {
   "cell_type": "markdown",
   "id": "126dade6-73a7-4557-a32d-af117cbe07b7",
   "metadata": {},
   "source": [
    "# Q3. Write a Python program that generates random samples from two normal distributions with known variances and uses an F-test to determine if the variances are equal. The program should output the F-value, degrees of freedom, and p-value for the test."
   ]
  },
  {
   "cell_type": "markdown",
   "id": "83ba9956-0db5-41cd-adce-15e563c1606c",
   "metadata": {},
   "source": [
    "## Hypothesis\n",
    "### H0: The variance of the two sampples are equal (var_x == var_y)\n",
    "### Ha: The variance of the two sampples are not equal (var_x != var_y)"
   ]
  },
  {
   "cell_type": "code",
   "execution_count": 179,
   "id": "f925e25c-7f21-46c6-9ca7-9321ba7a1112",
   "metadata": {
    "tags": []
   },
   "outputs": [],
   "source": [
    "significance_level = 0.05"
   ]
  },
  {
   "cell_type": "code",
   "execution_count": 207,
   "id": "d1c2446e-783d-4512-9706-1f9c5df8279c",
   "metadata": {
    "tags": []
   },
   "outputs": [],
   "source": [
    "# random sample\n",
    "import numpy as np\n",
    "sample1 = np.random.normal(25,4,50)\n",
    "sample2 = np.random.normal(30,6,60)"
   ]
  },
  {
   "cell_type": "markdown",
   "id": "bffd1867-274b-4cad-a4ba-0f45d99711c0",
   "metadata": {},
   "source": [
    "## Calculating f-statistic and p_value"
   ]
  },
  {
   "cell_type": "code",
   "execution_count": 186,
   "id": "2e68e68a-eb6e-42ec-83ba-4788d2808656",
   "metadata": {
    "tags": []
   },
   "outputs": [],
   "source": [
    "from scipy.stats import f\n",
    "def variance_ratio_test(x, y):    \n",
    "    n1,n2 = len(x),len(y)\n",
    "    \n",
    "    var_x = np.var(x, ddof=1)\n",
    "    var_y = np.var(y, ddof=1)\n",
    "    \n",
    "    f_stat = var_x / var_y\n",
    "    \n",
    "    dof1,dof2 = n1 - 1, n2 - 1\n",
    "    \n",
    "    p_value = 1 - f.cdf(f_stat, dof1, dof2)\n",
    "    \n",
    "    return f_stat, p_value , dof1, dof2"
   ]
  },
  {
   "cell_type": "code",
   "execution_count": 187,
   "id": "9a17f976-1cb8-470b-bd1f-e06aae8b43b5",
   "metadata": {
    "tags": []
   },
   "outputs": [],
   "source": [
    "f,p,d1,d2 = variance_ratio_test(sample1,sample2)"
   ]
  },
  {
   "cell_type": "markdown",
   "id": "e1373c42-b955-4398-bc42-0f8326083574",
   "metadata": {},
   "source": [
    "## Result"
   ]
  },
  {
   "cell_type": "code",
   "execution_count": 188,
   "id": "49b4751d-ad8b-40e7-adf5-f59b094f1ce5",
   "metadata": {
    "tags": []
   },
   "outputs": [
    {
     "name": "stdout",
     "output_type": "stream",
     "text": [
      "f-value: 0.5681536479640235\n",
      "p-value: 0.9782911397460234\n",
      "Degree of freedom of sample1: 49\n",
      "Degree of freedom of sample2: 59\n"
     ]
    }
   ],
   "source": [
    "print('f-value:',f)\n",
    "print('p-value:',p)\n",
    "print('Degree of freedom of sample1:',d1)\n",
    "print('Degree of freedom of sample2:',d2)"
   ]
  },
  {
   "cell_type": "markdown",
   "id": "dafcfa1b-e976-4a36-83d7-c7eb7a1770ae",
   "metadata": {},
   "source": [
    "## Comparison"
   ]
  },
  {
   "cell_type": "code",
   "execution_count": 189,
   "id": "16e1e79c-4846-4a0a-93a4-b9cd164bf169",
   "metadata": {
    "tags": []
   },
   "outputs": [
    {
     "name": "stdout",
     "output_type": "stream",
     "text": [
      "Fail to reject the null hypothesis.\n"
     ]
    }
   ],
   "source": [
    "if p < significance_level:\n",
    "    print('Reject the null hypothesis.')\n",
    "else:\n",
    "    print('Fail to reject the null hypothesis.')"
   ]
  },
  {
   "cell_type": "markdown",
   "id": "bf629a5d-4fb6-4b8b-8096-b97e835c6328",
   "metadata": {},
   "source": [
    "## Conclusion\n",
    "### We failed to reject the null hypothesis, it means that there is not enough evidence to conclude that the variances of the two samples are different.Therefore, we can conclude that the variances of the population samples are approximately same with 95% confidence."
   ]
  },
  {
   "cell_type": "markdown",
   "id": "e09e5152-0cf8-42dc-859a-6d915f02b6ec",
   "metadata": {},
   "source": []
  },
  {
   "cell_type": "markdown",
   "id": "5d94e6d8-de0d-47c0-a1bc-bdbef6131718",
   "metadata": {},
   "source": []
  },
  {
   "cell_type": "markdown",
   "id": "ce78c944-8276-48e3-b530-aad2f6a11d91",
   "metadata": {},
   "source": []
  },
  {
   "cell_type": "markdown",
   "id": "9d5ecdbf-46d3-489a-80ff-15592d275d79",
   "metadata": {},
   "source": []
  },
  {
   "cell_type": "markdown",
   "id": "39aa5cd1-90a9-4876-8b6c-f73d30e1ba4a",
   "metadata": {},
   "source": [
    "# Q4.The variances of two populations are known to be 10 and 15. A sample of 12 observations is taken from each population. Conduct an F-test at the 5% significance level to determine if the variances are significantly different."
   ]
  },
  {
   "cell_type": "markdown",
   "id": "7cc6adb0-c5ad-49a2-bdf8-d851b18f0170",
   "metadata": {},
   "source": [
    "## Hypothesis\n",
    "### H0: The variance of the two sampples are not significantly different (var_x == var_y)\n",
    "### Ha: The variance of the two sampples are significantly different (var_x != var_y)"
   ]
  },
  {
   "cell_type": "code",
   "execution_count": 1,
   "id": "d28315ec-4431-4811-a208-703f4f641c67",
   "metadata": {},
   "outputs": [],
   "source": [
    "# data\n",
    "import numpy as np\n",
    "var_x = 10\n",
    "var_y = 15\n",
    "n1 = n2 = 12\n",
    "significance_level=0.05"
   ]
  },
  {
   "cell_type": "markdown",
   "id": "b780ce3e-d818-42a4-ba76-9e09108cb5c8",
   "metadata": {},
   "source": [
    "## Calculationg f-statistic and p_value"
   ]
  },
  {
   "cell_type": "code",
   "execution_count": 12,
   "id": "4accd5f3-7adf-4d63-adc4-5e4b22b1581f",
   "metadata": {
    "tags": []
   },
   "outputs": [],
   "source": [
    "from scipy.stats import f\n",
    "dof1,dof2 = n1 - 1, n2 - 1\n",
    "f_stat = var_x / var_y\n",
    "p_value = 1 - f.cdf(f_stat, dof1, dof2)    "
   ]
  },
  {
   "cell_type": "markdown",
   "id": "74a6a791-0b19-46fc-bc48-5e9e4969320d",
   "metadata": {},
   "source": [
    "## Result"
   ]
  },
  {
   "cell_type": "code",
   "execution_count": 9,
   "id": "6821d68b-4509-4c2d-9a6c-8cb86c0e9dc3",
   "metadata": {
    "tags": []
   },
   "outputs": [
    {
     "name": "stdout",
     "output_type": "stream",
     "text": [
      "f-value: 0.6666666666666666\n",
      "p-value: 0.7438051006321\n"
     ]
    }
   ],
   "source": [
    "print('f-value:',f_stat)\n",
    "print('p-value:',p_value)"
   ]
  },
  {
   "cell_type": "markdown",
   "id": "279a11f5-fac7-4bd6-838b-fb612a032880",
   "metadata": {},
   "source": [
    "## Comparison"
   ]
  },
  {
   "cell_type": "code",
   "execution_count": 11,
   "id": "b19d52d9-82d0-451e-9f94-13ba557f1953",
   "metadata": {
    "tags": []
   },
   "outputs": [
    {
     "name": "stdout",
     "output_type": "stream",
     "text": [
      "Fail to reject the null hypothesis.\n"
     ]
    }
   ],
   "source": [
    "if p_value < significance_level:\n",
    "    print('Reject the null hypothesis.')\n",
    "else:\n",
    "    print('Fail to reject the null hypothesis.')"
   ]
  },
  {
   "cell_type": "markdown",
   "id": "53eb5753-c37a-4692-a01e-3c17180e7d01",
   "metadata": {},
   "source": [
    "## Conclusion\n",
    "### We failed to reject the null hypothesis, it means that there is not enough evidence to conclude that the variances of the two populations are different.Therefore, we can conclude that the variances of the population samples are approximately same with 95% confidence."
   ]
  },
  {
   "cell_type": "markdown",
   "id": "7ca74aa0-d71e-4d43-95d2-49bdc1387886",
   "metadata": {},
   "source": []
  },
  {
   "cell_type": "markdown",
   "id": "cb04b5c9-3207-4485-b0c3-8fb91a7d3ea5",
   "metadata": {},
   "source": []
  },
  {
   "cell_type": "markdown",
   "id": "cbf72689-4b52-4747-aa27-2322733482f5",
   "metadata": {},
   "source": []
  },
  {
   "cell_type": "markdown",
   "id": "f89f1e9c-92f4-441c-9371-87e7143380d1",
   "metadata": {},
   "source": []
  },
  {
   "cell_type": "markdown",
   "id": "598a2c70-4ba9-4612-8bd1-e6704bb39180",
   "metadata": {},
   "source": [
    "# Q5. A manufacturer claims that the variance of the diameter of a certain product is 0.005. A sample of 25 products is taken, and the sample variance is found to be 0.006. Conduct an F-test at the 1% significance level to determine if the claim is justified."
   ]
  },
  {
   "cell_type": "markdown",
   "id": "455dc28b-c64e-4a30-826f-6e599347f992",
   "metadata": {},
   "source": [
    "## Hypothesis\n",
    "### H0: The variance of the two sampples are not significantly different (var_x == var_y)\n",
    "### Ha: The variance of the two sampples are significantly different (var_x != var_y)"
   ]
  },
  {
   "cell_type": "code",
   "execution_count": 55,
   "id": "e900f436-743a-40df-ae5e-2bd36d93a77e",
   "metadata": {},
   "outputs": [],
   "source": [
    "# data\n",
    "import numpy as np\n",
    "var_x = 0.005\n",
    "var_y = 0.006\n",
    "n1 = n2 = 25\n",
    "significance_level=0.01"
   ]
  },
  {
   "cell_type": "markdown",
   "id": "5e6bf656-96e3-4235-9cf6-bbfa56910eb3",
   "metadata": {},
   "source": [
    "## Calculating f-statistic and p_value"
   ]
  },
  {
   "cell_type": "code",
   "execution_count": 56,
   "id": "e513d1a3-ae8a-4ce5-bed4-6636f71c569c",
   "metadata": {
    "tags": []
   },
   "outputs": [],
   "source": [
    "from scipy.stats import f\n",
    "f_stat = var_x / var_y\n",
    "dof1,dof2 = n1 - 1, n2 - 1\n",
    "p_value = 1 - f.cdf(f_stat, dof1, dof2)"
   ]
  },
  {
   "cell_type": "markdown",
   "id": "c36d5c38-2dd1-4467-83f4-4def2a09392a",
   "metadata": {},
   "source": [
    "## Result"
   ]
  },
  {
   "cell_type": "code",
   "execution_count": 57,
   "id": "92ab77d7-83f3-4caa-b18d-ce8ac975ac68",
   "metadata": {
    "tags": []
   },
   "outputs": [
    {
     "name": "stdout",
     "output_type": "stream",
     "text": [
      "f-value: 0.8333333333333334\n",
      "p-value: 0.6706345317182762\n"
     ]
    }
   ],
   "source": [
    "print('f-value:',f_stat)\n",
    "print('p-value:',p_value)"
   ]
  },
  {
   "cell_type": "markdown",
   "id": "3d2f9ca8-46c3-4e53-a81d-2bb30a257ad1",
   "metadata": {},
   "source": [
    "## Comparison"
   ]
  },
  {
   "cell_type": "code",
   "execution_count": 58,
   "id": "3515e7d9-4089-46cf-b9c7-83467dd2556b",
   "metadata": {
    "tags": []
   },
   "outputs": [
    {
     "name": "stdout",
     "output_type": "stream",
     "text": [
      "Fail to reject the null hypothesis.\n"
     ]
    }
   ],
   "source": [
    "if p_value < significance_level:\n",
    "    print('Reject the null hypothesis.')\n",
    "else:\n",
    "    print('Fail to reject the null hypothesis.')"
   ]
  },
  {
   "cell_type": "markdown",
   "id": "336d5e53-9433-4481-b9aa-53e8597ae52c",
   "metadata": {},
   "source": [
    "## Conclusion\n",
    "### We failed to reject the null hypothesis, it means that there is not enough evidence to conclude that the variance of the diameter of product is different from his claim.Therefore, we can conclude that the claim of the manufacturer is justified with 99% confidence."
   ]
  },
  {
   "cell_type": "markdown",
   "id": "13e19a5c-3bd4-42ab-94bb-78edf4e6b9ee",
   "metadata": {},
   "source": []
  },
  {
   "cell_type": "markdown",
   "id": "387f3f82-837a-484d-ba13-bfb298453b55",
   "metadata": {},
   "source": []
  },
  {
   "cell_type": "markdown",
   "id": "7d3f5801-2c1d-48fb-a2ec-f10b472bc741",
   "metadata": {},
   "source": []
  },
  {
   "cell_type": "markdown",
   "id": "d7827279-239b-476d-804d-1448ea893803",
   "metadata": {},
   "source": []
  },
  {
   "cell_type": "markdown",
   "id": "6711c68f-af16-429a-84cf-839576c75432",
   "metadata": {},
   "source": [
    "# Q6. Write a Python function that takes in the degrees of freedom for the numerator and denominator of an F-distribution and calculates the mean and variance of the distribution. The function should return the mean and variance as a tuple."
   ]
  },
  {
   "cell_type": "code",
   "execution_count": 138,
   "id": "e64341cd-0743-4422-ae75-3a3075fe718b",
   "metadata": {
    "tags": []
   },
   "outputs": [],
   "source": [
    "def mean_variance(dfn,dfd):\n",
    "    mean = dfd/(dfd-2)\n",
    "    variance = (2 * dfd**2 * (dfn + dfd - 2)) / (dfn * (dfd - 2)**2 * (dfd - 4))\n",
    "    return mean,variance"
   ]
  },
  {
   "cell_type": "code",
   "execution_count": 147,
   "id": "d68940e8-cc29-4758-a99d-e3d7f3bb6210",
   "metadata": {
    "tags": []
   },
   "outputs": [
    {
     "data": {
      "text/plain": [
       "(1.1538461538461537, 0.556750941366326)"
      ]
     },
     "execution_count": 147,
     "metadata": {},
     "output_type": "execute_result"
    }
   ],
   "source": [
    "mean_variance(10,15)"
   ]
  },
  {
   "cell_type": "markdown",
   "id": "56c59ea5-6ff1-414f-83f3-07e67dfe7bba",
   "metadata": {},
   "source": []
  },
  {
   "cell_type": "markdown",
   "id": "072c790f-3f87-43d2-b5e1-d38f861b0609",
   "metadata": {},
   "source": []
  },
  {
   "cell_type": "markdown",
   "id": "81a6f618-dc07-431e-a14c-1a28eed74dea",
   "metadata": {},
   "source": []
  },
  {
   "cell_type": "markdown",
   "id": "aa9145df-37bd-4544-aa1f-ba44ece82c9b",
   "metadata": {},
   "source": []
  },
  {
   "cell_type": "markdown",
   "id": "63a72e40-22b0-4743-b7f1-4f08bc83dc0a",
   "metadata": {
    "tags": []
   },
   "source": [
    "# Q7. A random sample of 10 measurements is taken from a normal population with unknown variance.The sample variance is found to be 25. Another random sample of 15 measurements is taken from another normal population with unknown variance, and the sample variance is found to be 20. Conduct an F-test at the 10% significance level to determine if the variances are significantly different."
   ]
  },
  {
   "cell_type": "markdown",
   "id": "26a3b693-400b-42a7-a5ad-3a2002c059ce",
   "metadata": {},
   "source": [
    "## Hypothesis\n",
    "### H0: The variances of the two population sampples are not significantly different (var_x == var_y)\n",
    "### Ha: The variances of the two population sampples are significantly different (var_x != var_y)"
   ]
  },
  {
   "cell_type": "code",
   "execution_count": 14,
   "id": "1e5f5aa9-9e28-499a-a4c3-13126c64cb45",
   "metadata": {
    "tags": []
   },
   "outputs": [],
   "source": [
    "# data\n",
    "import numpy as np\n",
    "var_x = 25\n",
    "var_y = 20\n",
    "n1 = 10\n",
    "n2 = 15\n",
    "significance_level=0.10"
   ]
  },
  {
   "cell_type": "markdown",
   "id": "f0018a87-38a7-42c6-bec7-e5f0fcf41bf1",
   "metadata": {},
   "source": [
    "## Calculating f-statistic and p_value"
   ]
  },
  {
   "cell_type": "code",
   "execution_count": 15,
   "id": "280a0f36-7c45-42c4-a9e4-7b8cf5a86dd9",
   "metadata": {
    "tags": []
   },
   "outputs": [],
   "source": [
    "from scipy.stats import f\n",
    "dof1,dof2 = n1 - 1, n2 - 1\n",
    "f_stat = var_x / var_y\n",
    "p_value = 1 - f.cdf(f_stat, dof1, dof2)    "
   ]
  },
  {
   "cell_type": "markdown",
   "id": "df08e512-2ad5-4bb8-bf6d-993bf2fa6e32",
   "metadata": {},
   "source": [
    "## Result"
   ]
  },
  {
   "cell_type": "code",
   "execution_count": 16,
   "id": "a9188970-fe32-4208-ae8b-1d40f34ff406",
   "metadata": {
    "tags": []
   },
   "outputs": [
    {
     "name": "stdout",
     "output_type": "stream",
     "text": [
      "f-value: 1.25\n",
      "p-value: 0.3416097191292976\n"
     ]
    }
   ],
   "source": [
    "print('f-value:',f_stat)\n",
    "print('p-value:',p_value)"
   ]
  },
  {
   "cell_type": "markdown",
   "id": "60a014f4-8a25-4707-9dd7-b7107b6bbfbf",
   "metadata": {},
   "source": [
    "## Comparison"
   ]
  },
  {
   "cell_type": "code",
   "execution_count": 18,
   "id": "f4d9185f-ce78-447b-a6b7-1da87bedbec4",
   "metadata": {
    "tags": []
   },
   "outputs": [
    {
     "name": "stdout",
     "output_type": "stream",
     "text": [
      "Fail to reject the null hypothesis.\n"
     ]
    }
   ],
   "source": [
    "if p_value < significance_level:\n",
    "    print('Reject the null hypothesis.')\n",
    "else:\n",
    "    print('Fail to reject the null hypothesis.')"
   ]
  },
  {
   "cell_type": "markdown",
   "id": "3b387f9c-5055-41c8-8147-5a6f08d3b122",
   "metadata": {},
   "source": [
    "## Conclusion\n",
    "### We failed to reject the null hypothesis, it means that there is not enough evidence to conclude that the variances of the two populations are different.Therefore, we can conclude that the variances of the population samples are approximately same with 90% confidence."
   ]
  },
  {
   "cell_type": "markdown",
   "id": "577e5e34-8657-4219-bae1-0271c9182db9",
   "metadata": {},
   "source": []
  },
  {
   "cell_type": "markdown",
   "id": "3138f62f-3a6d-46d2-9a24-7c3fe10e2ddd",
   "metadata": {
    "tags": []
   },
   "source": []
  },
  {
   "cell_type": "markdown",
   "id": "f48278e9-25c6-4fd1-aa9d-675dcc225fab",
   "metadata": {},
   "source": []
  },
  {
   "cell_type": "markdown",
   "id": "04110632-4d5a-4c64-b8d2-4430ed38e37a",
   "metadata": {},
   "source": []
  },
  {
   "cell_type": "markdown",
   "id": "71070af7-6b5e-430f-8618-4627c4064ba6",
   "metadata": {
    "tags": []
   },
   "source": [
    "# Q8. The following data represent the waiting times in minutes at two different restaurants on a Saturday night: Restaurant A: 24, 25, 28, 23, 22, 20, 27; Restaurant B: 31, 33, 35, 30, 32, 36. Conduct an F-test at the 5% significance level to determine if the variances are significantly different."
   ]
  },
  {
   "cell_type": "markdown",
   "id": "ed0c2d3b-07aa-4526-a456-79d3a4f49b36",
   "metadata": {},
   "source": [
    "## Hypothesis\n",
    "### H0: The variances of the two waiting time sampples are not significantly different (var_x == var_y)\n",
    "### Ha: The variances of the two wating time sampples are significantly different (var_x != var_y)"
   ]
  },
  {
   "cell_type": "code",
   "execution_count": 29,
   "id": "39eb8d62-5045-4d78-b5f4-e83bdaf4ce8a",
   "metadata": {
    "tags": []
   },
   "outputs": [],
   "source": [
    "# data\n",
    "import numpy as np\n",
    "rest1 = np.array([24,25,28,23,22,20,27])\n",
    "rest2 = np.array([31,33,35,30,32,36])\n",
    "significance_level=0.05"
   ]
  },
  {
   "cell_type": "markdown",
   "id": "d8a74695-0803-4456-b059-0576f757f12e",
   "metadata": {},
   "source": [
    "## Calculating f-statistic and p_value"
   ]
  },
  {
   "cell_type": "code",
   "execution_count": 30,
   "id": "deb020f1-a84e-455a-bb09-8170fc3be06d",
   "metadata": {
    "tags": []
   },
   "outputs": [],
   "source": [
    "from scipy.stats import f\n",
    "def variance_ratio_test(x, y):    \n",
    "    n1,n2 = len(x),len(y)\n",
    "    \n",
    "    var_x = np.var(x, ddof=1)\n",
    "    var_y = np.var(y, ddof=1)\n",
    "    \n",
    "    f_stat = var_x / var_y\n",
    "    \n",
    "    dof1,dof2 = n1 - 1, n2 - 1\n",
    "    \n",
    "    p_value = 1 - f.cdf(f_stat, dof1, dof2)\n",
    "    \n",
    "    return f_stat, p_value"
   ]
  },
  {
   "cell_type": "code",
   "execution_count": 31,
   "id": "540f5f21-e8bd-4918-8bc9-f3c531057bce",
   "metadata": {
    "tags": []
   },
   "outputs": [],
   "source": [
    "f,p = variance_ratio_test(rest1,rest2)"
   ]
  },
  {
   "cell_type": "markdown",
   "id": "d0918a22-8b07-4805-bc4c-0aecede10aff",
   "metadata": {},
   "source": [
    "## Result"
   ]
  },
  {
   "cell_type": "code",
   "execution_count": 32,
   "id": "f3ee8633-c442-42ec-af22-1a3da097106e",
   "metadata": {
    "tags": []
   },
   "outputs": [
    {
     "name": "stdout",
     "output_type": "stream",
     "text": [
      "f-value: 1.4551907719609583\n",
      "p-value: 0.3487407873968742\n"
     ]
    }
   ],
   "source": [
    "print('f-value:',f)\n",
    "print('p-value:',p)"
   ]
  },
  {
   "cell_type": "markdown",
   "id": "26715155-bb23-4d7d-8c52-506171e8f0df",
   "metadata": {},
   "source": [
    "## Comparison"
   ]
  },
  {
   "cell_type": "code",
   "execution_count": 33,
   "id": "c0b2c560-8d0b-4cc0-bfd8-a88110401140",
   "metadata": {
    "tags": []
   },
   "outputs": [
    {
     "name": "stdout",
     "output_type": "stream",
     "text": [
      "Fail to reject the null hypothesis.\n"
     ]
    }
   ],
   "source": [
    "if p < significance_level:\n",
    "    print('Reject the null hypothesis.')\n",
    "else:\n",
    "    print('Fail to reject the null hypothesis.')"
   ]
  },
  {
   "cell_type": "markdown",
   "id": "56aa9feb-e444-411c-9134-2fdbc04f7cf0",
   "metadata": {},
   "source": [
    "## Conclusion\n",
    "### We failed to reject the null hypothesis, it means that there is not enough evidence to conclude that the variances of waiting time of the two restaurants are different. Therefore, we can conclude that the waiting time of the two restaurants are approximately same with 95% confidence."
   ]
  },
  {
   "cell_type": "markdown",
   "id": "901844af-c47d-45d9-ae30-b3c869b783dc",
   "metadata": {},
   "source": []
  },
  {
   "cell_type": "markdown",
   "id": "667ad19c-4534-4672-807e-3d1a3c3c66c1",
   "metadata": {},
   "source": []
  },
  {
   "cell_type": "markdown",
   "id": "9f1d2ae2-6c51-49cd-8561-30333a9a1ad4",
   "metadata": {},
   "source": []
  },
  {
   "cell_type": "markdown",
   "id": "80b4cb48-f909-4d03-aad2-e72cadd61076",
   "metadata": {},
   "source": []
  },
  {
   "cell_type": "markdown",
   "id": "44b2c98d-4362-43c7-9ac6-494c6af29705",
   "metadata": {
    "tags": []
   },
   "source": [
    "# Q9. The following data represent the test scores of two groups of students: Group A: 80, 85, 90, 92, 87, 83; Group B: 75, 78, 82, 79, 81, 84. Conduct an F-test at the 1% significance level to determine if the variances are significantly different."
   ]
  },
  {
   "cell_type": "code",
   "execution_count": 34,
   "id": "360766d1-cc8c-4e9e-9f3c-fbc890460016",
   "metadata": {
    "tags": []
   },
   "outputs": [],
   "source": [
    "# data\n",
    "import numpy as np\n",
    "GropuA = np.array([80,85,90,92,87,83])\n",
    "GropuB = np.array([75,78,82,79,81,84])\n",
    "significance_level=0.01"
   ]
  },
  {
   "cell_type": "markdown",
   "id": "26c1f90b-fc43-4963-b638-7fdd448dd924",
   "metadata": {},
   "source": [
    "## Calculating f-statistic and p_value"
   ]
  },
  {
   "cell_type": "code",
   "execution_count": 39,
   "id": "382383ef-6c39-4154-b689-a7ef95b5e3c1",
   "metadata": {
    "tags": []
   },
   "outputs": [],
   "source": [
    "from scipy.stats import f\n",
    "def variance_ratio_test(x, y):    \n",
    "    n1,n2 = len(x),len(y)\n",
    "    \n",
    "    var_x = np.var(x, ddof=1)\n",
    "    var_y = np.var(y, ddof=1)\n",
    "    \n",
    "    f_stat = var_x / var_y\n",
    "    \n",
    "    dof1,dof2 = n1 - 1, n2 - 1\n",
    "    \n",
    "    p_value = 1 - f.cdf(f_stat, dof1, dof2)\n",
    "    \n",
    "    return f_stat, p_value"
   ]
  },
  {
   "cell_type": "code",
   "execution_count": 40,
   "id": "5c101b4d-cd55-4235-b465-8716d82747d1",
   "metadata": {
    "tags": []
   },
   "outputs": [],
   "source": [
    "f,p = variance_ratio_test(GropuA,GropuB)"
   ]
  },
  {
   "cell_type": "markdown",
   "id": "ca3747f5-3b45-4538-b631-020f5a25dfaa",
   "metadata": {},
   "source": [
    "## Result"
   ]
  },
  {
   "cell_type": "code",
   "execution_count": 41,
   "id": "f8682751-36cf-4073-9699-be5c8d413c9b",
   "metadata": {
    "tags": []
   },
   "outputs": [
    {
     "name": "stdout",
     "output_type": "stream",
     "text": [
      "f-value: 1.9442622950819677\n",
      "p-value: 0.2415521774535344\n"
     ]
    }
   ],
   "source": [
    "print('f-value:',f)\n",
    "print('p-value:',p)"
   ]
  },
  {
   "cell_type": "markdown",
   "id": "5083f910-c990-490d-8d59-b5c191e4cee7",
   "metadata": {},
   "source": [
    "## Comparison"
   ]
  },
  {
   "cell_type": "code",
   "execution_count": 42,
   "id": "c44498ba-b1fc-4113-a26a-e21fe4f25e8a",
   "metadata": {
    "tags": []
   },
   "outputs": [
    {
     "name": "stdout",
     "output_type": "stream",
     "text": [
      "Fail to reject the null hypothesis.\n"
     ]
    }
   ],
   "source": [
    "if p < significance_level:\n",
    "    print('Reject the null hypothesis.')\n",
    "else:\n",
    "    print('Fail to reject the null hypothesis.')"
   ]
  },
  {
   "cell_type": "markdown",
   "id": "f14eaa77-dd50-45c8-84b2-e716d57f3326",
   "metadata": {},
   "source": [
    "## Conclusion\n",
    "### We failed to reject the null hypothesis, it means that there is not enough evidence to conclude that the variances of test scores of two groups of students are different. Therefore, we can conclude that the performance of the GroupA students and GroupB students is equivalance with 99% confidence."
   ]
  }
 ],
 "metadata": {
  "kernelspec": {
   "display_name": "Python 3 (ipykernel)",
   "language": "python",
   "name": "python3"
  },
  "language_info": {
   "codemirror_mode": {
    "name": "ipython",
    "version": 3
   },
   "file_extension": ".py",
   "mimetype": "text/x-python",
   "name": "python",
   "nbconvert_exporter": "python",
   "pygments_lexer": "ipython3",
   "version": "3.10.4"
  }
 },
 "nbformat": 4,
 "nbformat_minor": 5
}
