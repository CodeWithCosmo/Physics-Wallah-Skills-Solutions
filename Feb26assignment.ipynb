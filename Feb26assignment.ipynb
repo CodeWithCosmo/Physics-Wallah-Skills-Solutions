{
 "cells": [
  {
   "cell_type": "code",
   "execution_count": 47,
   "id": "6ac08005-5ed9-4951-99eb-9a9e515e9dee",
   "metadata": {
    "tags": []
   },
   "outputs": [],
   "source": [
    "import numpy as np\n",
    "list_ = [ '1' , '2' , '3' , '4' , '5' ]\n",
    "array_list = np.array(object = list_)"
   ]
  },
  {
   "cell_type": "markdown",
   "id": "61674830-8cc1-4849-b5b6-5ad545dd8702",
   "metadata": {
    "tags": []
   },
   "source": [
    "# 1"
   ]
  },
  {
   "cell_type": "markdown",
   "id": "1f968d8c-295a-4941-a15c-b8e9175db55f",
   "metadata": {
    "tags": []
   },
   "source": [
    "### Yes, The data type of 'list_' is 'list' and 'array_list' is 'numpy.ndarray'.\n",
    "### We, can print the data type of these by using type() method"
   ]
  },
  {
   "cell_type": "code",
   "execution_count": 52,
   "id": "642e38d7-8ab6-4ed7-bb1a-ded77c669ee9",
   "metadata": {
    "tags": []
   },
   "outputs": [
    {
     "data": {
      "text/plain": [
       "['1', '2', '3', '4', '5']"
      ]
     },
     "execution_count": 52,
     "metadata": {},
     "output_type": "execute_result"
    }
   ],
   "source": [
    "list_"
   ]
  },
  {
   "cell_type": "code",
   "execution_count": 51,
   "id": "3aca5d69-1713-436c-8011-c23d0dcab182",
   "metadata": {
    "tags": []
   },
   "outputs": [
    {
     "name": "stdout",
     "output_type": "stream",
     "text": [
      "Data Type of list_: <class 'list'>\n"
     ]
    }
   ],
   "source": [
    "print(f'Data Type of list_: {type(list_)}')"
   ]
  },
  {
   "cell_type": "code",
   "execution_count": 53,
   "id": "dd5465eb-b7c6-4a0e-b477-0ed895c3caab",
   "metadata": {
    "tags": []
   },
   "outputs": [
    {
     "data": {
      "text/plain": [
       "array(['1', '2', '3', '4', '5'], dtype='<U1')"
      ]
     },
     "execution_count": 53,
     "metadata": {},
     "output_type": "execute_result"
    }
   ],
   "source": [
    "array_list"
   ]
  },
  {
   "cell_type": "code",
   "execution_count": 50,
   "id": "e8022253-1460-45fd-b373-7c884f1fbf10",
   "metadata": {
    "tags": []
   },
   "outputs": [
    {
     "name": "stdout",
     "output_type": "stream",
     "text": [
      "Data Type of array_list: <class 'numpy.ndarray'>\n"
     ]
    }
   ],
   "source": [
    "print(f'Data Type of array_list: {type(array_list)}')"
   ]
  },
  {
   "cell_type": "markdown",
   "id": "d575e6c3-5865-42ad-9812-366bf5d4e3e1",
   "metadata": {},
   "source": []
  },
  {
   "cell_type": "markdown",
   "id": "30ee8cae-6c58-41c3-b686-d55960444033",
   "metadata": {},
   "source": []
  },
  {
   "cell_type": "markdown",
   "id": "2bbfa12c-7f3c-45c5-b5be-f95b2a216be1",
   "metadata": {},
   "source": []
  },
  {
   "cell_type": "markdown",
   "id": "97159cca-8a9b-4cd3-b9d4-4e036aeb1f35",
   "metadata": {
    "tags": []
   },
   "source": [
    "# 2"
   ]
  },
  {
   "cell_type": "code",
   "execution_count": 55,
   "id": "6d75965a-dc44-4855-b092-20c8546c6081",
   "metadata": {
    "tags": []
   },
   "outputs": [
    {
     "data": {
      "text/plain": [
       "['1', '2', '3', '4', '5']"
      ]
     },
     "execution_count": 55,
     "metadata": {},
     "output_type": "execute_result"
    }
   ],
   "source": [
    "list_"
   ]
  },
  {
   "cell_type": "code",
   "execution_count": 62,
   "id": "fd0d53fe-92c0-4b2a-b188-5416137b7bfe",
   "metadata": {
    "tags": []
   },
   "outputs": [
    {
     "name": "stdout",
     "output_type": "stream",
     "text": [
      "<class 'str'>\n",
      "<class 'str'>\n",
      "<class 'str'>\n",
      "<class 'str'>\n",
      "<class 'str'>\n"
     ]
    }
   ],
   "source": [
    "for i in list_:\n",
    "    print(type(i))"
   ]
  },
  {
   "cell_type": "code",
   "execution_count": 63,
   "id": "63db4279-3d0a-46f0-aee3-1b3bd157b200",
   "metadata": {
    "tags": []
   },
   "outputs": [
    {
     "data": {
      "text/plain": [
       "array(['1', '2', '3', '4', '5'], dtype='<U1')"
      ]
     },
     "execution_count": 63,
     "metadata": {},
     "output_type": "execute_result"
    }
   ],
   "source": [
    "array_list"
   ]
  },
  {
   "cell_type": "code",
   "execution_count": 64,
   "id": "4074d271-d7f4-42c2-96f4-b3bf046be609",
   "metadata": {
    "tags": []
   },
   "outputs": [
    {
     "name": "stdout",
     "output_type": "stream",
     "text": [
      "<class 'numpy.str_'>\n",
      "<class 'numpy.str_'>\n",
      "<class 'numpy.str_'>\n",
      "<class 'numpy.str_'>\n",
      "<class 'numpy.str_'>\n"
     ]
    }
   ],
   "source": [
    "for i in array_list:\n",
    "    print(type(i))"
   ]
  },
  {
   "cell_type": "markdown",
   "id": "acfc7c3a-4deb-4ad0-a0ea-88c96102bf48",
   "metadata": {},
   "source": []
  },
  {
   "cell_type": "markdown",
   "id": "f594f88d-bb0e-40ea-92b2-782ab3fe1ef6",
   "metadata": {},
   "source": []
  },
  {
   "cell_type": "markdown",
   "id": "ff78873c-49af-4802-950b-2961142cd211",
   "metadata": {},
   "source": []
  },
  {
   "cell_type": "markdown",
   "id": "b238ee9d-4eef-4e2b-9c17-9acebfdcb04d",
   "metadata": {},
   "source": [
    "# 3"
   ]
  },
  {
   "cell_type": "code",
   "execution_count": 66,
   "id": "09afaa29-baee-4d68-ae32-9483f6d5298f",
   "metadata": {
    "tags": []
   },
   "outputs": [],
   "source": [
    "array_list = np.array(object = list_, dtype = int)"
   ]
  },
  {
   "cell_type": "code",
   "execution_count": 68,
   "id": "5c6bde36-c4b6-4694-95a1-b2deef48fd1c",
   "metadata": {
    "tags": []
   },
   "outputs": [
    {
     "data": {
      "text/plain": [
       "array([1, 2, 3, 4, 5])"
      ]
     },
     "execution_count": 68,
     "metadata": {},
     "output_type": "execute_result"
    }
   ],
   "source": [
    "array_list"
   ]
  },
  {
   "cell_type": "code",
   "execution_count": 70,
   "id": "d123f950-2bc9-4289-8c04-a9c525003ff0",
   "metadata": {
    "tags": []
   },
   "outputs": [
    {
     "data": {
      "text/plain": [
       "['1', '2', '3', '4', '5']"
      ]
     },
     "execution_count": 70,
     "metadata": {},
     "output_type": "execute_result"
    }
   ],
   "source": [
    "list_"
   ]
  },
  {
   "cell_type": "markdown",
   "id": "e2eca3c7-d1be-46dc-a844-ddaabc2038cc",
   "metadata": {},
   "source": [
    "### The data type of each element in  'list_' is 'str' but now, data type of each element in 'array_list' is 'numpy.int64'."
   ]
  },
  {
   "cell_type": "code",
   "execution_count": 73,
   "id": "a568e101-8f0a-457d-9e14-b9bb73f0e377",
   "metadata": {
    "tags": []
   },
   "outputs": [
    {
     "name": "stdout",
     "output_type": "stream",
     "text": [
      "<class 'str'>\n",
      "<class 'str'>\n",
      "<class 'str'>\n",
      "<class 'str'>\n",
      "<class 'str'>\n"
     ]
    }
   ],
   "source": [
    "for i in list_:\n",
    "    print(type(i))"
   ]
  },
  {
   "cell_type": "code",
   "execution_count": 75,
   "id": "10f898cc-7592-4654-9777-424e8fd3b69b",
   "metadata": {
    "tags": []
   },
   "outputs": [
    {
     "name": "stdout",
     "output_type": "stream",
     "text": [
      "<class 'numpy.int64'>\n",
      "<class 'numpy.int64'>\n",
      "<class 'numpy.int64'>\n",
      "<class 'numpy.int64'>\n",
      "<class 'numpy.int64'>\n"
     ]
    }
   ],
   "source": [
    "for i in array_list:\n",
    "    print(type(i))"
   ]
  },
  {
   "cell_type": "markdown",
   "id": "a75449a0-e31b-4c55-86f7-521af3d7ba0d",
   "metadata": {},
   "source": []
  },
  {
   "cell_type": "markdown",
   "id": "74b6ca94-b625-46b3-9bff-c4fd4c1e7dad",
   "metadata": {},
   "source": []
  },
  {
   "cell_type": "markdown",
   "id": "635ea0c0-3805-45d8-8d9b-4e1f367ad698",
   "metadata": {},
   "source": []
  },
  {
   "cell_type": "markdown",
   "id": "5fc7c1d3-eeec-4e28-94be-bc15d01a2b67",
   "metadata": {},
   "source": []
  },
  {
   "cell_type": "markdown",
   "id": "cc05d9c0-33b8-4786-95cf-d6b9b00dd66a",
   "metadata": {},
   "source": []
  },
  {
   "cell_type": "markdown",
   "id": "003f19d7-8a25-444f-a58f-6a1d030ee29d",
   "metadata": {},
   "source": []
  },
  {
   "cell_type": "code",
   "execution_count": 76,
   "id": "c3ee3d1b-995d-4133-9c81-7e833805003c",
   "metadata": {
    "tags": []
   },
   "outputs": [],
   "source": [
    "import numpy as np\n",
    "num_list = [ [ 1 , 2 , 3 ] , [ 4 , 5 , 6 ] ]\n",
    "num_array = np.array(object = num_list)"
   ]
  },
  {
   "cell_type": "markdown",
   "id": "46e7b16c-7a3f-4b22-9106-da6931c0dac8",
   "metadata": {},
   "source": [
    "# 4"
   ]
  },
  {
   "cell_type": "code",
   "execution_count": 78,
   "id": "2b15fa8c-4e13-43ee-8a0b-2630aa0a4c86",
   "metadata": {
    "tags": []
   },
   "outputs": [
    {
     "data": {
      "text/plain": [
       "array([[1, 2, 3],\n",
       "       [4, 5, 6]])"
      ]
     },
     "execution_count": 78,
     "metadata": {},
     "output_type": "execute_result"
    }
   ],
   "source": [
    "num_array"
   ]
  },
  {
   "cell_type": "code",
   "execution_count": 82,
   "id": "4c1ac289-a19b-4fe3-ad4f-c10e886dc9e0",
   "metadata": {
    "tags": []
   },
   "outputs": [
    {
     "data": {
      "text/plain": [
       "(2, 3)"
      ]
     },
     "execution_count": 82,
     "metadata": {},
     "output_type": "execute_result"
    }
   ],
   "source": [
    "# (i) printing the shape of num_array\n",
    "num_array.shape"
   ]
  },
  {
   "cell_type": "code",
   "execution_count": 85,
   "id": "40da00be-fe45-4ae4-afa4-5afd936572f1",
   "metadata": {
    "tags": []
   },
   "outputs": [
    {
     "data": {
      "text/plain": [
       "6"
      ]
     },
     "execution_count": 85,
     "metadata": {},
     "output_type": "execute_result"
    }
   ],
   "source": [
    "# (ii) printing the size of num_array\n",
    "num_array.size"
   ]
  },
  {
   "cell_type": "markdown",
   "id": "81d5b4e3-b06f-40f4-87e3-352713151a56",
   "metadata": {},
   "source": []
  },
  {
   "cell_type": "markdown",
   "id": "560986d1-8f95-4111-a071-ddd7942f08a3",
   "metadata": {},
   "source": []
  },
  {
   "cell_type": "markdown",
   "id": "09cccc21-ede9-4de8-9e6a-80e5d5c33386",
   "metadata": {},
   "source": []
  },
  {
   "cell_type": "markdown",
   "id": "1758336c-5602-479e-9c4f-74ab777b63a6",
   "metadata": {
    "tags": []
   },
   "source": [
    "# 5\n",
    "### creating a (3x3) zero matrix"
   ]
  },
  {
   "cell_type": "code",
   "execution_count": 112,
   "id": "6cca85e8-7155-45ea-b31f-dcba030450ef",
   "metadata": {
    "tags": []
   },
   "outputs": [],
   "source": [
    "import numpy as np"
   ]
  },
  {
   "cell_type": "code",
   "execution_count": 117,
   "id": "0c4adfbc-0f9d-41a1-a0fb-ce26e37e5f3b",
   "metadata": {},
   "outputs": [
    {
     "data": {
      "text/plain": [
       "array([[0, 0, 0],\n",
       "       [0, 0, 0],\n",
       "       [0, 0, 0]])"
      ]
     },
     "execution_count": 117,
     "metadata": {},
     "output_type": "execute_result"
    }
   ],
   "source": [
    "np.zeros(shape = (3,3), dtype = int)"
   ]
  },
  {
   "cell_type": "markdown",
   "id": "b1e4160a-af7d-44af-961f-f82015b51630",
   "metadata": {},
   "source": []
  },
  {
   "cell_type": "markdown",
   "id": "e55ca4a4-4357-4dc3-b835-9deeb1d7ea17",
   "metadata": {},
   "source": []
  },
  {
   "cell_type": "markdown",
   "id": "d6da2775-ac0d-4f0b-ae51-c009766c757e",
   "metadata": {},
   "source": []
  },
  {
   "cell_type": "markdown",
   "id": "52796c8f-9f56-43e8-8600-f5251bc57325",
   "metadata": {
    "tags": []
   },
   "source": [
    "# 6\n",
    "### creating a (5x5) identity matrix"
   ]
  },
  {
   "cell_type": "code",
   "execution_count": 119,
   "id": "0d93d6bb-4cbd-47a6-8613-353458ed1607",
   "metadata": {
    "tags": []
   },
   "outputs": [],
   "source": [
    "import numpy as np"
   ]
  },
  {
   "cell_type": "code",
   "execution_count": 126,
   "id": "34cbbe03-f42d-4e61-98ab-64d41f09fae1",
   "metadata": {
    "tags": []
   },
   "outputs": [
    {
     "data": {
      "text/plain": [
       "array([[1, 0, 0, 0, 0],\n",
       "       [0, 1, 0, 0, 0],\n",
       "       [0, 0, 1, 0, 0],\n",
       "       [0, 0, 0, 1, 0],\n",
       "       [0, 0, 0, 0, 1]])"
      ]
     },
     "execution_count": 126,
     "metadata": {},
     "output_type": "execute_result"
    }
   ],
   "source": [
    "np.identity(5, dtype = int)"
   ]
  }
 ],
 "metadata": {
  "kernelspec": {
   "display_name": "Python 3 (ipykernel)",
   "language": "python",
   "name": "python3"
  },
  "language_info": {
   "codemirror_mode": {
    "name": "ipython",
    "version": 3
   },
   "file_extension": ".py",
   "mimetype": "text/x-python",
   "name": "python",
   "nbconvert_exporter": "python",
   "pygments_lexer": "ipython3",
   "version": "3.10.4"
  }
 },
 "nbformat": 4,
 "nbformat_minor": 5
}
