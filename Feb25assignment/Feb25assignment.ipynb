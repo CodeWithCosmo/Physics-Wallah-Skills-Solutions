{
 "cells": [
  {
   "cell_type": "code",
   "execution_count": 1,
   "metadata": {
    "tags": []
   },
   "outputs": [],
   "source": [
    "import pandas as pd"
   ]
  },
  {
   "cell_type": "code",
   "execution_count": 3,
   "metadata": {
    "tags": []
   },
   "outputs": [],
   "source": [
    "course_name = ['Data Science', 'Machine Learning', 'Big Data', 'Data Engineer']\n",
    "duration =[2,3,6,4]"
   ]
  },
  {
   "cell_type": "code",
   "execution_count": 4,
   "metadata": {
    "tags": []
   },
   "outputs": [],
   "source": [
    "df = pd.DataFrame(data = {'course_name' : course_name, 'duration' : duration})"
   ]
  },
  {
   "cell_type": "code",
   "execution_count": 5,
   "metadata": {
    "tags": []
   },
   "outputs": [
    {
     "data": {
      "text/html": [
       "<div>\n",
       "<style scoped>\n",
       "    .dataframe tbody tr th:only-of-type {\n",
       "        vertical-align: middle;\n",
       "    }\n",
       "\n",
       "    .dataframe tbody tr th {\n",
       "        vertical-align: top;\n",
       "    }\n",
       "\n",
       "    .dataframe thead th {\n",
       "        text-align: right;\n",
       "    }\n",
       "</style>\n",
       "<table border=\"1\" class=\"dataframe\">\n",
       "  <thead>\n",
       "    <tr style=\"text-align: right;\">\n",
       "      <th></th>\n",
       "      <th>course_name</th>\n",
       "      <th>duration</th>\n",
       "    </tr>\n",
       "  </thead>\n",
       "  <tbody>\n",
       "    <tr>\n",
       "      <th>0</th>\n",
       "      <td>Data Science</td>\n",
       "      <td>2</td>\n",
       "    </tr>\n",
       "    <tr>\n",
       "      <th>1</th>\n",
       "      <td>Machine Learning</td>\n",
       "      <td>3</td>\n",
       "    </tr>\n",
       "    <tr>\n",
       "      <th>2</th>\n",
       "      <td>Big Data</td>\n",
       "      <td>6</td>\n",
       "    </tr>\n",
       "    <tr>\n",
       "      <th>3</th>\n",
       "      <td>Data Engineer</td>\n",
       "      <td>4</td>\n",
       "    </tr>\n",
       "  </tbody>\n",
       "</table>\n",
       "</div>"
      ],
      "text/plain": [
       "        course_name  duration\n",
       "0      Data Science         2\n",
       "1  Machine Learning         3\n",
       "2          Big Data         6\n",
       "3     Data Engineer         4"
      ]
     },
     "execution_count": 5,
     "metadata": {},
     "output_type": "execute_result"
    }
   ],
   "source": [
    "df"
   ]
  },
  {
   "cell_type": "markdown",
   "metadata": {},
   "source": [
    "# 1\n",
    "### printing the first two rows of the dataframe df"
   ]
  },
  {
   "cell_type": "code",
   "execution_count": 6,
   "metadata": {
    "tags": []
   },
   "outputs": [
    {
     "data": {
      "text/html": [
       "<div>\n",
       "<style scoped>\n",
       "    .dataframe tbody tr th:only-of-type {\n",
       "        vertical-align: middle;\n",
       "    }\n",
       "\n",
       "    .dataframe tbody tr th {\n",
       "        vertical-align: top;\n",
       "    }\n",
       "\n",
       "    .dataframe thead th {\n",
       "        text-align: right;\n",
       "    }\n",
       "</style>\n",
       "<table border=\"1\" class=\"dataframe\">\n",
       "  <thead>\n",
       "    <tr style=\"text-align: right;\">\n",
       "      <th></th>\n",
       "      <th>course_name</th>\n",
       "      <th>duration</th>\n",
       "    </tr>\n",
       "  </thead>\n",
       "  <tbody>\n",
       "    <tr>\n",
       "      <th>0</th>\n",
       "      <td>Data Science</td>\n",
       "      <td>2</td>\n",
       "    </tr>\n",
       "    <tr>\n",
       "      <th>1</th>\n",
       "      <td>Machine Learning</td>\n",
       "      <td>3</td>\n",
       "    </tr>\n",
       "  </tbody>\n",
       "</table>\n",
       "</div>"
      ],
      "text/plain": [
       "        course_name  duration\n",
       "0      Data Science         2\n",
       "1  Machine Learning         3"
      ]
     },
     "execution_count": 6,
     "metadata": {},
     "output_type": "execute_result"
    }
   ],
   "source": [
    "df.loc[0:1] "
   ]
  },
  {
   "cell_type": "markdown",
   "metadata": {},
   "source": []
  },
  {
   "cell_type": "markdown",
   "metadata": {},
   "source": []
  },
  {
   "cell_type": "markdown",
   "metadata": {},
   "source": []
  },
  {
   "cell_type": "markdown",
   "metadata": {},
   "source": []
  },
  {
   "cell_type": "markdown",
   "metadata": {
    "tags": []
   },
   "source": [
    "# 2 \n",
    "## Difference between 'loc' and 'iloc' methods\n",
    "### 'loc' uses label based indexing, while 'iloc' uses integer based indexing.The main difference is that 'loc' , you select rows and columns based on their labels, while 'iloc' , you select rows and columns based on their intiger position."
   ]
  },
  {
   "cell_type": "markdown",
   "metadata": {},
   "source": []
  },
  {
   "cell_type": "markdown",
   "metadata": {},
   "source": []
  },
  {
   "cell_type": "markdown",
   "metadata": {},
   "source": []
  },
  {
   "cell_type": "markdown",
   "metadata": {},
   "source": []
  },
  {
   "cell_type": "markdown",
   "metadata": {},
   "source": [
    "# 3"
   ]
  },
  {
   "cell_type": "code",
   "execution_count": 7,
   "metadata": {},
   "outputs": [],
   "source": [
    "new_df = df.reindex([3,0,1,2])"
   ]
  },
  {
   "cell_type": "code",
   "execution_count": 8,
   "metadata": {},
   "outputs": [
    {
     "data": {
      "text/html": [
       "<div>\n",
       "<style scoped>\n",
       "    .dataframe tbody tr th:only-of-type {\n",
       "        vertical-align: middle;\n",
       "    }\n",
       "\n",
       "    .dataframe tbody tr th {\n",
       "        vertical-align: top;\n",
       "    }\n",
       "\n",
       "    .dataframe thead th {\n",
       "        text-align: right;\n",
       "    }\n",
       "</style>\n",
       "<table border=\"1\" class=\"dataframe\">\n",
       "  <thead>\n",
       "    <tr style=\"text-align: right;\">\n",
       "      <th></th>\n",
       "      <th>course_name</th>\n",
       "      <th>duration</th>\n",
       "    </tr>\n",
       "  </thead>\n",
       "  <tbody>\n",
       "    <tr>\n",
       "      <th>3</th>\n",
       "      <td>Data Engineer</td>\n",
       "      <td>4</td>\n",
       "    </tr>\n",
       "    <tr>\n",
       "      <th>0</th>\n",
       "      <td>Data Science</td>\n",
       "      <td>2</td>\n",
       "    </tr>\n",
       "    <tr>\n",
       "      <th>1</th>\n",
       "      <td>Machine Learning</td>\n",
       "      <td>3</td>\n",
       "    </tr>\n",
       "    <tr>\n",
       "      <th>2</th>\n",
       "      <td>Big Data</td>\n",
       "      <td>6</td>\n",
       "    </tr>\n",
       "  </tbody>\n",
       "</table>\n",
       "</div>"
      ],
      "text/plain": [
       "        course_name  duration\n",
       "3     Data Engineer         4\n",
       "0      Data Science         2\n",
       "1  Machine Learning         3\n",
       "2          Big Data         6"
      ]
     },
     "execution_count": 8,
     "metadata": {},
     "output_type": "execute_result"
    }
   ],
   "source": [
    "new_df"
   ]
  },
  {
   "cell_type": "code",
   "execution_count": 9,
   "metadata": {},
   "outputs": [
    {
     "data": {
      "text/plain": [
       "course_name    Big Data\n",
       "duration              6\n",
       "Name: 2, dtype: object"
      ]
     },
     "execution_count": 9,
     "metadata": {},
     "output_type": "execute_result"
    }
   ],
   "source": [
    "new_df.loc[2]"
   ]
  },
  {
   "cell_type": "code",
   "execution_count": 10,
   "metadata": {},
   "outputs": [
    {
     "data": {
      "text/plain": [
       "course_name    Machine Learning\n",
       "duration                      3\n",
       "Name: 1, dtype: object"
      ]
     },
     "execution_count": 10,
     "metadata": {},
     "output_type": "execute_result"
    }
   ],
   "source": [
    "new_df.iloc[2]"
   ]
  },
  {
   "cell_type": "markdown",
   "metadata": {},
   "source": [
    "### Yes, we can clearly see the difference between two outputs above, this is because 'iloc' uses interger based indexing. While 'loc' uses labeled based indexing.\n"
   ]
  },
  {
   "cell_type": "markdown",
   "metadata": {},
   "source": []
  },
  {
   "cell_type": "markdown",
   "metadata": {},
   "source": []
  },
  {
   "cell_type": "markdown",
   "metadata": {},
   "source": []
  },
  {
   "cell_type": "markdown",
   "metadata": {},
   "source": []
  },
  {
   "cell_type": "markdown",
   "metadata": {},
   "source": []
  },
  {
   "cell_type": "markdown",
   "metadata": {},
   "source": [
    "# 4"
   ]
  },
  {
   "cell_type": "code",
   "execution_count": 46,
   "metadata": {
    "tags": []
   },
   "outputs": [],
   "source": [
    "import pandas as pd\n",
    "import numpy as np\n",
    "columns = ['column_1', 'column_2', 'column_3', 'column_4', 'column_5', 'column_6']\n",
    "indices = [1,2,3,4,5,6]\n",
    "df1 = pd.DataFrame(np.random.rand(6,6), columns = columns, index = indices)"
   ]
  },
  {
   "cell_type": "code",
   "execution_count": 47,
   "metadata": {
    "tags": []
   },
   "outputs": [
    {
     "data": {
      "text/html": [
       "<div>\n",
       "<style scoped>\n",
       "    .dataframe tbody tr th:only-of-type {\n",
       "        vertical-align: middle;\n",
       "    }\n",
       "\n",
       "    .dataframe tbody tr th {\n",
       "        vertical-align: top;\n",
       "    }\n",
       "\n",
       "    .dataframe thead th {\n",
       "        text-align: right;\n",
       "    }\n",
       "</style>\n",
       "<table border=\"1\" class=\"dataframe\">\n",
       "  <thead>\n",
       "    <tr style=\"text-align: right;\">\n",
       "      <th></th>\n",
       "      <th>column_1</th>\n",
       "      <th>column_2</th>\n",
       "      <th>column_3</th>\n",
       "      <th>column_4</th>\n",
       "      <th>column_5</th>\n",
       "      <th>column_6</th>\n",
       "    </tr>\n",
       "  </thead>\n",
       "  <tbody>\n",
       "    <tr>\n",
       "      <th>1</th>\n",
       "      <td>0.694080</td>\n",
       "      <td>0.833902</td>\n",
       "      <td>0.779465</td>\n",
       "      <td>0.050470</td>\n",
       "      <td>0.114985</td>\n",
       "      <td>0.654577</td>\n",
       "    </tr>\n",
       "    <tr>\n",
       "      <th>2</th>\n",
       "      <td>0.178087</td>\n",
       "      <td>0.863451</td>\n",
       "      <td>0.458359</td>\n",
       "      <td>0.862510</td>\n",
       "      <td>0.768486</td>\n",
       "      <td>0.370291</td>\n",
       "    </tr>\n",
       "    <tr>\n",
       "      <th>3</th>\n",
       "      <td>0.412221</td>\n",
       "      <td>0.233884</td>\n",
       "      <td>0.533502</td>\n",
       "      <td>0.948958</td>\n",
       "      <td>0.129339</td>\n",
       "      <td>0.409459</td>\n",
       "    </tr>\n",
       "    <tr>\n",
       "      <th>4</th>\n",
       "      <td>0.598802</td>\n",
       "      <td>0.204068</td>\n",
       "      <td>0.901618</td>\n",
       "      <td>0.894470</td>\n",
       "      <td>0.362884</td>\n",
       "      <td>0.346197</td>\n",
       "    </tr>\n",
       "    <tr>\n",
       "      <th>5</th>\n",
       "      <td>0.692759</td>\n",
       "      <td>0.951342</td>\n",
       "      <td>0.641986</td>\n",
       "      <td>0.316073</td>\n",
       "      <td>0.100905</td>\n",
       "      <td>0.264039</td>\n",
       "    </tr>\n",
       "    <tr>\n",
       "      <th>6</th>\n",
       "      <td>0.901700</td>\n",
       "      <td>0.447028</td>\n",
       "      <td>0.816335</td>\n",
       "      <td>0.656103</td>\n",
       "      <td>0.918703</td>\n",
       "      <td>0.873044</td>\n",
       "    </tr>\n",
       "  </tbody>\n",
       "</table>\n",
       "</div>"
      ],
      "text/plain": [
       "   column_1  column_2  column_3  column_4  column_5  column_6\n",
       "1  0.694080  0.833902  0.779465  0.050470  0.114985  0.654577\n",
       "2  0.178087  0.863451  0.458359  0.862510  0.768486  0.370291\n",
       "3  0.412221  0.233884  0.533502  0.948958  0.129339  0.409459\n",
       "4  0.598802  0.204068  0.901618  0.894470  0.362884  0.346197\n",
       "5  0.692759  0.951342  0.641986  0.316073  0.100905  0.264039\n",
       "6  0.901700  0.447028  0.816335  0.656103  0.918703  0.873044"
      ]
     },
     "execution_count": 47,
     "metadata": {},
     "output_type": "execute_result"
    }
   ],
   "source": [
    "df1"
   ]
  },
  {
   "cell_type": "code",
   "execution_count": 48,
   "metadata": {
    "tags": []
   },
   "outputs": [],
   "source": [
    "import statistics as st"
   ]
  },
  {
   "cell_type": "markdown",
   "metadata": {},
   "source": [
    "#### (i) mean of each and every column present in the dataframe."
   ]
  },
  {
   "cell_type": "code",
   "execution_count": 49,
   "metadata": {
    "tags": []
   },
   "outputs": [],
   "source": [
    "columns_mean = []\n",
    "for row in range(6):\n",
    "    sum = 0\n",
    "    for column in range(6):\n",
    "        sum += df1.iloc[column,row]\n",
    "        mean = sum/6\n",
    "    columns_mean.append(round(mean,4))"
   ]
  },
  {
   "cell_type": "code",
   "execution_count": 50,
   "metadata": {
    "tags": []
   },
   "outputs": [
    {
     "data": {
      "text/html": [
       "<div>\n",
       "<style scoped>\n",
       "    .dataframe tbody tr th:only-of-type {\n",
       "        vertical-align: middle;\n",
       "    }\n",
       "\n",
       "    .dataframe tbody tr th {\n",
       "        vertical-align: top;\n",
       "    }\n",
       "\n",
       "    .dataframe thead th {\n",
       "        text-align: right;\n",
       "    }\n",
       "</style>\n",
       "<table border=\"1\" class=\"dataframe\">\n",
       "  <thead>\n",
       "    <tr style=\"text-align: right;\">\n",
       "      <th></th>\n",
       "      <th>columns_mean</th>\n",
       "    </tr>\n",
       "  </thead>\n",
       "  <tbody>\n",
       "    <tr>\n",
       "      <th>1</th>\n",
       "      <td>0.5796</td>\n",
       "    </tr>\n",
       "    <tr>\n",
       "      <th>2</th>\n",
       "      <td>0.5889</td>\n",
       "    </tr>\n",
       "    <tr>\n",
       "      <th>3</th>\n",
       "      <td>0.6885</td>\n",
       "    </tr>\n",
       "    <tr>\n",
       "      <th>4</th>\n",
       "      <td>0.6214</td>\n",
       "    </tr>\n",
       "    <tr>\n",
       "      <th>5</th>\n",
       "      <td>0.3992</td>\n",
       "    </tr>\n",
       "    <tr>\n",
       "      <th>6</th>\n",
       "      <td>0.4863</td>\n",
       "    </tr>\n",
       "  </tbody>\n",
       "</table>\n",
       "</div>"
      ],
      "text/plain": [
       "   columns_mean\n",
       "1        0.5796\n",
       "2        0.5889\n",
       "3        0.6885\n",
       "4        0.6214\n",
       "5        0.3992\n",
       "6        0.4863"
      ]
     },
     "execution_count": 50,
     "metadata": {},
     "output_type": "execute_result"
    }
   ],
   "source": [
    "pd.DataFrame({\"columns_mean\":columns_mean},index=indices)"
   ]
  },
  {
   "cell_type": "markdown",
   "metadata": {
    "tags": []
   },
   "source": [
    "#### (ii) standard deviation of column, ‘column_2’"
   ]
  },
  {
   "cell_type": "code",
   "execution_count": 51,
   "metadata": {
    "tags": []
   },
   "outputs": [
    {
     "data": {
      "text/plain": [
       "0.3349711786721325"
      ]
     },
     "execution_count": 51,
     "metadata": {},
     "output_type": "execute_result"
    }
   ],
   "source": [
    "st.stdev(df1['column_2'])"
   ]
  },
  {
   "cell_type": "markdown",
   "metadata": {},
   "source": []
  },
  {
   "cell_type": "markdown",
   "metadata": {},
   "source": []
  },
  {
   "cell_type": "markdown",
   "metadata": {},
   "source": []
  },
  {
   "cell_type": "markdown",
   "metadata": {},
   "source": [
    "# 5"
   ]
  },
  {
   "cell_type": "code",
   "execution_count": 37,
   "metadata": {
    "tags": []
   },
   "outputs": [
    {
     "data": {
      "text/html": [
       "<div>\n",
       "<style scoped>\n",
       "    .dataframe tbody tr th:only-of-type {\n",
       "        vertical-align: middle;\n",
       "    }\n",
       "\n",
       "    .dataframe tbody tr th {\n",
       "        vertical-align: top;\n",
       "    }\n",
       "\n",
       "    .dataframe thead th {\n",
       "        text-align: right;\n",
       "    }\n",
       "</style>\n",
       "<table border=\"1\" class=\"dataframe\">\n",
       "  <thead>\n",
       "    <tr style=\"text-align: right;\">\n",
       "      <th></th>\n",
       "      <th>column_1</th>\n",
       "      <th>column_2</th>\n",
       "      <th>column_3</th>\n",
       "      <th>column_4</th>\n",
       "      <th>column_5</th>\n",
       "      <th>column_6</th>\n",
       "    </tr>\n",
       "  </thead>\n",
       "  <tbody>\n",
       "    <tr>\n",
       "      <th>1</th>\n",
       "      <td>0.694215</td>\n",
       "      <td>0.532432</td>\n",
       "      <td>0.111132</td>\n",
       "      <td>0.039759</td>\n",
       "      <td>0.265137</td>\n",
       "      <td>0.855250</td>\n",
       "    </tr>\n",
       "    <tr>\n",
       "      <th>2</th>\n",
       "      <td>0.495314</td>\n",
       "      <td>0.068937</td>\n",
       "      <td>0.214340</td>\n",
       "      <td>0.559012</td>\n",
       "      <td>0.989248</td>\n",
       "      <td>0.050865</td>\n",
       "    </tr>\n",
       "    <tr>\n",
       "      <th>3</th>\n",
       "      <td>0.592231</td>\n",
       "      <td>0.127772</td>\n",
       "      <td>0.291560</td>\n",
       "      <td>0.529183</td>\n",
       "      <td>0.301450</td>\n",
       "      <td>0.795096</td>\n",
       "    </tr>\n",
       "    <tr>\n",
       "      <th>4</th>\n",
       "      <td>0.543876</td>\n",
       "      <td>0.432465</td>\n",
       "      <td>0.387009</td>\n",
       "      <td>0.527424</td>\n",
       "      <td>0.660536</td>\n",
       "      <td>0.559350</td>\n",
       "    </tr>\n",
       "    <tr>\n",
       "      <th>5</th>\n",
       "      <td>0.310098</td>\n",
       "      <td>0.953069</td>\n",
       "      <td>0.569779</td>\n",
       "      <td>0.378709</td>\n",
       "      <td>0.848152</td>\n",
       "      <td>0.008479</td>\n",
       "    </tr>\n",
       "    <tr>\n",
       "      <th>6</th>\n",
       "      <td>0.099981</td>\n",
       "      <td>0.341795</td>\n",
       "      <td>0.361587</td>\n",
       "      <td>0.827885</td>\n",
       "      <td>0.065696</td>\n",
       "      <td>0.944495</td>\n",
       "    </tr>\n",
       "  </tbody>\n",
       "</table>\n",
       "</div>"
      ],
      "text/plain": [
       "   column_1  column_2  column_3  column_4  column_5  column_6\n",
       "1  0.694215  0.532432  0.111132  0.039759  0.265137  0.855250\n",
       "2  0.495314  0.068937  0.214340  0.559012  0.989248  0.050865\n",
       "3  0.592231  0.127772  0.291560  0.529183  0.301450  0.795096\n",
       "4  0.543876  0.432465  0.387009  0.527424  0.660536  0.559350\n",
       "5  0.310098  0.953069  0.569779  0.378709  0.848152  0.008479\n",
       "6  0.099981  0.341795  0.361587  0.827885  0.065696  0.944495"
      ]
     },
     "execution_count": 37,
     "metadata": {},
     "output_type": "execute_result"
    }
   ],
   "source": [
    "df1"
   ]
  },
  {
   "cell_type": "code",
   "execution_count": 43,
   "metadata": {
    "tags": []
   },
   "outputs": [],
   "source": [
    "# Replacing 2nd row and 2nd columns value by string object\n",
    "df1.column_2[2] = 'str'"
   ]
  },
  {
   "cell_type": "code",
   "execution_count": 19,
   "metadata": {
    "tags": []
   },
   "outputs": [
    {
     "data": {
      "text/html": [
       "<div>\n",
       "<style scoped>\n",
       "    .dataframe tbody tr th:only-of-type {\n",
       "        vertical-align: middle;\n",
       "    }\n",
       "\n",
       "    .dataframe tbody tr th {\n",
       "        vertical-align: top;\n",
       "    }\n",
       "\n",
       "    .dataframe thead th {\n",
       "        text-align: right;\n",
       "    }\n",
       "</style>\n",
       "<table border=\"1\" class=\"dataframe\">\n",
       "  <thead>\n",
       "    <tr style=\"text-align: right;\">\n",
       "      <th></th>\n",
       "      <th>column_1</th>\n",
       "      <th>column_2</th>\n",
       "      <th>column_3</th>\n",
       "      <th>column_4</th>\n",
       "      <th>column_5</th>\n",
       "      <th>column_6</th>\n",
       "    </tr>\n",
       "  </thead>\n",
       "  <tbody>\n",
       "    <tr>\n",
       "      <th>1</th>\n",
       "      <td>0.173858</td>\n",
       "      <td>0.298349</td>\n",
       "      <td>0.317670</td>\n",
       "      <td>0.712406</td>\n",
       "      <td>0.504467</td>\n",
       "      <td>0.667339</td>\n",
       "    </tr>\n",
       "    <tr>\n",
       "      <th>2</th>\n",
       "      <td>0.970471</td>\n",
       "      <td>str</td>\n",
       "      <td>0.481280</td>\n",
       "      <td>0.374075</td>\n",
       "      <td>0.039815</td>\n",
       "      <td>0.057211</td>\n",
       "    </tr>\n",
       "    <tr>\n",
       "      <th>3</th>\n",
       "      <td>0.750839</td>\n",
       "      <td>0.429975</td>\n",
       "      <td>0.609213</td>\n",
       "      <td>0.678356</td>\n",
       "      <td>0.771439</td>\n",
       "      <td>0.523093</td>\n",
       "    </tr>\n",
       "    <tr>\n",
       "      <th>4</th>\n",
       "      <td>0.521077</td>\n",
       "      <td>0.896724</td>\n",
       "      <td>0.376642</td>\n",
       "      <td>0.223296</td>\n",
       "      <td>0.146206</td>\n",
       "      <td>0.395175</td>\n",
       "    </tr>\n",
       "    <tr>\n",
       "      <th>5</th>\n",
       "      <td>0.007829</td>\n",
       "      <td>0.844818</td>\n",
       "      <td>0.029489</td>\n",
       "      <td>0.102308</td>\n",
       "      <td>0.248124</td>\n",
       "      <td>0.546993</td>\n",
       "    </tr>\n",
       "    <tr>\n",
       "      <th>6</th>\n",
       "      <td>0.800586</td>\n",
       "      <td>0.111206</td>\n",
       "      <td>0.380307</td>\n",
       "      <td>0.473572</td>\n",
       "      <td>0.128192</td>\n",
       "      <td>0.644951</td>\n",
       "    </tr>\n",
       "  </tbody>\n",
       "</table>\n",
       "</div>"
      ],
      "text/plain": [
       "   column_1  column_2  column_3  column_4  column_5  column_6\n",
       "1  0.173858  0.298349  0.317670  0.712406  0.504467  0.667339\n",
       "2  0.970471       str  0.481280  0.374075  0.039815  0.057211\n",
       "3  0.750839  0.429975  0.609213  0.678356  0.771439  0.523093\n",
       "4  0.521077  0.896724  0.376642  0.223296  0.146206  0.395175\n",
       "5  0.007829  0.844818  0.029489  0.102308  0.248124  0.546993\n",
       "6  0.800586  0.111206  0.380307  0.473572  0.128192  0.644951"
      ]
     },
     "execution_count": 19,
     "metadata": {},
     "output_type": "execute_result"
    }
   ],
   "source": [
    "df1"
   ]
  },
  {
   "cell_type": "code",
   "execution_count": 42,
   "metadata": {
    "tags": []
   },
   "outputs": [
    {
     "data": {
      "text/plain": [
       "0.40941161521827724"
      ]
     },
     "execution_count": 42,
     "metadata": {},
     "output_type": "execute_result"
    }
   ],
   "source": [
    "# Now calculating mean of 2nd Column\n",
    "st.mean(df1.column_2)"
   ]
  },
  {
   "cell_type": "markdown",
   "metadata": {},
   "source": [
    "### Yes, we got an \"Type Error\" because mean() is a method which is perfom on 'int' and 'float' values but after replacing a numerical value of column_2 by a string object, the whole column is not considered as a valid data for mean() method."
   ]
  },
  {
   "cell_type": "markdown",
   "metadata": {},
   "source": []
  },
  {
   "cell_type": "markdown",
   "metadata": {},
   "source": []
  },
  {
   "cell_type": "markdown",
   "metadata": {},
   "source": []
  },
  {
   "cell_type": "markdown",
   "metadata": {},
   "source": [
    "# 6\n",
    "### In pandas,a window function is a way to perform calculations on a set of rows from a DataFrame, where the calculations are performed over a sliding window of consecutive rows. This sliding window is defined by a group of rows, typically defined by a column, and a window size.\n",
    "### They are used to calculate moving averages, rolling sums, and other calculations that require looking at a sliding window of rows in a DataFrame.\n",
    "\n",
    "### Some common window functions are:\n",
    "### Rolling: The rolling function is used to create a rolling window object for a DataFrame. This function allows us to perform calculations on a sliding window of specified size, and the window can be either fixed or centered. Common calculations that can be performed with the rolling function include rolling mean, rolling sum, and rolling standard deviation.\n",
    "### Expanding: The expanding function is used to create an expanding window object for a DataFrame. This function allows us to perform calculations on a growing window of all the observations up to the current row. Common calculations that can be performed with the expanding function include expanding mean, expanding sum, and expanding standard deviation.\n",
    "### EWM (Exponentially Weighted Moving): The ewm function is used to create an exponentially weighted moving window object for a DataFrame. This function allows us to perform calculations on a sliding window of specified size, where the weights of the observations are exponentially decayed. Common calculations that can be performed with the ewm function include exponentially weighted moving average and exponentially weighted moving standard deviation."
   ]
  },
  {
   "cell_type": "markdown",
   "metadata": {},
   "source": []
  },
  {
   "cell_type": "markdown",
   "metadata": {},
   "source": []
  },
  {
   "cell_type": "markdown",
   "metadata": {},
   "source": []
  },
  {
   "cell_type": "markdown",
   "metadata": {},
   "source": [
    "# 7 \n",
    "### printing the current month and year "
   ]
  },
  {
   "cell_type": "code",
   "execution_count": 37,
   "metadata": {
    "tags": []
   },
   "outputs": [],
   "source": [
    "import time"
   ]
  },
  {
   "cell_type": "code",
   "execution_count": 38,
   "metadata": {},
   "outputs": [],
   "source": [
    "month_year = time.strftime(\"%m / %Y\",time.localtime())"
   ]
  },
  {
   "cell_type": "code",
   "execution_count": 39,
   "metadata": {
    "tags": []
   },
   "outputs": [
    {
     "name": "stdout",
     "output_type": "stream",
     "text": [
      "Current Month Year: 02 / 2023\n"
     ]
    }
   ],
   "source": [
    "print(f'Current Month Year: {month_year}')"
   ]
  },
  {
   "cell_type": "markdown",
   "metadata": {},
   "source": []
  },
  {
   "cell_type": "markdown",
   "metadata": {},
   "source": []
  },
  {
   "cell_type": "markdown",
   "metadata": {},
   "source": []
  },
  {
   "cell_type": "markdown",
   "metadata": {},
   "source": [
    "# 8\n",
    "### Write a Python program that takes in two dates as input (in the format YYYY-MM-DD) and calculates the difference between them in days, hours, and minutes using Pandas time delta. The program should prompt the user to enter the dates and display the result."
   ]
  },
  {
   "cell_type": "code",
   "execution_count": 85,
   "metadata": {},
   "outputs": [],
   "source": [
    "import pandas as pd\n",
    "from datetime import datetime , timedelta"
   ]
  },
  {
   "cell_type": "code",
   "execution_count": 100,
   "metadata": {},
   "outputs": [
    {
     "name": "stdout",
     "output_type": "stream",
     "text": [
      "Enter the dates in YYYY-MM-DD HH:mm:ss format\n"
     ]
    },
    {
     "name": "stdin",
     "output_type": "stream",
     "text": [
      "Enter start date:  2023-1-1 15:20:30\n",
      "Enter end date:  2023-2-25 1:15:20\n"
     ]
    },
    {
     "name": "stdout",
     "output_type": "stream",
     "text": [
      "Difference of the dates is: 54 days 09:54:50\n"
     ]
    }
   ],
   "source": [
    "print('Enter the dates in YYYY-MM-DD HH:mm:ss format')\n",
    "\n",
    "start = pd.to_datetime(input('Enter start date: '))  \n",
    "end = pd.to_datetime(input('Enter end date: '))\n",
    "\n",
    "print(f'Difference of the dates is: {end-start}')"
   ]
  },
  {
   "cell_type": "markdown",
   "metadata": {},
   "source": []
  },
  {
   "cell_type": "markdown",
   "metadata": {},
   "source": []
  },
  {
   "cell_type": "markdown",
   "metadata": {},
   "source": []
  },
  {
   "cell_type": "markdown",
   "metadata": {},
   "source": [
    "# 9"
   ]
  },
  {
   "cell_type": "code",
   "execution_count": null,
   "metadata": {
    "tags": []
   },
   "outputs": [],
   "source": [
    "import pandas as pd"
   ]
  },
  {
   "cell_type": "code",
   "execution_count": 13,
   "metadata": {
    "tags": []
   },
   "outputs": [
    {
     "name": "stdin",
     "output_type": "stream",
     "text": [
      "Enter the path of the file:  t20.csv\n"
     ]
    },
    {
     "name": "stdout",
     "output_type": "stream",
     "text": [
      "\n",
      "Columns: ['Player', 'Span', 'Mat', 'Inns', 'NO', 'Runs', 'HS', 'Ave', 'BF', 'SR', '100', '50', '0', '4s', '6s']\n",
      "\n"
     ]
    },
    {
     "name": "stdin",
     "output_type": "stream",
     "text": [
      "Enter the column name to categorize:  Span\n"
     ]
    },
    {
     "name": "stdout",
     "output_type": "stream",
     "text": [
      "\n",
      "1.count\t2.mean\t3.median\t4.std\t5.sum\n",
      "\n"
     ]
    },
    {
     "name": "stdin",
     "output_type": "stream",
     "text": [
      "Enter the category method no:  1\n"
     ]
    },
    {
     "name": "stdout",
     "output_type": "stream",
     "text": [
      "           Player  Mat  Inns   NO  Runs   HS  Ave   BF   SR  100   50    0  \\\n",
      "Span                                                                         \n",
      "2005-2006       6    6     6    6     6    6    6    6    6    6    6    6   \n",
      "2005-2007       5    5     5    5     5    5    5    5    5    5    5    5   \n",
      "2005-2008       2    2     2    2     2    2    2    2    2    2    2    2   \n",
      "2005-2009       3    3     3    3     3    3    3    3    3    3    3    3   \n",
      "2005-2010       5    5     5    5     5    5    5    5    5    5    5    5   \n",
      "...           ...  ...   ...  ...   ...  ...  ...  ...  ...  ...  ...  ...   \n",
      "2017-2018       6    6     6    6     6    6    6    6    6    6    6    6   \n",
      "2017-2019      18   18    18   18    18   18   18   18   18   18   18   18   \n",
      "2018-2018       6    6     6    6     6    6    6    6    6    6    6    6   \n",
      "2018-2019      26   26    26   26    26   26   26   26   26   26   26   26   \n",
      "2019-2019     378  378   378  378   378  378  378  378  378  378  378  378   \n",
      "\n",
      "            4s   6s  \n",
      "Span                 \n",
      "2005-2006    6    6  \n",
      "2005-2007    5    5  \n",
      "2005-2008    2    2  \n",
      "2005-2009    3    3  \n",
      "2005-2010    5    5  \n",
      "...        ...  ...  \n",
      "2017-2018    6    6  \n",
      "2017-2019   18   18  \n",
      "2018-2018    6    6  \n",
      "2018-2019   26   26  \n",
      "2019-2019  378  378  \n",
      "\n",
      "[108 rows x 14 columns]\n"
     ]
    }
   ],
   "source": [
    "path = input('Enter the path of the file: ')\n",
    "try:\n",
    "    df = pd.read_csv(path)\n",
    "except FileNotFoundError:\n",
    "    print('FileNotFound')    \n",
    "else:\n",
    "    print(f'\\nColumns: {list(df.columns)}\\n')    \n",
    "    try:            \n",
    "        column_name = input('Enter the column name to categorize: ')\n",
    "        if column_name not in df.columns:\n",
    "            raise ValueError\n",
    "    except ValueError:\n",
    "        print('ValueError')\n",
    "    else:\n",
    "        print('\\n1.count\\t2.mean\\t3.median\\t4.std\\t5.sum\\n')\n",
    "        category_type = int(input('Enter the category method no: '))\n",
    "        if category_type == 1:\n",
    "            print(df.groupby(column_name).count())\n",
    "        elif category_type == 2:\n",
    "            print(df.groupby(column_name).count())\n",
    "        elif category_type == 3:\n",
    "            print(df.groupby(column_name).count())\n",
    "        elif category_type == 4:\n",
    "            print(df.groupby(column_name).count())\n",
    "        elif category_type == 5:\n",
    "            print(df.groupby(column_name).count())\n",
    "        else:\n",
    "            print('Invalid method !')"
   ]
  },
  {
   "cell_type": "markdown",
   "metadata": {},
   "source": []
  },
  {
   "cell_type": "markdown",
   "metadata": {},
   "source": []
  },
  {
   "cell_type": "markdown",
   "metadata": {},
   "source": []
  },
  {
   "cell_type": "markdown",
   "metadata": {},
   "source": [
    "# 10"
   ]
  },
  {
   "cell_type": "code",
   "execution_count": 77,
   "metadata": {
    "tags": []
   },
   "outputs": [
    {
     "name": "stdin",
     "output_type": "stream",
     "text": [
      "Enter the path of the file:  sales.csv\n"
     ]
    },
    {
     "data": {
      "text/plain": [
       "<Axes: >"
      ]
     },
     "execution_count": 77,
     "metadata": {},
     "output_type": "execute_result"
    },
    {
     "data": {
      "image/png": "[encoded data removed]",
      "text/plain": [
       "<Figure size 640x480 with 1 Axes>"
      ]
     },
     "metadata": {},
     "output_type": "display_data"
    }
   ],
   "source": [
    "import pandas as pd\n",
    "path = input('Enter the path of the file: ')\n",
    "df = pd.read_csv(path)\n",
    "df.plot(kind= 'bar',stacked = True)"
   ]
  },
  {
   "cell_type": "markdown",
   "metadata": {},
   "source": []
  },
  {
   "cell_type": "markdown",
   "metadata": {},
   "source": []
  },
  {
   "cell_type": "markdown",
   "metadata": {},
   "source": []
  },
  {
   "cell_type": "markdown",
   "metadata": {},
   "source": []
  },
  {
   "cell_type": "markdown",
   "metadata": {},
   "source": []
  },
  {
   "cell_type": "markdown",
   "metadata": {},
   "source": []
  },
  {
   "cell_type": "markdown",
   "metadata": {},
   "source": [
    "# 11"
   ]
  },
  {
   "cell_type": "code",
   "execution_count": 153,
   "metadata": {},
   "outputs": [
    {
     "name": "stdin",
     "output_type": "stream",
     "text": [
      "Enter the path of the file:  student_data.csv\n"
     ]
    },
    {
     "name": "stdout",
     "output_type": "stream",
     "text": [
      "   Student ID  Test Score\n",
      "0           1          85\n",
      "1           2          90\n",
      "2           3          80\n",
      "3           4          75\n",
      "4           5          85\n",
      "5           6          82\n",
      "6           7          78\n",
      "7           8          85\n",
      "8           9          90\n",
      "9          10          85\n",
      "\n",
      "   Statistics  Values\n",
      "0       Mean    83.5\n",
      "1     Median    85.0\n",
      "2       Mode    85.0\n"
     ]
    }
   ],
   "source": [
    "path = input('Enter the path of the file: ')\n",
    "try:\n",
    "    df = pd.read_csv(path)\n",
    "    print(df)\n",
    "except FileNotFoundError:\n",
    "    print('File not Found')\n",
    "else:\n",
    "    Mean = df['Test Score'].mean()\n",
    "    Median = df['Test Score'].median()\n",
    "    Mode = int(df['Test Score'].mode())\n",
    "    print('\\n',pd.DataFrame({'Statistics':['Mean','Median','Mode'],'Values':[Mean,Median,Mode]}))    "
   ]
  }
 ],
 "metadata": {
  "kernelspec": {
   "display_name": "Python 3 (ipykernel)",
   "language": "python",
   "name": "python3"
  },
  "language_info": {
   "codemirror_mode": {
    "name": "ipython",
    "version": 3
   },
   "file_extension": ".py",
   "mimetype": "text/x-python",
   "name": "python",
   "nbconvert_exporter": "python",
   "pygments_lexer": "ipython3",
   "version": "3.10.4"
  },
  "vscode": {
   "interpreter": {
    "hash": "3ad933181bd8a04b432d3370b9dc3b0662ad032c4dfaa4e4f1596c548f763858"
   }
  }
 },
 "nbformat": 4,
 "nbformat_minor": 4
}
