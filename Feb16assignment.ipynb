{
 "cells": [
  {
   "attachments": {},
   "cell_type": "markdown",
   "id": "20e24b97-8aa6-4370-8764-6ce560eca679",
   "metadata": {},
   "source": [
    "# 1\n",
    "### DATABASE:\n",
    "#### A database is a collection of data that is organized and strored in a system.Databases are used to store large amount of informantion and allow users to easily access and modify the data.\n",
    "### SQL:\n",
    "#### Structered Query Language is a type of RDBMS (Relational Database Management System) that uses tables having rows and columsn to store data.\n",
    "### NoSQL:\n",
    "#### Not only SQL is a type of unstructured non - RDBMS that does not use tables having rows and columns to store data.It uses document-based, key-value, graph-based, or column-family, data models to store data."
   ]
  },
  {
   "cell_type": "markdown",
   "id": "32a004ad-49c1-4111-95d4-7906ef7bcc42",
   "metadata": {},
   "source": []
  },
  {
   "cell_type": "markdown",
   "id": "b7f55eaa",
   "metadata": {},
   "source": []
  },
  {
   "attachments": {},
   "cell_type": "markdown",
   "id": "a407b9ca-669b-499e-b02d-0470773068e0",
   "metadata": {},
   "source": [
    "# 2\n",
    "### DDL: Data Definition Language\n",
    "#### It is a set of SQL commands used to define and modify the structe of database columns.Some commands of DDL are CREATE, ALTER, DROP, TRUNCATE etc..."
   ]
  },
  {
   "cell_type": "markdown",
   "id": "8ad80f9a-af3a-4a28-a653-3cf2d02f6303",
   "metadata": {},
   "source": [
    "### CREATE\n",
    "#### This command is used for creation of tables inside our databases. Eg;\n",
    "#### CREATE TABLE table_name (col1 datatype , col2 datatype , col3 datatype ...);"
   ]
  },
  {
   "cell_type": "markdown",
   "id": "eed9420c-df0f-4b56-92b7-d2cef2cfd960",
   "metadata": {},
   "source": [
    "### ALTER\n",
    "#### This command is used for modifying database objects, This can be used to add or delete columns,change columsn datatypes. Eg;\n",
    "#### ALTER TABLE table_name ADD COLUMN column_name datatype;\n",
    "#### ALTER TABLE table_name MODIFY COLUMN column_name datatype;"
   ]
  },
  {
   "cell_type": "markdown",
   "id": "8792a258-4e05-49a7-9484-fa222eee8b04",
   "metadata": {},
   "source": [
    "### DROP\n",
    "#### This command is used for deletion of database as well as tables or columns. Eg;\n",
    "#### DROP DATABASE database_name;\n",
    "#### DROP TABLE table_name;\n",
    "#### ALTER TABLE table_name DROP COLUMN column_name;"
   ]
  },
  {
   "cell_type": "markdown",
   "id": "929d2f07-a93d-426b-8cbf-f1adddcae106",
   "metadata": {},
   "source": [
    "### TRUNCATE\n",
    "#### This command is used for clean up all the data stored but the structure of table is unchanged. Eg;\n",
    "#### TRUNCATE TABLE table_name;"
   ]
  },
  {
   "cell_type": "markdown",
   "id": "bb09f090-902c-49ac-a2a2-174c42977175",
   "metadata": {},
   "source": []
  },
  {
   "cell_type": "markdown",
   "id": "8da2a570",
   "metadata": {},
   "source": []
  },
  {
   "cell_type": "markdown",
   "id": "1504caef-9ee3-47a1-a087-d4bcc4dd0e6c",
   "metadata": {},
   "source": [
    "# 3\n",
    "### DML: Data Manipulation Language\n",
    "#### It is a set of SQL commands used to manipulate the table data.Commands of DML are INSERT, UPDATE, DELETE."
   ]
  },
  {
   "cell_type": "markdown",
   "id": "28ba56a1-bf52-432e-bace-b08029ef0b17",
   "metadata": {},
   "source": [
    "### INSERT:\n",
    "### It is used to insert the data in tables Eg;\n",
    "#### INSERT INTO  table_name (col1, col2, col3 ...) VALUES (value1, value2, value3 ...);"
   ]
  },
  {
   "cell_type": "markdown",
   "id": "1f08fda9-9b64-4677-adb4-44752a05a7cc",
   "metadata": {},
   "source": [
    "### UPDATE:\n",
    "### It is used to update the existing data in tables Eg;\n",
    "#### UPDATE table_name SET column_name = new_data WHERE condition;"
   ]
  },
  {
   "cell_type": "markdown",
   "id": "bfde2680-96fb-462c-96f9-15d3de50e479",
   "metadata": {},
   "source": [
    "### DELETE:\n",
    "### It is used to delete the data from the tables Eg;\n",
    "#### DELETE FROM table_name WHERE condition;"
   ]
  },
  {
   "cell_type": "markdown",
   "id": "b967c493-d33c-4759-8841-1a97f993e326",
   "metadata": {},
   "source": []
  },
  {
   "cell_type": "markdown",
   "id": "3226b652",
   "metadata": {},
   "source": []
  },
  {
   "cell_type": "markdown",
   "id": "ab54acf0-432e-440d-96c7-d3d83ddba703",
   "metadata": {},
   "source": [
    "# 4\n",
    "### DQL: Data Query Language\n",
    "#### It is used to retrieve data from the table. It consists of SELECT, WHERE, GROUP BY , ORDER BY etc... "
   ]
  },
  {
   "attachments": {},
   "cell_type": "markdown",
   "id": "2d8f8da2-d88e-4446-90c8-22cbf57b3afc",
   "metadata": {},
   "source": [
    "#### SELECT:\n",
    "##### It is used to extract the data from the table. Eg;\n",
    "##### SELECT (col1,col2...) FROM table_name;\n",
    "##### SELECT  *  FROM table_name; This will show all columns of the table"
   ]
  },
  {
   "cell_type": "markdown",
   "id": "5444a9e7-3d96-462b-9c23-e9a0f7220cde",
   "metadata": {},
   "source": []
  },
  {
   "cell_type": "markdown",
   "id": "c9d9a802",
   "metadata": {},
   "source": []
  },
  {
   "cell_type": "markdown",
   "id": "462e63fa-f815-4da8-9027-548d9f77d414",
   "metadata": {},
   "source": [
    "# 5"
   ]
  },
  {
   "cell_type": "markdown",
   "id": "ac79aa04-5991-4d0a-9d06-ec790e53d72f",
   "metadata": {},
   "source": [
    "### PRIMARY KEY\n",
    "#### A primary key is a field in a table which identifies each recored in the table. It must be unique value and NOT NULL for each record. Eg;\n",
    "##### CREATE TABLE employee ( e_id INT PRIMARY KEY NOT NULL, name VARHCAR(20) , salary INT );"
   ]
  },
  {
   "cell_type": "markdown",
   "id": "803cd159-ba2f-4fbe-b0e1-079e5eeb3754",
   "metadata": {},
   "source": [
    "### FOREIGN KEY\n",
    "#### A foreign key is a field in a table that refers to the primary key for the another table.The concept of foreign key comes in existance for establishing a relation between two tables. Eg;\n",
    "##### CREATE TABLE employee ( e_id INT PRIMARY KEY NOT NULL, naME VARHCAR(20) , salary INT , department_id INT FOREIGN KEY );"
   ]
  },
  {
   "cell_type": "markdown",
   "id": "8f3d1112",
   "metadata": {},
   "source": []
  },
  {
   "cell_type": "markdown",
   "id": "6245b8f4",
   "metadata": {},
   "source": []
  },
  {
   "attachments": {},
   "cell_type": "markdown",
   "id": "bfc9d469-649b-43c9-865c-b9c487fc2989",
   "metadata": {},
   "source": [
    "# 6\n",
    "\n",
    "#### Code for connecting MySQL to python"
   ]
  },
  {
   "cell_type": "code",
   "execution_count": null,
   "id": "056de78f",
   "metadata": {},
   "outputs": [],
   "source": [
    "import mysql.connector\n",
    "mydb = mysql.connector.connect(host= 'localhost',user = 'root',password = 'password')"
   ]
  },
  {
   "attachments": {},
   "cell_type": "markdown",
   "id": "bd6db686-e953-4d69-85a8-c53ecb424a7c",
   "metadata": {},
   "source": [
    "#### cursor(): This method is used to create a cursor object, which is used to execute SQL queries and retrieve results from the database. The cursor is associated with a database connection and allows you to execute multiple SQL queries using the same connection."
   ]
  },
  {
   "attachments": {},
   "cell_type": "markdown",
   "id": "3ab20814",
   "metadata": {},
   "source": [
    "#### execute():This method is used to execute an SQL queries. The method takes the SQL queries as a parameter and returns a cursor object that can be used to retrieve the results of the query."
   ]
  },
  {
   "cell_type": "markdown",
   "id": "7aee3b3b",
   "metadata": {},
   "source": []
  },
  {
   "cell_type": "markdown",
   "id": "2e2c86ed",
   "metadata": {},
   "source": []
  },
  {
   "cell_type": "markdown",
   "id": "836a83eb-bc85-41a3-b728-6942e5f2e72d",
   "metadata": {},
   "source": [
    "# 7\n",
    "### In SQL, the order of execution of clauses within a query is generally as follows:"
   ]
  },
  {
   "cell_type": "markdown",
   "id": "835831b1-3557-4fbe-9edd-ec1718d3c300",
   "metadata": {},
   "source": [
    "#### 1.FROM : The FROM clause specifies the table(s) from which data will be retrieved.\n",
    "\n",
    "#### 2.JOIN : The JOIN clause is used to combine data from multiple tables based on a specified join condition."
   ]
  },
  {
   "cell_type": "markdown",
   "id": "a61722d5-168a-4a62-9c2a-2bef764b3f48",
   "metadata": {},
   "source": [
    "#### 3.WHERE : The WHERE clause is used to filter the data based on a specified condition.\n",
    "\n",
    "#### 4.GROUP BY : The GROUP BY clause is used to group the data based on one or more columns."
   ]
  },
  {
   "cell_type": "markdown",
   "id": "5df34e48-90d1-4680-8e76-eb3c980bde39",
   "metadata": {},
   "source": [
    "#### 5.HAVING: The HAVING clause is used to filter the grouped data based on a specified condition.\n",
    "\n",
    "#### 6.SELECT: The SELECT clause is used to select the columns to be displayed in the output."
   ]
  },
  {
   "cell_type": "markdown",
   "id": "f0fa2349-204b-4034-8515-8d24a0f13313",
   "metadata": {},
   "source": [
    "#### 7.DISTINCT: The DISTINCT clause is used to remove duplicate rows from the output.\n",
    "\n",
    "#### 8.ORDER BY: The ORDER BY clause is used to sort the output based on one or more columns.\n",
    "\n",
    "#### 9.LIMIT : The LIMIT clause is used to limit the number of rows returned by the query."
   ]
  },
  {
   "cell_type": "markdown",
   "id": "a54fc5de-734f-44c3-9e3b-747c1d0b9127",
   "metadata": {},
   "source": [
    "### The order of ececution may be vary but this order is best practice for writing a SQL queries"
   ]
  }
 ],
 "metadata": {
  "kernelspec": {
   "display_name": "Python 3",
   "language": "python",
   "name": "python3"
  },
  "language_info": {
   "codemirror_mode": {
    "name": "ipython",
    "version": 3
   },
   "file_extension": ".py",
   "mimetype": "text/x-python",
   "name": "python",
   "nbconvert_exporter": "python",
   "pygments_lexer": "ipython3",
   "version": "3.11.1"
  },
  "vscode": {
   "interpreter": {
    "hash": "60604c6687abd3d44db2988d94478afd71bdd2eba4a4e06208197b7b67afacd2"
   }
  }
 },
 "nbformat": 4,
 "nbformat_minor": 5
}
