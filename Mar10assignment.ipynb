{
 "cells": [
  {
   "cell_type": "markdown",
   "id": "8774273d-b39b-4443-973d-3aebd0eb1f2a",
   "metadata": {
    "tags": []
   },
   "source": [
    "# Q1: What is Estimation Statistics? Explain point estimate and interval estimate.\n",
    "## Estimation statistics is a branch of inferential statistics that involves using sample data to make inferences about population parameters. In estimation statistics, we use statistical methods to estimate the value of a population parameter (such as the mean, proportion, or standard deviation) based on information provided by a sample.\n",
    "\n",
    "### There are two types of estimates in estimation statistics: point estimates and interval estimates.\n",
    "\n",
    "### 1. A point estimate is a single value that is used to estimate the value of an unknown population parameter. For example, if we want to estimate the mean weight of all newborn babies born in a particular hospital, we might take a sample of 100 newborns and calculate the sample mean weight. This sample mean weight would be the point estimate of the population mean weight.\n",
    "\n",
    "### 2. An interval estimate, on the other hand, is a range of values that is used to estimate the value of an unknown population parameter. For example, if we want to estimate the mean height of all adult males in a particular city, we might take a sample of 200 adult males and calculate the sample mean height, along with a margin of error. This margin of error would be used to create an interval estimate, which would consist of a range of values that we are confident contains the true population mean height. This range is called a confidence interval.\n",
    "\n",
    "### The width of the interval estimate depends on the level of confidence we desire. The most common level of confidence is 95%, which means that we are 95% confident that the true population parameter falls within our interval estimate. The level of confidence can be adjusted, but increasing the level of confidence will widen the interval estimate and decrease the precision of the estimate."
   ]
  },
  {
   "cell_type": "markdown",
   "id": "87f9744a-fb32-4540-b693-92e1c67e772c",
   "metadata": {},
   "source": []
  },
  {
   "cell_type": "markdown",
   "id": "3d1650ee-92b8-4dbf-8fa2-0b9d0c18d8b2",
   "metadata": {},
   "source": []
  },
  {
   "cell_type": "markdown",
   "id": "1fe02035-55f2-493f-bf20-ae3cf0a57bae",
   "metadata": {},
   "source": []
  },
  {
   "cell_type": "markdown",
   "id": "74d1eb0e-c500-4a70-b616-d3544428d5df",
   "metadata": {},
   "source": []
  },
  {
   "cell_type": "markdown",
   "id": "a8de8b82-b5a2-41ca-b0c6-27838aba8c40",
   "metadata": {},
   "source": [
    "# Q2. Write a Python function to estimate the population mean using a sample mean and standard deviation."
   ]
  },
  {
   "cell_type": "code",
   "execution_count": 127,
   "id": "9d3d0cd2-1442-4407-bdbb-9e2cc7b1f3ff",
   "metadata": {
    "tags": []
   },
   "outputs": [],
   "source": [
    "import math\n",
    "from scipy.stats import t\n",
    "\n",
    "def estimate_population_mean(sample_mean, sample_std, sample_size, alpha=0.05):\n",
    "    \n",
    "    moe = 1.96 * sample_std / math.sqrt(sample_size)  # margin of error\n",
    "    lower = sample_mean - moe  # lower bound of confidence interval\n",
    "    upper = sample_mean + moe  # upper bound of confidence interval\n",
    "    \n",
    "    return lower, upper"
   ]
  },
  {
   "cell_type": "code",
   "execution_count": 128,
   "id": "507b2311-45d8-41bc-bf4a-5df6dea049b6",
   "metadata": {
    "tags": []
   },
   "outputs": [
    {
     "name": "stdout",
     "output_type": "stream",
     "text": [
      "The population mean lies between 46.90 and 53.10\n"
     ]
    }
   ],
   "source": [
    "lower_bound,upper_bound = estimate_population_mean(50,10,40)\n",
    "print(f'The population mean lies between {lower_bound:.2f} and {upper_bound:.2f}')"
   ]
  },
  {
   "cell_type": "markdown",
   "id": "f935eacd-e566-4057-9d5a-630e68f4f9e9",
   "metadata": {},
   "source": []
  },
  {
   "cell_type": "markdown",
   "id": "58357b7c-f20b-437a-b19d-984e5bc7b703",
   "metadata": {},
   "source": []
  },
  {
   "cell_type": "markdown",
   "id": "e638b5ca-1240-4b9c-b16c-7a4eb5e9eaa8",
   "metadata": {},
   "source": []
  },
  {
   "cell_type": "markdown",
   "id": "03d33fbf-67e9-46a7-b867-6afa8249ce24",
   "metadata": {},
   "source": []
  },
  {
   "cell_type": "markdown",
   "id": "5bbaed12-436f-48c4-8764-2fa766a320cb",
   "metadata": {},
   "source": [
    "# Q3: What is Hypothesis testing? Why is it used? State the importance of Hypothesis testing.\n",
    "## Hypothesis testing is a statistical method used to make decisions about population parameters based on sample data. In hypothesis testing, we start by assuming a null hypothesis, which is a statement about the population parameter that we want to test. We then collect sample data and calculate a test statistic, which is a measure of how different the sample data is from what we would expect if the null hypothesis were true. We use the test statistic and the known distribution of the statistic (under the null hypothesis) to calculate a p-value, which is the probability of observing a test statistic as extreme as the one we calculated, assuming the null hypothesis is true. If the p-value is less than a chosen level of significance (usually 0.05 or 0.01), we reject the null hypothesis and conclude that there is evidence to support an alternative hypothesis.\n",
    "\n",
    "## Hypothesis testing is used to determine whether a difference or relationship observed in a sample is likely to be a real effect in the population, or whether it could have occurred by chance. It is commonly used in scientific research, quality control, and business decision-making to draw conclusions from sample data and make informed decisions. Some common examples of hypothesis testing in practice include:\n",
    "\n",
    "### Testing the effectiveness of a new drug or treatment by comparing it to a placebo or existing treatment.\n",
    "### Testing whether a production process is in control by comparing the output of a sample of products to a set of specifications.\n",
    "### Testing whether two groups (such as men and women) differ significantly in their performance on a particular task.\n",
    "### Testing whether a marketing campaign had a significant effect on sales.\n",
    "### The importance of hypothesis testing lies in its ability to provide a structured approach for making decisions based on data. By setting up a null hypothesis and alternative hypothesis, we can systematically evaluate the evidence in favor of or against the null hypothesis, and make decisions with a quantifiable level of confidence. This helps to ensure that decisions are based on sound statistical reasoning, rather than intuition or personal biases. Hypothesis testing also provides a way to communicate our findings and conclusions to others, by reporting the p-value and the decision based on that value."
   ]
  },
  {
   "cell_type": "markdown",
   "id": "58c0356d-00f0-4bef-8527-959f5e2c47e4",
   "metadata": {},
   "source": []
  },
  {
   "cell_type": "markdown",
   "id": "40f92655-4ac3-4367-9df1-12e235fae6a3",
   "metadata": {},
   "source": []
  },
  {
   "cell_type": "markdown",
   "id": "a0e96d71-d988-4cd8-8fbf-1c51b07903fc",
   "metadata": {},
   "source": []
  },
  {
   "cell_type": "markdown",
   "id": "05e4f9c8-d078-41ea-bf99-2f2062d4e463",
   "metadata": {},
   "source": []
  },
  {
   "cell_type": "markdown",
   "id": "5ebc475e-9480-4a35-81e8-c06be41129b8",
   "metadata": {
    "tags": []
   },
   "source": [
    "# Q4. Create a hypothesis that states whether the average weight of male college students is greater than the average weight of female college students.\n",
    "## Here's a hypothesis that compares the average weight of male and female college students:\n",
    "\n",
    "## Null hypothesis: \n",
    "### H0: μ_male = μ_female\n",
    "## Alternative hypothesis: \n",
    "### Ha: μ_male > μ_female\n",
    "\n",
    "#### where H0 is the null hypothesis, Ha is the alternative hypothesis, μ_male is the population mean weight of male college students, and μ_female is the population mean weight of female college students.\n",
    "\n",
    "### We can use hypothesis testing to evaluate this hypothesis by collecting a random sample of male and female college students, measuring their weights, and calculating the sample means and standard deviations. We can then use a t-test or z-test to calculate a test statistic and p-value, and make a decision based on the level of significance and directionality of the test."
   ]
  },
  {
   "cell_type": "markdown",
   "id": "93bb0556-75cf-4804-94ee-f28032a09d8d",
   "metadata": {},
   "source": []
  },
  {
   "cell_type": "markdown",
   "id": "93ed46f5-e549-47a7-ae9c-ab1672591478",
   "metadata": {},
   "source": []
  },
  {
   "cell_type": "markdown",
   "id": "f21f925b-3fe1-4bf6-ba8f-293cad9240c9",
   "metadata": {},
   "source": []
  },
  {
   "cell_type": "markdown",
   "id": "e2c77723-172d-40e4-b8e3-755ad357541c",
   "metadata": {},
   "source": []
  },
  {
   "cell_type": "markdown",
   "id": "33cc48d6-0d2e-44a9-884b-bcf2a854ebc5",
   "metadata": {},
   "source": [
    "# Q5. Write a Python script to conduct a hypothesis test on the difference between two population means, given a sample from each population.\n",
    "\n",
    "## Hypothesis test on the difference between two population means given a sample from each population. Here's a step-by-step guide to conducting the test:\n",
    "## Step 1: State the null hypothesis (H0) and alternative hypothesis (Ha)\n",
    "#### The null hypothesis is typically that there is no significant difference between the two population means.\n",
    "#### The alternative hypothesis is that there is a significant difference between the two population means.\n",
    "\n",
    "## Step 2: Determine the level of significance (α)\n",
    "\n",
    "#### This is the probability of rejecting the null hypothesis when it is actually true. A common value for α is 0.05.\n",
    "## Step 3: Select the appropriate test statistic and distribution\n",
    "\n",
    "#### The appropriate test statistic for this situation is the t-test, assuming the samples are independent and have unequal variances.\n",
    "#### The t-test follows a t-distribution with n1 + n2 - 2 degrees of freedom, where n1 and n2 are the sample sizes.\n",
    "## Step 4: Calculate the test statistic\n",
    "\n",
    "#### Calculate the t-value using the formula:\n",
    "#### t = (x̄1 - x̄2) / (SP * sqrt(1/n1 + 1/n2))\n",
    "#### where x̄1 and x̄2 are the sample means, n1 and n2 are the sample sizes, and SP is the pooled standard deviation calculated as:\n",
    "#### SP = sqrt(((n1-1)*s1^2 + (n2-1)*s2^2) / (n1+n2-2))\n",
    "#### where s1 and s2 are the sample standard deviations.\n",
    "## Step 5: Determine the critical value and p-value\n",
    "#### Determine the critical value for the test by looking up the t-value in a t-table with n1 + n2 - 2 degrees of freedom and α/2 as the tail probability.\n",
    "#### Calculate the p-value, which is the probability of obtaining a test statistic as extreme or more extreme than the observed t-value, assuming the null hypothesis is true. This can be done using a t-distribution table or a statistical software.\n",
    "## Step 6: Make a decision and interpret the results\n",
    "\n",
    "#### If the calculated t-value is greater than the critical value or the p-value is less than α, then reject the null hypothesis and conclude that there is a significant difference between the two population means.\n",
    "#### If the calculated t-value is less than the critical value or the p-value is greater than α, then fail to reject the null hypothesis and conclude that there is not enough evidence to suggest a significant difference between the two population means."
   ]
  },
  {
   "cell_type": "markdown",
   "id": "ec236020-1173-4a62-92e1-0143cc3b7d31",
   "metadata": {},
   "source": [
    "## Python Script\n",
    "\n",
    "### Null Hypothesis: H0 = mu1 = mu2\n",
    "### Alternate Hypotheses: Ha = mu1 != mu2"
   ]
  },
  {
   "cell_type": "code",
   "execution_count": 3,
   "id": "1d5bfe77-17c8-4923-9b0b-46fd150c15d1",
   "metadata": {
    "tags": []
   },
   "outputs": [
    {
     "name": "stdout",
     "output_type": "stream",
     "text": [
      "t-statistic: -1.8973665961010275\n",
      "p-value: 0.09434977284243756\n",
      "Fail to reject the null hypothesis\n"
     ]
    }
   ],
   "source": [
    "from scipy.stats import ttest_ind\n",
    "\n",
    "# sample from population 1\n",
    "sample1 = [1, 2, 3, 4, 5]\n",
    "\n",
    "# sample from population 2\n",
    "sample2 = [2, 4, 6, 8, 10]\n",
    "\n",
    "# conduct two-sample t-test\n",
    "t_stat, p_value = ttest_ind(sample1, sample2) # Calculate the T-test for the means of *two independent* samples of scores.\n",
    "\n",
    "# print results\n",
    "print('t-statistic:', t_stat)\n",
    "print('p-value:', p_value)\n",
    "\n",
    "# set significance level\n",
    "significance_level = 0.05\n",
    "\n",
    "# conduct hypothesis test\n",
    "if p_value < significance_level:\n",
    "    print('Reject the null hypothesis')\n",
    "else:\n",
    "    print('Fail to reject the null hypothesis')"
   ]
  },
  {
   "cell_type": "markdown",
   "id": "6dc59f58-0094-4cf3-9506-09b09b3d7cc0",
   "metadata": {},
   "source": []
  },
  {
   "cell_type": "markdown",
   "id": "cda6ec31-4f32-43ab-a720-f063d3cf62c6",
   "metadata": {},
   "source": []
  },
  {
   "cell_type": "markdown",
   "id": "4082c014-6afc-47e7-9157-32804a4d4104",
   "metadata": {},
   "source": []
  },
  {
   "cell_type": "markdown",
   "id": "c01931f5-66ee-4557-b247-e414f9a2210d",
   "metadata": {},
   "source": []
  },
  {
   "cell_type": "markdown",
   "id": "b957e660-75d2-4cf8-873b-72b8337e9ef5",
   "metadata": {},
   "source": [
    "# Q6: What is a null and alternative hypothesis? Give some examples.\n",
    "## A null hypothesis and alternative hypothesis are statements about the population parameters that we want to test using statistical methods such as hypothesis testing. The null hypothesis typically represents a default position or assumption, while the alternative hypothesis represents a deviation from that position.\n",
    "\n",
    "## The null hypothesis (H0) is the statement that there is no significant difference between a parameter and a specified value or between two parameters. It is usually written as an equality statement, such as \"the mean is equal to a specific value\" or \"the proportion is equal to a specific value.\" The null hypothesis is assumed to be true until there is sufficient evidence to reject it.\n",
    "\n",
    "## The alternative hypothesis (Ha) is the statement that contradicts the null hypothesis and represents a deviation from the default position. It is usually written as an inequality statement, such as \"the mean is greater than a specific value\" or \"the proportion is less than a specific value.\" The alternative hypothesis is what we want to prove if we reject the null hypothesis.\n",
    "\n",
    "### Here are some examples of null and alternative hypotheses:\n",
    "\n",
    "### 1.Null hypothesis: The average lifespan of a particular breed of dog is 12 years.\n",
    "### Alternative hypothesis: The average lifespan of a particular breed of dog is greater than 12 years.\n",
    "\n",
    "### 2.Null hypothesis: The proportion of students who pass a test is 70%.\n",
    "### Alternative hypothesis: The proportion of students who pass a test is less than 70%.\n",
    "\n",
    "### 3.Null hypothesis: The mean weight of a product is 10 pounds.\n",
    "### Alternative hypothesis: The mean weight of a product is not equal to 10 pounds.\n",
    "\n",
    "### 4.Null hypothesis: The correlation between two variables is zero.\n",
    "### Alternative hypothesis: The correlation between two variables is not equal to zero.\n",
    "\n",
    "### 5.Null hypothesis: The percentage of customers who buy a product is 20%.\n",
    "### Alternative hypothesis: The percentage of customers who buy a product is greater than 20%."
   ]
  },
  {
   "cell_type": "markdown",
   "id": "4c3dc7b9-4131-45a2-ad2f-85c85f6bc599",
   "metadata": {},
   "source": []
  },
  {
   "cell_type": "markdown",
   "id": "1fa7a8d8-bc89-4c90-9fad-3ff7def8007f",
   "metadata": {},
   "source": []
  },
  {
   "cell_type": "markdown",
   "id": "fde2f4e4-fa55-4773-800e-70380dc494a9",
   "metadata": {},
   "source": []
  },
  {
   "cell_type": "markdown",
   "id": "3e2ec901-ae51-4de0-ac6a-446df33d144e",
   "metadata": {},
   "source": []
  },
  {
   "cell_type": "markdown",
   "id": "80d142c8-e977-488e-adfe-8082d498300a",
   "metadata": {},
   "source": [
    "# Q7: Write down the steps involved in hypothesis testing.\n",
    "## Here are the steps involved in hypothesis testing:\n",
    "\n",
    "### 1.State the null and alternative hypotheses: Formulate the null and alternative hypotheses based on the research question and the data being analyzed. The null hypothesis is usually a statement of no effect or no difference, while the alternative hypothesis is the statement we want to test.\n",
    "\n",
    "### 2.Determine the level of significance: Choose the level of significance (α), which is the probability of making a Type I error, or rejecting the null hypothesis when it is actually true. Common values for α are 0.05 and 0.01.\n",
    "\n",
    "### 3.Choose the appropriate test statistic: Select the appropriate test statistic based on the type of data being analyzed, the sample size, and the distribution of the population.\n",
    "\n",
    "### 4.Determine the critical value or p-value: Use the chosen test statistic and the null hypothesis to determine the critical value or p-value that corresponds to the level of significance and the directionality of the test.\n",
    "\n",
    "### 5.Collect the sample data: Collect the sample data and calculate the test statistic.\n",
    "\n",
    "### 6.Make a decision: Compare the calculated test statistic to the critical value or p-value and make a decision based on the level of significance and the directionality of the test. If the calculated test statistic falls within the critical region or the p-value is less than the level of significance, reject the null hypothesis; otherwise, fail to reject the null hypothesis.\n",
    "\n",
    "### 7.Interpret the results: Interpret the results of the hypothesis test in the context of the research question and the data being analyzed. State the conclusion and any implications for further research or decision-making."
   ]
  },
  {
   "cell_type": "markdown",
   "id": "baee4294-88a5-438d-8ddb-d16b0504fe1b",
   "metadata": {},
   "source": []
  },
  {
   "cell_type": "markdown",
   "id": "132dce36-d728-4dc9-b4b5-8a35ab75f074",
   "metadata": {},
   "source": []
  },
  {
   "cell_type": "markdown",
   "id": "5a85172b-7716-4e77-8d36-b68c4e482f3b",
   "metadata": {},
   "source": []
  },
  {
   "cell_type": "markdown",
   "id": "f0574155-b846-411d-918b-5d42ad8347cd",
   "metadata": {},
   "source": []
  },
  {
   "cell_type": "markdown",
   "id": "40fd9ac8-9018-4c78-a9a5-475301eafca0",
   "metadata": {},
   "source": [
    "# Q8. Define p-value and explain its significance in hypothesis testing.\n",
    "## In hypothesis testing, the p-value is the probability of obtaining a test statistic at least as extreme as the one observed, assuming the null hypothesis is true. It measures the strength of evidence against the null hypothesis and indicates how likely it is that the observed result is due to chance.\n",
    "\n",
    "## The p-value is compared to the level of significance (α) to make a decision about the null hypothesis. If the p-value is less than or equal to α, the result is statistically significant, and we reject the null hypothesis in favor of the alternative hypothesis. If the p-value is greater than α, the result is not statistically significant, and we fail to reject the null hypothesis.\n",
    "\n",
    "## A low p-value indicates that the observed result is unlikely to be due to chance, and there is strong evidence against the null hypothesis. A high p-value suggests that the observed result is consistent with the null hypothesis, and there is not enough evidence to reject it.\n",
    "\n",
    "## The significance of the p-value in hypothesis testing is that it provides a way to quantify the strength of evidence against the null hypothesis and make a decision based on statistical inference. It allows us to test whether an observed effect is real or simply due to random variation in the data. A small p-value indicates that the observed effect is unlikely to be due to chance, and we can conclude that there is a real difference or association in the population. On the other hand, a large p-value suggests that the observed effect is likely due to chance, and we cannot conclude that there is a real difference or association in the population."
   ]
  },
  {
   "cell_type": "markdown",
   "id": "135e4c44-ce3d-461b-8923-3d376ae8d935",
   "metadata": {},
   "source": []
  },
  {
   "cell_type": "markdown",
   "id": "2a9e94b4-3aae-47e5-942e-fe829388d1bf",
   "metadata": {},
   "source": []
  },
  {
   "cell_type": "markdown",
   "id": "3dcdf29d-ea8b-41a4-b386-b4d416f76e84",
   "metadata": {},
   "source": []
  },
  {
   "cell_type": "markdown",
   "id": "148141bc-72b3-43cc-9fc5-25d4b36cfec5",
   "metadata": {},
   "source": []
  },
  {
   "cell_type": "markdown",
   "id": "cb9ed6a9-0f8c-4f9d-9b75-9d775bc6fbea",
   "metadata": {},
   "source": [
    "# Q9. Generate a Student's t-distribution plot using Python's matplotlib library, with the degrees of freedom parameter set to 10."
   ]
  },
  {
   "cell_type": "code",
   "execution_count": 57,
   "id": "a349e14e-edfb-4fbf-80df-48062104cd00",
   "metadata": {
    "tags": []
   },
   "outputs": [
    {
     "data": {
      "image/png": "[encoded data removed]",
      "text/plain": [
       "<Figure size 640x480 with 1 Axes>"
      ]
     },
     "metadata": {},
     "output_type": "display_data"
    }
   ],
   "source": [
    "import numpy as np\n",
    "from scipy.stats import t\n",
    "import matplotlib.pyplot as plt\n",
    "\n",
    "# degrees of freedom\n",
    "dof = 10\n",
    "\n",
    "# x-axis values for the t-distribution plot\n",
    "x = np.linspace(-6, 6, 1000)\n",
    "\n",
    "# y-axis values for the t-distribution plot\n",
    "y = t.pdf(x, dof)\n",
    "\n",
    "# plot\n",
    "plt.plot(x, y)\n",
    "\n",
    "plt.title(\"Student's t-distribution (dof = 10)\")\n",
    "plt.xlabel(\"X axis\")\n",
    "plt.ylabel(\"Y axis\")\n",
    "\n",
    "plt.show()"
   ]
  },
  {
   "cell_type": "markdown",
   "id": "605bb7ac-706f-43fc-9d32-39d421b526d0",
   "metadata": {},
   "source": []
  },
  {
   "cell_type": "markdown",
   "id": "14b3927d-99ed-4528-9fea-4382cb7c6907",
   "metadata": {},
   "source": []
  },
  {
   "cell_type": "markdown",
   "id": "5a07dd16-8128-455e-a416-cfc2cdc7437f",
   "metadata": {},
   "source": []
  },
  {
   "cell_type": "markdown",
   "id": "e7d089ca-2517-42f0-a3ce-5832f595ec8f",
   "metadata": {},
   "source": []
  },
  {
   "cell_type": "markdown",
   "id": "50bcd5a1-ce1d-48ea-afb9-73c7445a2594",
   "metadata": {},
   "source": [
    "# Q10. Write a Python program to calculate the two-sample t-test for independent samples, given two random samples of equal size and a null hypothesis that the population means are equal."
   ]
  },
  {
   "cell_type": "markdown",
   "id": "bd3e2bc7-e821-4187-b3ea-c952f726baab",
   "metadata": {},
   "source": [
    "### Null Hypothesis: H0 = mu1 = mu2\n",
    "### Alternate Hypotheses: Ha = mu1 != mu2"
   ]
  },
  {
   "cell_type": "code",
   "execution_count": 58,
   "id": "2b86e06a-b742-4023-b46d-23d9c6819a5b",
   "metadata": {
    "tags": []
   },
   "outputs": [
    {
     "name": "stdout",
     "output_type": "stream",
     "text": [
      "t-statistic: -13.042259961765113\n",
      "p-value: 1.8087205947316356e-28\n",
      "Reject the null hypothesis\n"
     ]
    }
   ],
   "source": [
    "import numpy as np\n",
    "from scipy.stats import ttest_ind\n",
    "\n",
    "# Generate two random samples of equal size\n",
    "sample1 = np.random.normal(5, 0.5, 100)\n",
    "sample2 = np.random.normal(6, 0.5, 100)\n",
    "\n",
    "# Calculate the t-statistic and p-value\n",
    "t_statistic, p_value = ttest_ind(sample1, sample2)\n",
    "\n",
    "# Print the results\n",
    "print(\"t-statistic:\", t_statistic)\n",
    "print(\"p-value:\", p_value)\n",
    "\n",
    "# set significance level\n",
    "significance_level = 0.01\n",
    "\n",
    "# conduct hypothesis test\n",
    "if p_value < significance_level:\n",
    "    print('Reject the null hypothesis')\n",
    "else:\n",
    "    print('Fail to reject the null hypothesis')"
   ]
  },
  {
   "cell_type": "markdown",
   "id": "7c683a21-79c3-4244-bead-98ef370be975",
   "metadata": {},
   "source": []
  },
  {
   "cell_type": "markdown",
   "id": "8e8daa3b-6616-4be0-98c5-ad05964ac2c6",
   "metadata": {},
   "source": []
  },
  {
   "cell_type": "markdown",
   "id": "b734988d-fe4c-4cff-bf49-280da0b9c7e6",
   "metadata": {},
   "source": []
  },
  {
   "cell_type": "markdown",
   "id": "cc7c15d2-811f-403d-a5e1-eafe6f7dc5f8",
   "metadata": {},
   "source": []
  },
  {
   "cell_type": "markdown",
   "id": "e1bdc95f-4bcd-49d3-a014-cda30b3aef72",
   "metadata": {
    "tags": []
   },
   "source": [
    "# Q11: What is Student’s t distribution? When to use the t-Distribution.\n",
    "## Student's t-distribution is a probability distribution that is used in hypothesis testing and confidence interval estimation for small sample sizes when the population standard deviation is unknown. It is named after William Sealy Gosset, who published under the pseudonym \"Student\" while working for the Guinness brewery in Dublin, Ireland.\n",
    "\n",
    "## The t-distribution is similar to the standard normal distribution but has heavier tails, meaning it has more probability in the tails and less in the center than the normal distribution. The shape of the t-distribution depends on the degrees of freedom (df), which is a parameter that determines the sample size. As the sample size increases, the t-distribution approaches the normal distribution.\n",
    "\n",
    "## The t-distribution is used in situations where the sample size is small (usually less than 30) and the population standard deviation is unknown. It is also used when the population distribution is not normal but the sample size is large enough to apply the Central Limit Theorem.\n",
    "\n",
    "## In hypothesis testing, the t-distribution is used to calculate the test statistic when the population standard deviation is unknown and the sample size is small. The test statistic is then compared to a critical value from the t-distribution to determine whether to reject or fail to reject the null hypothesis.\n",
    "\n",
    "## In confidence interval estimation, the t-distribution is used to calculate the confidence interval when the population standard deviation is unknown and the sample size is small. The confidence interval is calculated using the sample mean, the sample standard deviation, and the critical value from the t-distribution.\n",
    "\n",
    "## Overall, the t-distribution is an important tool in statistical inference for small sample sizes and is widely used in scientific research and data analysis."
   ]
  },
  {
   "cell_type": "markdown",
   "id": "dce5f4b2-ccfa-470f-9fe6-c0351e95be64",
   "metadata": {},
   "source": []
  },
  {
   "cell_type": "markdown",
   "id": "07ad9499-514e-4b61-bc1d-63f158e85035",
   "metadata": {},
   "source": []
  },
  {
   "cell_type": "markdown",
   "id": "2d546100-d0fb-4428-aa7b-f6438f229cac",
   "metadata": {},
   "source": []
  },
  {
   "cell_type": "markdown",
   "id": "34741a2f-f073-4d25-9c91-1618a7d865a3",
   "metadata": {},
   "source": []
  },
  {
   "cell_type": "markdown",
   "id": "4aebe3e0-3493-410d-8d0f-8301020067dc",
   "metadata": {},
   "source": [
    "# Q12: What is t-statistic? State the formula for t-statistic.\n",
    "## The t-statistic is a measure of how far the sample mean deviates from the null hypothesis, in units of the standard error of the sample mean. It is used in hypothesis testing to determine whether the difference between the sample mean and the hypothesized population mean is statistically significant.\n",
    "\n",
    "### The formula for the t-statistic is:\n",
    "\n",
    "### t = (x̄ - μ) / (s / √n)\n",
    "\n",
    "### where:\n",
    "### x̄ is the sample mean, μ is the hypothesized population mean under the null hypothesis, s is the sample standard deviation, n is the sample size\n",
    "## The t-statistic measures the difference between the sample mean and the hypothesized population mean in units of the standard error of the sample mean. A large t-value indicates a larger difference between the sample mean and the hypothesized population mean, which increases the likelihood of rejecting the null hypothesis.\n",
    "\n",
    "## The t-statistic follows a t-distribution with (n-1) degrees of freedom, where n is the sample size. The critical values of the t-distribution are used to determine the p-value and make a decision about the null hypothesis. If the calculated t-value is greater than the critical value, the result is statistically significant, and we reject the null hypothesis. If the calculated t-value is less than the critical value, the result is not statistically significant, and we fail to reject the null hypothesis."
   ]
  },
  {
   "cell_type": "markdown",
   "id": "ccab9736-8bbc-44d3-8233-639cad023ce8",
   "metadata": {},
   "source": []
  },
  {
   "cell_type": "markdown",
   "id": "5e3f4840-f51c-490f-b3cc-78360131654d",
   "metadata": {},
   "source": []
  },
  {
   "cell_type": "markdown",
   "id": "f3dfc717-65c7-474d-b127-f1e3aaa8efc0",
   "metadata": {},
   "source": []
  },
  {
   "cell_type": "markdown",
   "id": "95ed9632-17c2-41ce-836f-6584e6d6b07b",
   "metadata": {},
   "source": []
  },
  {
   "cell_type": "markdown",
   "id": "51abb40f-ee21-4e9a-bbe3-5ac53b64ff96",
   "metadata": {},
   "source": [
    "# Q13. A coffee shop owner wants to estimate the average daily revenue for their shop. They take a random sample of 50 days and find the sample mean revenue to be 500 dollar with a standard deviation of 50 dollar. Estimate the population mean revenue with a 95% confidence interval."
   ]
  },
  {
   "cell_type": "code",
   "execution_count": 2,
   "id": "941c8944-8ff0-419d-b10b-3bc3ccf85940",
   "metadata": {
    "tags": []
   },
   "outputs": [
    {
     "name": "stdout",
     "output_type": "stream",
     "text": [
      "The population mean revenue is between $ 486.14 and $ 513.86 with a 95.0% confidence level.\n"
     ]
    }
   ],
   "source": [
    "import math\n",
    "from scipy.stats import norm\n",
    "\n",
    "# data\n",
    "sample_mean = 500\n",
    "sample_std = 50\n",
    "sample_size = 50\n",
    "confidence_level = 0.95\n",
    "\n",
    "# z-score\n",
    "z_score = norm.ppf((1 + confidence_level) / 2)\n",
    "# margin of error\n",
    "moe = z_score * (sample_std / math.sqrt(sample_size))\n",
    "# confidence interval\n",
    "lower_bound,upper_bound = sample_mean - moe , sample_mean + moe\n",
    "\n",
    "print(f\"The population mean revenue is between $ {lower_bound:.2f} and $ {upper_bound:.2f} with a {confidence_level*100}% confidence level.\")"
   ]
  },
  {
   "cell_type": "markdown",
   "id": "87132ade-1560-4ad8-a549-7e3d30ea9b7e",
   "metadata": {},
   "source": []
  },
  {
   "cell_type": "markdown",
   "id": "29795ae1-98e4-4732-9ac9-d7652874aec7",
   "metadata": {},
   "source": []
  },
  {
   "cell_type": "markdown",
   "id": "0270abd1-68df-4485-920b-3762aae0f172",
   "metadata": {},
   "source": []
  },
  {
   "cell_type": "markdown",
   "id": "9673a63c-3818-4d88-ae24-0e9ba44d550a",
   "metadata": {},
   "source": []
  },
  {
   "cell_type": "markdown",
   "id": "dc5b959f-2e63-4d57-b73a-23941fb77c69",
   "metadata": {},
   "source": [
    "# Q14. A researcher hypothesizes that a new drug will decrease blood pressure by 10 mmHg. They conduct a clinical trial with 100 patients and find that the sample mean decrease in blood pressure is 8 mmHg with a standard deviation of 3 mmHg. Test the hypothesis with a significance level of 0.05."
   ]
  },
  {
   "cell_type": "code",
   "execution_count": 4,
   "id": "eab2bced-93d2-4681-a558-56027a0a29ad",
   "metadata": {
    "tags": []
   },
   "outputs": [],
   "source": [
    "import math\n",
    "from scipy.stats import t\n",
    "\n",
    "# Given \n",
    "sample_mean = 8\n",
    "mu = 10\n",
    "sample_std = 3\n",
    "sample_size = 100\n",
    "significance_level = 0.05"
   ]
  },
  {
   "cell_type": "markdown",
   "id": "54d50008-cfb3-4a36-ba44-5d7a4a0c8dca",
   "metadata": {},
   "source": [
    "### Null hypothesis (H0):The drug decreases blood pressure by 10 mmHg.\n",
    "### Alternative hypothesis (Ha): The drug does not decrease blood pressure by 10 mmHg."
   ]
  },
  {
   "cell_type": "code",
   "execution_count": 6,
   "id": "53dcc343-6ccb-480a-ae74-058aa80d6af1",
   "metadata": {
    "tags": []
   },
   "outputs": [
    {
     "name": "stdout",
     "output_type": "stream",
     "text": [
      "Reject the null hypothesis with a p-value of 1.5012289009970215e-09\n"
     ]
    }
   ],
   "source": [
    "# t-statistic\n",
    "t_stat = (sample_mean - mu) / (sample_std / math.sqrt(sample_size))\n",
    "\n",
    "# p-value\n",
    "p_value = t.sf(abs(t_stat), dof:=sample_size-1) * 2  # 2-tailed test\n",
    "\n",
    "# Conclusion\n",
    "if p_value < significance_level:\n",
    "    print(f\"Reject the null hypothesis with a p-value of {p_value}\")\n",
    "else:\n",
    "    print(f\"Fail to reject the null hypothesis with a p-value of {p_value}\")"
   ]
  },
  {
   "cell_type": "markdown",
   "id": "0f7f514e-91bf-493c-96db-1c7e982dd899",
   "metadata": {},
   "source": [
    "### The p-value is much smaller than our significance level of 0.05, which means that the probability of observing a t-value as extreme as ours (or more extreme) if the null hypothesis were true is very small. Therefore, we reject the null hypothesis and conclude that the drug does not decrease blood pressure by 10 mmHg at a 95% confidence level."
   ]
  },
  {
   "cell_type": "markdown",
   "id": "085df03d-dff6-468b-a602-cc2da4a7c376",
   "metadata": {},
   "source": []
  },
  {
   "cell_type": "markdown",
   "id": "9ee6c2ed-ae70-4d2f-ad11-4dcabd7b5cd7",
   "metadata": {},
   "source": []
  },
  {
   "cell_type": "markdown",
   "id": "fc5d09f5-6997-430f-85ee-99bc8ce063a4",
   "metadata": {},
   "source": []
  },
  {
   "cell_type": "markdown",
   "id": "4b1209a8-efb2-4f9b-b23d-cb9d143d1a07",
   "metadata": {},
   "source": []
  },
  {
   "cell_type": "markdown",
   "id": "14f0d7ea-1709-4407-9780-eea6c9cd2078",
   "metadata": {},
   "source": [
    "# Q15. An electronics company produces a certain type of product with a mean weight of 5 pounds and a standard deviation of 0.5 pounds. A random sample of 25 products is taken, and the sample mean weight is found to be 4.8 pounds. Test the hypothesis that the true mean weight of the products is less than 5 pounds with a significance level of 0.01."
   ]
  },
  {
   "cell_type": "code",
   "execution_count": 94,
   "id": "b72a522f-6d70-47cb-8135-1da9434263f7",
   "metadata": {
    "tags": []
   },
   "outputs": [],
   "source": [
    "import math\n",
    "from scipy.stats import t\n",
    "\n",
    "# Given \n",
    "mu = 5\n",
    "sigma = 0.5\n",
    "sample_mean = 4.8\n",
    "sample_size = 25\n",
    "significance_level = 0.01"
   ]
  },
  {
   "cell_type": "markdown",
   "id": "1989245d-a925-463f-9d1b-2ecc48a7111d",
   "metadata": {},
   "source": [
    "### Null hypothesis (H0): sample_mean = 5\n",
    "### Alternative hypothesis (Ha): sample_mean < 5"
   ]
  },
  {
   "cell_type": "code",
   "execution_count": 125,
   "id": "62ea845b-a76d-4c27-8348-30b3234cf8e8",
   "metadata": {
    "tags": []
   },
   "outputs": [
    {
     "name": "stdout",
     "output_type": "stream",
     "text": [
      "Fail to reject the null hypothesis with a p-value of 0.0285\n"
     ]
    }
   ],
   "source": [
    "# t-statistic\n",
    "t_stat = (sample_mean - mu) / (sigma / math.sqrt(sample_size))\n",
    "\n",
    "# p-value\n",
    "p_value = t.sf(abs(t_stat),dof:=sample_size-1)  # 1-tail test\n",
    "\n",
    "# Conclusion\n",
    "if p_value < significance_level:\n",
    "    print(f\"Reject the null hypothesis with a p-value of {p_value:.4f}\")\n",
    "else:\n",
    "    print(f\"Fail to reject the null hypothesis with a p-value of {p_value:.4f}\")"
   ]
  },
  {
   "cell_type": "markdown",
   "id": "20c4ec36-e849-49ce-a4f7-5e74da3cb459",
   "metadata": {},
   "source": []
  },
  {
   "cell_type": "markdown",
   "id": "1ec96ca0-9a59-448b-a5e9-d2c099cca2d9",
   "metadata": {},
   "source": []
  },
  {
   "cell_type": "markdown",
   "id": "432b9102-8406-4bec-8fa5-d7e2a17ad3df",
   "metadata": {},
   "source": []
  },
  {
   "cell_type": "markdown",
   "id": "b3c1ca44-2d77-4af8-9395-ec8e2cdfc9d7",
   "metadata": {},
   "source": []
  },
  {
   "cell_type": "markdown",
   "id": "601dc905-f3f1-4f54-9b49-28553774cce0",
   "metadata": {},
   "source": [
    "# Q16. Two groups of students are given different study materials to prepare for a test. The first group (n1 = 30) has a mean score of 80 with a standard deviation of 10, and the second group (n2 = 40) has a mean score of 75 with a standard deviation of 8. Test the hypothesis that the population means for the two groups are equal with a significance level of 0.01."
   ]
  },
  {
   "cell_type": "code",
   "execution_count": 130,
   "id": "b2aa4d39-5634-49ab-937a-141dd759bc7c",
   "metadata": {
    "tags": []
   },
   "outputs": [],
   "source": [
    "# Data\n",
    "x1 = 80\n",
    "x2 = 75\n",
    "s1 = 10\n",
    "s2 = 8\n",
    "n1 = 30\n",
    "n2 = 40"
   ]
  },
  {
   "cell_type": "markdown",
   "id": "57288175-c6a2-4892-a5a5-3ef453796a5f",
   "metadata": {},
   "source": [
    "## Step 1: State the null hypothesis (H0) and alternative hypothesis (Ha)\n",
    "### Null Hypothesis: H0 = mu1 = mu2\n",
    "### Alternate Hypotheses: Ha = mu1 != mu2"
   ]
  },
  {
   "cell_type": "markdown",
   "id": "773791e8-e0eb-4a59-86fa-c16716b87996",
   "metadata": {},
   "source": [
    "## Step 2: Determine the level of significance (α)\n",
    "### α = 0.01 (given)"
   ]
  },
  {
   "cell_type": "code",
   "execution_count": 131,
   "id": "15b5845a-c2d5-45e1-82ae-ee61a83aabe1",
   "metadata": {
    "tags": []
   },
   "outputs": [],
   "source": [
    "significance_level = 0.01"
   ]
  },
  {
   "cell_type": "markdown",
   "id": "8bc177e0-9fb6-4f3f-a44c-1e4b4692a067",
   "metadata": {},
   "source": [
    "## Step 3: Select the appropriate test statistic and distribution\n",
    "#### The appropriate test statistic for this situation is the t-test, the samples are independent and have unequal variances.\n",
    "#### The t-test follows a t-distribution with n1 + n2 - 2 degrees of freedom, where n1 and n2 are the sample sizes."
   ]
  },
  {
   "cell_type": "code",
   "execution_count": 132,
   "id": "544e92f1-39a2-4e5e-a383-962ad644c024",
   "metadata": {
    "tags": []
   },
   "outputs": [],
   "source": [
    "dof = n1+n2-2"
   ]
  },
  {
   "cell_type": "markdown",
   "id": "3059a6be-42f1-489d-9dff-86144b8fff84",
   "metadata": {},
   "source": [
    "## Step 4: Calculate the test statistic\n",
    "### t_stat = (x̄1 - x̄2) / (SP * sqrt(1/n1 + 1/n2))\n",
    "#### where x̄1 and x̄2 are the sample means, n1 and n2 are the sample sizes, and SP is the pooled standard deviation calculated as:\n",
    "#### SP = sqrt(((n1-1)*s1^2 + (n2-1)*s2^2) / (n1+n2-2))\n",
    "#### where s1 and s2 are the sample standard deviations."
   ]
  },
  {
   "cell_type": "code",
   "execution_count": 133,
   "id": "c67db7c0-1a80-489a-aea6-35adc95d9c5c",
   "metadata": {
    "tags": []
   },
   "outputs": [],
   "source": [
    "from math import sqrt\n",
    "SP = sqrt(((n1-1)*s1^2 + (n2-1)*s2^2) / (n1+n2-2))"
   ]
  },
  {
   "cell_type": "code",
   "execution_count": 134,
   "id": "60d301f3-eecf-4262-8bf1-dfb0f8043859",
   "metadata": {
    "tags": []
   },
   "outputs": [
    {
     "name": "stdout",
     "output_type": "stream",
     "text": [
      "33.47953286530624\n"
     ]
    }
   ],
   "source": [
    "t_stat = (x1-x2)/(SP * sqrt(1/n1 + 1/n2))\n",
    "print(t_stat)"
   ]
  },
  {
   "cell_type": "markdown",
   "id": "56396da2-75ad-49df-9018-96c97647e1f2",
   "metadata": {},
   "source": [
    "## Step 5: Determine the critical value and p-value\n",
    "#### Determine the critical value for the test by looking up the t-value in a t-table with n1 + n2 - 2 degrees of freedom and α/2 as the tail probability.\n",
    "#### Calculate the p-value, which is the probability of obtaining a test statistic as extreme or more extreme than the observed t-value, assuming the null hypothesis is true. This can be done using a t-distribution table or a statistical software."
   ]
  },
  {
   "cell_type": "code",
   "execution_count": 137,
   "id": "79a2b2ce-c2da-487d-bd72-5bf401281ac0",
   "metadata": {
    "tags": []
   },
   "outputs": [
    {
     "name": "stdout",
     "output_type": "stream",
     "text": [
      "Critical value: -2.3824458008642417\n",
      "p value: 5.58629774646599e-44\n"
     ]
    }
   ],
   "source": [
    "from scipy.stats import t\n",
    "\n",
    "# critical value using the t.ppf() function\n",
    "critical_value = t.ppf(significance_level, dof)\n",
    "\n",
    "# p-value using the t.sf() function\n",
    "p_value = t.sf(abs(t_stat),dof) * 2  # 2-tailed test\n",
    "\n",
    "print(\"Critical value:\", critical_value)\n",
    "print(\"p value:\", p_value)"
   ]
  },
  {
   "cell_type": "markdown",
   "id": "28503647-8542-4024-835b-25d65e874fd8",
   "metadata": {},
   "source": [
    "## Step 6: Make a decision and interpret the results\n",
    "\n",
    "#### If the calculated t-value is greater than the critical value or the p-value is less than α, then reject the null hypothesis and conclude that there is a significant difference between the two population means.\n",
    "#### If the calculated t-value is less than the critical value or the p-value is greater than α, then fail to reject the null hypothesis and conclude that there is not enough evidence to suggest a significant difference between the two population means."
   ]
  },
  {
   "cell_type": "code",
   "execution_count": 138,
   "id": "a998e1e3-56b6-4115-bdfd-0474006528a1",
   "metadata": {
    "tags": []
   },
   "outputs": [
    {
     "name": "stdout",
     "output_type": "stream",
     "text": [
      "Reject the null hypothesis with a p-value of 5.58629774646599e-44 with confidence level 99.0 %\n"
     ]
    }
   ],
   "source": [
    "if t_stat > critical_value and p_value < significance_level:\n",
    "    print(f\"Reject the null hypothesis with a p-value of {p_value} with confidence level {(1-significance_level)*100} %\")\n",
    "else:\n",
    "    print(f\"Fail to reject the null hypothesis with a p-value of {p_value} with confidence level {(1-significance_level)*100} %\")"
   ]
  },
  {
   "cell_type": "markdown",
   "id": "cc864dd8-45b5-4ec8-b3e5-cd736750433c",
   "metadata": {},
   "source": [
    "### The p-value is much smaller than our significance level of 0.01, which means that the probability of observing a t-value as extreme as ours (or more extreme) if the null hypothesis were true is very small. Therefore, we reject the null hypothesis and conclude that the population means of two groups are not equal at a 99% confidence level."
   ]
  },
  {
   "cell_type": "markdown",
   "id": "8a940c8c-7555-4d99-9a2e-f4f3a415c866",
   "metadata": {},
   "source": []
  },
  {
   "cell_type": "markdown",
   "id": "30570809-e030-49f7-b5bf-105e9f016424",
   "metadata": {},
   "source": []
  },
  {
   "cell_type": "markdown",
   "id": "4f4e9e25-f5b6-4df7-a640-eaa1ac1a1314",
   "metadata": {},
   "source": []
  },
  {
   "cell_type": "markdown",
   "id": "4feb1aac-7165-41ca-99b8-46dcdb551167",
   "metadata": {},
   "source": []
  },
  {
   "cell_type": "markdown",
   "id": "5a05df57-b058-4eef-af3c-cb3007f9847f",
   "metadata": {},
   "source": [
    "# Q17. A marketing company wants to estimate the average number of ads watched by viewers during a TV program. They take a random sample of 50 viewers and find that the sample mean is 4 with a standard deviation of 1.5. Estimate the population mean with a 99% confidence interval."
   ]
  },
  {
   "cell_type": "code",
   "execution_count": 1,
   "id": "9fad1385-6e11-44f0-b017-1a660dce84de",
   "metadata": {
    "tags": []
   },
   "outputs": [
    {
     "name": "stdout",
     "output_type": "stream",
     "text": [
      "The population mean lies between 3.43 and 4.57 with a 99.0% confidence level.\n"
     ]
    }
   ],
   "source": [
    "import math\n",
    "from scipy.stats import t\n",
    "\n",
    "# data\n",
    "sample_mean = 4\n",
    "sample_std = 1.5\n",
    "sample_size = 50\n",
    "confidence_level = 0.99\n",
    "\n",
    "# t-score\n",
    "t_score = t.ppf((1 + confidence_level) / 2, dof := sample_size-1)\n",
    "# margin of error\n",
    "moe = t_score * (sample_std / math.sqrt(sample_size))\n",
    "# confidence interval\n",
    "lower_bound,upper_bound = sample_mean - moe , sample_mean + moe\n",
    "\n",
    "print(f\"The population mean lies between {lower_bound:.2f} and {upper_bound:.2f} with a {confidence_level*100}% confidence level.\")"
   ]
  }
 ],
 "metadata": {
  "kernelspec": {
   "display_name": "Python 3 (ipykernel)",
   "language": "python",
   "name": "python3"
  },
  "language_info": {
   "codemirror_mode": {
    "name": "ipython",
    "version": 3
   },
   "file_extension": ".py",
   "mimetype": "text/x-python",
   "name": "python",
   "nbconvert_exporter": "python",
   "pygments_lexer": "ipython3",
   "version": "3.11.2"
  }
 },
 "nbformat": 4,
 "nbformat_minor": 5
}
