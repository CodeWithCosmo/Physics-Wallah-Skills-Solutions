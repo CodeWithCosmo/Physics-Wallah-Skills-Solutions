{
 "cells": [
  {
   "cell_type": "code",
   "execution_count": 2,
   "id": "634a264e",
   "metadata": {
    "tags": []
   },
   "outputs": [],
   "source": [
    "import pandas as pd\n",
    "import seaborn as sb \n",
    "import matplotlib.pyplot as plt\n",
    "import numpy as np \n",
    "import warnings as w\n",
    "w.filterwarnings('ignore')"
   ]
  },
  {
   "cell_type": "code",
   "execution_count": 3,
   "id": "90369aca",
   "metadata": {
    "tags": []
   },
   "outputs": [],
   "source": [
    "df = pd.read_csv('Bangalore_home_pricing.csv')\n"
   ]
  },
  {
   "cell_type": "code",
   "execution_count": 4,
   "id": "d3f2b62a-1eaf-4f6b-9cf4-685012a40cf9",
   "metadata": {
    "tags": []
   },
   "outputs": [
    {
     "data": {
      "text/html": [
       "<div>\n",
       "<style scoped>\n",
       "    .dataframe tbody tr th:only-of-type {\n",
       "        vertical-align: middle;\n",
       "    }\n",
       "\n",
       "    .dataframe tbody tr th {\n",
       "        vertical-align: top;\n",
       "    }\n",
       "\n",
       "    .dataframe thead th {\n",
       "        text-align: right;\n",
       "    }\n",
       "</style>\n",
       "<table border=\"1\" class=\"dataframe\">\n",
       "  <thead>\n",
       "    <tr style=\"text-align: right;\">\n",
       "      <th></th>\n",
       "      <th>area_type</th>\n",
       "      <th>availability</th>\n",
       "      <th>location</th>\n",
       "      <th>size</th>\n",
       "      <th>society</th>\n",
       "      <th>total_sqft</th>\n",
       "      <th>bath</th>\n",
       "      <th>balcony</th>\n",
       "      <th>price</th>\n",
       "    </tr>\n",
       "  </thead>\n",
       "  <tbody>\n",
       "    <tr>\n",
       "      <th>0</th>\n",
       "      <td>Super built-up  Area</td>\n",
       "      <td>19-Dec</td>\n",
       "      <td>Electronic City Phase II</td>\n",
       "      <td>2 BHK</td>\n",
       "      <td>Coomee</td>\n",
       "      <td>1056</td>\n",
       "      <td>2.0</td>\n",
       "      <td>1.0</td>\n",
       "      <td>39.07</td>\n",
       "    </tr>\n",
       "    <tr>\n",
       "      <th>1</th>\n",
       "      <td>Plot  Area</td>\n",
       "      <td>Ready To Move</td>\n",
       "      <td>Chikka Tirupathi</td>\n",
       "      <td>4 Bedroom</td>\n",
       "      <td>Theanmp</td>\n",
       "      <td>2600</td>\n",
       "      <td>5.0</td>\n",
       "      <td>3.0</td>\n",
       "      <td>120.00</td>\n",
       "    </tr>\n",
       "    <tr>\n",
       "      <th>2</th>\n",
       "      <td>Built-up  Area</td>\n",
       "      <td>Ready To Move</td>\n",
       "      <td>Uttarahalli</td>\n",
       "      <td>3 BHK</td>\n",
       "      <td>NaN</td>\n",
       "      <td>1440</td>\n",
       "      <td>2.0</td>\n",
       "      <td>3.0</td>\n",
       "      <td>62.00</td>\n",
       "    </tr>\n",
       "    <tr>\n",
       "      <th>3</th>\n",
       "      <td>Super built-up  Area</td>\n",
       "      <td>Ready To Move</td>\n",
       "      <td>Lingadheeranahalli</td>\n",
       "      <td>3 BHK</td>\n",
       "      <td>Soiewre</td>\n",
       "      <td>1521</td>\n",
       "      <td>3.0</td>\n",
       "      <td>1.0</td>\n",
       "      <td>95.00</td>\n",
       "    </tr>\n",
       "    <tr>\n",
       "      <th>4</th>\n",
       "      <td>Super built-up  Area</td>\n",
       "      <td>Ready To Move</td>\n",
       "      <td>Kothanur</td>\n",
       "      <td>2 BHK</td>\n",
       "      <td>NaN</td>\n",
       "      <td>1200</td>\n",
       "      <td>2.0</td>\n",
       "      <td>1.0</td>\n",
       "      <td>51.00</td>\n",
       "    </tr>\n",
       "  </tbody>\n",
       "</table>\n",
       "</div>"
      ],
      "text/plain": [
       "              area_type   availability                  location       size   \n",
       "0  Super built-up  Area         19-Dec  Electronic City Phase II      2 BHK  \\\n",
       "1            Plot  Area  Ready To Move          Chikka Tirupathi  4 Bedroom   \n",
       "2        Built-up  Area  Ready To Move               Uttarahalli      3 BHK   \n",
       "3  Super built-up  Area  Ready To Move        Lingadheeranahalli      3 BHK   \n",
       "4  Super built-up  Area  Ready To Move                  Kothanur      2 BHK   \n",
       "\n",
       "   society total_sqft  bath  balcony   price  \n",
       "0  Coomee        1056   2.0      1.0   39.07  \n",
       "1  Theanmp       2600   5.0      3.0  120.00  \n",
       "2      NaN       1440   2.0      3.0   62.00  \n",
       "3  Soiewre       1521   3.0      1.0   95.00  \n",
       "4      NaN       1200   2.0      1.0   51.00  "
      ]
     },
     "execution_count": 4,
     "metadata": {},
     "output_type": "execute_result"
    }
   ],
   "source": [
    "df.head()"
   ]
  },
  {
   "cell_type": "code",
   "execution_count": 5,
   "id": "84728152-1045-4233-96f3-75efe8c31024",
   "metadata": {
    "tags": []
   },
   "outputs": [
    {
     "name": "stdout",
     "output_type": "stream",
     "text": [
      "<class 'pandas.core.frame.DataFrame'>\n",
      "RangeIndex: 13320 entries, 0 to 13319\n",
      "Data columns (total 9 columns):\n",
      " #   Column        Non-Null Count  Dtype  \n",
      "---  ------        --------------  -----  \n",
      " 0   area_type     13320 non-null  object \n",
      " 1   availability  13320 non-null  object \n",
      " 2   location      13319 non-null  object \n",
      " 3   size          13304 non-null  object \n",
      " 4   society       7818 non-null   object \n",
      " 5   total_sqft    13320 non-null  object \n",
      " 6   bath          13247 non-null  float64\n",
      " 7   balcony       12711 non-null  float64\n",
      " 8   price         13320 non-null  float64\n",
      "dtypes: float64(3), object(6)\n",
      "memory usage: 936.7+ KB\n"
     ]
    }
   ],
   "source": [
    "df.info()"
   ]
  },
  {
   "cell_type": "code",
   "execution_count": 6,
   "id": "e40cd3e0-1f7f-4d89-b2d2-1a5871cc7d38",
   "metadata": {
    "tags": []
   },
   "outputs": [
    {
     "data": {
      "text/plain": [
       "area_type          0\n",
       "availability       0\n",
       "location           1\n",
       "size              16\n",
       "society         5502\n",
       "total_sqft         0\n",
       "bath              73\n",
       "balcony          609\n",
       "price              0\n",
       "dtype: int64"
      ]
     },
     "execution_count": 6,
     "metadata": {},
     "output_type": "execute_result"
    }
   ],
   "source": [
    "df.isnull().sum() "
   ]
  },
  {
   "attachments": {},
   "cell_type": "markdown",
   "id": "c9556383",
   "metadata": {},
   "source": [
    "# ```Data Preprocessing```"
   ]
  },
  {
   "cell_type": "code",
   "execution_count": 7,
   "id": "75f5bd09-cea0-4561-9eca-d7a6749fe31e",
   "metadata": {
    "tags": []
   },
   "outputs": [],
   "source": [
    "df['size'].fillna(value=df['size'].mode().iloc[0],inplace=True)"
   ]
  },
  {
   "cell_type": "code",
   "execution_count": 8,
   "id": "4109dcf4-130e-427a-a090-970a4f5dabb1",
   "metadata": {
    "tags": []
   },
   "outputs": [],
   "source": [
    "df.bath.fillna(value=df.bath.mode().iloc[0],inplace=True)"
   ]
  },
  {
   "cell_type": "code",
   "execution_count": 9,
   "id": "9ff3646c-d020-49af-83a2-7561512a9430",
   "metadata": {
    "tags": []
   },
   "outputs": [],
   "source": [
    "df.balcony.fillna(value=df.balcony.mode().iloc[0],inplace=True)"
   ]
  },
  {
   "attachments": {},
   "cell_type": "markdown",
   "id": "e1d29b02-c897-42d0-9bf9-83a92256a54d",
   "metadata": {
    "tags": []
   },
   "source": [
    "### ```Since the no of missing values in society column is very large so we can't replace them with mode because due to this the prediction is biased towards this societies so we have to remove this column.```"
   ]
  },
  {
   "cell_type": "code",
   "execution_count": 10,
   "id": "45cf2d68-9230-401c-81ae-59fce88f7370",
   "metadata": {
    "tags": []
   },
   "outputs": [
    {
     "data": {
      "text/plain": [
       "area_type          0\n",
       "availability       0\n",
       "location           1\n",
       "size               0\n",
       "society         5502\n",
       "total_sqft         0\n",
       "bath               0\n",
       "balcony            0\n",
       "price              0\n",
       "dtype: int64"
      ]
     },
     "execution_count": 10,
     "metadata": {},
     "output_type": "execute_result"
    }
   ],
   "source": [
    "df.isnull().sum()"
   ]
  },
  {
   "cell_type": "code",
   "execution_count": 11,
   "id": "3971f6d1-eecf-4e66-b809-dfe10f3ced99",
   "metadata": {
    "tags": []
   },
   "outputs": [
    {
     "data": {
      "text/plain": [
       "array(['2 BHK', '4 Bedroom', '3 BHK', '4 BHK', '6 Bedroom', '3 Bedroom',\n",
       "       '1 BHK', '1 RK', '1 Bedroom', '8 Bedroom', '2 Bedroom',\n",
       "       '7 Bedroom', '5 BHK', '7 BHK', '6 BHK', '5 Bedroom', '11 BHK',\n",
       "       '9 BHK', '9 Bedroom', '27 BHK', '10 Bedroom', '11 Bedroom',\n",
       "       '10 BHK', '19 BHK', '16 BHK', '43 Bedroom', '14 BHK', '8 BHK',\n",
       "       '12 Bedroom', '13 BHK', '18 Bedroom'], dtype=object)"
      ]
     },
     "execution_count": 11,
     "metadata": {},
     "output_type": "execute_result"
    }
   ],
   "source": [
    "df['size'].unique()"
   ]
  },
  {
   "attachments": {},
   "cell_type": "markdown",
   "id": "aef5cef8",
   "metadata": {},
   "source": [
    "# ```Feature Engineering```"
   ]
  },
  {
   "cell_type": "code",
   "execution_count": 12,
   "id": "0c1e7bf3-95ad-4baa-8bf6-bc4e9bb34a09",
   "metadata": {
    "tags": []
   },
   "outputs": [],
   "source": [
    "from sklearn.preprocessing import LabelEncoder\n",
    "encoder = LabelEncoder()"
   ]
  },
  {
   "cell_type": "code",
   "execution_count": 13,
   "id": "24d058c5-9bc5-4bee-be26-ab4dc32ea85b",
   "metadata": {
    "tags": []
   },
   "outputs": [],
   "source": [
    "df['size'] = encoder.fit_transform(df['size'])"
   ]
  },
  {
   "cell_type": "code",
   "execution_count": 14,
   "id": "91e9300e-6015-454f-b37a-af4981ca5ac9",
   "metadata": {
    "tags": []
   },
   "outputs": [],
   "source": [
    " #! Cleaning total_sqft column\n",
    "def avg(x):\n",
    "    if '-' in x:\n",
    "        lower, upper = map(float, x.split('-'))\n",
    "        return (lower + upper) / 2\n",
    "    elif ord(x[-1]) in range(65,123):\n",
    "        return 0\n",
    "    else:        \n",
    "        return (x)"
   ]
  },
  {
   "cell_type": "code",
   "execution_count": 15,
   "id": "793f0d4c-709d-456a-81f3-4e79a443dd45",
   "metadata": {
    "tags": []
   },
   "outputs": [],
   "source": [
    "df['total_sqft'] = df['total_sqft'].apply(avg)"
   ]
  },
  {
   "cell_type": "code",
   "execution_count": 16,
   "id": "81fe1c80",
   "metadata": {},
   "outputs": [],
   "source": [
    "df['total_sqft'] = df['total_sqft'].astype(float)"
   ]
  },
  {
   "cell_type": "code",
   "execution_count": 17,
   "id": "98d14b2f",
   "metadata": {},
   "outputs": [],
   "source": [
    "df.drop(df[df['total_sqft'] == 0].index,inplace=True)"
   ]
  },
  {
   "attachments": {},
   "cell_type": "markdown",
   "id": "18c44c60",
   "metadata": {},
   "source": [
    "# ```Feature Selection```"
   ]
  },
  {
   "cell_type": "code",
   "execution_count": 18,
   "id": "293c8b85",
   "metadata": {},
   "outputs": [
    {
     "data": {
      "text/plain": [
       "(13274, 9)"
      ]
     },
     "execution_count": 18,
     "metadata": {},
     "output_type": "execute_result"
    }
   ],
   "source": [
    "df.shape"
   ]
  },
  {
   "cell_type": "code",
   "execution_count": 19,
   "id": "34b994da",
   "metadata": {},
   "outputs": [],
   "source": [
    "features = df.iloc[:,[3,5,6,7,8]]\n",
    "X = df.iloc[:,[3,5,6,7]]\n",
    "y = df.iloc[:,-1]"
   ]
  },
  {
   "cell_type": "code",
   "execution_count": 20,
   "id": "791f84ca-63c2-4941-815c-65b21f0be599",
   "metadata": {
    "tags": []
   },
   "outputs": [
    {
     "data": {
      "text/html": [
       "<div>\n",
       "<style scoped>\n",
       "    .dataframe tbody tr th:only-of-type {\n",
       "        vertical-align: middle;\n",
       "    }\n",
       "\n",
       "    .dataframe tbody tr th {\n",
       "        vertical-align: top;\n",
       "    }\n",
       "\n",
       "    .dataframe thead th {\n",
       "        text-align: right;\n",
       "    }\n",
       "</style>\n",
       "<table border=\"1\" class=\"dataframe\">\n",
       "  <thead>\n",
       "    <tr style=\"text-align: right;\">\n",
       "      <th></th>\n",
       "      <th>size</th>\n",
       "      <th>total_sqft</th>\n",
       "      <th>bath</th>\n",
       "      <th>balcony</th>\n",
       "      <th>price</th>\n",
       "    </tr>\n",
       "  </thead>\n",
       "  <tbody>\n",
       "    <tr>\n",
       "      <th>size</th>\n",
       "      <td>1.000000</td>\n",
       "      <td>0.318555</td>\n",
       "      <td>0.673989</td>\n",
       "      <td>0.257070</td>\n",
       "      <td>0.334778</td>\n",
       "    </tr>\n",
       "    <tr>\n",
       "      <th>total_sqft</th>\n",
       "      <td>0.318555</td>\n",
       "      <td>1.000000</td>\n",
       "      <td>0.389223</td>\n",
       "      <td>0.154499</td>\n",
       "      <td>0.575559</td>\n",
       "    </tr>\n",
       "    <tr>\n",
       "      <th>bath</th>\n",
       "      <td>0.673989</td>\n",
       "      <td>0.389223</td>\n",
       "      <td>1.000000</td>\n",
       "      <td>0.207395</td>\n",
       "      <td>0.454091</td>\n",
       "    </tr>\n",
       "    <tr>\n",
       "      <th>balcony</th>\n",
       "      <td>0.257070</td>\n",
       "      <td>0.154499</td>\n",
       "      <td>0.207395</td>\n",
       "      <td>1.000000</td>\n",
       "      <td>0.124893</td>\n",
       "    </tr>\n",
       "    <tr>\n",
       "      <th>price</th>\n",
       "      <td>0.334778</td>\n",
       "      <td>0.575559</td>\n",
       "      <td>0.454091</td>\n",
       "      <td>0.124893</td>\n",
       "      <td>1.000000</td>\n",
       "    </tr>\n",
       "  </tbody>\n",
       "</table>\n",
       "</div>"
      ],
      "text/plain": [
       "                size  total_sqft      bath   balcony     price\n",
       "size        1.000000    0.318555  0.673989  0.257070  0.334778\n",
       "total_sqft  0.318555    1.000000  0.389223  0.154499  0.575559\n",
       "bath        0.673989    0.389223  1.000000  0.207395  0.454091\n",
       "balcony     0.257070    0.154499  0.207395  1.000000  0.124893\n",
       "price       0.334778    0.575559  0.454091  0.124893  1.000000"
      ]
     },
     "execution_count": 20,
     "metadata": {},
     "output_type": "execute_result"
    }
   ],
   "source": [
    "features.corr()"
   ]
  },
  {
   "cell_type": "code",
   "execution_count": 21,
   "id": "65067352",
   "metadata": {},
   "outputs": [
    {
     "data": {
      "image/png": "[encoded data removed]",
      "text/plain": [
       "<Figure size 640x480 with 2 Axes>"
      ]
     },
     "metadata": {},
     "output_type": "display_data"
    }
   ],
   "source": [
    "sb.heatmap(features.corr(),annot=True)\n",
    "plt.show()"
   ]
  },
  {
   "attachments": {},
   "cell_type": "markdown",
   "id": "c1bf52b4",
   "metadata": {},
   "source": [
    "# ```Train Test Split```"
   ]
  },
  {
   "cell_type": "code",
   "execution_count": 22,
   "id": "18037dc6",
   "metadata": {},
   "outputs": [],
   "source": [
    "from sklearn.model_selection import train_test_split\n",
    "X_train,X_test,y_train,y_test = train_test_split(X,y,test_size=0.1,random_state=0)"
   ]
  },
  {
   "attachments": {},
   "cell_type": "markdown",
   "id": "2f2bbccb",
   "metadata": {},
   "source": [
    "# ```Model Training```"
   ]
  },
  {
   "cell_type": "code",
   "execution_count": 23,
   "id": "827ad144",
   "metadata": {},
   "outputs": [],
   "source": [
    "from sklearn.svm import SVR\n",
    "regressor = SVR()"
   ]
  },
  {
   "cell_type": "code",
   "execution_count": 24,
   "id": "73418516",
   "metadata": {},
   "outputs": [
    {
     "data": {
      "text/html": [
       "<style>#sk-container-id-1 {color: black;background-color: white;}#sk-container-id-1 pre{padding: 0;}#sk-container-id-1 div.sk-toggleable {background-color: white;}#sk-container-id-1 label.sk-toggleable__label {cursor: pointer;display: block;width: 100%;margin-bottom: 0;padding: 0.3em;box-sizing: border-box;text-align: center;}#sk-container-id-1 label.sk-toggleable__label-arrow:before {content: \"▸\";float: left;margin-right: 0.25em;color: #696969;}#sk-container-id-1 label.sk-toggleable__label-arrow:hover:before {color: black;}#sk-container-id-1 div.sk-estimator:hover label.sk-toggleable__label-arrow:before {color: black;}#sk-container-id-1 div.sk-toggleable__content {max-height: 0;max-width: 0;overflow: hidden;text-align: left;background-color: #f0f8ff;}#sk-container-id-1 div.sk-toggleable__content pre {margin: 0.2em;color: black;border-radius: 0.25em;background-color: #f0f8ff;}#sk-container-id-1 input.sk-toggleable__control:checked~div.sk-toggleable__content {max-height: 200px;max-width: 100%;overflow: auto;}#sk-container-id-1 input.sk-toggleable__control:checked~label.sk-toggleable__label-arrow:before {content: \"▾\";}#sk-container-id-1 div.sk-estimator input.sk-toggleable__control:checked~label.sk-toggleable__label {background-color: #d4ebff;}#sk-container-id-1 div.sk-label input.sk-toggleable__control:checked~label.sk-toggleable__label {background-color: #d4ebff;}#sk-container-id-1 input.sk-hidden--visually {border: 0;clip: rect(1px 1px 1px 1px);clip: rect(1px, 1px, 1px, 1px);height: 1px;margin: -1px;overflow: hidden;padding: 0;position: absolute;width: 1px;}#sk-container-id-1 div.sk-estimator {font-family: monospace;background-color: #f0f8ff;border: 1px dotted black;border-radius: 0.25em;box-sizing: border-box;margin-bottom: 0.5em;}#sk-container-id-1 div.sk-estimator:hover {background-color: #d4ebff;}#sk-container-id-1 div.sk-parallel-item::after {content: \"\";width: 100%;border-bottom: 1px solid gray;flex-grow: 1;}#sk-container-id-1 div.sk-label:hover label.sk-toggleable__label {background-color: #d4ebff;}#sk-container-id-1 div.sk-serial::before {content: \"\";position: absolute;border-left: 1px solid gray;box-sizing: border-box;top: 0;bottom: 0;left: 50%;z-index: 0;}#sk-container-id-1 div.sk-serial {display: flex;flex-direction: column;align-items: center;background-color: white;padding-right: 0.2em;padding-left: 0.2em;position: relative;}#sk-container-id-1 div.sk-item {position: relative;z-index: 1;}#sk-container-id-1 div.sk-parallel {display: flex;align-items: stretch;justify-content: center;background-color: white;position: relative;}#sk-container-id-1 div.sk-item::before, #sk-container-id-1 div.sk-parallel-item::before {content: \"\";position: absolute;border-left: 1px solid gray;box-sizing: border-box;top: 0;bottom: 0;left: 50%;z-index: -1;}#sk-container-id-1 div.sk-parallel-item {display: flex;flex-direction: column;z-index: 1;position: relative;background-color: white;}#sk-container-id-1 div.sk-parallel-item:first-child::after {align-self: flex-end;width: 50%;}#sk-container-id-1 div.sk-parallel-item:last-child::after {align-self: flex-start;width: 50%;}#sk-container-id-1 div.sk-parallel-item:only-child::after {width: 0;}#sk-container-id-1 div.sk-dashed-wrapped {border: 1px dashed gray;margin: 0 0.4em 0.5em 0.4em;box-sizing: border-box;padding-bottom: 0.4em;background-color: white;}#sk-container-id-1 div.sk-label label {font-family: monospace;font-weight: bold;display: inline-block;line-height: 1.2em;}#sk-container-id-1 div.sk-label-container {text-align: center;}#sk-container-id-1 div.sk-container {/* jupyter's `normalize.less` sets `[hidden] { display: none; }` but bootstrap.min.css set `[hidden] { display: none !important; }` so we also need the `!important` here to be able to override the default hidden behavior on the sphinx rendered scikit-learn.org. See: https://github.com/scikit-learn/scikit-learn/issues/21755 */display: inline-block !important;position: relative;}#sk-container-id-1 div.sk-text-repr-fallback {display: none;}</style><div id=\"sk-container-id-1\" class=\"sk-top-container\"><div class=\"sk-text-repr-fallback\"><pre>SVR()</pre><b>In a Jupyter environment, please rerun this cell to show the HTML representation or trust the notebook. <br />On GitHub, the HTML representation is unable to render, please try loading this page with nbviewer.org.</b></div><div class=\"sk-container\" hidden><div class=\"sk-item\"><div class=\"sk-estimator sk-toggleable\"><input class=\"sk-toggleable__control sk-hidden--visually\" id=\"sk-estimator-id-1\" type=\"checkbox\" checked><label for=\"sk-estimator-id-1\" class=\"sk-toggleable__label sk-toggleable__label-arrow\">SVR</label><div class=\"sk-toggleable__content\"><pre>SVR()</pre></div></div></div></div></div>"
      ],
      "text/plain": [
       "SVR()"
      ]
     },
     "execution_count": 24,
     "metadata": {},
     "output_type": "execute_result"
    }
   ],
   "source": [
    "regressor.fit(X_train,y_train)"
   ]
  },
  {
   "cell_type": "code",
   "execution_count": 25,
   "id": "6365e884",
   "metadata": {},
   "outputs": [],
   "source": [
    "y_pred = regressor.predict(X_test)"
   ]
  },
  {
   "attachments": {},
   "cell_type": "markdown",
   "id": "1c041a65",
   "metadata": {},
   "source": [
    "# ```Q1. In order to predict house price based on several characteristics, such as location, square footage,number of bedrooms, etc., you are developing an SVM regression model. Which regression metric in this situation would be the best to employ?```"
   ]
  },
  {
   "attachments": {},
   "cell_type": "markdown",
   "id": "3b4c62ae",
   "metadata": {},
   "source": [
    "## When developing an SVM regression model to predict house prices based on several characteristics, the regression metric that would be best to employ depends on the specific goals of the analysis. \n",
    "\n",
    "## If the goal is to minimize the absolute difference between predicted and actual house prices, then the Mean Absolute Error (MAE) regression metric should be used. If the goal is to minimize the squared difference between predicted and actual house prices, then the Mean Squared Error (MSE) regression metric should be used. \n",
    "\n",
    "## Alternatively, if the goal is to assess the proportion of variance in the dependent variable (house price) that can be explained by the independent variables (characteristics), then the coefficient of determination (R-squared) regression metric should be used."
   ]
  },
  {
   "cell_type": "code",
   "execution_count": 26,
   "id": "259be140",
   "metadata": {},
   "outputs": [],
   "source": [
    "from sklearn.metrics import r2_score,mean_squared_error,mean_absolute_error\n",
    "from math import sqrt"
   ]
  },
  {
   "cell_type": "code",
   "execution_count": 27,
   "id": "bd2d344e",
   "metadata": {},
   "outputs": [
    {
     "name": "stdout",
     "output_type": "stream",
     "text": [
      "MAE: 37.86184826309867\n",
      "MSE: 7028.066750980005\n",
      "r2_score: 0.4730365244503334\n"
     ]
    }
   ],
   "source": [
    "print(f'MAE: {mean_absolute_error(y_test,y_pred)}')\n",
    "print(f'MSE: {mean_squared_error(y_test,y_pred)}')\n",
    "print(f'r2_score: {r2_score(y_test,y_pred)}')"
   ]
  },
  {
   "cell_type": "markdown",
   "id": "d3984103",
   "metadata": {},
   "source": []
  },
  {
   "cell_type": "markdown",
   "id": "ea4b21d9",
   "metadata": {},
   "source": []
  },
  {
   "cell_type": "markdown",
   "id": "60eb0e2b",
   "metadata": {},
   "source": []
  },
  {
   "cell_type": "markdown",
   "id": "abf29a50",
   "metadata": {},
   "source": []
  },
  {
   "cell_type": "markdown",
   "id": "e75ea352",
   "metadata": {},
   "source": []
  },
  {
   "attachments": {},
   "cell_type": "markdown",
   "id": "c99bae8e",
   "metadata": {},
   "source": [
    "# ```Q2. You have built an SVM regression model and are trying to decide between using MSE or R-squared as your evaluation metric. Which metric would be more appropriate if your goal is to predict the actual price of a house as accurately as possible?```\n",
    "## In this case, Mean Squared Error (MSE) would be the more appropriate evaluation metric. The goal is to predict the actual price of a house as accurately as possible, and MSE measures the average squared difference between the predicted and actual values. In other words, it measures how close the predicted values are to the actual values. On the other hand, R-squared measures the proportion of variance in the target variable that is explained by the model. While it provides a measure of how well the model fits the data, it does not directly measure the accuracy of the predicted values. Therefore, in this case, MSE would be a more appropriate metric for evaluating the performance of the SVM regression model."
   ]
  },
  {
   "cell_type": "code",
   "execution_count": 28,
   "id": "91526250",
   "metadata": {},
   "outputs": [
    {
     "name": "stdout",
     "output_type": "stream",
     "text": [
      "MSE: 7028.066750980005\n"
     ]
    }
   ],
   "source": [
    "print(f'MSE: {mean_squared_error(y_test,y_pred)}')"
   ]
  },
  {
   "cell_type": "markdown",
   "id": "24b2a5a8",
   "metadata": {},
   "source": []
  },
  {
   "cell_type": "markdown",
   "id": "0a82c31d",
   "metadata": {},
   "source": []
  },
  {
   "cell_type": "markdown",
   "id": "c1a572d7",
   "metadata": {},
   "source": []
  },
  {
   "cell_type": "markdown",
   "id": "3026c831",
   "metadata": {},
   "source": []
  },
  {
   "cell_type": "markdown",
   "id": "2430f07e",
   "metadata": {},
   "source": []
  },
  {
   "attachments": {},
   "cell_type": "markdown",
   "id": "c948f8e5",
   "metadata": {},
   "source": [
    "# ```Q3. You have a dataset with a significant number of outliers and are trying to select an appropriate regression metric to use with your SVM model. Which metric would be the most appropriate in this scenario?```\n",
    "## When dealing with a dataset that has a significant number of outliers, it is recommended to use a regression metric that is less sensitive to outliers. One such metric is the Mean Absolute Error (MAE) which computes the average of the absolute differences between the predicted and actual values. MAE is less sensitive to outliers because it does not square the differences, as opposed to other regression metrics like Mean Squared Error (MSE) or R-squared. Therefore, it gives equal weight to all the errors and is less influenced by the presence of outliers."
   ]
  },
  {
   "cell_type": "code",
   "execution_count": 29,
   "id": "bd97318d",
   "metadata": {},
   "outputs": [
    {
     "name": "stdout",
     "output_type": "stream",
     "text": [
      "MAE: 37.86184826309867\n"
     ]
    }
   ],
   "source": [
    "print(f'MAE: {mean_absolute_error(y_test,y_pred)}')"
   ]
  },
  {
   "cell_type": "markdown",
   "id": "c61c75d6",
   "metadata": {},
   "source": []
  },
  {
   "cell_type": "markdown",
   "id": "002e6571",
   "metadata": {},
   "source": []
  },
  {
   "cell_type": "markdown",
   "id": "eae1cc01",
   "metadata": {},
   "source": []
  },
  {
   "cell_type": "markdown",
   "id": "0832981d",
   "metadata": {},
   "source": []
  },
  {
   "cell_type": "markdown",
   "id": "bb5ae973",
   "metadata": {},
   "source": []
  },
  {
   "attachments": {},
   "cell_type": "markdown",
   "id": "6bee0e34",
   "metadata": {},
   "source": [
    "# ```Q4. You have built an SVM regression model using a polynomial kernel and are trying to select the best metric to evaluate its performance. You have calculated both MSE and RMSE and found that both values are very close. Which metric should you choose to use in this case?```\n",
    "## If both the Mean Squared Error (MSE) and Root Mean Squared Error (RMSE) are very close in value, it is generally recommended to use RMSE as the evaluation metric. RMSE has the advantage of being in the same units as the dependent variable, which makes it easier to interpret the results. Additionally, RMSE penalizes larger errors more than smaller errors, which is particularly useful in regression problems where large errors can be especially problematic. Therefore, RMSE is often preferred over MSE when evaluating the performance of regression models."
   ]
  },
  {
   "cell_type": "markdown",
   "id": "af25a449",
   "metadata": {},
   "source": []
  },
  {
   "cell_type": "markdown",
   "id": "45ccc70d",
   "metadata": {},
   "source": []
  },
  {
   "cell_type": "markdown",
   "id": "79a749eb",
   "metadata": {},
   "source": []
  },
  {
   "cell_type": "markdown",
   "id": "2805aef2",
   "metadata": {},
   "source": []
  },
  {
   "cell_type": "markdown",
   "id": "162316b1",
   "metadata": {},
   "source": []
  },
  {
   "attachments": {},
   "cell_type": "markdown",
   "id": "78d6deb4",
   "metadata": {},
   "source": [
    "# ```Q5. You are comparing the performance of different SVM regression models using different kernels (linear,polynomial, and RBF) and are trying to select the best evaluation metric. Which metric would be most appropriate if your goal is to measure how well the model explains the variance in the target variable?```\n",
    "## The most appropriate evaluation metric in this case would be R-squared (coefficient of determination). R-squared measures the proportion of the variance in the target variable that is explained by the model, and therefore is a good metric for assessing how well the model fits the data. It ranges from 0 to 1, with higher values indicating a better fit. Thus, when comparing the performance of different SVM regression models using different kernels, R-squared would be the most appropriate metric to evaluate how well the models explain the variance in the target variable."
   ]
  }
 ],
 "metadata": {
  "kernelspec": {
   "display_name": "Python 3 (ipykernel)",
   "language": "python",
   "name": "python3"
  },
  "language_info": {
   "codemirror_mode": {
    "name": "ipython",
    "version": 3
   },
   "file_extension": ".py",
   "mimetype": "text/x-python",
   "name": "python",
   "nbconvert_exporter": "python",
   "pygments_lexer": "ipython3",
   "version": "3.11.0"
  },
  "toc-autonumbering": false,
  "toc-showcode": true,
  "toc-showmarkdowntxt": true
 },
 "nbformat": 4,
 "nbformat_minor": 5
}
