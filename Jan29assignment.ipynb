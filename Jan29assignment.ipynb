{
 "cells": [
  {
   "attachments": {},
   "cell_type": "markdown",
   "metadata": {},
   "source": [
    "# 1. Python was developed by Guido van Rossum in 1991.\n",
    "\n",
    "# 2. Python suppport procedural, functional and object oriented paradigm.\n",
    "\n",
    "# 3. Yes, Python is a case sensitive language when dealing with identifiers.\n",
    "\n",
    "# 4. The correct extension of Python files is .py.\n",
    "\n",
    "# 5. Python code is interpreted which executes line by line.\n",
    "\n",
    "# 6. Loops,conditional statements,functions etc are block of code used in python to define.\n",
    "\n",
    "# 7. The symbol \"#\" is used in Python for single line comments\n",
    "\n",
    "# 8. \"sys.version\" is used to determine the current version of Python.\n",
    "\n",
    "# 9. This anonymous function is known to be \"Lambda\" function.\n",
    "\n",
    "# 10. pip stands for \"preferred installer program\" which is used to install and manage the python packages and modules.\n",
    "\n",
    "# 11. Few built-in functions of python are type(),len(),coundt(),input(),print() etc...\n",
    "\n",
    "# 12. There is no specific length of identifiers in python but we have to keep short and meaningful identifiers names for our convenience.\n",
    "\n",
    "# 13. The benefits of python are \n",
    "> ### A. It is easy to understand for beginners  \n",
    "> ### B. It does a complex task in few lines of code  \n",
    "> ### C. It is multipurpose programming language\n",
    "\n",
    "# 14. Memory in Python is managed by the Python memory manager,which is responsible for allocating and deallocating memory for Python objects.\n",
    "> ## The Python memory manager works with the Python garbage collector to automatically reclaim memory.\n",
    "\n",
    "# 15. Go to python official site and download the latest version of python for windows then install it , while installing check the \"ADD TO PATH\" check box to set path variables.\n",
    "\n",
    "# 16. Yes, Indentation in Python is very important because an indentation is used to indicate a block of code, if indentation is not properly     configured the indentation error will be occured.\n"
   ]
  }
 ],
 "metadata": {
  "kernelspec": {
   "display_name": "Python 3",
   "language": "python",
   "name": "python3"
  },
  "language_info": {
   "name": "python",
   "version": "3.11.3"
  },
  "orig_nbformat": 4,
  "vscode": {
   "interpreter": {
    "hash": "60604c6687abd3d44db2988d94478afd71bdd2eba4a4e06208197b7b67afacd2"
   }
  }
 },
 "nbformat": 4,
 "nbformat_minor": 2
}
