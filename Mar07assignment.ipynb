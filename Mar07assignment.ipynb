{
 "cells": [
  {
   "cell_type": "markdown",
   "id": "d0cfccad-6a8a-4b79-aa7a-dfa797bf4e2a",
   "metadata": {},
   "source": [
    "# Q1. What are the three measures of central tendency?\n",
    "##  The Three measure of central tendencies are mean, median and mode."
   ]
  },
  {
   "cell_type": "markdown",
   "id": "5726580e-7d2d-47a1-9dac-0ee46f81dfba",
   "metadata": {},
   "source": []
  },
  {
   "cell_type": "markdown",
   "id": "32d67279-d4a2-4810-8586-92a889f04281",
   "metadata": {},
   "source": [
    "# Q2. What is the difference between the mean, median, and mode? How are they used to measure the central tendency of a dataset?\n",
    "## Mean, median, and mode are all measures of central tendency that are used to describe the typical or central value of a dataset. However, they differ in how they are calculated and what aspect of the data they represent.\n",
    "\n",
    "### The mean is the arithmetic average of a dataset and is calculated by adding up all the values and dividing by the number of values. It is sensitive to extreme values or outliers, which can pull the mean in one direction or the other.\n",
    "\n",
    "### The median is the middle value in a dataset when the data is arranged in numerical order. It is not affected by extreme values or outliers and is often used as a measure of central tendency when the data is skewed or has a few extreme values.\n",
    "\n",
    "### The mode is the value that appears most frequently in a dataset. It is useful when the data has a clear peak or is clustered around a particular value. Unlike the mean and median, the mode can be used for categorical data as well as numerical data.\n",
    "\n",
    "### To determine which measure of central tendency to use, consider the nature of the data and the research question being asked. If the data is normally distributed and has no outliers, the mean may be the most appropriate measure. If the data is skewed or has outliers, the median may be a better representation of the central tendency. And if the data has clear peaks or modes, the mode may be the most informative measure."
   ]
  },
  {
   "cell_type": "markdown",
   "id": "d1a22e3a-5e38-465e-805b-2b726cbd2a18",
   "metadata": {},
   "source": []
  },
  {
   "cell_type": "markdown",
   "id": "6f9ce2b5-a0a7-43a5-8961-a601185f7617",
   "metadata": {},
   "source": []
  },
  {
   "cell_type": "markdown",
   "id": "835362cb-5106-40d2-b166-c75a415596dd",
   "metadata": {},
   "source": []
  },
  {
   "cell_type": "markdown",
   "id": "7a7fe57f-cb07-4a92-a25f-ce739a6152f1",
   "metadata": {},
   "source": []
  },
  {
   "cell_type": "markdown",
   "id": "173985c4-abfb-4597-860e-dd87c3d723d4",
   "metadata": {},
   "source": [
    "# Q3. Measure the three measures of central tendency for the given height data:\n",
    "\n",
    "### data = [178,177,176,177,178.2,178,175,179,180,175,178.9,176.2,177,172.5,178,176.5]"
   ]
  },
  {
   "cell_type": "code",
   "execution_count": 2,
   "id": "59e4057e-8e38-4636-8b63-5fa08d507b56",
   "metadata": {},
   "outputs": [],
   "source": [
    "data = [178,177,176,177,178.2,178,175,179,180,175,178.9,176.2,177,172.5,178,176.5]"
   ]
  },
  {
   "cell_type": "code",
   "execution_count": 6,
   "id": "cee4b6e8-dd13-42f1-af29-d09111077ca1",
   "metadata": {},
   "outputs": [
    {
     "data": {
      "text/plain": [
       "177.01875"
      ]
     },
     "execution_count": 6,
     "metadata": {},
     "output_type": "execute_result"
    }
   ],
   "source": [
    "import statistics as st\n",
    "st.mean(data)"
   ]
  },
  {
   "cell_type": "markdown",
   "id": "db6c06f7-1c66-4942-b06e-d22a8a0e2083",
   "metadata": {},
   "source": []
  },
  {
   "cell_type": "markdown",
   "id": "d1b3eef9-e53f-4dfb-8cdc-b57e0f179011",
   "metadata": {},
   "source": []
  },
  {
   "cell_type": "markdown",
   "id": "52d830e1-a28b-4890-9b66-4f580fff2401",
   "metadata": {},
   "source": []
  },
  {
   "cell_type": "markdown",
   "id": "4201c78e-1850-4692-95ed-4db315589c26",
   "metadata": {},
   "source": [
    "# Q4. Find the standard deviation for the given data:\n",
    "#### [178,177,176,177,178.2,178,175,179,180,175,178.9,176.2,177,172.5,178,176.5]"
   ]
  },
  {
   "cell_type": "code",
   "execution_count": 8,
   "id": "0fb5ae71-4e6f-4a3e-b13e-8cc2a02ffb4c",
   "metadata": {},
   "outputs": [],
   "source": [
    "data = [178,177,176,177,178.2,178,175,179,180,175,178.9,176.2,177,172.5,178,176.5]"
   ]
  },
  {
   "cell_type": "code",
   "execution_count": 12,
   "id": "f9e7292f-fff8-48e9-9431-187d576b4686",
   "metadata": {},
   "outputs": [
    {
     "data": {
      "text/plain": [
       "1.8472389305844188"
      ]
     },
     "execution_count": 12,
     "metadata": {},
     "output_type": "execute_result"
    }
   ],
   "source": [
    "import statistics as st\n",
    "st.stdev(data)"
   ]
  },
  {
   "cell_type": "markdown",
   "id": "c447d608-0c1d-4eb1-970a-1742cbada4c8",
   "metadata": {},
   "source": []
  },
  {
   "cell_type": "markdown",
   "id": "f7ac3db0-526d-41cd-9688-1c186138174c",
   "metadata": {},
   "source": []
  },
  {
   "cell_type": "markdown",
   "id": "d0073814-9e80-49d1-bb9c-e2b81c004615",
   "metadata": {},
   "source": []
  },
  {
   "cell_type": "markdown",
   "id": "d2a7f34d-e381-415c-a41d-5e334b4d516f",
   "metadata": {},
   "source": [
    "# Q5. How are measures of dispersion such as range, variance, and standard deviation used to describe the spread of a dataset? Provide an example."
   ]
  },
  {
   "cell_type": "markdown",
   "id": "980983e9-755a-48a8-9cd1-280b01ae5d1f",
   "metadata": {},
   "source": [
    "## Measures of dispersion such as range, variance, and standard deviation are used to describe how spread out the data is in a dataset. These measures provide information about how much the individual values in a dataset differ from the central tendency, which can help to identify patterns, trends, and outliers.\n",
    "\n",
    "### Range is the simplest measure of dispersion and is calculated by subtracting the minimum value from the maximum value in a dataset. It provides a rough estimate of the spread of the data but does not take into account the distribution of values within the range.\n",
    "\n",
    "### Variance is a more sophisticated measure of dispersion that takes into account the distribution of values in the dataset. It is calculated by taking the sum of the squared deviations of each value from the mean and dividing by the number of values in the dataset. Variance is useful for comparing the spread of two datasets that have different means.\n",
    "\n",
    "### Standard deviation is the square root of the variance and provides a measure of the spread of the data in terms of the original units of measurement. It is useful for identifying the proportion of values that fall within a certain range of the mean and for determining the significance of differences between means.\n",
    "\n",
    "## For example, consider a dataset of the heights of ten people:\n",
    "\n",
    "### 170, 173, 175, 178, 179, 182, 183, 185, 188, 191\n",
    "\n",
    "### The mean height of this dataset is 179.6 cm. To calculate the range, we subtract the minimum value from the maximum value: 191 - 170 = 21. This tells us that the data is spread out over a range of 21 cm.\n",
    "\n",
    "### To calculate the variance, we first find the deviation of each value from the mean:\n",
    "\n",
    "### -9.6, -6.6, -4.6, -1.6, -0.6, 2.4, 3.4, 5.4, 8.4, 11.4\n",
    "\n",
    "### We then square each deviation and sum them:\n",
    "\n",
    "### (-9.6)^2 + (-6.6)^2 + (-4.6)^2 + (-1.6)^2 + (-0.6)^2 + (2.4)^2 + (3.4)^2 + (5.4)^2 + (8.4)^2 + (11.4)^2 = 841.6\n",
    "\n",
    "### Finally, we divide by the number of values in the dataset to get the variance:\n",
    "\n",
    "### 841.6 / 10 = 84.16\n",
    "\n",
    "### The standard deviation is the square root of the variance:\n",
    "\n",
    "### sqrt(84.16) = 9.17\n",
    "\n",
    "## This tells us that the values in the dataset are spread out by an average of 9.17 cm from the mean. We can use this information to determine how many values fall within a certain range of the mean, such as one standard deviation above and below the mean. In this example, approximately 68% of the values fall within one standard deviation of the mean (i.e., between 170.43 cm and 188.77 cm)."
   ]
  },
  {
   "cell_type": "markdown",
   "id": "cbcaf92c-b3b3-41cf-9f5a-e76d51a67134",
   "metadata": {},
   "source": []
  },
  {
   "cell_type": "markdown",
   "id": "331e571d-2456-4f82-8358-5aac215d7d55",
   "metadata": {},
   "source": []
  },
  {
   "cell_type": "markdown",
   "id": "d66b3e33-c0f8-40d9-882a-d600bb5bb055",
   "metadata": {},
   "source": []
  },
  {
   "cell_type": "markdown",
   "id": "0f9c57b9-73bf-45cd-b638-825d66a1a8f0",
   "metadata": {},
   "source": []
  },
  {
   "cell_type": "markdown",
   "id": "36b0af40-a08e-4f45-bbb1-8e0c72639ec6",
   "metadata": {},
   "source": [
    "# Q6. What is a Venn diagram?\n",
    "### A Venn diagram is a visual representation of the relationships between sets of elements. It consists of overlapping circles, where each circle represents a set and the overlapping region represents the elements that are common to both sets. Venn diagrams are commonly used in mathematics, logic, statistics, and other fields to illustrate concepts such as set theory, probability, and logical relationships between different groups."
   ]
  },
  {
   "cell_type": "markdown",
   "id": "b2af6f3d-4155-4ac9-904c-6af81601ed11",
   "metadata": {},
   "source": []
  },
  {
   "cell_type": "markdown",
   "id": "9305c975-a802-47a0-a98c-b6013da7d4f7",
   "metadata": {},
   "source": []
  },
  {
   "cell_type": "markdown",
   "id": "cdfba5dc-1aaa-4663-8b41-8e4bfa4a82da",
   "metadata": {},
   "source": []
  },
  {
   "cell_type": "markdown",
   "id": "a79c426e-afa5-4583-8b43-349bef4744f4",
   "metadata": {},
   "source": [
    "# Q7. For the two given sets A = (2,3,4,5,6,7) & B = (0,2,6,8,10). Find:\n",
    "\n",
    "### (i) \tA ⋂ B\n",
    "\n",
    "### (ii)\tA ⋃ B"
   ]
  },
  {
   "cell_type": "code",
   "execution_count": 16,
   "id": "c46adecd-c0d7-4b5f-a13a-31788c47f6ee",
   "metadata": {},
   "outputs": [],
   "source": [
    "A = {2,3,4,5,6,7}\n",
    "B = {0,2,6,8,10}"
   ]
  },
  {
   "cell_type": "code",
   "execution_count": 20,
   "id": "4f758f33-61fb-4c46-9a4c-cc1f46eb4aca",
   "metadata": {},
   "outputs": [
    {
     "data": {
      "text/plain": [
       "{2, 6}"
      ]
     },
     "execution_count": 20,
     "metadata": {},
     "output_type": "execute_result"
    }
   ],
   "source": [
    "# (i) A ⋂ B\n",
    "A.intersection(B)"
   ]
  },
  {
   "cell_type": "code",
   "execution_count": 21,
   "id": "3aa848e5-6f76-49cb-aee9-a0f503170bb7",
   "metadata": {},
   "outputs": [
    {
     "data": {
      "text/plain": [
       "{0, 2, 3, 4, 5, 6, 7, 8, 10}"
      ]
     },
     "execution_count": 21,
     "metadata": {},
     "output_type": "execute_result"
    }
   ],
   "source": [
    "# (ii) A ⋃ B\n",
    "A.union(B)"
   ]
  },
  {
   "cell_type": "markdown",
   "id": "6b7a9021-12f4-4770-8e0b-81df5775c6ee",
   "metadata": {},
   "source": []
  },
  {
   "cell_type": "markdown",
   "id": "0d368401-0179-473f-87f3-038f2364824f",
   "metadata": {},
   "source": []
  },
  {
   "cell_type": "markdown",
   "id": "7b7172ed-c763-4b8e-a4ef-2ef38e37775b",
   "metadata": {},
   "source": []
  },
  {
   "cell_type": "markdown",
   "id": "83b6e34c-a513-4c9b-8a4e-eec0da52ca84",
   "metadata": {},
   "source": [
    "# Q8. What do you understand about skewness in data?\n",
    "### Skewness is a statistical measure that describes the degree of asymmetry in a distribution of data. In other words, it measures the extent to which a distribution is not symmetric. Skewness is important because it can affect the interpretation of certain statistical analyses, such as measures of central tendency and variability."
   ]
  },
  {
   "cell_type": "markdown",
   "id": "56b15d5c-fffd-43d3-9f78-0cbecea39767",
   "metadata": {},
   "source": []
  },
  {
   "cell_type": "markdown",
   "id": "96489ea0-89b0-4490-a41c-7118b55fac79",
   "metadata": {},
   "source": []
  },
  {
   "cell_type": "markdown",
   "id": "69e0947b-a88f-4e64-9689-a7601045db95",
   "metadata": {},
   "source": [
    "# Q9. If a data is right skewed then what will be the position of median with respect to mean?\n",
    "## If a data set is right-skewed, then the median is typically lower than the mean. This is because the mean is influenced by the long tail on the right side of the distribution, which pulls the mean in that direction, while the median is less affected by extreme values and tends to represent the middle of the dataset more accurately."
   ]
  },
  {
   "cell_type": "markdown",
   "id": "3d9af13a-1a37-45de-9d15-b97fc6bcf250",
   "metadata": {},
   "source": []
  },
  {
   "cell_type": "markdown",
   "id": "ed22a2cd-510c-445c-bb0c-240009cf53bc",
   "metadata": {},
   "source": []
  },
  {
   "cell_type": "markdown",
   "id": "b5f9b834-600b-485b-9aeb-61661988a353",
   "metadata": {},
   "source": [
    "# Q10. Explain the difference between covariance and correlation. How are these measures used in statistical analysis?\n",
    "## Covariance and correlation are two measures used to describe the relationship between two variables in statistical analysis.\n",
    "\n",
    "### Covariance is a measure of the degree to which two variables vary together. Specifically, it measures the degree to which two variables have a linear relationship, meaning that as one variable increases, the other variable tends to increase or decrease in a predictable way. A positive covariance indicates that the two variables tend to move together in the same direction, while a negative covariance indicates that they tend to move in opposite directions. The formula for covariance is:\n",
    "\n",
    "## Cov(X, Y) = E[(X - E[X])(Y - E[Y])]\n",
    "\n",
    "#### where X and Y are the two variables, E[X] and E[Y] are their respective means, and E[(X - E[X])(Y - E[Y])] is the expected value of the product of the deviations of X and Y from their respective means.\n",
    "\n",
    "### Correlation, on the other hand, is a standardized measure of the degree of linear association between two variables. Correlation ranges from -1 to 1, with a correlation of -1 indicating a perfect negative linear relationship, a correlation of 0 indicating no linear relationship, and a correlation of 1 indicating a perfect positive linear relationship. The formula for correlation is:\n",
    "\n",
    "## Corr(X, Y) = Cov(X, Y) / (SD(X) * SD(Y))\n",
    "\n",
    "#### where Cov(X, Y) is the covariance between X and Y, and SD(X) and SD(Y) are the standard deviations of X and Y, respectively.\n",
    "\n",
    "## In statistical analysis, both covariance and correlation are used to investigate the relationship between two variables. However, correlation is often preferred over covariance because it is a standardized measure that is not affected by differences in the scales of the variables. Additionally, correlation is more interpretable than covariance, as it ranges from -1 to 1 and has a clear interpretation. Covariance, on the other hand, can be difficult to interpret as its magnitude depends on the scale of the variables."
   ]
  },
  {
   "cell_type": "markdown",
   "id": "a36b4b30-f061-4a97-a691-6f22348e834a",
   "metadata": {},
   "source": []
  },
  {
   "cell_type": "markdown",
   "id": "1fccfa48-7386-41a0-becb-114e6718ffbc",
   "metadata": {},
   "source": []
  },
  {
   "cell_type": "markdown",
   "id": "efc22fec-aba3-4ec2-8773-484cf7f58e64",
   "metadata": {},
   "source": []
  },
  {
   "cell_type": "markdown",
   "id": "e6fbdb81-4886-4a88-93ff-41eebd0eb7a2",
   "metadata": {},
   "source": []
  },
  {
   "cell_type": "markdown",
   "id": "e5311993-69c4-40fc-ae8a-d8709b965b50",
   "metadata": {},
   "source": [
    "# Q11. What is the formula for calculating the sample mean? Provide an example calculation for a dataset.\n",
    "## The formula for calculating the sample mean is:\n",
    "\n",
    "### x̄ = Σx / (n-1)\n",
    "\n",
    "#### where x̄ is the sample mean, Σx is the sum of all the data values, and n is the number of data values.\n",
    "\n",
    "### Here's an example calculation for a dataset of 5 values: 7, 8, 6, 9, 10.\n",
    "\n",
    "#### x̄ = (7 + 8 + 6 + 9 + 10) / (5-1)\n",
    "#### x̄ = 40 / 4\n",
    "#### x̄ = 10\n",
    "\n",
    "### Therefore, the sample mean for this dataset is 10."
   ]
  },
  {
   "cell_type": "markdown",
   "id": "27d14819-ddfa-4179-8cbb-b8159209b099",
   "metadata": {},
   "source": []
  },
  {
   "cell_type": "markdown",
   "id": "5dd8d317-4890-4168-9587-84d0d4ba4ea7",
   "metadata": {},
   "source": []
  },
  {
   "cell_type": "markdown",
   "id": "a13d2d59-8d56-4dde-9c4a-19e150d65401",
   "metadata": {},
   "source": []
  },
  {
   "cell_type": "markdown",
   "id": "b23f651a-b6ae-4cc5-b93a-953760b8e93d",
   "metadata": {},
   "source": [
    "# Q12. For a normal distribution data what is the relationship between its measure of central tendency?\n",
    "## For a normal distribution, the mean, median, and mode are all equal, and they represent the center of the distribution. This means that the normal distribution is a symmetric distribution, where the data is equally distributed on both sides of the center.\n",
    "\n",
    "### The mean is the arithmetic average of all the data values in the distribution, and it is often used as a measure of central tendency. The median is the middle value in the distribution when the data is arranged in ascending or descending order, and it is also a measure of central tendency. The mode is the value that occurs most frequently in the distribution, and it is another measure of central tendency.\n",
    "\n",
    "### In a normal distribution, the mean, median, and mode are all located at the peak of the distribution, which is the highest point on the bell-shaped curve. This indicates that the distribution is perfectly symmetric, with the same amount of data on both sides of the center."
   ]
  },
  {
   "cell_type": "markdown",
   "id": "abd9543a-c08a-43e2-ab6c-5ea5f26ad475",
   "metadata": {},
   "source": []
  },
  {
   "cell_type": "markdown",
   "id": "2b7e976f-5c9d-42ae-98f7-482bcf04271b",
   "metadata": {},
   "source": []
  },
  {
   "cell_type": "markdown",
   "id": "4332c8d9-1707-4157-a2b2-5f3c38636145",
   "metadata": {},
   "source": []
  },
  {
   "cell_type": "markdown",
   "id": "f725f201-6f8a-4fe8-b269-488cd9fcc2ce",
   "metadata": {},
   "source": [
    "# Q13. How is covariance different from correlation?\n",
    "## Covariance is influenced by the scale of the variables, while correlation is not. This means that covariance can be difficult to interpret, as its magnitude depends on the scale of the variables.\n",
    "### For example, if one variable is measured in meters and the other variable is measured in centimeters, the covariance will be much larger than if both variables were measured in the same units. Correlation, on the other hand, is standardized, so it is not affected by differences in the scales of the variables. This makes correlation a more interpretable measure of the relationship between two variables than covariance."
   ]
  },
  {
   "cell_type": "markdown",
   "id": "c0bc9c69-aa2d-40b3-acd4-ed9bb7c16d37",
   "metadata": {},
   "source": []
  },
  {
   "cell_type": "markdown",
   "id": "40056dcc-ac3b-433d-b02e-cc1411e09e84",
   "metadata": {},
   "source": []
  },
  {
   "cell_type": "markdown",
   "id": "8ba1431a-8978-417d-ad3c-bd227bc06b4e",
   "metadata": {},
   "source": []
  },
  {
   "cell_type": "markdown",
   "id": "1fbe371b-9e87-4092-8705-b8436adaca66",
   "metadata": {},
   "source": [
    "# Q14. How do outliers affect measures of central tendency and dispersion? Provide an example."
   ]
  },
  {
   "cell_type": "markdown",
   "id": "2ce65517-04c8-4ba0-91f9-2319e2821015",
   "metadata": {},
   "source": [
    "## Outliers can have a significant impact on measures of central tendency and dispersion, especially for small datasets. An outlier is an observation that falls far outside the range of the rest of the data points in a dataset. Outliers can be the result of measurement errors, data entry errors, or other anomalies in the data.\n",
    "\n",
    "## Outliers can affect measures of central tendency by pulling the mean in the direction of the outlier. For example, in a dataset with the values 1, 2, 3, 4, and 100, the mean would be significantly higher than the other values because of the outlier. The median is often less affected by outliers than the mean because it is based on the middle value in the dataset rather than the sum of all values.\n",
    "\n",
    "## Outliers can also affect measures of dispersion, such as the range, variance, and standard deviation. The range, for example, is simply the difference between the maximum and minimum values in a dataset. However, if there is an outlier that is much higher or lower than the other values, the range will be artificially inflated. Similarly, the variance and standard deviation are based on the deviations of each data point from the mean. Outliers that are far from the mean will have a large impact on these measures.\n",
    "\n",
    "## Here's an example to illustrate the impact of outliers on measures of central tendency and dispersion. Consider the following dataset representing the heights (in inches) of 10 people:\n",
    "\n",
    "### 62, 64, 65, 66, 67, 68, 70, 72, 74, 76\n",
    "\n",
    "## The mean height of this dataset is 68 inches, and the median height is 67.5 inches. Now, let's add an outlier to the dataset:\n",
    "\n",
    "### 62, 64, 65, 66, 67, 68, 70, 72, 74, 100\n",
    "\n",
    "## The mean height of this dataset is now 73 inches, which is significantly higher than the median height of 68 inches. The range of the dataset has also increased from 14 inches to 38 inches because of the outlier, and the variance and standard deviation have also increased significantly. This illustrates how outliers can have a significant impact on measures of central tendency and dispersion, and highlights the importance of identifying and addressing outliers in statistical analysis."
   ]
  }
 ],
 "metadata": {
  "kernelspec": {
   "display_name": "default:Python",
   "language": "python",
   "name": "conda-env-default-py"
  },
  "language_info": {
   "codemirror_mode": {
    "name": "ipython",
    "version": 3
   },
   "file_extension": ".py",
   "mimetype": "text/x-python",
   "name": "python",
   "nbconvert_exporter": "python",
   "pygments_lexer": "ipython3",
   "version": "3.9.13"
  }
 },
 "nbformat": 4,
 "nbformat_minor": 5
}
