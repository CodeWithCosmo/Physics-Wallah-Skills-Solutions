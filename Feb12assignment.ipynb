{
 "cells": [
  {
   "cell_type": "markdown",
   "metadata": {},
   "source": [
    "# 1\n",
    "\n",
    "Exception is a condition , it occurs when the normal flow of the program is interrupted.\n",
    "\n",
    "Difference between exceptions and syntax errors:\n",
    "\n",
    "The main difference between them is that the exception is runtime error. And, the syntax error occurs at compile time."
   ]
  },
  {
   "cell_type": "markdown",
   "metadata": {},
   "source": [
    "# 2\n",
    "\n",
    "If exception is not handled, then the lines of code doesn't excecuted after at which line the exception occurred.\n",
    "\n",
    "Example;"
   ]
  },
  {
   "cell_type": "code",
   "execution_count": 3,
   "metadata": {},
   "outputs": [
    {
     "ename": "ZeroDivisionError",
     "evalue": "division by zero",
     "output_type": "error",
     "traceback": [
      "\u001b[1;31m---------------------------------------------------------------------------\u001b[0m",
      "\u001b[1;31mZeroDivisionError\u001b[0m                         Traceback (most recent call last)",
      "Cell \u001b[1;32mIn[3], line 1\u001b[0m\n\u001b[1;32m----> 1\u001b[0m \u001b[39mprint\u001b[39m(\u001b[39m10\u001b[39;49m\u001b[39m/\u001b[39;49m\u001b[39m0\u001b[39;49m)  \u001b[39m# exception occurred so below line is not executed\u001b[39;00m\n\u001b[0;32m      2\u001b[0m \u001b[39mprint\u001b[39m(\u001b[39m'\u001b[39m\u001b[39mExecuted\u001b[39m\u001b[39m'\u001b[39m)  \n",
      "\u001b[1;31mZeroDivisionError\u001b[0m: division by zero"
     ]
    }
   ],
   "source": [
    "print(10/0)  # exception occurred so below line is not executed\n",
    "print('Executed')  "
   ]
  },
  {
   "cell_type": "markdown",
   "metadata": {},
   "source": [
    "# 3\n",
    "\n",
    "In Python, exceptions are handled by try-except blocks.\n",
    "\n",
    "Eg;"
   ]
  },
  {
   "cell_type": "code",
   "execution_count": 1,
   "metadata": {
    "tags": []
   },
   "outputs": [
    {
     "name": "stdout",
     "output_type": "stream",
     "text": [
      "[Errno 2] No such file or directory: 'python.txt'\n"
     ]
    }
   ],
   "source": [
    "try:\n",
    "    f = open('python.txt','r')\n",
    "    print(f.read())\n",
    "except Exception as e:\n",
    "    print(e)"
   ]
  },
  {
   "cell_type": "markdown",
   "metadata": {},
   "source": [
    "# 4\n",
    "\n",
    "try: it is trying to execute the code inside it.\n",
    "\n",
    "except: it runs if try block fails to execute.\n",
    "\n",
    "else: it runs if try block runs else not. \n",
    "\n",
    "finally: it runs regardless of either try block runs or except block runs.\n",
    "\n",
    "Example;"
   ]
  },
  {
   "cell_type": "code",
   "execution_count": 7,
   "metadata": {
    "tags": []
   },
   "outputs": [
    {
     "name": "stdout",
     "output_type": "stream",
     "text": [
      "[Errno 2] No such file or directory: 'Python.txt'\n",
      "finally block runs in any situaiton, either try block run or except block executed\n"
     ]
    }
   ],
   "source": [
    "try:\n",
    "    f = open('Python.txt','r')\n",
    "    print(f.read())\n",
    "except Exception as e:\n",
    "    print(e)    \n",
    "else:\n",
    "    print('else block runs if try block runs.')\n",
    "finally:\n",
    "    print('finally block runs in any situaiton, either try block run or except block executed')"
   ]
  },
  {
   "cell_type": "markdown",
   "metadata": {},
   "source": [
    "# 5\n",
    "\n",
    "Custom Exception or User-defined Exception are those exception which are not considered exception for python interpreter.\n",
    "\n",
    "For example; if we want to create a program where user inputs the radius of the circle and we get area of the circle as output.\n",
    "\n",
    "But,we know that the radius of the circle cann't be negative but this kind of situation, python interpreter cann't handle itself.\n",
    "\n",
    "So we need our user-defined exception class , so we can aware the python interpreter about this type of exception.\n",
    "\n",
    "Eg;"
   ]
  },
  {
   "cell_type": "code",
   "execution_count": 29,
   "metadata": {
    "tags": []
   },
   "outputs": [
    {
     "name": "stdin",
     "output_type": "stream",
     "text": [
      "Enter radius: -10\n"
     ]
    },
    {
     "name": "stdout",
     "output_type": "stream",
     "text": [
      "Invalid radius\n"
     ]
    }
   ],
   "source": [
    "class NegativeRadius(Exception):\n",
    "    def __init__ (self,msg):\n",
    "        self.msg = msg\n",
    "try:\n",
    "    radius  = float(input(\"Enter radius:\"))\n",
    "    \n",
    "    if radius < 0:\n",
    "        raise NegativeRadius('Invalid radius')\n",
    "        \n",
    "    print(f'Area of circle: {3.14*radius*radius}')\n",
    "    \n",
    "except Exception as e:    \n",
    "    print(e)    "
   ]
  },
  {
   "cell_type": "markdown",
   "metadata": {},
   "source": [
    "# 6\n",
    "\n",
    "## Custom Exception or User-defined Exception"
   ]
  },
  {
   "cell_type": "code",
   "execution_count": 24,
   "metadata": {
    "tags": []
   },
   "outputs": [],
   "source": [
    "# Custom Exception class\n",
    "class NegativeRadiusException(Exception):\n",
    "    def __init__ (self,msg):\n",
    "        self.msg = msg"
   ]
  },
  {
   "cell_type": "code",
   "execution_count": 21,
   "metadata": {
    "tags": []
   },
   "outputs": [
    {
     "name": "stdin",
     "output_type": "stream",
     "text": [
      "Enter the radius: -5\n"
     ]
    },
    {
     "name": "stdout",
     "output_type": "stream",
     "text": [
      "NegativeRadiusException: Radius must greater than 0\n"
     ]
    }
   ],
   "source": [
    "try:\n",
    "    radius  = float(input(\"Enter the radius:\"))\n",
    "    \n",
    "    if radius < 0:\n",
    "        raise NegativeRadiusException('Radius must greater than 0')\n",
    "        \n",
    "    print(f'Area of circle with radius {radius} is {3.14*radius*radius}')\n",
    "    \n",
    "except NegativeRadiusException as n:\n",
    "    \n",
    "    print('NegativeRadiusException:',n)    "
   ]
  }
 ],
 "metadata": {
  "kernelspec": {
   "display_name": "Python 3 (ipykernel)",
   "language": "python",
   "name": "python3"
  },
  "language_info": {
   "codemirror_mode": {
    "name": "ipython",
    "version": 3
   },
   "file_extension": ".py",
   "mimetype": "text/x-python",
   "name": "python",
   "nbconvert_exporter": "python",
   "pygments_lexer": "ipython3",
   "version": "3.11.1"
  },
  "vscode": {
   "interpreter": {
    "hash": "60604c6687abd3d44db2988d94478afd71bdd2eba4a4e06208197b7b67afacd2"
   }
  }
 },
 "nbformat": 4,
 "nbformat_minor": 4
}
