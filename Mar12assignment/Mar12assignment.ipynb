{
 "cells": [
  {
   "cell_type": "markdown",
   "id": "37a48a8a-4155-424d-ac68-6c27cbcd92e2",
   "metadata": {},
   "source": [
    "# Q1. Calculate the 95% confidence interval for a sample of data with a mean of 50 and a standard deviation of 5 using Python. Interpret the results."
   ]
  },
  {
   "cell_type": "code",
   "execution_count": 32,
   "id": "e3511833-f795-47de-b6bf-a0686bd7bec3",
   "metadata": {
    "tags": []
   },
   "outputs": [],
   "source": [
    "import math\n",
    "from scipy.stats import norm\n",
    "def confidence_interval(sample_mean, sample_std, sample_size, alpha):    \n",
    "    z_score = norm.ppf(1 - alpha / 2)\n",
    "    moe = z_score * sample_std / math.sqrt(sample_size)  # margin of error\n",
    "    lower = sample_mean - moe  \n",
    "    upper = sample_mean + moe  \n",
    "    return lower, upper"
   ]
  },
  {
   "cell_type": "markdown",
   "id": "072021ec-5d5c-4892-968b-b72135dbf1bc",
   "metadata": {},
   "source": [
    "#### We don't know the sample size, so we cannot calculate the exact confidence interval. However, we can still interpret the result. This confidence interval tells us that if we were to take many random samples of the same size from the same population, we would expect 95% of the resulting confidence intervals to contain the true population mean. In other words, we are 95% confident that the true population mean falls within this range.\n",
    "\n",
    "#### For example, if we had a sample size of 1000, the confidence interval would be:"
   ]
  },
  {
   "cell_type": "code",
   "execution_count": 33,
   "id": "06f08b54-3bda-44bb-b354-5b9374fcdae6",
   "metadata": {
    "tags": []
   },
   "outputs": [],
   "source": [
    "lower,upper = confidence_interval(50,5,1000,0.95)"
   ]
  },
  {
   "cell_type": "code",
   "execution_count": 34,
   "id": "6775d8a2-6e21-4b5b-ade5-049ebbcf0c28",
   "metadata": {
    "tags": []
   },
   "outputs": [
    {
     "name": "stdout",
     "output_type": "stream",
     "text": [
      "The Confidence Interval is [49.99 - 50.01]\n"
     ]
    }
   ],
   "source": [
    "print(f'The Confidence Interval is [{lower:.2f} - {upper:.2f}]')"
   ]
  },
  {
   "cell_type": "markdown",
   "id": "dfe3abb0-bf1c-46eb-8b88-5ae51bb157cb",
   "metadata": {},
   "source": []
  },
  {
   "cell_type": "markdown",
   "id": "b2bce39c-a91c-4553-a816-418ccb93fb10",
   "metadata": {},
   "source": []
  },
  {
   "cell_type": "markdown",
   "id": "177ca66a-a69f-496a-8cd0-1b659c721496",
   "metadata": {},
   "source": []
  },
  {
   "cell_type": "markdown",
   "id": "80555b9f-9ec0-45d4-b2b8-aa917b2cad91",
   "metadata": {},
   "source": []
  },
  {
   "cell_type": "markdown",
   "id": "7d7b089e-af02-4b08-81cd-13e1f0cd9c50",
   "metadata": {},
   "source": [
    "# Q2. Conduct a chi-square goodness of fit test to determine if the distribution of colors of M&Ms in a bag matches the expected distribution of 20% blue, 20% orange, 20% green, 10% yellow, 10% red, and 20% brown. Use Python to perform the test with a significance level of 0.05.\n",
    "### Hind: M&M's is a popular brand"
   ]
  },
  {
   "cell_type": "markdown",
   "id": "26a28eca-515d-4e5e-b509-a25d46e44d5d",
   "metadata": {},
   "source": [
    "### H0: The distribution of colors of M&Ms in a bag matches the expected distribution.\n",
    "### Ha: The distribution of colors of M&Ms in a bag does not match the expected distribution."
   ]
  },
  {
   "cell_type": "markdown",
   "id": "fdcad981-d18d-4542-aad3-fa87722e01da",
   "metadata": {},
   "source": [
    "## Collecting observed frequencies.\n",
    "\n",
    "### We need to count the number of M&Ms of each color in the bag to obtain the observed frequencies. Let's assume we have a bag of 200 M&Ms and we count the following numbers:\n",
    "\n",
    "\n",
    "### The observed frequencies are:\n",
    "\n",
    "#### Observed frequency of blue = 35\n",
    "#### Observed frequency of orange = 40\n",
    "#### Observed frequency of green = 45\n",
    "#### Observed frequency of yellow = 25\n",
    "#### Observed frequency of red = 25\n",
    "#### Observed frequency of brown = 30\n",
    "\n",
    "## Calculating expected frequencies.\n",
    "\n",
    "### nder the null hypothesis, we expect to see the following frequencies:\n",
    "\n",
    "#### Expected frequency of blue = 0.2 * 200 = 40\n",
    "#### Expected frequency of orange = 0.2 * 200 = 40\n",
    "#### Expected frequency of green = 0.2 * 200 = 40\n",
    "#### Expected frequency of yellow = 0.1 * 200 = 20\n",
    "#### Expected frequency of red = 0.1 * 200 = 20\n",
    "#### Expected frequency of brown = 0.2 * 200 = 40"
   ]
  },
  {
   "cell_type": "code",
   "execution_count": 114,
   "id": "f1d27003-1809-4f3f-aec4-4e517ecb5a3c",
   "metadata": {
    "tags": []
   },
   "outputs": [
    {
     "name": "stdout",
     "output_type": "stream",
     "text": [
      "p-value: 0.282647296594067\n"
     ]
    }
   ],
   "source": [
    "from scipy.stats import chisquare\n",
    "\n",
    "significance_level = 0.05\n",
    "\n",
    "# Observed frequencies\n",
    "observed = [35, 40, 45, 25, 25, 30]\n",
    "\n",
    "# Expected frequencies\n",
    "expected = [40, 40, 40, 20, 20, 40]\n",
    "\n",
    "# Calculate the chi-square test statistic & p-value\n",
    "chi_stat,p_value = chisquare(f_obs=observed,f_exp=expected)\n",
    "\n",
    "print('p-value:', p_value)"
   ]
  },
  {
   "cell_type": "code",
   "execution_count": 108,
   "id": "2e513abb-9b73-4ec4-910c-41341bface17",
   "metadata": {
    "tags": []
   },
   "outputs": [
    {
     "name": "stdout",
     "output_type": "stream",
     "text": [
      "Fail to reject the null hypothesis with a p-value of 0.282647296594067\n"
     ]
    }
   ],
   "source": [
    "# Comparison\n",
    "if p_value < significance_level:\n",
    "    print(f\"Reject the null hypothesis with a p-value of {p_value}\")\n",
    "else:\n",
    "    print(f\"Fail to reject the null hypothesis with a p-value of {p_value}\")"
   ]
  },
  {
   "cell_type": "markdown",
   "id": "7731aed1-db27-4717-84a5-a5022d5c92bd",
   "metadata": {},
   "source": [
    "## Conclusion\n",
    "\n",
    "### Since we fail to reject the null hypothesis, we can conclude that there is not enough evidence to support the claim that the distribution of colors of M&Ms in a bag does not match the expected distribution. The observed distribution of colors are not significantly different from the expected distribution of colors. "
   ]
  },
  {
   "cell_type": "markdown",
   "id": "b657f899-ce0a-49e6-ab38-fb16cf81a910",
   "metadata": {},
   "source": []
  },
  {
   "cell_type": "markdown",
   "id": "4c5f0db0-9958-4645-ac52-f14239a9ce57",
   "metadata": {},
   "source": []
  },
  {
   "cell_type": "markdown",
   "id": "766ce1d5-4a30-43d4-b5d6-c17e6869d07e",
   "metadata": {},
   "source": []
  },
  {
   "cell_type": "markdown",
   "id": "84d3bb68-8bb7-47c5-b4b0-ed7748ab397f",
   "metadata": {},
   "source": []
  },
  {
   "cell_type": "markdown",
   "id": "5f3ef915-92df-41e3-9bf8-b6c3201c55c3",
   "metadata": {},
   "source": [
    "# Q3. Use Python to calculate the chi-square statistic and p-value for a contingency table with the following data:\n",
    "<img src ='3.png'>\n",
    "\n",
    "# Interpret the results of the test."
   ]
  },
  {
   "cell_type": "code",
   "execution_count": 133,
   "id": "b71fd61a-bb7a-4626-8885-240222c87e79",
   "metadata": {
    "tags": []
   },
   "outputs": [
    {
     "name": "stdout",
     "output_type": "stream",
     "text": [
      "Chi-square statistic: 5.833333333333334\n",
      "p-value: 0.05411376622282158\n",
      "Fail to reject the null hypothesis with a p-value of 0.05411376622282158\n"
     ]
    }
   ],
   "source": [
    "from scipy.stats import chi2_contingency\n",
    "import numpy as np\n",
    "\n",
    "# contingency table\n",
    "observed = np.array([[20, 15], [10, 25], [15, 20]])\n",
    "\n",
    "# Calculationg chi-square test statistic and p-value\n",
    "chi_stat, p_value, dof, expected = chi2_contingency(observed)\n",
    "\n",
    "# p-value\n",
    "print('Chi-square statistic:', chi_stat)\n",
    "print('p-value:', p_value)\n",
    "\n",
    "significance_leve = 0.05 # default value\n",
    "if p_value < significance_level:\n",
    "    print(f\"Reject the null hypothesis with a p-value of {p_value}\")\n",
    "else:\n",
    "    print(f\"Fail to reject the null hypothesis with a p-value of {p_value}\")"
   ]
  },
  {
   "cell_type": "markdown",
   "id": "01990e5c-74e5-48ff-8f4f-6c71d15e1c19",
   "metadata": {},
   "source": [
    "### Based on the chi-square test results, we have a chi-square test statistic of 5.833 and a p-value of 0.054. Since the p-value is greater than the significance level of 0.05 (default), we fail to reject the null hypothesis. This means that we do not have sufficient evidence to conclude that there is a significant association between the row and column variables in the contingency table. In other words, we cannot say that the outcomes are differentially distributed across the three groups."
   ]
  },
  {
   "cell_type": "markdown",
   "id": "4f34fc21-4978-4c6d-a5b9-8acc7d9e4b80",
   "metadata": {},
   "source": []
  },
  {
   "cell_type": "markdown",
   "id": "e7f2411f-8d5f-4924-9300-cf2e0ab3f3a9",
   "metadata": {},
   "source": []
  },
  {
   "cell_type": "markdown",
   "id": "2d4fe815-e8f8-46a7-963d-4be3bcbb6389",
   "metadata": {},
   "source": []
  },
  {
   "cell_type": "markdown",
   "id": "2883406d-a1b0-4884-8f69-48b8759f8303",
   "metadata": {},
   "source": []
  },
  {
   "cell_type": "markdown",
   "id": "428adc3e-c0a0-4179-bc75-5972219fb5d9",
   "metadata": {},
   "source": [
    "# Q4. A study of the prevalence of smoking in a population of 500 individuals found that 60 individuals smoked. Use Python to calculate the 95% confidence interval for the true proportion of individuals in the population who smoke."
   ]
  },
  {
   "cell_type": "code",
   "execution_count": 48,
   "id": "c10741f0-a588-4e70-8f29-7bd4fc867281",
   "metadata": {
    "tags": []
   },
   "outputs": [
    {
     "name": "stdout",
     "output_type": "stream",
     "text": [
      "The true proportion of people who are smoking is between (0.09152 , 0.14848) with a 95.0% confidence level.\n"
     ]
    }
   ],
   "source": [
    "import math\n",
    "from scipy.stats import norm\n",
    "\n",
    "# data\n",
    "p = 60/500  # Probability of succees \n",
    "q = 1 - p # Probability of failure \n",
    "n = 500\n",
    "confidence_level = 0.95\n",
    "\n",
    "# z-score\n",
    "z_score = norm.ppf((1 + confidence_level) / 2)\n",
    "\n",
    "# SE (standard error)\n",
    "SE = math.sqrt(p*q/n)\n",
    "\n",
    "# margin of error\n",
    "moe = z_score * SE\n",
    "\n",
    "# confidence interval\n",
    "lower_bound,upper_bound = p - moe , p + moe\n",
    "\n",
    "# result\n",
    "print(f'The true proportion of people who are smoking is between ({lower_bound:.5f} , {upper_bound:.5f}) with a {confidence_level*100}% confidence level.')"
   ]
  },
  {
   "cell_type": "markdown",
   "id": "71a516d4-5445-4242-98af-abb5d9a2b9b1",
   "metadata": {},
   "source": [
    "### Therefore, we can say with 95% confidence that the true proportion of individuals in the population who smoke is between 0.09152 and 0.14848."
   ]
  },
  {
   "cell_type": "markdown",
   "id": "dfd2d331-ee94-4b34-b8e7-e2d7f359fe29",
   "metadata": {},
   "source": []
  },
  {
   "cell_type": "markdown",
   "id": "773219cf-6056-4593-b2da-b5f87390bf54",
   "metadata": {},
   "source": []
  },
  {
   "cell_type": "markdown",
   "id": "f59d1f07-db22-4d7c-aac9-8d554982bfd9",
   "metadata": {},
   "source": []
  },
  {
   "cell_type": "markdown",
   "id": "b1446acd-b5d5-41ba-b293-0138bd7c5e17",
   "metadata": {},
   "source": []
  },
  {
   "cell_type": "markdown",
   "id": "a7b25161-13dc-408b-9666-071176a5c173",
   "metadata": {},
   "source": [
    "# Q5. Calculate the 90% confidence interval for a sample of data with a mean of 75 and a standard deviation of 12 using Python. Interpret the results."
   ]
  },
  {
   "cell_type": "code",
   "execution_count": 35,
   "id": "44595ebe-35c4-4faf-819a-4c2f5786718c",
   "metadata": {
    "tags": []
   },
   "outputs": [],
   "source": [
    "import math\n",
    "from scipy.stats import norm\n",
    "def confidence_interval(sample_mean, sample_std, sample_size, alpha):    \n",
    "    z_score = norm.ppf(1 - alpha / 2)\n",
    "    moe = z_score * sample_std / math.sqrt(sample_size)  # margin of error\n",
    "    lower = sample_mean - moe  \n",
    "    upper = sample_mean + moe  \n",
    "    return lower, upper"
   ]
  },
  {
   "cell_type": "markdown",
   "id": "1ac8a40d-90f2-4342-9b3c-5590ec05e925",
   "metadata": {},
   "source": [
    "#### We don't know the sample size, so we cannot calculate the exact confidence interval. However, we can still interpret the result. This confidence interval tells us that if we were to take many random samples of the same size from the same population, we would expect 90% of the resulting confidence intervals to contain the true population mean. In other words, we are 90% confident that the true population mean falls within this range.\n",
    "\n",
    "#### For example, if we had a sample size of 100, the confidence interval would be:"
   ]
  },
  {
   "cell_type": "code",
   "execution_count": 40,
   "id": "05095584-2bbf-4a49-99ae-492370d2f6a9",
   "metadata": {
    "tags": []
   },
   "outputs": [],
   "source": [
    "lower,upper = confidence_interval(75,12,100,0.90)"
   ]
  },
  {
   "cell_type": "code",
   "execution_count": 41,
   "id": "7ba81e4c-bee9-4f00-8bca-b6131f1506b1",
   "metadata": {
    "tags": []
   },
   "outputs": [
    {
     "name": "stdout",
     "output_type": "stream",
     "text": [
      "The Confidence Interval is [74.85 - 75.15]\n"
     ]
    }
   ],
   "source": [
    "print(f'The Confidence Interval is [{lower:.2f} - {upper:.2f}]')"
   ]
  },
  {
   "cell_type": "markdown",
   "id": "67550c5a-7dd0-44d7-ae99-440f5d0d6d77",
   "metadata": {},
   "source": []
  },
  {
   "cell_type": "markdown",
   "id": "7c30861b-5572-45a3-91c8-593002d20794",
   "metadata": {},
   "source": []
  },
  {
   "cell_type": "markdown",
   "id": "d6dc74de-5281-4b3e-8fe6-ab12f46dc7be",
   "metadata": {},
   "source": []
  },
  {
   "cell_type": "markdown",
   "id": "7c8d36c3-f2ce-4aa9-829e-5f1aff0ce04b",
   "metadata": {},
   "source": []
  },
  {
   "cell_type": "markdown",
   "id": "19f46c2f-9b26-42b4-a9ae-e6a1287b514a",
   "metadata": {},
   "source": [
    "# Q6. Use Python to plot the chi-square distribution with 10 degrees of freedom. Label the axes and shade the area corresponding to a chi-square statistic of 15."
   ]
  },
  {
   "cell_type": "code",
   "execution_count": 28,
   "id": "47f35e94-dbbd-4f97-9789-f4445f2be971",
   "metadata": {
    "tags": []
   },
   "outputs": [
    {
     "data": {
      "image/png": "[encoded data removed]",
      "text/plain": [
       "<Figure size 640x480 with 1 Axes>"
      ]
     },
     "metadata": {},
     "output_type": "display_data"
    }
   ],
   "source": [
    "import numpy as np\n",
    "from scipy.stats import chi2\n",
    "import matplotlib.pyplot as plt\n",
    "\n",
    "# degrees of freedom\n",
    "dof = 10\n",
    "\n",
    "# x values\n",
    "x = np.linspace(0,30,500)\n",
    "\n",
    "# chi-square distribution\n",
    "chi = chi2.pdf(x, d0f)\n",
    "\n",
    "# plot\n",
    "plt.plot(x, chi, label=f\"df={df}\",color='green')\n",
    "plt.xlabel(\"X\")\n",
    "plt.ylabel(\"Density\")\n",
    "\n",
    "# Shade the area corresponding to a chi-square statistic of 15\n",
    "plt.fill_between(x[x>=15], chi[x>=15], alpha=0.5,color='green')\n",
    "\n",
    "# legend\n",
    "plt.legend()\n",
    "\n",
    "plt.show()"
   ]
  },
  {
   "cell_type": "markdown",
   "id": "b140724d-28b7-4947-a9a7-f49dda956e26",
   "metadata": {},
   "source": []
  },
  {
   "cell_type": "markdown",
   "id": "05c94dbc-0c1f-477b-bb9d-4e067688fc5e",
   "metadata": {},
   "source": []
  },
  {
   "cell_type": "markdown",
   "id": "513da68e-5058-4c59-892a-c16cd2a13667",
   "metadata": {},
   "source": []
  },
  {
   "cell_type": "markdown",
   "id": "400f45bf-9473-4f8b-b70c-151ffd830034",
   "metadata": {},
   "source": []
  },
  {
   "cell_type": "markdown",
   "id": "272b805f-099a-482a-acd4-7d4f182f5326",
   "metadata": {
    "tags": []
   },
   "source": [
    "# Q7. A random sample of 1000 people was asked if they preferred Coke or Pepsi. Of the sample, 520 preferred Coke. Calculate a 99% confidence interval for the true proportion of people in the population who prefer Coke."
   ]
  },
  {
   "cell_type": "code",
   "execution_count": 53,
   "id": "1cf2e3ea-b336-4413-b0d5-39a7127da723",
   "metadata": {
    "tags": []
   },
   "outputs": [
    {
     "name": "stdout",
     "output_type": "stream",
     "text": [
      "The true proportion of people who prefer Coke is between (0.47931 , 0.56069) with a 99.0% confidence level.\n"
     ]
    }
   ],
   "source": [
    "import math\n",
    "from scipy.stats import norm\n",
    "\n",
    "# data\n",
    "p = 520/1000  # Probability of Coke\n",
    "q = 1 - p # Probability of Pepsi\n",
    "n = 1000\n",
    "confidence_level = 0.99\n",
    "\n",
    "# z-score\n",
    "z_score = norm.ppf((1 + confidence_level) / 2)\n",
    "\n",
    "# SE (standard error)\n",
    "SE = math.sqrt(p*q/n)\n",
    "\n",
    "# margin of error\n",
    "moe = z_score * SE\n",
    "\n",
    "# confidence interval\n",
    "lower_bound,upper_bound = p - moe , p + moe\n",
    "\n",
    "# result\n",
    "print(f'The true proportion of people who prefer Coke is between ({lower_bound:.5f} , {upper_bound:.5f}) with a {confidence_level*100}% confidence level.')"
   ]
  },
  {
   "cell_type": "markdown",
   "id": "dc64f753-b5ff-45c1-ad4b-0495b5726659",
   "metadata": {},
   "source": [
    "### Therefore, we can say with 99% confidence that the true proportion of people in the population who prefer Coke is between 0.47931 and 0.56069."
   ]
  },
  {
   "cell_type": "markdown",
   "id": "375775f7-16a1-437e-b416-a68375b01000",
   "metadata": {},
   "source": []
  },
  {
   "cell_type": "markdown",
   "id": "9915f4b5-77a9-4f06-a0ea-c03e9c1f45b5",
   "metadata": {},
   "source": []
  },
  {
   "cell_type": "markdown",
   "id": "d455f921-b75e-4f23-be98-62241ef92489",
   "metadata": {},
   "source": []
  },
  {
   "cell_type": "markdown",
   "id": "0e98e172-1d58-4d9f-8e97-963ee7ea6e62",
   "metadata": {},
   "source": []
  },
  {
   "cell_type": "markdown",
   "id": "99d19fbe-fdf5-4d10-aba7-282b581c2d85",
   "metadata": {},
   "source": [
    "# Q8. A researcher hypothesizes that a coin is biased towards tails. They flip the coin 100 times and observe 45 tails. Conduct a chi-square goodness of fit test to determine if the observed frequencies match the expected frequencies of a fair coin. Use a significance level of 0.05."
   ]
  },
  {
   "cell_type": "markdown",
   "id": "c2e13d03-8a52-490a-8450-9b398d7aec8b",
   "metadata": {},
   "source": [
    "## Step 1: The null and alternative hypotheses.\n",
    "\n",
    "##### The null hypothesis (H0) is that the coin is fair, with an equal probability of heads and tails. \n",
    "\n",
    "##### The alternative hypothesis (Ha) is that the coin is biased towards tails.\n",
    "\n",
    "####  H0: The coin is fair, with P(heads) = 0.5 and P(tails) = 0.5.\n",
    "\n",
    "#### Ha: The coin is biased towards tails, with P(heads) < 0.5 and P(tails) > 0.5.\n",
    "\n",
    "## Step 2: Level of significance.\n",
    "\n",
    "#### We are using a significance level of 0.05, which means that we are willing to reject the null hypothesis if the probability of observing the data given the null hypothesis is less than or equal to 0.05."
   ]
  },
  {
   "cell_type": "code",
   "execution_count": 68,
   "id": "ffa6e1fb-518c-4b6f-b025-e1cfc95e7a18",
   "metadata": {
    "tags": []
   },
   "outputs": [],
   "source": [
    "significance_level = 0.05"
   ]
  },
  {
   "cell_type": "markdown",
   "id": "318968d1-a6b1-4342-97ce-adb4016d7b65",
   "metadata": {},
   "source": [
    "\n",
    "## Step 3: Calculating expected frequencies.\n",
    "\n",
    "#### Under the null hypothesis, we expect to see 50 heads and 50 tails in 100 flips. Therefore, the expected frequencies are:\n",
    "\n",
    "#### Expected frequency of heads = 0.5 * 100 = 50\n",
    "#### Expected frequency of tails = 0.5 * 100 = 50\n",
    "\n",
    "## Step 4: Calculating Chi-Square test statistic.\n",
    "\n",
    "#### The test statistic for the chi-square goodness of fit test is calculated as:\n",
    "\n",
    "#### X2 = Σ(Oi - Ei)2 / Ei\n",
    "\n",
    "##### where Oi is the observed frequency, Ei is the expected frequency, and Σ is the sum over all categories.\n",
    "\n",
    "#### In this case, we have two categories: heads and tails. Therefore, the formula simplifies to:\n",
    "\n",
    "##### X2 = [(Observed frequency of heads - Expected frequency of heads)2 / Expected frequency of heads] + [(Observed frequency of tails - Expected frequency of tails)2 / Expected frequency of tails]\n",
    "\n",
    "#### Observed fequency of heads = 55 \n",
    "#### Observed fequency of tails = 45\n",
    "#### Expected fequency of heads = 50\n",
    "#### Expected fequency of tails = 50 "
   ]
  },
  {
   "cell_type": "code",
   "execution_count": 83,
   "id": "140eb883-b479-4e9c-8ab9-9bed8a8014cd",
   "metadata": {
    "tags": []
   },
   "outputs": [],
   "source": [
    "X2 = ((55 - 50)**2 / 50) + ((45 - 50)**2 / 50)"
   ]
  },
  {
   "cell_type": "markdown",
   "id": "00671cba-228e-4c1b-bad6-db9ea5c6f947",
   "metadata": {
    "tags": []
   },
   "source": [
    "## Step 5: Determine the p-value.\n",
    "### The p-value for the chi-square goodness of fit test with one degree of freedom and a significance level of 0.05 is given by:"
   ]
  },
  {
   "cell_type": "code",
   "execution_count": 92,
   "id": "4764ccdf-bd8e-45ce-8d47-52e74c98d2bf",
   "metadata": {
    "tags": []
   },
   "outputs": [
    {
     "data": {
      "text/plain": [
       "0.49999999999999956"
      ]
     },
     "execution_count": 92,
     "metadata": {},
     "output_type": "execute_result"
    }
   ],
   "source": [
    "from scipy.stats import t\n",
    "dof = 1\n",
    "p_value = t.sf(abs(X2),dof) * 2  # 2-tailed test\n",
    "p_value"
   ]
  },
  {
   "cell_type": "markdown",
   "id": "2f111daa-766b-4903-9df2-bf10e76318c6",
   "metadata": {},
   "source": [
    "## Step 6: Compare the p-value with significance level."
   ]
  },
  {
   "cell_type": "code",
   "execution_count": 90,
   "id": "0b1319de-55cb-48fb-8a05-f37ba77d4efd",
   "metadata": {
    "tags": []
   },
   "outputs": [
    {
     "name": "stdout",
     "output_type": "stream",
     "text": [
      "Fail to reject the null hypothesis with a p-value of 0.31731050786291115\n"
     ]
    }
   ],
   "source": [
    "if p_value < significance_level:\n",
    "    print(f\"Reject the null hypothesis with a p-value of {p_value}\")\n",
    "else:\n",
    "    print(f\"Fail to reject the null hypothesis with a p-value of {p_value}\")"
   ]
  },
  {
   "cell_type": "markdown",
   "id": "0b2af5c1-2acb-4cca-a7a0-0447b8f92e92",
   "metadata": {},
   "source": [
    "## Step 7: Conclusion\n",
    "\n",
    "### Since we fail to reject the null hypothesis, we can conclude that there is not enough evidence to support the claim that the coin is biased towards tails. The observed frequencies of 55 heads and 45 tails are not significantly different from the expected frequencies of 50 heads and 50 tails for a fair coin. Therefore, we cannot conclude that the coin is biased towards tails based on this data."
   ]
  },
  {
   "cell_type": "markdown",
   "id": "6f2ca9c4-1db6-4fc5-a7c2-5e8d9b3046dc",
   "metadata": {},
   "source": []
  },
  {
   "cell_type": "markdown",
   "id": "6432f2a4-a5fd-4abc-b1dd-30f180cc1b7d",
   "metadata": {},
   "source": []
  },
  {
   "cell_type": "markdown",
   "id": "665d3a8a-67c6-4d12-b034-20f6570e4636",
   "metadata": {},
   "source": []
  },
  {
   "cell_type": "markdown",
   "id": "b94ff7a1-9001-4aad-a4c6-dc66384a6b01",
   "metadata": {},
   "source": []
  },
  {
   "cell_type": "markdown",
   "id": "ae9b0770-0abf-4309-a51d-258fb9fe41b2",
   "metadata": {},
   "source": [
    "# Q9. A study was conducted to determine if there is an association between smoking status (smoker or non-smoker) and lung cancer diagnosis (yes or no). The results are shown in the contingency table below.Conduct a chi-square test for independence to determine if there is a significant association between smoking status and lung cancer diagnosis.\n",
    "<img src ='9.png'>\n",
    "\n",
    "### Use a significance level of 0.05."
   ]
  },
  {
   "cell_type": "markdown",
   "id": "b92ecb96-d432-4f74-8ce0-aff57d4485c4",
   "metadata": {},
   "source": [
    "## Hypothesis\n",
    "### H0: There is no significant association between smoking status and lung cancer diagnosis.\n",
    "\n",
    "### Ha: There is a significant association between smoking status and lung cancer diagnosis."
   ]
  },
  {
   "cell_type": "code",
   "execution_count": 135,
   "id": "d9893452-3340-4c7c-8241-912c1fbc1c21",
   "metadata": {
    "tags": []
   },
   "outputs": [
    {
     "name": "stdout",
     "output_type": "stream",
     "text": [
      "p-value: 0.0005158863863703744\n",
      "Reject the null hypothesis with a p-value of 0.0005158863863703744\n"
     ]
    }
   ],
   "source": [
    "from scipy.stats import chi2_contingency\n",
    "import numpy as np\n",
    "\n",
    "significance_level = 0.05\n",
    "\n",
    "# contingency table\n",
    "observed = np.array([[60, 140], [30, 170]])\n",
    "\n",
    "# Calculationg chi-square test statistic and p-value\n",
    "chi_stat, p_value, dof, expected = chi2_contingency(observed)\n",
    "\n",
    "# p-value\n",
    "print('p-value:', p_value)\n",
    "\n",
    "if p_value < significance_level:\n",
    "    print(f\"Reject the null hypothesis with a p-value of {p_value}\")\n",
    "else:\n",
    "    print(f\"Fail to reject the null hypothesis with a p-value of {p_value}\")"
   ]
  },
  {
   "cell_type": "markdown",
   "id": "c2e109e7-83bd-4f8b-b69e-a21ef0040a4b",
   "metadata": {},
   "source": [
    "## Conclusion\n",
    "### We reject the null hypothesis, So we can conclude that, there is a significant association between smoking status and lung cancer diagnosis with 95% confidence interval.Therefore, we can conclude that the smoking status is not independent of lung-cancer diagnosis."
   ]
  },
  {
   "cell_type": "markdown",
   "id": "fa6d5f1b-9545-4399-abdd-32b946c4135f",
   "metadata": {},
   "source": []
  },
  {
   "cell_type": "markdown",
   "id": "4a9c680e-6f56-4a7d-b5e7-02e08e1214da",
   "metadata": {},
   "source": []
  },
  {
   "cell_type": "markdown",
   "id": "42927824-375e-4f72-a0aa-331edf52c49c",
   "metadata": {},
   "source": []
  },
  {
   "cell_type": "markdown",
   "id": "b5af3281-82f3-410c-83d3-a681c6c7d8e7",
   "metadata": {},
   "source": []
  },
  {
   "cell_type": "markdown",
   "id": "98b4a97c-6e24-4b29-8a1e-44b859bfbfc4",
   "metadata": {},
   "source": [
    "# Q10. A study was conducted to determine if the proportion of people who prefer milk chocolate, dark chocolate, or white chocolate is different in the U.S. versus the U.K. A random sample of 500 people from the U.S. and a random sample of 500 people from the U.K. were surveyed. The results are shown in the contingency table below. Conduct a chi-square test for independence to determine if there is a significant association between chocolate preference and country of origin.\n",
    "<img src ='10.png'>\n",
    "\n",
    "# Use a significance level of 0.01."
   ]
  },
  {
   "cell_type": "markdown",
   "id": "84bd04c7-be04-4e7b-aa17-814c6d31c924",
   "metadata": {},
   "source": [
    "## Hypothesis\n",
    "### H0: There is no significant association between chocolate preference & country of origin.\n",
    "\n",
    "### Ha: There is a significant association between chocolate preference & country of origin."
   ]
  },
  {
   "cell_type": "code",
   "execution_count": 136,
   "id": "9483fe86-6e88-4985-bfc4-8475d2a141f7",
   "metadata": {
    "tags": []
   },
   "outputs": [
    {
     "name": "stdout",
     "output_type": "stream",
     "text": [
      "p-value: 0.0012348168997745915\n",
      "Reject the null hypothesis with a p-value of 0.0012348168997745915\n"
     ]
    }
   ],
   "source": [
    "from scipy.stats import chi2_contingency\n",
    "import numpy as np\n",
    "\n",
    "significance_level = 0.01\n",
    "\n",
    "# contingency table\n",
    "observed = np.array([[200,150,150], [225,175,100]])\n",
    "\n",
    "# Calculationg chi-square test statistic and p-value\n",
    "chi_stat, p_value, dof, expected = chi2_contingency(observed)\n",
    "\n",
    "# p-value\n",
    "print('p-value:', p_value)\n",
    "\n",
    "if p_value < significance_level:\n",
    "    print(f\"Reject the null hypothesis with a p-value of {p_value}\")\n",
    "else:\n",
    "    print(f\"Fail to reject the null hypothesis with a p-value of {p_value}\")"
   ]
  },
  {
   "cell_type": "markdown",
   "id": "03f47c86-1c47-4747-8d69-3354d6b3e9fc",
   "metadata": {},
   "source": [
    "## Conclusion\n",
    "### We reject the null hypothesis, So we can conclude that, there is a significant association between chocolate preference and country of origin with 99% confidence interval. Therefore, we can conclude that chocolate preference is not independent of country of origin."
   ]
  },
  {
   "cell_type": "markdown",
   "id": "5ba6ea02-794a-4ff4-89c7-58efe736a5da",
   "metadata": {},
   "source": []
  },
  {
   "cell_type": "markdown",
   "id": "ccacd55b-600f-43f8-8711-9d0562255c7f",
   "metadata": {},
   "source": []
  },
  {
   "cell_type": "markdown",
   "id": "995a6223-de6f-462d-9b47-954e08cd356a",
   "metadata": {},
   "source": []
  },
  {
   "cell_type": "markdown",
   "id": "8a608ac0-a050-49cc-892e-249ccad3175a",
   "metadata": {},
   "source": []
  },
  {
   "cell_type": "markdown",
   "id": "1e0bf4ba-d5ce-42cb-9344-96a96a89c2e8",
   "metadata": {},
   "source": [
    "# Q11. A random sample of 30 people was selected from a population with an unknown mean and standard deviation. The sample mean was found to be 72 and the sample standard deviation was found to be 10. Conduct a hypothesis test to determine if the population mean is significantly different from 70. Use a significance level of 0.05."
   ]
  },
  {
   "cell_type": "code",
   "execution_count": 57,
   "id": "f3c91160-c7e2-4919-90dc-3f3c176094e9",
   "metadata": {
    "tags": []
   },
   "outputs": [],
   "source": [
    "import math\n",
    "from scipy.stats import t\n",
    "# Given \n",
    "sample_mean = 72\n",
    "mu = 70  # (Hypothesized mean)\n",
    "sample_std = 10\n",
    "sample_size = 30\n",
    "significance_level = 0.05"
   ]
  },
  {
   "cell_type": "markdown",
   "id": "ebd1c32c-effb-45c3-a0ab-5f4f70aafe5a",
   "metadata": {
    "tags": []
   },
   "source": [
    "## Null hypothesis (H0):\n",
    "### The population mean is not significantly different from 70 (μ = 70).\n",
    "## Alternative hypothesis (Ha):\n",
    "### The population mean is significantly different from 70 (μ ≠ 70)."
   ]
  },
  {
   "cell_type": "markdown",
   "id": "c54c7ed8-a459-4725-9066-1ef244c4a01d",
   "metadata": {},
   "source": [
    "### Since, the population standard deviation is unknown and sample size is also small (n = 30), Therefore we use T-test."
   ]
  },
  {
   "cell_type": "code",
   "execution_count": 59,
   "id": "8ba27ec2-98cf-414d-9133-0700f7733fb1",
   "metadata": {
    "tags": []
   },
   "outputs": [
    {
     "name": "stdout",
     "output_type": "stream",
     "text": [
      "Fail to reject the null hypothesis with a p-value of 0.28233623728606977\n"
     ]
    }
   ],
   "source": [
    "# t-statistic\n",
    "t_stat = (sample_mean - mu) / (sample_std / math.sqrt(sample_size))\n",
    "\n",
    "# p-value\n",
    "p_value = t.sf(abs(t_stat), dof:=sample_size-1) *2 # 2-tailed test\n",
    "\n",
    "# Conclusion\n",
    "if p_value < significance_level:\n",
    "    print(f\"Reject the null hypothesis with a p-value of {p_value}\")\n",
    "else:\n",
    "    print(f\"Fail to reject the null hypothesis with a p-value of {p_value}\")"
   ]
  },
  {
   "cell_type": "markdown",
   "id": "c3e573e4-78ab-4f24-ae52-ae4792b7f597",
   "metadata": {
    "tags": []
   },
   "source": [
    "### Based on the hypothesis test, we can conclude that there is not enough evidence to suggest that the population mean is significantly different from 70 at the 0.05 level of significance."
   ]
  }
 ],
 "metadata": {
  "kernelspec": {
   "display_name": "Python 3 (ipykernel)",
   "language": "python",
   "name": "python3"
  },
  "language_info": {
   "codemirror_mode": {
    "name": "ipython",
    "version": 3
   },
   "file_extension": ".py",
   "mimetype": "text/x-python",
   "name": "python",
   "nbconvert_exporter": "python",
   "pygments_lexer": "ipython3",
   "version": "3.11.2"
  }
 },
 "nbformat": 4,
 "nbformat_minor": 5
}
