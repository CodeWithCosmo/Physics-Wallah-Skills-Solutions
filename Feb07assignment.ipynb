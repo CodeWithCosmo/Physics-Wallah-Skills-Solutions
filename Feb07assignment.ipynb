{
 "cells": [
  {
   "cell_type": "markdown",
   "id": "b1ffa27e",
   "metadata": {},
   "source": [
    "# 1"
   ]
  },
  {
   "cell_type": "code",
   "execution_count": 1,
   "id": "de0c5ae5",
   "metadata": {},
   "outputs": [
    {
     "name": "stdout",
     "output_type": "stream",
     "text": [
      "\t\t\tPW Skills Lab\n",
      "-> Set your password of minimum length 10 and whitespaces not valid.\n",
      "-> Password should contain atleast 2 uppercaases & 2 lowercases.\n",
      "-> Password should contain atleast 3 special characters & 1 number.\n",
      "Enter password: la34L$%^\n",
      "Invalid passwrod !\n",
      "Enter password: LA10@#$%df+\n",
      "Password is successfully set.\n"
     ]
    }
   ],
   "source": [
    "def uppercase_chk(str):\n",
    "\tcount = 0\n",
    "\tfor i in str:\n",
    "\t\tif ord(i) >= 65 and ord(i) <= 90:\n",
    "\t\t\tcount += 1\n",
    "\treturn count\n",
    "\n",
    "\n",
    "def lowercase_chk(str):\n",
    "\tcount = 0\n",
    "\tfor i in str:\n",
    "\t\tif ord(i) >= 97 and ord(i) <= 122:\n",
    "\t\t\tcount += 1\n",
    "\treturn count\n",
    "\n",
    "\n",
    "def special_chk(str):\n",
    "\tspecial_chrs = '^!@#$%&*?[{(\\`<~-_=+,.;:>/)}]|'\n",
    "\tcount = 0\n",
    "\tfor i in str:\n",
    "\t\tif i in special_chrs:\n",
    "\t\t\tcount += 1\n",
    "\treturn count\n",
    "\n",
    "\n",
    "def number_chk(str):\n",
    "\tcount = 0\n",
    "\tfor i in str:\n",
    "\t\tif ord(i) >= 48 and ord(i) <= 57:\n",
    "\t\t\tcount += 1\n",
    "\treturn count\n",
    "\n",
    "\n",
    "def spaces_chk(str):\n",
    "\tif chr(32) not in str:\n",
    "\t\treturn True\n",
    "\telse:\n",
    "\t\treturn False\n",
    "\n",
    "\n",
    "def password_check(str):\n",
    "\tif len(str) >= 10 and uppercase_chk(str) >= 2 and lowercase_chk(\n",
    "\t  str) >= 2 and special_chk(str) >= 3 and number_chk(str) >= 1 and spaces_chk(\n",
    "\t   str) == True:\n",
    "\t\tprint('Password is successfully set.')\n",
    "\t\treturn True\n",
    "\telse:\n",
    "\t\tprint('Invalid passwrod !')\n",
    "\t\treturn False\n",
    "\n",
    "\n",
    "print('\\t\\t\\tPW Skills Lab')\n",
    "print('-> Set your password of minimum length 10 and whitespaces not valid.')\n",
    "print('-> Password should contain atleast 2 uppercaases & 2 lowercases.')\n",
    "print('-> Password should contain atleast 3 special characters & 1 number.')\n",
    "while True:\n",
    "\tpassword = input('Enter password: ')\n",
    "\twhile password_check(password) != True:\n",
    "\t\tpassword = input('Enter password: ')\n",
    "\tbreak\n"
   ]
  },
  {
   "cell_type": "markdown",
   "id": "d0f5ec1e",
   "metadata": {},
   "source": [
    "# 2"
   ]
  },
  {
   "cell_type": "code",
   "execution_count": 7,
   "id": "c746361b",
   "metadata": {},
   "outputs": [
    {
     "data": {
      "text/plain": [
       "[False]"
      ]
     },
     "execution_count": 7,
     "metadata": {},
     "output_type": "execute_result"
    }
   ],
   "source": [
    "# Check if the string starts with a particular letter\n",
    "\n",
    "string = 'PW Skills Data Science'\n",
    "start_with = 'G'\n",
    "[True if string[0] == start_with else False]"
   ]
  },
  {
   "cell_type": "code",
   "execution_count": 9,
   "id": "414de9f7",
   "metadata": {},
   "outputs": [
    {
     "data": {
      "text/plain": [
       "[True]"
      ]
     },
     "execution_count": 9,
     "metadata": {},
     "output_type": "execute_result"
    }
   ],
   "source": [
    "start_with = 'P'\n",
    "[True if string[0] == start_with else False]"
   ]
  },
  {
   "cell_type": "code",
   "execution_count": 50,
   "id": "5f692373",
   "metadata": {},
   "outputs": [
    {
     "data": {
      "text/plain": [
       "[False]"
      ]
     },
     "execution_count": 50,
     "metadata": {},
     "output_type": "execute_result"
    }
   ],
   "source": [
    "# Check if the string is numeric\n",
    "\n",
    "string = '123gmail.com'\n",
    "[True if string.isnumeric() else False]"
   ]
  },
  {
   "cell_type": "code",
   "execution_count": 19,
   "id": "87cba3ca",
   "metadata": {},
   "outputs": [
    {
     "data": {
      "text/plain": [
       "[True]"
      ]
     },
     "execution_count": 19,
     "metadata": {},
     "output_type": "execute_result"
    }
   ],
   "source": [
    "string = '123'\n",
    "[True if string.isnumeric() else False]"
   ]
  },
  {
   "cell_type": "code",
   "execution_count": 49,
   "id": "b0d63f5b",
   "metadata": {},
   "outputs": [],
   "source": [
    "# Find the squares of numbers from 1 to 10\n",
    "\n",
    "numbers = [1,2,3,4,5,6,7,8,9,10]"
   ]
  },
  {
   "cell_type": "code",
   "execution_count": 26,
   "id": "e5f2c2d3",
   "metadata": {},
   "outputs": [
    {
     "data": {
      "text/plain": [
       "[1, 4, 9, 16, 25, 36, 49, 64, 81, 100]"
      ]
     },
     "execution_count": 26,
     "metadata": {},
     "output_type": "execute_result"
    }
   ],
   "source": [
    "squares = map(lambda x: x**2 , numbers)\n",
    "list(squares)"
   ]
  },
  {
   "cell_type": "code",
   "execution_count": 47,
   "id": "5eed4a45",
   "metadata": {},
   "outputs": [
    {
     "data": {
      "text/plain": [
       "[1, 8, 27, 64, 125, 216, 343, 512, 729, 1000]"
      ]
     },
     "execution_count": 47,
     "metadata": {},
     "output_type": "execute_result"
    }
   ],
   "source": [
    "# Find the cube root of numbers from 1 to 10\n",
    "\n",
    "cubes = map(lambda x: x**3 , numbers)\n",
    "list(cubes)"
   ]
  },
  {
   "cell_type": "code",
   "execution_count": 46,
   "id": "0931cf11",
   "metadata": {},
   "outputs": [
    {
     "data": {
      "text/plain": [
       "['even']"
      ]
     },
     "execution_count": 46,
     "metadata": {},
     "output_type": "execute_result"
    }
   ],
   "source": [
    "# Check if a given number is even.\n",
    "\n",
    "given_number = 6\n",
    "['even' if given_number % 2 == 0 else 'odd']"
   ]
  },
  {
   "cell_type": "code",
   "execution_count": 45,
   "id": "9ac0d96c",
   "metadata": {},
   "outputs": [
    {
     "data": {
      "text/plain": [
       "[1, 3, 5, 7, 9]"
      ]
     },
     "execution_count": 45,
     "metadata": {},
     "output_type": "execute_result"
    }
   ],
   "source": [
    "# Filter odd numbers from the given list.\n",
    "\n",
    "list1 = [1,2,3,4,5,6,7,8,9,10]\n",
    "odd_numbers = filter(lambda x: x % 2 != 0, list1)\n",
    "list(odd_numbers)"
   ]
  },
  {
   "cell_type": "code",
   "execution_count": 44,
   "id": "525493f6",
   "metadata": {},
   "outputs": [],
   "source": [
    "# Sort a list of integers into positive and negative integers lists.\n",
    "\n",
    "intergers = [1,2,3,4,5,6,-1,-2,-3,-4,-5,0]"
   ]
  },
  {
   "cell_type": "code",
   "execution_count": 42,
   "id": "0a3eaf4e",
   "metadata": {},
   "outputs": [
    {
     "data": {
      "text/plain": [
       "[1, 2, 3, 4, 5, 6, 0]"
      ]
     },
     "execution_count": 42,
     "metadata": {},
     "output_type": "execute_result"
    }
   ],
   "source": [
    "positive_intergers = filter(lambda x: x >= 0, intergers)\n",
    "list(positive_intergers)"
   ]
  },
  {
   "cell_type": "code",
   "execution_count": 43,
   "id": "2e681fad",
   "metadata": {},
   "outputs": [
    {
     "data": {
      "text/plain": [
       "[-1, -2, -3, -4, -5]"
      ]
     },
     "execution_count": 43,
     "metadata": {},
     "output_type": "execute_result"
    }
   ],
   "source": [
    "negative_intergers = filter(lambda x: x < 0, intergers)\n",
    "list(negative_intergers)"
   ]
  },
  {
   "cell_type": "code",
   "execution_count": 64,
   "id": "2ec7cb5b",
   "metadata": {},
   "outputs": [],
   "source": [
    "# Sort a list of tuples having fruit names and their quantity. \n",
    "\n",
    "fruits_quantity = [(\"mango\",99),(\"orange\",80), (\"grapes\", 1000)]"
   ]
  },
  {
   "cell_type": "code",
   "execution_count": 63,
   "id": "7d717a2f",
   "metadata": {},
   "outputs": [
    {
     "data": {
      "text/plain": [
       "[[('grapes', 1000), ('mango', 99), ('orange', 80)]]"
      ]
     },
     "execution_count": 63,
     "metadata": {},
     "output_type": "execute_result"
    }
   ],
   "source": [
    "# Sorted by the fruits names\n",
    "[sorted(fruits_quantity, key = lambda x: x[0])] "
   ]
  },
  {
   "cell_type": "code",
   "execution_count": 62,
   "id": "ea3a924d",
   "metadata": {},
   "outputs": [
    {
     "data": {
      "text/plain": [
       "[[('orange', 80), ('mango', 99), ('grapes', 1000)]]"
      ]
     },
     "execution_count": 62,
     "metadata": {},
     "output_type": "execute_result"
    }
   ],
   "source": [
    "# Sorted by the fruits quantity\n",
    "[sorted(fruits_quantity, key = lambda x: x[1])] "
   ]
  }
 ],
 "metadata": {
  "kernelspec": {
   "display_name": "Python 3 (ipykernel)",
   "language": "python",
   "name": "python3"
  },
  "language_info": {
   "codemirror_mode": {
    "name": "ipython",
    "version": 3
   },
   "file_extension": ".py",
   "mimetype": "text/x-python",
   "name": "python",
   "nbconvert_exporter": "python",
   "pygments_lexer": "ipython3",
   "version": "3.11.1"
  },
  "vscode": {
   "interpreter": {
    "hash": "60604c6687abd3d44db2988d94478afd71bdd2eba4a4e06208197b7b67afacd2"
   }
  }
 },
 "nbformat": 4,
 "nbformat_minor": 5
}
