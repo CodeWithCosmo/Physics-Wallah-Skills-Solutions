{
 "cells": [
  {
   "cell_type": "markdown",
   "id": "7fe05594-d2a4-47f0-97bc-659dc78d1905",
   "metadata": {},
   "source": [
    "# Q1. Pearson correlation coefficient is a measure of the linear relationship between two variables. Suppose you have collected data on the amount of time students spend studying for an exam and their final exam scores. Calculate the Pearson correlation coefficient between these two variables and interpret the result."
   ]
  },
  {
   "cell_type": "markdown",
   "id": "4e69ee50-89d9-4a53-95a1-4a1595f88fa4",
   "metadata": {},
   "source": [
    "## DISCLAIMER: Data generated may be not related to actual world"
   ]
  },
  {
   "cell_type": "code",
   "execution_count": 1,
   "id": "901f9423-5cc2-4102-8004-2320a4123c99",
   "metadata": {
    "tags": []
   },
   "outputs": [],
   "source": [
    "import pandas as pd \n",
    "import numpy as np"
   ]
  },
  {
   "cell_type": "code",
   "execution_count": 263,
   "id": "f2676079-11d7-4647-bcf4-735821285856",
   "metadata": {
    "tags": []
   },
   "outputs": [],
   "source": [
    "# creating a sample data of 100 students\n",
    "hours = [round(np.random.uniform(10),2) for _ in range(100)]\n",
    "score = [np.random.randint(50,100) for _ in range(100)]"
   ]
  },
  {
   "cell_type": "code",
   "execution_count": 290,
   "id": "3f1051a7-1371-4a4c-92f0-720df985af60",
   "metadata": {
    "tags": []
   },
   "outputs": [],
   "source": [
    "df = pd.DataFrame({'study_hours':hours,'score':score})"
   ]
  },
  {
   "cell_type": "code",
   "execution_count": 291,
   "id": "c351dd8f-1867-43c7-990c-88915c9cee1c",
   "metadata": {
    "tags": []
   },
   "outputs": [
    {
     "data": {
      "text/html": [
       "<div>\n",
       "<style scoped>\n",
       "    .dataframe tbody tr th:only-of-type {\n",
       "        vertical-align: middle;\n",
       "    }\n",
       "\n",
       "    .dataframe tbody tr th {\n",
       "        vertical-align: top;\n",
       "    }\n",
       "\n",
       "    .dataframe thead th {\n",
       "        text-align: right;\n",
       "    }\n",
       "</style>\n",
       "<table border=\"1\" class=\"dataframe\">\n",
       "  <thead>\n",
       "    <tr style=\"text-align: right;\">\n",
       "      <th></th>\n",
       "      <th>study_hours</th>\n",
       "      <th>score</th>\n",
       "    </tr>\n",
       "  </thead>\n",
       "  <tbody>\n",
       "    <tr>\n",
       "      <th>0</th>\n",
       "      <td>5.76</td>\n",
       "      <td>51</td>\n",
       "    </tr>\n",
       "    <tr>\n",
       "      <th>1</th>\n",
       "      <td>7.20</td>\n",
       "      <td>84</td>\n",
       "    </tr>\n",
       "    <tr>\n",
       "      <th>2</th>\n",
       "      <td>5.20</td>\n",
       "      <td>58</td>\n",
       "    </tr>\n",
       "    <tr>\n",
       "      <th>3</th>\n",
       "      <td>7.11</td>\n",
       "      <td>62</td>\n",
       "    </tr>\n",
       "    <tr>\n",
       "      <th>4</th>\n",
       "      <td>7.69</td>\n",
       "      <td>78</td>\n",
       "    </tr>\n",
       "  </tbody>\n",
       "</table>\n",
       "</div>"
      ],
      "text/plain": [
       "   study_hours  score\n",
       "0         5.76     51\n",
       "1         7.20     84\n",
       "2         5.20     58\n",
       "3         7.11     62\n",
       "4         7.69     78"
      ]
     },
     "execution_count": 291,
     "metadata": {},
     "output_type": "execute_result"
    }
   ],
   "source": [
    "df.head()"
   ]
  },
  {
   "cell_type": "code",
   "execution_count": 292,
   "id": "54ff01c4-b520-4e6a-9616-3e8b12c56306",
   "metadata": {
    "tags": []
   },
   "outputs": [
    {
     "data": {
      "text/html": [
       "<div>\n",
       "<style scoped>\n",
       "    .dataframe tbody tr th:only-of-type {\n",
       "        vertical-align: middle;\n",
       "    }\n",
       "\n",
       "    .dataframe tbody tr th {\n",
       "        vertical-align: top;\n",
       "    }\n",
       "\n",
       "    .dataframe thead th {\n",
       "        text-align: right;\n",
       "    }\n",
       "</style>\n",
       "<table border=\"1\" class=\"dataframe\">\n",
       "  <thead>\n",
       "    <tr style=\"text-align: right;\">\n",
       "      <th></th>\n",
       "      <th>study_hours</th>\n",
       "      <th>score</th>\n",
       "    </tr>\n",
       "  </thead>\n",
       "  <tbody>\n",
       "    <tr>\n",
       "      <th>study_hours</th>\n",
       "      <td>1.000000</td>\n",
       "      <td>0.254242</td>\n",
       "    </tr>\n",
       "    <tr>\n",
       "      <th>score</th>\n",
       "      <td>0.254242</td>\n",
       "      <td>1.000000</td>\n",
       "    </tr>\n",
       "  </tbody>\n",
       "</table>\n",
       "</div>"
      ],
      "text/plain": [
       "             study_hours     score\n",
       "study_hours     1.000000  0.254242\n",
       "score           0.254242  1.000000"
      ]
     },
     "execution_count": 292,
     "metadata": {},
     "output_type": "execute_result"
    }
   ],
   "source": [
    "df.corr(method = 'pearson')"
   ]
  },
  {
   "cell_type": "markdown",
   "id": "b1065cc3-0ac0-4cf5-9afb-9e6c084cca79",
   "metadata": {},
   "source": [
    "## Interpreting the result\n",
    "- ### The output shows the correlation matrix between study_hours and score. The diagonal elements of the correalation matrix represent the variances of each variable. For example, the variance of study_hours is 1, and the variance of score is also 1.\n",
    "\n",
    "- ### The off-diagonal element of the correlaion matrix represents the correlation between sutdy_hours and socre, which is 0.25. This value indicates that there is a moderate positive relationship between sutdy_hours and score. As study_hours increases, score will increase as well."
   ]
  },
  {
   "cell_type": "markdown",
   "id": "3770b0ce-3483-4598-ae51-059b25c1b0f1",
   "metadata": {},
   "source": []
  },
  {
   "cell_type": "markdown",
   "id": "109b583f-961c-4a9d-b337-e2ab3ec0b67e",
   "metadata": {},
   "source": []
  },
  {
   "cell_type": "markdown",
   "id": "add9d89e-fa1d-416c-9c91-f710a2f98118",
   "metadata": {},
   "source": []
  },
  {
   "cell_type": "markdown",
   "id": "0c1196e2-6229-4b90-9db5-11274a3477d7",
   "metadata": {},
   "source": []
  },
  {
   "cell_type": "markdown",
   "id": "8147ff72-55f7-45ec-a6f5-1a037074a983",
   "metadata": {},
   "source": []
  },
  {
   "cell_type": "markdown",
   "id": "bb78ef07-4407-48f6-a749-2e149eb3e8ec",
   "metadata": {},
   "source": [
    "# Q2. Spearman's rank correlation is a measure of the monotonic relationship between two variables.Suppose you have collected data on the amount of sleep individuals get each night and their overall job satisfaction level on a scale of 1 to 10. Calculate the Spearman's rank correlation between these two variables and interpret the result."
   ]
  },
  {
   "cell_type": "markdown",
   "id": "504ee1fa-7f56-47f8-90be-34101e8b53da",
   "metadata": {},
   "source": [
    "## DISCLAIMER: Data generated may be not related to actual world"
   ]
  },
  {
   "cell_type": "code",
   "execution_count": 267,
   "id": "5c8c5388-a566-4ee8-a3f5-82af69b24a24",
   "metadata": {},
   "outputs": [],
   "source": [
    "# creating a sample data of 100 individuals\n",
    "sleep_hours = [np.random.randint(4,9) for _ in range(100)]\n",
    "rating = [np.random.randint(1,11) for _ in range(100)]"
   ]
  },
  {
   "cell_type": "code",
   "execution_count": 268,
   "id": "30e77513-1420-443c-9ce7-e512183259c8",
   "metadata": {
    "tags": []
   },
   "outputs": [],
   "source": [
    "df = pd.DataFrame({'sleep_hours':sleep_hours,'job_satisfaction_level':rating})"
   ]
  },
  {
   "cell_type": "code",
   "execution_count": 269,
   "id": "3bf70335-b76d-4059-b319-c171b28bc582",
   "metadata": {
    "tags": []
   },
   "outputs": [
    {
     "data": {
      "text/html": [
       "<div>\n",
       "<style scoped>\n",
       "    .dataframe tbody tr th:only-of-type {\n",
       "        vertical-align: middle;\n",
       "    }\n",
       "\n",
       "    .dataframe tbody tr th {\n",
       "        vertical-align: top;\n",
       "    }\n",
       "\n",
       "    .dataframe thead th {\n",
       "        text-align: right;\n",
       "    }\n",
       "</style>\n",
       "<table border=\"1\" class=\"dataframe\">\n",
       "  <thead>\n",
       "    <tr style=\"text-align: right;\">\n",
       "      <th></th>\n",
       "      <th>sleep_hours</th>\n",
       "      <th>job_satisfaction_level</th>\n",
       "    </tr>\n",
       "  </thead>\n",
       "  <tbody>\n",
       "    <tr>\n",
       "      <th>0</th>\n",
       "      <td>5</td>\n",
       "      <td>10</td>\n",
       "    </tr>\n",
       "    <tr>\n",
       "      <th>1</th>\n",
       "      <td>7</td>\n",
       "      <td>9</td>\n",
       "    </tr>\n",
       "    <tr>\n",
       "      <th>2</th>\n",
       "      <td>7</td>\n",
       "      <td>3</td>\n",
       "    </tr>\n",
       "    <tr>\n",
       "      <th>3</th>\n",
       "      <td>5</td>\n",
       "      <td>2</td>\n",
       "    </tr>\n",
       "    <tr>\n",
       "      <th>4</th>\n",
       "      <td>8</td>\n",
       "      <td>10</td>\n",
       "    </tr>\n",
       "  </tbody>\n",
       "</table>\n",
       "</div>"
      ],
      "text/plain": [
       "   sleep_hours  job_satisfaction_level\n",
       "0            5                      10\n",
       "1            7                       9\n",
       "2            7                       3\n",
       "3            5                       2\n",
       "4            8                      10"
      ]
     },
     "execution_count": 269,
     "metadata": {},
     "output_type": "execute_result"
    }
   ],
   "source": [
    "df.head()"
   ]
  },
  {
   "cell_type": "code",
   "execution_count": 270,
   "id": "b2945422-b64c-4de5-9a82-a8370a449816",
   "metadata": {
    "tags": []
   },
   "outputs": [
    {
     "data": {
      "text/html": [
       "<div>\n",
       "<style scoped>\n",
       "    .dataframe tbody tr th:only-of-type {\n",
       "        vertical-align: middle;\n",
       "    }\n",
       "\n",
       "    .dataframe tbody tr th {\n",
       "        vertical-align: top;\n",
       "    }\n",
       "\n",
       "    .dataframe thead th {\n",
       "        text-align: right;\n",
       "    }\n",
       "</style>\n",
       "<table border=\"1\" class=\"dataframe\">\n",
       "  <thead>\n",
       "    <tr style=\"text-align: right;\">\n",
       "      <th></th>\n",
       "      <th>sleep_hours</th>\n",
       "      <th>job_satisfaction_level</th>\n",
       "    </tr>\n",
       "  </thead>\n",
       "  <tbody>\n",
       "    <tr>\n",
       "      <th>sleep_hours</th>\n",
       "      <td>1.000000</td>\n",
       "      <td>0.131407</td>\n",
       "    </tr>\n",
       "    <tr>\n",
       "      <th>job_satisfaction_level</th>\n",
       "      <td>0.131407</td>\n",
       "      <td>1.000000</td>\n",
       "    </tr>\n",
       "  </tbody>\n",
       "</table>\n",
       "</div>"
      ],
      "text/plain": [
       "                        sleep_hours  job_satisfaction_level\n",
       "sleep_hours                1.000000                0.131407\n",
       "job_satisfaction_level     0.131407                1.000000"
      ]
     },
     "execution_count": 270,
     "metadata": {},
     "output_type": "execute_result"
    }
   ],
   "source": [
    "df.corr(method = 'spearman')"
   ]
  },
  {
   "cell_type": "markdown",
   "id": "c91bb0f0-42dd-4c6a-bd26-ccda3bfb27f5",
   "metadata": {},
   "source": [
    "## Interpreting the result\n",
    "- ### The output shows the correlation matrix between sleep_hours and job_satisfaction_level. The diagonal elements of the correalation matrix represent the variances of each variable. For example, the variance of sleep_hours is 1, and the variance of job_satisfaction_level is also 1.\n",
    "\n",
    "- ### The off-diagonal element of the correlaion matrix represents the correlation between sleep_hours and job_satisfaction_level, which is 0.131. This value indicates that there is a  weak positive relationship between sleep_hours and job_satisfaction_level. As sleep_hours increases, job_satisfaction_level will also increases."
   ]
  },
  {
   "cell_type": "markdown",
   "id": "7801e8d9-4dc3-4648-ab66-a9a18424cce4",
   "metadata": {},
   "source": []
  },
  {
   "cell_type": "markdown",
   "id": "c74f6482-dfa1-4ecb-92ac-2bdbda0b2d89",
   "metadata": {},
   "source": []
  },
  {
   "cell_type": "markdown",
   "id": "90b0c414-b096-450b-9af1-1630de037008",
   "metadata": {},
   "source": []
  },
  {
   "cell_type": "markdown",
   "id": "4580fc74-df61-4625-8431-99b830cf36be",
   "metadata": {},
   "source": []
  },
  {
   "cell_type": "markdown",
   "id": "1d20c810-b92b-42c2-84f6-6d32eb417ef6",
   "metadata": {},
   "source": []
  },
  {
   "cell_type": "markdown",
   "id": "0b208595-12f2-48d6-9b32-fd1599890077",
   "metadata": {
    "tags": []
   },
   "source": [
    "# Q3. Suppose you are conducting a study to examine the relationship between the number of hours of exercise per week and body mass index (BMI) in a sample of adults. You collected data on both variables for 50 participants. Calculate the Pearson correlation coefficient and the Spearman's rank correlation between these two variables and compare the results."
   ]
  },
  {
   "cell_type": "markdown",
   "id": "08a1fb30-db29-4b77-9bb0-829323b3934c",
   "metadata": {},
   "source": [
    "## DISCLAIMER: Data generated may be not related to actual world"
   ]
  },
  {
   "cell_type": "code",
   "execution_count": 271,
   "id": "3f4d7a04-bb69-4611-b21e-921f29f8e69d",
   "metadata": {},
   "outputs": [],
   "source": [
    "# creating a sample data of 50 participants\n",
    "ex_hours = [np.random.randint(4,11) for _ in range(50)]\n",
    "bmi = [np.random.uniform(18,25) for _ in range(50)]"
   ]
  },
  {
   "cell_type": "code",
   "execution_count": 272,
   "id": "28a213ba-ddf9-4638-a3a4-061497bd2b17",
   "metadata": {
    "tags": []
   },
   "outputs": [],
   "source": [
    "df = pd.DataFrame({'Exercise Hours/Week':ex_hours,'BMI':bmi})"
   ]
  },
  {
   "cell_type": "code",
   "execution_count": 273,
   "id": "258ddaf7-de5b-4337-8bac-d25557e2d1ae",
   "metadata": {
    "tags": []
   },
   "outputs": [
    {
     "data": {
      "text/html": [
       "<div>\n",
       "<style scoped>\n",
       "    .dataframe tbody tr th:only-of-type {\n",
       "        vertical-align: middle;\n",
       "    }\n",
       "\n",
       "    .dataframe tbody tr th {\n",
       "        vertical-align: top;\n",
       "    }\n",
       "\n",
       "    .dataframe thead th {\n",
       "        text-align: right;\n",
       "    }\n",
       "</style>\n",
       "<table border=\"1\" class=\"dataframe\">\n",
       "  <thead>\n",
       "    <tr style=\"text-align: right;\">\n",
       "      <th></th>\n",
       "      <th>Exercise Hours/Week</th>\n",
       "      <th>BMI</th>\n",
       "    </tr>\n",
       "  </thead>\n",
       "  <tbody>\n",
       "    <tr>\n",
       "      <th>0</th>\n",
       "      <td>10</td>\n",
       "      <td>22.794361</td>\n",
       "    </tr>\n",
       "    <tr>\n",
       "      <th>1</th>\n",
       "      <td>6</td>\n",
       "      <td>23.339046</td>\n",
       "    </tr>\n",
       "    <tr>\n",
       "      <th>2</th>\n",
       "      <td>7</td>\n",
       "      <td>21.435310</td>\n",
       "    </tr>\n",
       "    <tr>\n",
       "      <th>3</th>\n",
       "      <td>6</td>\n",
       "      <td>24.818593</td>\n",
       "    </tr>\n",
       "    <tr>\n",
       "      <th>4</th>\n",
       "      <td>10</td>\n",
       "      <td>20.320895</td>\n",
       "    </tr>\n",
       "  </tbody>\n",
       "</table>\n",
       "</div>"
      ],
      "text/plain": [
       "   Exercise Hours/Week        BMI\n",
       "0                   10  22.794361\n",
       "1                    6  23.339046\n",
       "2                    7  21.435310\n",
       "3                    6  24.818593\n",
       "4                   10  20.320895"
      ]
     },
     "execution_count": 273,
     "metadata": {},
     "output_type": "execute_result"
    }
   ],
   "source": [
    "df.head()"
   ]
  },
  {
   "cell_type": "code",
   "execution_count": 274,
   "id": "0b2913bb-e9c0-4dea-bc2d-7a8cae12d692",
   "metadata": {
    "tags": []
   },
   "outputs": [
    {
     "data": {
      "text/html": [
       "<div>\n",
       "<style scoped>\n",
       "    .dataframe tbody tr th:only-of-type {\n",
       "        vertical-align: middle;\n",
       "    }\n",
       "\n",
       "    .dataframe tbody tr th {\n",
       "        vertical-align: top;\n",
       "    }\n",
       "\n",
       "    .dataframe thead th {\n",
       "        text-align: right;\n",
       "    }\n",
       "</style>\n",
       "<table border=\"1\" class=\"dataframe\">\n",
       "  <thead>\n",
       "    <tr style=\"text-align: right;\">\n",
       "      <th></th>\n",
       "      <th>Exercise Hours/Week</th>\n",
       "      <th>BMI</th>\n",
       "    </tr>\n",
       "  </thead>\n",
       "  <tbody>\n",
       "    <tr>\n",
       "      <th>Exercise Hours/Week</th>\n",
       "      <td>1.00000</td>\n",
       "      <td>-0.14545</td>\n",
       "    </tr>\n",
       "    <tr>\n",
       "      <th>BMI</th>\n",
       "      <td>-0.14545</td>\n",
       "      <td>1.00000</td>\n",
       "    </tr>\n",
       "  </tbody>\n",
       "</table>\n",
       "</div>"
      ],
      "text/plain": [
       "                     Exercise Hours/Week      BMI\n",
       "Exercise Hours/Week              1.00000 -0.14545\n",
       "BMI                             -0.14545  1.00000"
      ]
     },
     "execution_count": 274,
     "metadata": {},
     "output_type": "execute_result"
    }
   ],
   "source": [
    "df.corr() # by-default method = 'pearson'"
   ]
  },
  {
   "cell_type": "code",
   "execution_count": 275,
   "id": "cae9766e-d14c-477f-a9d4-aec0b135d76f",
   "metadata": {
    "tags": []
   },
   "outputs": [
    {
     "data": {
      "text/html": [
       "<div>\n",
       "<style scoped>\n",
       "    .dataframe tbody tr th:only-of-type {\n",
       "        vertical-align: middle;\n",
       "    }\n",
       "\n",
       "    .dataframe tbody tr th {\n",
       "        vertical-align: top;\n",
       "    }\n",
       "\n",
       "    .dataframe thead th {\n",
       "        text-align: right;\n",
       "    }\n",
       "</style>\n",
       "<table border=\"1\" class=\"dataframe\">\n",
       "  <thead>\n",
       "    <tr style=\"text-align: right;\">\n",
       "      <th></th>\n",
       "      <th>Exercise Hours/Week</th>\n",
       "      <th>BMI</th>\n",
       "    </tr>\n",
       "  </thead>\n",
       "  <tbody>\n",
       "    <tr>\n",
       "      <th>Exercise Hours/Week</th>\n",
       "      <td>1.000000</td>\n",
       "      <td>-0.131889</td>\n",
       "    </tr>\n",
       "    <tr>\n",
       "      <th>BMI</th>\n",
       "      <td>-0.131889</td>\n",
       "      <td>1.000000</td>\n",
       "    </tr>\n",
       "  </tbody>\n",
       "</table>\n",
       "</div>"
      ],
      "text/plain": [
       "                     Exercise Hours/Week       BMI\n",
       "Exercise Hours/Week             1.000000 -0.131889\n",
       "BMI                            -0.131889  1.000000"
      ]
     },
     "execution_count": 275,
     "metadata": {},
     "output_type": "execute_result"
    }
   ],
   "source": [
    "df.corr(method = 'spearman')"
   ]
  },
  {
   "cell_type": "markdown",
   "id": "c8ff647d-0ee2-4e6d-8a62-1b4d44594580",
   "metadata": {},
   "source": [
    "## Comparing the result\n",
    "- ### The off-diagonal element of the pearson-correlaion matrix represents the correlation between 'Exercise Hours/Week' and 'BMI', which is -0.141. This value indicates that there is a very weak negative relationship between 'Excerice Hours/Week' and 'BMI'. As 'Exercise Hours/Week' increases, 'BMI' will decreses.\n",
    "- ### Similary, The off-diagonal element of the spearman-correlaion matrix represents the correlation between 'Exercise Hours/Week' and 'BMI', which is -0.131. This value indicates that there is a very weak negative relationship between 'Excerice Hours/Week' and 'BMI'. As 'Exercise Hours/Week' increases, 'BMI' will decreses."
   ]
  },
  {
   "cell_type": "code",
   "execution_count": 288,
   "id": "88845be0-3659-441b-b3ce-e51a27ba257e",
   "metadata": {
    "tags": []
   },
   "outputs": [
    {
     "data": {
      "text/plain": [
       "<Axes: xlabel='Exercise Hours/Week', ylabel='BMI'>"
      ]
     },
     "execution_count": 288,
     "metadata": {},
     "output_type": "execute_result"
    },
    {
     "data": {
      "image/png": "[encoded data removed]",
      "text/plain": [
       "<Figure size 640x480 with 1 Axes>"
      ]
     },
     "metadata": {},
     "output_type": "display_data"
    }
   ],
   "source": [
    "import seaborn as sns\n",
    "sns.lineplot(x='Exercise Hours/Week',y='BMI',data=df)"
   ]
  },
  {
   "cell_type": "markdown",
   "id": "149ab784-b00f-499a-9c89-798347908f88",
   "metadata": {},
   "source": [
    "## Conclusion\n",
    "- ### In general, the Pearson correlation coefficient measures the linear relationship between two variables, while the Spearman's rank correlation coefficient measures the monotonic relationship between two variables (i.e., the relationship between the variables without regard to the linearity of the relationship).\n",
    "- ## Therefore, In this cae, the Spearman's correlation coefficient is more appropriate for comparing the relationship between the 'Exercise Hours/Week' and 'BMI'."
   ]
  },
  {
   "cell_type": "markdown",
   "id": "ef7c02e0-5ce0-4c4b-a6a1-857de0655c8b",
   "metadata": {},
   "source": []
  },
  {
   "cell_type": "markdown",
   "id": "6f280fa7-addb-40ef-8b72-99b892c75312",
   "metadata": {},
   "source": []
  },
  {
   "cell_type": "markdown",
   "id": "50d5715f-eda7-42f3-aea4-806f659b4c15",
   "metadata": {},
   "source": []
  },
  {
   "cell_type": "markdown",
   "id": "e9ac0d41-a783-4bcf-bdbf-3207d0a83ce1",
   "metadata": {},
   "source": []
  },
  {
   "cell_type": "markdown",
   "id": "1bfb741a-7715-4c05-9eb5-707caf64148b",
   "metadata": {},
   "source": []
  },
  {
   "cell_type": "markdown",
   "id": "35c30587-bc33-4a5a-ad27-b8f08042a185",
   "metadata": {
    "tags": []
   },
   "source": [
    "# Q4. A researcher is interested in examining the relationship between the number of hours individuals spend watching television per day and their level of physical activity. The researcher collected data on both variables from a sample of 50 participants. Calculate the Pearson correlation coefficient between these two variables."
   ]
  },
  {
   "cell_type": "markdown",
   "id": "c321c239-c88e-499a-8cfe-5b7d26e2a34b",
   "metadata": {},
   "source": [
    "## DISCLAIMER: Data generated may be not related to actual world"
   ]
  },
  {
   "cell_type": "code",
   "execution_count": 200,
   "id": "df67cc12-5744-4722-8465-c35f25abfe6b",
   "metadata": {
    "tags": []
   },
   "outputs": [],
   "source": [
    "# creating a sample data of 50 participants\n",
    "tv_hours = [np.random.randint(2,11) for _ in range(50)]\n",
    "physical_activity_level = [np.random.uniform(1,3) for _ in range(50)]"
   ]
  },
  {
   "cell_type": "code",
   "execution_count": 201,
   "id": "b46f25d0-8074-4415-83ab-6358d873f2e6",
   "metadata": {
    "tags": []
   },
   "outputs": [],
   "source": [
    "df = pd.DataFrame({'TV Watch Hours':tv_hours,'PAL':physical_activity_level})"
   ]
  },
  {
   "cell_type": "code",
   "execution_count": 202,
   "id": "d7fd6fee-0761-4b82-8c5c-009bd4f265fa",
   "metadata": {
    "tags": []
   },
   "outputs": [
    {
     "data": {
      "text/html": [
       "<div>\n",
       "<style scoped>\n",
       "    .dataframe tbody tr th:only-of-type {\n",
       "        vertical-align: middle;\n",
       "    }\n",
       "\n",
       "    .dataframe tbody tr th {\n",
       "        vertical-align: top;\n",
       "    }\n",
       "\n",
       "    .dataframe thead th {\n",
       "        text-align: right;\n",
       "    }\n",
       "</style>\n",
       "<table border=\"1\" class=\"dataframe\">\n",
       "  <thead>\n",
       "    <tr style=\"text-align: right;\">\n",
       "      <th></th>\n",
       "      <th>TV Watch Hours</th>\n",
       "      <th>PAL</th>\n",
       "    </tr>\n",
       "  </thead>\n",
       "  <tbody>\n",
       "    <tr>\n",
       "      <th>0</th>\n",
       "      <td>6</td>\n",
       "      <td>1.939326</td>\n",
       "    </tr>\n",
       "    <tr>\n",
       "      <th>1</th>\n",
       "      <td>2</td>\n",
       "      <td>2.465459</td>\n",
       "    </tr>\n",
       "    <tr>\n",
       "      <th>2</th>\n",
       "      <td>10</td>\n",
       "      <td>2.443113</td>\n",
       "    </tr>\n",
       "    <tr>\n",
       "      <th>3</th>\n",
       "      <td>9</td>\n",
       "      <td>1.443853</td>\n",
       "    </tr>\n",
       "    <tr>\n",
       "      <th>4</th>\n",
       "      <td>3</td>\n",
       "      <td>2.199012</td>\n",
       "    </tr>\n",
       "  </tbody>\n",
       "</table>\n",
       "</div>"
      ],
      "text/plain": [
       "   TV Watch Hours       PAL\n",
       "0               6  1.939326\n",
       "1               2  2.465459\n",
       "2              10  2.443113\n",
       "3               9  1.443853\n",
       "4               3  2.199012"
      ]
     },
     "execution_count": 202,
     "metadata": {},
     "output_type": "execute_result"
    }
   ],
   "source": [
    "df.head()"
   ]
  },
  {
   "cell_type": "code",
   "execution_count": 203,
   "id": "487280ce-2dea-4232-8474-1b61747ad9df",
   "metadata": {
    "tags": []
   },
   "outputs": [
    {
     "data": {
      "text/html": [
       "<div>\n",
       "<style scoped>\n",
       "    .dataframe tbody tr th:only-of-type {\n",
       "        vertical-align: middle;\n",
       "    }\n",
       "\n",
       "    .dataframe tbody tr th {\n",
       "        vertical-align: top;\n",
       "    }\n",
       "\n",
       "    .dataframe thead th {\n",
       "        text-align: right;\n",
       "    }\n",
       "</style>\n",
       "<table border=\"1\" class=\"dataframe\">\n",
       "  <thead>\n",
       "    <tr style=\"text-align: right;\">\n",
       "      <th></th>\n",
       "      <th>TV Watch Hours</th>\n",
       "      <th>PAL</th>\n",
       "    </tr>\n",
       "  </thead>\n",
       "  <tbody>\n",
       "    <tr>\n",
       "      <th>TV Watch Hours</th>\n",
       "      <td>1.000000</td>\n",
       "      <td>-0.131784</td>\n",
       "    </tr>\n",
       "    <tr>\n",
       "      <th>PAL</th>\n",
       "      <td>-0.131784</td>\n",
       "      <td>1.000000</td>\n",
       "    </tr>\n",
       "  </tbody>\n",
       "</table>\n",
       "</div>"
      ],
      "text/plain": [
       "                TV Watch Hours       PAL\n",
       "TV Watch Hours        1.000000 -0.131784\n",
       "PAL                  -0.131784  1.000000"
      ]
     },
     "execution_count": 203,
     "metadata": {},
     "output_type": "execute_result"
    }
   ],
   "source": [
    "df.corr()"
   ]
  },
  {
   "cell_type": "markdown",
   "id": "c50b053c-f216-4f1b-9efe-48145b51ea15",
   "metadata": {},
   "source": [
    "## Interpreting the result\n",
    "- ### The output shows the correlation matrix between 'TV Watch Hours' and 'PAL'. The diagonal elements of the correalation matrix represent the variances of each variable. For example, the variance of TV Watch Hours is 1, and the variance of PAL is also 1.\n",
    "\n",
    "- ### The off-diagonal element of the correlaion matrix represents the correlation between 'TV Watch Hours' and 'PAL', which is -0.131. This value indicates that there is a weak negative relationship between 'TV Watch Hours' and 'PAL'. As 'TV Watch Hours' increases, 'PAL' will decrease."
   ]
  },
  {
   "cell_type": "markdown",
   "id": "0f590c2c-bfd0-4076-ab2b-992ef57c86ba",
   "metadata": {},
   "source": []
  },
  {
   "cell_type": "markdown",
   "id": "4dc88510-f7d9-48ea-9927-59aea85768b4",
   "metadata": {},
   "source": []
  },
  {
   "cell_type": "markdown",
   "id": "769f639d-47b9-403a-bbb0-20e83accce1e",
   "metadata": {},
   "source": []
  },
  {
   "cell_type": "markdown",
   "id": "246a9448-e34b-4035-85ab-f71215b06721",
   "metadata": {},
   "source": []
  },
  {
   "cell_type": "markdown",
   "id": "b90d303d-7223-4456-a32e-e171ad1e1ec8",
   "metadata": {},
   "source": []
  },
  {
   "cell_type": "markdown",
   "id": "d0d4b46e-f6a4-4512-a633-be972325a827",
   "metadata": {
    "tags": []
   },
   "source": [
    "# Q5. A survey was conducted to examine the relationship between age and preference for a particular brand of soft drink. The survey results are shown below:"
   ]
  },
  {
   "cell_type": "code",
   "execution_count": 314,
   "id": "821ac43f-38f1-4db7-ab43-ea6f6a331553",
   "metadata": {
    "tags": []
   },
   "outputs": [
    {
     "data": {
      "text/html": [
       "<div>\n",
       "<style scoped>\n",
       "    .dataframe tbody tr th:only-of-type {\n",
       "        vertical-align: middle;\n",
       "    }\n",
       "\n",
       "    .dataframe tbody tr th {\n",
       "        vertical-align: top;\n",
       "    }\n",
       "\n",
       "    .dataframe thead th {\n",
       "        text-align: right;\n",
       "    }\n",
       "</style>\n",
       "<table border=\"1\" class=\"dataframe\">\n",
       "  <thead>\n",
       "    <tr style=\"text-align: right;\">\n",
       "      <th></th>\n",
       "      <th>Age(Years)</th>\n",
       "      <th>Soft drink Preference</th>\n",
       "    </tr>\n",
       "  </thead>\n",
       "  <tbody>\n",
       "    <tr>\n",
       "      <th>0</th>\n",
       "      <td>25</td>\n",
       "      <td>Coke</td>\n",
       "    </tr>\n",
       "    <tr>\n",
       "      <th>1</th>\n",
       "      <td>42</td>\n",
       "      <td>Pepsi</td>\n",
       "    </tr>\n",
       "    <tr>\n",
       "      <th>2</th>\n",
       "      <td>37</td>\n",
       "      <td>Mountain Dew</td>\n",
       "    </tr>\n",
       "    <tr>\n",
       "      <th>3</th>\n",
       "      <td>19</td>\n",
       "      <td>Coke</td>\n",
       "    </tr>\n",
       "    <tr>\n",
       "      <th>4</th>\n",
       "      <td>31</td>\n",
       "      <td>Pepsi</td>\n",
       "    </tr>\n",
       "    <tr>\n",
       "      <th>5</th>\n",
       "      <td>28</td>\n",
       "      <td>Coke</td>\n",
       "    </tr>\n",
       "  </tbody>\n",
       "</table>\n",
       "</div>"
      ],
      "text/plain": [
       "   Age(Years) Soft drink Preference\n",
       "0          25                  Coke\n",
       "1          42                 Pepsi\n",
       "2          37          Mountain Dew\n",
       "3          19                  Coke\n",
       "4          31                 Pepsi\n",
       "5          28                  Coke"
      ]
     },
     "execution_count": 314,
     "metadata": {},
     "output_type": "execute_result"
    }
   ],
   "source": [
    "import pandas as pd\n",
    "df = pd.DataFrame({'Age(Years)':[25,42,37,19,31,28],'Soft drink Preference': ['Coke' ,'Pepsi', 'Mountain Dew', 'Coke', 'Pepsi', 'Coke']})\n",
    "df"
   ]
  },
  {
   "cell_type": "code",
   "execution_count": 331,
   "id": "36a51bc3-d09d-485e-a425-691b059ebede",
   "metadata": {
    "tags": []
   },
   "outputs": [
    {
     "data": {
      "text/plain": [
       "<Axes: xlabel='Soft drink Preference', ylabel='count'>"
      ]
     },
     "execution_count": 331,
     "metadata": {},
     "output_type": "execute_result"
    },
    {
     "data": {
      "image/png": "[encoded data removed]",
      "text/plain": [
       "<Figure size 640x480 with 1 Axes>"
      ]
     },
     "metadata": {},
     "output_type": "display_data"
    }
   ],
   "source": [
    "import seaborn as sns\n",
    "sns.countplot(x='Soft drink Preference',hue='Age(Years)',data=df)"
   ]
  },
  {
   "cell_type": "markdown",
   "id": "67929555-abd7-4413-a5af-277ff491bc9d",
   "metadata": {},
   "source": [
    "## Interpreting the result\n",
    "- ### The resulting plot will show the number of people in each age group who prefer each brand of soft drink.\n",
    "- ### Based on the survey results, there were 6 participants in total, with ages ranging from 19 to 42. Among the 6 participants, the most popular soft drink preference was Coke, which was preferred by 3 participants, followed by Pepsi, which was preferred by 2 participants, and Mountain Dew, which was preferred by 1 participant.\n",
    "\n",
    "- ### Looking at the relationship between age and soft drink preference, we can see that among the participants who preferred Coke, one was aged 19, second was aged 25 and third was aged 28. Among the participants who preferred Pepsi, one was aged 31 and the other was aged 42. The participant who preferred Mountain Dew was aged 37."
   ]
  },
  {
   "cell_type": "markdown",
   "id": "ca503d87-8768-4b95-bdd7-0d538ad0f9aa",
   "metadata": {},
   "source": []
  },
  {
   "cell_type": "markdown",
   "id": "0d472e2a-5ba1-416a-b4da-29956c9d6213",
   "metadata": {},
   "source": []
  },
  {
   "cell_type": "markdown",
   "id": "689f0465-e5c1-4684-88c8-3cb935ea23b4",
   "metadata": {},
   "source": []
  },
  {
   "cell_type": "markdown",
   "id": "8d815840-0abf-4880-969b-9ece61f2692a",
   "metadata": {},
   "source": []
  },
  {
   "cell_type": "markdown",
   "id": "473af3ff-a469-4f66-8c5a-fd5fcac9e065",
   "metadata": {},
   "source": []
  },
  {
   "cell_type": "markdown",
   "id": "93084213-4c1a-4150-8345-576f7eeb1116",
   "metadata": {
    "tags": []
   },
   "source": [
    "# Q6. A company is interested in examining the relationship between the number of sales calls made per day and the number of sales made per week. The company collected data on both variables from a sample of 30 sales representatives. Calculate the Pearson correlation coefficient between these two variables."
   ]
  },
  {
   "cell_type": "markdown",
   "id": "860d3f38-a70f-4f76-94cd-afb14b87e848",
   "metadata": {},
   "source": [
    "## DISCLAIMER: Data generated may be not related to actual world"
   ]
  },
  {
   "cell_type": "code",
   "execution_count": 235,
   "id": "3255cd13-f2bf-4980-863d-0154cc2662aa",
   "metadata": {
    "tags": []
   },
   "outputs": [],
   "source": [
    "# creating a sample data of 30 representatives\n",
    "sales_calls = [np.random.randint(10,100) for _ in range(30)]\n",
    "sales = [np.random.randint(50) for _ in range(30)]"
   ]
  },
  {
   "cell_type": "code",
   "execution_count": 236,
   "id": "108e8609-834c-4c7a-9a96-4e5aa1d7633c",
   "metadata": {
    "tags": []
   },
   "outputs": [],
   "source": [
    "df = pd.DataFrame({'Sales Calls/Day':sales_calls,'Sales/Week':sales})"
   ]
  },
  {
   "cell_type": "code",
   "execution_count": 237,
   "id": "af4dfb4b-3bda-4e14-870d-06d1f009ce76",
   "metadata": {
    "tags": []
   },
   "outputs": [
    {
     "data": {
      "text/html": [
       "<div>\n",
       "<style scoped>\n",
       "    .dataframe tbody tr th:only-of-type {\n",
       "        vertical-align: middle;\n",
       "    }\n",
       "\n",
       "    .dataframe tbody tr th {\n",
       "        vertical-align: top;\n",
       "    }\n",
       "\n",
       "    .dataframe thead th {\n",
       "        text-align: right;\n",
       "    }\n",
       "</style>\n",
       "<table border=\"1\" class=\"dataframe\">\n",
       "  <thead>\n",
       "    <tr style=\"text-align: right;\">\n",
       "      <th></th>\n",
       "      <th>Sales Calls/Day</th>\n",
       "      <th>Sales/Week</th>\n",
       "    </tr>\n",
       "  </thead>\n",
       "  <tbody>\n",
       "    <tr>\n",
       "      <th>0</th>\n",
       "      <td>30</td>\n",
       "      <td>22</td>\n",
       "    </tr>\n",
       "    <tr>\n",
       "      <th>1</th>\n",
       "      <td>39</td>\n",
       "      <td>29</td>\n",
       "    </tr>\n",
       "    <tr>\n",
       "      <th>2</th>\n",
       "      <td>41</td>\n",
       "      <td>34</td>\n",
       "    </tr>\n",
       "    <tr>\n",
       "      <th>3</th>\n",
       "      <td>23</td>\n",
       "      <td>25</td>\n",
       "    </tr>\n",
       "    <tr>\n",
       "      <th>4</th>\n",
       "      <td>59</td>\n",
       "      <td>40</td>\n",
       "    </tr>\n",
       "  </tbody>\n",
       "</table>\n",
       "</div>"
      ],
      "text/plain": [
       "   Sales Calls/Day  Sales/Week\n",
       "0               30          22\n",
       "1               39          29\n",
       "2               41          34\n",
       "3               23          25\n",
       "4               59          40"
      ]
     },
     "execution_count": 237,
     "metadata": {},
     "output_type": "execute_result"
    }
   ],
   "source": [
    "df.head()"
   ]
  },
  {
   "cell_type": "code",
   "execution_count": 238,
   "id": "7058b65b-83bd-48d4-b330-2d8a43e14238",
   "metadata": {
    "tags": []
   },
   "outputs": [
    {
     "data": {
      "text/html": [
       "<div>\n",
       "<style scoped>\n",
       "    .dataframe tbody tr th:only-of-type {\n",
       "        vertical-align: middle;\n",
       "    }\n",
       "\n",
       "    .dataframe tbody tr th {\n",
       "        vertical-align: top;\n",
       "    }\n",
       "\n",
       "    .dataframe thead th {\n",
       "        text-align: right;\n",
       "    }\n",
       "</style>\n",
       "<table border=\"1\" class=\"dataframe\">\n",
       "  <thead>\n",
       "    <tr style=\"text-align: right;\">\n",
       "      <th></th>\n",
       "      <th>Sales Calls/Day</th>\n",
       "      <th>Sales/Week</th>\n",
       "    </tr>\n",
       "  </thead>\n",
       "  <tbody>\n",
       "    <tr>\n",
       "      <th>Sales Calls/Day</th>\n",
       "      <td>1.00000</td>\n",
       "      <td>0.26614</td>\n",
       "    </tr>\n",
       "    <tr>\n",
       "      <th>Sales/Week</th>\n",
       "      <td>0.26614</td>\n",
       "      <td>1.00000</td>\n",
       "    </tr>\n",
       "  </tbody>\n",
       "</table>\n",
       "</div>"
      ],
      "text/plain": [
       "                 Sales Calls/Day  Sales/Week\n",
       "Sales Calls/Day          1.00000     0.26614\n",
       "Sales/Week               0.26614     1.00000"
      ]
     },
     "execution_count": 238,
     "metadata": {},
     "output_type": "execute_result"
    }
   ],
   "source": [
    "df.corr(method = 'pearson')"
   ]
  },
  {
   "cell_type": "markdown",
   "id": "467a7808-3543-4530-b7ae-504c74554517",
   "metadata": {},
   "source": [
    "## Interpreting the result\n",
    "- ### The output shows the correlation matrix between 'Sales Calls/Day' and 'Sales/Week'. The diagonal elements of the correalation matrix represent the variances of each variable. For example, the variance of 'Sales Calls/Day' is 1, and the variance of 'Sales/Week' is also 1.\n",
    "\n",
    "- ### The off-diagonal element of the correlaion matrix represents the correlation between 'Sales Calls/Day' and 'Sales/Week', which is 0.266. This value indicates that there is a moderate positive relationship between 'Sales Calls/Day' and 'Sales/Week'. As 'Sales Calls/Day' increases, 'Sales/Week' will also increases."
   ]
  }
 ],
 "metadata": {
  "kernelspec": {
   "display_name": "Python 3 (ipykernel)",
   "language": "python",
   "name": "python3"
  },
  "language_info": {
   "codemirror_mode": {
    "name": "ipython",
    "version": 3
   },
   "file_extension": ".py",
   "mimetype": "text/x-python",
   "name": "python",
   "nbconvert_exporter": "python",
   "pygments_lexer": "ipython3",
   "version": "3.11.2"
  }
 },
 "nbformat": 4,
 "nbformat_minor": 5
}
