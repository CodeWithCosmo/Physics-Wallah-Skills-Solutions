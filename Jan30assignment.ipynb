{
 "cells": [
  {
   "attachments": {},
   "cell_type": "markdown",
   "metadata": {},
   "source": [
    "# P.1"
   ]
  },
  {
   "cell_type": "code",
   "execution_count": 8,
   "metadata": {},
   "outputs": [
    {
     "name": "stdout",
     "output_type": "stream",
     "text": [
      "Grade D\n"
     ]
    }
   ],
   "source": [
    "percentage = float(input('Enter your percentage: '))\n",
    "if percentage >100 or percentage < 0:\n",
    "    print('Invalid percentage!')\n",
    "elif percentage >90:\n",
    "    print('Grade A')\n",
    "elif 80 < percentage <=90:\n",
    "    print('Grade B')\n",
    "elif 60 <= percentage <= 80:\n",
    "    print('Grade C')\n",
    "else:\n",
    "    print('Grade D')"
   ]
  },
  {
   "attachments": {},
   "cell_type": "markdown",
   "metadata": {},
   "source": [
    "# P.2"
   ]
  },
  {
   "cell_type": "code",
   "execution_count": 10,
   "metadata": {},
   "outputs": [
    {
     "name": "stdout",
     "output_type": "stream",
     "text": [
      "You have to pay 15% road tax.\n"
     ]
    }
   ],
   "source": [
    "cost = int(input('Enter your bike cost: '))\n",
    "if cost >100000:\n",
    "    print('You have to pay 15% road tax.')\n",
    "elif 50000 < cost <100000:\n",
    "    print('You have to pay 10% road tax.')\n",
    "elif 0 < cost <= 50000:\n",
    "    print('You have to pay 5% road tax.')\n",
    "else: \n",
    "    print('Invalid cost!')\n",
    "    "
   ]
  },
  {
   "attachments": {},
   "cell_type": "markdown",
   "metadata": {},
   "source": [
    "# P.3"
   ]
  },
  {
   "cell_type": "code",
   "execution_count": 13,
   "metadata": {},
   "outputs": [
    {
     "name": "stdout",
     "output_type": "stream",
     "text": [
      "City not found\n"
     ]
    }
   ],
   "source": [
    "city = input('Enter the city name:')\n",
    "if city == 'Agra'or city=='agra':\n",
    "    print('Taj Mahal')\n",
    "elif city == 'Delhi' or city == 'delhi':\n",
    "    print('Red Fort')\n",
    "elif city == 'Jaipur'or city=='jaipur':\n",
    "    print('Jai Mahal')        \n",
    "else:\n",
    "    print('City not found')"
   ]
  },
  {
   "attachments": {},
   "cell_type": "markdown",
   "metadata": {},
   "source": [
    "# P.4"
   ]
  },
  {
   "cell_type": "code",
   "execution_count": 91,
   "metadata": {},
   "outputs": [
    {
     "name": "stdout",
     "output_type": "stream",
     "text": [
      "999 is exactly 3 times divisible by 3 before it is less than 10.\n"
     ]
    }
   ],
   "source": [
    "number = int(input('Enter a number: '))\n",
    "number1 = number\n",
    "count = 0\n",
    "while(number1 > 10):    \n",
    "    if number1 % 3!=0:\n",
    "        break;\n",
    "    elif number1 % 3 == 0:\n",
    "        count += 1\n",
    "    number1 = number1 / 3\n",
    "print(f'{number} is exactly {count} times divisible by 3 before it is less than 10.')    "
   ]
  },
  {
   "attachments": {},
   "cell_type": "markdown",
   "metadata": {},
   "source": [
    "# P.5"
   ]
  },
  {
   "attachments": {},
   "cell_type": "markdown",
   "metadata": {},
   "source": [
    "## While loop is used to iterate over the list of elements. This is useful for excecution of repeatitive code which is irritating for an user. Suppose we have print the nos from 1 to 1000 , so basically for an user this is very time consuming task before loops so with the help of while loop we can do this in seconds.\n",
    "## Example:\n",
    "```python\n",
    "i = 1\n",
    "while i <= 1000:\n",
    "    print(i)\n",
    "```"
   ]
  },
  {
   "attachments": {},
   "cell_type": "markdown",
   "metadata": {},
   "source": [
    "# P.6"
   ]
  },
  {
   "cell_type": "code",
   "execution_count": 38,
   "metadata": {},
   "outputs": [
    {
     "name": "stdout",
     "output_type": "stream",
     "text": [
      "1\n",
      "12\n",
      "123\n",
      "1234\n",
      "12345\n"
     ]
    }
   ],
   "source": [
    "# Pattern 1\n",
    "n = 5\n",
    "i = 1\n",
    "while i <= n:\n",
    "    j = 1\n",
    "    while j <=n:\n",
    "        if j <= i:\n",
    "            print(j, end=\"\")\n",
    "        j += 1\n",
    "    print()\n",
    "    i += 1"
   ]
  },
  {
   "cell_type": "code",
   "execution_count": 39,
   "metadata": {},
   "outputs": [
    {
     "name": "stdout",
     "output_type": "stream",
     "text": [
      "12345\n",
      "1234\n",
      "123\n",
      "12\n",
      "1\n"
     ]
    }
   ],
   "source": [
    "# Pattern 2\n",
    "n = 5\n",
    "i = 1\n",
    "while i <= n:\n",
    "    j = 1\n",
    "    while j<=n:\n",
    "        if j <= 6-i:\n",
    "            print(j, end=\"\")\n",
    "        j += 1\n",
    "    print()\n",
    "    i += 1"
   ]
  },
  {
   "cell_type": "code",
   "execution_count": 60,
   "metadata": {},
   "outputs": [
    {
     "name": "stdout",
     "output_type": "stream",
     "text": [
      "    5\n",
      "   45\n",
      "  345\n",
      " 2345\n",
      "12345\n"
     ]
    }
   ],
   "source": [
    "# Pattern 3\n",
    "n = 5\n",
    "i = 1\n",
    "while i <= n:\n",
    "    j = 1 \n",
    "    while j <=n :\n",
    "        if j <= n-i:\n",
    "            print(' ',end='')        \n",
    "        else:\n",
    "           print(j,end='')   \n",
    "        j=j+1\n",
    "    print()\n",
    "    i=i+1\n",
    "\n"
   ]
  },
  {
   "attachments": {},
   "cell_type": "markdown",
   "metadata": {},
   "source": [
    "# P.7"
   ]
  },
  {
   "cell_type": "code",
   "execution_count": 27,
   "metadata": {},
   "outputs": [
    {
     "name": "stdout",
     "output_type": "stream",
     "text": [
      "10\n",
      "9\n",
      "8\n",
      "7\n",
      "6\n",
      "5\n",
      "4\n",
      "3\n",
      "2\n",
      "1\n"
     ]
    }
   ],
   "source": [
    "i = 10\n",
    "while i>0:\n",
    "    print(i)\n",
    "    i = i-1\n"
   ]
  },
  {
   "cell_type": "code",
   "execution_count": null,
   "metadata": {},
   "outputs": [],
   "source": []
  }
 ],
 "metadata": {
  "kernelspec": {
   "display_name": "Python 3",
   "language": "python",
   "name": "python3"
  },
  "language_info": {
   "codemirror_mode": {
    "name": "ipython",
    "version": 3
   },
   "file_extension": ".py",
   "mimetype": "text/x-python",
   "name": "python",
   "nbconvert_exporter": "python",
   "pygments_lexer": "ipython3",
   "version": "3.11.3"
  },
  "orig_nbformat": 4,
  "vscode": {
   "interpreter": {
    "hash": "60604c6687abd3d44db2988d94478afd71bdd2eba4a4e06208197b7b67afacd2"
   }
  }
 },
 "nbformat": 4,
 "nbformat_minor": 2
}
