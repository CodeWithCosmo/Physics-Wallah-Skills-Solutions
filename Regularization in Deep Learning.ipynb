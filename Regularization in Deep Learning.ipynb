{
 "cells": [
  {
   "cell_type": "markdown",
   "id": "f2b2bf50",
   "metadata": {},
   "source": [
    "# Part 1: Understanding Regularization\n",
    "___\n",
    "## Q1. What is regularization in the context of deep learning? Why is it important?\n",
    "___\n",
    "## `Regularization in the context of deep learning refers to a set of techniques that are used to prevent overfitting and improve the generalization performance of a neural network.` Overfitting occurs when a model becomes too complex and learns to memorize the training data instead of learning meaningful patterns that can be generalized to unseen data. Regularization helps in controlling the model's complexity and reduces the risk of overfitting, making the model more robust and better suited for real-world applications.\n",
    "\n",
    "- ## **Importance of Regularization:**\n",
    "\n",
    "## `1. Generalization:` Regularization techniques encourage the model to learn more general patterns from the data rather than memorizing noise or outliers. This helps the model to perform well on unseen data and different datasets.\n",
    "\n",
    "## `2. Avoid Overfitting:` Deep neural networks can have a large number of parameters, and without regularization, they may overfit even small datasets. Regularization prevents the model from being overly sensitive to noise in the training data.\n",
    "\n",
    "## `3. Model Stability:` Regularization can improve the stability of the model during training. By reducing the magnitude of the weights, the model becomes less sensitive to minor changes in the input data.\n",
    "\n",
    "## `4. Control Complexity:` Regularization provides a way to control the complexity of the model by adding a penalty to large weights or complex architectures. It helps prevent the model from becoming too complex and unwieldy.\n",
    "\n",
    "## `5. Better Convergence:` Regularized models often converge faster during training as they are less prone to oscillations and overshooting.\n",
    "\n",
    "- ## **Common Regularization Techniques:**\n",
    "\n",
    "## `1. L1 Regularization (Lasso):` Adds a penalty term to the loss function proportional to the absolute values of the weights. It encourages sparsity in the model, leading to some weights being exactly zero.\n",
    "\n",
    "## `2. L2 Regularization (Ridge):` Adds a penalty term to the loss function proportional to the square of the weights. It discourages large weights and can lead to smoother solutions.\n",
    "\n",
    "## `3. Dropout:` During training, randomly sets a fraction of the neurons' outputs to zero, effectively `dropping them out.` This prevents overfitting by making the network more robust and forcing it to learn redundant representations.\n",
    "\n",
    "## `4. Batch Normalization:` Normalizes the input of each layer, which helps stabilize training and prevent internal covariate shift. It acts as a form of regularization by adding noise to the input data.\n",
    "\n",
    "## `5. Early Stopping:` Stops the training process early based on a validation performance criterion. It prevents overfitting by avoiding training beyond the point where the model starts to perform worse on unseen data.\n",
    "\n",
    "## By applying regularization techniques appropriately, deep learning models can achieve better generalization performance, making them more useful and reliable in real-world applications."
   ]
  },
  {
   "cell_type": "markdown",
   "id": "8cc1abb7",
   "metadata": {},
   "source": []
  },
  {
   "cell_type": "markdown",
   "id": "4d21a2b2",
   "metadata": {},
   "source": []
  },
  {
   "cell_type": "markdown",
   "id": "371743e6",
   "metadata": {},
   "source": []
  },
  {
   "cell_type": "markdown",
   "id": "4cb05e19",
   "metadata": {},
   "source": [
    "## Q2. Explain the bias-variance tradeoff and how regularization helps in addressing this tradeoff.\n",
    "___\n",
    "\n",
    "<img src = \"https://scott.fortmann-roe.com/docs/docs/BiasVariance/biasvariance.png\">\n",
    "    \n",
    "## `The bias-variance tradeoff is a fundamental concept in machine learning that refers to the balance between two types of errors a model can make: bias and variance.`\n",
    "\n",
    "## `1. Bias:` Bias is the error introduced by approximating a complex real-world problem with a simpler model. A model with high bias tends to oversimplify the data and make assumptions that may not hold in the real world. High bias can lead to underfitting, where the model fails to capture the underlying patterns in the data.\n",
    "\n",
    "## `2. Variance:` Variance is the error introduced due to the model's sensitivity to small fluctuations in the training data. A model with high variance fits the training data too closely and may not generalize well to new, unseen data. High variance can lead to overfitting, where the model memorizes noise in the training data and performs poorly on test data.\n",
    "\n",
    "## *Regularization is a technique used to address the bias-variance tradeoff and strike a balance between underfitting and overfitting:*\n",
    "\n",
    "## `1. High Bias (Underfitting):` To address underfitting, regularization helps increase the complexity of the model by adding more features or increasing the capacity of the neural network. This allows the model to capture more complex patterns in the data and reduce the bias.\n",
    "\n",
    "## `2. High Variance (Overfitting):` To address overfitting, regularization helps control the model's complexity by adding penalties or constraints to the model's weights. This discourages the model from fitting noise in the training data and reduces the variance.\n",
    "\n",
    "## *Regularization techniques, such as L1 and L2 regularization, penalize large weights in the model during training. They effectively add a regularization term to the loss function, which encourages the model to find solutions with smaller weights, preventing the model from becoming too complex.*\n",
    "\n",
    "## By adjusting the regularization strength (e.g., the regularization parameter λ), we can control the tradeoff between bias and variance. A smaller λ value results in less regularization and allows the model to fit the training data more closely, increasing the variance. On the other hand, a larger λ value increases regularization and reduces the model's complexity, increasing the bias.\n",
    "\n",
    "## In summary, regularization helps to find the right balance between model complexity and generalization by controlling the bias-variance tradeoff. It prevents the model from overfitting and underfitting, leading to a more robust and better-performing model on unseen data."
   ]
  },
  {
   "cell_type": "markdown",
   "id": "720dca73",
   "metadata": {},
   "source": []
  },
  {
   "cell_type": "markdown",
   "id": "a75dfdef",
   "metadata": {},
   "source": []
  },
  {
   "cell_type": "markdown",
   "id": "436bdd15",
   "metadata": {},
   "source": []
  },
  {
   "cell_type": "markdown",
   "id": "b8352667",
   "metadata": {},
   "source": [
    "## Q3. Describe the concept of L1 and L2 regularization. How do they differ in terms of penalty calculation and their effects on the model.\n",
    "___\n",
    "## L1 and L2 regularization are two common techniques used to add penalties to the weights of a model during training to prevent overfitting and improve generalization.\n",
    "\n",
    "## `1. L1 Regularization (Lasso Regularization):`\n",
    "## `L1 regularization adds a penalty to the model's loss function proportional to the absolute values of the model's weights. The L1 regularization term is calculated as the sum of the absolute values of the weights multiplied by a regularization parameter (λ).`\n",
    "\n",
    "## Mathematically, the L1 regularization term is given by:\n",
    "## $$ L1 = \\lambda * \\sum|w_i|$$\n",
    "\n",
    "### where $λ$ is the regularization parameter, $w_i$ are the individual weights in the model.\n",
    "\n",
    "## *Effect on the model:*\n",
    "## L1 regularization encourages sparsity in the model, meaning it tends to set many weights to exactly zero. This leads to feature selection, where less important features are effectively removed from the model, making it simpler and more interpretable. L1 regularization is particularly useful when dealing with high-dimensional data, as it automatically selects the most relevant features and reduces overfitting.\n",
    "\n",
    "## `2. L2 Regularization (Ridge Regularization):`\n",
    "## `L2 regularization adds a penalty to the model's loss function proportional to the square of the model's weights. The L2 regularization term is calculated as the sum of the squares of the weights multiplied by a regularization parameter (λ).`\n",
    "\n",
    "## Mathematically, the L2 regularization term is given by:\n",
    "## $$L2 = \\lambda * \\sum{w_i}^2$$\n",
    "\n",
    "### where λ is the regularization parameter, w_i are the individual weights in the model.\n",
    "\n",
    "## *Effect on the model:*\n",
    "## L2 regularization helps to prevent large weight values and keeps the weights more evenly distributed. It doesn't encourage sparsity like L1 regularization, but it penalizes large weights more severely. This results in a more stable model with less sensitivity to individual data points, which helps in reducing overfitting and improving generalization.\n",
    "\n",
    "## **Comparison:**\n",
    "- ## L1 regularization is more likely to result in sparse weight vectors with many zero-valued weights, leading to feature selection.\n",
    "- ## L2 regularization encourages small but non-zero weights, distributing the importance of features more evenly across the model.\n",
    "- ## L1 regularization is useful when there are many irrelevant features and feature selection is desired.\n",
    "- ## L2 regularization is suitable for situations where all features may be relevant, but the weights need to be regularized to prevent overfitting.\n",
    "- ## L1 regularization is computationally more expensive due to its non-smooth nature (non-differentiable at zero).\n",
    "\n",
    "## In practice, a combination of L1 and L2 regularization, known as Elastic Net, is often used to get the benefits of both techniques and mitigate their individual drawbacks. The Elastic Net regularization adds both L1 and L2 regularization terms to the loss function, controlled by two regularization parameters ($λ_1 and λ_2$)."
   ]
  },
  {
   "cell_type": "markdown",
   "id": "1a8aef4b",
   "metadata": {},
   "source": []
  },
  {
   "cell_type": "markdown",
   "id": "083a1e65",
   "metadata": {},
   "source": []
  },
  {
   "cell_type": "markdown",
   "id": "c919e7e7",
   "metadata": {},
   "source": []
  },
  {
   "cell_type": "markdown",
   "id": "80553d16",
   "metadata": {},
   "source": [
    "## Q4. Discuss the role of regularization in preventing overfitting and improving the generalization of deep learning models.\n",
    "___\n",
    "## Regularization plays a crucial role in preventing overfitting and improving the generalization of deep learning models. Overfitting occurs when a model learns to perform well on the training data but fails to generalize to new, unseen data. This often happens when the model becomes too complex and starts to memorize noise and random fluctuations in the training data rather than capturing the underlying patterns.\n",
    "\n",
    "## Regularization techniques, such as L1 and L2 regularization, help to address overfitting by adding penalties to the model's loss function based on the magnitudes of the weights. These penalties discourage the model from relying too much on any individual weight and encourage simpler, more generalized weight configurations. Here's how regularization achieves this:\n",
    "\n",
    "## `1. Simplicity and Smoothing:` Regularization encourages the model to prefer simpler solutions with smaller weights. Smaller weights make the model smoother and more robust, preventing it from fitting noise in the data. This is especially important when dealing with noisy or sparse data.\n",
    "\n",
    "## `2. Feature Selection:` L1 regularization, in particular, drives some weights to exactly zero, effectively performing feature selection. This helps in identifying and discarding less important features, reducing model complexity and avoiding overfitting.\n",
    "\n",
    "## `3. Weight Shrinkage:` L2 regularization shrinks the weights towards zero, but not exactly to zero, thereby maintaining all features' contributions in the model. It prevents large weights, which reduces the model's sensitivity to individual data points and contributes to better generalization.\n",
    "\n",
    "## `4. Parameter Control:` Regularization introduces regularization parameters (λ) that control the strength of the penalty applied to the weights. By tuning these parameters, the model's complexity can be controlled, and the trade-off between fitting the training data well and generalizing to new data can be managed.\n",
    "\n",
    "## `5. Early Stopping:` Although not a regularization technique in itself, early stopping is often used in conjunction with regularization. It involves monitoring the model's performance on a validation set during training and stopping the training process when the validation performance starts to degrade. Regularization helps in achieving better early stopping points, as it reduces the risk of overfitting and improves the model's ability to generalize.\n",
    "\n",
    "## *Overall, regularization provides a powerful tool to control model complexity and prevent overfitting in deep learning models. It allows the model to learn from the training data while avoiding overemphasis on specific patterns or noise. By incorporating regularization techniques appropriately, deep learning models can achieve better generalization and perform well on unseen data.*"
   ]
  },
  {
   "cell_type": "markdown",
   "id": "c4653521",
   "metadata": {},
   "source": []
  },
  {
   "cell_type": "markdown",
   "id": "799450db",
   "metadata": {},
   "source": []
  },
  {
   "cell_type": "markdown",
   "id": "60961f7a",
   "metadata": {},
   "source": []
  },
  {
   "cell_type": "markdown",
   "id": "e7e8de71",
   "metadata": {},
   "source": []
  },
  {
   "cell_type": "markdown",
   "id": "a2cfc83d",
   "metadata": {},
   "source": []
  },
  {
   "cell_type": "markdown",
   "id": "16c1f3a1",
   "metadata": {},
   "source": []
  },
  {
   "cell_type": "markdown",
   "id": "bf283168",
   "metadata": {},
   "source": []
  },
  {
   "cell_type": "markdown",
   "id": "7fa2c610",
   "metadata": {},
   "source": [
    "# Part 2: Regularization Techniques\n",
    "___\n",
    "## Q5. Explain Dropout regularization and how it works to reduce overfitting. Discuss the impact of Dropout on model training and inference.\n",
    "___\n",
    "## `Dropout regularization is a popular technique used to reduce overfitting in deep learning models. It was introduced by \"Srivastava et al.\" in their paper titled \"Dropout: A Simple Way to Prevent Neural Networks from Overfitting.\" The idea behind Dropout is to randomly \"drop out\" (i.e., set to zero) a fraction of neurons during each training iteration, effectively preventing them from participating in the forward and backward passes.`\n",
    "\n",
    "## *Here's how Dropout works:*\n",
    "\n",
    "## `1. During Training:` For each training iteration, a random subset of neurons is selected to be dropped out. The dropout rate is a hyperparameter typically set between 0 and 1, representing the probability of dropping out a neuron. For example, a dropout rate of 0.5 means that, on average, half of the neurons in a layer will be dropped out during each training iteration.\n",
    "\n",
    "## `2. Forward Pass:` During the forward pass, the dropped-out neurons are set to zero, effectively deactivating them for that specific iteration. This means that different neurons are dropped out in each iteration, making the model more robust and preventing co-adaptation of neurons.\n",
    "\n",
    "## `3. Backward Pass:` During the backward pass (gradient calculation), only the active neurons (those that were not dropped out) contribute to the gradient updates. The gradients of the dropped-out neurons are set to zero.\n",
    "\n",
    "## *The impact of Dropout on model training and inference:*\n",
    "\n",
    "## `1. Model Training:` Dropout forces the model to be less reliant on any specific subset of neurons, promoting the learning of more robust and generalizable features. It prevents complex co-adaptations between neurons, reducing overfitting and improving the model's ability to generalize to new data. Dropout acts as a form of regularization, similar to L1 and L2 regularization, but with a different mechanism.\n",
    "\n",
    "## `2. Inference:` During inference (i.e., when making predictions on new data), Dropout is not applied. Instead, the full model with all neurons active is used. However, to compensate for the increase in activation during inference (since some neurons were dropped during training), the weights of the active neurons are scaled down by the dropout rate. This ensures that the expected output of each neuron remains consistent between training and inference.\n",
    "\n",
    "## *Overall, Dropout is a powerful regularization technique that can significantly improve the generalization performance of deep learning models. By randomly dropping out neurons during training, Dropout effectively creates an ensemble of multiple sub-networks, and the final model is a combination of these sub-networks. This ensemble effect helps the model to be more robust and less prone to overfitting. Dropout has been widely used in various deep learning architectures and has shown impressive results in improving model performance on a wide range of tasks.*"
   ]
  },
  {
   "cell_type": "markdown",
   "id": "d56b5d29",
   "metadata": {},
   "source": []
  },
  {
   "cell_type": "markdown",
   "id": "5ec2d9c7",
   "metadata": {},
   "source": []
  },
  {
   "cell_type": "markdown",
   "id": "65cd6b28",
   "metadata": {},
   "source": []
  },
  {
   "cell_type": "markdown",
   "id": "3c0e6bcc",
   "metadata": {},
   "source": [
    "## Q6. Describe the concept of Early Stopping as a form of regularization. How does it help prevent overfitting during the training process.\n",
    "___\n",
    "## `Early stopping is a form of regularization used to prevent overfitting during the training process of a machine learning model, including deep learning models. The idea behind early stopping is relatively simple: monitor the model's performance on a validation set during training, and stop the training process when the performance starts to degrade, indicating that the model is starting to overfit.`\n",
    "\n",
    "## *Here's how early stopping works:*\n",
    "\n",
    "## `1. Training and Validation Split:` The training data is divided into two subsets: a training set and a validation set. The model is trained on the training set, and its performance is evaluated on the validation set after each epoch (or a certain number of training iterations).\n",
    "\n",
    "## `2. Monitoring Validation Loss:` During training, the validation loss (or other evaluation metric) is calculated on the validation set after each epoch. The validation loss gives an indication of how well the model is generalizing to new data that it hasn't seen during training.\n",
    "\n",
    "## `3. Early Stopping Criteria:` The training process is stopped when the validation loss stops improving or starts to increase consistently over several epochs. This is the point where the model is likely starting to overfit the training data and may not generalize well to new data.\n",
    "\n",
    "## By stopping the training process early, we effectively prevent the model from continuing to learn the specific noise or random fluctuations in the training data that can lead to overfitting. Early stopping helps to find the point where the model has learned enough to perform well on unseen data but has not overfit to the training set.\n",
    "\n",
    "## *The benefits of early stopping as a form of regularization include:*\n",
    "\n",
    "## `1. Simplicity:`Early stopping is a simple and easy-to-implement regularization technique that doesn't require any additional hyperparameters or complex modifications to the model architecture.\n",
    "\n",
    "## `2. Computational Efficiency:` By stopping the training process early, early stopping can save computational resources and time, especially in deep learning, where training can be computationally intensive.\n",
    "\n",
    "## `3. Improved Generalization:` Early stopping helps the model find the optimal point where it generalizes well to new data, leading to improved performance on unseen examples.\n",
    "\n",
    "## *However, it's important to note that early stopping is not without its challenges:*\n",
    "\n",
    "## `1. Determining the Right Time to Stop:` Deciding when to stop the training process can be somewhat subjective and may require some trial and error. If the training is stopped too early, the model might not have fully converged, and its performance might be suboptimal. On the other hand, stopping too late could lead to overfitting.\n",
    "\n",
    "## `2. Noisy Validation Loss:` The validation loss can be noisy, especially when the validation set is small. Random fluctuations in the validation loss might cause the training process to stop too early or too late.\n",
    "\n",
    "## *Despite these challenges, early stopping remains a useful and widely used regularization technique in practice, especially in deep learning, where it can prevent overfitting and improve model generalization.*"
   ]
  },
  {
   "cell_type": "markdown",
   "id": "f10a8e04",
   "metadata": {},
   "source": []
  },
  {
   "cell_type": "markdown",
   "id": "a6b7d667",
   "metadata": {},
   "source": []
  },
  {
   "cell_type": "markdown",
   "id": "e46d70b0",
   "metadata": {},
   "source": []
  },
  {
   "cell_type": "markdown",
   "id": "f5d69136",
   "metadata": {},
   "source": [
    "## Q7. Explain the concept of Batch Normalization and its role as a form of regularization. How does Batch Normalization help in preventing overfitting?\n",
    "___\n",
    "## `Batch Normalization (BN) is a technique used in deep learning to improve the training of neural networks by normalizing the input to each layer within a mini-batch.` The concept of BN was introduced to address the internal covariate shift, which is the change in the distribution of the inputs to a layer as the parameters of the preceding layers change during training.\n",
    "\n",
    "## The main idea behind Batch Normalization is to normalize the inputs for each layer to have zero mean and unit variance. This is achieved by computing the mean and variance of the activations within each mini-batch and then scaling and shifting the normalized activations using learnable parameters, namely, scale and shift parameters. The normalized activations are given by the following formula:\n",
    "\n",
    "# $$x_{normalized} = \\frac {(x - \\mu)} { \\sqrt{\\sigma + \\epsilon}}$$\n",
    "\n",
    "\n",
    "## *where:*\n",
    "- ### $x$ is the input to the layer.\n",
    "- ### $\\mu$ is the mean of the inputs within the mini-batch.\n",
    "- ### $\\sigma$ is the variance of the inputs within the mini-batch.\n",
    "- ### $\\epsilon$ is a small constant added to the variance to avoid division by zero.\n",
    "\n",
    "## After normalization, the normalized activations are scaled and shifted using the scale and shift parameters to allow the network to learn the optimal range of values for the activations. These scale and shift parameters are learned during the training process.\n",
    "\n",
    "## Batch Normalization acts as a form of regularization for the following reasons:\n",
    "\n",
    "## `1. Smoothing the Optimization Landscape:` By normalizing the inputs, BN helps to smooth the optimization landscape, making it easier for the optimizer to converge. This can help prevent overfitting by reducing the chances of the model getting stuck in local minima or saddle points.\n",
    "\n",
    "## `2. Reducing Internal Covariate Shift:` BN reduces the internal covariate shift by normalizing the activations within each mini-batch. This can stabilize and accelerate the training process and reduce the dependence of the learning rate on the scale of the parameters, which can also help in preventing overfitting.\n",
    "\n",
    "## `3. Reducing the Need for Dropout:` Batch Normalization has been shown to reduce the need for other regularization techniques like dropout. Dropout randomly drops out units during training, which can be computationally expensive. BN can partly replace the need for dropout by providing some inherent regularization.\n",
    "\n",
    "## `4. Allowing Larger Learning Rates:` BN can allow the use of larger learning rates during training, which can speed up convergence. Larger learning rates can be problematic in deep networks without BN due to the internal covariate shift, but BN helps to address this issue.\n",
    "\n",
    "## *Overall, Batch Normalization has become a standard component in modern deep learning architectures because of its regularization benefits and its positive impact on training stability and convergence. By addressing internal covariate shift and providing smoother optimization landscapes, BN helps in preventing overfitting and improving the generalization performance of neural networks.*"
   ]
  },
  {
   "cell_type": "markdown",
   "id": "fbff8e92",
   "metadata": {},
   "source": []
  },
  {
   "cell_type": "markdown",
   "id": "12bdfc76",
   "metadata": {},
   "source": []
  },
  {
   "cell_type": "markdown",
   "id": "99c0bad9",
   "metadata": {},
   "source": []
  },
  {
   "cell_type": "markdown",
   "id": "c31fa81c",
   "metadata": {},
   "source": []
  },
  {
   "cell_type": "markdown",
   "id": "07bf8082",
   "metadata": {},
   "source": []
  },
  {
   "cell_type": "markdown",
   "id": "ac54b141",
   "metadata": {},
   "source": []
  },
  {
   "cell_type": "markdown",
   "id": "e5d48a51",
   "metadata": {},
   "source": []
  },
  {
   "cell_type": "markdown",
   "id": "9bd644bd",
   "metadata": {},
   "source": [
    "# Part 3: Applying Regularization\n",
    "___\n",
    "## Q8. Implement Dropout regularization in a deep learning model using a framework of your choice. Evaluate its impact on model performance and compare it with a model without Dropout.\n",
    "___"
   ]
  },
  {
   "cell_type": "code",
   "execution_count": 63,
   "id": "a71c8dc0-005c-4114-9a9c-27e2856e6da6",
   "metadata": {},
   "outputs": [],
   "source": [
    "import numpy as np\n",
    "import tensorflow as tf\n",
    "from tensorflow import keras\n",
    "from sklearn.datasets import make_classification\n",
    "from sklearn.model_selection import train_test_split"
   ]
  },
  {
   "cell_type": "code",
   "execution_count": 64,
   "id": "9164c999-2b56-4d8e-87cf-173d619cf8ac",
   "metadata": {},
   "outputs": [],
   "source": [
    "X, y = make_classification(n_samples=1000, n_features=20, n_informative=10, n_redundant=5, n_classes=2, n_clusters_per_class=1, class_sep=1.0, random_state=42)"
   ]
  },
  {
   "cell_type": "code",
   "execution_count": 65,
   "id": "b6aa25ef-d42d-4af1-8753-7c8872b5c1a3",
   "metadata": {},
   "outputs": [],
   "source": [
    "X_train, X_test, y_train, y_test = train_test_split(X, y, test_size=0.25, random_state=42)"
   ]
  },
  {
   "cell_type": "markdown",
   "id": "2d714323-ebac-4099-961f-e23db356046a",
   "metadata": {},
   "source": [
    "# **Model Without Dropout**"
   ]
  },
  {
   "cell_type": "code",
   "execution_count": 66,
   "id": "71556e63-2bcb-4740-aa67-55bb7dbec364",
   "metadata": {},
   "outputs": [],
   "source": [
    "model_without_dropout = keras.Sequential([\n",
    "    keras.layers.Dense(64, activation='relu', input_shape=(X_train.shape[1],)),\n",
    "    keras.layers.Dense(64, activation='relu'),\n",
    "    keras.layers.Dense(1, activation='sigmoid')\n",
    "])"
   ]
  },
  {
   "cell_type": "code",
   "execution_count": 67,
   "id": "6b4bf58c-3c5a-450b-8db9-4a716ef04408",
   "metadata": {},
   "outputs": [],
   "source": [
    "model_without_dropout.compile(optimizer='adam',loss='binary_crossentropy',metrics=['accuracy'])"
   ]
  },
  {
   "cell_type": "code",
   "execution_count": 68,
   "id": "a4c1a71e-a49a-46fe-acf9-e46cbdcf6498",
   "metadata": {},
   "outputs": [
    {
     "name": "stdout",
     "output_type": "stream",
     "text": [
      "Epoch 1/50\n",
      "24/24 [==============================] - 2s 22ms/step - loss: 0.3384 - accuracy: 0.8533 - val_loss: 0.1455 - val_accuracy: 0.9640\n",
      "Epoch 2/50\n",
      "24/24 [==============================] - 0s 7ms/step - loss: 0.1384 - accuracy: 0.9507 - val_loss: 0.1030 - val_accuracy: 0.9720\n",
      "Epoch 3/50\n",
      "24/24 [==============================] - 0s 7ms/step - loss: 0.1051 - accuracy: 0.9627 - val_loss: 0.0946 - val_accuracy: 0.9800\n",
      "Epoch 4/50\n",
      "24/24 [==============================] - 0s 7ms/step - loss: 0.0905 - accuracy: 0.9693 - val_loss: 0.0882 - val_accuracy: 0.9800\n",
      "Epoch 5/50\n",
      "24/24 [==============================] - 0s 7ms/step - loss: 0.0818 - accuracy: 0.9747 - val_loss: 0.0860 - val_accuracy: 0.9800\n",
      "Epoch 6/50\n",
      "24/24 [==============================] - 0s 7ms/step - loss: 0.0710 - accuracy: 0.9747 - val_loss: 0.0827 - val_accuracy: 0.9800\n",
      "Epoch 7/50\n",
      "24/24 [==============================] - 0s 7ms/step - loss: 0.0624 - accuracy: 0.9800 - val_loss: 0.0833 - val_accuracy: 0.9800\n",
      "Epoch 8/50\n",
      "24/24 [==============================] - 0s 7ms/step - loss: 0.0564 - accuracy: 0.9827 - val_loss: 0.0810 - val_accuracy: 0.9840\n",
      "Epoch 9/50\n",
      "24/24 [==============================] - 0s 7ms/step - loss: 0.0515 - accuracy: 0.9853 - val_loss: 0.0807 - val_accuracy: 0.9840\n",
      "Epoch 10/50\n",
      "24/24 [==============================] - 0s 8ms/step - loss: 0.0467 - accuracy: 0.9867 - val_loss: 0.0797 - val_accuracy: 0.9840\n",
      "Epoch 11/50\n",
      "24/24 [==============================] - 0s 7ms/step - loss: 0.0414 - accuracy: 0.9907 - val_loss: 0.0802 - val_accuracy: 0.9840\n",
      "Epoch 12/50\n",
      "24/24 [==============================] - 0s 7ms/step - loss: 0.0385 - accuracy: 0.9907 - val_loss: 0.0822 - val_accuracy: 0.9840\n",
      "Epoch 13/50\n",
      "24/24 [==============================] - 0s 7ms/step - loss: 0.0363 - accuracy: 0.9907 - val_loss: 0.0806 - val_accuracy: 0.9840\n",
      "Epoch 14/50\n",
      "24/24 [==============================] - 0s 7ms/step - loss: 0.0325 - accuracy: 0.9947 - val_loss: 0.0824 - val_accuracy: 0.9840\n",
      "Epoch 15/50\n",
      "24/24 [==============================] - 0s 7ms/step - loss: 0.0293 - accuracy: 0.9960 - val_loss: 0.0835 - val_accuracy: 0.9800\n",
      "Epoch 16/50\n",
      "24/24 [==============================] - 0s 7ms/step - loss: 0.0269 - accuracy: 0.9960 - val_loss: 0.0846 - val_accuracy: 0.9800\n",
      "Epoch 17/50\n",
      "24/24 [==============================] - 0s 7ms/step - loss: 0.0256 - accuracy: 0.9960 - val_loss: 0.0868 - val_accuracy: 0.9800\n",
      "Epoch 18/50\n",
      "24/24 [==============================] - 0s 8ms/step - loss: 0.0230 - accuracy: 0.9973 - val_loss: 0.0856 - val_accuracy: 0.9800\n",
      "Epoch 19/50\n",
      "24/24 [==============================] - 0s 7ms/step - loss: 0.0209 - accuracy: 0.9973 - val_loss: 0.0884 - val_accuracy: 0.9800\n",
      "Epoch 20/50\n",
      "24/24 [==============================] - 0s 7ms/step - loss: 0.0188 - accuracy: 0.9973 - val_loss: 0.0892 - val_accuracy: 0.9800\n",
      "Epoch 21/50\n",
      "24/24 [==============================] - 0s 7ms/step - loss: 0.0177 - accuracy: 0.9973 - val_loss: 0.0902 - val_accuracy: 0.9800\n",
      "Epoch 22/50\n",
      "24/24 [==============================] - 0s 7ms/step - loss: 0.0158 - accuracy: 0.9987 - val_loss: 0.0928 - val_accuracy: 0.9800\n",
      "Epoch 23/50\n",
      "24/24 [==============================] - 0s 7ms/step - loss: 0.0151 - accuracy: 0.9987 - val_loss: 0.0934 - val_accuracy: 0.9800\n",
      "Epoch 24/50\n",
      "24/24 [==============================] - 0s 8ms/step - loss: 0.0137 - accuracy: 0.9987 - val_loss: 0.0954 - val_accuracy: 0.9800\n",
      "Epoch 25/50\n",
      "24/24 [==============================] - 0s 7ms/step - loss: 0.0130 - accuracy: 0.9973 - val_loss: 0.0950 - val_accuracy: 0.9800\n",
      "Epoch 26/50\n",
      "24/24 [==============================] - 0s 7ms/step - loss: 0.0119 - accuracy: 0.9987 - val_loss: 0.0970 - val_accuracy: 0.9840\n",
      "Epoch 27/50\n",
      "24/24 [==============================] - 0s 7ms/step - loss: 0.0105 - accuracy: 0.9987 - val_loss: 0.0992 - val_accuracy: 0.9800\n",
      "Epoch 28/50\n",
      "24/24 [==============================] - 0s 7ms/step - loss: 0.0104 - accuracy: 0.9987 - val_loss: 0.1005 - val_accuracy: 0.9800\n",
      "Epoch 29/50\n",
      "24/24 [==============================] - 0s 7ms/step - loss: 0.0091 - accuracy: 0.9987 - val_loss: 0.1028 - val_accuracy: 0.9800\n",
      "Epoch 30/50\n",
      "24/24 [==============================] - 0s 8ms/step - loss: 0.0085 - accuracy: 0.9987 - val_loss: 0.1026 - val_accuracy: 0.9840\n",
      "Epoch 31/50\n",
      "24/24 [==============================] - 0s 7ms/step - loss: 0.0079 - accuracy: 0.9987 - val_loss: 0.1032 - val_accuracy: 0.9800\n",
      "Epoch 32/50\n",
      "24/24 [==============================] - 0s 7ms/step - loss: 0.0077 - accuracy: 0.9973 - val_loss: 0.1060 - val_accuracy: 0.9840\n",
      "Epoch 33/50\n",
      "24/24 [==============================] - 0s 7ms/step - loss: 0.0063 - accuracy: 0.9987 - val_loss: 0.1057 - val_accuracy: 0.9840\n",
      "Epoch 34/50\n",
      "24/24 [==============================] - 0s 7ms/step - loss: 0.0067 - accuracy: 0.9987 - val_loss: 0.1085 - val_accuracy: 0.9840\n",
      "Epoch 35/50\n",
      "24/24 [==============================] - 0s 7ms/step - loss: 0.0059 - accuracy: 0.9987 - val_loss: 0.1083 - val_accuracy: 0.9840\n",
      "Epoch 36/50\n",
      "24/24 [==============================] - 0s 7ms/step - loss: 0.0053 - accuracy: 0.9987 - val_loss: 0.1094 - val_accuracy: 0.9840\n",
      "Epoch 37/50\n",
      "24/24 [==============================] - 0s 7ms/step - loss: 0.0050 - accuracy: 0.9987 - val_loss: 0.1112 - val_accuracy: 0.9840\n",
      "Epoch 38/50\n",
      "24/24 [==============================] - 0s 7ms/step - loss: 0.0048 - accuracy: 0.9987 - val_loss: 0.1124 - val_accuracy: 0.9840\n",
      "Epoch 39/50\n",
      "24/24 [==============================] - 0s 7ms/step - loss: 0.0050 - accuracy: 1.0000 - val_loss: 0.1120 - val_accuracy: 0.9840\n",
      "Epoch 40/50\n",
      "24/24 [==============================] - 0s 7ms/step - loss: 0.0047 - accuracy: 0.9987 - val_loss: 0.1117 - val_accuracy: 0.9840\n",
      "Epoch 41/50\n",
      "24/24 [==============================] - 0s 7ms/step - loss: 0.0037 - accuracy: 1.0000 - val_loss: 0.1147 - val_accuracy: 0.9840\n",
      "Epoch 42/50\n",
      "24/24 [==============================] - 0s 7ms/step - loss: 0.0032 - accuracy: 1.0000 - val_loss: 0.1166 - val_accuracy: 0.9840\n",
      "Epoch 43/50\n",
      "24/24 [==============================] - 0s 7ms/step - loss: 0.0030 - accuracy: 1.0000 - val_loss: 0.1182 - val_accuracy: 0.9840\n",
      "Epoch 44/50\n",
      "24/24 [==============================] - 0s 7ms/step - loss: 0.0025 - accuracy: 1.0000 - val_loss: 0.1196 - val_accuracy: 0.9840\n",
      "Epoch 45/50\n",
      "24/24 [==============================] - 0s 7ms/step - loss: 0.0028 - accuracy: 0.9987 - val_loss: 0.1199 - val_accuracy: 0.9840\n",
      "Epoch 46/50\n",
      "24/24 [==============================] - 0s 8ms/step - loss: 0.0026 - accuracy: 1.0000 - val_loss: 0.1222 - val_accuracy: 0.9840\n",
      "Epoch 47/50\n",
      "24/24 [==============================] - 0s 7ms/step - loss: 0.0023 - accuracy: 1.0000 - val_loss: 0.1246 - val_accuracy: 0.9840\n",
      "Epoch 48/50\n",
      "24/24 [==============================] - 0s 7ms/step - loss: 0.0020 - accuracy: 1.0000 - val_loss: 0.1237 - val_accuracy: 0.9840\n",
      "Epoch 49/50\n",
      "24/24 [==============================] - 0s 7ms/step - loss: 0.0019 - accuracy: 1.0000 - val_loss: 0.1256 - val_accuracy: 0.9840\n",
      "Epoch 50/50\n",
      "24/24 [==============================] - 0s 7ms/step - loss: 0.0018 - accuracy: 1.0000 - val_loss: 0.1264 - val_accuracy: 0.9840\n"
     ]
    }
   ],
   "source": [
    "model_history = model_without_dropout.fit(X_train, y_train,validation_data=(X_test,y_test), epochs=50, batch_size=32)"
   ]
  },
  {
   "cell_type": "code",
   "execution_count": 93,
   "id": "779286fa-e5b6-4fdc-8c7e-15e17d1963bf",
   "metadata": {},
   "outputs": [],
   "source": [
    "loss_without_dropout, accuracy_without_dropout = model_without_dropout.evaluate(X_test, y_test, verbose=0)"
   ]
  },
  {
   "cell_type": "code",
   "execution_count": 75,
   "id": "c4ecec1a-38c3-432f-b423-cc238564d4fe",
   "metadata": {},
   "outputs": [
    {
     "data": {
      "image/png": "[encoded data removed]",
      "text/plain": [
       "<Figure size 640x480 with 1 Axes>"
      ]
     },
     "metadata": {},
     "output_type": "display_data"
    }
   ],
   "source": [
    "# Summarize history for loss without dropout\n",
    "plt.plot(model_history.history['loss'])\n",
    "plt.plot(model_history.history['val_loss'])\n",
    "plt.title('model loss')\n",
    "plt.ylabel('loss')\n",
    "plt.xlabel('epoch')\n",
    "plt.legend(['train', 'test'], loc='upper right')\n",
    "plt.show()"
   ]
  },
  {
   "cell_type": "code",
   "execution_count": 77,
   "id": "4f4f5955-dbae-4c50-a267-f20c311afd2a",
   "metadata": {},
   "outputs": [
    {
     "data": {
      "image/png": "[encoded data removed]",
      "text/plain": [
       "<Figure size 640x480 with 1 Axes>"
      ]
     },
     "metadata": {},
     "output_type": "display_data"
    }
   ],
   "source": [
    "# Summarize history for accuracy without dropout\n",
    "plt.plot(model_history.history['accuracy'])\n",
    "plt.plot(model_history.history['val_accuracy'])\n",
    "plt.title('model accuracy')\n",
    "plt.ylabel('accuracy')\n",
    "plt.xlabel('epoch')\n",
    "plt.legend(['train', 'test'], loc='lower right')\n",
    "plt.show()"
   ]
  },
  {
   "cell_type": "markdown",
   "id": "64c0ec8a-ed5b-494d-b358-e30a29a9bec9",
   "metadata": {},
   "source": [
    "# **Model With Dropout**"
   ]
  },
  {
   "cell_type": "code",
   "execution_count": 79,
   "id": "fc480712-faa6-4688-bc32-10a154f4d7ea",
   "metadata": {},
   "outputs": [],
   "source": [
    "model_with_dropout = keras.Sequential([\n",
    "    keras.layers.Dense(64, activation='relu', input_shape=(X_train.shape[1],)),\n",
    "    keras.layers.Dropout(0.5),  # Adding dropout with a rate of 0.5\n",
    "    keras.layers.Dense(64, activation='relu'),\n",
    "    keras.layers.Dropout(0.5),  # Adding dropout with a rate of 0.5\n",
    "    keras.layers.Dense(1, activation='sigmoid')\n",
    "])"
   ]
  },
  {
   "cell_type": "code",
   "execution_count": 80,
   "id": "7dedf79a-323c-4af0-aa49-87d3066f1881",
   "metadata": {},
   "outputs": [],
   "source": [
    "model_with_dropout.compile(optimizer='adam',loss='binary_crossentropy',metrics=['accuracy'])"
   ]
  },
  {
   "cell_type": "code",
   "execution_count": 81,
   "id": "4ff42e82-a318-4134-8e1e-78202d7403aa",
   "metadata": {},
   "outputs": [
    {
     "name": "stdout",
     "output_type": "stream",
     "text": [
      "Epoch 1/50\n",
      "24/24 [==============================] - 3s 24ms/step - loss: 0.9913 - accuracy: 0.6160 - val_loss: 0.3519 - val_accuracy: 0.8680\n",
      "Epoch 2/50\n",
      "24/24 [==============================] - 0s 9ms/step - loss: 0.4750 - accuracy: 0.7907 - val_loss: 0.1832 - val_accuracy: 0.9400\n",
      "Epoch 3/50\n",
      "24/24 [==============================] - 0s 8ms/step - loss: 0.3722 - accuracy: 0.8387 - val_loss: 0.1263 - val_accuracy: 0.9600\n",
      "Epoch 4/50\n",
      "24/24 [==============================] - 0s 7ms/step - loss: 0.2726 - accuracy: 0.8840 - val_loss: 0.1011 - val_accuracy: 0.9720\n",
      "Epoch 5/50\n",
      "24/24 [==============================] - 0s 7ms/step - loss: 0.2308 - accuracy: 0.8947 - val_loss: 0.0885 - val_accuracy: 0.9680\n",
      "Epoch 6/50\n",
      "24/24 [==============================] - 0s 8ms/step - loss: 0.1726 - accuracy: 0.9280 - val_loss: 0.0837 - val_accuracy: 0.9720\n",
      "Epoch 7/50\n",
      "24/24 [==============================] - 0s 8ms/step - loss: 0.1765 - accuracy: 0.9320 - val_loss: 0.0792 - val_accuracy: 0.9800\n",
      "Epoch 8/50\n",
      "24/24 [==============================] - 0s 8ms/step - loss: 0.1945 - accuracy: 0.9373 - val_loss: 0.0759 - val_accuracy: 0.9800\n",
      "Epoch 9/50\n",
      "24/24 [==============================] - 0s 8ms/step - loss: 0.1732 - accuracy: 0.9360 - val_loss: 0.0743 - val_accuracy: 0.9760\n",
      "Epoch 10/50\n",
      "24/24 [==============================] - 0s 8ms/step - loss: 0.1584 - accuracy: 0.9480 - val_loss: 0.0724 - val_accuracy: 0.9840\n",
      "Epoch 11/50\n",
      "24/24 [==============================] - 0s 7ms/step - loss: 0.1599 - accuracy: 0.9440 - val_loss: 0.0728 - val_accuracy: 0.9840\n",
      "Epoch 12/50\n",
      "24/24 [==============================] - 0s 8ms/step - loss: 0.1420 - accuracy: 0.9547 - val_loss: 0.0732 - val_accuracy: 0.9840\n",
      "Epoch 13/50\n",
      "24/24 [==============================] - 0s 8ms/step - loss: 0.1527 - accuracy: 0.9387 - val_loss: 0.0710 - val_accuracy: 0.9840\n",
      "Epoch 14/50\n",
      "24/24 [==============================] - 0s 9ms/step - loss: 0.1232 - accuracy: 0.9547 - val_loss: 0.0702 - val_accuracy: 0.9840\n",
      "Epoch 15/50\n",
      "24/24 [==============================] - 0s 8ms/step - loss: 0.1155 - accuracy: 0.9600 - val_loss: 0.0700 - val_accuracy: 0.9840\n",
      "Epoch 16/50\n",
      "24/24 [==============================] - 0s 7ms/step - loss: 0.1180 - accuracy: 0.9587 - val_loss: 0.0688 - val_accuracy: 0.9880\n",
      "Epoch 17/50\n",
      "24/24 [==============================] - 0s 8ms/step - loss: 0.1281 - accuracy: 0.9560 - val_loss: 0.0697 - val_accuracy: 0.9880\n",
      "Epoch 18/50\n",
      "24/24 [==============================] - 0s 8ms/step - loss: 0.1120 - accuracy: 0.9613 - val_loss: 0.0685 - val_accuracy: 0.9880\n",
      "Epoch 19/50\n",
      "24/24 [==============================] - 0s 7ms/step - loss: 0.1151 - accuracy: 0.9707 - val_loss: 0.0692 - val_accuracy: 0.9880\n",
      "Epoch 20/50\n",
      "24/24 [==============================] - 0s 8ms/step - loss: 0.0996 - accuracy: 0.9667 - val_loss: 0.0697 - val_accuracy: 0.9920\n",
      "Epoch 21/50\n",
      "24/24 [==============================] - 0s 8ms/step - loss: 0.1149 - accuracy: 0.9600 - val_loss: 0.0692 - val_accuracy: 0.9880\n",
      "Epoch 22/50\n",
      "24/24 [==============================] - 0s 8ms/step - loss: 0.1052 - accuracy: 0.9627 - val_loss: 0.0699 - val_accuracy: 0.9880\n",
      "Epoch 23/50\n",
      "24/24 [==============================] - 0s 7ms/step - loss: 0.1270 - accuracy: 0.9573 - val_loss: 0.0698 - val_accuracy: 0.9920\n",
      "Epoch 24/50\n",
      "24/24 [==============================] - 0s 9ms/step - loss: 0.0968 - accuracy: 0.9653 - val_loss: 0.0705 - val_accuracy: 0.9920\n",
      "Epoch 25/50\n",
      "24/24 [==============================] - 0s 7ms/step - loss: 0.0872 - accuracy: 0.9693 - val_loss: 0.0683 - val_accuracy: 0.9920\n",
      "Epoch 26/50\n",
      "24/24 [==============================] - 0s 8ms/step - loss: 0.0834 - accuracy: 0.9680 - val_loss: 0.0681 - val_accuracy: 0.9920\n",
      "Epoch 27/50\n",
      "24/24 [==============================] - 0s 7ms/step - loss: 0.1010 - accuracy: 0.9707 - val_loss: 0.0688 - val_accuracy: 0.9920\n",
      "Epoch 28/50\n",
      "24/24 [==============================] - 0s 8ms/step - loss: 0.0857 - accuracy: 0.9720 - val_loss: 0.0675 - val_accuracy: 0.9920\n",
      "Epoch 29/50\n",
      "24/24 [==============================] - 0s 8ms/step - loss: 0.0854 - accuracy: 0.9760 - val_loss: 0.0677 - val_accuracy: 0.9920\n",
      "Epoch 30/50\n",
      "24/24 [==============================] - 0s 8ms/step - loss: 0.0775 - accuracy: 0.9760 - val_loss: 0.0684 - val_accuracy: 0.9920\n",
      "Epoch 31/50\n",
      "24/24 [==============================] - 0s 8ms/step - loss: 0.0750 - accuracy: 0.9813 - val_loss: 0.0679 - val_accuracy: 0.9920\n",
      "Epoch 32/50\n",
      "24/24 [==============================] - 0s 7ms/step - loss: 0.0774 - accuracy: 0.9787 - val_loss: 0.0691 - val_accuracy: 0.9920\n",
      "Epoch 33/50\n",
      "24/24 [==============================] - 0s 8ms/step - loss: 0.0690 - accuracy: 0.9733 - val_loss: 0.0693 - val_accuracy: 0.9920\n",
      "Epoch 34/50\n",
      "24/24 [==============================] - 0s 8ms/step - loss: 0.0727 - accuracy: 0.9773 - val_loss: 0.0686 - val_accuracy: 0.9920\n",
      "Epoch 35/50\n",
      "24/24 [==============================] - 0s 8ms/step - loss: 0.0734 - accuracy: 0.9800 - val_loss: 0.0680 - val_accuracy: 0.9920\n",
      "Epoch 36/50\n",
      "24/24 [==============================] - 0s 8ms/step - loss: 0.0695 - accuracy: 0.9813 - val_loss: 0.0667 - val_accuracy: 0.9920\n",
      "Epoch 37/50\n",
      "24/24 [==============================] - 0s 8ms/step - loss: 0.0705 - accuracy: 0.9813 - val_loss: 0.0675 - val_accuracy: 0.9920\n",
      "Epoch 38/50\n",
      "24/24 [==============================] - 0s 8ms/step - loss: 0.0515 - accuracy: 0.9787 - val_loss: 0.0693 - val_accuracy: 0.9920\n",
      "Epoch 39/50\n",
      "24/24 [==============================] - 0s 8ms/step - loss: 0.0692 - accuracy: 0.9747 - val_loss: 0.0694 - val_accuracy: 0.9920\n",
      "Epoch 40/50\n",
      "24/24 [==============================] - 0s 8ms/step - loss: 0.0668 - accuracy: 0.9813 - val_loss: 0.0695 - val_accuracy: 0.9880\n",
      "Epoch 41/50\n",
      "24/24 [==============================] - 0s 8ms/step - loss: 0.0498 - accuracy: 0.9893 - val_loss: 0.0697 - val_accuracy: 0.9920\n",
      "Epoch 42/50\n",
      "24/24 [==============================] - 0s 9ms/step - loss: 0.0690 - accuracy: 0.9787 - val_loss: 0.0677 - val_accuracy: 0.9920\n",
      "Epoch 43/50\n",
      "24/24 [==============================] - 0s 7ms/step - loss: 0.0641 - accuracy: 0.9853 - val_loss: 0.0689 - val_accuracy: 0.9920\n",
      "Epoch 44/50\n",
      "24/24 [==============================] - 0s 8ms/step - loss: 0.0533 - accuracy: 0.9853 - val_loss: 0.0681 - val_accuracy: 0.9920\n",
      "Epoch 45/50\n",
      "24/24 [==============================] - 0s 7ms/step - loss: 0.0647 - accuracy: 0.9813 - val_loss: 0.0682 - val_accuracy: 0.9920\n",
      "Epoch 46/50\n",
      "24/24 [==============================] - 0s 8ms/step - loss: 0.0763 - accuracy: 0.9800 - val_loss: 0.0702 - val_accuracy: 0.9920\n",
      "Epoch 47/50\n",
      "24/24 [==============================] - 0s 8ms/step - loss: 0.0554 - accuracy: 0.9853 - val_loss: 0.0727 - val_accuracy: 0.9920\n",
      "Epoch 48/50\n",
      "24/24 [==============================] - 0s 8ms/step - loss: 0.0519 - accuracy: 0.9880 - val_loss: 0.0718 - val_accuracy: 0.9920\n",
      "Epoch 49/50\n",
      "24/24 [==============================] - 0s 8ms/step - loss: 0.0569 - accuracy: 0.9880 - val_loss: 0.0725 - val_accuracy: 0.9920\n",
      "Epoch 50/50\n",
      "24/24 [==============================] - 0s 9ms/step - loss: 0.0602 - accuracy: 0.9827 - val_loss: 0.0732 - val_accuracy: 0.9920\n"
     ]
    }
   ],
   "source": [
    "model_history = model_with_dropout.fit(X_train, y_train,validation_data=(X_test,y_test), epochs=50, batch_size=32)"
   ]
  },
  {
   "cell_type": "code",
   "execution_count": 94,
   "id": "0518f8cb-268b-4cc7-b086-62776ccd61b2",
   "metadata": {},
   "outputs": [],
   "source": [
    "loss_with_dropout, accuracy_with_dropout = model_with_dropout.evaluate(X_test, y_test, verbose=0)"
   ]
  },
  {
   "cell_type": "code",
   "execution_count": 82,
   "id": "9104d4cb-b488-4d3a-8f98-bc2bcd8a5e8d",
   "metadata": {},
   "outputs": [
    {
     "data": {
      "image/png": "[encoded data removed]",
      "text/plain": [
       "<Figure size 640x480 with 1 Axes>"
      ]
     },
     "metadata": {},
     "output_type": "display_data"
    }
   ],
   "source": [
    "# Summarize history for loss with dropout\n",
    "plt.plot(model_history.history['loss'])\n",
    "plt.plot(model_history.history['val_loss'])\n",
    "plt.title('model loss')\n",
    "plt.ylabel('loss')\n",
    "plt.xlabel('epoch')\n",
    "plt.legend(['train', 'test'], loc='upper right')\n",
    "plt.show()"
   ]
  },
  {
   "cell_type": "code",
   "execution_count": 83,
   "id": "bb69cd23-39e2-432b-ad92-8036536bbdd4",
   "metadata": {},
   "outputs": [
    {
     "data": {
      "image/png": "[encoded data removed]",
      "text/plain": [
       "<Figure size 640x480 with 1 Axes>"
      ]
     },
     "metadata": {},
     "output_type": "display_data"
    }
   ],
   "source": [
    "# Summarize history for accuracy with dropout\n",
    "plt.plot(model_history.history['accuracy'])\n",
    "plt.plot(model_history.history['val_accuracy'])\n",
    "plt.title('model accuracy')\n",
    "plt.ylabel('accuracy')\n",
    "plt.xlabel('epoch')\n",
    "plt.legend(['train', 'test'], loc='lower right')\n",
    "plt.show()"
   ]
  },
  {
   "cell_type": "markdown",
   "id": "13b4b8cc",
   "metadata": {},
   "source": [
    "# **Comparison**"
   ]
  },
  {
   "cell_type": "markdown",
   "id": "37635cc5-f436-4d76-8154-e4ac2151dd31",
   "metadata": {},
   "source": [
    "## 1. **Loss**"
   ]
  },
  {
   "cell_type": "code",
   "execution_count": 96,
   "id": "179b71d9-0347-4f67-a5c2-586c80334989",
   "metadata": {},
   "outputs": [
    {
     "name": "stdout",
     "output_type": "stream",
     "text": [
      "Model without dropout - Loss: 0.12637729942798615\n",
      "Model with dropout - Loss: 0.07324155420064926\n"
     ]
    }
   ],
   "source": [
    "print(\"Model without dropout - Loss:\", loss_without_dropout)\n",
    "print(\"Model with dropout - Loss:\", loss_with_dropout)"
   ]
  },
  {
   "cell_type": "markdown",
   "id": "b26a1721-f1fa-450d-b5b4-64ca0cf0ff7e",
   "metadata": {},
   "source": [
    "## 2. **Accuracy**"
   ]
  },
  {
   "cell_type": "code",
   "execution_count": 97,
   "id": "8cba02ab-7d62-40af-8632-642ef75ad59d",
   "metadata": {},
   "outputs": [
    {
     "name": "stdout",
     "output_type": "stream",
     "text": [
      "Model without dropout - Accuracy: 0.984000027179718\n",
      "Model with dropout - Accuracy: 0.9919999837875366\n"
     ]
    }
   ],
   "source": [
    "print(\"Model without dropout - Accuracy:\", accuracy_without_dropout)\n",
    "print(\"Model with dropout - Accuracy:\", accuracy_with_dropout)"
   ]
  },
  {
   "cell_type": "markdown",
   "id": "bd560238-c5d1-44bf-b950-d832fce9a0a5",
   "metadata": {},
   "source": [
    "## After the comparison of `loss` and `accuracy` with and without dropout, we can say that, there is a signigicant `reduction` in `loss` after using dropout method. Similarly, There is a significant `increament` in `accuracy` after using droput method."
   ]
  },
  {
   "cell_type": "markdown",
   "id": "19e59d82-0c2e-4851-8462-6879ac735f0d",
   "metadata": {},
   "source": [
    "## Therefore, Dropout is good regularization technique to improve the model's performance where we want a significant change in our model's accuracy or loss."
   ]
  },
  {
   "cell_type": "markdown",
   "id": "88016b5c-53f6-4210-9051-f46350a09d8b",
   "metadata": {},
   "source": []
  },
  {
   "cell_type": "markdown",
   "id": "129946be-02bd-4e85-8f07-3b86928116cf",
   "metadata": {},
   "source": []
  },
  {
   "cell_type": "markdown",
   "id": "6a8b2823-7187-43d0-80d4-94083ad799c2",
   "metadata": {},
   "source": []
  },
  {
   "cell_type": "markdown",
   "id": "6645041a",
   "metadata": {},
   "source": [
    "## Q9. Discuss the considerations and tradeoffs when choosing the appropriate regularization technique for a given deep learning task.\n",
    "___\n",
    "## When choosing the appropriate regularization technique for a deep learning task, several considerations and tradeoffs need to be taken into account. Here are some key factors to consider:\n",
    "\n",
    "## 1. `Data Size and Complexity:` The size and complexity of the dataset play a role in choosing regularization techniques. For small datasets or simple tasks, simpler regularization methods like L2 regularization or early stopping may be sufficient. For large and complex datasets, more advanced techniques like Dropout or Batch Normalization might be necessary.\n",
    "\n",
    "## 2. `Model Architecture:` Different regularization techniques may work better with specific model architectures. For example, Dropout is commonly used in fully connected neural networks, while Batch Normalization is effective in deep convolutional neural networks.\n",
    "\n",
    "## 3. `Overfitting Severity:` The severity of overfitting in the model is crucial. If overfitting is not a significant concern, simpler regularization methods may be preferred. However, if overfitting is a major issue, more powerful regularization techniques should be employed.\n",
    "\n",
    "## 4. `Computational Resources:` Some regularization techniques, like Dropout, increase training time due to randomly dropping out units during training. If computational resources are limited, less computationally expensive regularization methods may be preferred.\n",
    "\n",
    "## 5. `Interpretability:` Some regularization techniques, like L1 regularization, can induce sparsity in the model, making it more interpretable. If model interpretability is a priority, such techniques may be favored.\n",
    "\n",
    "## 6. `Generalization Performance:` The main goal of regularization is to improve generalization performance on unseen data. It is essential to compare and validate different regularization techniques using cross-validation or other evaluation methods to determine which one performs better for the specific task.\n",
    "\n",
    "## 7. `Tuning Hyperparameters:` Different regularization techniques have hyperparameters that need to be tuned. The process of finding the optimal hyperparameters can be time-consuming and may require a search over a range of values.\n",
    "\n",
    "## 8. `Domain Knowledge:` Domain knowledge and understanding of the problem can guide the selection of appropriate regularization techniques. Certain techniques may be more suited to specific types of data or tasks.\n",
    "\n",
    "## *In summary, the choice of regularization technique depends on the characteristics of the data, the complexity of the model, and the severity of overfitting. It is essential to experiment with different regularization methods and fine-tune their hyperparameters to find the best approach for the given deep learning task. Regularization should be viewed as a tool to balance model complexity and generalization performance, and the decision should be based on thorough experimentation and evaluation.*"
   ]
  }
 ],
 "metadata": {
  "kernelspec": {
   "display_name": "Python 3 (ipykernel)",
   "language": "python",
   "name": "python3"
  },
  "language_info": {
   "codemirror_mode": {
    "name": "ipython",
    "version": 3
   },
   "file_extension": ".py",
   "mimetype": "text/x-python",
   "name": "python",
   "nbconvert_exporter": "python",
   "pygments_lexer": "ipython3",
   "version": "3.11.3"
  }
 },
 "nbformat": 4,
 "nbformat_minor": 5
}
