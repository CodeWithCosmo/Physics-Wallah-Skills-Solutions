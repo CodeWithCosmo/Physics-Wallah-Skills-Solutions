{
 "cells": [
  {
   "attachments": {},
   "cell_type": "markdown",
   "id": "8543b6ed-6fe4-488a-a8ca-26ae333fc264",
   "metadata": {},
   "source": [
    "># Objective:\n",
    "## The objective of this assignment is to implement PCA on a given dataset and analyse the results.\n",
    "># Instructions:\n",
    "* ### Import load_wine dataset from sklearn.dataset\n",
    "* ### Load the dataset into a Pandas dataframe.\n",
    "* ### Split the dataset into features and target variables.\n",
    "* ### Perform data preprocessing (e.g., scaling, normalisation, missing value imputation) as necessary.\n",
    "* ### Implement PCA on the preprocessed dataset using the scikit-learn library.\n",
    "* ### Determine the optimal number of principal components to retain based on the explained variance ratio.\n",
    "* ### Visualise the results of PCA using a scatter plot.\n",
    "* ### Perform clustering on the PCA-transformed data using K-Means clustering algorithm.\n",
    "* ### Interpret the results of PCA and clustering analysis.\n",
    "\n",
    "># Deliverables:\n",
    "* ### Jupyter notebook containing the code for the PCA implementation.\n",
    "* ### A report summarising the results of PCA and clustering analysis.\n",
    "* ### Scatter plot showing the results of PCA.\n",
    "* ### A table showing the performance metrics for the clustering algorithm.\n",
    "\n",
    "># Additional Information:\n",
    "* ### You can use the python programming language.\n",
    "* ### You can use any other machine learning libraries or tools as necessary.\n",
    "* ### You can use any visualisation libraries or tools as necessary."
   ]
  },
  {
   "attachments": {},
   "cell_type": "markdown",
   "id": "3e2cd6a0-90d1-48c7-bd0f-56865f6fcc86",
   "metadata": {},
   "source": []
  },
  {
   "attachments": {},
   "cell_type": "markdown",
   "id": "e46a3a72-954a-4d86-bd3d-8b7d876a30d2",
   "metadata": {},
   "source": []
  },
  {
   "attachments": {},
   "cell_type": "markdown",
   "id": "b9b06c6d-ccef-4252-a2d4-751f9f879bb9",
   "metadata": {},
   "source": []
  },
  {
   "attachments": {},
   "cell_type": "markdown",
   "id": "16930c9d-1237-4a88-ab2d-ec0180c4cfe6",
   "metadata": {},
   "source": []
  },
  {
   "attachments": {},
   "cell_type": "markdown",
   "id": "0369dde6-98e1-4ea2-b568-6c944fbc88e7",
   "metadata": {},
   "source": [
    ">## 1. Importting necessary libraries"
   ]
  },
  {
   "cell_type": "code",
   "execution_count": 50,
   "id": "5b7494a1-f301-40b2-9ece-4158dc58efe1",
   "metadata": {
    "tags": []
   },
   "outputs": [],
   "source": [
    "import matplotlib.pyplot as plt\n",
    "import seaborn as sns\n",
    "import numpy as np\n",
    "import pandas as pd\n",
    "from warnings import filterwarnings as fw\n",
    "\n",
    "fw('ignore')"
   ]
  },
  {
   "attachments": {},
   "cell_type": "markdown",
   "id": "6a5ef160-e4ab-42f6-996c-69d5d271362d",
   "metadata": {},
   "source": [
    ">## 2. Importing wine dataset into dataframe"
   ]
  },
  {
   "cell_type": "code",
   "execution_count": 51,
   "id": "c2ff4e3e-6424-4fcb-a50c-1319a25d8dc3",
   "metadata": {
    "tags": []
   },
   "outputs": [],
   "source": [
    "from sklearn.datasets import load_wine\n",
    "wines = load_wine(as_frame=True)"
   ]
  },
  {
   "cell_type": "code",
   "execution_count": 52,
   "id": "cfc84051-c381-4c4f-b095-f417780ce0f5",
   "metadata": {
    "tags": []
   },
   "outputs": [
    {
     "data": {
      "text/html": [
       "<div>\n",
       "<style scoped>\n",
       "    .dataframe tbody tr th:only-of-type {\n",
       "        vertical-align: middle;\n",
       "    }\n",
       "\n",
       "    .dataframe tbody tr th {\n",
       "        vertical-align: top;\n",
       "    }\n",
       "\n",
       "    .dataframe thead th {\n",
       "        text-align: right;\n",
       "    }\n",
       "</style>\n",
       "<table border=\"1\" class=\"dataframe\">\n",
       "  <thead>\n",
       "    <tr style=\"text-align: right;\">\n",
       "      <th></th>\n",
       "      <th>alcohol</th>\n",
       "      <th>malic_acid</th>\n",
       "      <th>ash</th>\n",
       "      <th>alcalinity_of_ash</th>\n",
       "      <th>magnesium</th>\n",
       "      <th>total_phenols</th>\n",
       "      <th>flavanoids</th>\n",
       "      <th>nonflavanoid_phenols</th>\n",
       "      <th>proanthocyanins</th>\n",
       "      <th>color_intensity</th>\n",
       "      <th>hue</th>\n",
       "      <th>od280/od315_of_diluted_wines</th>\n",
       "      <th>proline</th>\n",
       "    </tr>\n",
       "  </thead>\n",
       "  <tbody>\n",
       "    <tr>\n",
       "      <th>0</th>\n",
       "      <td>14.23</td>\n",
       "      <td>1.71</td>\n",
       "      <td>2.43</td>\n",
       "      <td>15.6</td>\n",
       "      <td>127.0</td>\n",
       "      <td>2.80</td>\n",
       "      <td>3.06</td>\n",
       "      <td>0.28</td>\n",
       "      <td>2.29</td>\n",
       "      <td>5.64</td>\n",
       "      <td>1.04</td>\n",
       "      <td>3.92</td>\n",
       "      <td>1065.0</td>\n",
       "    </tr>\n",
       "    <tr>\n",
       "      <th>1</th>\n",
       "      <td>13.20</td>\n",
       "      <td>1.78</td>\n",
       "      <td>2.14</td>\n",
       "      <td>11.2</td>\n",
       "      <td>100.0</td>\n",
       "      <td>2.65</td>\n",
       "      <td>2.76</td>\n",
       "      <td>0.26</td>\n",
       "      <td>1.28</td>\n",
       "      <td>4.38</td>\n",
       "      <td>1.05</td>\n",
       "      <td>3.40</td>\n",
       "      <td>1050.0</td>\n",
       "    </tr>\n",
       "    <tr>\n",
       "      <th>2</th>\n",
       "      <td>13.16</td>\n",
       "      <td>2.36</td>\n",
       "      <td>2.67</td>\n",
       "      <td>18.6</td>\n",
       "      <td>101.0</td>\n",
       "      <td>2.80</td>\n",
       "      <td>3.24</td>\n",
       "      <td>0.30</td>\n",
       "      <td>2.81</td>\n",
       "      <td>5.68</td>\n",
       "      <td>1.03</td>\n",
       "      <td>3.17</td>\n",
       "      <td>1185.0</td>\n",
       "    </tr>\n",
       "    <tr>\n",
       "      <th>3</th>\n",
       "      <td>14.37</td>\n",
       "      <td>1.95</td>\n",
       "      <td>2.50</td>\n",
       "      <td>16.8</td>\n",
       "      <td>113.0</td>\n",
       "      <td>3.85</td>\n",
       "      <td>3.49</td>\n",
       "      <td>0.24</td>\n",
       "      <td>2.18</td>\n",
       "      <td>7.80</td>\n",
       "      <td>0.86</td>\n",
       "      <td>3.45</td>\n",
       "      <td>1480.0</td>\n",
       "    </tr>\n",
       "    <tr>\n",
       "      <th>4</th>\n",
       "      <td>13.24</td>\n",
       "      <td>2.59</td>\n",
       "      <td>2.87</td>\n",
       "      <td>21.0</td>\n",
       "      <td>118.0</td>\n",
       "      <td>2.80</td>\n",
       "      <td>2.69</td>\n",
       "      <td>0.39</td>\n",
       "      <td>1.82</td>\n",
       "      <td>4.32</td>\n",
       "      <td>1.04</td>\n",
       "      <td>2.93</td>\n",
       "      <td>735.0</td>\n",
       "    </tr>\n",
       "  </tbody>\n",
       "</table>\n",
       "</div>"
      ],
      "text/plain": [
       "   alcohol  malic_acid   ash  alcalinity_of_ash  magnesium  total_phenols   \n",
       "0    14.23        1.71  2.43               15.6      127.0           2.80  \\\n",
       "1    13.20        1.78  2.14               11.2      100.0           2.65   \n",
       "2    13.16        2.36  2.67               18.6      101.0           2.80   \n",
       "3    14.37        1.95  2.50               16.8      113.0           3.85   \n",
       "4    13.24        2.59  2.87               21.0      118.0           2.80   \n",
       "\n",
       "   flavanoids  nonflavanoid_phenols  proanthocyanins  color_intensity   hue   \n",
       "0        3.06                  0.28             2.29             5.64  1.04  \\\n",
       "1        2.76                  0.26             1.28             4.38  1.05   \n",
       "2        3.24                  0.30             2.81             5.68  1.03   \n",
       "3        3.49                  0.24             2.18             7.80  0.86   \n",
       "4        2.69                  0.39             1.82             4.32  1.04   \n",
       "\n",
       "   od280/od315_of_diluted_wines  proline  \n",
       "0                          3.92   1065.0  \n",
       "1                          3.40   1050.0  \n",
       "2                          3.17   1185.0  \n",
       "3                          3.45   1480.0  \n",
       "4                          2.93    735.0  "
      ]
     },
     "execution_count": 52,
     "metadata": {},
     "output_type": "execute_result"
    }
   ],
   "source": [
    "wines.data.head()"
   ]
  },
  {
   "cell_type": "code",
   "execution_count": 53,
   "id": "2b73962d-e2d8-4e61-be98-72759812159b",
   "metadata": {
    "tags": []
   },
   "outputs": [
    {
     "data": {
      "text/plain": [
       "(178, 13)"
      ]
     },
     "execution_count": 53,
     "metadata": {},
     "output_type": "execute_result"
    }
   ],
   "source": [
    "wines.data.shape"
   ]
  },
  {
   "cell_type": "code",
   "execution_count": 54,
   "id": "5bdfa59e-f366-4359-ae64-f44512094c03",
   "metadata": {
    "tags": []
   },
   "outputs": [
    {
     "name": "stdout",
     "output_type": "stream",
     "text": [
      "<class 'pandas.core.frame.DataFrame'>\n",
      "RangeIndex: 178 entries, 0 to 177\n",
      "Data columns (total 13 columns):\n",
      " #   Column                        Non-Null Count  Dtype  \n",
      "---  ------                        --------------  -----  \n",
      " 0   alcohol                       178 non-null    float64\n",
      " 1   malic_acid                    178 non-null    float64\n",
      " 2   ash                           178 non-null    float64\n",
      " 3   alcalinity_of_ash             178 non-null    float64\n",
      " 4   magnesium                     178 non-null    float64\n",
      " 5   total_phenols                 178 non-null    float64\n",
      " 6   flavanoids                    178 non-null    float64\n",
      " 7   nonflavanoid_phenols          178 non-null    float64\n",
      " 8   proanthocyanins               178 non-null    float64\n",
      " 9   color_intensity               178 non-null    float64\n",
      " 10  hue                           178 non-null    float64\n",
      " 11  od280/od315_of_diluted_wines  178 non-null    float64\n",
      " 12  proline                       178 non-null    float64\n",
      "dtypes: float64(13)\n",
      "memory usage: 18.2 KB\n"
     ]
    }
   ],
   "source": [
    "wines.data.info()"
   ]
  },
  {
   "cell_type": "code",
   "execution_count": 55,
   "id": "3ae26673-f424-4dce-8e65-6d152f16eae2",
   "metadata": {
    "tags": []
   },
   "outputs": [
    {
     "data": {
      "text/html": [
       "<div>\n",
       "<style scoped>\n",
       "    .dataframe tbody tr th:only-of-type {\n",
       "        vertical-align: middle;\n",
       "    }\n",
       "\n",
       "    .dataframe tbody tr th {\n",
       "        vertical-align: top;\n",
       "    }\n",
       "\n",
       "    .dataframe thead th {\n",
       "        text-align: right;\n",
       "    }\n",
       "</style>\n",
       "<table border=\"1\" class=\"dataframe\">\n",
       "  <thead>\n",
       "    <tr style=\"text-align: right;\">\n",
       "      <th></th>\n",
       "      <th>alcohol</th>\n",
       "      <th>malic_acid</th>\n",
       "      <th>ash</th>\n",
       "      <th>alcalinity_of_ash</th>\n",
       "      <th>magnesium</th>\n",
       "      <th>total_phenols</th>\n",
       "      <th>flavanoids</th>\n",
       "      <th>nonflavanoid_phenols</th>\n",
       "      <th>proanthocyanins</th>\n",
       "      <th>color_intensity</th>\n",
       "      <th>hue</th>\n",
       "      <th>od280/od315_of_diluted_wines</th>\n",
       "      <th>proline</th>\n",
       "    </tr>\n",
       "  </thead>\n",
       "  <tbody>\n",
       "    <tr>\n",
       "      <th>count</th>\n",
       "      <td>178.000000</td>\n",
       "      <td>178.000000</td>\n",
       "      <td>178.000000</td>\n",
       "      <td>178.000000</td>\n",
       "      <td>178.000000</td>\n",
       "      <td>178.000000</td>\n",
       "      <td>178.000000</td>\n",
       "      <td>178.000000</td>\n",
       "      <td>178.000000</td>\n",
       "      <td>178.000000</td>\n",
       "      <td>178.000000</td>\n",
       "      <td>178.000000</td>\n",
       "      <td>178.000000</td>\n",
       "    </tr>\n",
       "    <tr>\n",
       "      <th>mean</th>\n",
       "      <td>13.000618</td>\n",
       "      <td>2.336348</td>\n",
       "      <td>2.366517</td>\n",
       "      <td>19.494944</td>\n",
       "      <td>99.741573</td>\n",
       "      <td>2.295112</td>\n",
       "      <td>2.029270</td>\n",
       "      <td>0.361854</td>\n",
       "      <td>1.590899</td>\n",
       "      <td>5.058090</td>\n",
       "      <td>0.957449</td>\n",
       "      <td>2.611685</td>\n",
       "      <td>746.893258</td>\n",
       "    </tr>\n",
       "    <tr>\n",
       "      <th>std</th>\n",
       "      <td>0.811827</td>\n",
       "      <td>1.117146</td>\n",
       "      <td>0.274344</td>\n",
       "      <td>3.339564</td>\n",
       "      <td>14.282484</td>\n",
       "      <td>0.625851</td>\n",
       "      <td>0.998859</td>\n",
       "      <td>0.124453</td>\n",
       "      <td>0.572359</td>\n",
       "      <td>2.318286</td>\n",
       "      <td>0.228572</td>\n",
       "      <td>0.709990</td>\n",
       "      <td>314.907474</td>\n",
       "    </tr>\n",
       "    <tr>\n",
       "      <th>min</th>\n",
       "      <td>11.030000</td>\n",
       "      <td>0.740000</td>\n",
       "      <td>1.360000</td>\n",
       "      <td>10.600000</td>\n",
       "      <td>70.000000</td>\n",
       "      <td>0.980000</td>\n",
       "      <td>0.340000</td>\n",
       "      <td>0.130000</td>\n",
       "      <td>0.410000</td>\n",
       "      <td>1.280000</td>\n",
       "      <td>0.480000</td>\n",
       "      <td>1.270000</td>\n",
       "      <td>278.000000</td>\n",
       "    </tr>\n",
       "    <tr>\n",
       "      <th>25%</th>\n",
       "      <td>12.362500</td>\n",
       "      <td>1.602500</td>\n",
       "      <td>2.210000</td>\n",
       "      <td>17.200000</td>\n",
       "      <td>88.000000</td>\n",
       "      <td>1.742500</td>\n",
       "      <td>1.205000</td>\n",
       "      <td>0.270000</td>\n",
       "      <td>1.250000</td>\n",
       "      <td>3.220000</td>\n",
       "      <td>0.782500</td>\n",
       "      <td>1.937500</td>\n",
       "      <td>500.500000</td>\n",
       "    </tr>\n",
       "    <tr>\n",
       "      <th>50%</th>\n",
       "      <td>13.050000</td>\n",
       "      <td>1.865000</td>\n",
       "      <td>2.360000</td>\n",
       "      <td>19.500000</td>\n",
       "      <td>98.000000</td>\n",
       "      <td>2.355000</td>\n",
       "      <td>2.135000</td>\n",
       "      <td>0.340000</td>\n",
       "      <td>1.555000</td>\n",
       "      <td>4.690000</td>\n",
       "      <td>0.965000</td>\n",
       "      <td>2.780000</td>\n",
       "      <td>673.500000</td>\n",
       "    </tr>\n",
       "    <tr>\n",
       "      <th>75%</th>\n",
       "      <td>13.677500</td>\n",
       "      <td>3.082500</td>\n",
       "      <td>2.557500</td>\n",
       "      <td>21.500000</td>\n",
       "      <td>107.000000</td>\n",
       "      <td>2.800000</td>\n",
       "      <td>2.875000</td>\n",
       "      <td>0.437500</td>\n",
       "      <td>1.950000</td>\n",
       "      <td>6.200000</td>\n",
       "      <td>1.120000</td>\n",
       "      <td>3.170000</td>\n",
       "      <td>985.000000</td>\n",
       "    </tr>\n",
       "    <tr>\n",
       "      <th>max</th>\n",
       "      <td>14.830000</td>\n",
       "      <td>5.800000</td>\n",
       "      <td>3.230000</td>\n",
       "      <td>30.000000</td>\n",
       "      <td>162.000000</td>\n",
       "      <td>3.880000</td>\n",
       "      <td>5.080000</td>\n",
       "      <td>0.660000</td>\n",
       "      <td>3.580000</td>\n",
       "      <td>13.000000</td>\n",
       "      <td>1.710000</td>\n",
       "      <td>4.000000</td>\n",
       "      <td>1680.000000</td>\n",
       "    </tr>\n",
       "  </tbody>\n",
       "</table>\n",
       "</div>"
      ],
      "text/plain": [
       "          alcohol  malic_acid         ash  alcalinity_of_ash   magnesium   \n",
       "count  178.000000  178.000000  178.000000         178.000000  178.000000  \\\n",
       "mean    13.000618    2.336348    2.366517          19.494944   99.741573   \n",
       "std      0.811827    1.117146    0.274344           3.339564   14.282484   \n",
       "min     11.030000    0.740000    1.360000          10.600000   70.000000   \n",
       "25%     12.362500    1.602500    2.210000          17.200000   88.000000   \n",
       "50%     13.050000    1.865000    2.360000          19.500000   98.000000   \n",
       "75%     13.677500    3.082500    2.557500          21.500000  107.000000   \n",
       "max     14.830000    5.800000    3.230000          30.000000  162.000000   \n",
       "\n",
       "       total_phenols  flavanoids  nonflavanoid_phenols  proanthocyanins   \n",
       "count     178.000000  178.000000            178.000000       178.000000  \\\n",
       "mean        2.295112    2.029270              0.361854         1.590899   \n",
       "std         0.625851    0.998859              0.124453         0.572359   \n",
       "min         0.980000    0.340000              0.130000         0.410000   \n",
       "25%         1.742500    1.205000              0.270000         1.250000   \n",
       "50%         2.355000    2.135000              0.340000         1.555000   \n",
       "75%         2.800000    2.875000              0.437500         1.950000   \n",
       "max         3.880000    5.080000              0.660000         3.580000   \n",
       "\n",
       "       color_intensity         hue  od280/od315_of_diluted_wines      proline  \n",
       "count       178.000000  178.000000                    178.000000   178.000000  \n",
       "mean          5.058090    0.957449                      2.611685   746.893258  \n",
       "std           2.318286    0.228572                      0.709990   314.907474  \n",
       "min           1.280000    0.480000                      1.270000   278.000000  \n",
       "25%           3.220000    0.782500                      1.937500   500.500000  \n",
       "50%           4.690000    0.965000                      2.780000   673.500000  \n",
       "75%           6.200000    1.120000                      3.170000   985.000000  \n",
       "max          13.000000    1.710000                      4.000000  1680.000000  "
      ]
     },
     "execution_count": 55,
     "metadata": {},
     "output_type": "execute_result"
    }
   ],
   "source": [
    "wines.data.describe()"
   ]
  },
  {
   "cell_type": "code",
   "execution_count": 56,
   "id": "4bcdf146-f404-4ea6-9e31-97399a2340ce",
   "metadata": {},
   "outputs": [
    {
     "data": {
      "text/plain": [
       "alcohol                         0\n",
       "malic_acid                      0\n",
       "ash                             0\n",
       "alcalinity_of_ash               0\n",
       "magnesium                       0\n",
       "total_phenols                   0\n",
       "flavanoids                      0\n",
       "nonflavanoid_phenols            0\n",
       "proanthocyanins                 0\n",
       "color_intensity                 0\n",
       "hue                             0\n",
       "od280/od315_of_diluted_wines    0\n",
       "proline                         0\n",
       "dtype: int64"
      ]
     },
     "execution_count": 56,
     "metadata": {},
     "output_type": "execute_result"
    }
   ],
   "source": [
    "wines.data.isna().sum()"
   ]
  },
  {
   "attachments": {},
   "cell_type": "markdown",
   "id": "011d5026-228b-452d-9bf1-3fd366253ee9",
   "metadata": {},
   "source": [
    ">## 3. Spliting Dataset "
   ]
  },
  {
   "cell_type": "code",
   "execution_count": 57,
   "id": "e9803307-fdd1-42a0-b5aa-711fa604c81a",
   "metadata": {},
   "outputs": [],
   "source": [
    "X = wines.data\n",
    "y = wines.target"
   ]
  },
  {
   "attachments": {},
   "cell_type": "markdown",
   "id": "0bfedd15-1e5f-40e4-aa42-a6a0f70dbe85",
   "metadata": {},
   "source": [
    ">## 4. Feature Scaling"
   ]
  },
  {
   "cell_type": "code",
   "execution_count": 58,
   "id": "1d90cd6c-d42e-4154-a70c-e0e0dcbaab35",
   "metadata": {},
   "outputs": [],
   "source": [
    "from sklearn.preprocessing import StandardScaler\n",
    "scaler = StandardScaler()"
   ]
  },
  {
   "cell_type": "code",
   "execution_count": 59,
   "id": "0219ced1-0152-4357-93ad-aa4160ba1ab9",
   "metadata": {},
   "outputs": [],
   "source": [
    "X = scaler.fit_transform(X)"
   ]
  },
  {
   "attachments": {},
   "cell_type": "markdown",
   "id": "b57f2512-b2c3-4cfc-a222-79575d5cbb0c",
   "metadata": {},
   "source": [
    ">## 5. PCA "
   ]
  },
  {
   "cell_type": "code",
   "execution_count": 60,
   "id": "4ff47609-c0c1-49da-9699-29294a910d2a",
   "metadata": {},
   "outputs": [],
   "source": [
    "from sklearn.decomposition import PCA\n",
    "pca = PCA()"
   ]
  },
  {
   "cell_type": "code",
   "execution_count": 61,
   "id": "d1b9ca9d-850b-45b6-83ce-9ddb368bf9bd",
   "metadata": {},
   "outputs": [
    {
     "data": {
      "text/html": [
       "<style>#sk-container-id-2 {color: black;background-color: white;}#sk-container-id-2 pre{padding: 0;}#sk-container-id-2 div.sk-toggleable {background-color: white;}#sk-container-id-2 label.sk-toggleable__label {cursor: pointer;display: block;width: 100%;margin-bottom: 0;padding: 0.3em;box-sizing: border-box;text-align: center;}#sk-container-id-2 label.sk-toggleable__label-arrow:before {content: \"▸\";float: left;margin-right: 0.25em;color: #696969;}#sk-container-id-2 label.sk-toggleable__label-arrow:hover:before {color: black;}#sk-container-id-2 div.sk-estimator:hover label.sk-toggleable__label-arrow:before {color: black;}#sk-container-id-2 div.sk-toggleable__content {max-height: 0;max-width: 0;overflow: hidden;text-align: left;background-color: #f0f8ff;}#sk-container-id-2 div.sk-toggleable__content pre {margin: 0.2em;color: black;border-radius: 0.25em;background-color: #f0f8ff;}#sk-container-id-2 input.sk-toggleable__control:checked~div.sk-toggleable__content {max-height: 200px;max-width: 100%;overflow: auto;}#sk-container-id-2 input.sk-toggleable__control:checked~label.sk-toggleable__label-arrow:before {content: \"▾\";}#sk-container-id-2 div.sk-estimator input.sk-toggleable__control:checked~label.sk-toggleable__label {background-color: #d4ebff;}#sk-container-id-2 div.sk-label input.sk-toggleable__control:checked~label.sk-toggleable__label {background-color: #d4ebff;}#sk-container-id-2 input.sk-hidden--visually {border: 0;clip: rect(1px 1px 1px 1px);clip: rect(1px, 1px, 1px, 1px);height: 1px;margin: -1px;overflow: hidden;padding: 0;position: absolute;width: 1px;}#sk-container-id-2 div.sk-estimator {font-family: monospace;background-color: #f0f8ff;border: 1px dotted black;border-radius: 0.25em;box-sizing: border-box;margin-bottom: 0.5em;}#sk-container-id-2 div.sk-estimator:hover {background-color: #d4ebff;}#sk-container-id-2 div.sk-parallel-item::after {content: \"\";width: 100%;border-bottom: 1px solid gray;flex-grow: 1;}#sk-container-id-2 div.sk-label:hover label.sk-toggleable__label {background-color: #d4ebff;}#sk-container-id-2 div.sk-serial::before {content: \"\";position: absolute;border-left: 1px solid gray;box-sizing: border-box;top: 0;bottom: 0;left: 50%;z-index: 0;}#sk-container-id-2 div.sk-serial {display: flex;flex-direction: column;align-items: center;background-color: white;padding-right: 0.2em;padding-left: 0.2em;position: relative;}#sk-container-id-2 div.sk-item {position: relative;z-index: 1;}#sk-container-id-2 div.sk-parallel {display: flex;align-items: stretch;justify-content: center;background-color: white;position: relative;}#sk-container-id-2 div.sk-item::before, #sk-container-id-2 div.sk-parallel-item::before {content: \"\";position: absolute;border-left: 1px solid gray;box-sizing: border-box;top: 0;bottom: 0;left: 50%;z-index: -1;}#sk-container-id-2 div.sk-parallel-item {display: flex;flex-direction: column;z-index: 1;position: relative;background-color: white;}#sk-container-id-2 div.sk-parallel-item:first-child::after {align-self: flex-end;width: 50%;}#sk-container-id-2 div.sk-parallel-item:last-child::after {align-self: flex-start;width: 50%;}#sk-container-id-2 div.sk-parallel-item:only-child::after {width: 0;}#sk-container-id-2 div.sk-dashed-wrapped {border: 1px dashed gray;margin: 0 0.4em 0.5em 0.4em;box-sizing: border-box;padding-bottom: 0.4em;background-color: white;}#sk-container-id-2 div.sk-label label {font-family: monospace;font-weight: bold;display: inline-block;line-height: 1.2em;}#sk-container-id-2 div.sk-label-container {text-align: center;}#sk-container-id-2 div.sk-container {/* jupyter's `normalize.less` sets `[hidden] { display: none; }` but bootstrap.min.css set `[hidden] { display: none !important; }` so we also need the `!important` here to be able to override the default hidden behavior on the sphinx rendered scikit-learn.org. See: https://github.com/scikit-learn/scikit-learn/issues/21755 */display: inline-block !important;position: relative;}#sk-container-id-2 div.sk-text-repr-fallback {display: none;}</style><div id=\"sk-container-id-2\" class=\"sk-top-container\"><div class=\"sk-text-repr-fallback\"><pre>PCA()</pre><b>In a Jupyter environment, please rerun this cell to show the HTML representation or trust the notebook. <br />On GitHub, the HTML representation is unable to render, please try loading this page with nbviewer.org.</b></div><div class=\"sk-container\" hidden><div class=\"sk-item\"><div class=\"sk-estimator sk-toggleable\"><input class=\"sk-toggleable__control sk-hidden--visually\" id=\"sk-estimator-id-2\" type=\"checkbox\" checked><label for=\"sk-estimator-id-2\" class=\"sk-toggleable__label sk-toggleable__label-arrow\">PCA</label><div class=\"sk-toggleable__content\"><pre>PCA()</pre></div></div></div></div></div>"
      ],
      "text/plain": [
       "PCA()"
      ]
     },
     "execution_count": 61,
     "metadata": {},
     "output_type": "execute_result"
    }
   ],
   "source": [
    "pca.fit(X)"
   ]
  },
  {
   "attachments": {},
   "cell_type": "markdown",
   "id": "cc076b54-db19-448a-8344-851e9536b792",
   "metadata": {},
   "source": [
    "## `Explained Vairance Ratio`"
   ]
  },
  {
   "cell_type": "code",
   "execution_count": 62,
   "id": "25c6051b-8398-4d7f-8331-2ec89ee4388b",
   "metadata": {},
   "outputs": [],
   "source": [
    "cumulative_var_ratio = np.cumsum(pca.explained_variance_ratio_)"
   ]
  },
  {
   "cell_type": "code",
   "execution_count": 63,
   "id": "76b8ae09-6a1d-416f-80be-e8a470e8aa4a",
   "metadata": {},
   "outputs": [
    {
     "data": {
      "image/png": "[encoded data removed]",
      "text/plain": [
       "<Figure size 640x480 with 1 Axes>"
      ]
     },
     "metadata": {},
     "output_type": "display_data"
    }
   ],
   "source": [
    "plt.plot(range(1, len(cumulative_var_ratio) + 1), cumulative_var_ratio, marker='o')\n",
    "plt.xlabel('Number of Principal Components')\n",
    "plt.ylabel('Cumulative Explained Variance Ratio')\n",
    "plt.show()"
   ]
  },
  {
   "attachments": {},
   "cell_type": "markdown",
   "id": "6b26474c",
   "metadata": {},
   "source": [
    "# `PCA Interpretation`"
   ]
  },
  {
   "attachments": {},
   "cell_type": "markdown",
   "id": "6a7283d1-5e16-44f1-aac7-6a48455d55fe",
   "metadata": {},
   "source": [
    "## The plot shows the cumulative explained variance ratio as a function of the number of principal components.\n",
    "## The explained variance ratio represents the proportion of the total variance in the data explained by each principal component. \n",
    "## By examining the plot,we can identify the number of principal components that capture a significant portion of the variance in the data. \n",
    "\n",
    "## The optimal number of principal components to retain is often determined by selecting a threshold (e.g., 90% or 95%) and choosing the number of components that explain that amount of variance.\n",
    "### Let we assume the threshold of 90%."
   ]
  },
  {
   "cell_type": "code",
   "execution_count": 64,
   "id": "efb2bf09",
   "metadata": {},
   "outputs": [],
   "source": [
    "pca = PCA(n_components=7)\n",
    "X = pca.fit_transform(X)"
   ]
  },
  {
   "attachments": {},
   "cell_type": "markdown",
   "id": "fad6b303-331f-4940-bf6c-b1fcc5aaaeae",
   "metadata": {},
   "source": [
    ">## 6. K Means Clustering"
   ]
  },
  {
   "attachments": {},
   "cell_type": "markdown",
   "id": "c72cfb3a-5af2-4c6c-9bea-e4c13f7da1cc",
   "metadata": {},
   "source": [
    "### `Using Elbow method & KneeLocator to find Optimal K value`"
   ]
  },
  {
   "cell_type": "code",
   "execution_count": 65,
   "id": "f3dad8ce-2109-4802-a059-d6e87a4d54bd",
   "metadata": {},
   "outputs": [],
   "source": [
    "from sklearn.cluster import KMeans\n",
    "from kneed import KneeLocator"
   ]
  },
  {
   "cell_type": "code",
   "execution_count": 66,
   "id": "e996e5df-62ed-4cc4-ab03-c7788c26d809",
   "metadata": {},
   "outputs": [],
   "source": [
    "wcss=[]\n",
    "for k in range(1,11):\n",
    "    kmeans=KMeans(n_clusters=k,init='k-means++')\n",
    "    kmeans.fit(X)\n",
    "    wcss.append(kmeans.inertia_)"
   ]
  },
  {
   "cell_type": "code",
   "execution_count": 67,
   "id": "23e01abc-fb81-481d-8b4d-24cc008930b5",
   "metadata": {},
   "outputs": [
    {
     "data": {
      "text/plain": [
       "[2067.253445495693,\n",
       " 1412.4940531038512,\n",
       " 1032.405559761813,\n",
       " 936.442522407776,\n",
       " 867.7562528592744,\n",
       " 805.8866632508657,\n",
       " 750.5974082935734,\n",
       " 697.1054991873428,\n",
       " 665.5265812014978,\n",
       " 653.4514608456491]"
      ]
     },
     "execution_count": 67,
     "metadata": {},
     "output_type": "execute_result"
    }
   ],
   "source": [
    "wcss"
   ]
  },
  {
   "cell_type": "code",
   "execution_count": 68,
   "id": "6b3af1ad-828a-436d-80dc-14823c65ebe2",
   "metadata": {},
   "outputs": [
    {
     "data": {
      "image/png": "[encoded data removed]",
      "text/plain": [
       "<Figure size 640x480 with 1 Axes>"
      ]
     },
     "metadata": {},
     "output_type": "display_data"
    }
   ],
   "source": [
    "plt.plot(range(1,11),wcss)\n",
    "plt.xticks(range(1,11))\n",
    "plt.xlabel(\"K Values\")\n",
    "plt.ylabel(\"WCSS\")\n",
    "plt.show()"
   ]
  },
  {
   "cell_type": "code",
   "execution_count": 69,
   "id": "c694d16c-f13f-4efc-8120-3110e756c6a5",
   "metadata": {},
   "outputs": [
    {
     "data": {
      "text/plain": [
       "3"
      ]
     },
     "execution_count": 69,
     "metadata": {},
     "output_type": "execute_result"
    }
   ],
   "source": [
    "k_value = KneeLocator(range(1,11),wcss,curve='convex',direction='decreasing')\n",
    "k_value.elbow"
   ]
  },
  {
   "cell_type": "code",
   "execution_count": 70,
   "id": "3a12710a-e813-4c73-a76f-45df4b45c13e",
   "metadata": {},
   "outputs": [],
   "source": [
    "kmeans=KMeans(n_clusters=3,init=\"k-means++\")"
   ]
  },
  {
   "cell_type": "code",
   "execution_count": 71,
   "id": "fbe6cf94-3737-4815-b0b5-ce70e3cee691",
   "metadata": {},
   "outputs": [],
   "source": [
    "clusters = kmeans.fit_predict(X)"
   ]
  },
  {
   "cell_type": "code",
   "execution_count": 72,
   "id": "7253ca54-780a-462c-b9e9-a0c846e6836b",
   "metadata": {},
   "outputs": [
    {
     "data": {
      "image/png": "[encoded data removed]",
      "text/plain": [
       "<Figure size 640x480 with 1 Axes>"
      ]
     },
     "metadata": {},
     "output_type": "display_data"
    }
   ],
   "source": [
    "plt.scatter(X[:,0],X[:,1],c=clusters)\n",
    "plt.show()"
   ]
  },
  {
   "attachments": {},
   "cell_type": "markdown",
   "id": "729aca21",
   "metadata": {},
   "source": [
    ">## 7. Clustering Metrics"
   ]
  },
  {
   "cell_type": "code",
   "execution_count": 73,
   "id": "bc4c4352",
   "metadata": {},
   "outputs": [],
   "source": [
    "from sklearn.metrics import silhouette_score,homogeneity_score,completeness_score,v_measure_score,davies_bouldin_score"
   ]
  },
  {
   "cell_type": "code",
   "execution_count": 74,
   "id": "23c5665a-f6f9-429a-ab3a-36bfa5850426",
   "metadata": {},
   "outputs": [],
   "source": [
    "silhouette = silhouette_score(X,clusters)"
   ]
  },
  {
   "cell_type": "code",
   "execution_count": 75,
   "id": "4fa3baeb-5473-43fd-89d1-18d547018874",
   "metadata": {},
   "outputs": [],
   "source": [
    "homegeneity = homogeneity_score(y,clusters)"
   ]
  },
  {
   "cell_type": "code",
   "execution_count": 76,
   "id": "ffb1d67e",
   "metadata": {},
   "outputs": [],
   "source": [
    "completeness = completeness_score(y,clusters)"
   ]
  },
  {
   "cell_type": "code",
   "execution_count": 77,
   "id": "91f4ad6e",
   "metadata": {},
   "outputs": [],
   "source": [
    "v_measure = v_measure_score(y,clusters)"
   ]
  },
  {
   "cell_type": "code",
   "execution_count": 78,
   "id": "93aaac11",
   "metadata": {},
   "outputs": [],
   "source": [
    "davies_bouldin = davies_bouldin_score(X,clusters)"
   ]
  },
  {
   "cell_type": "code",
   "execution_count": 79,
   "id": "9646598c",
   "metadata": {},
   "outputs": [
    {
     "data": {
      "text/html": [
       "<div>\n",
       "<style scoped>\n",
       "    .dataframe tbody tr th:only-of-type {\n",
       "        vertical-align: middle;\n",
       "    }\n",
       "\n",
       "    .dataframe tbody tr th {\n",
       "        vertical-align: top;\n",
       "    }\n",
       "\n",
       "    .dataframe thead th {\n",
       "        text-align: right;\n",
       "    }\n",
       "</style>\n",
       "<table border=\"1\" class=\"dataframe\">\n",
       "  <thead>\n",
       "    <tr style=\"text-align: right;\">\n",
       "      <th></th>\n",
       "      <th>Clustering Metric</th>\n",
       "      <th>Values</th>\n",
       "      <th>Range</th>\n",
       "    </tr>\n",
       "  </thead>\n",
       "  <tbody>\n",
       "    <tr>\n",
       "      <th>0</th>\n",
       "      <td>Silhouette Scoure</td>\n",
       "      <td>0.327635</td>\n",
       "      <td>-1 to +1</td>\n",
       "    </tr>\n",
       "    <tr>\n",
       "      <th>1</th>\n",
       "      <td>Homogeneity Score</td>\n",
       "      <td>0.878843</td>\n",
       "      <td>0 to +1</td>\n",
       "    </tr>\n",
       "    <tr>\n",
       "      <th>2</th>\n",
       "      <td>Completeness Score</td>\n",
       "      <td>0.872964</td>\n",
       "      <td>0 to +1</td>\n",
       "    </tr>\n",
       "    <tr>\n",
       "      <th>3</th>\n",
       "      <td>V Measure Score</td>\n",
       "      <td>0.875894</td>\n",
       "      <td>0 to +1</td>\n",
       "    </tr>\n",
       "    <tr>\n",
       "      <th>4</th>\n",
       "      <td>Davies Bouldin Score</td>\n",
       "      <td>1.220610</td>\n",
       "      <td>0 to ∞</td>\n",
       "    </tr>\n",
       "  </tbody>\n",
       "</table>\n",
       "</div>"
      ],
      "text/plain": [
       "      Clustering Metric    Values     Range\n",
       "0     Silhouette Scoure  0.327635  -1 to +1\n",
       "1     Homogeneity Score  0.878843   0 to +1\n",
       "2    Completeness Score  0.872964   0 to +1\n",
       "3       V Measure Score  0.875894   0 to +1\n",
       "4  Davies Bouldin Score  1.220610    0 to ∞"
      ]
     },
     "execution_count": 79,
     "metadata": {},
     "output_type": "execute_result"
    }
   ],
   "source": [
    "pd.DataFrame({\n",
    "    'Clustering Metric':\n",
    "    ['Silhouette Scoure','Homogeneity Score','Completeness Score','V Measure Score','Davies Bouldin Score'],\n",
    "    'Values':[silhouette,homegeneity,completeness,v_measure,davies_bouldin],\n",
    "    'Range':['-1 to +1','0 to +1','0 to +1','0 to +1','0 to ∞']\n",
    "})"
   ]
  },
  {
   "attachments": {},
   "cell_type": "markdown",
   "id": "0407f924",
   "metadata": {},
   "source": [
    ">## 8. Clustering Report"
   ]
  },
  {
   "attachments": {},
   "cell_type": "markdown",
   "id": "13c4f836",
   "metadata": {},
   "source": [
    "## `1. Silhoute Score:` The silhouette score is 0.327 which is near to 0, indicates that the data point is on or very close to the decision boundary between two neighboring clusters."
   ]
  },
  {
   "attachments": {},
   "cell_type": "markdown",
   "id": "77395bc2",
   "metadata": {},
   "source": [
    "## `2. Homogeneity Score:` The homogeneity score is 0.878 which is near to 1, indicates that the clusters align with the true class labels."
   ]
  },
  {
   "attachments": {},
   "cell_type": "markdown",
   "id": "d1b612e2",
   "metadata": {},
   "source": [
    "## `3. Completeness Score:` The complete score is 0.878 which is near to 1, indicates that the true classes are represented within each cluster."
   ]
  },
  {
   "attachments": {},
   "cell_type": "markdown",
   "id": "f247c34a",
   "metadata": {},
   "source": [
    "## `4. V_measure Score:` The v_measure score is 0.875 which is near to 1, indicating a perfect clustering solution where each cluster contains only data points from a single true class and all data points belonging to a true class are assigned to the same cluster.\n"
   ]
  },
  {
   "attachments": {},
   "cell_type": "markdown",
   "id": "272f8ab3",
   "metadata": {},
   "source": [
    "## `5. DBI Score:` The DBI score is 1.22 which is very close to 0,indicates well separated and compact clusters."
   ]
  }
 ],
 "metadata": {
  "kernelspec": {
   "display_name": "Python 3 (ipykernel)",
   "language": "python",
   "name": "python3"
  },
  "language_info": {
   "codemirror_mode": {
    "name": "ipython",
    "version": 3
   },
   "file_extension": ".py",
   "mimetype": "text/x-python",
   "name": "python",
   "nbconvert_exporter": "python",
   "pygments_lexer": "ipython3",
   "version": "3.11.3"
  }
 },
 "nbformat": 4,
 "nbformat_minor": 5
}
