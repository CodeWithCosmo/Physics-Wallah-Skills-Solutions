{
 "cells": [
  {
   "attachments": {},
   "cell_type": "markdown",
   "metadata": {},
   "source": [
    "# 1\n",
    "\n",
    "Create a function which will take a list as an argument and return the product of all the numbers after creating a flat list.\n",
    "\n",
    "Use the below-given list as an argument for your function."
   ]
  },
  {
   "cell_type": "code",
   "execution_count": 19,
   "metadata": {},
   "outputs": [],
   "source": [
    "list1 = [1,2,3,4, [44,55,66, True], False, (34,56,78,89,34), {1,2,3,3,2,1}, {1:34, \"key2\":[55, 67, 78, 89], 4:(45,22,61,34)}, [56, 'data science'], 'Machine Learning']"
   ]
  },
  {
   "cell_type": "code",
   "execution_count": 20,
   "metadata": {},
   "outputs": [],
   "source": [
    "from functools import reduce\n",
    "def product(lis):\n",
    "    intList = []\n",
    "    def filter_int(lis):\n",
    "        if type(lis) == int:\n",
    "            intList.append(lis)\n",
    "        elif type(lis) == list or type (lis) == tuple or type(lis) == set:\n",
    "            for j in lis:\n",
    "                if type(j) == int:\n",
    "                    intList.append(j)\n",
    "    for i in list1:\n",
    "        filter_int(i)    \n",
    "        if type(i) == dict:\n",
    "            for a in i.keys():\n",
    "                filter_int(a)\n",
    "            for b in i.values():\n",
    "                filter_int(b)\n",
    "    product = reduce(lambda x,y:x*y,intList)\n",
    "    print(f'List of filter Integers: {intList}')\n",
    "    return product"
   ]
  },
  {
   "cell_type": "code",
   "execution_count": 21,
   "metadata": {},
   "outputs": [
    {
     "name": "stdout",
     "output_type": "stream",
     "text": [
      "List of filter Integers: [1, 2, 3, 4, 44, 55, 66, 34, 56, 78, 89, 34, 1, 2, 3, 1, 4, 34, 55, 67, 78, 89, 45, 22, 61, 34, 56]\n",
      "Product: 4134711838987085478833841242112000\n"
     ]
    }
   ],
   "source": [
    "print(f'Product: {product(list1)}')\n"
   ]
  },
  {
   "attachments": {},
   "cell_type": "markdown",
   "metadata": {},
   "source": [
    "# 2\n",
    "\n",
    "Program for encrypting a message sent to you by your friend.\n",
    "\n",
    "The logic of encryption should be such that, for a the output should be z. For b, the output should be y. For c, the output should be x respectively.\n",
    "\n",
    "Also, the whitespace should be replaced with a dollar sign. Keep the punctuation marks unchanged.\n",
    "\n",
    "### Input Sentence: I want to become a Data Scientist.\n",
    "\n",
    "Encrypt the above input sentence using the program you just created.\n",
    "\n",
    "Note: Convert the given input sentence into lowercase before encrypting. The final output should be lowercase."
   ]
  },
  {
   "cell_type": "code",
   "execution_count": 80,
   "metadata": {},
   "outputs": [],
   "source": [
    "sentence = \"I want to become a Data Scientist.\"\n",
    "encrypted_code = ''\n",
    "for ch in sentence.lower(): \n",
    "    if ord(ch) >= 97 and ord(ch) <=122:\n",
    "        encrypted_code += chr(219-ord(ch)) \n",
    "    elif ch == ' ':\n",
    "        encrypted_code += '$'\n",
    "    if ch == '.':\n",
    "        encrypted_code += '.'    "
   ]
  },
  {
   "cell_type": "code",
   "execution_count": 89,
   "metadata": {},
   "outputs": [
    {
     "name": "stdout",
     "output_type": "stream",
     "text": [
      "Your encrypted msg of \"I want to become a Data Scientist.\" is: r$dzmg$gl$yvxlnv$z$wzgz$hxrvmgrhg.\n"
     ]
    }
   ],
   "source": [
    "print(f'Your encrypted msg of \\\"{sentence}\\\" is: {encrypted_code}')"
   ]
  }
 ],
 "metadata": {
  "kernelspec": {
   "display_name": "Python 3",
   "language": "python",
   "name": "python3"
  },
  "language_info": {
   "codemirror_mode": {
    "name": "ipython",
    "version": 3
   },
   "file_extension": ".py",
   "mimetype": "text/x-python",
   "name": "python",
   "nbconvert_exporter": "python",
   "pygments_lexer": "ipython3",
   "version": "3.11.1"
  },
  "orig_nbformat": 4,
  "vscode": {
   "interpreter": {
    "hash": "60604c6687abd3d44db2988d94478afd71bdd2eba4a4e06208197b7b67afacd2"
   }
  }
 },
 "nbformat": 4,
 "nbformat_minor": 2
}
