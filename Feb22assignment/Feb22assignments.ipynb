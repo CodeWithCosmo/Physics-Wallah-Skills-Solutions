{
 "cells": [
  {
   "attachments": {},
   "cell_type": "markdown",
   "metadata": {},
   "source": [
    "### Common part for all questions"
   ]
  },
  {
   "cell_type": "code",
   "execution_count": 41,
   "metadata": {
    "tags": []
   },
   "outputs": [],
   "source": [
    "from bs4 import BeautifulSoup\n",
    "from selenium import webdriver\n",
    "from selenium.webdriver.chrome.service import Service\n",
    "from webdriver_manager.chrome import ChromeDriverManager\n",
    "\n",
    "url = \"https://www.youtube.com/@PW-Foundation/videos\"\n",
    "\n",
    "\n",
    "# creating a service object\n",
    "service = Service(ChromeDriverManager().install())\n",
    "\n",
    "# creating an options object and set headless mode\n",
    "options = webdriver.ChromeOptions()\n",
    "options.add_argument(\"--headless\")\n",
    "\n",
    "# creating a webdriver object and pass in the service and options object\n",
    "driver = webdriver.Chrome(service=service,options=options)\n",
    "driver.get(url)\n",
    "\n",
    "driver.execute_script(\"window.scrollTo(0,500)\",\"\")  \n",
    "# This command can be used to scroll to a specific position on a web page, \n",
    "# which can be useful for automating interactions with a page that has a lot of content or for accessing elements that are not initially visible on the screen.\n",
    "\n",
    "html = driver.page_source\n",
    "soup = BeautifulSoup(html, \"html.parser\")"
   ]
  },
  {
   "cell_type": "markdown",
   "metadata": {},
   "source": [
    "## 1.Extracting the video link of first five videos."
   ]
  },
  {
   "cell_type": "code",
   "execution_count": 42,
   "metadata": {},
   "outputs": [
    {
     "name": "stdout",
     "output_type": "stream",
     "text": [
      "https://www.youtube.com/watch?v=o3eOj-jhhfI\n",
      "https://www.youtube.com/watch?v=ecGcmstmnGA\n",
      "https://www.youtube.com/watch?v=08WWij66k8A\n",
      "https://www.youtube.com/watch?v=bXpeyKIVioA\n",
      "https://www.youtube.com/watch?v=YwxDKs7jNXs\n",
      "\n"
     ]
    }
   ],
   "source": [
    "videos_links = (soup.find_all(\"a\",{\"id\":\"video-title-link\"}))[0:5]\n",
    "with open(\"CSV/VideoLinks.csv\", \"w\") as f:\n",
    "    for i in videos_links:\n",
    "        f.write(\"https://www.youtube.com\"+str(i.get(\"href\"))+\"\\n\")\n",
    "\n",
    "with open(\"CSV/VideoLinks.csv\") as f:\n",
    "    print(f.read())"
   ]
  },
  {
   "cell_type": "markdown",
   "metadata": {},
   "source": []
  },
  {
   "cell_type": "markdown",
   "metadata": {},
   "source": []
  },
  {
   "cell_type": "markdown",
   "metadata": {},
   "source": []
  },
  {
   "cell_type": "markdown",
   "metadata": {},
   "source": []
  },
  {
   "cell_type": "markdown",
   "metadata": {},
   "source": [
    "## 2.Extracting the thumbnail link of first five videos."
   ]
  },
  {
   "cell_type": "code",
   "execution_count": 43,
   "metadata": {
    "tags": []
   },
   "outputs": [
    {
     "name": "stdout",
     "output_type": "stream",
     "text": [
      "https://i.ytimg.com/vi/o3eOj-jhhfI/hqdefault.jpg?sqp=-oaymwEcCNACELwBSFXyq4qpAw4IARUAAIhCGAFwAcABBg==&rs=AOn4CLBVCHgG5eIGufpwuxLCF0rgn2sx8g\n",
      "https://i.ytimg.com/vi/ecGcmstmnGA/hqdefault.jpg?sqp=-oaymwEcCNACELwBSFXyq4qpAw4IARUAAIhCGAFwAcABBg==&rs=AOn4CLDrfZigHQfkbVX15WTkshT-_3oFyw\n",
      "https://i.ytimg.com/vi/08WWij66k8A/hqdefault.jpg?sqp=-oaymwEcCNACELwBSFXyq4qpAw4IARUAAIhCGAFwAcABBg==&rs=AOn4CLArwDRGN6CCdLUxqj6IjfhSd-dm7A\n",
      "https://i.ytimg.com/vi/bXpeyKIVioA/hqdefault.jpg?sqp=-oaymwEcCNACELwBSFXyq4qpAw4IARUAAIhCGAFwAcABBg==&rs=AOn4CLCOzp9nqa4JrbUusiSvFwadbExWrQ\n",
      "https://i.ytimg.com/vi/YwxDKs7jNXs/hqdefault.jpg?sqp=-oaymwEcCNACELwBSFXyq4qpAw4IARUAAIhCGAFwAcABBg==&rs=AOn4CLCxBeqH2fPvxUA3N-qahvm2G-XRzA\n",
      "\n"
     ]
    }
   ],
   "source": [
    "thumbnail_links = (soup.find_all(\"img\", {\"class\":\"yt-core-image--fill-parent-height\"}))[0:5]\n",
    "with open(\"CSV/ThumbLinks.csv\", \"w\") as f:\n",
    "    for i in thumbnail_links:\n",
    "        f.write(str(i.get(\"src\"))+\"\\n\")\n",
    "\n",
    "with open(\"CSV/ThumbLinks.csv\") as f:\n",
    "    print(f.read())"
   ]
  },
  {
   "cell_type": "markdown",
   "metadata": {},
   "source": []
  },
  {
   "cell_type": "markdown",
   "metadata": {},
   "source": []
  },
  {
   "cell_type": "markdown",
   "metadata": {},
   "source": []
  },
  {
   "cell_type": "markdown",
   "metadata": {},
   "source": []
  },
  {
   "cell_type": "markdown",
   "metadata": {},
   "source": [
    "## 3.Extracting the title of first five videos."
   ]
  },
  {
   "cell_type": "code",
   "execution_count": 44,
   "metadata": {
    "tags": []
   },
   "outputs": [
    {
     "name": "stdout",
     "output_type": "stream",
     "text": [
      "PWSAT Is Back Again!! 🔥 || India's Biggest Scholarship Test || Watch This ⚡⚡\n",
      "Finally The Wait is Over 🔥 || Icse Batch Coming Soon || Must Watch 🔥🔥\n",
      "Best Strategy To Start Class-9th SST || Don't Miss This Video🛑 || Complete Roadmap\n",
      "Finally The Wait is Over🔥 || Launching Foundation Channels in 5 Different Languages 🤩\n",
      "How To Plan For Class-11th || Perfect Strategy 💯 || A Complete Roadmap!!\n",
      "\n"
     ]
    }
   ],
   "source": [
    "titles = (soup.find_all(\"a\",{\"id\" : \"video-title-link\"}))[0:5]\n",
    "title = \"\"\n",
    "for i in titles:\n",
    "    title+=i.get(\"title\")+\"\\n\"\n",
    "with open(\"CSV/Title.csv\", \"wb\") as f:            \n",
    "    f.write(title.encode('utf-8'))    \n",
    "with open(\"CSV/Title.csv\",'r',encoding='utf-8') as f:\n",
    "    print(f.read())"
   ]
  },
  {
   "cell_type": "markdown",
   "metadata": {},
   "source": []
  },
  {
   "cell_type": "markdown",
   "metadata": {},
   "source": []
  },
  {
   "cell_type": "markdown",
   "metadata": {},
   "source": []
  },
  {
   "cell_type": "markdown",
   "metadata": {},
   "source": []
  },
  {
   "cell_type": "markdown",
   "metadata": {},
   "source": [
    "## 4.Extracting the no of views of first five videos."
   ]
  },
  {
   "cell_type": "code",
   "execution_count": 45,
   "metadata": {
    "tags": []
   },
   "outputs": [
    {
     "name": "stdout",
     "output_type": "stream",
     "text": [
      "8.1K views\n",
      "19K views\n",
      "18K views\n",
      "30K views\n",
      "55K views\n",
      "\n"
     ]
    }
   ],
   "source": [
    "views = (soup.find_all(\"div\",{\"id\": \"metadata\"}))[0:5]\n",
    "with open(\"CSV/Views.csv\",\"w\") as f:\n",
    "     for i in views:\n",
    "        f.write(str(i.find_all(\"span\")[1].text)+\"\\n\")\n",
    "\n",
    "with open(\"CSV/Views.csv\") as f:\n",
    "    print(f.read())"
   ]
  },
  {
   "cell_type": "markdown",
   "metadata": {},
   "source": []
  },
  {
   "cell_type": "markdown",
   "metadata": {},
   "source": []
  },
  {
   "cell_type": "markdown",
   "metadata": {},
   "source": []
  },
  {
   "cell_type": "markdown",
   "metadata": {},
   "source": []
  },
  {
   "cell_type": "markdown",
   "metadata": {},
   "source": [
    "## 5.Extracting the time of posting of first five videos."
   ]
  },
  {
   "cell_type": "code",
   "execution_count": 46,
   "metadata": {},
   "outputs": [
    {
     "name": "stdout",
     "output_type": "stream",
     "text": [
      "1 day ago\n",
      "6 days ago\n",
      "8 days ago\n",
      "12 days ago\n",
      "13 days ago\n",
      "\n"
     ]
    }
   ],
   "source": [
    "upload = (soup.find_all(\"div\",{\"id\": \"metadata\"}))[0:5]\n",
    "\n",
    "with open(\"CSV/Upload.csv\",\"w\") as f:\n",
    "     for i in upload:\n",
    "        f.write(str(i.find_all(\"span\")[2].text)+\"\\n\")\n",
    "\n",
    "with open(\"CSV/Upload.csv\") as f:\n",
    "    print(f.read())"
   ]
  },
  {
   "attachments": {},
   "cell_type": "markdown",
   "metadata": {},
   "source": [
    "# Screenshots"
   ]
  },
  {
   "attachments": {},
   "cell_type": "markdown",
   "metadata": {},
   "source": [
    "![](SS/home.png)"
   ]
  },
  {
   "attachments": {},
   "cell_type": "markdown",
   "metadata": {},
   "source": [
    "![](SS/scrape.png)"
   ]
  },
  {
   "attachments": {},
   "cell_type": "markdown",
   "metadata": {},
   "source": [
    "![](SS/csv.png)"
   ]
  },
  {
   "attachments": {},
   "cell_type": "markdown",
   "metadata": {},
   "source": [
    "![](SS/mongo1.png)"
   ]
  },
  {
   "cell_type": "markdown",
   "metadata": {},
   "source": [
    "![](SS/mongo2.png)"
   ]
  }
 ],
 "metadata": {
  "kernelspec": {
   "display_name": "Python 3",
   "language": "python",
   "name": "python3"
  },
  "language_info": {
   "codemirror_mode": {
    "name": "ipython",
    "version": 3
   },
   "file_extension": ".py",
   "mimetype": "text/x-python",
   "name": "python",
   "nbconvert_exporter": "python",
   "pygments_lexer": "ipython3",
   "version": "3.11.3"
  }
 },
 "nbformat": 4,
 "nbformat_minor": 4
}
