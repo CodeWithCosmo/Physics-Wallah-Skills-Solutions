{
 "cells": [
  {
   "cell_type": "code",
   "execution_count": 18,
   "metadata": {
    "tags": []
   },
   "outputs": [],
   "source": [
    "from bs4 import BeautifulSoup\n",
    "from selenium import webdriver\n",
    "\n",
    "handle = \"PW-Foundation\" #~ Change the handle to scrape the channel\n",
    "\n",
    "url = f\"https://www.youtube.com/@{handle}/videos\"\n",
    "\n",
    "#! creating an options object and set headless mode\n",
    "options = webdriver.ChromeOptions()\n",
    "options.add_argument(\"--headless\")\n",
    "\n",
    "driver = webdriver.Chrome(options=options)\n",
    "driver.get(url)\n",
    "\n",
    "driver.execute_script(\"window.scrollTo(0,500)\",\"\")  \n",
    "#! This command can be used to scroll to a specific position on a web page, \n",
    "#! which can be useful for automating interactions with a page that has a lot of content or for accessing elements that are not initially visible on the screen.\n",
    "\n",
    "html = driver.page_source\n",
    "soup = BeautifulSoup(html, \"html.parser\")"
   ]
  },
  {
   "cell_type": "markdown",
   "metadata": {},
   "source": [
    "> ##  1.Extracting the video link of first five videos."
   ]
  },
  {
   "cell_type": "code",
   "execution_count": 19,
   "metadata": {},
   "outputs": [
    {
     "name": "stdout",
     "output_type": "stream",
     "text": [
      "https://www.youtube.com/watch?v=PXcgTSs-_p8\n",
      "https://www.youtube.com/watch?v=JGJv4jlf8aQ\n",
      "https://www.youtube.com/watch?v=0dMJLkO-SSw\n",
      "https://www.youtube.com/watch?v=0CW4VbfH4kk\n",
      "https://www.youtube.com/watch?v=gs2Ss52phYg\n"
     ]
    }
   ],
   "source": [
    "for i in range(5):\n",
    "    print(\"https://www.youtube.com\" + str((soup.find_all(\"a\", {\"id\": \"video-title-link\"}))[i].get(\"href\")))"
   ]
  },
  {
   "cell_type": "markdown",
   "metadata": {},
   "source": []
  },
  {
   "cell_type": "markdown",
   "metadata": {},
   "source": []
  },
  {
   "cell_type": "markdown",
   "metadata": {},
   "source": []
  },
  {
   "cell_type": "markdown",
   "metadata": {},
   "source": []
  },
  {
   "cell_type": "markdown",
   "metadata": {},
   "source": [
    "> ## 2.Extracting the thumbnail link of first five videos."
   ]
  },
  {
   "cell_type": "code",
   "execution_count": 20,
   "metadata": {
    "tags": []
   },
   "outputs": [
    {
     "name": "stdout",
     "output_type": "stream",
     "text": [
      "https://i.ytimg.com/vi/PXcgTSs-_p8/hqdefault.jpg\n",
      "https://i.ytimg.com/vi/JGJv4jlf8aQ/hqdefault.jpg\n",
      "https://i.ytimg.com/vi/0dMJLkO-SSw/hqdefault.jpg\n",
      "https://i.ytimg.com/vi/0CW4VbfH4kk/hqdefault.jpg\n",
      "https://i.ytimg.com/vi/gs2Ss52phYg/hqdefault.jpg\n"
     ]
    }
   ],
   "source": [
    "for i in range(5):\n",
    "    print((soup.find_all(\"img\", {\"class\": \"yt-core-image--fill-parent-height\"}))[i].get(\"src\")[0:48])"
   ]
  },
  {
   "cell_type": "markdown",
   "metadata": {},
   "source": []
  },
  {
   "cell_type": "markdown",
   "metadata": {},
   "source": []
  },
  {
   "cell_type": "markdown",
   "metadata": {},
   "source": []
  },
  {
   "cell_type": "markdown",
   "metadata": {},
   "source": []
  },
  {
   "cell_type": "markdown",
   "metadata": {},
   "source": [
    "> ## 3.Extracting the title of first five videos."
   ]
  },
  {
   "cell_type": "code",
   "execution_count": 21,
   "metadata": {
    "tags": []
   },
   "outputs": [
    {
     "name": "stdout",
     "output_type": "stream",
     "text": [
      "DEVELOPMENT in 45 mins || Class - 10th Boards\n",
      "REAL NUMBERS in 60 mins || Class - 10th Boards\n",
      "RESOURCES AND DEVELOPMENT in 45 mins || Class - 10th Boards\n",
      "LIGHT REFLECTION AND REFRACTION in 35 mins || Class - 10th Boards\n",
      "THE RISE OF NATIONALISM IN EUROPE in 50 mins || Class - 10th Boards 💯\n"
     ]
    }
   ],
   "source": [
    "for i in range(5):\n",
    "    print((soup.find_all(\"a\", {\"id\": \"video-title-link\"}))[i].text)"
   ]
  },
  {
   "cell_type": "markdown",
   "metadata": {},
   "source": []
  },
  {
   "cell_type": "markdown",
   "metadata": {},
   "source": []
  },
  {
   "cell_type": "markdown",
   "metadata": {},
   "source": []
  },
  {
   "cell_type": "markdown",
   "metadata": {},
   "source": []
  },
  {
   "cell_type": "markdown",
   "metadata": {},
   "source": [
    "> ## 4.Extracting the no of views of first five videos."
   ]
  },
  {
   "cell_type": "code",
   "execution_count": 22,
   "metadata": {
    "tags": []
   },
   "outputs": [
    {
     "name": "stdout",
     "output_type": "stream",
     "text": [
      "2.7K views\n",
      "7.2K views\n",
      "10K views\n",
      "23K views\n",
      "56K views\n"
     ]
    }
   ],
   "source": [
    "for i in range(5):\n",
    "    print((soup.find_all(\"div\", {\"id\": \"metadata\"}))[i].find_all(\"span\")[1].text)"
   ]
  },
  {
   "cell_type": "markdown",
   "metadata": {},
   "source": []
  },
  {
   "cell_type": "markdown",
   "metadata": {},
   "source": []
  },
  {
   "cell_type": "markdown",
   "metadata": {},
   "source": []
  },
  {
   "cell_type": "markdown",
   "metadata": {},
   "source": []
  },
  {
   "cell_type": "markdown",
   "metadata": {},
   "source": [
    "> ## 5.Extracting the time of posting of first five videos."
   ]
  },
  {
   "cell_type": "code",
   "execution_count": 23,
   "metadata": {},
   "outputs": [
    {
     "name": "stdout",
     "output_type": "stream",
     "text": [
      "4 hours ago\n",
      "1 day ago\n"
     ]
    },
    {
     "name": "stdout",
     "output_type": "stream",
     "text": [
      "2 days ago\n",
      "3 days ago\n",
      "5 days ago\n"
     ]
    }
   ],
   "source": [
    "for i in range(5):\n",
    "    print((soup.find_all(\"div\", {\"id\": \"metadata\"}))[i].find_all(\"span\")[2].text)"
   ]
  },
  {
   "cell_type": "markdown",
   "metadata": {},
   "source": []
  },
  {
   "cell_type": "markdown",
   "metadata": {},
   "source": []
  },
  {
   "cell_type": "markdown",
   "metadata": {},
   "source": []
  },
  {
   "cell_type": "markdown",
   "metadata": {},
   "source": []
  },
  {
   "cell_type": "markdown",
   "metadata": {},
   "source": [
    "# **Extracting all above details in csv file**"
   ]
  },
  {
   "cell_type": "code",
   "execution_count": 26,
   "metadata": {},
   "outputs": [],
   "source": [
    "import pandas as pd\n",
    "scrapes = []\n",
    "for i in range(5):\n",
    "    title = (soup.find_all(\"a\", {\"id\": \"video-title-link\"}))[i].text\n",
    "    view = (soup.find_all(\"div\", {\"id\": \"metadata\"}))[i].find_all(\"span\")[1].text\n",
    "    upload = (soup.find_all(\"div\", {\"id\": \"metadata\"}))[i].find_all(\"span\")[2].text\n",
    "    video_link = \"https://www.youtube.com\" + str((soup.find_all(\"a\", {\"id\": \"video-title-link\"}))[i].get(\"href\"))\n",
    "    thumbnail_link = (soup.find_all(\"img\", {\"class\": \"yt-core-image--fill-parent-height\"}))[i].get(\"src\")[0:48]\n",
    "    \n",
    "    data = {\"Title\": title,\"Views\": view,\"Upload\": upload,\"Video Link\": video_link,\"Thumbnail Link\": thumbnail_link}\n",
    "        \n",
    "    scrapes.append(data)\n",
    "csv = pd.DataFrame(scrapes)\n",
    "csv.to_csv(f\"{handle}.csv\", index=False)"
   ]
  },
  {
   "cell_type": "markdown",
   "metadata": {},
   "source": []
  },
  {
   "cell_type": "markdown",
   "metadata": {},
   "source": []
  },
  {
   "cell_type": "markdown",
   "metadata": {},
   "source": []
  },
  {
   "cell_type": "markdown",
   "metadata": {},
   "source": []
  },
  {
   "cell_type": "markdown",
   "metadata": {},
   "source": []
  },
  {
   "attachments": {},
   "cell_type": "markdown",
   "metadata": {},
   "source": [
    "# Screenshots"
   ]
  },
  {
   "attachments": {},
   "cell_type": "markdown",
   "metadata": {},
   "source": [
    "![](screenshots/home.png)"
   ]
  },
  {
   "attachments": {},
   "cell_type": "markdown",
   "metadata": {},
   "source": [
    "![](screenshots/scrape.png)"
   ]
  },
  {
   "attachments": {},
   "cell_type": "markdown",
   "metadata": {},
   "source": [
    "![](screenshots/csv.png)"
   ]
  },
  {
   "attachments": {},
   "cell_type": "markdown",
   "metadata": {},
   "source": [
    "![](screenshots/mongo1.png)"
   ]
  },
  {
   "cell_type": "markdown",
   "metadata": {},
   "source": [
    "![](screenshots/mongo2.png)"
   ]
  }
 ],
 "metadata": {
  "kernelspec": {
   "display_name": "Python 3 (ipykernel)",
   "language": "python",
   "name": "python3"
  },
  "language_info": {
   "codemirror_mode": {
    "name": "ipython",
    "version": 3
   },
   "file_extension": ".py",
   "mimetype": "text/x-python",
   "name": "python",
   "nbconvert_exporter": "python",
   "pygments_lexer": "ipython3",
   "version": "3.11.4"
  }
 },
 "nbformat": 4,
 "nbformat_minor": 4
}
