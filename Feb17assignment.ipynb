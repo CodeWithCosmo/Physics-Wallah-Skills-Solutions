{
 "cells": [
  {
   "cell_type": "markdown",
   "metadata": {
    "tags": []
   },
   "source": [
    "# 1\n",
    "## MongoDB:\n",
    "### It is a document-oriented NoSQL database program that provides a flexible, scalable, and high-performance way to store and manage data. Unlike traditional relational databases, MongoDB does not use tables, rows, or columns to store data. Instead, it uses a flexible document data model, where data is stored in JSON-like documents, which can contain fields, sub-documents, and arrays."
   ]
  },
  {
   "cell_type": "markdown",
   "metadata": {},
   "source": [
    "## Non-relational databases:\n",
    "#### They also known as NoSQL (which stands for \"not only SQL\") databases, are a type of database that does not use the traditional tabular structure of rows and columns found in relational databases. Instead, non-relational databases use a variety of data models, such as document-oriented, key-value, column-family, and graph models, to store and manage data."
   ]
  },
  {
   "cell_type": "markdown",
   "metadata": {},
   "source": [
    "### Some examples of when MongoDB is a better than SQL databases are:\n",
    "#### Handling large amounts of distributed data.\n",
    "#### Dynamic data models.\n",
    "#### High scalability and availability.\n",
    "#### Agile development, and lower cost.\n"
   ]
  },
  {
   "cell_type": "markdown",
   "metadata": {},
   "source": []
  },
  {
   "cell_type": "markdown",
   "metadata": {},
   "source": []
  },
  {
   "cell_type": "markdown",
   "metadata": {},
   "source": [
    "# 2\n",
    "## Some of the key features of MongoDB are:\n",
    "\n",
    "#### Document-oriented Data Model: MongoDB uses a flexible, document-oriented data model that can store data in a way that is similar to how it appears in application code.\n",
    "\n",
    "#### Scalability: MongoDB is designed to scale horizontally across multiple servers, allowing it to handle large volumes of data and high traffic loads.\n",
    "\n",
    "#### High Availability: MongoDB provides built-in support for replication and automatic failover, ensuring that data is always available."
   ]
  },
  {
   "cell_type": "markdown",
   "metadata": {},
   "source": [
    "#### Indexing: MongoDB supports rich indexing capabilities, including compound indexes, geospatial indexes, and full-text search.\n",
    "\n",
    "#### Aggregation Framework: MongoDB provides a powerful aggregation framework that allows developers to perform complex queries and analytics on their data.\n",
    "\n",
    "#### Schema-less Design: MongoDB does not require a predefined schema, making it easy to store and manage semi-structured and unstructured data.\n",
    "\n",
    "#### Querying and Update Language: MongoDB's querying and update language is simple and expressive, allowing developers to perform a wide range of operations on their data.\n",
    "#### Open Source: MongoDB is open source software and has a large and active community of developers contributing to its development and support."
   ]
  },
  {
   "cell_type": "markdown",
   "metadata": {},
   "source": []
  },
  {
   "cell_type": "markdown",
   "metadata": {},
   "source": []
  },
  {
   "cell_type": "markdown",
   "metadata": {},
   "source": [
    "# 3\n",
    "\n",
    "#### To built a connection between python and MongoDB server we have to perform following code:"
   ]
  },
  {
   "cell_type": "code",
   "execution_count": 1,
   "metadata": {
    "tags": []
   },
   "outputs": [],
   "source": [
    "import pymongo\n",
    "client = pymongo.MongoClient(\"mongodb://127.0.0.1:27017/\") # This is my local client\n",
    "\n",
    "db = client['DataPW']\n",
    "collection = db['Students']"
   ]
  },
  {
   "cell_type": "markdown",
   "metadata": {},
   "source": []
  },
  {
   "cell_type": "markdown",
   "metadata": {},
   "source": []
  },
  {
   "cell_type": "markdown",
   "metadata": {},
   "source": [
    "# 4"
   ]
  },
  {
   "cell_type": "code",
   "execution_count": 2,
   "metadata": {
    "tags": []
   },
   "outputs": [
    {
     "data": {
      "text/plain": [
       "<pymongo.results.InsertOneResult at 0x226eb718e80>"
      ]
     },
     "execution_count": 2,
     "metadata": {},
     "output_type": "execute_result"
    }
   ],
   "source": [
    "collection.insert_one({'name':'Ram','age':'23'}) # Insert one document"
   ]
  },
  {
   "cell_type": "code",
   "execution_count": 3,
   "metadata": {
    "tags": []
   },
   "outputs": [
    {
     "data": {
      "text/plain": [
       "<pymongo.results.InsertManyResult at 0x226eb71a2f0>"
      ]
     },
     "execution_count": 3,
     "metadata": {},
     "output_type": "execute_result"
    }
   ],
   "source": [
    "collection.insert_many(({'name':'Sita','age':'22'},{'name':'Laxman','age':'23'},{'name':'Bharat','age':'21'})) # Insert more than one document"
   ]
  },
  {
   "cell_type": "code",
   "execution_count": 4,
   "metadata": {
    "tags": []
   },
   "outputs": [
    {
     "data": {
      "text/plain": [
       "{'_id': ObjectId('63f0b21a55830312737e4927'), 'name': 'Ram', 'age': '23'}"
      ]
     },
     "execution_count": 4,
     "metadata": {},
     "output_type": "execute_result"
    }
   ],
   "source": [
    "collection.find_one() # Show the first document"
   ]
  },
  {
   "cell_type": "code",
   "execution_count": 5,
   "metadata": {
    "tags": []
   },
   "outputs": [
    {
     "name": "stdout",
     "output_type": "stream",
     "text": [
      "{'_id': ObjectId('63f0b21a55830312737e4927'), 'name': 'Ram', 'age': '23'}\n",
      "{'_id': ObjectId('63f0b21e55830312737e4928'), 'name': 'Sita', 'age': '22'}\n",
      "{'_id': ObjectId('63f0b21e55830312737e4929'), 'name': 'Laxman', 'age': '23'}\n",
      "{'_id': ObjectId('63f0b21e55830312737e492a'), 'name': 'Bharat', 'age': '21'}\n",
      "{'_id': ObjectId('63f0c85755830312737e493e'), 'name': 'Ram', 'age': '23'}\n",
      "{'_id': ObjectId('63f0c85755830312737e493f'), 'name': 'Sita', 'age': '22'}\n",
      "{'_id': ObjectId('63f0c85755830312737e4940'), 'name': 'Laxman', 'age': '23'}\n",
      "{'_id': ObjectId('63f0c85755830312737e4941'), 'name': 'Bharat', 'age': '21'}\n",
      "{'_id': ObjectId('63f0c87f55830312737e4949'), 'name': 'Ram', 'age': '23'}\n",
      "{'_id': ObjectId('63f0c87f55830312737e494a'), 'name': 'Sita', 'age': '22'}\n",
      "{'_id': ObjectId('63f0c87f55830312737e494b'), 'name': 'Laxman', 'age': '23'}\n",
      "{'_id': ObjectId('63f0c87f55830312737e494c'), 'name': 'Bharat', 'age': '21'}\n",
      "{'_id': ObjectId('63f0c957aa5a6eaeb68bb1cd'), 'name': 'Ram', 'age': '23'}\n",
      "{'_id': ObjectId('63f0c958aa5a6eaeb68bb1ce'), 'name': 'Sita', 'age': '22'}\n",
      "{'_id': ObjectId('63f0c958aa5a6eaeb68bb1cf'), 'name': 'Laxman', 'age': '23'}\n",
      "{'_id': ObjectId('63f0c958aa5a6eaeb68bb1d0'), 'name': 'Bharat', 'age': '21'}\n"
     ]
    }
   ],
   "source": [
    "for i in collection.find(): # Show all documents\n",
    "    print(i)"
   ]
  },
  {
   "cell_type": "markdown",
   "metadata": {},
   "source": []
  },
  {
   "cell_type": "markdown",
   "metadata": {},
   "source": []
  },
  {
   "cell_type": "markdown",
   "metadata": {
    "tags": []
   },
   "source": [
    "# 5\n",
    "### In MongoDB, the find() method is used to retrieve documents from a collection. Here is how to use the find() method:"
   ]
  },
  {
   "cell_type": "code",
   "execution_count": 6,
   "metadata": {
    "tags": []
   },
   "outputs": [],
   "source": [
    "collection = db['Voters']"
   ]
  },
  {
   "cell_type": "code",
   "execution_count": 7,
   "metadata": {
    "tags": []
   },
   "outputs": [],
   "source": [
    "voter_list=({'name':'Aman Kumar','age':24,'gender':'M'},\n",
    "            {'name':'Rashmi Yadav','age':45,'gender':'F'},\n",
    "            {'name':'Kartik Dhiman','age':51,'gender':'M'},\n",
    "            {'name':'Ajay Prajapati','age':35,'gender':'M'},\n",
    "            {'name':'Shikha Rawat','age':29,'gender':'F'},\n",
    "            {'name':'Kiran Sharma','age':26,'gender':'F'})"
   ]
  },
  {
   "cell_type": "code",
   "execution_count": 8,
   "metadata": {},
   "outputs": [
    {
     "data": {
      "text/plain": [
       "<pymongo.results.InsertManyResult at 0x226ebe56dd0>"
      ]
     },
     "execution_count": 8,
     "metadata": {},
     "output_type": "execute_result"
    }
   ],
   "source": [
    "collection.insert_many(voter_list)"
   ]
  },
  {
   "cell_type": "code",
   "execution_count": 9,
   "metadata": {
    "tags": []
   },
   "outputs": [
    {
     "name": "stdout",
     "output_type": "stream",
     "text": [
      "{'_id': ObjectId('63f0c963aa5a6eaeb68bb1d1'), 'name': 'Aman Kumar', 'age': 24, 'gender': 'M'}\n",
      "{'_id': ObjectId('63f0c963aa5a6eaeb68bb1d2'), 'name': 'Rashmi Yadav', 'age': 45, 'gender': 'F'}\n",
      "{'_id': ObjectId('63f0c963aa5a6eaeb68bb1d3'), 'name': 'Kartik Dhiman', 'age': 51, 'gender': 'M'}\n",
      "{'_id': ObjectId('63f0c963aa5a6eaeb68bb1d4'), 'name': 'Ajay Prajapati', 'age': 35, 'gender': 'M'}\n",
      "{'_id': ObjectId('63f0c963aa5a6eaeb68bb1d5'), 'name': 'Shikha Rawat', 'age': 29, 'gender': 'F'}\n",
      "{'_id': ObjectId('63f0c963aa5a6eaeb68bb1d6'), 'name': 'Kiran Sharma', 'age': 26, 'gender': 'F'}\n"
     ]
    }
   ],
   "source": [
    "# Using find()\n",
    "for doc in collection.find():\n",
    "    print(doc)"
   ]
  },
  {
   "cell_type": "markdown",
   "metadata": {},
   "source": []
  },
  {
   "cell_type": "markdown",
   "metadata": {},
   "source": []
  },
  {
   "cell_type": "markdown",
   "metadata": {},
   "source": [
    "# 6\n",
    "### sort() method is used to show the documents of database either in increasing or decreasing order.\n",
    "### Eg;"
   ]
  },
  {
   "cell_type": "code",
   "execution_count": 10,
   "metadata": {
    "tags": []
   },
   "outputs": [
    {
     "name": "stdout",
     "output_type": "stream",
     "text": [
      "{'_id': ObjectId('63f0c963aa5a6eaeb68bb1d4'), 'name': 'Ajay Prajapati', 'age': 35, 'gender': 'M'}\n",
      "{'_id': ObjectId('63f0c963aa5a6eaeb68bb1d1'), 'name': 'Aman Kumar', 'age': 24, 'gender': 'M'}\n",
      "{'_id': ObjectId('63f0c963aa5a6eaeb68bb1d3'), 'name': 'Kartik Dhiman', 'age': 51, 'gender': 'M'}\n",
      "{'_id': ObjectId('63f0c963aa5a6eaeb68bb1d6'), 'name': 'Kiran Sharma', 'age': 26, 'gender': 'F'}\n",
      "{'_id': ObjectId('63f0c963aa5a6eaeb68bb1d2'), 'name': 'Rashmi Yadav', 'age': 45, 'gender': 'F'}\n",
      "{'_id': ObjectId('63f0c963aa5a6eaeb68bb1d5'), 'name': 'Shikha Rawat', 'age': 29, 'gender': 'F'}\n"
     ]
    }
   ],
   "source": [
    "for doc in collection.find().sort('name'): # show the data in alphabetical order of names\n",
    "    print(doc)"
   ]
  },
  {
   "cell_type": "code",
   "execution_count": 11,
   "metadata": {
    "tags": []
   },
   "outputs": [
    {
     "name": "stdout",
     "output_type": "stream",
     "text": [
      "{'_id': ObjectId('63f0c963aa5a6eaeb68bb1d5'), 'name': 'Shikha Rawat', 'age': 29, 'gender': 'F'}\n",
      "{'_id': ObjectId('63f0c963aa5a6eaeb68bb1d2'), 'name': 'Rashmi Yadav', 'age': 45, 'gender': 'F'}\n",
      "{'_id': ObjectId('63f0c963aa5a6eaeb68bb1d6'), 'name': 'Kiran Sharma', 'age': 26, 'gender': 'F'}\n",
      "{'_id': ObjectId('63f0c963aa5a6eaeb68bb1d3'), 'name': 'Kartik Dhiman', 'age': 51, 'gender': 'M'}\n",
      "{'_id': ObjectId('63f0c963aa5a6eaeb68bb1d1'), 'name': 'Aman Kumar', 'age': 24, 'gender': 'M'}\n",
      "{'_id': ObjectId('63f0c963aa5a6eaeb68bb1d4'), 'name': 'Ajay Prajapati', 'age': 35, 'gender': 'M'}\n"
     ]
    }
   ],
   "source": [
    "for doc in collection.find().sort('name',-1): # show the data in reverse alphabetical order of names, -1 is for reverse oder.\n",
    "    print(doc)\n",
    "    "
   ]
  },
  {
   "cell_type": "code",
   "execution_count": 12,
   "metadata": {
    "tags": []
   },
   "outputs": [
    {
     "name": "stdout",
     "output_type": "stream",
     "text": [
      "{'_id': ObjectId('63f0c963aa5a6eaeb68bb1d1'), 'name': 'Aman Kumar', 'age': 24, 'gender': 'M'}\n",
      "{'_id': ObjectId('63f0c963aa5a6eaeb68bb1d6'), 'name': 'Kiran Sharma', 'age': 26, 'gender': 'F'}\n",
      "{'_id': ObjectId('63f0c963aa5a6eaeb68bb1d5'), 'name': 'Shikha Rawat', 'age': 29, 'gender': 'F'}\n",
      "{'_id': ObjectId('63f0c963aa5a6eaeb68bb1d4'), 'name': 'Ajay Prajapati', 'age': 35, 'gender': 'M'}\n",
      "{'_id': ObjectId('63f0c963aa5a6eaeb68bb1d2'), 'name': 'Rashmi Yadav', 'age': 45, 'gender': 'F'}\n",
      "{'_id': ObjectId('63f0c963aa5a6eaeb68bb1d3'), 'name': 'Kartik Dhiman', 'age': 51, 'gender': 'M'}\n"
     ]
    }
   ],
   "source": [
    "for doc in collection.find().sort('age'): # show the data in increasing order of age\n",
    "    print(doc)"
   ]
  },
  {
   "cell_type": "markdown",
   "metadata": {},
   "source": []
  },
  {
   "cell_type": "markdown",
   "metadata": {},
   "source": []
  },
  {
   "attachments": {},
   "cell_type": "markdown",
   "metadata": {},
   "source": [
    "# 7\n",
    "\n",
    "### delete_one() is used to delete only one documents satisfying the query.\n",
    "#### I use the documents used in question no 5."
   ]
  },
  {
   "cell_type": "code",
   "execution_count": 162,
   "metadata": {
    "tags": []
   },
   "outputs": [
    {
     "name": "stdout",
     "output_type": "stream",
     "text": [
      "{'_id': ObjectId('63f0c88055830312737e494d'), 'name': 'Aman Kumar', 'age': 24, 'gender': 'M'}\n",
      "{'_id': ObjectId('63f0c88055830312737e494e'), 'name': 'Rashmi Yadav', 'age': 45, 'gender': 'F'}\n",
      "{'_id': ObjectId('63f0c88055830312737e494f'), 'name': 'Kartik Dhiman', 'age': 51, 'gender': 'M'}\n",
      "{'_id': ObjectId('63f0c88055830312737e4950'), 'name': 'Ajay Prajapati', 'age': 35, 'gender': 'M'}\n",
      "{'_id': ObjectId('63f0c88055830312737e4951'), 'name': 'Shikha Rawat', 'age': 29, 'gender': 'F'}\n",
      "{'_id': ObjectId('63f0c88055830312737e4952'), 'name': 'Kiran Sharma', 'age': 26, 'gender': 'F'}\n"
     ]
    }
   ],
   "source": [
    "for doc in collection.find():\n",
    "    print(doc)"
   ]
  },
  {
   "cell_type": "code",
   "execution_count": 163,
   "metadata": {
    "tags": []
   },
   "outputs": [
    {
     "data": {
      "text/plain": [
       "<pymongo.results.DeleteResult at 0x2cefe547df0>"
      ]
     },
     "execution_count": 163,
     "metadata": {},
     "output_type": "execute_result"
    }
   ],
   "source": [
    "collection.delete_one({'name':'Aman Kumar'})"
   ]
  },
  {
   "cell_type": "code",
   "execution_count": 164,
   "metadata": {
    "tags": []
   },
   "outputs": [
    {
     "name": "stdout",
     "output_type": "stream",
     "text": [
      "{'_id': ObjectId('63f0c88055830312737e494e'), 'name': 'Rashmi Yadav', 'age': 45, 'gender': 'F'}\n",
      "{'_id': ObjectId('63f0c88055830312737e494f'), 'name': 'Kartik Dhiman', 'age': 51, 'gender': 'M'}\n",
      "{'_id': ObjectId('63f0c88055830312737e4950'), 'name': 'Ajay Prajapati', 'age': 35, 'gender': 'M'}\n",
      "{'_id': ObjectId('63f0c88055830312737e4951'), 'name': 'Shikha Rawat', 'age': 29, 'gender': 'F'}\n",
      "{'_id': ObjectId('63f0c88055830312737e4952'), 'name': 'Kiran Sharma', 'age': 26, 'gender': 'F'}\n"
     ]
    }
   ],
   "source": [
    "for doc in collection.find(): # You can see that the given query is deleted\n",
    "    print(doc)"
   ]
  },
  {
   "attachments": {},
   "cell_type": "markdown",
   "metadata": {},
   "source": [
    "### delete_many() is used to delete the mulitple documents at a time\n",
    "#### Eg;"
   ]
  },
  {
   "cell_type": "code",
   "execution_count": 165,
   "metadata": {
    "tags": []
   },
   "outputs": [
    {
     "data": {
      "text/plain": [
       "<pymongo.results.DeleteResult at 0x2cefe43da80>"
      ]
     },
     "execution_count": 165,
     "metadata": {},
     "output_type": "execute_result"
    }
   ],
   "source": [
    "collection.delete_many({'age':{'$gte' : 40}})"
   ]
  },
  {
   "cell_type": "code",
   "execution_count": 166,
   "metadata": {
    "tags": []
   },
   "outputs": [
    {
     "name": "stdout",
     "output_type": "stream",
     "text": [
      "{'_id': ObjectId('63f0c88055830312737e4950'), 'name': 'Ajay Prajapati', 'age': 35, 'gender': 'M'}\n",
      "{'_id': ObjectId('63f0c88055830312737e4951'), 'name': 'Shikha Rawat', 'age': 29, 'gender': 'F'}\n",
      "{'_id': ObjectId('63f0c88055830312737e4952'), 'name': 'Kiran Sharma', 'age': 26, 'gender': 'F'}\n"
     ]
    }
   ],
   "source": [
    "for doc in collection.find(): # You can see that the given query satisfyping documents deleted\n",
    "    print(doc)"
   ]
  },
  {
   "attachments": {},
   "cell_type": "markdown",
   "metadata": {},
   "source": [
    "### drop() metthod is used to completely delete whole collection\n",
    "### Eg;"
   ]
  },
  {
   "cell_type": "code",
   "execution_count": 167,
   "metadata": {
    "tags": []
   },
   "outputs": [],
   "source": [
    "collection.drop()"
   ]
  },
  {
   "cell_type": "code",
   "execution_count": 174,
   "metadata": {
    "tags": []
   },
   "outputs": [],
   "source": [
    "for doc in collection.find(): # There is no documents left\n",
    "    print(doc)"
   ]
  },
  {
   "cell_type": "markdown",
   "metadata": {},
   "source": []
  },
  {
   "cell_type": "markdown",
   "metadata": {},
   "source": []
  }
 ],
 "metadata": {
  "kernelspec": {
   "display_name": "Python 3 (ipykernel)",
   "language": "python",
   "name": "python3"
  },
  "language_info": {
   "codemirror_mode": {
    "name": "ipython",
    "version": 3
   },
   "file_extension": ".py",
   "mimetype": "text/x-python",
   "name": "python",
   "nbconvert_exporter": "python",
   "pygments_lexer": "ipython3",
   "version": "3.11.1"
  },
  "vscode": {
   "interpreter": {
    "hash": "60604c6687abd3d44db2988d94478afd71bdd2eba4a4e06208197b7b67afacd2"
   }
  }
 },
 "nbformat": 4,
 "nbformat_minor": 4
}
