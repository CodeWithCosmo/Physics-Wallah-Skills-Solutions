{
 "cells": [
  {
   "cell_type": "markdown",
   "id": "f9571ca0-ade9-487a-819c-18044ba15102",
   "metadata": {},
   "source": [
    "# Q1. What is the mathematical formula for a linear SVM?\n",
    "## The mathematical formula for a linear Support Vector Machine (SVM) is:\n",
    "\n",
    "- ### f(x) = w^T x + b\n",
    "\n",
    "#### where:\n",
    "- f(x) is the predicted class for input vector x\n",
    "- w is a weight vector that determines the orientation of the hyperplane that separates the classes\n",
    "- b is a bias term that determines the position of the hyperplane in the input space\n",
    "\n",
    "### The decision boundary between the two classes is a hyperplane defined by the equation:\n",
    "\n",
    "- ### w^T x + b = 0\n",
    "\n",
    "#### where x is an input vector.\n",
    "\n",
    "### During the training process, the SVM algorithm finds the optimal values of w and b that maximize the margin between the two classes while minimizing the number of misclassifications. The margin is the distance between the decision boundary and the closest data points from each class.\n",
    "\n",
    "### The optimization problem can be formulated as a constrained quadratic programming problem:\n",
    "\n",
    "- #### minimize (1/2) ||w||^2\n",
    "#### subject to y_i(w^T x_i + b) >= 1 for all i = 1, ..., n\n",
    "\n",
    "#### where:\n",
    "- ||w||^2 is the L2-norm of the weight vector\n",
    "- y_i is the class label of the i-th data point (+1 or -1)\n",
    "- x_i is the i-th input vector\n",
    "- n is the number of training data points\n",
    "\n",
    "#### The objective of the optimization problem is to minimize the L2-norm of the weight vector, subject to the constraint that all data points are correctly classified and are at least a distance of 1 away from the decision boundary.\n",
    "\n",
    "#### Once the optimal values of w and b are found, the SVM can be used to make predictions on new data by computing f(x) for each input vector x and assigning it to the class with the highest value of f(x)"
   ]
  },
  {
   "cell_type": "markdown",
   "id": "66b9f341-f0cb-4792-ba4c-3f7b8382eeaf",
   "metadata": {},
   "source": []
  },
  {
   "cell_type": "markdown",
   "id": "db21f08d-8a02-4ae6-bc85-ce739b873f49",
   "metadata": {},
   "source": []
  },
  {
   "cell_type": "markdown",
   "id": "aec1919b-d8e7-4246-bf14-155ef8a9d7bd",
   "metadata": {},
   "source": []
  },
  {
   "cell_type": "markdown",
   "id": "1290b09d-4780-4b2b-a811-88a042685b85",
   "metadata": {},
   "source": []
  },
  {
   "cell_type": "markdown",
   "id": "f264fb93-c9ba-41c9-ae17-43dc07782b53",
   "metadata": {},
   "source": []
  },
  {
   "cell_type": "markdown",
   "id": "1ff28002-a20d-41b0-ba44-981ce82fea63",
   "metadata": {},
   "source": [
    "# Q2. What is the objective function of a linear SVM?\n",
    "## The objective function of a linear Support Vector Machine (SVM) is to find the hyperplane that best separates the training data into two classes. The objective function is formulated as an optimization problem, where the goal is to maximize the margin between the two classes while minimizing the number of misclassifications.\n",
    "\n",
    "### The margin is defined as the distance between the decision boundary (hyperplane) and the closest data points from each class. The SVM aims to find the hyperplane that maximizes this margin, as it is believed to generalize better to new, unseen data.\n",
    "\n",
    "### The optimization problem can be written as follows:\n",
    "\n",
    "- ### minimize (1/2) ||w||^2\n",
    "\n",
    "#### subject to:\n",
    "\n",
    "#### y_i(w^T x_i + b) >= 1 for all i = 1, ..., n\n",
    "\n",
    "### where:\n",
    "- w is a weight vector that determines the orientation of the hyperplane\n",
    "- b is a bias term that determines the position of the hyperplane in the input space\n",
    "- x_i is the i-th input vector\n",
    "- y_i is the corresponding class label (+1 or -1)\n",
    "- n is the number of training samples\n",
    "- ||w||^2 is the L2-norm of the weight vector w\n",
    "\n",
    "### The first term (1/2) ||w||^2 is a regularization term that penalizes the magnitude of the weight vector w. The goal is to find a solution with a small weight vector, which corresponds to a simple decision boundary.\n",
    "\n",
    "### The second term represents the constraints that all data points are correctly classified and are at least a distance of 1 away from the decision boundary. These constraints ensure that the decision boundary is not too close to any of the data points and that it separates the two classes correctly.\n",
    "\n",
    "### The optimization problem can be solved using quadratic programming techniques, which find the values of w and b that satisfy the constraints and minimize the objective function. Once the optimal values of w and b are found, the decision boundary can be calculated as w^T x + b = 0, where x is an input vector"
   ]
  },
  {
   "cell_type": "markdown",
   "id": "cde2336a-62eb-4571-a79b-c3b21bcfefcc",
   "metadata": {},
   "source": []
  },
  {
   "cell_type": "markdown",
   "id": "51069985-430a-454a-bcdd-93ddf44bd7cf",
   "metadata": {},
   "source": []
  },
  {
   "cell_type": "markdown",
   "id": "b3872bb2-c7ea-4e66-9e68-bac226372144",
   "metadata": {},
   "source": []
  },
  {
   "cell_type": "markdown",
   "id": "9553c55b-11bd-4d61-b3ff-c39631ddeb2e",
   "metadata": {},
   "source": []
  },
  {
   "cell_type": "markdown",
   "id": "0cee163c-cf9e-4135-8c3a-b9e689360ddf",
   "metadata": {},
   "source": []
  },
  {
   "cell_type": "markdown",
   "id": "1652a23a-e982-46db-99f5-96472d52d92d",
   "metadata": {},
   "source": [
    "# Q3. What is the kernel trick in SVM?\n",
    "## The kernel trick is a technique used in Support Vector Machines (SVMs) to map input data from a low-dimensional space to a high-dimensional space without explicitly computing the high-dimensional feature space. This is achieved by using a kernel function to calculate the dot product between pairs of input vectors in the high-dimensional space.\n",
    "\n",
    "### The basic idea of the kernel trick is to transform the input data into a higher-dimensional space where it becomes easier to find a linear decision boundary that can separate the classes. However, this transformation can be computationally expensive and may not always be necessary.\n",
    "\n",
    "### The kernel trick avoids the computational burden of computing the transformed feature space by defining a kernel function that directly computes the dot product between the transformed input vectors. The kernel function calculates the similarity between two input vectors in the high-dimensional space without explicitly computing the coordinates of the vectors.\n",
    "\n",
    "### Some commonly used kernel functions include:\n",
    "\n",
    "- ### Linear kernel: K(x, y) = x^T y\n",
    "- ### Polynomial kernel: K(x, y) = (x^T y + c)^d, where c is a constant and d is the degree of the polynomial.\n",
    "- ### Radial basis function (RBF) kernel: K(x, y) = exp(-gamma ||x-y||^2), where gamma is a tuning parameter that controls the width of the Gaussian kernel.\n",
    "\n",
    "### The kernel trick makes it possible to apply SVMs to non-linearly separable problems by implicitly mapping the input data to a higher-dimensional feature space where a linear decision boundary can separate the classes. This makes SVMs a powerful tool for solving complex classification problems."
   ]
  },
  {
   "cell_type": "markdown",
   "id": "fc2542d8-8d75-4621-84ff-f10e29e89ad1",
   "metadata": {},
   "source": []
  },
  {
   "cell_type": "markdown",
   "id": "852661ee-a1ca-484c-ae77-473732cf7057",
   "metadata": {},
   "source": []
  },
  {
   "cell_type": "markdown",
   "id": "532ac585-4024-4dbe-be66-ba277aa3c918",
   "metadata": {},
   "source": []
  },
  {
   "cell_type": "markdown",
   "id": "42823d38-f365-4cdf-b035-f405014870bf",
   "metadata": {},
   "source": []
  },
  {
   "cell_type": "markdown",
   "id": "f814968f-44bc-47a1-9e1c-e242cc4e16fb",
   "metadata": {},
   "source": []
  },
  {
   "cell_type": "markdown",
   "id": "ace6bf2b-3383-431e-ab8d-cd41e366aafb",
   "metadata": {
    "tags": []
   },
   "source": [
    "# Q4. What is the role of support vectors in SVM Explain with example.\n",
    "### In Support Vector Machines (SVMs), support vectors are the training examples that lie closest to the decision boundary (also known as the hyperplane). The hyperplane is the linear boundary that separates the classes in the high-dimensional feature space.\n",
    "\n",
    "### The role of support vectors is important in SVMs because they determine the position and orientation of the hyperplane. The hyperplane is positioned so that it maximizes the margin, which is the distance between the hyperplane and the closest data points from each class. The support vectors are the data points that are closest to the hyperplane and have a non-zero weight in the SVM model.\n",
    "\n",
    "### The support vectors play a key role in the SVM model because they determine the shape and position of the decision boundary. The other data points that are not support vectors do not affect the position of the decision boundary and are not used in the prediction process.\n",
    "\n",
    "- ### For example, consider a binary classification problem where we want to classify images of dogs and cats. We have a dataset of images labeled as either dogs or cats. We can use SVMs to train a model to classify new images based on their features.\n",
    "- ### After training the SVM model, the decision boundary is determined by the support vectors, which are the images that lie closest to the hyperplane. These support vectors may represent features that are common to both classes or features that are highly discriminative. The SVM model will use these support vectors to make predictions on new images, classifying them as either dogs or cats based on their similarity to the support vectors.\n",
    "\n",
    "- ### In this example, the support vectors play a crucial role in determining the position and orientation of the decision boundary and therefore, the accuracy of the model. The SVM algorithm aims to maximize the margin between the support vectors, which results in a more robust decision boundary and better generalization to new data."
   ]
  },
  {
   "cell_type": "markdown",
   "id": "cf928416-faba-4b66-b66f-c6387631e666",
   "metadata": {},
   "source": []
  },
  {
   "cell_type": "markdown",
   "id": "86be4f08-5caa-47f0-a0fc-c4d8c6836c7f",
   "metadata": {},
   "source": []
  },
  {
   "cell_type": "markdown",
   "id": "8c13b194-fa86-4de2-9c35-bcc9c306fdd0",
   "metadata": {},
   "source": []
  },
  {
   "cell_type": "markdown",
   "id": "cd6118c1-7e3e-48c6-af20-17461ad790c3",
   "metadata": {},
   "source": []
  },
  {
   "cell_type": "markdown",
   "id": "468ce82e-bc6d-44a3-89c6-fc74b94915c3",
   "metadata": {},
   "source": []
  },
  {
   "cell_type": "markdown",
   "id": "9061b301-679e-4b04-b374-7e9c643280ba",
   "metadata": {},
   "source": [
    "# Q5. Illustrate with examples and graphs of Hyperplane, Marginal plane, Soft margin and Hard margin in SVM?\n",
    "\n",
    "## 1. Hyperplane:\n",
    "### In SVM, the hyperplane is a decision boundary that separates the data points into different classes. For a linear SVM, the hyperplane is a linear equation of the form:\n",
    "\n",
    "- ### w^T x + b = 0\n",
    "\n",
    "#### where w is the normal vector to the hyperplane and b is the bias term.\n",
    "\n",
    "### Example: Consider a binary classification problem where we want to separate the data points into two classes (red and blue). The following graph shows the hyperplane (black line) that separates the two classes:\n",
    "\n",
    "<img width = \"500\" src = \"https://i.stack.imgur.com/EoaIK.png\">\n",
    "\n",
    "## 2. Marginal plane:\n",
    "### The marginal plane is the hyperplane that lies halfway between the support vectors of the two classes. In other words, it is the hyperplane that maximizes the margin between the classes.\n",
    "\n",
    "### Example: Continuing with the same binary classification problem, the following graph shows the marginal plane (dashed line) that lies halfway between the support vectors (circled points) of the two classes:\n",
    "\n",
    "<img width = \"500\" src = \"https://editor.analyticsvidhya.com/uploads/83153SVM.png\">\n",
    "\n",
    "## 3. Hard margin:\n",
    "### In a hard margin SVM, the goal is to find a hyperplane that perfectly separates the data points of the two classes. This means that there should be no data points that lie within the margin.\n",
    "\n",
    "### Example: Consider a dataset that is linearly separable. The following graph shows a hard margin SVM with a linear kernel that perfectly separates the two classes:\n",
    "\n",
    "<img width = \"500\" src = \"https://www.inovex.de/wp-content/uploads/delimiting_hyperplanes.png\">\n",
    "\n",
    "## 4. Soft margin:\n",
    "### In a soft margin SVM, the goal is to find a hyperplane that separates the data points of the two classes with the largest possible margin, but allows some data points to lie within the margin. This is done by introducing a penalty parameter C that controls the trade-off between maximizing the margin and minimizing the classification error.\n",
    "\n",
    "### Example: Consider a dataset that is not linearly separable. The following graph shows a soft margin SVM with a linear kernel and a penalty parameter C=1.0. Note that some data points lie within the margin:\n",
    "\n",
    "<img width = \"500\" src = \"https://qph.cf2.quoracdn.net/main-qimg-851eee234e03ecd2cae1347113431a77\">\n",
    "\n",
    "### In conclusion, the hyperplane separates the data points into different classes, the marginal plane maximizes the margin between the classes, the hard margin SVM finds a hyperplane that perfectly separates the data points, and the soft margin SVM allows some data points to lie within the margin. These concepts are important for understanding how SVM works and how it can be applied to different datasets."
   ]
  },
  {
   "cell_type": "markdown",
   "id": "be8394ae-84d4-44fa-99c0-356f75f0e0c5",
   "metadata": {},
   "source": []
  },
  {
   "cell_type": "markdown",
   "id": "6945c48c-8001-4c16-90f1-0d149fcc0572",
   "metadata": {},
   "source": []
  },
  {
   "cell_type": "markdown",
   "id": "6ef285c7-6a21-48f7-a80f-ffce88bb1bec",
   "metadata": {},
   "source": []
  },
  {
   "cell_type": "markdown",
   "id": "a7643beb-58d0-4b8d-b4eb-0abd5583135c",
   "metadata": {},
   "source": []
  },
  {
   "cell_type": "markdown",
   "id": "3ea613d3-5509-4a34-b27e-89590657880f",
   "metadata": {},
   "source": []
  },
  {
   "cell_type": "markdown",
   "id": "ed3d51ca-a2e8-4c50-a740-ed769b30a478",
   "metadata": {
    "tags": []
   },
   "source": [
    "# Q6. SVM Implementation through Iris dataset."
   ]
  },
  {
   "cell_type": "markdown",
   "id": "5195b9a6-968c-41bd-88e5-9d0ff75d23c8",
   "metadata": {
    "tags": []
   },
   "source": [
    "- ## Load the iris dataset from the scikit-learn library and split it into a training set and a testing set"
   ]
  },
  {
   "cell_type": "code",
   "execution_count": 83,
   "id": "319d638c-5f66-4747-ab13-2a2b8c35eae2",
   "metadata": {
    "tags": []
   },
   "outputs": [],
   "source": [
    "from sklearn.datasets import load_iris"
   ]
  },
  {
   "cell_type": "code",
   "execution_count": 84,
   "id": "bc7a24e2-5c3c-4360-be02-6a87f52782ef",
   "metadata": {
    "tags": []
   },
   "outputs": [],
   "source": [
    "iris = load_iris()"
   ]
  },
  {
   "cell_type": "code",
   "execution_count": 85,
   "id": "b0414512-674d-4e72-b3fe-22ce0ff75e84",
   "metadata": {
    "tags": []
   },
   "outputs": [
    {
     "name": "stdout",
     "output_type": "stream",
     "text": [
      ".. _iris_dataset:\n",
      "\n",
      "Iris plants dataset\n",
      "--------------------\n",
      "\n",
      "**Data Set Characteristics:**\n",
      "\n",
      "    :Number of Instances: 150 (50 in each of three classes)\n",
      "    :Number of Attributes: 4 numeric, predictive attributes and the class\n",
      "    :Attribute Information:\n",
      "        - sepal length in cm\n",
      "        - sepal width in cm\n",
      "        - petal length in cm\n",
      "        - petal width in cm\n",
      "        - class:\n",
      "                - Iris-Setosa\n",
      "                - Iris-Versicolour\n",
      "                - Iris-Virginica\n",
      "                \n",
      "    :Summary Statistics:\n",
      "\n",
      "    ============== ==== ==== ======= ===== ====================\n",
      "                    Min  Max   Mean    SD   Class Correlation\n",
      "    ============== ==== ==== ======= ===== ====================\n",
      "    sepal length:   4.3  7.9   5.84   0.83    0.7826\n",
      "    sepal width:    2.0  4.4   3.05   0.43   -0.4194\n",
      "    petal length:   1.0  6.9   3.76   1.76    0.9490  (high!)\n",
      "    petal width:    0.1  2.5   1.20   0.76    0.9565  (high!)\n",
      "    ============== ==== ==== ======= ===== ====================\n",
      "\n",
      "    :Missing Attribute Values: None\n",
      "    :Class Distribution: 33.3% for each of 3 classes.\n",
      "    :Creator: R.A. Fisher\n",
      "    :Donor: Michael Marshall (MARSHALL%PLU@io.arc.nasa.gov)\n",
      "    :Date: July, 1988\n",
      "\n",
      "The famous Iris database, first used by Sir R.A. Fisher. The dataset is taken\n",
      "from Fisher's paper. Note that it's the same as in R, but not as in the UCI\n",
      "Machine Learning Repository, which has two wrong data points.\n",
      "\n",
      "This is perhaps the best known database to be found in the\n",
      "pattern recognition literature.  Fisher's paper is a classic in the field and\n",
      "is referenced frequently to this day.  (See Duda & Hart, for example.)  The\n",
      "data set contains 3 classes of 50 instances each, where each class refers to a\n",
      "type of iris plant.  One class is linearly separable from the other 2; the\n",
      "latter are NOT linearly separable from each other.\n",
      "\n",
      ".. topic:: References\n",
      "\n",
      "   - Fisher, R.A. \"The use of multiple measurements in taxonomic problems\"\n",
      "     Annual Eugenics, 7, Part II, 179-188 (1936); also in \"Contributions to\n",
      "     Mathematical Statistics\" (John Wiley, NY, 1950).\n",
      "   - Duda, R.O., & Hart, P.E. (1973) Pattern Classification and Scene Analysis.\n",
      "     (Q327.D83) John Wiley & Sons.  ISBN 0-471-22361-1.  See page 218.\n",
      "   - Dasarathy, B.V. (1980) \"Nosing Around the Neighborhood: A New System\n",
      "     Structure and Classification Rule for Recognition in Partially Exposed\n",
      "     Environments\".  IEEE Transactions on Pattern Analysis and Machine\n",
      "     Intelligence, Vol. PAMI-2, No. 1, 67-71.\n",
      "   - Gates, G.W. (1972) \"The Reduced Nearest Neighbor Rule\".  IEEE Transactions\n",
      "     on Information Theory, May 1972, 431-433.\n",
      "   - See also: 1988 MLC Proceedings, 54-64.  Cheeseman et al\"s AUTOCLASS II\n",
      "     conceptual clustering system finds 3 classes in the data.\n",
      "   - Many, many more ...\n"
     ]
    }
   ],
   "source": [
    "print(iris.DESCR)"
   ]
  },
  {
   "cell_type": "code",
   "execution_count": 86,
   "id": "d37f3703-e2be-46f2-bed0-ab4c9c7474ff",
   "metadata": {
    "tags": []
   },
   "outputs": [],
   "source": [
    "X = iris.data\n",
    "y = iris.target"
   ]
  },
  {
   "cell_type": "code",
   "execution_count": 87,
   "id": "e10d0d3b-db9d-4853-9b9e-47d8e620d55d",
   "metadata": {
    "tags": []
   },
   "outputs": [
    {
     "data": {
      "text/plain": [
       "(array([5.1, 3.5, 1.4, 0.2]), 0)"
      ]
     },
     "execution_count": 87,
     "metadata": {},
     "output_type": "execute_result"
    }
   ],
   "source": [
    "X[0],y[0]"
   ]
  },
  {
   "cell_type": "code",
   "execution_count": 88,
   "id": "e45adae9-3693-4a10-a5a6-a1e6f2cb173f",
   "metadata": {
    "tags": []
   },
   "outputs": [],
   "source": [
    "from sklearn.model_selection import train_test_split\n",
    "X_train,X_test,y_train,y_test = train_test_split(X,y,test_size=0.05,random_state=4)"
   ]
  },
  {
   "cell_type": "markdown",
   "id": "7bc2a700-68e0-4b2d-958d-70a18584dff5",
   "metadata": {},
   "source": [
    "- ## Train a linear SVM classifier on the training set and predict the labels for the testing set"
   ]
  },
  {
   "cell_type": "code",
   "execution_count": 89,
   "id": "2699e32c-350a-4042-8572-ef2943e342c4",
   "metadata": {
    "tags": []
   },
   "outputs": [],
   "source": [
    "from sklearn.svm import SVC\n",
    "svc_classifier = SVC(kernel='linear')"
   ]
  },
  {
   "cell_type": "code",
   "execution_count": 90,
   "id": "8baac20f-3de6-4ec8-99c4-d61aeccd70c0",
   "metadata": {
    "tags": []
   },
   "outputs": [
    {
     "data": {
      "text/html": [
       "<style>#sk-container-id-4 {color: black;background-color: white;}#sk-container-id-4 pre{padding: 0;}#sk-container-id-4 div.sk-toggleable {background-color: white;}#sk-container-id-4 label.sk-toggleable__label {cursor: pointer;display: block;width: 100%;margin-bottom: 0;padding: 0.3em;box-sizing: border-box;text-align: center;}#sk-container-id-4 label.sk-toggleable__label-arrow:before {content: \"▸\";float: left;margin-right: 0.25em;color: #696969;}#sk-container-id-4 label.sk-toggleable__label-arrow:hover:before {color: black;}#sk-container-id-4 div.sk-estimator:hover label.sk-toggleable__label-arrow:before {color: black;}#sk-container-id-4 div.sk-toggleable__content {max-height: 0;max-width: 0;overflow: hidden;text-align: left;background-color: #f0f8ff;}#sk-container-id-4 div.sk-toggleable__content pre {margin: 0.2em;color: black;border-radius: 0.25em;background-color: #f0f8ff;}#sk-container-id-4 input.sk-toggleable__control:checked~div.sk-toggleable__content {max-height: 200px;max-width: 100%;overflow: auto;}#sk-container-id-4 input.sk-toggleable__control:checked~label.sk-toggleable__label-arrow:before {content: \"▾\";}#sk-container-id-4 div.sk-estimator input.sk-toggleable__control:checked~label.sk-toggleable__label {background-color: #d4ebff;}#sk-container-id-4 div.sk-label input.sk-toggleable__control:checked~label.sk-toggleable__label {background-color: #d4ebff;}#sk-container-id-4 input.sk-hidden--visually {border: 0;clip: rect(1px 1px 1px 1px);clip: rect(1px, 1px, 1px, 1px);height: 1px;margin: -1px;overflow: hidden;padding: 0;position: absolute;width: 1px;}#sk-container-id-4 div.sk-estimator {font-family: monospace;background-color: #f0f8ff;border: 1px dotted black;border-radius: 0.25em;box-sizing: border-box;margin-bottom: 0.5em;}#sk-container-id-4 div.sk-estimator:hover {background-color: #d4ebff;}#sk-container-id-4 div.sk-parallel-item::after {content: \"\";width: 100%;border-bottom: 1px solid gray;flex-grow: 1;}#sk-container-id-4 div.sk-label:hover label.sk-toggleable__label {background-color: #d4ebff;}#sk-container-id-4 div.sk-serial::before {content: \"\";position: absolute;border-left: 1px solid gray;box-sizing: border-box;top: 0;bottom: 0;left: 50%;z-index: 0;}#sk-container-id-4 div.sk-serial {display: flex;flex-direction: column;align-items: center;background-color: white;padding-right: 0.2em;padding-left: 0.2em;position: relative;}#sk-container-id-4 div.sk-item {position: relative;z-index: 1;}#sk-container-id-4 div.sk-parallel {display: flex;align-items: stretch;justify-content: center;background-color: white;position: relative;}#sk-container-id-4 div.sk-item::before, #sk-container-id-4 div.sk-parallel-item::before {content: \"\";position: absolute;border-left: 1px solid gray;box-sizing: border-box;top: 0;bottom: 0;left: 50%;z-index: -1;}#sk-container-id-4 div.sk-parallel-item {display: flex;flex-direction: column;z-index: 1;position: relative;background-color: white;}#sk-container-id-4 div.sk-parallel-item:first-child::after {align-self: flex-end;width: 50%;}#sk-container-id-4 div.sk-parallel-item:last-child::after {align-self: flex-start;width: 50%;}#sk-container-id-4 div.sk-parallel-item:only-child::after {width: 0;}#sk-container-id-4 div.sk-dashed-wrapped {border: 1px dashed gray;margin: 0 0.4em 0.5em 0.4em;box-sizing: border-box;padding-bottom: 0.4em;background-color: white;}#sk-container-id-4 div.sk-label label {font-family: monospace;font-weight: bold;display: inline-block;line-height: 1.2em;}#sk-container-id-4 div.sk-label-container {text-align: center;}#sk-container-id-4 div.sk-container {/* jupyter's `normalize.less` sets `[hidden] { display: none; }` but bootstrap.min.css set `[hidden] { display: none !important; }` so we also need the `!important` here to be able to override the default hidden behavior on the sphinx rendered scikit-learn.org. See: https://github.com/scikit-learn/scikit-learn/issues/21755 */display: inline-block !important;position: relative;}#sk-container-id-4 div.sk-text-repr-fallback {display: none;}</style><div id=\"sk-container-id-4\" class=\"sk-top-container\"><div class=\"sk-text-repr-fallback\"><pre>SVC(kernel=&#x27;linear&#x27;)</pre><b>In a Jupyter environment, please rerun this cell to show the HTML representation or trust the notebook. <br />On GitHub, the HTML representation is unable to render, please try loading this page with nbviewer.org.</b></div><div class=\"sk-container\" hidden><div class=\"sk-item\"><div class=\"sk-estimator sk-toggleable\"><input class=\"sk-toggleable__control sk-hidden--visually\" id=\"sk-estimator-id-4\" type=\"checkbox\" checked><label for=\"sk-estimator-id-4\" class=\"sk-toggleable__label sk-toggleable__label-arrow\">SVC</label><div class=\"sk-toggleable__content\"><pre>SVC(kernel=&#x27;linear&#x27;)</pre></div></div></div></div></div>"
      ],
      "text/plain": [
       "SVC(kernel='linear')"
      ]
     },
     "execution_count": 90,
     "metadata": {},
     "output_type": "execute_result"
    }
   ],
   "source": [
    "svc_classifier.fit(X_train,y_train)"
   ]
  },
  {
   "cell_type": "code",
   "execution_count": 91,
   "id": "378b4c99-1abb-499d-b29d-252410c557d8",
   "metadata": {
    "tags": []
   },
   "outputs": [],
   "source": [
    "y_pred = svc_classifier.predict(X_test)"
   ]
  },
  {
   "cell_type": "code",
   "execution_count": 92,
   "id": "89544d91-f6d5-4065-9fa8-c302795153a0",
   "metadata": {
    "tags": []
   },
   "outputs": [
    {
     "data": {
      "text/html": [
       "<div>\n",
       "<style scoped>\n",
       "    .dataframe tbody tr th:only-of-type {\n",
       "        vertical-align: middle;\n",
       "    }\n",
       "\n",
       "    .dataframe tbody tr th {\n",
       "        vertical-align: top;\n",
       "    }\n",
       "\n",
       "    .dataframe thead th {\n",
       "        text-align: right;\n",
       "    }\n",
       "</style>\n",
       "<table border=\"1\" class=\"dataframe\">\n",
       "  <thead>\n",
       "    <tr style=\"text-align: right;\">\n",
       "      <th></th>\n",
       "      <th>Actual</th>\n",
       "      <th>Predicted</th>\n",
       "    </tr>\n",
       "  </thead>\n",
       "  <tbody>\n",
       "    <tr>\n",
       "      <th>0</th>\n",
       "      <td>2</td>\n",
       "      <td>2</td>\n",
       "    </tr>\n",
       "    <tr>\n",
       "      <th>1</th>\n",
       "      <td>0</td>\n",
       "      <td>0</td>\n",
       "    </tr>\n",
       "    <tr>\n",
       "      <th>2</th>\n",
       "      <td>2</td>\n",
       "      <td>2</td>\n",
       "    </tr>\n",
       "    <tr>\n",
       "      <th>3</th>\n",
       "      <td>2</td>\n",
       "      <td>2</td>\n",
       "    </tr>\n",
       "    <tr>\n",
       "      <th>4</th>\n",
       "      <td>2</td>\n",
       "      <td>2</td>\n",
       "    </tr>\n",
       "    <tr>\n",
       "      <th>5</th>\n",
       "      <td>1</td>\n",
       "      <td>1</td>\n",
       "    </tr>\n",
       "    <tr>\n",
       "      <th>6</th>\n",
       "      <td>1</td>\n",
       "      <td>2</td>\n",
       "    </tr>\n",
       "    <tr>\n",
       "      <th>7</th>\n",
       "      <td>0</td>\n",
       "      <td>0</td>\n",
       "    </tr>\n",
       "  </tbody>\n",
       "</table>\n",
       "</div>"
      ],
      "text/plain": [
       "   Actual  Predicted\n",
       "0       2          2\n",
       "1       0          0\n",
       "2       2          2\n",
       "3       2          2\n",
       "4       2          2\n",
       "5       1          1\n",
       "6       1          2\n",
       "7       0          0"
      ]
     },
     "execution_count": 92,
     "metadata": {},
     "output_type": "execute_result"
    }
   ],
   "source": [
    "import pandas as pd\n",
    "pd.DataFrame({'Actual':y_test,'Predicted':y_pred})"
   ]
  },
  {
   "cell_type": "markdown",
   "id": "94ed366f-9bf5-49a1-a1b3-a7b446e0ff97",
   "metadata": {},
   "source": [
    "- ## Compute the accuracy of the model on the testing set"
   ]
  },
  {
   "cell_type": "code",
   "execution_count": 93,
   "id": "85f2b55e-7dda-4737-8a36-5c9bdfd56d39",
   "metadata": {
    "tags": []
   },
   "outputs": [
    {
     "name": "stdout",
     "output_type": "stream",
     "text": [
      "The Accuracy of the model is: 87.5 %\n"
     ]
    }
   ],
   "source": [
    "from sklearn.metrics import accuracy_score\n",
    "print(f'The Accuracy of the model is: {accuracy_score(y_test,y_pred)*100} %')"
   ]
  },
  {
   "cell_type": "markdown",
   "id": "c6d86b32-f77c-420a-905e-eed0f9450e83",
   "metadata": {},
   "source": [
    "- ## Plot the decision boundaries of the trained model using two of the features"
   ]
  },
  {
   "cell_type": "code",
   "execution_count": 108,
   "id": "37f59662-8db2-448a-b9fa-f9fdc7fecbbd",
   "metadata": {
    "tags": []
   },
   "outputs": [
    {
     "data": {
      "image/png": "[encoded data removed]",
      "text/plain": [
       "<Figure size 800x600 with 1 Axes>"
      ]
     },
     "metadata": {},
     "output_type": "display_data"
    }
   ],
   "source": [
    "import numpy as np\n",
    "import matplotlib.pyplot as plt\n",
    "\n",
    "X = iris.data[:,[0,2]]\n",
    "y = iris.target\n",
    "\n",
    "# creating SVM classifier\n",
    "clf = SVC(kernel='linear')\n",
    "clf.fit(X, y)\n",
    "\n",
    "# creating a meshgrid to plot the decision boundaries\n",
    "xx, yy = np.meshgrid(np.linspace(-3, 3, 100), np.linspace(-3, 3, 100))\n",
    "Z = clf.predict(np.c_[xx.ravel(), yy.ravel()])\n",
    "Z = Z.reshape(xx.shape)\n",
    "\n",
    "# ploting meshgrid and the data points\n",
    "plt.figure(figsize=(8, 6))\n",
    "x_min, x_max = X[:, 0].min() - 1, X[:, 0].max() + 1\n",
    "y_min, y_max = X[:, 1].min() - 1, X[:, 1].max() + 1\n",
    "xx, yy = np.meshgrid(np.arange(x_min, x_max, 0.02), np.arange(y_min, y_max, 0.02))\n",
    "Z = clf.predict(np.c_[xx.ravel(), yy.ravel()])\n",
    "Z = Z.reshape(xx.shape)\n",
    "plt.contourf(xx, yy, Z, alpha=0.3)\n",
    "plt.scatter(X[:, 0], X[:, 1], c=y, alpha=1.0, edgecolor='black')\n",
    "plt.xlabel('sepal length')\n",
    "plt.ylabel('petal length')\n",
    "plt.title('SVC Decision Boundaries')\n",
    "plt.show()"
   ]
  },
  {
   "cell_type": "markdown",
   "id": "f0d2153b-55a1-4c30-9c6b-03bcf7185284",
   "metadata": {
    "tags": []
   },
   "source": [
    "- ## Try different values of the regularisation parameter C and see how it affects the performance of the model."
   ]
  },
  {
   "cell_type": "code",
   "execution_count": 95,
   "id": "857f774b-8d87-4235-9ced-97ae8d01c622",
   "metadata": {
    "tags": []
   },
   "outputs": [
    {
     "name": "stdout",
     "output_type": "stream",
     "text": [
      "The Accuracy of the model is: 50.0 %\n"
     ]
    }
   ],
   "source": [
    "reg_svc = SVC(kernel='linear',C=0.001)\n",
    "reg_svc.fit(X_train,y_train)\n",
    "print(f'The Accuracy of the model is: {reg_svc.score(X_test,y_test)*100} %')"
   ]
  },
  {
   "cell_type": "code",
   "execution_count": 96,
   "id": "82bdcd91-70cd-4e85-9edc-65fb8f0bc4cb",
   "metadata": {
    "tags": []
   },
   "outputs": [
    {
     "name": "stdout",
     "output_type": "stream",
     "text": [
      "The Accuracy of the model is: 100.0 %\n"
     ]
    }
   ],
   "source": [
    "reg_svc = SVC(kernel='linear',C=0.01)\n",
    "reg_svc.fit(X_train,y_train)\n",
    "print(f'The Accuracy of the model is: {reg_svc.score(X_test,y_test)*100} %')"
   ]
  },
  {
   "cell_type": "code",
   "execution_count": 97,
   "id": "88d129c5-4ef8-43db-bc8b-f7bdf1fe26b3",
   "metadata": {
    "tags": []
   },
   "outputs": [
    {
     "name": "stdout",
     "output_type": "stream",
     "text": [
      "The Accuracy of the model is: 87.5 %\n"
     ]
    }
   ],
   "source": [
    "reg_svc = SVC(kernel='linear',C=0.1)\n",
    "reg_svc.fit(X_train,y_train)\n",
    "print(f'The Accuracy of the model is: {reg_svc.score(X_test,y_test)*100} %')"
   ]
  },
  {
   "cell_type": "code",
   "execution_count": 98,
   "id": "1d25b781-d870-407f-9cd6-d2f74e6d8034",
   "metadata": {
    "tags": []
   },
   "outputs": [
    {
     "name": "stdout",
     "output_type": "stream",
     "text": [
      "The Accuracy of the model is: 87.5 %\n"
     ]
    }
   ],
   "source": [
    "reg_svc = SVC(kernel='linear',C=1)\n",
    "reg_svc.fit(X_train,y_train)\n",
    "print(f'The Accuracy of the model is: {reg_svc.score(X_test,y_test)*100} %')"
   ]
  },
  {
   "cell_type": "code",
   "execution_count": 99,
   "id": "647d1f98-261c-4ae1-b6e1-6cc63913e6ee",
   "metadata": {
    "tags": []
   },
   "outputs": [
    {
     "name": "stdout",
     "output_type": "stream",
     "text": [
      "The Accuracy of the model is: 87.5 %\n"
     ]
    }
   ],
   "source": [
    "reg_svc = SVC(kernel='linear',C=10)\n",
    "reg_svc.fit(X_train,y_train)\n",
    "print(f'The Accuracy of the model is: {reg_svc.score(X_test,y_test)*100} %')"
   ]
  },
  {
   "cell_type": "code",
   "execution_count": 100,
   "id": "aee4af89-1dab-42ba-927d-45cdf8e96c68",
   "metadata": {
    "tags": []
   },
   "outputs": [
    {
     "name": "stdout",
     "output_type": "stream",
     "text": [
      "The Accuracy of the model is: 87.5 %\n"
     ]
    }
   ],
   "source": [
    "reg_svc = SVC(kernel='linear',C=100)\n",
    "reg_svc.fit(X_train,y_train)\n",
    "print(f'The Accuracy of the model is: {reg_svc.score(X_test,y_test)*100} %')"
   ]
  },
  {
   "cell_type": "code",
   "execution_count": 101,
   "id": "fd8535b5-d1bd-40cd-9a18-8e055f57b616",
   "metadata": {
    "tags": []
   },
   "outputs": [
    {
     "name": "stdout",
     "output_type": "stream",
     "text": [
      "The Accuracy of the model is: 87.5 %\n"
     ]
    }
   ],
   "source": [
    "reg_svc = SVC(kernel='linear',C=1000)\n",
    "reg_svc.fit(X_train,y_train)\n",
    "print(f'The Accuracy of the model is: {reg_svc.score(X_test,y_test)*100} %')"
   ]
  },
  {
   "cell_type": "markdown",
   "id": "846455ce-dcd7-4383-874b-53649e34f2f4",
   "metadata": {},
   "source": [
    "## The default value of C = 1.0 and the accuracy of the model is 87.5 %.\n",
    "### Now, As We increase the value of parameter C from 1.0 to 1000 the model accuracy remain still 87.5 %.\n",
    "### But, As we decrease the value of parameter C from 1.0 to 0.01, the model accuracy becomes 100 %, and after further decreasing the values of C the model acuracy goes down."
   ]
  },
  {
   "cell_type": "markdown",
   "id": "747d3f07-c9a9-4207-a989-98e8ebfa03e1",
   "metadata": {},
   "source": []
  },
  {
   "cell_type": "markdown",
   "id": "044dc497-a382-4b20-ab77-5504d603b773",
   "metadata": {},
   "source": []
  },
  {
   "cell_type": "markdown",
   "id": "02a9ee92-f10f-4d10-a247-9a977291ad45",
   "metadata": {},
   "source": []
  },
  {
   "cell_type": "markdown",
   "id": "7e09fda7-104e-4e68-88e4-34a8640226ff",
   "metadata": {},
   "source": []
  },
  {
   "cell_type": "markdown",
   "id": "e535eee2-0703-4cc5-b5f8-318235c00922",
   "metadata": {},
   "source": []
  },
  {
   "cell_type": "markdown",
   "id": "6672ccbb-99c4-4179-b8bb-da9a574349b6",
   "metadata": {
    "tags": []
   },
   "source": [
    "# Bonus task:\n",
    "- ### Implement a linear SVM classifier from scratch using Python and compare its performance with the scikit-learn implementation."
   ]
  },
  {
   "cell_type": "code",
   "execution_count": 128,
   "id": "a0337516-5403-4e0c-8ee4-59fa5b832d75",
   "metadata": {
    "tags": []
   },
   "outputs": [],
   "source": [
    "import numpy as np\n",
    "\n",
    "class LinearSVM:\n",
    "    def __init__(self, learning_rate=0.001, lambda_param=0.01, n_iters=1000):\n",
    "        self.learning_rate = learning_rate\n",
    "        self.lambda_param = lambda_param\n",
    "        self.n_iters = n_iters        \n",
    "\n",
    "    def fit(self, X, y):\n",
    "        n_samples, n_features = X.shape\n",
    "\n",
    "        self.w = np.zeros(n_features)\n",
    "        self.b = 0\n",
    "\n",
    "        for _ in range(self.n_iters):\n",
    "            for idx, x_i in enumerate(X):\n",
    "                condition = y[idx] * (np.dot(x_i, self.w) - self.b) >= 1\n",
    "                if condition:\n",
    "                    self.w -= self.learning_rate * (2 * self.lambda_param * self.w)\n",
    "                else:\n",
    "                    self.w -= self.learning_rate * (2 * self.lambda_param * self.w - np.dot(x_i, y[idx]))\n",
    "                    self.b -= self.learning_rate * y[idx]\n",
    "\n",
    "    def predict(self, X):\n",
    "        linear_output = np.dot(X, self.w) - self.b\n",
    "        return np.sign(linear_output)"
   ]
  },
  {
   "cell_type": "markdown",
   "id": "22bbf7e4-7c05-4cf7-8ccf-f034e0bdb56c",
   "metadata": {},
   "source": [
    "### In the code above, we define a class called LinearSVM which has fit() and predict() methods. The fit() method takes in the training data X and the corresponding labels y and learns the optimal values for the model parameters w and b using the gradient descent algorithm. The predict() method takes in a set of test data X and predicts their labels using the learned model parameters.\n",
    "\n",
    "### To compare the performance of the custom implementation with the scikit-learn implementation, we can use a dataset like the Iris dataset and evaluate the accu"
   ]
  },
  {
   "cell_type": "code",
   "execution_count": 129,
   "id": "504f0624-e766-4ed4-8a6d-22a4a6ce915d",
   "metadata": {
    "tags": []
   },
   "outputs": [],
   "source": [
    "from sklearn.datasets import load_iris\n",
    "from sklearn.model_selection import train_test_split\n",
    "from sklearn.metrics import accuracy_score\n",
    "from sklearn.svm import SVC\n",
    "iris = load_iris()\n",
    "X_train, X_test, y_train, y_test = train_test_split(iris.data, iris.target, test_size=0.2, random_state=42)"
   ]
  },
  {
   "cell_type": "code",
   "execution_count": 130,
   "id": "f7feff51-05bc-4e3e-9c18-a4c60ecf169b",
   "metadata": {
    "tags": []
   },
   "outputs": [],
   "source": [
    "# Train and evaluate the custom SVM\n",
    "svm = LinearSVM()\n",
    "svm.fit(X_train, y_train)\n",
    "y_pred_custom = svm.predict(X_test)\n",
    "acc_custom = accuracy_score(y_test, y_pred_custom)"
   ]
  },
  {
   "cell_type": "code",
   "execution_count": 131,
   "id": "deebbf13-3001-4de3-874a-0c7c81e3ef5e",
   "metadata": {
    "tags": []
   },
   "outputs": [],
   "source": [
    "# Train and evaluate the scikit-learn SVM\n",
    "svc = SVC(kernel='linear')\n",
    "svc.fit(X_train, y_train)\n",
    "y_pred_sklearn = svc.predict(X_test)\n",
    "acc_sklearn = accuracy_score(y_test, y_pred_sklearn)"
   ]
  },
  {
   "cell_type": "code",
   "execution_count": 132,
   "id": "fd468b0e-16aa-4435-badd-8cb020763c3c",
   "metadata": {
    "tags": []
   },
   "outputs": [
    {
     "name": "stdout",
     "output_type": "stream",
     "text": [
      "Custom SVM accuracy: 0.3\n",
      "Scikit-learn SVM accuracy: 1.0\n"
     ]
    }
   ],
   "source": [
    "# Compare the accuracy of the two models\n",
    "print(\"Custom SVM accuracy:\", acc_custom)\n",
    "print(\"Scikit-learn SVM accuracy:\", acc_sklearn)"
   ]
  },
  {
   "cell_type": "markdown",
   "id": "4bf31183-7e98-4db9-b96c-c31f03c3f2d5",
   "metadata": {
    "tags": []
   },
   "source": [
    "### In the code above, we load the Iris dataset, split the data into training and testing sets, train and evaluate the custom SVM and the scikit-learn SVM, and compare their accuracies. By default, the scikit-learn SVM uses a C parameter of 1.0, which determines the tradeoff between achieving a low training error and a low testing error. To tune the performance of the scikit-learn SVM, we can adjust the value of the C parameter or use a different kernel function."
   ]
  }
 ],
 "metadata": {
  "kernelspec": {
   "display_name": "Python 3 (ipykernel)",
   "language": "python",
   "name": "python3"
  },
  "language_info": {
   "codemirror_mode": {
    "name": "ipython",
    "version": 3
   },
   "file_extension": ".py",
   "mimetype": "text/x-python",
   "name": "python",
   "nbconvert_exporter": "python",
   "pygments_lexer": "ipython3",
   "version": "3.11.3"
  }
 },
 "nbformat": 4,
 "nbformat_minor": 5
}
