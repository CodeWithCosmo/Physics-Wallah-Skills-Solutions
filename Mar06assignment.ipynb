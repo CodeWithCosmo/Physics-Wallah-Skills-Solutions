{
 "cells": [
  {
   "cell_type": "markdown",
   "id": "1e76b54c-5ac3-4db3-a0ad-a3add9f46048",
   "metadata": {},
   "source": [
    "# Q1. What is Statistics?\n",
    "## The Science of collection, organinzing and analyzing the data is known as Statistics."
   ]
  },
  {
   "cell_type": "markdown",
   "id": "b258c73c-765b-4e83-a653-bd34e31ac369",
   "metadata": {},
   "source": []
  },
  {
   "cell_type": "markdown",
   "id": "df12d162-d699-4732-94ee-8ef5dbc07136",
   "metadata": {},
   "source": []
  },
  {
   "cell_type": "markdown",
   "id": "18c4542f-b6d3-40be-8f7d-51836de0ec71",
   "metadata": {},
   "source": []
  },
  {
   "cell_type": "markdown",
   "id": "723c4d2e-41bb-4d94-9629-1534eaf1bce5",
   "metadata": {},
   "source": [
    "# Q2. Define the different types of statistics and give an example of when each type might be used.\n",
    "### There are two types of Statistics:\n",
    "## 1.Deccriptive Statistics: It consists of measuring and summarizing the data.\n",
    "#### They are used to provide a summary of the main features of a dataset, such as the mean, median, and mode of a set of numerical values, or the frequency distribution of categorical variables. These statistics can help researchers to understand the central tendency, variability, and shape of a dataset.\n",
    "## 2.Inferential Statistics: It consists of using data we have to draw conclusion.\n",
    "#### They are used to make inferences about a larger population based on a sample of data. This involves using statistical tests and confidence intervals to estimate population parameters and determine whether differences observed between groups are statistically significant or due to chance."
   ]
  },
  {
   "cell_type": "markdown",
   "id": "0803e4a4-8c34-4c0a-8cbc-3f10f48d0e73",
   "metadata": {},
   "source": []
  },
  {
   "cell_type": "markdown",
   "id": "2ec2baac-9121-4921-b51a-326a0ca3424b",
   "metadata": {},
   "source": []
  },
  {
   "cell_type": "markdown",
   "id": "3c6e6192-150b-4c6a-9747-2682d6dbe5b4",
   "metadata": {},
   "source": []
  },
  {
   "cell_type": "markdown",
   "id": "6153b8d7-0067-4ad2-b8c7-7bb9a5c3832b",
   "metadata": {},
   "source": [
    "# Q3.  What are the different types of data and how do they differ from each other? Provide an example of each type of data.\n",
    "### There are mainly two types of data:\n",
    "## 1. Quantitative Data: It consits two types:\n",
    "### A.Discrete Data: It consits only whole number values, eg; no of children in a family etc...\n",
    "### B.Continouse Data: It constis only positive real values, eg; height,weight,distance etc..\n",
    "## 2. Qualitative Data: It also consists two types:\n",
    "### A.Nominal Data: It consists a categorical data which have not any order between them, eg; blood group, gender etc...\n",
    "### B.Oridinal Data: It consists also a categorical data but with an order or ranking eg; Alphabets of english language, Grades of marks, rating scale etc..."
   ]
  },
  {
   "cell_type": "markdown",
   "id": "5cafed8b-87db-4aa7-bdea-21ce10a638bb",
   "metadata": {},
   "source": []
  },
  {
   "cell_type": "markdown",
   "id": "c67cce96-a964-4961-bc45-0a10d5abc308",
   "metadata": {},
   "source": []
  },
  {
   "cell_type": "markdown",
   "id": "e6e93df1-a9aa-4939-aa74-eefe912f3e11",
   "metadata": {},
   "source": []
  },
  {
   "cell_type": "markdown",
   "id": "36aedc44-510c-41da-88ef-4f6c927a636b",
   "metadata": {},
   "source": [
    "# Q4. Categorise the following datasets with respect to quantitative and qualitative data types:\n",
    "### (i)\tGrading in exam: A+, A, B+, B, C+, C, D, E\n",
    "### (ii)\tColour of mangoes: yellow, green, orange, red\n",
    "### (iii)\tHeight data of a class: [178.9, 179, 179.5, 176, 177.2, 178.3, 175.8,...]\n",
    "### (iv)\tNumber of mangoes exported by a farm: [500, 600, 478, 672, …]"
   ]
  },
  {
   "cell_type": "markdown",
   "id": "a629cfe1-93fe-409a-98f8-89a9e4134109",
   "metadata": {},
   "source": [
    "## Answers:\n",
    "### (i) Ordinal Data\n",
    "### (ii) Nominal Data\n",
    "### (iii) Continous Data\n",
    "### (iv) Discrete Data"
   ]
  },
  {
   "cell_type": "markdown",
   "id": "8a51b2d7-a58c-47bc-b499-55a631f003ad",
   "metadata": {},
   "source": []
  },
  {
   "cell_type": "markdown",
   "id": "b1e5e9f6-59a9-4492-b4d1-321cc0403ec5",
   "metadata": {},
   "source": []
  },
  {
   "cell_type": "markdown",
   "id": "645fb8df-15e7-4d60-bbec-e8775dff0734",
   "metadata": {},
   "source": []
  },
  {
   "cell_type": "markdown",
   "id": "6e4fd73d-52e8-4eb6-af00-9816653ae778",
   "metadata": {},
   "source": [
    "# Q5. Explain the concept of levels of measurement and give an example of a variable for each level.\n",
    "\n",
    "## The concept of levels of measurement refers to the way in which data is measured or categorized.\n",
    "\n",
    "## There are four levels of measurement:\n",
    "\n",
    "### Nominal level of measurement: This is the lowest level of measurement, where data is categorized into non-numeric categories with no inherent order. Examples of variables at this level of measurement include gender, race, and eye color. These variables can be counted and summarized using frequency counts and percentages.\n",
    "\n",
    "### Ordinal level of measurement: Data at this level is categorized into non-numeric categories with a natural order or ranking. Examples of variables at this level of measurement include level of education completed, socioeconomic status, and rankings in competitions. These variables can be summarized using central tendency measures such as median and mode.\n",
    "\n",
    "### Interval level of measurement: This level of measurement represents data that is measured on a scale with equal intervals between values, but no true zero point. Examples of variables at this level of measurement include temperature, date and time, and SAT scores. The variables at this level can be summarized using measures of central tendency such as mean and standard deviation.\n",
    "\n",
    "### Ratio level of measurement: This is the highest level of measurement, where data is measured on a scale with equal intervals between values and a true zero point. Examples of variables at this level of measurement include height, weight, income, and number of children. These variables can be summarized using measures of central tendency such as mean and standard deviation, as well as ratios and proportions."
   ]
  },
  {
   "cell_type": "markdown",
   "id": "1e0d87af-1c1f-4123-bc5a-99f5d55ab3da",
   "metadata": {},
   "source": []
  },
  {
   "cell_type": "markdown",
   "id": "a1e04dff-2d98-4795-911d-e014c2981adb",
   "metadata": {},
   "source": []
  },
  {
   "cell_type": "markdown",
   "id": "901fa0f3-0360-49b1-b8a4-27c894e122e0",
   "metadata": {},
   "source": []
  },
  {
   "cell_type": "markdown",
   "id": "2e25295c-1959-433e-acc6-c24a69485fe2",
   "metadata": {},
   "source": [
    "# Q6. Why is it important to understand the level of measurement when analyzing data? Provide an example to illustrate your answer."
   ]
  },
  {
   "cell_type": "markdown",
   "id": "4336b419-fa5d-41e6-8c66-a2b99d67c1a7",
   "metadata": {},
   "source": [
    "## It is important to understand the level of measurement when analyzing data because different statistical analyses and techniques are appropriate for different levels of measurement. If the wrong statistical analysis is used for a particular level of measurement, the results may be inaccurate or misleading.\n",
    "\n",
    "### For example, consider a study that examines the relationship between a person's age and their income. Age is a variable that is measured at the interval level, while income is measured at the ratio level. If the researcher were to use a measure of central tendency such as the mean to summarize age, this would be appropriate. However, if the same measure were used for income, it would be misleading since income has a true zero point.\n",
    "\n",
    "### If the researcher used a statistical test that assumes a normal distribution of data, such as the t-test, to analyze the relationship between age and income, this would also be inappropriate because income is not normally distributed. Instead, the researcher should use a different statistical test, such as the correlation coefficient or regression analysis, that is appropriate for analyzing the relationship between two variables measured at the interval and ratio levels."
   ]
  },
  {
   "cell_type": "markdown",
   "id": "7b548b3e-0db7-4ffe-ab01-f665505894d6",
   "metadata": {},
   "source": []
  },
  {
   "cell_type": "markdown",
   "id": "722c6d12-5770-4669-aad0-8733c58fd896",
   "metadata": {},
   "source": []
  },
  {
   "cell_type": "markdown",
   "id": "9ae2db6a-a174-46f5-a3cd-936dd1b8f778",
   "metadata": {},
   "source": []
  },
  {
   "cell_type": "markdown",
   "id": "850c9620-3f3a-4744-abdc-2dbfee19d352",
   "metadata": {},
   "source": [
    "# Q7. How nominal data type is different from ordinal data type.\n",
    "\n",
    "## Nominal data does not have any inherent order or ranking, while ordinal data has a natural order or ranking. Understanding the difference between nominal and ordinal data is important in selecting the appropriate statistical analysis for data analysis. Different statistical analyses are appropriate for nominal and ordinal data."
   ]
  },
  {
   "cell_type": "markdown",
   "id": "3fbe7588-86ed-4aa7-b0c5-a0245e7e86fe",
   "metadata": {},
   "source": []
  },
  {
   "cell_type": "markdown",
   "id": "eb967078-3966-46ca-b06d-579e7a4f497c",
   "metadata": {},
   "source": []
  },
  {
   "cell_type": "markdown",
   "id": "2887a3ce-fb37-407e-9f12-19fbca8b1143",
   "metadata": {},
   "source": []
  },
  {
   "cell_type": "markdown",
   "id": "08bb2e6a-f505-4eaa-b377-08a515f3b47e",
   "metadata": {},
   "source": [
    "# Q8. Which type of plot can be used to display data in terms of range?\n",
    "## A box plot, also known as a box-and-whisker plot, is commonly used to display data in terms of range. A box plot is a graphical representation of the distribution of data that shows the range, median, and quartiles of the data set. The box in the plot represents the middle 50% of the data, and the whiskers represent the minimum and maximum values in the data set. The median is represented by a line or dot within the box"
   ]
  },
  {
   "cell_type": "markdown",
   "id": "fceccb54-0f7b-415e-81e8-78d628c07c97",
   "metadata": {},
   "source": []
  },
  {
   "cell_type": "markdown",
   "id": "f7c829f2-e6f6-457a-96bd-ceaba42e6e35",
   "metadata": {},
   "source": []
  },
  {
   "cell_type": "markdown",
   "id": "b9111666-41ce-4a08-b98c-d1da6885b05d",
   "metadata": {},
   "source": []
  },
  {
   "cell_type": "markdown",
   "id": "b8cb8814-fe97-45e3-b56e-89af8ea4e8c5",
   "metadata": {},
   "source": [
    "# Q9. Describe the difference between descriptive and inferential statistics. Give an example of each type of statistics and explain how they are used.\n",
    "## Descriptive and inferential statistics are two branches of statistics that differ in their purpose and methods of analysis.\n",
    "\n",
    "### Descriptive statistics involves the use of statistical methods to summarize and describe the characteristics of a data set. Descriptive statistics are used to describe the data in a way that is easily understood, using measures of central tendency, such as mean, median, and mode, as well as measures of dispersion, such as range and standard deviation. For example, if a researcher is interested in describing the height of a population, they may calculate the mean and standard deviation of the height data.\n",
    "\n",
    "### Inferential statistics involves the use of statistical methods to make inferences or predictions about a larger population based on a sample of data. Inferential statistics are used to test hypotheses, estimate parameters, and make predictions about a population based on a sample of data. For example, if a researcher wants to test whether a new drug is effective in reducing blood pressure, they may conduct a randomized controlled trial on a sample of patients and use inferential statistics to determine whether the results of the study can be generalized to the larger population."
   ]
  },
  {
   "cell_type": "markdown",
   "id": "642793d6-32ba-4ec3-af25-033a18a98201",
   "metadata": {},
   "source": []
  },
  {
   "cell_type": "markdown",
   "id": "b2fa0e3c-ece6-4744-94b3-7ced567014d7",
   "metadata": {},
   "source": []
  },
  {
   "cell_type": "markdown",
   "id": "6e36a4c7-0ded-4237-892a-ab185877e2d4",
   "metadata": {},
   "source": []
  },
  {
   "cell_type": "markdown",
   "id": "b9b9dec4-b66a-4c56-b222-d13d8f9bc010",
   "metadata": {},
   "source": [
    "# Q10. What are some common measures of central tendency and variability used in statistics? Explain how each measure can be used to describe a dataset.\n",
    "## Measures of central tendency and variability are commonly used in statistics to describe the characteristics of a data set. The most common measures of central tendency are the mean, median, and mode, while the most common measures of variability are the range, standard deviation, and variance.\n",
    "\n",
    "### 1.Mean: The mean is the most common measure of central tendency, and it is calculated by adding up all of the values in a data set and dividing by the total number of values. The mean represents the average value of the data set, and it is a useful measure when the data is normally distributed and there are no extreme values.\n",
    "\n",
    "### 2.Median: The median is the middle value in a data set when the values are arranged in order. The median is a useful measure of central tendency when the data set has extreme values or is skewed, as it is less sensitive to outliers than the mean.\n",
    "\n",
    "### 3.Mode: The mode is the value that appears most frequently in a data set. The mode is useful when identifying the most common value or category in a data set.\n",
    "\n",
    "### 4.Range: The range is the difference between the highest and lowest values in a data set. The range is a simple measure of variability, but it can be sensitive to outliers and may not provide a comprehensive picture of the spread of the data.\n",
    "\n",
    "### 5.Standard deviation: The standard deviation is a measure of the spread or variability of a data set, and it is calculated by finding the square root of the variance. The standard deviation is a useful measure when the data is normally distributed, as it describes how much the data varies from the mean.\n",
    "\n",
    "### 6.Variance: The variance is a measure of how much the data is spread out from the mean, and it is calculated by finding the average of the squared differences between each value and the mean. Variance is a useful measure of variability, but it is less commonly used than the standard deviation."
   ]
  }
 ],
 "metadata": {
  "kernelspec": {
   "display_name": "default:Python",
   "language": "python",
   "name": "conda-env-default-py"
  },
  "language_info": {
   "codemirror_mode": {
    "name": "ipython",
    "version": 3
   },
   "file_extension": ".py",
   "mimetype": "text/x-python",
   "name": "python",
   "nbconvert_exporter": "python",
   "pygments_lexer": "ipython3",
   "version": "3.9.13"
  }
 },
 "nbformat": 4,
 "nbformat_minor": 5
}
