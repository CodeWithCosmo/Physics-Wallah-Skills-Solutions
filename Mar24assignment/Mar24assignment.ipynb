{
 "cells": [
  {
   "cell_type": "markdown",
   "id": "219009c1-b00e-43e8-a6f2-4bbe2fb35ec9",
   "metadata": {},
   "source": [
    "# Q1. What are the key features of the wine quality data set? Discuss the importance of each feature in predicting the quality of wine."
   ]
  },
  {
   "cell_type": "code",
   "execution_count": 1,
   "id": "a3de10e3-2d07-40fe-9ae6-33d324ded9a7",
   "metadata": {
    "tags": []
   },
   "outputs": [
    {
     "data": {
      "text/html": [
       "<div>\n",
       "<style scoped>\n",
       "    .dataframe tbody tr th:only-of-type {\n",
       "        vertical-align: middle;\n",
       "    }\n",
       "\n",
       "    .dataframe tbody tr th {\n",
       "        vertical-align: top;\n",
       "    }\n",
       "\n",
       "    .dataframe thead th {\n",
       "        text-align: right;\n",
       "    }\n",
       "</style>\n",
       "<table border=\"1\" class=\"dataframe\">\n",
       "  <thead>\n",
       "    <tr style=\"text-align: right;\">\n",
       "      <th></th>\n",
       "      <th>fixed acidity</th>\n",
       "      <th>volatile acidity</th>\n",
       "      <th>citric acid</th>\n",
       "      <th>residual sugar</th>\n",
       "      <th>chlorides</th>\n",
       "      <th>free sulfur dioxide</th>\n",
       "      <th>total sulfur dioxide</th>\n",
       "      <th>density</th>\n",
       "      <th>pH</th>\n",
       "      <th>sulphates</th>\n",
       "      <th>alcohol</th>\n",
       "      <th>quality</th>\n",
       "    </tr>\n",
       "  </thead>\n",
       "  <tbody>\n",
       "    <tr>\n",
       "      <th>0</th>\n",
       "      <td>7.4</td>\n",
       "      <td>0.70</td>\n",
       "      <td>0.00</td>\n",
       "      <td>1.9</td>\n",
       "      <td>0.076</td>\n",
       "      <td>11.0</td>\n",
       "      <td>34.0</td>\n",
       "      <td>0.9978</td>\n",
       "      <td>3.51</td>\n",
       "      <td>0.56</td>\n",
       "      <td>9.4</td>\n",
       "      <td>5</td>\n",
       "    </tr>\n",
       "    <tr>\n",
       "      <th>1</th>\n",
       "      <td>7.8</td>\n",
       "      <td>0.88</td>\n",
       "      <td>0.00</td>\n",
       "      <td>2.6</td>\n",
       "      <td>0.098</td>\n",
       "      <td>25.0</td>\n",
       "      <td>67.0</td>\n",
       "      <td>0.9968</td>\n",
       "      <td>3.20</td>\n",
       "      <td>0.68</td>\n",
       "      <td>9.8</td>\n",
       "      <td>5</td>\n",
       "    </tr>\n",
       "    <tr>\n",
       "      <th>2</th>\n",
       "      <td>7.8</td>\n",
       "      <td>0.76</td>\n",
       "      <td>0.04</td>\n",
       "      <td>2.3</td>\n",
       "      <td>0.092</td>\n",
       "      <td>15.0</td>\n",
       "      <td>54.0</td>\n",
       "      <td>0.9970</td>\n",
       "      <td>3.26</td>\n",
       "      <td>0.65</td>\n",
       "      <td>9.8</td>\n",
       "      <td>5</td>\n",
       "    </tr>\n",
       "    <tr>\n",
       "      <th>3</th>\n",
       "      <td>11.2</td>\n",
       "      <td>0.28</td>\n",
       "      <td>0.56</td>\n",
       "      <td>1.9</td>\n",
       "      <td>0.075</td>\n",
       "      <td>17.0</td>\n",
       "      <td>60.0</td>\n",
       "      <td>0.9980</td>\n",
       "      <td>3.16</td>\n",
       "      <td>0.58</td>\n",
       "      <td>9.8</td>\n",
       "      <td>6</td>\n",
       "    </tr>\n",
       "    <tr>\n",
       "      <th>4</th>\n",
       "      <td>7.4</td>\n",
       "      <td>0.70</td>\n",
       "      <td>0.00</td>\n",
       "      <td>1.9</td>\n",
       "      <td>0.076</td>\n",
       "      <td>11.0</td>\n",
       "      <td>34.0</td>\n",
       "      <td>0.9978</td>\n",
       "      <td>3.51</td>\n",
       "      <td>0.56</td>\n",
       "      <td>9.4</td>\n",
       "      <td>5</td>\n",
       "    </tr>\n",
       "  </tbody>\n",
       "</table>\n",
       "</div>"
      ],
      "text/plain": [
       "   fixed acidity  volatile acidity  citric acid  residual sugar  chlorides  \\\n",
       "0            7.4              0.70         0.00             1.9      0.076   \n",
       "1            7.8              0.88         0.00             2.6      0.098   \n",
       "2            7.8              0.76         0.04             2.3      0.092   \n",
       "3           11.2              0.28         0.56             1.9      0.075   \n",
       "4            7.4              0.70         0.00             1.9      0.076   \n",
       "\n",
       "   free sulfur dioxide  total sulfur dioxide  density    pH  sulphates  \\\n",
       "0                 11.0                  34.0   0.9978  3.51       0.56   \n",
       "1                 25.0                  67.0   0.9968  3.20       0.68   \n",
       "2                 15.0                  54.0   0.9970  3.26       0.65   \n",
       "3                 17.0                  60.0   0.9980  3.16       0.58   \n",
       "4                 11.0                  34.0   0.9978  3.51       0.56   \n",
       "\n",
       "   alcohol  quality  \n",
       "0      9.4        5  \n",
       "1      9.8        5  \n",
       "2      9.8        5  \n",
       "3      9.8        6  \n",
       "4      9.4        5  "
      ]
     },
     "execution_count": 1,
     "metadata": {},
     "output_type": "execute_result"
    }
   ],
   "source": [
    "import pandas as pd\n",
    "wine = pd.read_csv('wine_quality_red.csv')\n",
    "wine.head()"
   ]
  },
  {
   "cell_type": "code",
   "execution_count": 2,
   "id": "d2c06f16-54b9-482b-9dfd-3e5d36eef826",
   "metadata": {
    "tags": []
   },
   "outputs": [
    {
     "data": {
      "text/html": [
       "<div>\n",
       "<style scoped>\n",
       "    .dataframe tbody tr th:only-of-type {\n",
       "        vertical-align: middle;\n",
       "    }\n",
       "\n",
       "    .dataframe tbody tr th {\n",
       "        vertical-align: top;\n",
       "    }\n",
       "\n",
       "    .dataframe thead th {\n",
       "        text-align: right;\n",
       "    }\n",
       "</style>\n",
       "<table border=\"1\" class=\"dataframe\">\n",
       "  <thead>\n",
       "    <tr style=\"text-align: right;\">\n",
       "      <th></th>\n",
       "      <th>fixed acidity</th>\n",
       "      <th>volatile acidity</th>\n",
       "      <th>citric acid</th>\n",
       "      <th>residual sugar</th>\n",
       "      <th>chlorides</th>\n",
       "      <th>free sulfur dioxide</th>\n",
       "      <th>total sulfur dioxide</th>\n",
       "      <th>density</th>\n",
       "      <th>pH</th>\n",
       "      <th>sulphates</th>\n",
       "      <th>alcohol</th>\n",
       "      <th>quality</th>\n",
       "    </tr>\n",
       "  </thead>\n",
       "  <tbody>\n",
       "    <tr>\n",
       "      <th>fixed acidity</th>\n",
       "      <td>1.000000</td>\n",
       "      <td>-0.278282</td>\n",
       "      <td>0.661708</td>\n",
       "      <td>0.220701</td>\n",
       "      <td>0.250904</td>\n",
       "      <td>-0.175137</td>\n",
       "      <td>-0.088417</td>\n",
       "      <td>0.623071</td>\n",
       "      <td>-0.706674</td>\n",
       "      <td>0.212654</td>\n",
       "      <td>-0.066576</td>\n",
       "      <td>0.114084</td>\n",
       "    </tr>\n",
       "    <tr>\n",
       "      <th>volatile acidity</th>\n",
       "      <td>-0.278282</td>\n",
       "      <td>1.000000</td>\n",
       "      <td>-0.610259</td>\n",
       "      <td>0.032386</td>\n",
       "      <td>0.158770</td>\n",
       "      <td>0.021163</td>\n",
       "      <td>0.094110</td>\n",
       "      <td>0.025014</td>\n",
       "      <td>0.233572</td>\n",
       "      <td>-0.325584</td>\n",
       "      <td>-0.224932</td>\n",
       "      <td>-0.380647</td>\n",
       "    </tr>\n",
       "    <tr>\n",
       "      <th>citric acid</th>\n",
       "      <td>0.661708</td>\n",
       "      <td>-0.610259</td>\n",
       "      <td>1.000000</td>\n",
       "      <td>0.176417</td>\n",
       "      <td>0.112577</td>\n",
       "      <td>-0.076452</td>\n",
       "      <td>0.009400</td>\n",
       "      <td>0.352285</td>\n",
       "      <td>-0.548026</td>\n",
       "      <td>0.331074</td>\n",
       "      <td>0.096456</td>\n",
       "      <td>0.213481</td>\n",
       "    </tr>\n",
       "    <tr>\n",
       "      <th>residual sugar</th>\n",
       "      <td>0.220701</td>\n",
       "      <td>0.032386</td>\n",
       "      <td>0.176417</td>\n",
       "      <td>1.000000</td>\n",
       "      <td>0.212959</td>\n",
       "      <td>0.074618</td>\n",
       "      <td>0.145375</td>\n",
       "      <td>0.422266</td>\n",
       "      <td>-0.089971</td>\n",
       "      <td>0.038332</td>\n",
       "      <td>0.116548</td>\n",
       "      <td>0.032048</td>\n",
       "    </tr>\n",
       "    <tr>\n",
       "      <th>chlorides</th>\n",
       "      <td>0.250904</td>\n",
       "      <td>0.158770</td>\n",
       "      <td>0.112577</td>\n",
       "      <td>0.212959</td>\n",
       "      <td>1.000000</td>\n",
       "      <td>0.000805</td>\n",
       "      <td>0.130033</td>\n",
       "      <td>0.411390</td>\n",
       "      <td>-0.234361</td>\n",
       "      <td>0.020825</td>\n",
       "      <td>-0.284504</td>\n",
       "      <td>-0.189922</td>\n",
       "    </tr>\n",
       "    <tr>\n",
       "      <th>free sulfur dioxide</th>\n",
       "      <td>-0.175137</td>\n",
       "      <td>0.021163</td>\n",
       "      <td>-0.076452</td>\n",
       "      <td>0.074618</td>\n",
       "      <td>0.000805</td>\n",
       "      <td>1.000000</td>\n",
       "      <td>0.789698</td>\n",
       "      <td>-0.041178</td>\n",
       "      <td>0.115679</td>\n",
       "      <td>0.045862</td>\n",
       "      <td>-0.081367</td>\n",
       "      <td>-0.056901</td>\n",
       "    </tr>\n",
       "    <tr>\n",
       "      <th>total sulfur dioxide</th>\n",
       "      <td>-0.088417</td>\n",
       "      <td>0.094110</td>\n",
       "      <td>0.009400</td>\n",
       "      <td>0.145375</td>\n",
       "      <td>0.130033</td>\n",
       "      <td>0.789698</td>\n",
       "      <td>1.000000</td>\n",
       "      <td>0.129332</td>\n",
       "      <td>-0.009841</td>\n",
       "      <td>-0.000504</td>\n",
       "      <td>-0.257806</td>\n",
       "      <td>-0.196735</td>\n",
       "    </tr>\n",
       "    <tr>\n",
       "      <th>density</th>\n",
       "      <td>0.623071</td>\n",
       "      <td>0.025014</td>\n",
       "      <td>0.352285</td>\n",
       "      <td>0.422266</td>\n",
       "      <td>0.411390</td>\n",
       "      <td>-0.041178</td>\n",
       "      <td>0.129332</td>\n",
       "      <td>1.000000</td>\n",
       "      <td>-0.312055</td>\n",
       "      <td>0.161478</td>\n",
       "      <td>-0.462445</td>\n",
       "      <td>-0.177074</td>\n",
       "    </tr>\n",
       "    <tr>\n",
       "      <th>pH</th>\n",
       "      <td>-0.706674</td>\n",
       "      <td>0.233572</td>\n",
       "      <td>-0.548026</td>\n",
       "      <td>-0.089971</td>\n",
       "      <td>-0.234361</td>\n",
       "      <td>0.115679</td>\n",
       "      <td>-0.009841</td>\n",
       "      <td>-0.312055</td>\n",
       "      <td>1.000000</td>\n",
       "      <td>-0.080306</td>\n",
       "      <td>0.179932</td>\n",
       "      <td>-0.043672</td>\n",
       "    </tr>\n",
       "    <tr>\n",
       "      <th>sulphates</th>\n",
       "      <td>0.212654</td>\n",
       "      <td>-0.325584</td>\n",
       "      <td>0.331074</td>\n",
       "      <td>0.038332</td>\n",
       "      <td>0.020825</td>\n",
       "      <td>0.045862</td>\n",
       "      <td>-0.000504</td>\n",
       "      <td>0.161478</td>\n",
       "      <td>-0.080306</td>\n",
       "      <td>1.000000</td>\n",
       "      <td>0.207330</td>\n",
       "      <td>0.377060</td>\n",
       "    </tr>\n",
       "    <tr>\n",
       "      <th>alcohol</th>\n",
       "      <td>-0.066576</td>\n",
       "      <td>-0.224932</td>\n",
       "      <td>0.096456</td>\n",
       "      <td>0.116548</td>\n",
       "      <td>-0.284504</td>\n",
       "      <td>-0.081367</td>\n",
       "      <td>-0.257806</td>\n",
       "      <td>-0.462445</td>\n",
       "      <td>0.179932</td>\n",
       "      <td>0.207330</td>\n",
       "      <td>1.000000</td>\n",
       "      <td>0.478532</td>\n",
       "    </tr>\n",
       "    <tr>\n",
       "      <th>quality</th>\n",
       "      <td>0.114084</td>\n",
       "      <td>-0.380647</td>\n",
       "      <td>0.213481</td>\n",
       "      <td>0.032048</td>\n",
       "      <td>-0.189922</td>\n",
       "      <td>-0.056901</td>\n",
       "      <td>-0.196735</td>\n",
       "      <td>-0.177074</td>\n",
       "      <td>-0.043672</td>\n",
       "      <td>0.377060</td>\n",
       "      <td>0.478532</td>\n",
       "      <td>1.000000</td>\n",
       "    </tr>\n",
       "  </tbody>\n",
       "</table>\n",
       "</div>"
      ],
      "text/plain": [
       "                      fixed acidity  volatile acidity  citric acid  \\\n",
       "fixed acidity              1.000000         -0.278282     0.661708   \n",
       "volatile acidity          -0.278282          1.000000    -0.610259   \n",
       "citric acid                0.661708         -0.610259     1.000000   \n",
       "residual sugar             0.220701          0.032386     0.176417   \n",
       "chlorides                  0.250904          0.158770     0.112577   \n",
       "free sulfur dioxide       -0.175137          0.021163    -0.076452   \n",
       "total sulfur dioxide      -0.088417          0.094110     0.009400   \n",
       "density                    0.623071          0.025014     0.352285   \n",
       "pH                        -0.706674          0.233572    -0.548026   \n",
       "sulphates                  0.212654         -0.325584     0.331074   \n",
       "alcohol                   -0.066576         -0.224932     0.096456   \n",
       "quality                    0.114084         -0.380647     0.213481   \n",
       "\n",
       "                      residual sugar  chlorides  free sulfur dioxide  \\\n",
       "fixed acidity               0.220701   0.250904            -0.175137   \n",
       "volatile acidity            0.032386   0.158770             0.021163   \n",
       "citric acid                 0.176417   0.112577            -0.076452   \n",
       "residual sugar              1.000000   0.212959             0.074618   \n",
       "chlorides                   0.212959   1.000000             0.000805   \n",
       "free sulfur dioxide         0.074618   0.000805             1.000000   \n",
       "total sulfur dioxide        0.145375   0.130033             0.789698   \n",
       "density                     0.422266   0.411390            -0.041178   \n",
       "pH                         -0.089971  -0.234361             0.115679   \n",
       "sulphates                   0.038332   0.020825             0.045862   \n",
       "alcohol                     0.116548  -0.284504            -0.081367   \n",
       "quality                     0.032048  -0.189922            -0.056901   \n",
       "\n",
       "                      total sulfur dioxide   density        pH  sulphates  \\\n",
       "fixed acidity                    -0.088417  0.623071 -0.706674   0.212654   \n",
       "volatile acidity                  0.094110  0.025014  0.233572  -0.325584   \n",
       "citric acid                       0.009400  0.352285 -0.548026   0.331074   \n",
       "residual sugar                    0.145375  0.422266 -0.089971   0.038332   \n",
       "chlorides                         0.130033  0.411390 -0.234361   0.020825   \n",
       "free sulfur dioxide               0.789698 -0.041178  0.115679   0.045862   \n",
       "total sulfur dioxide              1.000000  0.129332 -0.009841  -0.000504   \n",
       "density                           0.129332  1.000000 -0.312055   0.161478   \n",
       "pH                               -0.009841 -0.312055  1.000000  -0.080306   \n",
       "sulphates                        -0.000504  0.161478 -0.080306   1.000000   \n",
       "alcohol                          -0.257806 -0.462445  0.179932   0.207330   \n",
       "quality                          -0.196735 -0.177074 -0.043672   0.377060   \n",
       "\n",
       "                       alcohol   quality  \n",
       "fixed acidity        -0.066576  0.114084  \n",
       "volatile acidity     -0.224932 -0.380647  \n",
       "citric acid           0.096456  0.213481  \n",
       "residual sugar        0.116548  0.032048  \n",
       "chlorides            -0.284504 -0.189922  \n",
       "free sulfur dioxide  -0.081367 -0.056901  \n",
       "total sulfur dioxide -0.257806 -0.196735  \n",
       "density              -0.462445 -0.177074  \n",
       "pH                    0.179932 -0.043672  \n",
       "sulphates             0.207330  0.377060  \n",
       "alcohol               1.000000  0.478532  \n",
       "quality               0.478532  1.000000  "
      ]
     },
     "execution_count": 2,
     "metadata": {},
     "output_type": "execute_result"
    }
   ],
   "source": [
    "wine.corr(method='spearman')"
   ]
  },
  {
   "cell_type": "markdown",
   "id": "0fc76c67-3291-430f-9517-0577f0ab8563",
   "metadata": {},
   "source": [
    "## The key feature of of the wine quality data set are:\n",
    "- ### volatile acidity, citric acid, sulphates and alcohol quantiy "
   ]
  },
  {
   "cell_type": "markdown",
   "id": "b9ec6e2c-8b82-414e-acb3-3859728dc8ba",
   "metadata": {},
   "source": [
    "## The spearman's correlation coefficient of the variances between key features and quality of red wine:\n",
    "### 1. volatile acidity: The variance of the 'volatile acidity' and 'quality' is -0.38, which indicates that there is a weak negative correaltion between 'volatile acidity' and 'quality' of red wine i.e., if 'volatile acidity' increases, the 'quality' of wine will slightly decrease.\n",
    "### 2. citric acid: The variance of the 'citric acid' and 'quality' is 0.21, which indicates that there is a weak positive correaltion between 'citric acid' and 'quality' of red wine i.e., if 'citric acid' increases, the 'quality' of wine will slightly increase.\n",
    "### 3. sulphates: The variance of the 'sulphates' and 'quality' is 0.37, which indicates that there is a weak positive correaltion between 'sulphates' and 'quality' of red wine i.e., if 'sulphates' increases, the 'quality' of wine will slightly increase.\n",
    "### 4. alcohol: The variance of the 'alcohol' and 'quality' is 0.47, which indicates that there is a moderate positive correaltion between 'fixed acidity' and 'quality' of red wine i.e., if 'alcohol' increases, the 'quality' of wine will slightly increase.This also indicates the among all key features the alchol plays the major role in predicting the quality of read wine."
   ]
  },
  {
   "cell_type": "markdown",
   "id": "ba74df31-09e3-4fa8-90ba-de17441de963",
   "metadata": {},
   "source": []
  },
  {
   "cell_type": "markdown",
   "id": "f6807f86-bb19-4c46-bcf1-e19ae1c693df",
   "metadata": {},
   "source": []
  },
  {
   "cell_type": "markdown",
   "id": "a4193ada-0f70-4a77-bcfc-72156d174213",
   "metadata": {},
   "source": []
  },
  {
   "cell_type": "markdown",
   "id": "612c98e6-f2d0-4996-b371-5c5bce32510d",
   "metadata": {},
   "source": []
  },
  {
   "cell_type": "markdown",
   "id": "52a61a42-08a9-431c-82ca-73991cd6c43e",
   "metadata": {},
   "source": []
  },
  {
   "cell_type": "markdown",
   "id": "44143f5b-ed7a-4714-9df5-6d37ad812878",
   "metadata": {},
   "source": [
    "# Q2. How did you handle missing data in the wine quality data set during the feature engineering process? Discuss the advantages and disadvantages of different imputation techniques.\n",
    "## There are different techniques used for handling missing data, including:\n",
    "\n",
    "- ### 1. Mean/Mode imputation: This technique involves replacing missing values with the mean (for continuous variables) or mode (for categorical variables) of the non-missing values. Mean imputation can preserve the overall mean of the variable, but it can also introduce bias and underestimate the variance.\n",
    "\n",
    "- ### 2. Regression imputation: This technique involves using a regression model to predict the missing values based on the values of the other variables. The advantage of this technique is that it can capture the relationships between the variables and produce more accurate imputations. However, it assumes that the missing values are missing at random and that the relationship between the variables is linear.\n",
    "\n",
    "- ### 3. K-nearest neighbors (KNN) imputation: This technique involves finding the K-nearest neighbors to the missing value and using their values to impute the missing value. The advantage of this technique is that it can capture the local structure of the data and produce more accurate imputations. However, it can also be sensitive to the choice of K and the distance metric used.\n",
    "\n",
    "- ### 4. Multiple imputation: This technique involves creating multiple imputed datasets and averaging their results to produce the final imputation. Multiple imputation can account for the uncertainty in the imputation and produce more accurate results. However, it can also be computationally expensive and requires careful modeling of the imputation process."
   ]
  },
  {
   "cell_type": "markdown",
   "id": "632226c0-e622-4a5a-8ad5-099dd27be628",
   "metadata": {},
   "source": []
  },
  {
   "cell_type": "markdown",
   "id": "172cdb7a-e9fd-4c29-9633-e89a84a43b6d",
   "metadata": {},
   "source": []
  },
  {
   "cell_type": "markdown",
   "id": "d63c7fb7-f56c-4be4-866a-729f4ccd6208",
   "metadata": {},
   "source": []
  },
  {
   "cell_type": "markdown",
   "id": "369acb04-26fa-4515-a9f2-fa3bc2045537",
   "metadata": {},
   "source": []
  },
  {
   "cell_type": "markdown",
   "id": "459f3d28-054e-4bc6-9a67-6d1dedc48829",
   "metadata": {},
   "source": []
  },
  {
   "cell_type": "markdown",
   "id": "99cbfe28-9359-4394-a5a5-f9b87e58b2dd",
   "metadata": {},
   "source": [
    "# Q3. What are the key factors that affect student's performance in exams? How would you go about analyzing these factors using statistical techniques?"
   ]
  },
  {
   "cell_type": "code",
   "execution_count": 3,
   "id": "99b1dc82-743f-44ce-829a-53dffc6de98a",
   "metadata": {
    "tags": []
   },
   "outputs": [
    {
     "data": {
      "text/html": [
       "<div>\n",
       "<style scoped>\n",
       "    .dataframe tbody tr th:only-of-type {\n",
       "        vertical-align: middle;\n",
       "    }\n",
       "\n",
       "    .dataframe tbody tr th {\n",
       "        vertical-align: top;\n",
       "    }\n",
       "\n",
       "    .dataframe thead th {\n",
       "        text-align: right;\n",
       "    }\n",
       "</style>\n",
       "<table border=\"1\" class=\"dataframe\">\n",
       "  <thead>\n",
       "    <tr style=\"text-align: right;\">\n",
       "      <th></th>\n",
       "      <th>gender</th>\n",
       "      <th>race_ethnicity</th>\n",
       "      <th>parental_level_of_education</th>\n",
       "      <th>lunch</th>\n",
       "      <th>test_preparation_course</th>\n",
       "      <th>math_score</th>\n",
       "      <th>reading_score</th>\n",
       "      <th>writing_score</th>\n",
       "    </tr>\n",
       "  </thead>\n",
       "  <tbody>\n",
       "    <tr>\n",
       "      <th>0</th>\n",
       "      <td>female</td>\n",
       "      <td>group B</td>\n",
       "      <td>bachelor's degree</td>\n",
       "      <td>standard</td>\n",
       "      <td>none</td>\n",
       "      <td>72</td>\n",
       "      <td>72</td>\n",
       "      <td>74</td>\n",
       "    </tr>\n",
       "    <tr>\n",
       "      <th>1</th>\n",
       "      <td>female</td>\n",
       "      <td>group C</td>\n",
       "      <td>some college</td>\n",
       "      <td>standard</td>\n",
       "      <td>completed</td>\n",
       "      <td>69</td>\n",
       "      <td>90</td>\n",
       "      <td>88</td>\n",
       "    </tr>\n",
       "    <tr>\n",
       "      <th>2</th>\n",
       "      <td>female</td>\n",
       "      <td>group B</td>\n",
       "      <td>master's degree</td>\n",
       "      <td>standard</td>\n",
       "      <td>none</td>\n",
       "      <td>90</td>\n",
       "      <td>95</td>\n",
       "      <td>93</td>\n",
       "    </tr>\n",
       "    <tr>\n",
       "      <th>3</th>\n",
       "      <td>male</td>\n",
       "      <td>group A</td>\n",
       "      <td>associate's degree</td>\n",
       "      <td>free/reduced</td>\n",
       "      <td>none</td>\n",
       "      <td>47</td>\n",
       "      <td>57</td>\n",
       "      <td>44</td>\n",
       "    </tr>\n",
       "    <tr>\n",
       "      <th>4</th>\n",
       "      <td>male</td>\n",
       "      <td>group C</td>\n",
       "      <td>some college</td>\n",
       "      <td>standard</td>\n",
       "      <td>none</td>\n",
       "      <td>76</td>\n",
       "      <td>78</td>\n",
       "      <td>75</td>\n",
       "    </tr>\n",
       "  </tbody>\n",
       "</table>\n",
       "</div>"
      ],
      "text/plain": [
       "   gender race_ethnicity parental_level_of_education         lunch  \\\n",
       "0  female        group B           bachelor's degree      standard   \n",
       "1  female        group C                some college      standard   \n",
       "2  female        group B             master's degree      standard   \n",
       "3    male        group A          associate's degree  free/reduced   \n",
       "4    male        group C                some college      standard   \n",
       "\n",
       "  test_preparation_course  math_score  reading_score  writing_score  \n",
       "0                    none          72             72             74  \n",
       "1               completed          69             90             88  \n",
       "2                    none          90             95             93  \n",
       "3                    none          47             57             44  \n",
       "4                    none          76             78             75  "
      ]
     },
     "execution_count": 3,
     "metadata": {},
     "output_type": "execute_result"
    }
   ],
   "source": [
    "stud = pd.read_csv('student.csv')\n",
    "stud.head()"
   ]
  },
  {
   "cell_type": "code",
   "execution_count": 38,
   "id": "2ef48cf1-12a3-41df-bf6b-abbfcbc4838c",
   "metadata": {},
   "outputs": [],
   "source": [
    "stud['total_score'] = stud['math_score'] + stud['reading_score'] + stud['writing_score']"
   ]
  },
  {
   "cell_type": "code",
   "execution_count": 40,
   "id": "c30c53b0-2fbf-43d7-8fc9-61d15efb10ac",
   "metadata": {},
   "outputs": [
    {
     "data": {
      "text/html": [
       "<div>\n",
       "<style scoped>\n",
       "    .dataframe tbody tr th:only-of-type {\n",
       "        vertical-align: middle;\n",
       "    }\n",
       "\n",
       "    .dataframe tbody tr th {\n",
       "        vertical-align: top;\n",
       "    }\n",
       "\n",
       "    .dataframe thead th {\n",
       "        text-align: right;\n",
       "    }\n",
       "</style>\n",
       "<table border=\"1\" class=\"dataframe\">\n",
       "  <thead>\n",
       "    <tr style=\"text-align: right;\">\n",
       "      <th></th>\n",
       "      <th>gender</th>\n",
       "      <th>race_ethnicity</th>\n",
       "      <th>parental_level_of_education</th>\n",
       "      <th>lunch</th>\n",
       "      <th>test_preparation_course</th>\n",
       "      <th>math_score</th>\n",
       "      <th>reading_score</th>\n",
       "      <th>writing_score</th>\n",
       "      <th>total_score</th>\n",
       "    </tr>\n",
       "  </thead>\n",
       "  <tbody>\n",
       "    <tr>\n",
       "      <th>0</th>\n",
       "      <td>female</td>\n",
       "      <td>group B</td>\n",
       "      <td>bachelor's degree</td>\n",
       "      <td>standard</td>\n",
       "      <td>none</td>\n",
       "      <td>72</td>\n",
       "      <td>72</td>\n",
       "      <td>74</td>\n",
       "      <td>218</td>\n",
       "    </tr>\n",
       "    <tr>\n",
       "      <th>1</th>\n",
       "      <td>female</td>\n",
       "      <td>group C</td>\n",
       "      <td>some college</td>\n",
       "      <td>standard</td>\n",
       "      <td>completed</td>\n",
       "      <td>69</td>\n",
       "      <td>90</td>\n",
       "      <td>88</td>\n",
       "      <td>247</td>\n",
       "    </tr>\n",
       "    <tr>\n",
       "      <th>2</th>\n",
       "      <td>female</td>\n",
       "      <td>group B</td>\n",
       "      <td>master's degree</td>\n",
       "      <td>standard</td>\n",
       "      <td>none</td>\n",
       "      <td>90</td>\n",
       "      <td>95</td>\n",
       "      <td>93</td>\n",
       "      <td>278</td>\n",
       "    </tr>\n",
       "    <tr>\n",
       "      <th>3</th>\n",
       "      <td>male</td>\n",
       "      <td>group A</td>\n",
       "      <td>associate's degree</td>\n",
       "      <td>free/reduced</td>\n",
       "      <td>none</td>\n",
       "      <td>47</td>\n",
       "      <td>57</td>\n",
       "      <td>44</td>\n",
       "      <td>148</td>\n",
       "    </tr>\n",
       "    <tr>\n",
       "      <th>4</th>\n",
       "      <td>male</td>\n",
       "      <td>group C</td>\n",
       "      <td>some college</td>\n",
       "      <td>standard</td>\n",
       "      <td>none</td>\n",
       "      <td>76</td>\n",
       "      <td>78</td>\n",
       "      <td>75</td>\n",
       "      <td>229</td>\n",
       "    </tr>\n",
       "  </tbody>\n",
       "</table>\n",
       "</div>"
      ],
      "text/plain": [
       "   gender race_ethnicity parental_level_of_education         lunch  \\\n",
       "0  female        group B           bachelor's degree      standard   \n",
       "1  female        group C                some college      standard   \n",
       "2  female        group B             master's degree      standard   \n",
       "3    male        group A          associate's degree  free/reduced   \n",
       "4    male        group C                some college      standard   \n",
       "\n",
       "  test_preparation_course  math_score  reading_score  writing_score  \\\n",
       "0                    none          72             72             74   \n",
       "1               completed          69             90             88   \n",
       "2                    none          90             95             93   \n",
       "3                    none          47             57             44   \n",
       "4                    none          76             78             75   \n",
       "\n",
       "   total_score  \n",
       "0          218  \n",
       "1          247  \n",
       "2          278  \n",
       "3          148  \n",
       "4          229  "
      ]
     },
     "execution_count": 40,
     "metadata": {},
     "output_type": "execute_result"
    }
   ],
   "source": [
    "stud.head() # with their total_score"
   ]
  },
  {
   "cell_type": "markdown",
   "id": "24d27d26-e30b-45e4-879f-270bf7732905",
   "metadata": {},
   "source": [
    "## The key factors which affect the student's performance most are math_score, reading_score and writing_score.\n",
    "- ## Therefore, we can use the person's correlation coefficient to analyze these factors for predicting the performance of the students."
   ]
  },
  {
   "cell_type": "code",
   "execution_count": 41,
   "id": "c9e1f91e-c33f-4348-9d1e-090539805c02",
   "metadata": {},
   "outputs": [
    {
     "data": {
      "text/html": [
       "<div>\n",
       "<style scoped>\n",
       "    .dataframe tbody tr th:only-of-type {\n",
       "        vertical-align: middle;\n",
       "    }\n",
       "\n",
       "    .dataframe tbody tr th {\n",
       "        vertical-align: top;\n",
       "    }\n",
       "\n",
       "    .dataframe thead th {\n",
       "        text-align: right;\n",
       "    }\n",
       "</style>\n",
       "<table border=\"1\" class=\"dataframe\">\n",
       "  <thead>\n",
       "    <tr style=\"text-align: right;\">\n",
       "      <th></th>\n",
       "      <th>math_score</th>\n",
       "      <th>reading_score</th>\n",
       "      <th>writing_score</th>\n",
       "      <th>total_score</th>\n",
       "    </tr>\n",
       "  </thead>\n",
       "  <tbody>\n",
       "    <tr>\n",
       "      <th>math_score</th>\n",
       "      <td>1.000000</td>\n",
       "      <td>0.817580</td>\n",
       "      <td>0.802642</td>\n",
       "      <td>0.918746</td>\n",
       "    </tr>\n",
       "    <tr>\n",
       "      <th>reading_score</th>\n",
       "      <td>0.817580</td>\n",
       "      <td>1.000000</td>\n",
       "      <td>0.954598</td>\n",
       "      <td>0.970331</td>\n",
       "    </tr>\n",
       "    <tr>\n",
       "      <th>writing_score</th>\n",
       "      <td>0.802642</td>\n",
       "      <td>0.954598</td>\n",
       "      <td>1.000000</td>\n",
       "      <td>0.965667</td>\n",
       "    </tr>\n",
       "    <tr>\n",
       "      <th>total_score</th>\n",
       "      <td>0.918746</td>\n",
       "      <td>0.970331</td>\n",
       "      <td>0.965667</td>\n",
       "      <td>1.000000</td>\n",
       "    </tr>\n",
       "  </tbody>\n",
       "</table>\n",
       "</div>"
      ],
      "text/plain": [
       "               math_score  reading_score  writing_score  total_score\n",
       "math_score       1.000000       0.817580       0.802642     0.918746\n",
       "reading_score    0.817580       1.000000       0.954598     0.970331\n",
       "writing_score    0.802642       0.954598       1.000000     0.965667\n",
       "total_score      0.918746       0.970331       0.965667     1.000000"
      ]
     },
     "execution_count": 41,
     "metadata": {},
     "output_type": "execute_result"
    }
   ],
   "source": [
    "stud[['math_score','reading_score','writing_score','total_score']].corr()"
   ]
  },
  {
   "cell_type": "markdown",
   "id": "17e4e519-7a79-4547-92f5-737a58fee3c9",
   "metadata": {},
   "source": [
    "## Interpreting the result\n",
    "## The pearson's correlation coefficient of the variances between key factors and performance of the students:\n",
    "- ### 1. math_score: The variance of the 'math_score' and 'total_score' is 0.91, which indicates that there is a strong positive correaltion between 'math_score' and 'tota_score' of students i.e., if 'math_score' increases, the 'total_score' of the student will also increases significantly.\n",
    "- ### 2. reading_score: The variance of the 'reading_score' and 'total_score' is 0.97, which indicates that there is a strong positive correaltion between 'reading_score' and 'tota_score' of students i.e., if 'reading_score' increases, the 'total_score' of the student will also increases significantly.\n",
    "- ### 3. writing_score: The variance of the 'writing_score' and 'total_score' is 0.96, which indicates that there is a strong positive correaltion between 'writing_score' and 'tota_score' of students i.e., if 'writing_score' increases, the 'total_score' of the student will also increases significantly."
   ]
  },
  {
   "cell_type": "markdown",
   "id": "a721c838-7354-4f95-bdb1-383c50fe72d7",
   "metadata": {},
   "source": []
  },
  {
   "cell_type": "markdown",
   "id": "bead1908-a320-4356-8a6a-fd11638fee51",
   "metadata": {},
   "source": []
  },
  {
   "cell_type": "markdown",
   "id": "9218ae7c-6dd1-4ba1-aef8-0d397c7339c4",
   "metadata": {},
   "source": []
  },
  {
   "cell_type": "markdown",
   "id": "6c6b5559-04fc-4542-bf02-45e0d3838b79",
   "metadata": {},
   "source": []
  },
  {
   "cell_type": "markdown",
   "id": "2505c851-3479-4935-9c5d-31b11a48ca75",
   "metadata": {},
   "source": []
  },
  {
   "cell_type": "markdown",
   "id": "43079a84-9038-443f-bab3-2ce68ab2d616",
   "metadata": {},
   "source": [
    "# Q4. Describe the process of feature engineering in the context of the student performance data set. How did you select and transform the variables for your model?"
   ]
  },
  {
   "cell_type": "code",
   "execution_count": 17,
   "id": "c8313853-46c8-4ce4-925a-7bb2149cb5b2",
   "metadata": {
    "tags": []
   },
   "outputs": [],
   "source": [
    "import pandas as pd\n",
    "stud = pd.read_csv('student.csv')"
   ]
  },
  {
   "cell_type": "code",
   "execution_count": 19,
   "id": "af3e6807-c558-4f7c-98d6-c252be758122",
   "metadata": {
    "tags": []
   },
   "outputs": [
    {
     "data": {
      "text/html": [
       "<div>\n",
       "<style scoped>\n",
       "    .dataframe tbody tr th:only-of-type {\n",
       "        vertical-align: middle;\n",
       "    }\n",
       "\n",
       "    .dataframe tbody tr th {\n",
       "        vertical-align: top;\n",
       "    }\n",
       "\n",
       "    .dataframe thead th {\n",
       "        text-align: right;\n",
       "    }\n",
       "</style>\n",
       "<table border=\"1\" class=\"dataframe\">\n",
       "  <thead>\n",
       "    <tr style=\"text-align: right;\">\n",
       "      <th></th>\n",
       "      <th>gender</th>\n",
       "      <th>race_ethnicity</th>\n",
       "      <th>parental_level_of_education</th>\n",
       "      <th>lunch</th>\n",
       "      <th>test_preparation_course</th>\n",
       "      <th>math_score</th>\n",
       "      <th>reading_score</th>\n",
       "      <th>writing_score</th>\n",
       "    </tr>\n",
       "  </thead>\n",
       "  <tbody>\n",
       "    <tr>\n",
       "      <th>0</th>\n",
       "      <td>female</td>\n",
       "      <td>group B</td>\n",
       "      <td>bachelor's degree</td>\n",
       "      <td>standard</td>\n",
       "      <td>none</td>\n",
       "      <td>72</td>\n",
       "      <td>72</td>\n",
       "      <td>74</td>\n",
       "    </tr>\n",
       "    <tr>\n",
       "      <th>1</th>\n",
       "      <td>female</td>\n",
       "      <td>group C</td>\n",
       "      <td>some college</td>\n",
       "      <td>standard</td>\n",
       "      <td>completed</td>\n",
       "      <td>69</td>\n",
       "      <td>90</td>\n",
       "      <td>88</td>\n",
       "    </tr>\n",
       "    <tr>\n",
       "      <th>2</th>\n",
       "      <td>female</td>\n",
       "      <td>group B</td>\n",
       "      <td>master's degree</td>\n",
       "      <td>standard</td>\n",
       "      <td>none</td>\n",
       "      <td>90</td>\n",
       "      <td>95</td>\n",
       "      <td>93</td>\n",
       "    </tr>\n",
       "    <tr>\n",
       "      <th>3</th>\n",
       "      <td>male</td>\n",
       "      <td>group A</td>\n",
       "      <td>associate's degree</td>\n",
       "      <td>free/reduced</td>\n",
       "      <td>none</td>\n",
       "      <td>47</td>\n",
       "      <td>57</td>\n",
       "      <td>44</td>\n",
       "    </tr>\n",
       "    <tr>\n",
       "      <th>4</th>\n",
       "      <td>male</td>\n",
       "      <td>group C</td>\n",
       "      <td>some college</td>\n",
       "      <td>standard</td>\n",
       "      <td>none</td>\n",
       "      <td>76</td>\n",
       "      <td>78</td>\n",
       "      <td>75</td>\n",
       "    </tr>\n",
       "  </tbody>\n",
       "</table>\n",
       "</div>"
      ],
      "text/plain": [
       "   gender race_ethnicity parental_level_of_education         lunch  \\\n",
       "0  female        group B           bachelor's degree      standard   \n",
       "1  female        group C                some college      standard   \n",
       "2  female        group B             master's degree      standard   \n",
       "3    male        group A          associate's degree  free/reduced   \n",
       "4    male        group C                some college      standard   \n",
       "\n",
       "  test_preparation_course  math_score  reading_score  writing_score  \n",
       "0                    none          72             72             74  \n",
       "1               completed          69             90             88  \n",
       "2                    none          90             95             93  \n",
       "3                    none          47             57             44  \n",
       "4                    none          76             78             75  "
      ]
     },
     "execution_count": 19,
     "metadata": {},
     "output_type": "execute_result"
    }
   ],
   "source": [
    "stud.head()"
   ]
  },
  {
   "cell_type": "code",
   "execution_count": 20,
   "id": "02708847-3cda-48e3-9207-ef7689eaff89",
   "metadata": {
    "tags": []
   },
   "outputs": [
    {
     "name": "stdout",
     "output_type": "stream",
     "text": [
      "<class 'pandas.core.frame.DataFrame'>\n",
      "RangeIndex: 1000 entries, 0 to 999\n",
      "Data columns (total 8 columns):\n",
      " #   Column                       Non-Null Count  Dtype \n",
      "---  ------                       --------------  ----- \n",
      " 0   gender                       1000 non-null   object\n",
      " 1   race_ethnicity               1000 non-null   object\n",
      " 2   parental_level_of_education  1000 non-null   object\n",
      " 3   lunch                        1000 non-null   object\n",
      " 4   test_preparation_course      1000 non-null   object\n",
      " 5   math_score                   1000 non-null   int64 \n",
      " 6   reading_score                1000 non-null   int64 \n",
      " 7   writing_score                1000 non-null   int64 \n",
      "dtypes: int64(3), object(5)\n",
      "memory usage: 62.6+ KB\n"
     ]
    }
   ],
   "source": [
    "stud.info()"
   ]
  },
  {
   "cell_type": "markdown",
   "id": "62e4363f-1233-44d9-813c-8bee0449a7c9",
   "metadata": {},
   "source": [
    "## Feature engineering is the process of selecting and transforming the raw data into a set of features that are suitable for machine learning algorithms. In the context of the student performance data set, feature engineering could involve selecting the relevant variables, transforming the variables to make them suitable for modeling, and creating new features that capture important information.\n",
    "\n",
    "### Here are some possible steps for feature engineering in the context of the student performance data set:\n",
    "\n",
    "- ### 1. Data exploration: The first step in feature engineering is to explore the data and gain a better understanding of the variables and their relationships. This can involve visualizing the data, computing summary statistics, and identifying patterns and outliers.\n",
    "\n",
    "- ### 2. Variable selection: The next step is to select the variables that are relevant for the modeling task. In the case of the student performance data set, some of the variables that might be relevant include demographic information (e.g., gender, race_ethnicity), socio-economic status (e.g., parental_level_of_education) and performance variables (e.g., math_score, reading_score and writing_score).\n",
    "\n",
    "- ### 3. Variable transformation: Once the variables are selected, they may need to be transformed to make them suitable for modeling. For example, continuous variables may need to be standardized or normalized, categorical variables may need to be one-hot encoded, and ordinal variables may need to be encoded as numeric values.\n",
    "\n",
    "- ### 4. Feature creation: In addition to selecting and transforming the existing variables, new features can be created that capture important information. For example, a feature that represents the total_score of all subjects, a feature that represents the student's performance based on their parental_level_of_education.\n",
    "\n",
    "- ### 5. Feature selection: Finally, the set of features can be further refined by selecting the most relevant features for the modeling task. This can involve using techniques such as correlation analysis, feature importance ranking, or dimensionality reduction."
   ]
  },
  {
   "cell_type": "markdown",
   "id": "ec9c5349-fd25-4af1-92b5-88bb5697c621",
   "metadata": {},
   "source": []
  },
  {
   "cell_type": "markdown",
   "id": "60e891d5-f3f3-45f0-98c4-8b1f8ff82a13",
   "metadata": {},
   "source": []
  },
  {
   "cell_type": "markdown",
   "id": "05840c48-f82e-44b9-9000-465c181d3ceb",
   "metadata": {},
   "source": []
  },
  {
   "cell_type": "markdown",
   "id": "52da355a-d76e-41fa-8e73-53f4e65da4e9",
   "metadata": {},
   "source": []
  },
  {
   "cell_type": "markdown",
   "id": "496a3fbd-c5c5-44e5-aecb-59d002689ec8",
   "metadata": {},
   "source": []
  },
  {
   "cell_type": "markdown",
   "id": "62fa6161-9c9f-45fd-9486-2d8a8d7e1678",
   "metadata": {},
   "source": [
    "# Q5. Load the wine quality data set and perform exploratory data analysis (EDA) to identify the distribution of each feature. Which feature(s) exhibit non-normality, and what transformations could be applied to these features to improve normality?"
   ]
  },
  {
   "cell_type": "markdown",
   "id": "b26cac4d-4cd1-46be-9585-3e3b01f7d393",
   "metadata": {},
   "source": [
    "### What is Transformation ?\n",
    "#### Transformation is a process in feature engineering where the original features of a dataset are transformed into new features that are more suitable for a machine learning model. Transformations can be applied to both numerical and categorical features.\n",
    "\n",
    "- Numerical features can be transformed by applying mathematical functions to them. For example, a logarithmic transformation can be applied to a skewed feature to make it more normal. Another example is scaling, where the feature values are normalized to a common scale, such as between 0 and 1.\n",
    "\n",
    "- Categorical features can be transformed by encoding them into numerical features that can be used by machine learning algorithms. One common approach is one-hot encoding, where each unique category is transformed into a binary feature that represents its presence or absence.\n",
    "\n",
    "- Transformations are important in feature engineering because they can improve the performance of machine learning models. By transforming features, we can make them more suitable for a given model or algorithm, and also help to reduce noise, remove outliers and correct for skewness in the data.\n",
    "#### Types of Transformation\n",
    "- Power transformation: This involves raising a feature to a power, such as squaring or cubing it. This can be used to reduce the effect of extreme values and make the distribution more symmetrical.\n",
    "\n",
    "- Logarithmic transformation: This involves taking the logarithm of a feature. This can be used to reduce the effect of extreme values and make the distribution more symmetrical.\n",
    "\n",
    "- Square root transformation: This involves taking the square root of a feature. This can be used to reduce the effect of extreme values and make the distribution more symmetrical.\n",
    "\n",
    "- Box-Cox transformation: This is a family of power transformations that includes logarithmic and square root transformations as special cases. The Box-Cox transformation involves finding the optimal power transformation for a feature that maximizes the normality of its distribution.\n",
    "\n",
    "- Scaling: This involves rescaling a feature to a common scale, such as between 0 and 1. This can be used to standardize the range of values across different features and make them comparable.\n",
    "\n",
    "- Binning: This involves grouping a feature into bins based on its values. This can be used to reduce noise and make the feature more manageable.\n",
    "\n",
    "- Encoding: This involves transforming categorical features into numerical features that can be used by machine learning algorithms. One common approach is one-hot encoding, where each unique category is transformed into a binary feature that represents its presence or absence."
   ]
  },
  {
   "cell_type": "code",
   "execution_count": 1,
   "id": "36c189d5-d7a3-4655-8180-82afeed28d42",
   "metadata": {
    "tags": []
   },
   "outputs": [],
   "source": [
    "import numpy as np\n",
    "import pandas as pd\n",
    "import seaborn as sns\n",
    "import matplotlib.pyplot as plt"
   ]
  },
  {
   "cell_type": "code",
   "execution_count": 25,
   "id": "a0080f0a-ee94-411c-857d-d8c678c67220",
   "metadata": {
    "tags": []
   },
   "outputs": [
    {
     "data": {
      "text/html": [
       "<div>\n",
       "<style scoped>\n",
       "    .dataframe tbody tr th:only-of-type {\n",
       "        vertical-align: middle;\n",
       "    }\n",
       "\n",
       "    .dataframe tbody tr th {\n",
       "        vertical-align: top;\n",
       "    }\n",
       "\n",
       "    .dataframe thead th {\n",
       "        text-align: right;\n",
       "    }\n",
       "</style>\n",
       "<table border=\"1\" class=\"dataframe\">\n",
       "  <thead>\n",
       "    <tr style=\"text-align: right;\">\n",
       "      <th></th>\n",
       "      <th>fixed acidity</th>\n",
       "      <th>volatile acidity</th>\n",
       "      <th>citric acid</th>\n",
       "      <th>residual sugar</th>\n",
       "      <th>chlorides</th>\n",
       "      <th>free sulfur dioxide</th>\n",
       "      <th>total sulfur dioxide</th>\n",
       "      <th>density</th>\n",
       "      <th>pH</th>\n",
       "      <th>sulphates</th>\n",
       "      <th>alcohol</th>\n",
       "      <th>quality</th>\n",
       "    </tr>\n",
       "  </thead>\n",
       "  <tbody>\n",
       "    <tr>\n",
       "      <th>0</th>\n",
       "      <td>7.4</td>\n",
       "      <td>0.70</td>\n",
       "      <td>0.00</td>\n",
       "      <td>1.9</td>\n",
       "      <td>0.076</td>\n",
       "      <td>11.0</td>\n",
       "      <td>34.0</td>\n",
       "      <td>0.9978</td>\n",
       "      <td>3.51</td>\n",
       "      <td>0.56</td>\n",
       "      <td>9.4</td>\n",
       "      <td>5</td>\n",
       "    </tr>\n",
       "    <tr>\n",
       "      <th>1</th>\n",
       "      <td>7.8</td>\n",
       "      <td>0.88</td>\n",
       "      <td>0.00</td>\n",
       "      <td>2.6</td>\n",
       "      <td>0.098</td>\n",
       "      <td>25.0</td>\n",
       "      <td>67.0</td>\n",
       "      <td>0.9968</td>\n",
       "      <td>3.20</td>\n",
       "      <td>0.68</td>\n",
       "      <td>9.8</td>\n",
       "      <td>5</td>\n",
       "    </tr>\n",
       "    <tr>\n",
       "      <th>2</th>\n",
       "      <td>7.8</td>\n",
       "      <td>0.76</td>\n",
       "      <td>0.04</td>\n",
       "      <td>2.3</td>\n",
       "      <td>0.092</td>\n",
       "      <td>15.0</td>\n",
       "      <td>54.0</td>\n",
       "      <td>0.9970</td>\n",
       "      <td>3.26</td>\n",
       "      <td>0.65</td>\n",
       "      <td>9.8</td>\n",
       "      <td>5</td>\n",
       "    </tr>\n",
       "    <tr>\n",
       "      <th>3</th>\n",
       "      <td>11.2</td>\n",
       "      <td>0.28</td>\n",
       "      <td>0.56</td>\n",
       "      <td>1.9</td>\n",
       "      <td>0.075</td>\n",
       "      <td>17.0</td>\n",
       "      <td>60.0</td>\n",
       "      <td>0.9980</td>\n",
       "      <td>3.16</td>\n",
       "      <td>0.58</td>\n",
       "      <td>9.8</td>\n",
       "      <td>6</td>\n",
       "    </tr>\n",
       "    <tr>\n",
       "      <th>4</th>\n",
       "      <td>7.4</td>\n",
       "      <td>0.70</td>\n",
       "      <td>0.00</td>\n",
       "      <td>1.9</td>\n",
       "      <td>0.076</td>\n",
       "      <td>11.0</td>\n",
       "      <td>34.0</td>\n",
       "      <td>0.9978</td>\n",
       "      <td>3.51</td>\n",
       "      <td>0.56</td>\n",
       "      <td>9.4</td>\n",
       "      <td>5</td>\n",
       "    </tr>\n",
       "  </tbody>\n",
       "</table>\n",
       "</div>"
      ],
      "text/plain": [
       "   fixed acidity  volatile acidity  citric acid  residual sugar  chlorides  \\\n",
       "0            7.4              0.70         0.00             1.9      0.076   \n",
       "1            7.8              0.88         0.00             2.6      0.098   \n",
       "2            7.8              0.76         0.04             2.3      0.092   \n",
       "3           11.2              0.28         0.56             1.9      0.075   \n",
       "4            7.4              0.70         0.00             1.9      0.076   \n",
       "\n",
       "   free sulfur dioxide  total sulfur dioxide  density    pH  sulphates  \\\n",
       "0                 11.0                  34.0   0.9978  3.51       0.56   \n",
       "1                 25.0                  67.0   0.9968  3.20       0.68   \n",
       "2                 15.0                  54.0   0.9970  3.26       0.65   \n",
       "3                 17.0                  60.0   0.9980  3.16       0.58   \n",
       "4                 11.0                  34.0   0.9978  3.51       0.56   \n",
       "\n",
       "   alcohol  quality  \n",
       "0      9.4        5  \n",
       "1      9.8        5  \n",
       "2      9.8        5  \n",
       "3      9.8        6  \n",
       "4      9.4        5  "
      ]
     },
     "execution_count": 25,
     "metadata": {},
     "output_type": "execute_result"
    }
   ],
   "source": [
    "wine = pd.read_csv('wine_quality_red.csv')\n",
    "wine.head()"
   ]
  },
  {
   "cell_type": "code",
   "execution_count": 26,
   "id": "abe8defb-44c6-4a25-b86a-703775c705db",
   "metadata": {
    "tags": []
   },
   "outputs": [
    {
     "data": {
      "image/png": "[encoded data removed]",
      "text/plain": [
       "<Figure size 1500x1000 with 12 Axes>"
      ]
     },
     "metadata": {},
     "output_type": "display_data"
    }
   ],
   "source": [
    "wine.hist(bins=25, figsize=(15, 10))\n",
    "plt.show()"
   ]
  },
  {
   "cell_type": "markdown",
   "id": "4423ca52-d7a8-4d93-82e8-27755bea1d76",
   "metadata": {
    "tags": []
   },
   "source": [
    "## Based on the histograms, we can see that most features have normla or nearly-normal distribution, with the exception of \"residual sugar\" and \"chlorides\". They could benefit from transformations to improve normality. We can use either of the following :\n",
    "- ##### A logarithmic transformation is used when a feature has a long right tail and its distribution is positively skewed. This is common in features that have a wide range of values, such as income or population. By applying a logarithmic transformation to the feature, we can compress the range of values and reduce the skewness. This can help to make the feature more suitable for machine learning algorithms that assume normality.\n",
    "\n",
    "- ##### A square root transformation is used when a feature has a long right tail and its distribution is positively skewed, but to a lesser extent than features that require a logarithmic transformation. This transformation is also effective in reducing the range of values and skewness, but it is not as aggressive as a logarithmic transformation. It is often used when the values of the feature are not as extreme as those in features that require a logarithmic transformation, such as count data.\n",
    "\n",
    "- ##### An exponential transformation is a technique used to transform data that has a non-linear relationship between the mean and variance. This transformation can help to stabilize the variance of the data and make it more suitable for analysis using linear regression or other statistical methods."
   ]
  },
  {
   "cell_type": "markdown",
   "id": "c50fdcfe-3eb9-451a-a621-e66726b612d9",
   "metadata": {},
   "source": [
    "## Transformation of features"
   ]
  },
  {
   "cell_type": "code",
   "execution_count": 27,
   "id": "5f8e538c-cbe7-48e3-ada7-efe874334a64",
   "metadata": {
    "tags": []
   },
   "outputs": [],
   "source": [
    "wine['residual sugar'] = np.log(wine['residual sugar'])"
   ]
  },
  {
   "cell_type": "code",
   "execution_count": 28,
   "id": "f61d5714-30a8-4ba5-8b55-9abdb13d2c1e",
   "metadata": {
    "tags": []
   },
   "outputs": [],
   "source": [
    "wine['chlorides'] = np.sqrt(wine['chlorides'])"
   ]
  },
  {
   "cell_type": "code",
   "execution_count": 29,
   "id": "e930cf5b-7cde-4aa2-a107-927c4577639b",
   "metadata": {
    "tags": []
   },
   "outputs": [
    {
     "data": {
      "text/html": [
       "<div>\n",
       "<style scoped>\n",
       "    .dataframe tbody tr th:only-of-type {\n",
       "        vertical-align: middle;\n",
       "    }\n",
       "\n",
       "    .dataframe tbody tr th {\n",
       "        vertical-align: top;\n",
       "    }\n",
       "\n",
       "    .dataframe thead th {\n",
       "        text-align: right;\n",
       "    }\n",
       "</style>\n",
       "<table border=\"1\" class=\"dataframe\">\n",
       "  <thead>\n",
       "    <tr style=\"text-align: right;\">\n",
       "      <th></th>\n",
       "      <th>fixed acidity</th>\n",
       "      <th>volatile acidity</th>\n",
       "      <th>citric acid</th>\n",
       "      <th>residual sugar</th>\n",
       "      <th>chlorides</th>\n",
       "      <th>free sulfur dioxide</th>\n",
       "      <th>total sulfur dioxide</th>\n",
       "      <th>density</th>\n",
       "      <th>pH</th>\n",
       "      <th>sulphates</th>\n",
       "      <th>alcohol</th>\n",
       "      <th>quality</th>\n",
       "    </tr>\n",
       "  </thead>\n",
       "  <tbody>\n",
       "    <tr>\n",
       "      <th>0</th>\n",
       "      <td>7.4</td>\n",
       "      <td>0.70</td>\n",
       "      <td>0.00</td>\n",
       "      <td>0.641854</td>\n",
       "      <td>0.275681</td>\n",
       "      <td>11.0</td>\n",
       "      <td>34.0</td>\n",
       "      <td>0.9978</td>\n",
       "      <td>3.51</td>\n",
       "      <td>0.56</td>\n",
       "      <td>9.4</td>\n",
       "      <td>5</td>\n",
       "    </tr>\n",
       "    <tr>\n",
       "      <th>1</th>\n",
       "      <td>7.8</td>\n",
       "      <td>0.88</td>\n",
       "      <td>0.00</td>\n",
       "      <td>0.955511</td>\n",
       "      <td>0.313050</td>\n",
       "      <td>25.0</td>\n",
       "      <td>67.0</td>\n",
       "      <td>0.9968</td>\n",
       "      <td>3.20</td>\n",
       "      <td>0.68</td>\n",
       "      <td>9.8</td>\n",
       "      <td>5</td>\n",
       "    </tr>\n",
       "    <tr>\n",
       "      <th>2</th>\n",
       "      <td>7.8</td>\n",
       "      <td>0.76</td>\n",
       "      <td>0.04</td>\n",
       "      <td>0.832909</td>\n",
       "      <td>0.303315</td>\n",
       "      <td>15.0</td>\n",
       "      <td>54.0</td>\n",
       "      <td>0.9970</td>\n",
       "      <td>3.26</td>\n",
       "      <td>0.65</td>\n",
       "      <td>9.8</td>\n",
       "      <td>5</td>\n",
       "    </tr>\n",
       "    <tr>\n",
       "      <th>3</th>\n",
       "      <td>11.2</td>\n",
       "      <td>0.28</td>\n",
       "      <td>0.56</td>\n",
       "      <td>0.641854</td>\n",
       "      <td>0.273861</td>\n",
       "      <td>17.0</td>\n",
       "      <td>60.0</td>\n",
       "      <td>0.9980</td>\n",
       "      <td>3.16</td>\n",
       "      <td>0.58</td>\n",
       "      <td>9.8</td>\n",
       "      <td>6</td>\n",
       "    </tr>\n",
       "    <tr>\n",
       "      <th>4</th>\n",
       "      <td>7.4</td>\n",
       "      <td>0.70</td>\n",
       "      <td>0.00</td>\n",
       "      <td>0.641854</td>\n",
       "      <td>0.275681</td>\n",
       "      <td>11.0</td>\n",
       "      <td>34.0</td>\n",
       "      <td>0.9978</td>\n",
       "      <td>3.51</td>\n",
       "      <td>0.56</td>\n",
       "      <td>9.4</td>\n",
       "      <td>5</td>\n",
       "    </tr>\n",
       "  </tbody>\n",
       "</table>\n",
       "</div>"
      ],
      "text/plain": [
       "   fixed acidity  volatile acidity  citric acid  residual sugar  chlorides  \\\n",
       "0            7.4              0.70         0.00        0.641854   0.275681   \n",
       "1            7.8              0.88         0.00        0.955511   0.313050   \n",
       "2            7.8              0.76         0.04        0.832909   0.303315   \n",
       "3           11.2              0.28         0.56        0.641854   0.273861   \n",
       "4            7.4              0.70         0.00        0.641854   0.275681   \n",
       "\n",
       "   free sulfur dioxide  total sulfur dioxide  density    pH  sulphates  \\\n",
       "0                 11.0                  34.0   0.9978  3.51       0.56   \n",
       "1                 25.0                  67.0   0.9968  3.20       0.68   \n",
       "2                 15.0                  54.0   0.9970  3.26       0.65   \n",
       "3                 17.0                  60.0   0.9980  3.16       0.58   \n",
       "4                 11.0                  34.0   0.9978  3.51       0.56   \n",
       "\n",
       "   alcohol  quality  \n",
       "0      9.4        5  \n",
       "1      9.8        5  \n",
       "2      9.8        5  \n",
       "3      9.8        6  \n",
       "4      9.4        5  "
      ]
     },
     "execution_count": 29,
     "metadata": {},
     "output_type": "execute_result"
    }
   ],
   "source": [
    "wine.head()"
   ]
  },
  {
   "cell_type": "code",
   "execution_count": 30,
   "id": "d6ab174e-0dfd-425a-a73c-12f6aec2597e",
   "metadata": {
    "tags": []
   },
   "outputs": [
    {
     "data": {
      "image/png": "[encoded data removed]",
      "text/plain": [
       "<Figure size 1500x1000 with 12 Axes>"
      ]
     },
     "metadata": {},
     "output_type": "display_data"
    }
   ],
   "source": [
    "wine.hist(bins=20,figsize = (15,10))\n",
    "plt.show()"
   ]
  },
  {
   "cell_type": "markdown",
   "id": "8229eced-dd66-46ad-ba2c-a9450efa3110",
   "metadata": {},
   "source": [
    "## After applying logarithmic and square root transformation to the right-skewed distribution, we have successfully improve the normality."
   ]
  },
  {
   "cell_type": "markdown",
   "id": "b1e81c46-c9bb-478e-ae58-7c1030d79169",
   "metadata": {},
   "source": []
  },
  {
   "cell_type": "markdown",
   "id": "765648e0-9bf2-4b2d-99c3-1a5bdd3c81e9",
   "metadata": {},
   "source": []
  },
  {
   "cell_type": "markdown",
   "id": "60835b96-5715-4240-98b5-0d2a5e7e3f5f",
   "metadata": {},
   "source": []
  },
  {
   "cell_type": "markdown",
   "id": "5f6e7ae1-56f4-4656-abb5-0600aefc7a94",
   "metadata": {},
   "source": []
  },
  {
   "cell_type": "markdown",
   "id": "64b0bd83-a99b-4999-92c5-9118300f6a72",
   "metadata": {},
   "source": []
  },
  {
   "cell_type": "markdown",
   "id": "bdf3af0a-35b9-4b7e-8ea4-bb29e08a9436",
   "metadata": {},
   "source": [
    "# Q6. Using the wine quality data set, perform principal component analysis (PCA) to reduce the number of features. What is the minimum number of principal components required to explain 90% of the variance in the data?"
   ]
  },
  {
   "cell_type": "code",
   "execution_count": 101,
   "id": "580431cb-7821-4969-823e-d8b00e759459",
   "metadata": {
    "tags": []
   },
   "outputs": [],
   "source": [
    "import matplotlib.pyplot as plt\n",
    "import numpy as np\n",
    "import pandas as pd\n",
    "%matplotlib inline"
   ]
  },
  {
   "cell_type": "code",
   "execution_count": 102,
   "id": "ad8a9668-31d7-42b4-be9a-522ff3c1533c",
   "metadata": {
    "tags": []
   },
   "outputs": [],
   "source": [
    "wine = pd.read_csv('wine_quality_red.csv')"
   ]
  },
  {
   "cell_type": "code",
   "execution_count": 103,
   "id": "2d352c00-5221-43e3-8593-a0aa38c55b8a",
   "metadata": {
    "tags": []
   },
   "outputs": [
    {
     "data": {
      "text/html": [
       "<div>\n",
       "<style scoped>\n",
       "    .dataframe tbody tr th:only-of-type {\n",
       "        vertical-align: middle;\n",
       "    }\n",
       "\n",
       "    .dataframe tbody tr th {\n",
       "        vertical-align: top;\n",
       "    }\n",
       "\n",
       "    .dataframe thead th {\n",
       "        text-align: right;\n",
       "    }\n",
       "</style>\n",
       "<table border=\"1\" class=\"dataframe\">\n",
       "  <thead>\n",
       "    <tr style=\"text-align: right;\">\n",
       "      <th></th>\n",
       "      <th>fixed acidity</th>\n",
       "      <th>volatile acidity</th>\n",
       "      <th>citric acid</th>\n",
       "      <th>residual sugar</th>\n",
       "      <th>chlorides</th>\n",
       "      <th>free sulfur dioxide</th>\n",
       "      <th>total sulfur dioxide</th>\n",
       "      <th>density</th>\n",
       "      <th>pH</th>\n",
       "      <th>sulphates</th>\n",
       "      <th>alcohol</th>\n",
       "      <th>quality</th>\n",
       "    </tr>\n",
       "  </thead>\n",
       "  <tbody>\n",
       "    <tr>\n",
       "      <th>0</th>\n",
       "      <td>7.4</td>\n",
       "      <td>0.70</td>\n",
       "      <td>0.00</td>\n",
       "      <td>1.9</td>\n",
       "      <td>0.076</td>\n",
       "      <td>11.0</td>\n",
       "      <td>34.0</td>\n",
       "      <td>0.9978</td>\n",
       "      <td>3.51</td>\n",
       "      <td>0.56</td>\n",
       "      <td>9.4</td>\n",
       "      <td>5</td>\n",
       "    </tr>\n",
       "    <tr>\n",
       "      <th>1</th>\n",
       "      <td>7.8</td>\n",
       "      <td>0.88</td>\n",
       "      <td>0.00</td>\n",
       "      <td>2.6</td>\n",
       "      <td>0.098</td>\n",
       "      <td>25.0</td>\n",
       "      <td>67.0</td>\n",
       "      <td>0.9968</td>\n",
       "      <td>3.20</td>\n",
       "      <td>0.68</td>\n",
       "      <td>9.8</td>\n",
       "      <td>5</td>\n",
       "    </tr>\n",
       "    <tr>\n",
       "      <th>2</th>\n",
       "      <td>7.8</td>\n",
       "      <td>0.76</td>\n",
       "      <td>0.04</td>\n",
       "      <td>2.3</td>\n",
       "      <td>0.092</td>\n",
       "      <td>15.0</td>\n",
       "      <td>54.0</td>\n",
       "      <td>0.9970</td>\n",
       "      <td>3.26</td>\n",
       "      <td>0.65</td>\n",
       "      <td>9.8</td>\n",
       "      <td>5</td>\n",
       "    </tr>\n",
       "    <tr>\n",
       "      <th>3</th>\n",
       "      <td>11.2</td>\n",
       "      <td>0.28</td>\n",
       "      <td>0.56</td>\n",
       "      <td>1.9</td>\n",
       "      <td>0.075</td>\n",
       "      <td>17.0</td>\n",
       "      <td>60.0</td>\n",
       "      <td>0.9980</td>\n",
       "      <td>3.16</td>\n",
       "      <td>0.58</td>\n",
       "      <td>9.8</td>\n",
       "      <td>6</td>\n",
       "    </tr>\n",
       "    <tr>\n",
       "      <th>4</th>\n",
       "      <td>7.4</td>\n",
       "      <td>0.70</td>\n",
       "      <td>0.00</td>\n",
       "      <td>1.9</td>\n",
       "      <td>0.076</td>\n",
       "      <td>11.0</td>\n",
       "      <td>34.0</td>\n",
       "      <td>0.9978</td>\n",
       "      <td>3.51</td>\n",
       "      <td>0.56</td>\n",
       "      <td>9.4</td>\n",
       "      <td>5</td>\n",
       "    </tr>\n",
       "  </tbody>\n",
       "</table>\n",
       "</div>"
      ],
      "text/plain": [
       "   fixed acidity  volatile acidity  citric acid  residual sugar  chlorides  \\\n",
       "0            7.4              0.70         0.00             1.9      0.076   \n",
       "1            7.8              0.88         0.00             2.6      0.098   \n",
       "2            7.8              0.76         0.04             2.3      0.092   \n",
       "3           11.2              0.28         0.56             1.9      0.075   \n",
       "4            7.4              0.70         0.00             1.9      0.076   \n",
       "\n",
       "   free sulfur dioxide  total sulfur dioxide  density    pH  sulphates  \\\n",
       "0                 11.0                  34.0   0.9978  3.51       0.56   \n",
       "1                 25.0                  67.0   0.9968  3.20       0.68   \n",
       "2                 15.0                  54.0   0.9970  3.26       0.65   \n",
       "3                 17.0                  60.0   0.9980  3.16       0.58   \n",
       "4                 11.0                  34.0   0.9978  3.51       0.56   \n",
       "\n",
       "   alcohol  quality  \n",
       "0      9.4        5  \n",
       "1      9.8        5  \n",
       "2      9.8        5  \n",
       "3      9.8        6  \n",
       "4      9.4        5  "
      ]
     },
     "execution_count": 103,
     "metadata": {},
     "output_type": "execute_result"
    }
   ],
   "source": [
    "wine.head()"
   ]
  },
  {
   "cell_type": "markdown",
   "id": "221d53d2-a4c8-46f4-9871-e3781468303f",
   "metadata": {},
   "source": [
    "## Data Standardization"
   ]
  },
  {
   "cell_type": "code",
   "execution_count": 104,
   "id": "b33ac42b-618f-47ed-aaa4-7d7642643939",
   "metadata": {
    "tags": []
   },
   "outputs": [],
   "source": [
    "from sklearn.preprocessing import StandardScaler"
   ]
  },
  {
   "cell_type": "code",
   "execution_count": 105,
   "id": "a7456d6d-3143-4209-9b3d-9f77de61ec7d",
   "metadata": {
    "tags": []
   },
   "outputs": [],
   "source": [
    "scaler = StandardScaler()"
   ]
  },
  {
   "cell_type": "code",
   "execution_count": 106,
   "id": "e0ae61bb-4f5e-4961-bc7f-ee6c4b7edf57",
   "metadata": {
    "tags": []
   },
   "outputs": [
    {
     "data": {
      "text/html": [
       "<style>#sk-container-id-8 {color: black;background-color: white;}#sk-container-id-8 pre{padding: 0;}#sk-container-id-8 div.sk-toggleable {background-color: white;}#sk-container-id-8 label.sk-toggleable__label {cursor: pointer;display: block;width: 100%;margin-bottom: 0;padding: 0.3em;box-sizing: border-box;text-align: center;}#sk-container-id-8 label.sk-toggleable__label-arrow:before {content: \"▸\";float: left;margin-right: 0.25em;color: #696969;}#sk-container-id-8 label.sk-toggleable__label-arrow:hover:before {color: black;}#sk-container-id-8 div.sk-estimator:hover label.sk-toggleable__label-arrow:before {color: black;}#sk-container-id-8 div.sk-toggleable__content {max-height: 0;max-width: 0;overflow: hidden;text-align: left;background-color: #f0f8ff;}#sk-container-id-8 div.sk-toggleable__content pre {margin: 0.2em;color: black;border-radius: 0.25em;background-color: #f0f8ff;}#sk-container-id-8 input.sk-toggleable__control:checked~div.sk-toggleable__content {max-height: 200px;max-width: 100%;overflow: auto;}#sk-container-id-8 input.sk-toggleable__control:checked~label.sk-toggleable__label-arrow:before {content: \"▾\";}#sk-container-id-8 div.sk-estimator input.sk-toggleable__control:checked~label.sk-toggleable__label {background-color: #d4ebff;}#sk-container-id-8 div.sk-label input.sk-toggleable__control:checked~label.sk-toggleable__label {background-color: #d4ebff;}#sk-container-id-8 input.sk-hidden--visually {border: 0;clip: rect(1px 1px 1px 1px);clip: rect(1px, 1px, 1px, 1px);height: 1px;margin: -1px;overflow: hidden;padding: 0;position: absolute;width: 1px;}#sk-container-id-8 div.sk-estimator {font-family: monospace;background-color: #f0f8ff;border: 1px dotted black;border-radius: 0.25em;box-sizing: border-box;margin-bottom: 0.5em;}#sk-container-id-8 div.sk-estimator:hover {background-color: #d4ebff;}#sk-container-id-8 div.sk-parallel-item::after {content: \"\";width: 100%;border-bottom: 1px solid gray;flex-grow: 1;}#sk-container-id-8 div.sk-label:hover label.sk-toggleable__label {background-color: #d4ebff;}#sk-container-id-8 div.sk-serial::before {content: \"\";position: absolute;border-left: 1px solid gray;box-sizing: border-box;top: 0;bottom: 0;left: 50%;z-index: 0;}#sk-container-id-8 div.sk-serial {display: flex;flex-direction: column;align-items: center;background-color: white;padding-right: 0.2em;padding-left: 0.2em;position: relative;}#sk-container-id-8 div.sk-item {position: relative;z-index: 1;}#sk-container-id-8 div.sk-parallel {display: flex;align-items: stretch;justify-content: center;background-color: white;position: relative;}#sk-container-id-8 div.sk-item::before, #sk-container-id-8 div.sk-parallel-item::before {content: \"\";position: absolute;border-left: 1px solid gray;box-sizing: border-box;top: 0;bottom: 0;left: 50%;z-index: -1;}#sk-container-id-8 div.sk-parallel-item {display: flex;flex-direction: column;z-index: 1;position: relative;background-color: white;}#sk-container-id-8 div.sk-parallel-item:first-child::after {align-self: flex-end;width: 50%;}#sk-container-id-8 div.sk-parallel-item:last-child::after {align-self: flex-start;width: 50%;}#sk-container-id-8 div.sk-parallel-item:only-child::after {width: 0;}#sk-container-id-8 div.sk-dashed-wrapped {border: 1px dashed gray;margin: 0 0.4em 0.5em 0.4em;box-sizing: border-box;padding-bottom: 0.4em;background-color: white;}#sk-container-id-8 div.sk-label label {font-family: monospace;font-weight: bold;display: inline-block;line-height: 1.2em;}#sk-container-id-8 div.sk-label-container {text-align: center;}#sk-container-id-8 div.sk-container {/* jupyter's `normalize.less` sets `[hidden] { display: none; }` but bootstrap.min.css set `[hidden] { display: none !important; }` so we also need the `!important` here to be able to override the default hidden behavior on the sphinx rendered scikit-learn.org. See: https://github.com/scikit-learn/scikit-learn/issues/21755 */display: inline-block !important;position: relative;}#sk-container-id-8 div.sk-text-repr-fallback {display: none;}</style><div id=\"sk-container-id-8\" class=\"sk-top-container\"><div class=\"sk-text-repr-fallback\"><pre>StandardScaler()</pre><b>In a Jupyter environment, please rerun this cell to show the HTML representation or trust the notebook. <br />On GitHub, the HTML representation is unable to render, please try loading this page with nbviewer.org.</b></div><div class=\"sk-container\" hidden><div class=\"sk-item\"><div class=\"sk-estimator sk-toggleable\"><input class=\"sk-toggleable__control sk-hidden--visually\" id=\"sk-estimator-id-8\" type=\"checkbox\" checked><label for=\"sk-estimator-id-8\" class=\"sk-toggleable__label sk-toggleable__label-arrow\">StandardScaler</label><div class=\"sk-toggleable__content\"><pre>StandardScaler()</pre></div></div></div></div></div>"
      ],
      "text/plain": [
       "StandardScaler()"
      ]
     },
     "execution_count": 106,
     "metadata": {},
     "output_type": "execute_result"
    }
   ],
   "source": [
    "scaler.fit(wine)"
   ]
  },
  {
   "cell_type": "code",
   "execution_count": 107,
   "id": "f1e55145-00b6-4907-a5d3-a8bd77aa77a3",
   "metadata": {
    "tags": []
   },
   "outputs": [],
   "source": [
    "scaled_wine = scaler.transform(wine)"
   ]
  },
  {
   "cell_type": "code",
   "execution_count": 108,
   "id": "ee0b3047-0c95-4808-a3fd-2f4076e30b4e",
   "metadata": {
    "tags": []
   },
   "outputs": [
    {
     "data": {
      "text/plain": [
       "array([[-0.52835961,  0.96187667, -1.39147228, ..., -0.57920652,\n",
       "        -0.96024611, -0.78782264],\n",
       "       [-0.29854743,  1.96744245, -1.39147228, ...,  0.1289504 ,\n",
       "        -0.58477711, -0.78782264],\n",
       "       [-0.29854743,  1.29706527, -1.18607043, ..., -0.04808883,\n",
       "        -0.58477711, -0.78782264],\n",
       "       ...,\n",
       "       [-1.1603431 , -0.09955388, -0.72391627, ...,  0.54204194,\n",
       "         0.54162988,  0.45084835],\n",
       "       [-1.39015528,  0.65462046, -0.77526673, ...,  0.30598963,\n",
       "        -0.20930812, -0.78782264],\n",
       "       [-1.33270223, -1.21684919,  1.02199944, ...,  0.01092425,\n",
       "         0.54162988,  0.45084835]])"
      ]
     },
     "execution_count": 108,
     "metadata": {},
     "output_type": "execute_result"
    }
   ],
   "source": [
    "scaled_wine"
   ]
  },
  {
   "cell_type": "markdown",
   "id": "8fb7c86d-90ad-4ce5-a740-741e81a06797",
   "metadata": {},
   "source": [
    "## Principal Component Analysis"
   ]
  },
  {
   "cell_type": "code",
   "execution_count": 109,
   "id": "dd09c8e0-db4b-4747-bd3f-51cb9b497c28",
   "metadata": {
    "tags": []
   },
   "outputs": [],
   "source": [
    "from sklearn.decomposition import PCA"
   ]
  },
  {
   "cell_type": "markdown",
   "id": "1a0c4e65-c949-418e-8ced-83117d97e0aa",
   "metadata": {},
   "source": [
    "### There are 11 features in wine_quality dataset.\n",
    "- ### Suppose we have to reduce the number of feature to 2 features:"
   ]
  },
  {
   "cell_type": "code",
   "execution_count": 110,
   "id": "3e43845c-9834-4744-a31e-676713837e2a",
   "metadata": {
    "tags": []
   },
   "outputs": [],
   "source": [
    "pca = PCA(n_components = 2)"
   ]
  },
  {
   "cell_type": "code",
   "execution_count": 111,
   "id": "39056b88-0753-4074-acca-845b3dbfdf11",
   "metadata": {
    "tags": []
   },
   "outputs": [
    {
     "data": {
      "text/html": [
       "<style>#sk-container-id-9 {color: black;background-color: white;}#sk-container-id-9 pre{padding: 0;}#sk-container-id-9 div.sk-toggleable {background-color: white;}#sk-container-id-9 label.sk-toggleable__label {cursor: pointer;display: block;width: 100%;margin-bottom: 0;padding: 0.3em;box-sizing: border-box;text-align: center;}#sk-container-id-9 label.sk-toggleable__label-arrow:before {content: \"▸\";float: left;margin-right: 0.25em;color: #696969;}#sk-container-id-9 label.sk-toggleable__label-arrow:hover:before {color: black;}#sk-container-id-9 div.sk-estimator:hover label.sk-toggleable__label-arrow:before {color: black;}#sk-container-id-9 div.sk-toggleable__content {max-height: 0;max-width: 0;overflow: hidden;text-align: left;background-color: #f0f8ff;}#sk-container-id-9 div.sk-toggleable__content pre {margin: 0.2em;color: black;border-radius: 0.25em;background-color: #f0f8ff;}#sk-container-id-9 input.sk-toggleable__control:checked~div.sk-toggleable__content {max-height: 200px;max-width: 100%;overflow: auto;}#sk-container-id-9 input.sk-toggleable__control:checked~label.sk-toggleable__label-arrow:before {content: \"▾\";}#sk-container-id-9 div.sk-estimator input.sk-toggleable__control:checked~label.sk-toggleable__label {background-color: #d4ebff;}#sk-container-id-9 div.sk-label input.sk-toggleable__control:checked~label.sk-toggleable__label {background-color: #d4ebff;}#sk-container-id-9 input.sk-hidden--visually {border: 0;clip: rect(1px 1px 1px 1px);clip: rect(1px, 1px, 1px, 1px);height: 1px;margin: -1px;overflow: hidden;padding: 0;position: absolute;width: 1px;}#sk-container-id-9 div.sk-estimator {font-family: monospace;background-color: #f0f8ff;border: 1px dotted black;border-radius: 0.25em;box-sizing: border-box;margin-bottom: 0.5em;}#sk-container-id-9 div.sk-estimator:hover {background-color: #d4ebff;}#sk-container-id-9 div.sk-parallel-item::after {content: \"\";width: 100%;border-bottom: 1px solid gray;flex-grow: 1;}#sk-container-id-9 div.sk-label:hover label.sk-toggleable__label {background-color: #d4ebff;}#sk-container-id-9 div.sk-serial::before {content: \"\";position: absolute;border-left: 1px solid gray;box-sizing: border-box;top: 0;bottom: 0;left: 50%;z-index: 0;}#sk-container-id-9 div.sk-serial {display: flex;flex-direction: column;align-items: center;background-color: white;padding-right: 0.2em;padding-left: 0.2em;position: relative;}#sk-container-id-9 div.sk-item {position: relative;z-index: 1;}#sk-container-id-9 div.sk-parallel {display: flex;align-items: stretch;justify-content: center;background-color: white;position: relative;}#sk-container-id-9 div.sk-item::before, #sk-container-id-9 div.sk-parallel-item::before {content: \"\";position: absolute;border-left: 1px solid gray;box-sizing: border-box;top: 0;bottom: 0;left: 50%;z-index: -1;}#sk-container-id-9 div.sk-parallel-item {display: flex;flex-direction: column;z-index: 1;position: relative;background-color: white;}#sk-container-id-9 div.sk-parallel-item:first-child::after {align-self: flex-end;width: 50%;}#sk-container-id-9 div.sk-parallel-item:last-child::after {align-self: flex-start;width: 50%;}#sk-container-id-9 div.sk-parallel-item:only-child::after {width: 0;}#sk-container-id-9 div.sk-dashed-wrapped {border: 1px dashed gray;margin: 0 0.4em 0.5em 0.4em;box-sizing: border-box;padding-bottom: 0.4em;background-color: white;}#sk-container-id-9 div.sk-label label {font-family: monospace;font-weight: bold;display: inline-block;line-height: 1.2em;}#sk-container-id-9 div.sk-label-container {text-align: center;}#sk-container-id-9 div.sk-container {/* jupyter's `normalize.less` sets `[hidden] { display: none; }` but bootstrap.min.css set `[hidden] { display: none !important; }` so we also need the `!important` here to be able to override the default hidden behavior on the sphinx rendered scikit-learn.org. See: https://github.com/scikit-learn/scikit-learn/issues/21755 */display: inline-block !important;position: relative;}#sk-container-id-9 div.sk-text-repr-fallback {display: none;}</style><div id=\"sk-container-id-9\" class=\"sk-top-container\"><div class=\"sk-text-repr-fallback\"><pre>PCA(n_components=2)</pre><b>In a Jupyter environment, please rerun this cell to show the HTML representation or trust the notebook. <br />On GitHub, the HTML representation is unable to render, please try loading this page with nbviewer.org.</b></div><div class=\"sk-container\" hidden><div class=\"sk-item\"><div class=\"sk-estimator sk-toggleable\"><input class=\"sk-toggleable__control sk-hidden--visually\" id=\"sk-estimator-id-9\" type=\"checkbox\" checked><label for=\"sk-estimator-id-9\" class=\"sk-toggleable__label sk-toggleable__label-arrow\">PCA</label><div class=\"sk-toggleable__content\"><pre>PCA(n_components=2)</pre></div></div></div></div></div>"
      ],
      "text/plain": [
       "PCA(n_components=2)"
      ]
     },
     "execution_count": 111,
     "metadata": {},
     "output_type": "execute_result"
    }
   ],
   "source": [
    "pca.fit(scaled_wine)"
   ]
  },
  {
   "cell_type": "code",
   "execution_count": 112,
   "id": "959968a3-4a5c-4b5e-b4be-3a773c5461eb",
   "metadata": {
    "tags": []
   },
   "outputs": [],
   "source": [
    "x_pca = pca.transform(scaled_wine)"
   ]
  },
  {
   "cell_type": "code",
   "execution_count": 113,
   "id": "7a33f3f3-ef85-4780-8082-be4927dc8193",
   "metadata": {
    "tags": []
   },
   "outputs": [
    {
     "data": {
      "text/plain": [
       "(1599, 12)"
      ]
     },
     "execution_count": 113,
     "metadata": {},
     "output_type": "execute_result"
    }
   ],
   "source": [
    "scaled_wine.shape"
   ]
  },
  {
   "cell_type": "code",
   "execution_count": 114,
   "id": "ef9dcc35-0bab-4d62-bc07-916d0b852d64",
   "metadata": {
    "tags": []
   },
   "outputs": [
    {
     "data": {
      "text/plain": [
       "(1599, 2)"
      ]
     },
     "execution_count": 114,
     "metadata": {},
     "output_type": "execute_result"
    }
   ],
   "source": [
    "x_pca.shape"
   ]
  },
  {
   "cell_type": "code",
   "execution_count": 115,
   "id": "ba25473b-ba5f-4a90-8419-5ec348ad137a",
   "metadata": {
    "tags": []
   },
   "outputs": [
    {
     "data": {
      "text/plain": [
       "array([[-0.52835961,  0.96187667, -1.39147228, ..., -0.57920652,\n",
       "        -0.96024611, -0.78782264],\n",
       "       [-0.29854743,  1.96744245, -1.39147228, ...,  0.1289504 ,\n",
       "        -0.58477711, -0.78782264],\n",
       "       [-0.29854743,  1.29706527, -1.18607043, ..., -0.04808883,\n",
       "        -0.58477711, -0.78782264],\n",
       "       ...,\n",
       "       [-1.1603431 , -0.09955388, -0.72391627, ...,  0.54204194,\n",
       "         0.54162988,  0.45084835],\n",
       "       [-1.39015528,  0.65462046, -0.77526673, ...,  0.30598963,\n",
       "        -0.20930812, -0.78782264],\n",
       "       [-1.33270223, -1.21684919,  1.02199944, ...,  0.01092425,\n",
       "         0.54162988,  0.45084835]])"
      ]
     },
     "execution_count": 115,
     "metadata": {},
     "output_type": "execute_result"
    }
   ],
   "source": [
    "scaled_wine"
   ]
  },
  {
   "cell_type": "code",
   "execution_count": 116,
   "id": "d725af84-304f-4a58-b919-9b8f456917f2",
   "metadata": {
    "tags": []
   },
   "outputs": [
    {
     "data": {
      "text/plain": [
       "array([[-1.77944158,  1.15730315],\n",
       "       [-1.00418467,  2.07183784],\n",
       "       [-0.91578319,  1.3934342 ],\n",
       "       ...,\n",
       "       [-1.36626511, -0.51756099],\n",
       "       [-2.36714672,  0.70354479],\n",
       "       [-0.28877628, -1.24084585]])"
      ]
     },
     "execution_count": 116,
     "metadata": {},
     "output_type": "execute_result"
    }
   ],
   "source": [
    "x_pca"
   ]
  },
  {
   "cell_type": "code",
   "execution_count": 117,
   "id": "94b43277-2ffa-48ab-8045-35ea9afe2108",
   "metadata": {
    "tags": []
   },
   "outputs": [
    {
     "data": {
      "image/png": "[encoded data removed]",
      "text/plain": [
       "<Figure size 800x500 with 1 Axes>"
      ]
     },
     "metadata": {},
     "output_type": "display_data"
    }
   ],
   "source": [
    "plt.figure(figsize=(8,5))\n",
    "plt.scatter(x_pca[:,0],x_pca[:,1],c=wine['quality'])\n",
    "plt.xlabel('1st principle component')\n",
    "plt.ylabel('2nd principle component')\n",
    "plt.show()"
   ]
  },
  {
   "cell_type": "markdown",
   "id": "0bef0103-8095-461f-b468-3e01cadd8702",
   "metadata": {},
   "source": [
    "- ## To check the minimum number of principal components required to explain 90% of the variance in the data, We have to follow these steps:"
   ]
  },
  {
   "cell_type": "markdown",
   "id": "8b8fb0d3-d8a2-44cd-a904-6342b5aed34d",
   "metadata": {
    "tags": []
   },
   "source": [
    "### 1. Standardizing the data"
   ]
  },
  {
   "cell_type": "code",
   "execution_count": 136,
   "id": "19f05f1e-2cda-4672-a8ed-aecdd3146e2a",
   "metadata": {
    "tags": []
   },
   "outputs": [],
   "source": [
    "scaler = StandardScaler()\n",
    "wine_std = scaler.fit_transform(wine)"
   ]
  },
  {
   "cell_type": "markdown",
   "id": "3095752e-ab5d-4778-a502-bfe3a5202e18",
   "metadata": {
    "tags": []
   },
   "source": [
    "### 2. Performing PCA"
   ]
  },
  {
   "cell_type": "code",
   "execution_count": 138,
   "id": "a3873add-61f0-41dc-9484-13c322fabfda",
   "metadata": {
    "tags": []
   },
   "outputs": [
    {
     "data": {
      "text/html": [
       "<style>#sk-container-id-11 {color: black;background-color: white;}#sk-container-id-11 pre{padding: 0;}#sk-container-id-11 div.sk-toggleable {background-color: white;}#sk-container-id-11 label.sk-toggleable__label {cursor: pointer;display: block;width: 100%;margin-bottom: 0;padding: 0.3em;box-sizing: border-box;text-align: center;}#sk-container-id-11 label.sk-toggleable__label-arrow:before {content: \"▸\";float: left;margin-right: 0.25em;color: #696969;}#sk-container-id-11 label.sk-toggleable__label-arrow:hover:before {color: black;}#sk-container-id-11 div.sk-estimator:hover label.sk-toggleable__label-arrow:before {color: black;}#sk-container-id-11 div.sk-toggleable__content {max-height: 0;max-width: 0;overflow: hidden;text-align: left;background-color: #f0f8ff;}#sk-container-id-11 div.sk-toggleable__content pre {margin: 0.2em;color: black;border-radius: 0.25em;background-color: #f0f8ff;}#sk-container-id-11 input.sk-toggleable__control:checked~div.sk-toggleable__content {max-height: 200px;max-width: 100%;overflow: auto;}#sk-container-id-11 input.sk-toggleable__control:checked~label.sk-toggleable__label-arrow:before {content: \"▾\";}#sk-container-id-11 div.sk-estimator input.sk-toggleable__control:checked~label.sk-toggleable__label {background-color: #d4ebff;}#sk-container-id-11 div.sk-label input.sk-toggleable__control:checked~label.sk-toggleable__label {background-color: #d4ebff;}#sk-container-id-11 input.sk-hidden--visually {border: 0;clip: rect(1px 1px 1px 1px);clip: rect(1px, 1px, 1px, 1px);height: 1px;margin: -1px;overflow: hidden;padding: 0;position: absolute;width: 1px;}#sk-container-id-11 div.sk-estimator {font-family: monospace;background-color: #f0f8ff;border: 1px dotted black;border-radius: 0.25em;box-sizing: border-box;margin-bottom: 0.5em;}#sk-container-id-11 div.sk-estimator:hover {background-color: #d4ebff;}#sk-container-id-11 div.sk-parallel-item::after {content: \"\";width: 100%;border-bottom: 1px solid gray;flex-grow: 1;}#sk-container-id-11 div.sk-label:hover label.sk-toggleable__label {background-color: #d4ebff;}#sk-container-id-11 div.sk-serial::before {content: \"\";position: absolute;border-left: 1px solid gray;box-sizing: border-box;top: 0;bottom: 0;left: 50%;z-index: 0;}#sk-container-id-11 div.sk-serial {display: flex;flex-direction: column;align-items: center;background-color: white;padding-right: 0.2em;padding-left: 0.2em;position: relative;}#sk-container-id-11 div.sk-item {position: relative;z-index: 1;}#sk-container-id-11 div.sk-parallel {display: flex;align-items: stretch;justify-content: center;background-color: white;position: relative;}#sk-container-id-11 div.sk-item::before, #sk-container-id-11 div.sk-parallel-item::before {content: \"\";position: absolute;border-left: 1px solid gray;box-sizing: border-box;top: 0;bottom: 0;left: 50%;z-index: -1;}#sk-container-id-11 div.sk-parallel-item {display: flex;flex-direction: column;z-index: 1;position: relative;background-color: white;}#sk-container-id-11 div.sk-parallel-item:first-child::after {align-self: flex-end;width: 50%;}#sk-container-id-11 div.sk-parallel-item:last-child::after {align-self: flex-start;width: 50%;}#sk-container-id-11 div.sk-parallel-item:only-child::after {width: 0;}#sk-container-id-11 div.sk-dashed-wrapped {border: 1px dashed gray;margin: 0 0.4em 0.5em 0.4em;box-sizing: border-box;padding-bottom: 0.4em;background-color: white;}#sk-container-id-11 div.sk-label label {font-family: monospace;font-weight: bold;display: inline-block;line-height: 1.2em;}#sk-container-id-11 div.sk-label-container {text-align: center;}#sk-container-id-11 div.sk-container {/* jupyter's `normalize.less` sets `[hidden] { display: none; }` but bootstrap.min.css set `[hidden] { display: none !important; }` so we also need the `!important` here to be able to override the default hidden behavior on the sphinx rendered scikit-learn.org. See: https://github.com/scikit-learn/scikit-learn/issues/21755 */display: inline-block !important;position: relative;}#sk-container-id-11 div.sk-text-repr-fallback {display: none;}</style><div id=\"sk-container-id-11\" class=\"sk-top-container\"><div class=\"sk-text-repr-fallback\"><pre>PCA()</pre><b>In a Jupyter environment, please rerun this cell to show the HTML representation or trust the notebook. <br />On GitHub, the HTML representation is unable to render, please try loading this page with nbviewer.org.</b></div><div class=\"sk-container\" hidden><div class=\"sk-item\"><div class=\"sk-estimator sk-toggleable\"><input class=\"sk-toggleable__control sk-hidden--visually\" id=\"sk-estimator-id-11\" type=\"checkbox\" checked><label for=\"sk-estimator-id-11\" class=\"sk-toggleable__label sk-toggleable__label-arrow\">PCA</label><div class=\"sk-toggleable__content\"><pre>PCA()</pre></div></div></div></div></div>"
      ],
      "text/plain": [
       "PCA()"
      ]
     },
     "execution_count": 138,
     "metadata": {},
     "output_type": "execute_result"
    }
   ],
   "source": [
    "pca = PCA(n_components=None)\n",
    "pca.fit(wine_std)"
   ]
  },
  {
   "cell_type": "markdown",
   "id": "c3cbdb3a-1b05-4553-9f61-a02626432064",
   "metadata": {
    "tags": []
   },
   "source": [
    "### 3. Calculating explained variance ratio"
   ]
  },
  {
   "cell_type": "code",
   "execution_count": 132,
   "id": "385e93d0-cd53-428f-b917-0f18ee7bfb57",
   "metadata": {
    "tags": []
   },
   "outputs": [],
   "source": [
    "explained_variance_ratio = pca.explained_variance_ratio_"
   ]
  },
  {
   "cell_type": "markdown",
   "id": "f376b10a-0ade-45ed-b7db-0dfc487303e3",
   "metadata": {
    "tags": []
   },
   "source": [
    "### 4. Determining the number of principal components required to explain 90% of the variance"
   ]
  },
  {
   "cell_type": "code",
   "execution_count": 139,
   "id": "8082aee0-8c08-4239-8452-5f2885b78e8b",
   "metadata": {
    "tags": []
   },
   "outputs": [],
   "source": [
    "cumulative_variance_ratio = np.cumsum(explained_variance_ratio)\n",
    "n_components = np.argmax(cumulative_variance_ratio >= 0.9) + 1"
   ]
  },
  {
   "cell_type": "markdown",
   "id": "79c7184b-1eb3-4de1-9518-cb523ef45285",
   "metadata": {
    "tags": []
   },
   "source": [
    "### 5. Result"
   ]
  },
  {
   "cell_type": "code",
   "execution_count": 141,
   "id": "d43ccbba-6934-4ff8-ac71-19d42ea183f8",
   "metadata": {
    "tags": []
   },
   "outputs": [
    {
     "name": "stdout",
     "output_type": "stream",
     "text": [
      "Minimum number of principal components required to explain 90% of the variance: 8\n"
     ]
    }
   ],
   "source": [
    "print(\"Minimum number of principal components required to explain 90% of the variance:\", n_components)"
   ]
  },
  {
   "cell_type": "markdown",
   "id": "7328c453-d366-4765-9928-c546158c6f20",
   "metadata": {},
   "source": [
    "## Therefore, the minimum number of principal components required to explain 90% of the variance in the data is 8."
   ]
  }
 ],
 "metadata": {
  "kernelspec": {
   "display_name": "Python 3 (ipykernel)",
   "language": "python",
   "name": "python3"
  },
  "language_info": {
   "codemirror_mode": {
    "name": "ipython",
    "version": 3
   },
   "file_extension": ".py",
   "mimetype": "text/x-python",
   "name": "python",
   "nbconvert_exporter": "python",
   "pygments_lexer": "ipython3",
   "version": "3.11.2"
  }
 },
 "nbformat": 4,
 "nbformat_minor": 5
}
