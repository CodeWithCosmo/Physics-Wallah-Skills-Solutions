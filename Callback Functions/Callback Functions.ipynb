{
 "cells": [
  {
   "cell_type": "markdown",
   "id": "232dc857",
   "metadata": {},
   "source": [
    "# Q1. Install and load the latest versions of TensorFlow and Keras. Print their versions.\n",
    "___"
   ]
  },
  {
   "cell_type": "code",
   "execution_count": 248,
   "id": "ba0b3b62",
   "metadata": {},
   "outputs": [],
   "source": [
    "import tensorflow as tf\n",
    "import keras"
   ]
  },
  {
   "cell_type": "code",
   "execution_count": 249,
   "id": "9230f5e3",
   "metadata": {},
   "outputs": [
    {
     "name": "stdout",
     "output_type": "stream",
     "text": [
      "Tensorflow Version 2.13.0\n"
     ]
    }
   ],
   "source": [
    "print(f'Tensorflow Version {tf.__version__}')"
   ]
  },
  {
   "cell_type": "code",
   "execution_count": 250,
   "id": "ec5badc6",
   "metadata": {},
   "outputs": [
    {
     "name": "stdout",
     "output_type": "stream",
     "text": [
      "Keras Version 2.13.1\n"
     ]
    }
   ],
   "source": [
    "print(f'Keras Version {keras.__version__}')"
   ]
  },
  {
   "cell_type": "markdown",
   "id": "592b0f35",
   "metadata": {},
   "source": [
    "# Q2. Load the Wine Quality dataset and explore its dimensions. \n",
    "___"
   ]
  },
  {
   "cell_type": "code",
   "execution_count": 251,
   "id": "a3cc5746",
   "metadata": {},
   "outputs": [],
   "source": [
    "import pandas as pd\n",
    "import numpy as np\n",
    "import matplotlib.pyplot as plt\n",
    "import seaborn as sns\n",
    "import warnings as w\n",
    "w.filterwarnings('ignore')"
   ]
  },
  {
   "cell_type": "code",
   "execution_count": 252,
   "id": "058d7f19",
   "metadata": {},
   "outputs": [],
   "source": [
    "wines = pd.read_csv('wine_quality_dataset.csv')"
   ]
  },
  {
   "cell_type": "code",
   "execution_count": 253,
   "id": "1e2aec8d",
   "metadata": {},
   "outputs": [
    {
     "data": {
      "text/html": [
       "<div>\n",
       "<style scoped>\n",
       "    .dataframe tbody tr th:only-of-type {\n",
       "        vertical-align: middle;\n",
       "    }\n",
       "\n",
       "    .dataframe tbody tr th {\n",
       "        vertical-align: top;\n",
       "    }\n",
       "\n",
       "    .dataframe thead th {\n",
       "        text-align: right;\n",
       "    }\n",
       "</style>\n",
       "<table border=\"1\" class=\"dataframe\">\n",
       "  <thead>\n",
       "    <tr style=\"text-align: right;\">\n",
       "      <th></th>\n",
       "      <th>fixed acidity</th>\n",
       "      <th>volatile acidity</th>\n",
       "      <th>citric acid</th>\n",
       "      <th>residual sugar</th>\n",
       "      <th>chlorides</th>\n",
       "      <th>free sulfur dioxide</th>\n",
       "      <th>total sulfur dioxide</th>\n",
       "      <th>density</th>\n",
       "      <th>pH</th>\n",
       "      <th>sulphates</th>\n",
       "      <th>alcohol</th>\n",
       "      <th>quality</th>\n",
       "    </tr>\n",
       "  </thead>\n",
       "  <tbody>\n",
       "    <tr>\n",
       "      <th>0</th>\n",
       "      <td>7.4</td>\n",
       "      <td>0.70</td>\n",
       "      <td>0.00</td>\n",
       "      <td>1.9</td>\n",
       "      <td>0.076</td>\n",
       "      <td>11.0</td>\n",
       "      <td>34.0</td>\n",
       "      <td>0.9978</td>\n",
       "      <td>3.51</td>\n",
       "      <td>0.56</td>\n",
       "      <td>9.4</td>\n",
       "      <td>bad</td>\n",
       "    </tr>\n",
       "    <tr>\n",
       "      <th>1</th>\n",
       "      <td>7.8</td>\n",
       "      <td>0.88</td>\n",
       "      <td>0.00</td>\n",
       "      <td>2.6</td>\n",
       "      <td>0.098</td>\n",
       "      <td>25.0</td>\n",
       "      <td>67.0</td>\n",
       "      <td>0.9968</td>\n",
       "      <td>3.20</td>\n",
       "      <td>0.68</td>\n",
       "      <td>9.8</td>\n",
       "      <td>bad</td>\n",
       "    </tr>\n",
       "    <tr>\n",
       "      <th>2</th>\n",
       "      <td>7.8</td>\n",
       "      <td>0.76</td>\n",
       "      <td>0.04</td>\n",
       "      <td>2.3</td>\n",
       "      <td>0.092</td>\n",
       "      <td>15.0</td>\n",
       "      <td>54.0</td>\n",
       "      <td>0.9970</td>\n",
       "      <td>3.26</td>\n",
       "      <td>0.65</td>\n",
       "      <td>9.8</td>\n",
       "      <td>bad</td>\n",
       "    </tr>\n",
       "    <tr>\n",
       "      <th>3</th>\n",
       "      <td>11.2</td>\n",
       "      <td>0.28</td>\n",
       "      <td>0.56</td>\n",
       "      <td>1.9</td>\n",
       "      <td>0.075</td>\n",
       "      <td>17.0</td>\n",
       "      <td>60.0</td>\n",
       "      <td>0.9980</td>\n",
       "      <td>3.16</td>\n",
       "      <td>0.58</td>\n",
       "      <td>9.8</td>\n",
       "      <td>good</td>\n",
       "    </tr>\n",
       "    <tr>\n",
       "      <th>4</th>\n",
       "      <td>7.4</td>\n",
       "      <td>0.70</td>\n",
       "      <td>0.00</td>\n",
       "      <td>1.9</td>\n",
       "      <td>0.076</td>\n",
       "      <td>11.0</td>\n",
       "      <td>34.0</td>\n",
       "      <td>0.9978</td>\n",
       "      <td>3.51</td>\n",
       "      <td>0.56</td>\n",
       "      <td>9.4</td>\n",
       "      <td>bad</td>\n",
       "    </tr>\n",
       "  </tbody>\n",
       "</table>\n",
       "</div>"
      ],
      "text/plain": [
       "   fixed acidity  volatile acidity  citric acid  residual sugar  chlorides   \n",
       "0            7.4              0.70         0.00             1.9      0.076  \\\n",
       "1            7.8              0.88         0.00             2.6      0.098   \n",
       "2            7.8              0.76         0.04             2.3      0.092   \n",
       "3           11.2              0.28         0.56             1.9      0.075   \n",
       "4            7.4              0.70         0.00             1.9      0.076   \n",
       "\n",
       "   free sulfur dioxide  total sulfur dioxide  density    pH  sulphates   \n",
       "0                 11.0                  34.0   0.9978  3.51       0.56  \\\n",
       "1                 25.0                  67.0   0.9968  3.20       0.68   \n",
       "2                 15.0                  54.0   0.9970  3.26       0.65   \n",
       "3                 17.0                  60.0   0.9980  3.16       0.58   \n",
       "4                 11.0                  34.0   0.9978  3.51       0.56   \n",
       "\n",
       "   alcohol quality  \n",
       "0      9.4     bad  \n",
       "1      9.8     bad  \n",
       "2      9.8     bad  \n",
       "3      9.8    good  \n",
       "4      9.4     bad  "
      ]
     },
     "execution_count": 253,
     "metadata": {},
     "output_type": "execute_result"
    }
   ],
   "source": [
    "wines.head()"
   ]
  },
  {
   "cell_type": "code",
   "execution_count": 254,
   "id": "555957ef",
   "metadata": {},
   "outputs": [
    {
     "data": {
      "text/plain": [
       "(1599, 12)"
      ]
     },
     "execution_count": 254,
     "metadata": {},
     "output_type": "execute_result"
    }
   ],
   "source": [
    "wines.shape"
   ]
  },
  {
   "cell_type": "code",
   "execution_count": 255,
   "id": "74915e1a",
   "metadata": {},
   "outputs": [
    {
     "name": "stdout",
     "output_type": "stream",
     "text": [
      "<class 'pandas.core.frame.DataFrame'>\n",
      "RangeIndex: 1599 entries, 0 to 1598\n",
      "Data columns (total 12 columns):\n",
      " #   Column                Non-Null Count  Dtype  \n",
      "---  ------                --------------  -----  \n",
      " 0   fixed acidity         1599 non-null   float64\n",
      " 1   volatile acidity      1599 non-null   float64\n",
      " 2   citric acid           1599 non-null   float64\n",
      " 3   residual sugar        1599 non-null   float64\n",
      " 4   chlorides             1599 non-null   float64\n",
      " 5   free sulfur dioxide   1599 non-null   float64\n",
      " 6   total sulfur dioxide  1599 non-null   float64\n",
      " 7   density               1599 non-null   float64\n",
      " 8   pH                    1599 non-null   float64\n",
      " 9   sulphates             1599 non-null   float64\n",
      " 10  alcohol               1599 non-null   float64\n",
      " 11  quality               1599 non-null   object \n",
      "dtypes: float64(11), object(1)\n",
      "memory usage: 150.0+ KB\n"
     ]
    }
   ],
   "source": [
    "wines.info()"
   ]
  },
  {
   "cell_type": "code",
   "execution_count": 256,
   "id": "eb1e93ec",
   "metadata": {},
   "outputs": [
    {
     "data": {
      "text/html": [
       "<div>\n",
       "<style scoped>\n",
       "    .dataframe tbody tr th:only-of-type {\n",
       "        vertical-align: middle;\n",
       "    }\n",
       "\n",
       "    .dataframe tbody tr th {\n",
       "        vertical-align: top;\n",
       "    }\n",
       "\n",
       "    .dataframe thead th {\n",
       "        text-align: right;\n",
       "    }\n",
       "</style>\n",
       "<table border=\"1\" class=\"dataframe\">\n",
       "  <thead>\n",
       "    <tr style=\"text-align: right;\">\n",
       "      <th></th>\n",
       "      <th>fixed acidity</th>\n",
       "      <th>volatile acidity</th>\n",
       "      <th>citric acid</th>\n",
       "      <th>residual sugar</th>\n",
       "      <th>chlorides</th>\n",
       "      <th>free sulfur dioxide</th>\n",
       "      <th>total sulfur dioxide</th>\n",
       "      <th>density</th>\n",
       "      <th>pH</th>\n",
       "      <th>sulphates</th>\n",
       "      <th>alcohol</th>\n",
       "    </tr>\n",
       "  </thead>\n",
       "  <tbody>\n",
       "    <tr>\n",
       "      <th>count</th>\n",
       "      <td>1599.000000</td>\n",
       "      <td>1599.000000</td>\n",
       "      <td>1599.000000</td>\n",
       "      <td>1599.000000</td>\n",
       "      <td>1599.000000</td>\n",
       "      <td>1599.000000</td>\n",
       "      <td>1599.000000</td>\n",
       "      <td>1599.000000</td>\n",
       "      <td>1599.000000</td>\n",
       "      <td>1599.000000</td>\n",
       "      <td>1599.000000</td>\n",
       "    </tr>\n",
       "    <tr>\n",
       "      <th>mean</th>\n",
       "      <td>8.319637</td>\n",
       "      <td>0.527821</td>\n",
       "      <td>0.270976</td>\n",
       "      <td>2.538806</td>\n",
       "      <td>0.087467</td>\n",
       "      <td>15.874922</td>\n",
       "      <td>46.467792</td>\n",
       "      <td>0.996747</td>\n",
       "      <td>3.311113</td>\n",
       "      <td>0.658149</td>\n",
       "      <td>10.422983</td>\n",
       "    </tr>\n",
       "    <tr>\n",
       "      <th>std</th>\n",
       "      <td>1.741096</td>\n",
       "      <td>0.179060</td>\n",
       "      <td>0.194801</td>\n",
       "      <td>1.409928</td>\n",
       "      <td>0.047065</td>\n",
       "      <td>10.460157</td>\n",
       "      <td>32.895324</td>\n",
       "      <td>0.001887</td>\n",
       "      <td>0.154386</td>\n",
       "      <td>0.169507</td>\n",
       "      <td>1.065668</td>\n",
       "    </tr>\n",
       "    <tr>\n",
       "      <th>min</th>\n",
       "      <td>4.600000</td>\n",
       "      <td>0.120000</td>\n",
       "      <td>0.000000</td>\n",
       "      <td>0.900000</td>\n",
       "      <td>0.012000</td>\n",
       "      <td>1.000000</td>\n",
       "      <td>6.000000</td>\n",
       "      <td>0.990070</td>\n",
       "      <td>2.740000</td>\n",
       "      <td>0.330000</td>\n",
       "      <td>8.400000</td>\n",
       "    </tr>\n",
       "    <tr>\n",
       "      <th>25%</th>\n",
       "      <td>7.100000</td>\n",
       "      <td>0.390000</td>\n",
       "      <td>0.090000</td>\n",
       "      <td>1.900000</td>\n",
       "      <td>0.070000</td>\n",
       "      <td>7.000000</td>\n",
       "      <td>22.000000</td>\n",
       "      <td>0.995600</td>\n",
       "      <td>3.210000</td>\n",
       "      <td>0.550000</td>\n",
       "      <td>9.500000</td>\n",
       "    </tr>\n",
       "    <tr>\n",
       "      <th>50%</th>\n",
       "      <td>7.900000</td>\n",
       "      <td>0.520000</td>\n",
       "      <td>0.260000</td>\n",
       "      <td>2.200000</td>\n",
       "      <td>0.079000</td>\n",
       "      <td>14.000000</td>\n",
       "      <td>38.000000</td>\n",
       "      <td>0.996750</td>\n",
       "      <td>3.310000</td>\n",
       "      <td>0.620000</td>\n",
       "      <td>10.200000</td>\n",
       "    </tr>\n",
       "    <tr>\n",
       "      <th>75%</th>\n",
       "      <td>9.200000</td>\n",
       "      <td>0.640000</td>\n",
       "      <td>0.420000</td>\n",
       "      <td>2.600000</td>\n",
       "      <td>0.090000</td>\n",
       "      <td>21.000000</td>\n",
       "      <td>62.000000</td>\n",
       "      <td>0.997835</td>\n",
       "      <td>3.400000</td>\n",
       "      <td>0.730000</td>\n",
       "      <td>11.100000</td>\n",
       "    </tr>\n",
       "    <tr>\n",
       "      <th>max</th>\n",
       "      <td>15.900000</td>\n",
       "      <td>1.580000</td>\n",
       "      <td>1.000000</td>\n",
       "      <td>15.500000</td>\n",
       "      <td>0.611000</td>\n",
       "      <td>72.000000</td>\n",
       "      <td>289.000000</td>\n",
       "      <td>1.003690</td>\n",
       "      <td>4.010000</td>\n",
       "      <td>2.000000</td>\n",
       "      <td>14.900000</td>\n",
       "    </tr>\n",
       "  </tbody>\n",
       "</table>\n",
       "</div>"
      ],
      "text/plain": [
       "       fixed acidity  volatile acidity  citric acid  residual sugar   \n",
       "count    1599.000000       1599.000000  1599.000000     1599.000000  \\\n",
       "mean        8.319637          0.527821     0.270976        2.538806   \n",
       "std         1.741096          0.179060     0.194801        1.409928   \n",
       "min         4.600000          0.120000     0.000000        0.900000   \n",
       "25%         7.100000          0.390000     0.090000        1.900000   \n",
       "50%         7.900000          0.520000     0.260000        2.200000   \n",
       "75%         9.200000          0.640000     0.420000        2.600000   \n",
       "max        15.900000          1.580000     1.000000       15.500000   \n",
       "\n",
       "         chlorides  free sulfur dioxide  total sulfur dioxide      density   \n",
       "count  1599.000000          1599.000000           1599.000000  1599.000000  \\\n",
       "mean      0.087467            15.874922             46.467792     0.996747   \n",
       "std       0.047065            10.460157             32.895324     0.001887   \n",
       "min       0.012000             1.000000              6.000000     0.990070   \n",
       "25%       0.070000             7.000000             22.000000     0.995600   \n",
       "50%       0.079000            14.000000             38.000000     0.996750   \n",
       "75%       0.090000            21.000000             62.000000     0.997835   \n",
       "max       0.611000            72.000000            289.000000     1.003690   \n",
       "\n",
       "                pH    sulphates      alcohol  \n",
       "count  1599.000000  1599.000000  1599.000000  \n",
       "mean      3.311113     0.658149    10.422983  \n",
       "std       0.154386     0.169507     1.065668  \n",
       "min       2.740000     0.330000     8.400000  \n",
       "25%       3.210000     0.550000     9.500000  \n",
       "50%       3.310000     0.620000    10.200000  \n",
       "75%       3.400000     0.730000    11.100000  \n",
       "max       4.010000     2.000000    14.900000  "
      ]
     },
     "execution_count": 256,
     "metadata": {},
     "output_type": "execute_result"
    }
   ],
   "source": [
    "wines.describe()"
   ]
  },
  {
   "cell_type": "code",
   "execution_count": 257,
   "id": "c9a02237",
   "metadata": {},
   "outputs": [
    {
     "data": {
      "text/html": [
       "<div>\n",
       "<style scoped>\n",
       "    .dataframe tbody tr th:only-of-type {\n",
       "        vertical-align: middle;\n",
       "    }\n",
       "\n",
       "    .dataframe tbody tr th {\n",
       "        vertical-align: top;\n",
       "    }\n",
       "\n",
       "    .dataframe thead th {\n",
       "        text-align: right;\n",
       "    }\n",
       "</style>\n",
       "<table border=\"1\" class=\"dataframe\">\n",
       "  <thead>\n",
       "    <tr style=\"text-align: right;\">\n",
       "      <th></th>\n",
       "      <th>fixed acidity</th>\n",
       "      <th>volatile acidity</th>\n",
       "      <th>citric acid</th>\n",
       "      <th>residual sugar</th>\n",
       "      <th>chlorides</th>\n",
       "      <th>free sulfur dioxide</th>\n",
       "      <th>total sulfur dioxide</th>\n",
       "      <th>density</th>\n",
       "      <th>pH</th>\n",
       "      <th>sulphates</th>\n",
       "      <th>alcohol</th>\n",
       "    </tr>\n",
       "  </thead>\n",
       "  <tbody>\n",
       "    <tr>\n",
       "      <th>fixed acidity</th>\n",
       "      <td>1.000000</td>\n",
       "      <td>-0.278282</td>\n",
       "      <td>0.661708</td>\n",
       "      <td>0.220701</td>\n",
       "      <td>0.250904</td>\n",
       "      <td>-0.175137</td>\n",
       "      <td>-0.088417</td>\n",
       "      <td>0.623071</td>\n",
       "      <td>-0.706674</td>\n",
       "      <td>0.212654</td>\n",
       "      <td>-0.066576</td>\n",
       "    </tr>\n",
       "    <tr>\n",
       "      <th>volatile acidity</th>\n",
       "      <td>-0.278282</td>\n",
       "      <td>1.000000</td>\n",
       "      <td>-0.610259</td>\n",
       "      <td>0.032386</td>\n",
       "      <td>0.158770</td>\n",
       "      <td>0.021163</td>\n",
       "      <td>0.094110</td>\n",
       "      <td>0.025014</td>\n",
       "      <td>0.233572</td>\n",
       "      <td>-0.325584</td>\n",
       "      <td>-0.224932</td>\n",
       "    </tr>\n",
       "    <tr>\n",
       "      <th>citric acid</th>\n",
       "      <td>0.661708</td>\n",
       "      <td>-0.610259</td>\n",
       "      <td>1.000000</td>\n",
       "      <td>0.176417</td>\n",
       "      <td>0.112577</td>\n",
       "      <td>-0.076452</td>\n",
       "      <td>0.009400</td>\n",
       "      <td>0.352285</td>\n",
       "      <td>-0.548026</td>\n",
       "      <td>0.331074</td>\n",
       "      <td>0.096456</td>\n",
       "    </tr>\n",
       "    <tr>\n",
       "      <th>residual sugar</th>\n",
       "      <td>0.220701</td>\n",
       "      <td>0.032386</td>\n",
       "      <td>0.176417</td>\n",
       "      <td>1.000000</td>\n",
       "      <td>0.212959</td>\n",
       "      <td>0.074618</td>\n",
       "      <td>0.145375</td>\n",
       "      <td>0.422266</td>\n",
       "      <td>-0.089971</td>\n",
       "      <td>0.038332</td>\n",
       "      <td>0.116548</td>\n",
       "    </tr>\n",
       "    <tr>\n",
       "      <th>chlorides</th>\n",
       "      <td>0.250904</td>\n",
       "      <td>0.158770</td>\n",
       "      <td>0.112577</td>\n",
       "      <td>0.212959</td>\n",
       "      <td>1.000000</td>\n",
       "      <td>0.000805</td>\n",
       "      <td>0.130033</td>\n",
       "      <td>0.411390</td>\n",
       "      <td>-0.234361</td>\n",
       "      <td>0.020825</td>\n",
       "      <td>-0.284504</td>\n",
       "    </tr>\n",
       "    <tr>\n",
       "      <th>free sulfur dioxide</th>\n",
       "      <td>-0.175137</td>\n",
       "      <td>0.021163</td>\n",
       "      <td>-0.076452</td>\n",
       "      <td>0.074618</td>\n",
       "      <td>0.000805</td>\n",
       "      <td>1.000000</td>\n",
       "      <td>0.789698</td>\n",
       "      <td>-0.041178</td>\n",
       "      <td>0.115679</td>\n",
       "      <td>0.045862</td>\n",
       "      <td>-0.081367</td>\n",
       "    </tr>\n",
       "    <tr>\n",
       "      <th>total sulfur dioxide</th>\n",
       "      <td>-0.088417</td>\n",
       "      <td>0.094110</td>\n",
       "      <td>0.009400</td>\n",
       "      <td>0.145375</td>\n",
       "      <td>0.130033</td>\n",
       "      <td>0.789698</td>\n",
       "      <td>1.000000</td>\n",
       "      <td>0.129332</td>\n",
       "      <td>-0.009841</td>\n",
       "      <td>-0.000504</td>\n",
       "      <td>-0.257806</td>\n",
       "    </tr>\n",
       "    <tr>\n",
       "      <th>density</th>\n",
       "      <td>0.623071</td>\n",
       "      <td>0.025014</td>\n",
       "      <td>0.352285</td>\n",
       "      <td>0.422266</td>\n",
       "      <td>0.411390</td>\n",
       "      <td>-0.041178</td>\n",
       "      <td>0.129332</td>\n",
       "      <td>1.000000</td>\n",
       "      <td>-0.312055</td>\n",
       "      <td>0.161478</td>\n",
       "      <td>-0.462445</td>\n",
       "    </tr>\n",
       "    <tr>\n",
       "      <th>pH</th>\n",
       "      <td>-0.706674</td>\n",
       "      <td>0.233572</td>\n",
       "      <td>-0.548026</td>\n",
       "      <td>-0.089971</td>\n",
       "      <td>-0.234361</td>\n",
       "      <td>0.115679</td>\n",
       "      <td>-0.009841</td>\n",
       "      <td>-0.312055</td>\n",
       "      <td>1.000000</td>\n",
       "      <td>-0.080306</td>\n",
       "      <td>0.179932</td>\n",
       "    </tr>\n",
       "    <tr>\n",
       "      <th>sulphates</th>\n",
       "      <td>0.212654</td>\n",
       "      <td>-0.325584</td>\n",
       "      <td>0.331074</td>\n",
       "      <td>0.038332</td>\n",
       "      <td>0.020825</td>\n",
       "      <td>0.045862</td>\n",
       "      <td>-0.000504</td>\n",
       "      <td>0.161478</td>\n",
       "      <td>-0.080306</td>\n",
       "      <td>1.000000</td>\n",
       "      <td>0.207330</td>\n",
       "    </tr>\n",
       "    <tr>\n",
       "      <th>alcohol</th>\n",
       "      <td>-0.066576</td>\n",
       "      <td>-0.224932</td>\n",
       "      <td>0.096456</td>\n",
       "      <td>0.116548</td>\n",
       "      <td>-0.284504</td>\n",
       "      <td>-0.081367</td>\n",
       "      <td>-0.257806</td>\n",
       "      <td>-0.462445</td>\n",
       "      <td>0.179932</td>\n",
       "      <td>0.207330</td>\n",
       "      <td>1.000000</td>\n",
       "    </tr>\n",
       "  </tbody>\n",
       "</table>\n",
       "</div>"
      ],
      "text/plain": [
       "                      fixed acidity  volatile acidity  citric acid   \n",
       "fixed acidity              1.000000         -0.278282     0.661708  \\\n",
       "volatile acidity          -0.278282          1.000000    -0.610259   \n",
       "citric acid                0.661708         -0.610259     1.000000   \n",
       "residual sugar             0.220701          0.032386     0.176417   \n",
       "chlorides                  0.250904          0.158770     0.112577   \n",
       "free sulfur dioxide       -0.175137          0.021163    -0.076452   \n",
       "total sulfur dioxide      -0.088417          0.094110     0.009400   \n",
       "density                    0.623071          0.025014     0.352285   \n",
       "pH                        -0.706674          0.233572    -0.548026   \n",
       "sulphates                  0.212654         -0.325584     0.331074   \n",
       "alcohol                   -0.066576         -0.224932     0.096456   \n",
       "\n",
       "                      residual sugar  chlorides  free sulfur dioxide   \n",
       "fixed acidity               0.220701   0.250904            -0.175137  \\\n",
       "volatile acidity            0.032386   0.158770             0.021163   \n",
       "citric acid                 0.176417   0.112577            -0.076452   \n",
       "residual sugar              1.000000   0.212959             0.074618   \n",
       "chlorides                   0.212959   1.000000             0.000805   \n",
       "free sulfur dioxide         0.074618   0.000805             1.000000   \n",
       "total sulfur dioxide        0.145375   0.130033             0.789698   \n",
       "density                     0.422266   0.411390            -0.041178   \n",
       "pH                         -0.089971  -0.234361             0.115679   \n",
       "sulphates                   0.038332   0.020825             0.045862   \n",
       "alcohol                     0.116548  -0.284504            -0.081367   \n",
       "\n",
       "                      total sulfur dioxide   density        pH  sulphates   \n",
       "fixed acidity                    -0.088417  0.623071 -0.706674   0.212654  \\\n",
       "volatile acidity                  0.094110  0.025014  0.233572  -0.325584   \n",
       "citric acid                       0.009400  0.352285 -0.548026   0.331074   \n",
       "residual sugar                    0.145375  0.422266 -0.089971   0.038332   \n",
       "chlorides                         0.130033  0.411390 -0.234361   0.020825   \n",
       "free sulfur dioxide               0.789698 -0.041178  0.115679   0.045862   \n",
       "total sulfur dioxide              1.000000  0.129332 -0.009841  -0.000504   \n",
       "density                           0.129332  1.000000 -0.312055   0.161478   \n",
       "pH                               -0.009841 -0.312055  1.000000  -0.080306   \n",
       "sulphates                        -0.000504  0.161478 -0.080306   1.000000   \n",
       "alcohol                          -0.257806 -0.462445  0.179932   0.207330   \n",
       "\n",
       "                       alcohol  \n",
       "fixed acidity        -0.066576  \n",
       "volatile acidity     -0.224932  \n",
       "citric acid           0.096456  \n",
       "residual sugar        0.116548  \n",
       "chlorides            -0.284504  \n",
       "free sulfur dioxide  -0.081367  \n",
       "total sulfur dioxide -0.257806  \n",
       "density              -0.462445  \n",
       "pH                    0.179932  \n",
       "sulphates             0.207330  \n",
       "alcohol               1.000000  "
      ]
     },
     "execution_count": 257,
     "metadata": {},
     "output_type": "execute_result"
    }
   ],
   "source": [
    "corr_metrics = wines.corr(method='spearman',numeric_only=True)\n",
    "corr_metrics"
   ]
  },
  {
   "cell_type": "code",
   "execution_count": 258,
   "id": "d9a48f7d",
   "metadata": {},
   "outputs": [
    {
     "data": {
      "image/png": "[encoded data removed]",
      "text/plain": [
       "<Figure size 2000x800 with 2 Axes>"
      ]
     },
     "metadata": {},
     "output_type": "display_data"
    }
   ],
   "source": [
    "plt.figure(figsize=(20,8))\n",
    "sns.heatmap(corr_metrics, annot=True, cmap='coolwarm')\n",
    "plt.show()"
   ]
  },
  {
   "cell_type": "markdown",
   "id": "6f08a8c5",
   "metadata": {},
   "source": [
    "# Q3. Check for null values, identify categorical variables, and encode them.\n",
    "___"
   ]
  },
  {
   "cell_type": "code",
   "execution_count": 259,
   "id": "b43b9675",
   "metadata": {},
   "outputs": [
    {
     "data": {
      "text/plain": [
       "fixed acidity           0\n",
       "volatile acidity        0\n",
       "citric acid             0\n",
       "residual sugar          0\n",
       "chlorides               0\n",
       "free sulfur dioxide     0\n",
       "total sulfur dioxide    0\n",
       "density                 0\n",
       "pH                      0\n",
       "sulphates               0\n",
       "alcohol                 0\n",
       "quality                 0\n",
       "dtype: int64"
      ]
     },
     "execution_count": 259,
     "metadata": {},
     "output_type": "execute_result"
    }
   ],
   "source": [
    "wines.isnull().sum()"
   ]
  },
  {
   "cell_type": "code",
   "execution_count": 260,
   "id": "41239eca",
   "metadata": {},
   "outputs": [],
   "source": [
    "# Label Encoding\n",
    "from sklearn.preprocessing import LabelBinarizer\n",
    "lb = LabelBinarizer()\n",
    "wines['quality'] = lb.fit_transform(wines['quality'])"
   ]
  },
  {
   "cell_type": "code",
   "execution_count": 261,
   "id": "d45ace86",
   "metadata": {},
   "outputs": [
    {
     "data": {
      "text/html": [
       "<div>\n",
       "<style scoped>\n",
       "    .dataframe tbody tr th:only-of-type {\n",
       "        vertical-align: middle;\n",
       "    }\n",
       "\n",
       "    .dataframe tbody tr th {\n",
       "        vertical-align: top;\n",
       "    }\n",
       "\n",
       "    .dataframe thead th {\n",
       "        text-align: right;\n",
       "    }\n",
       "</style>\n",
       "<table border=\"1\" class=\"dataframe\">\n",
       "  <thead>\n",
       "    <tr style=\"text-align: right;\">\n",
       "      <th></th>\n",
       "      <th>fixed acidity</th>\n",
       "      <th>volatile acidity</th>\n",
       "      <th>citric acid</th>\n",
       "      <th>residual sugar</th>\n",
       "      <th>chlorides</th>\n",
       "      <th>free sulfur dioxide</th>\n",
       "      <th>total sulfur dioxide</th>\n",
       "      <th>density</th>\n",
       "      <th>pH</th>\n",
       "      <th>sulphates</th>\n",
       "      <th>alcohol</th>\n",
       "      <th>quality</th>\n",
       "    </tr>\n",
       "  </thead>\n",
       "  <tbody>\n",
       "    <tr>\n",
       "      <th>0</th>\n",
       "      <td>7.4</td>\n",
       "      <td>0.70</td>\n",
       "      <td>0.00</td>\n",
       "      <td>1.9</td>\n",
       "      <td>0.076</td>\n",
       "      <td>11.0</td>\n",
       "      <td>34.0</td>\n",
       "      <td>0.9978</td>\n",
       "      <td>3.51</td>\n",
       "      <td>0.56</td>\n",
       "      <td>9.4</td>\n",
       "      <td>0</td>\n",
       "    </tr>\n",
       "    <tr>\n",
       "      <th>1</th>\n",
       "      <td>7.8</td>\n",
       "      <td>0.88</td>\n",
       "      <td>0.00</td>\n",
       "      <td>2.6</td>\n",
       "      <td>0.098</td>\n",
       "      <td>25.0</td>\n",
       "      <td>67.0</td>\n",
       "      <td>0.9968</td>\n",
       "      <td>3.20</td>\n",
       "      <td>0.68</td>\n",
       "      <td>9.8</td>\n",
       "      <td>0</td>\n",
       "    </tr>\n",
       "    <tr>\n",
       "      <th>2</th>\n",
       "      <td>7.8</td>\n",
       "      <td>0.76</td>\n",
       "      <td>0.04</td>\n",
       "      <td>2.3</td>\n",
       "      <td>0.092</td>\n",
       "      <td>15.0</td>\n",
       "      <td>54.0</td>\n",
       "      <td>0.9970</td>\n",
       "      <td>3.26</td>\n",
       "      <td>0.65</td>\n",
       "      <td>9.8</td>\n",
       "      <td>0</td>\n",
       "    </tr>\n",
       "    <tr>\n",
       "      <th>3</th>\n",
       "      <td>11.2</td>\n",
       "      <td>0.28</td>\n",
       "      <td>0.56</td>\n",
       "      <td>1.9</td>\n",
       "      <td>0.075</td>\n",
       "      <td>17.0</td>\n",
       "      <td>60.0</td>\n",
       "      <td>0.9980</td>\n",
       "      <td>3.16</td>\n",
       "      <td>0.58</td>\n",
       "      <td>9.8</td>\n",
       "      <td>1</td>\n",
       "    </tr>\n",
       "    <tr>\n",
       "      <th>4</th>\n",
       "      <td>7.4</td>\n",
       "      <td>0.70</td>\n",
       "      <td>0.00</td>\n",
       "      <td>1.9</td>\n",
       "      <td>0.076</td>\n",
       "      <td>11.0</td>\n",
       "      <td>34.0</td>\n",
       "      <td>0.9978</td>\n",
       "      <td>3.51</td>\n",
       "      <td>0.56</td>\n",
       "      <td>9.4</td>\n",
       "      <td>0</td>\n",
       "    </tr>\n",
       "  </tbody>\n",
       "</table>\n",
       "</div>"
      ],
      "text/plain": [
       "   fixed acidity  volatile acidity  citric acid  residual sugar  chlorides   \n",
       "0            7.4              0.70         0.00             1.9      0.076  \\\n",
       "1            7.8              0.88         0.00             2.6      0.098   \n",
       "2            7.8              0.76         0.04             2.3      0.092   \n",
       "3           11.2              0.28         0.56             1.9      0.075   \n",
       "4            7.4              0.70         0.00             1.9      0.076   \n",
       "\n",
       "   free sulfur dioxide  total sulfur dioxide  density    pH  sulphates   \n",
       "0                 11.0                  34.0   0.9978  3.51       0.56  \\\n",
       "1                 25.0                  67.0   0.9968  3.20       0.68   \n",
       "2                 15.0                  54.0   0.9970  3.26       0.65   \n",
       "3                 17.0                  60.0   0.9980  3.16       0.58   \n",
       "4                 11.0                  34.0   0.9978  3.51       0.56   \n",
       "\n",
       "   alcohol  quality  \n",
       "0      9.4        0  \n",
       "1      9.8        0  \n",
       "2      9.8        0  \n",
       "3      9.8        1  \n",
       "4      9.4        0  "
      ]
     },
     "execution_count": 261,
     "metadata": {},
     "output_type": "execute_result"
    }
   ],
   "source": [
    "wines.head()"
   ]
  },
  {
   "cell_type": "markdown",
   "id": "63537fd6",
   "metadata": {},
   "source": [
    "# Q4. Separate the features and target variables from the dataset.\n",
    "___"
   ]
  },
  {
   "cell_type": "code",
   "execution_count": 262,
   "id": "d9cc8777",
   "metadata": {},
   "outputs": [],
   "source": [
    "X = wines.drop('quality', axis=1)\n",
    "y = wines.quality"
   ]
  },
  {
   "cell_type": "markdown",
   "id": "07538555",
   "metadata": {},
   "source": [
    "# Q5. Perform a train-test split, dividing the data into training, validation, and test datasets.\n",
    "___"
   ]
  },
  {
   "cell_type": "code",
   "execution_count": 263,
   "id": "f5b9e8e6",
   "metadata": {},
   "outputs": [],
   "source": [
    "from sklearn.model_selection import train_test_split\n",
    "X_train_full, X_test, y_train_full, y_test = train_test_split(X, y, test_size=0.2, random_state=42)\n",
    "X_train, X_valid, y_train, y_valid = train_test_split(X_train_full, y_train_full, test_size=0.20, random_state=42)"
   ]
  },
  {
   "cell_type": "code",
   "execution_count": 264,
   "id": "e7dcefdd",
   "metadata": {},
   "outputs": [
    {
     "name": "stdout",
     "output_type": "stream",
     "text": [
      "(1279, 11) (1279,)\n"
     ]
    }
   ],
   "source": [
    "print(X_train_full.shape, y_train_full.shape) # Full Training Set"
   ]
  },
  {
   "cell_type": "code",
   "execution_count": 265,
   "id": "2ce50037",
   "metadata": {},
   "outputs": [
    {
     "name": "stdout",
     "output_type": "stream",
     "text": [
      "(320, 11) (320,)\n"
     ]
    }
   ],
   "source": [
    "print(X_test.shape, y_test.shape) # Test Set"
   ]
  },
  {
   "cell_type": "code",
   "execution_count": 266,
   "id": "7b9dd67c",
   "metadata": {},
   "outputs": [
    {
     "name": "stdout",
     "output_type": "stream",
     "text": [
      "(1023, 11) (1023,)\n"
     ]
    }
   ],
   "source": [
    "print(X_train.shape, y_train.shape) # Training Set"
   ]
  },
  {
   "cell_type": "code",
   "execution_count": 267,
   "id": "d5dacb95",
   "metadata": {},
   "outputs": [
    {
     "name": "stdout",
     "output_type": "stream",
     "text": [
      "(256, 11) (256,)\n"
     ]
    }
   ],
   "source": [
    "print(X_valid.shape, y_valid.shape) # Validation Set"
   ]
  },
  {
   "cell_type": "markdown",
   "id": "60b7fec0",
   "metadata": {},
   "source": [
    "# Q6. Scale the dataset using an appropriate scaling technique.\n",
    "___"
   ]
  },
  {
   "cell_type": "code",
   "execution_count": 268,
   "id": "2a2b504c",
   "metadata": {},
   "outputs": [],
   "source": [
    "from sklearn.preprocessing import StandardScaler\n",
    "scaler = StandardScaler()\n",
    "X_train = scaler.fit_transform(X_train)\n",
    "X_valid = scaler.transform(X_valid)\n",
    "X_test = scaler.transform(X_test)"
   ]
  },
  {
   "cell_type": "markdown",
   "id": "7988b882",
   "metadata": {},
   "source": [
    "# Q7. Design and implement at least two hidden layers and an output layer for the binary categorical variables.\n",
    "___"
   ]
  },
  {
   "cell_type": "code",
   "execution_count": 269,
   "id": "e2a6405b",
   "metadata": {},
   "outputs": [],
   "source": [
    "from keras.layers import InputLayer,Dense"
   ]
  },
  {
   "cell_type": "code",
   "execution_count": 270,
   "id": "5b76f82f",
   "metadata": {},
   "outputs": [
    {
     "data": {
      "text/plain": [
       "11"
      ]
     },
     "execution_count": 270,
     "metadata": {},
     "output_type": "execute_result"
    }
   ],
   "source": [
    "# defining input neurons\n",
    "input_neurons = X_train.shape[1]\n",
    "input_neurons"
   ]
  },
  {
   "cell_type": "code",
   "execution_count": 271,
   "id": "e6ace196",
   "metadata": {},
   "outputs": [
    {
     "data": {
      "text/plain": [
       "2"
      ]
     },
     "execution_count": 271,
     "metadata": {},
     "output_type": "execute_result"
    }
   ],
   "source": [
    "# defining number of output neurons\n",
    "output_neurons = len(np.unique(y_train))\n",
    "output_neurons"
   ]
  },
  {
   "cell_type": "code",
   "execution_count": 272,
   "id": "af9580b8",
   "metadata": {},
   "outputs": [],
   "source": [
    "# defining hidden layers and neurons in each layer\n",
    "number_of_hidden_layers = 2\n",
    "neuron_hidden_layer_1 = 10\n",
    "neuron_hidden_layer_2 = 5"
   ]
  },
  {
   "cell_type": "markdown",
   "id": "441651eb",
   "metadata": {},
   "source": [
    "# Q8. Create a Sequential model in Keras and add the previously designed layers to it.\n",
    "___"
   ]
  },
  {
   "cell_type": "code",
   "execution_count": 273,
   "id": "cee91234",
   "metadata": {},
   "outputs": [],
   "source": [
    "from keras.models import Sequential"
   ]
  },
  {
   "cell_type": "code",
   "execution_count": 274,
   "id": "6e761fe5",
   "metadata": {},
   "outputs": [],
   "source": [
    "model = Sequential()\n",
    "model.add(InputLayer(input_shape=(input_neurons,)))\n",
    "model.add(Dense(units=neuron_hidden_layer_1, activation='elu'))\n",
    "model.add(Dense(units=neuron_hidden_layer_2, activation='elu'))\n",
    "model.add(Dense(units=output_neurons, activation='tanh'))"
   ]
  },
  {
   "cell_type": "markdown",
   "id": "4c00279d",
   "metadata": {},
   "source": [
    "# Q9. Implement a TensorBoard callback to visualize and monitor the model's training process.\n",
    "___"
   ]
  },
  {
   "cell_type": "code",
   "execution_count": 275,
   "id": "b3f16e95-085f-4bce-b927-c286c571e412",
   "metadata": {},
   "outputs": [],
   "source": [
    "%reload_ext tensorboard"
   ]
  },
  {
   "cell_type": "code",
   "execution_count": 276,
   "id": "44874535-45aa-479f-8d7d-5dbbb15ba102",
   "metadata": {},
   "outputs": [],
   "source": [
    "!rd /s /q logs"
   ]
  },
  {
   "cell_type": "code",
   "execution_count": 277,
   "id": "23f90d98",
   "metadata": {},
   "outputs": [],
   "source": [
    "from keras.callbacks import TensorBoard"
   ]
  },
  {
   "cell_type": "code",
   "execution_count": 278,
   "id": "b6207aea",
   "metadata": {},
   "outputs": [],
   "source": [
    "tensorboard = TensorBoard(log_dir='logs')"
   ]
  },
  {
   "cell_type": "markdown",
   "id": "1a4587a5",
   "metadata": {},
   "source": [
    "# Q10. Use Early Stopping to prevent overfitting by monitoring a chosen metric and stopping the training if no improvement is observed.\n",
    "___"
   ]
  },
  {
   "cell_type": "code",
   "execution_count": 279,
   "id": "6707aa46",
   "metadata": {},
   "outputs": [],
   "source": [
    "from keras.callbacks import EarlyStopping"
   ]
  },
  {
   "cell_type": "code",
   "execution_count": 280,
   "id": "132ad3a5",
   "metadata": {},
   "outputs": [],
   "source": [
    "early_stopping = EarlyStopping(monitor='loss', patience=5, min_delta=0.01)"
   ]
  },
  {
   "cell_type": "markdown",
   "id": "c775b77d",
   "metadata": {},
   "source": [
    "# Q11. Implement a ModelCheckpoint callback to save the best model based on a chosen metric during training.\n",
    "___"
   ]
  },
  {
   "cell_type": "code",
   "execution_count": 281,
   "id": "26d2207f",
   "metadata": {},
   "outputs": [],
   "source": [
    "from keras.callbacks import ModelCheckpoint"
   ]
  },
  {
   "cell_type": "code",
   "execution_count": 282,
   "id": "f7288100",
   "metadata": {},
   "outputs": [],
   "source": [
    "model_checkpoint = ModelCheckpoint(filepath='best_model.h5', monitor='loss', save_best_only=True,)"
   ]
  },
  {
   "cell_type": "markdown",
   "id": "45168e46",
   "metadata": {},
   "source": [
    "# Q12. Print the summary of the model architecture.\n",
    "___"
   ]
  },
  {
   "cell_type": "code",
   "execution_count": 283,
   "id": "f9839d76",
   "metadata": {},
   "outputs": [
    {
     "name": "stdout",
     "output_type": "stream",
     "text": [
      "Model: \"sequential_4\"\n",
      "_________________________________________________________________\n",
      " Layer (type)                Output Shape              Param #   \n",
      "=================================================================\n",
      " dense_12 (Dense)            (None, 10)                120       \n",
      "                                                                 \n",
      " dense_13 (Dense)            (None, 5)                 55        \n",
      "                                                                 \n",
      " dense_14 (Dense)            (None, 2)                 12        \n",
      "                                                                 \n",
      "=================================================================\n",
      "Total params: 187 (748.00 Byte)\n",
      "Trainable params: 187 (748.00 Byte)\n",
      "Non-trainable params: 0 (0.00 Byte)\n",
      "_________________________________________________________________\n"
     ]
    }
   ],
   "source": [
    "model.summary()"
   ]
  },
  {
   "cell_type": "markdown",
   "id": "72c832e5",
   "metadata": {},
   "source": [
    "# Q13. Set the loss function(‘binary_crossentropy’), optimizer, and include the accuracy metric in the model.\n",
    "___"
   ]
  },
  {
   "cell_type": "code",
   "execution_count": 284,
   "id": "67fbbf48",
   "metadata": {},
   "outputs": [],
   "source": [
    "LOSS = 'binary_crossentropy'\n",
    "OPTIMIZER = 'adam'\n",
    "METRICS = ['accuracy']"
   ]
  },
  {
   "cell_type": "markdown",
   "id": "21413c43",
   "metadata": {},
   "source": [
    "# Q14. Compile the model with the specified loss function, optimizer, and metrics.\n",
    "___"
   ]
  },
  {
   "cell_type": "code",
   "execution_count": 285,
   "id": "25340eef",
   "metadata": {},
   "outputs": [],
   "source": [
    "model.compile(loss=LOSS, optimizer=OPTIMIZER, metrics=METRICS)"
   ]
  },
  {
   "cell_type": "markdown",
   "id": "26b2d992",
   "metadata": {},
   "source": [
    "# Q15. Fit the model to the data, incorporating the TensorBoard, Early Stopping, and ModelCheckpoint callbacks.\n",
    "___"
   ]
  },
  {
   "cell_type": "code",
   "execution_count": 286,
   "id": "d12a3526",
   "metadata": {},
   "outputs": [
    {
     "name": "stdout",
     "output_type": "stream",
     "text": [
      "Epoch 1/1000\n",
      "32/32 [==============================] - 1s 6ms/step - loss: 4.4204 - accuracy: 0.3529 - val_loss: 3.5178 - val_accuracy: 0.3828\n",
      "Epoch 2/1000\n",
      "32/32 [==============================] - 0s 4ms/step - loss: 3.7416 - accuracy: 0.3597 - val_loss: 3.1535 - val_accuracy: 0.3594\n",
      "Epoch 3/1000\n",
      "32/32 [==============================] - 0s 3ms/step - loss: 3.3793 - accuracy: 0.3509 - val_loss: 2.9004 - val_accuracy: 0.3711\n",
      "Epoch 4/1000\n",
      "32/32 [==============================] - 0s 3ms/step - loss: 3.0847 - accuracy: 0.3812 - val_loss: 2.6316 - val_accuracy: 0.3633\n",
      "Epoch 5/1000\n",
      "32/32 [==============================] - 0s 3ms/step - loss: 2.8202 - accuracy: 0.3900 - val_loss: 2.4355 - val_accuracy: 0.3945\n",
      "Epoch 6/1000\n",
      "32/32 [==============================] - 0s 3ms/step - loss: 2.4929 - accuracy: 0.4223 - val_loss: 2.0259 - val_accuracy: 0.4023\n",
      "Epoch 7/1000\n",
      "32/32 [==============================] - 0s 4ms/step - loss: 2.1933 - accuracy: 0.4047 - val_loss: 1.7451 - val_accuracy: 0.3789\n",
      "Epoch 8/1000\n",
      "32/32 [==============================] - 0s 3ms/step - loss: 2.0169 - accuracy: 0.3881 - val_loss: 1.6658 - val_accuracy: 0.3828\n",
      "Epoch 9/1000\n",
      "32/32 [==============================] - 0s 3ms/step - loss: 1.9052 - accuracy: 0.3881 - val_loss: 1.6051 - val_accuracy: 0.3867\n",
      "Epoch 10/1000\n",
      "32/32 [==============================] - 0s 3ms/step - loss: 1.8140 - accuracy: 0.4037 - val_loss: 1.5148 - val_accuracy: 0.3945\n",
      "Epoch 11/1000\n",
      "32/32 [==============================] - 0s 3ms/step - loss: 1.7180 - accuracy: 0.3939 - val_loss: 1.4092 - val_accuracy: 0.3945\n",
      "Epoch 12/1000\n",
      "32/32 [==============================] - 0s 4ms/step - loss: 1.6244 - accuracy: 0.3988 - val_loss: 1.3688 - val_accuracy: 0.3906\n",
      "Epoch 13/1000\n",
      "32/32 [==============================] - 0s 4ms/step - loss: 1.5511 - accuracy: 0.3978 - val_loss: 1.3305 - val_accuracy: 0.3867\n",
      "Epoch 14/1000\n",
      "32/32 [==============================] - 0s 3ms/step - loss: 1.5239 - accuracy: 0.4027 - val_loss: 1.3181 - val_accuracy: 0.3984\n",
      "Epoch 15/1000\n",
      "32/32 [==============================] - 0s 3ms/step - loss: 1.5024 - accuracy: 0.3988 - val_loss: 1.3094 - val_accuracy: 0.3828\n",
      "Epoch 16/1000\n",
      "32/32 [==============================] - 0s 3ms/step - loss: 1.4736 - accuracy: 0.3969 - val_loss: 1.3021 - val_accuracy: 0.3867\n",
      "Epoch 17/1000\n",
      "32/32 [==============================] - 0s 3ms/step - loss: 1.4399 - accuracy: 0.3959 - val_loss: 1.2930 - val_accuracy: 0.3828\n",
      "Epoch 18/1000\n",
      "32/32 [==============================] - 0s 3ms/step - loss: 1.3941 - accuracy: 0.3920 - val_loss: 1.2633 - val_accuracy: 0.3672\n",
      "Epoch 19/1000\n",
      "32/32 [==============================] - 0s 3ms/step - loss: 1.3459 - accuracy: 0.3803 - val_loss: 1.1791 - val_accuracy: 0.3672\n",
      "Epoch 20/1000\n",
      "32/32 [==============================] - 0s 3ms/step - loss: 1.2981 - accuracy: 0.3871 - val_loss: 1.1536 - val_accuracy: 0.3672\n",
      "Epoch 21/1000\n",
      "32/32 [==============================] - 0s 3ms/step - loss: 1.2908 - accuracy: 0.3900 - val_loss: 1.1700 - val_accuracy: 0.3711\n",
      "Epoch 22/1000\n",
      "32/32 [==============================] - 0s 3ms/step - loss: 1.2756 - accuracy: 0.3969 - val_loss: 1.1232 - val_accuracy: 0.3867\n",
      "Epoch 23/1000\n",
      "32/32 [==============================] - 0s 3ms/step - loss: 1.2610 - accuracy: 0.4008 - val_loss: 1.1116 - val_accuracy: 0.3867\n",
      "Epoch 24/1000\n",
      "32/32 [==============================] - 0s 3ms/step - loss: 1.2511 - accuracy: 0.4027 - val_loss: 1.0812 - val_accuracy: 0.3867\n",
      "Epoch 25/1000\n",
      "32/32 [==============================] - 0s 3ms/step - loss: 1.2458 - accuracy: 0.4057 - val_loss: 1.0724 - val_accuracy: 0.3945\n",
      "Epoch 26/1000\n",
      "32/32 [==============================] - 0s 3ms/step - loss: 1.2357 - accuracy: 0.4076 - val_loss: 1.0686 - val_accuracy: 0.3984\n",
      "Epoch 27/1000\n",
      "32/32 [==============================] - 0s 3ms/step - loss: 1.2164 - accuracy: 0.4057 - val_loss: 1.0387 - val_accuracy: 0.4062\n",
      "Epoch 28/1000\n",
      "32/32 [==============================] - 0s 3ms/step - loss: 1.1384 - accuracy: 0.4076 - val_loss: 1.0349 - val_accuracy: 0.4141\n",
      "Epoch 29/1000\n",
      "32/32 [==============================] - 0s 3ms/step - loss: 1.0849 - accuracy: 0.4096 - val_loss: 1.0295 - val_accuracy: 0.4180\n",
      "Epoch 30/1000\n",
      "32/32 [==============================] - 0s 3ms/step - loss: 1.0535 - accuracy: 0.4233 - val_loss: 1.0260 - val_accuracy: 0.4336\n",
      "Epoch 31/1000\n",
      "32/32 [==============================] - 0s 3ms/step - loss: 1.0409 - accuracy: 0.4291 - val_loss: 1.0234 - val_accuracy: 0.4258\n",
      "Epoch 32/1000\n",
      "32/32 [==============================] - 0s 3ms/step - loss: 1.0127 - accuracy: 0.4311 - val_loss: 1.0220 - val_accuracy: 0.4180\n",
      "Epoch 33/1000\n",
      "32/32 [==============================] - 0s 3ms/step - loss: 0.9825 - accuracy: 0.4272 - val_loss: 1.0207 - val_accuracy: 0.4219\n",
      "Epoch 34/1000\n",
      "32/32 [==============================] - 0s 3ms/step - loss: 0.9709 - accuracy: 0.4223 - val_loss: 0.9972 - val_accuracy: 0.4219\n",
      "Epoch 35/1000\n",
      "32/32 [==============================] - 0s 3ms/step - loss: 0.9503 - accuracy: 0.4223 - val_loss: 0.9193 - val_accuracy: 0.4180\n",
      "Epoch 36/1000\n",
      "32/32 [==============================] - 0s 3ms/step - loss: 0.9409 - accuracy: 0.4145 - val_loss: 0.9193 - val_accuracy: 0.4102\n",
      "Epoch 37/1000\n",
      "32/32 [==============================] - 0s 3ms/step - loss: 0.9370 - accuracy: 0.4164 - val_loss: 0.9167 - val_accuracy: 0.4141\n",
      "Epoch 38/1000\n",
      "32/32 [==============================] - 0s 3ms/step - loss: 0.9191 - accuracy: 0.4242 - val_loss: 0.8716 - val_accuracy: 0.4219\n",
      "Epoch 39/1000\n",
      "32/32 [==============================] - 0s 3ms/step - loss: 0.8857 - accuracy: 0.4164 - val_loss: 0.8658 - val_accuracy: 0.4180\n",
      "Epoch 40/1000\n",
      "32/32 [==============================] - 0s 3ms/step - loss: 0.8814 - accuracy: 0.4194 - val_loss: 0.8651 - val_accuracy: 0.4219\n",
      "Epoch 41/1000\n",
      "32/32 [==============================] - 0s 3ms/step - loss: 0.8789 - accuracy: 0.4203 - val_loss: 0.8653 - val_accuracy: 0.4258\n",
      "Epoch 42/1000\n",
      "32/32 [==============================] - 0s 3ms/step - loss: 0.8715 - accuracy: 0.4174 - val_loss: 0.8617 - val_accuracy: 0.4102\n",
      "Epoch 43/1000\n",
      "32/32 [==============================] - 0s 3ms/step - loss: 0.8561 - accuracy: 0.4086 - val_loss: 0.8608 - val_accuracy: 0.4141\n",
      "Epoch 44/1000\n",
      "32/32 [==============================] - 0s 3ms/step - loss: 0.8533 - accuracy: 0.4125 - val_loss: 0.8604 - val_accuracy: 0.4141\n",
      "Epoch 45/1000\n",
      "32/32 [==============================] - 0s 3ms/step - loss: 0.8518 - accuracy: 0.4086 - val_loss: 0.8604 - val_accuracy: 0.4141\n",
      "Epoch 46/1000\n",
      "32/32 [==============================] - 0s 3ms/step - loss: 0.8447 - accuracy: 0.4154 - val_loss: 0.8597 - val_accuracy: 0.4102\n",
      "Epoch 47/1000\n",
      "32/32 [==============================] - 0s 4ms/step - loss: 0.8431 - accuracy: 0.4164 - val_loss: 0.8606 - val_accuracy: 0.4258\n",
      "Epoch 48/1000\n",
      "32/32 [==============================] - 0s 3ms/step - loss: 0.8414 - accuracy: 0.4174 - val_loss: 0.8592 - val_accuracy: 0.4219\n",
      "Epoch 49/1000\n",
      "32/32 [==============================] - 0s 3ms/step - loss: 0.8404 - accuracy: 0.4213 - val_loss: 0.8587 - val_accuracy: 0.4219\n",
      "Epoch 50/1000\n",
      "32/32 [==============================] - 0s 3ms/step - loss: 0.8401 - accuracy: 0.4213 - val_loss: 0.8592 - val_accuracy: 0.4297\n",
      "Epoch 51/1000\n",
      "32/32 [==============================] - 0s 3ms/step - loss: 0.8103 - accuracy: 0.4262 - val_loss: 0.8147 - val_accuracy: 0.4180\n",
      "Epoch 52/1000\n",
      "32/32 [==============================] - 0s 4ms/step - loss: 0.7875 - accuracy: 0.4282 - val_loss: 0.8125 - val_accuracy: 0.4336\n",
      "Epoch 53/1000\n",
      "32/32 [==============================] - 0s 3ms/step - loss: 0.7802 - accuracy: 0.4379 - val_loss: 0.7916 - val_accuracy: 0.4336\n",
      "Epoch 54/1000\n",
      "32/32 [==============================] - 0s 3ms/step - loss: 0.7680 - accuracy: 0.4428 - val_loss: 0.7447 - val_accuracy: 0.4531\n",
      "Epoch 55/1000\n",
      "32/32 [==============================] - 0s 3ms/step - loss: 0.7439 - accuracy: 0.4721 - val_loss: 0.6978 - val_accuracy: 0.5195\n",
      "Epoch 56/1000\n",
      "32/32 [==============================] - 0s 3ms/step - loss: 0.6957 - accuracy: 0.4946 - val_loss: 0.6973 - val_accuracy: 0.5273\n",
      "Epoch 57/1000\n",
      "32/32 [==============================] - 0s 3ms/step - loss: 0.6959 - accuracy: 0.4956 - val_loss: 0.7160 - val_accuracy: 0.5234\n",
      "Epoch 58/1000\n",
      "32/32 [==============================] - 0s 3ms/step - loss: 0.6933 - accuracy: 0.4917 - val_loss: 0.7194 - val_accuracy: 0.5078\n",
      "Epoch 59/1000\n",
      "32/32 [==============================] - 0s 3ms/step - loss: 0.6925 - accuracy: 0.5093 - val_loss: 0.7233 - val_accuracy: 0.5508\n",
      "Epoch 60/1000\n",
      "32/32 [==============================] - 0s 3ms/step - loss: 0.6913 - accuracy: 0.5064 - val_loss: 0.7224 - val_accuracy: 0.5312\n",
      "Epoch 61/1000\n",
      "32/32 [==============================] - 0s 4ms/step - loss: 0.6892 - accuracy: 0.4897 - val_loss: 0.7207 - val_accuracy: 0.5156\n"
     ]
    }
   ],
   "source": [
    "model_history = model.fit(X_train, y_train, validation_data=(X_valid, y_valid), epochs=1000,callbacks=[early_stopping,model_checkpoint,tensorboard])"
   ]
  },
  {
   "cell_type": "code",
   "execution_count": 287,
   "id": "820b1389",
   "metadata": {},
   "outputs": [
    {
     "data": {
      "text/plain": [
       "0.6891754269599915"
      ]
     },
     "execution_count": 287,
     "metadata": {},
     "output_type": "execute_result"
    }
   ],
   "source": [
    "# ModelCheckPoint saves least loss model\n",
    "model_checkpoint.best"
   ]
  },
  {
   "cell_type": "markdown",
   "id": "f554aa93-0191-4735-9100-9af760345f77",
   "metadata": {},
   "source": [
    "### Launching TensorBoard Interactive Window "
   ]
  },
  {
   "cell_type": "code",
   "execution_count": 288,
   "id": "d2282616-9d7c-4780-82cf-4677640edb16",
   "metadata": {},
   "outputs": [
    {
     "data": {
      "text/plain": [
       "Reusing TensorBoard on port 5000 (pid 12212), started 0:16:47 ago. (Use '!kill 12212' to kill it.)"
      ]
     },
     "metadata": {},
     "output_type": "display_data"
    },
    {
     "data": {
      "text/html": [
       "\n",
       "      <iframe id=\"tensorboard-frame-90386964b843cd31\" width=\"100%\" height=\"800\" frameborder=\"0\">\n",
       "      </iframe>\n",
       "      <script>\n",
       "        (function() {\n",
       "          const frame = document.getElementById(\"tensorboard-frame-90386964b843cd31\");\n",
       "          const url = new URL(\"/\", window.location);\n",
       "          const port = 5000;\n",
       "          if (port) {\n",
       "            url.port = port;\n",
       "          }\n",
       "          frame.src = url;\n",
       "        })();\n",
       "      </script>\n",
       "    "
      ],
      "text/plain": [
       "<IPython.core.display.HTML object>"
      ]
     },
     "metadata": {},
     "output_type": "display_data"
    }
   ],
   "source": [
    "%tensorboard --logdir logs --port 5000"
   ]
  },
  {
   "cell_type": "markdown",
   "id": "b9b8b8a0",
   "metadata": {},
   "source": [
    "# Q16. Obtain the model's parameters (weights and biases).\n",
    "___"
   ]
  },
  {
   "cell_type": "code",
   "execution_count": 289,
   "id": "b1a52ce6",
   "metadata": {
    "scrolled": true
   },
   "outputs": [
    {
     "name": "stdout",
     "output_type": "stream",
     "text": [
      "[<tf.Variable 'dense_12/kernel:0' shape=(11, 10) dtype=float32, numpy=\n",
      "array([[ 0.12684366, -0.09435194, -0.41650373, -0.04112345,  0.35721618,\n",
      "         0.02312896, -0.46665305, -0.22421989, -0.31741378, -0.4496731 ],\n",
      "       [-0.2599775 ,  0.17598222, -0.26061946,  0.02854928,  0.29514438,\n",
      "        -0.0791732 ,  0.19997121,  0.03769185,  0.21046762, -0.11919166],\n",
      "       [ 0.4342472 , -0.29556918,  0.2542869 ,  0.35746428,  0.4622293 ,\n",
      "         0.17206375,  0.4513741 ,  0.3201127 ,  0.03309047, -0.25117743],\n",
      "       [ 0.14409989,  0.3812426 ,  0.39665547, -0.14057815,  0.04909178,\n",
      "        -0.16803181, -0.42471832,  0.44716218,  0.32116553, -0.02350205],\n",
      "       [-0.24915177, -0.00065905, -0.29698756,  0.01922321,  0.29482058,\n",
      "        -0.2825306 , -0.225876  , -0.21371786, -0.05214179,  0.5455709 ],\n",
      "       [-0.3017123 , -0.36972123,  0.19936973, -0.30956373, -0.07049828,\n",
      "         0.23791575,  0.31155506, -0.16663122,  0.02288728,  0.09732912],\n",
      "       [ 0.20190787, -0.03304735, -0.33862254,  0.01507927,  0.0788701 ,\n",
      "        -0.00985405,  0.08791177, -0.4072227 ,  0.12331928, -0.382756  ],\n",
      "       [-0.03633433, -0.17056337, -0.35143453,  0.3681409 , -0.16910651,\n",
      "         0.10890684,  0.40111643,  0.5198667 , -0.2313006 ,  0.2928211 ],\n",
      "       [-0.03192307, -0.38138786, -0.297338  , -0.0019239 , -0.10491747,\n",
      "        -0.4287596 , -0.17953455, -0.4531361 , -0.3981998 ,  0.33399254],\n",
      "       [-0.54070675,  0.1228314 ,  0.10355738,  0.13381143,  0.10015758,\n",
      "         0.01092428, -0.01584079, -0.11255137, -0.57586557,  0.27650163],\n",
      "       [ 0.26020777, -0.56919616, -0.07357476, -0.24266456, -0.2256417 ,\n",
      "         0.43096834, -0.34417933, -0.34434175, -0.00637801, -0.10803991]],\n",
      "      dtype=float32)>, <tf.Variable 'dense_12/bias:0' shape=(10,) dtype=float32, numpy=\n",
      "array([-0.2265052 , -0.16894044,  0.15554695,  0.22146292, -0.27674392,\n",
      "        0.17047755,  0.04418298,  0.15300177, -0.20929052, -0.08704128],\n",
      "      dtype=float32)>, <tf.Variable 'dense_13/kernel:0' shape=(10, 5) dtype=float32, numpy=\n",
      "array([[-0.00154843, -0.126619  ,  0.2818404 ,  0.6024146 , -0.06843778],\n",
      "       [-0.48824692, -0.3743475 , -0.10726773,  0.14743683,  0.10743175],\n",
      "       [ 0.38096902,  0.6097545 ,  0.07256561, -0.58460623,  0.44168925],\n",
      "       [-0.4801055 ,  0.25554997, -0.13792577, -0.514505  , -0.02513604],\n",
      "       [ 0.54043406, -0.42805374,  0.14946827,  0.22888832, -0.03919752],\n",
      "       [-0.47056347,  0.14737657,  0.2869047 , -0.44515505, -0.65628874],\n",
      "       [-0.6528123 , -0.5474586 , -0.5050745 , -0.4680574 ,  0.51933265],\n",
      "       [ 0.12216485, -0.20421115, -0.011387  , -0.2999512 ,  0.01513915],\n",
      "       [-0.48545352,  0.13818571, -0.399456  ,  0.3043403 ,  0.11934077],\n",
      "       [-0.22552449, -0.31734028,  0.21501258,  0.11670955, -0.3911266 ]],\n",
      "      dtype=float32)>, <tf.Variable 'dense_13/bias:0' shape=(5,) dtype=float32, numpy=\n",
      "array([ 0.02577423,  0.1852476 , -0.10487525, -0.26527023, -0.20907198],\n",
      "      dtype=float32)>, <tf.Variable 'dense_14/kernel:0' shape=(5, 2) dtype=float32, numpy=\n",
      "array([[-0.6762319 ,  0.7599831 ],\n",
      "       [ 0.5899374 ,  0.37974134],\n",
      "       [ 0.5333845 , -0.69056964],\n",
      "       [-0.29898793, -0.6901687 ],\n",
      "       [-0.69524246, -0.80368537]], dtype=float32)>, <tf.Variable 'dense_14/bias:0' shape=(2,) dtype=float32, numpy=array([0.21870764, 0.18930419], dtype=float32)>]\n"
     ]
    }
   ],
   "source": [
    "print(model.weights)"
   ]
  },
  {
   "cell_type": "markdown",
   "id": "00d3f45a",
   "metadata": {},
   "source": [
    "# Q17. Store the model's training history as a Pandas DataFrame.\n",
    "___"
   ]
  },
  {
   "cell_type": "code",
   "execution_count": 290,
   "id": "33cd0981",
   "metadata": {},
   "outputs": [],
   "source": [
    "model_history_df = pd.DataFrame(model_history.history)"
   ]
  },
  {
   "cell_type": "code",
   "execution_count": 291,
   "id": "cdd211da",
   "metadata": {},
   "outputs": [
    {
     "data": {
      "text/html": [
       "<div>\n",
       "<style scoped>\n",
       "    .dataframe tbody tr th:only-of-type {\n",
       "        vertical-align: middle;\n",
       "    }\n",
       "\n",
       "    .dataframe tbody tr th {\n",
       "        vertical-align: top;\n",
       "    }\n",
       "\n",
       "    .dataframe thead th {\n",
       "        text-align: right;\n",
       "    }\n",
       "</style>\n",
       "<table border=\"1\" class=\"dataframe\">\n",
       "  <thead>\n",
       "    <tr style=\"text-align: right;\">\n",
       "      <th></th>\n",
       "      <th>loss</th>\n",
       "      <th>accuracy</th>\n",
       "      <th>val_loss</th>\n",
       "      <th>val_accuracy</th>\n",
       "    </tr>\n",
       "  </thead>\n",
       "  <tbody>\n",
       "    <tr>\n",
       "      <th>0</th>\n",
       "      <td>4.420409</td>\n",
       "      <td>0.352884</td>\n",
       "      <td>3.517834</td>\n",
       "      <td>0.382812</td>\n",
       "    </tr>\n",
       "    <tr>\n",
       "      <th>1</th>\n",
       "      <td>3.741608</td>\n",
       "      <td>0.359726</td>\n",
       "      <td>3.153470</td>\n",
       "      <td>0.359375</td>\n",
       "    </tr>\n",
       "    <tr>\n",
       "      <th>2</th>\n",
       "      <td>3.379321</td>\n",
       "      <td>0.350929</td>\n",
       "      <td>2.900363</td>\n",
       "      <td>0.371094</td>\n",
       "    </tr>\n",
       "    <tr>\n",
       "      <th>3</th>\n",
       "      <td>3.084671</td>\n",
       "      <td>0.381232</td>\n",
       "      <td>2.631635</td>\n",
       "      <td>0.363281</td>\n",
       "    </tr>\n",
       "    <tr>\n",
       "      <th>4</th>\n",
       "      <td>2.820226</td>\n",
       "      <td>0.390029</td>\n",
       "      <td>2.435525</td>\n",
       "      <td>0.394531</td>\n",
       "    </tr>\n",
       "  </tbody>\n",
       "</table>\n",
       "</div>"
      ],
      "text/plain": [
       "       loss  accuracy  val_loss  val_accuracy\n",
       "0  4.420409  0.352884  3.517834      0.382812\n",
       "1  3.741608  0.359726  3.153470      0.359375\n",
       "2  3.379321  0.350929  2.900363      0.371094\n",
       "3  3.084671  0.381232  2.631635      0.363281\n",
       "4  2.820226  0.390029  2.435525      0.394531"
      ]
     },
     "execution_count": 291,
     "metadata": {},
     "output_type": "execute_result"
    }
   ],
   "source": [
    "model_history_df.head()"
   ]
  },
  {
   "cell_type": "markdown",
   "id": "412867d8",
   "metadata": {},
   "source": [
    "# Q18. Plot the training history (e.g., accuracy and loss) using suitable visualization techniques.\n",
    "___"
   ]
  },
  {
   "cell_type": "markdown",
   "id": "a8ecae93",
   "metadata": {},
   "source": [
    "### Visualizing history for loss"
   ]
  },
  {
   "cell_type": "code",
   "execution_count": 292,
   "id": "bba86a67",
   "metadata": {},
   "outputs": [
    {
     "data": {
      "image/png": "[encoded data removed]",
      "text/plain": [
       "<Figure size 640x480 with 1 Axes>"
      ]
     },
     "metadata": {},
     "output_type": "display_data"
    }
   ],
   "source": [
    "plt.plot(model_history.history['loss'])\n",
    "plt.plot(model_history.history['val_loss'])\n",
    "plt.title('model loss')\n",
    "plt.ylabel('loss')\n",
    "plt.xlabel('epoch')\n",
    "plt.legend(['train', 'validation'], loc='upper right')\n",
    "plt.show()"
   ]
  },
  {
   "cell_type": "markdown",
   "id": "e8ade0d7",
   "metadata": {},
   "source": [
    "### Visualizing history for accuracy"
   ]
  },
  {
   "cell_type": "code",
   "execution_count": 293,
   "id": "059659d9",
   "metadata": {},
   "outputs": [
    {
     "data": {
      "image/png": "[encoded data removed]",
      "text/plain": [
       "<Figure size 640x480 with 1 Axes>"
      ]
     },
     "metadata": {},
     "output_type": "display_data"
    }
   ],
   "source": [
    "plt.plot(model_history.history['accuracy'])\n",
    "plt.plot(model_history.history['val_accuracy'])\n",
    "plt.title('model accuracy')\n",
    "plt.ylabel('accuracy')\n",
    "plt.xlabel('epoch')\n",
    "plt.legend(['train', 'validation'], loc='upper left')\n",
    "plt.show()"
   ]
  },
  {
   "cell_type": "markdown",
   "id": "0d6da147",
   "metadata": {},
   "source": [
    "# Q19. Evaluate the model's performance using the test dataset and report relevant metrics.\n",
    "___"
   ]
  },
  {
   "cell_type": "code",
   "execution_count": 294,
   "id": "34420c2e",
   "metadata": {},
   "outputs": [
    {
     "name": "stdout",
     "output_type": "stream",
     "text": [
      "10/10 [==============================] - 0s 890us/step\n"
     ]
    }
   ],
   "source": [
    "y_pred_probabilities = model.predict(X_test)"
   ]
  },
  {
   "cell_type": "code",
   "execution_count": 295,
   "id": "a2649926",
   "metadata": {
    "scrolled": true
   },
   "outputs": [
    {
     "data": {
      "text/plain": [
       "array([[ 4.12188023e-01,  3.62888545e-01],\n",
       "       [ 1.21079996e-01,  4.17731926e-02],\n",
       "       [ 6.03749990e-01,  6.33831382e-01],\n",
       "       [ 4.93340194e-01,  5.20213723e-01],\n",
       "       [ 6.97067261e-01,  7.88000286e-01],\n",
       "       [ 1.94621637e-01,  2.81099766e-01],\n",
       "       [ 1.12166889e-01, -2.89022997e-02],\n",
       "       [ 2.38072589e-01,  1.23104781e-01],\n",
       "       [ 6.17399454e-01,  6.24208570e-01],\n",
       "       [ 6.36297286e-01,  7.93501437e-01],\n",
       "       [ 8.79795790e-01,  8.11572492e-01],\n",
       "       [ 4.73495692e-01,  3.54393572e-01],\n",
       "       [ 4.72639948e-01,  5.29662967e-01],\n",
       "       [ 1.29849195e-01,  1.92759156e-01],\n",
       "       [ 3.56908202e-01,  4.79164332e-01],\n",
       "       [ 9.51278269e-01,  8.77064049e-01],\n",
       "       [ 2.17978269e-01,  1.83944497e-02],\n",
       "       [ 6.24708772e-01,  6.60152435e-01],\n",
       "       [ 9.37060535e-01,  9.27578151e-01],\n",
       "       [ 2.12291509e-01,  2.70719618e-01],\n",
       "       [ 2.43087843e-01, -6.98849442e-04],\n",
       "       [ 1.21542431e-01,  1.96213424e-01],\n",
       "       [ 7.32689321e-01,  8.08347642e-01],\n",
       "       [ 9.25214827e-01,  9.02544081e-01],\n",
       "       [ 4.59650815e-01,  4.03332055e-01],\n",
       "       [ 5.11473298e-01,  5.26967287e-01],\n",
       "       [ 8.89568031e-01,  7.25648224e-01],\n",
       "       [ 4.45663244e-01,  4.20360982e-01],\n",
       "       [-8.40075016e-02,  2.28001922e-01],\n",
       "       [ 7.18823016e-01,  8.55421066e-01],\n",
       "       [ 2.77011603e-01,  2.37942204e-01],\n",
       "       [ 5.70261180e-01,  4.20632243e-01],\n",
       "       [ 6.97574556e-01,  5.98010838e-01],\n",
       "       [ 4.87151712e-01,  4.29570615e-01],\n",
       "       [ 5.57819545e-01,  5.04599988e-01],\n",
       "       [-3.33500877e-02, -2.39334583e-01],\n",
       "       [ 8.28761637e-01,  9.06744063e-01],\n",
       "       [ 6.39948606e-01,  7.22293735e-01],\n",
       "       [ 7.13095307e-01,  5.84175944e-01],\n",
       "       [ 9.16480780e-01,  8.72695804e-01],\n",
       "       [ 6.34288847e-01,  4.69131470e-01],\n",
       "       [ 3.03580105e-01,  1.18437670e-01],\n",
       "       [ 8.96172166e-01,  7.82408774e-01],\n",
       "       [ 2.41900846e-01,  7.36208335e-02],\n",
       "       [ 4.79869843e-01,  6.22240424e-01],\n",
       "       [ 7.00981319e-01,  6.41785145e-01],\n",
       "       [ 9.17017281e-01,  8.85643840e-01],\n",
       "       [ 6.37365043e-01,  4.78811592e-01],\n",
       "       [ 3.20343316e-01,  8.42867121e-02],\n",
       "       [ 5.57740152e-01,  5.42911351e-01],\n",
       "       [ 3.47843990e-02,  2.66362488e-01],\n",
       "       [ 5.28476000e-01,  8.02352354e-02],\n",
       "       [ 5.49946368e-01,  4.45687383e-01],\n",
       "       [ 8.44944119e-01,  9.25778568e-01],\n",
       "       [ 1.64347708e-01,  1.22631460e-01],\n",
       "       [-1.44713178e-01, -1.40979514e-01],\n",
       "       [ 7.98780799e-01,  8.97372961e-01],\n",
       "       [ 1.69720143e-01,  3.76470804e-01],\n",
       "       [ 7.66458452e-01,  8.44534576e-01],\n",
       "       [ 4.27246600e-01,  4.55555558e-01],\n",
       "       [ 6.69079959e-01,  5.90203106e-01],\n",
       "       [ 8.17158163e-01,  8.13412249e-01],\n",
       "       [ 1.37428373e-01,  2.09395692e-01],\n",
       "       [ 3.03301424e-01,  3.59224707e-01],\n",
       "       [ 9.27713394e-01,  8.99319172e-01],\n",
       "       [ 2.72145540e-01,  3.56529772e-01],\n",
       "       [ 9.22043443e-01,  8.78423870e-01],\n",
       "       [ 6.91360354e-01,  4.03388619e-01],\n",
       "       [ 9.47334766e-01,  8.83527040e-01],\n",
       "       [ 3.45144749e-01,  4.48944151e-01],\n",
       "       [ 9.28070903e-01,  8.56061935e-01],\n",
       "       [-3.07484925e-01, -4.39301908e-01],\n",
       "       [ 5.76912045e-01,  5.28546810e-01],\n",
       "       [ 7.61756003e-01,  8.33455980e-01],\n",
       "       [ 8.92954588e-01,  9.09158468e-01],\n",
       "       [ 2.50484318e-01,  2.79069006e-01],\n",
       "       [ 9.60250199e-01,  9.65420783e-01],\n",
       "       [ 7.68696427e-01,  6.86394811e-01],\n",
       "       [ 8.77450705e-01,  8.61227632e-01],\n",
       "       [ 9.25771952e-01,  9.31895673e-01],\n",
       "       [ 6.70279682e-01,  4.68433231e-01],\n",
       "       [ 9.36744034e-01,  8.84108305e-01],\n",
       "       [ 3.58097076e-01,  4.66400206e-01],\n",
       "       [ 7.32358217e-01,  6.96804106e-01],\n",
       "       [ 6.73377693e-01,  8.11657906e-01],\n",
       "       [ 9.41678584e-01,  9.14696157e-01],\n",
       "       [ 2.99043715e-01,  3.61898541e-01],\n",
       "       [ 6.44416809e-01,  8.71492922e-01],\n",
       "       [ 9.25628185e-01,  8.79787862e-01],\n",
       "       [ 4.70195293e-01,  3.49162400e-01],\n",
       "       [ 9.03332233e-01,  8.28853071e-01],\n",
       "       [ 5.35086632e-01, -5.07191233e-02],\n",
       "       [ 6.03539169e-01,  7.44142234e-01],\n",
       "       [ 8.17591965e-01,  6.71324253e-01],\n",
       "       [ 3.10103931e-02, -1.35146737e-01],\n",
       "       [ 6.92597508e-01,  5.27663171e-01],\n",
       "       [ 2.11001888e-01,  1.68139264e-01],\n",
       "       [ 5.79262137e-01,  5.58631122e-01],\n",
       "       [ 2.95920014e-01, -1.58663079e-01],\n",
       "       [ 6.11935318e-01,  6.06919408e-01],\n",
       "       [ 2.27167413e-01,  1.87984645e-01],\n",
       "       [ 2.97181189e-01,  2.66882479e-01],\n",
       "       [ 7.78708935e-01,  8.38395000e-01],\n",
       "       [ 3.33862275e-01,  6.30703270e-01],\n",
       "       [ 6.18061483e-01,  5.55583298e-01],\n",
       "       [ 8.31720352e-01,  8.67153049e-01],\n",
       "       [ 5.64533830e-01,  4.86351252e-01],\n",
       "       [ 5.59762895e-01,  6.32494271e-01],\n",
       "       [ 6.58354759e-01,  7.95153975e-01],\n",
       "       [ 3.58283728e-01,  3.35795075e-01],\n",
       "       [ 9.11427855e-01,  9.27557111e-01],\n",
       "       [ 3.06116551e-01,  3.14671397e-01],\n",
       "       [ 8.22874486e-01,  7.70879924e-01],\n",
       "       [-4.17743266e-01, -2.63748348e-01],\n",
       "       [ 7.65255272e-01,  8.06305587e-01],\n",
       "       [ 8.34930122e-01,  7.29611456e-01],\n",
       "       [ 8.00590158e-01,  8.34897697e-01],\n",
       "       [ 6.63891137e-01,  6.31954968e-01],\n",
       "       [-4.47646342e-02, -2.44917888e-02],\n",
       "       [ 8.31723750e-01,  7.83069432e-01],\n",
       "       [ 9.34510469e-01,  8.30816209e-01],\n",
       "       [ 4.62045461e-01,  3.94136786e-01],\n",
       "       [ 6.45668864e-01,  6.94442511e-01],\n",
       "       [ 6.07052445e-01,  5.78592658e-01],\n",
       "       [ 4.20285583e-01,  4.30414379e-01],\n",
       "       [ 2.74483263e-01,  2.92892128e-01],\n",
       "       [ 9.06057477e-01,  9.06389177e-01],\n",
       "       [ 7.34506905e-01,  6.68842018e-01],\n",
       "       [ 5.98900616e-01,  5.32738447e-01],\n",
       "       [ 7.41121292e-01,  8.41865838e-01],\n",
       "       [ 5.76912045e-01,  5.28546810e-01],\n",
       "       [ 4.43218797e-01,  1.54472381e-01],\n",
       "       [ 2.32520759e-01,  1.47190168e-01],\n",
       "       [ 9.32594180e-01,  8.26268613e-01],\n",
       "       [ 5.57740152e-01,  5.42911351e-01],\n",
       "       [ 3.03307384e-01,  2.41272330e-01],\n",
       "       [-1.26537476e-02, -1.02781102e-01],\n",
       "       [ 4.80990767e-01,  2.68691331e-01],\n",
       "       [ 2.22395360e-01,  3.19484711e-01],\n",
       "       [ 7.11145639e-01,  7.35526383e-01],\n",
       "       [ 7.15321660e-01,  7.71872342e-01],\n",
       "       [ 8.73139143e-01,  7.30595112e-01],\n",
       "       [ 9.15844619e-01,  9.06239867e-01],\n",
       "       [ 6.27834260e-01,  5.41261017e-01],\n",
       "       [ 4.84801978e-01,  6.21740103e-01],\n",
       "       [ 1.82703108e-01,  2.49808744e-01],\n",
       "       [ 8.04647744e-01,  8.74500573e-01],\n",
       "       [ 2.95740843e-01,  2.22466990e-01],\n",
       "       [ 8.44996870e-01,  7.71732628e-01],\n",
       "       [ 1.48346826e-01,  3.03389691e-02],\n",
       "       [ 6.96336627e-01,  7.51284778e-01],\n",
       "       [ 8.46025646e-01,  9.02784407e-01],\n",
       "       [ 2.85171777e-01,  3.34933102e-01],\n",
       "       [ 6.73583448e-01,  7.36895800e-01],\n",
       "       [ 5.76912045e-01,  5.28546810e-01],\n",
       "       [ 8.33010495e-01,  7.91164994e-01],\n",
       "       [ 6.28189325e-01,  4.49991882e-01],\n",
       "       [ 7.65149415e-01,  7.63743877e-01],\n",
       "       [ 5.54472327e-01,  4.92867678e-01],\n",
       "       [ 8.12345564e-01,  8.23576272e-01],\n",
       "       [ 9.50788796e-01,  9.00809824e-01],\n",
       "       [ 6.42271876e-01,  7.56383598e-01],\n",
       "       [ 8.71740222e-01,  8.22534978e-01],\n",
       "       [-1.85641259e-01, -1.32517204e-01],\n",
       "       [ 4.42720771e-01,  5.67998290e-01],\n",
       "       [ 6.45258844e-01,  6.67409897e-01],\n",
       "       [-3.38192761e-01, -3.17689329e-01],\n",
       "       [ 1.18059106e-01,  1.09226674e-01],\n",
       "       [ 9.52915549e-02,  3.07909966e-01],\n",
       "       [ 1.13072000e-01,  1.96556851e-01],\n",
       "       [ 3.03487420e-01,  2.53318399e-01],\n",
       "       [ 1.93160787e-01,  2.60794871e-02],\n",
       "       [ 9.38641131e-01,  8.54031801e-01],\n",
       "       [ 6.60200775e-01,  6.01903200e-01],\n",
       "       [ 9.28845584e-01, -5.15951931e-01],\n",
       "       [ 7.75580406e-01,  6.58999681e-01],\n",
       "       [ 8.09177399e-01,  8.58346939e-01],\n",
       "       [ 5.07819891e-01,  4.06726748e-01],\n",
       "       [ 3.78383040e-01,  3.80765021e-01],\n",
       "       [-2.35087872e-01, -7.58596286e-02],\n",
       "       [-1.63650721e-01, -2.49723539e-01],\n",
       "       [ 9.27541375e-01,  9.28838313e-01],\n",
       "       [ 6.48152947e-01,  6.81046426e-01],\n",
       "       [ 9.06512916e-01,  8.73099864e-01],\n",
       "       [ 3.20809662e-01,  2.58399487e-01],\n",
       "       [ 8.92216682e-01,  5.59163332e-01],\n",
       "       [ 5.07333159e-01,  4.99472529e-01],\n",
       "       [ 8.11239481e-01,  7.60182381e-01],\n",
       "       [ 9.67193067e-01,  9.33851063e-01],\n",
       "       [ 6.60200775e-01,  6.01903200e-01],\n",
       "       [ 5.30116379e-01,  4.92450446e-01],\n",
       "       [ 8.18005681e-01,  6.56263411e-01],\n",
       "       [ 6.66903913e-01,  6.78649068e-01],\n",
       "       [ 9.73134875e-01,  9.38535094e-01],\n",
       "       [ 8.41248214e-01,  6.89010978e-01],\n",
       "       [ 3.17716181e-01,  2.45105714e-01],\n",
       "       [-4.53639887e-02, -2.15809718e-01],\n",
       "       [ 3.37356806e-01,  3.86188179e-01],\n",
       "       [ 4.70078796e-01,  4.57934767e-01],\n",
       "       [ 8.31720352e-01,  8.67153049e-01],\n",
       "       [ 5.16334951e-01,  3.93974036e-01],\n",
       "       [ 5.76571107e-01,  4.18559909e-01],\n",
       "       [ 4.78188783e-01,  4.49482590e-01],\n",
       "       [ 8.68363678e-02, -1.25407919e-01],\n",
       "       [ 9.62738454e-01,  9.46445107e-01],\n",
       "       [ 6.21041298e-01,  6.78335905e-01],\n",
       "       [-4.02238131e-01, -3.77319932e-01],\n",
       "       [ 6.93464041e-01,  7.25814879e-01],\n",
       "       [ 2.66782165e-01,  3.15446109e-01],\n",
       "       [ 8.29275370e-01,  7.43032455e-01],\n",
       "       [ 7.56928742e-01,  8.64554942e-01],\n",
       "       [ 8.30226094e-02,  3.09294760e-01],\n",
       "       [ 5.75935423e-01,  5.15871584e-01],\n",
       "       [ 9.72157359e-01,  9.15727198e-01],\n",
       "       [ 9.59771037e-01,  8.12836051e-01],\n",
       "       [ 7.16571987e-01,  6.82597637e-01],\n",
       "       [-4.51932967e-01,  4.75450698e-03],\n",
       "       [ 2.28809845e-02,  3.29128318e-02],\n",
       "       [ 6.71060622e-01,  6.02112770e-01],\n",
       "       [ 4.88121897e-01,  4.87239838e-01],\n",
       "       [ 2.29524508e-01,  1.32673934e-01],\n",
       "       [ 9.13850188e-01,  8.68480921e-01],\n",
       "       [ 9.53685164e-01,  8.69147539e-01],\n",
       "       [ 8.43365967e-01,  7.38065541e-01],\n",
       "       [ 2.84951687e-01,  1.71598271e-01],\n",
       "       [-2.78106660e-01, -2.55229086e-01],\n",
       "       [ 1.85339153e-01,  1.41813561e-01],\n",
       "       [ 9.45812166e-01,  9.12064612e-01],\n",
       "       [ 4.96998698e-01,  4.66517091e-01],\n",
       "       [ 5.04649639e-01,  5.42169929e-01],\n",
       "       [ 3.58896822e-01,  5.75711608e-01],\n",
       "       [ 2.78302908e-01,  2.47563645e-01],\n",
       "       [ 9.31887627e-01,  8.38146925e-01],\n",
       "       [ 8.30021381e-01,  8.42793822e-01],\n",
       "       [ 8.01390886e-01,  6.65828049e-01],\n",
       "       [ 8.31720352e-01,  8.67153049e-01],\n",
       "       [ 3.90644550e-01,  3.99628907e-01],\n",
       "       [ 6.73377693e-01,  8.11657906e-01],\n",
       "       [ 4.29752827e-01,  3.23460162e-01],\n",
       "       [-4.51997891e-02, -1.46570787e-01],\n",
       "       [ 3.88613462e-01,  4.97452319e-01],\n",
       "       [-5.12595326e-02,  5.13292961e-02],\n",
       "       [ 7.34054506e-01,  5.54010451e-01],\n",
       "       [ 8.95118654e-01,  7.23194122e-01],\n",
       "       [ 6.24592185e-01,  1.58463970e-01],\n",
       "       [ 4.69492882e-01,  5.81912994e-01],\n",
       "       [ 7.15398669e-01,  6.51854753e-01],\n",
       "       [ 4.60055470e-01,  5.58550298e-01],\n",
       "       [ 9.68690395e-01,  8.02435577e-01],\n",
       "       [ 2.40253836e-01,  9.78759080e-02],\n",
       "       [ 7.87655175e-01,  5.80186367e-01],\n",
       "       [ 6.73088849e-01,  6.84393108e-01],\n",
       "       [ 3.67553383e-01,  2.88167328e-01],\n",
       "       [ 5.72602928e-01,  5.53095639e-01],\n",
       "       [ 1.58768311e-01,  2.86492467e-01],\n",
       "       [ 2.96346880e-02,  9.09997150e-02],\n",
       "       [ 5.19373357e-01,  5.62762141e-01],\n",
       "       [ 7.09064901e-01,  7.26182699e-01],\n",
       "       [ 6.83407843e-01,  6.41426384e-01],\n",
       "       [ 9.24813986e-01,  9.55220401e-01],\n",
       "       [ 9.16823149e-01,  8.25954199e-01],\n",
       "       [ 7.23473430e-01,  7.34199345e-01],\n",
       "       [ 5.07819891e-01,  4.06726748e-01],\n",
       "       [ 9.04398859e-01,  7.70945370e-01],\n",
       "       [ 7.36706257e-01,  7.46731579e-01],\n",
       "       [ 9.13867891e-01,  9.08339262e-01],\n",
       "       [ 4.13160592e-01, -4.16795947e-02],\n",
       "       [ 1.22374468e-01,  1.55908376e-01],\n",
       "       [ 8.17414343e-01,  6.63781345e-01],\n",
       "       [ 9.26279187e-01,  7.32131064e-01],\n",
       "       [ 1.28778577e-01,  1.90084763e-02],\n",
       "       [ 8.33044231e-01,  7.16590941e-01],\n",
       "       [ 4.13296282e-01,  4.56651926e-01],\n",
       "       [ 1.39261067e-01,  1.01012796e-01],\n",
       "       [-2.88492795e-02,  1.51861489e-01],\n",
       "       [ 5.61029673e-01,  4.12093699e-01],\n",
       "       [ 6.21247292e-01,  6.32530689e-01],\n",
       "       [ 9.51450229e-01,  8.84648442e-01],\n",
       "       [ 8.76831353e-01,  8.20902765e-01],\n",
       "       [ 4.30738449e-01,  3.57399672e-01],\n",
       "       [ 9.38697517e-01,  9.34202850e-01],\n",
       "       [ 3.25887084e-01,  4.54175286e-03],\n",
       "       [ 4.08364683e-01,  4.39925581e-01],\n",
       "       [ 5.83421409e-01,  5.42060971e-01],\n",
       "       [ 4.28648293e-01,  3.38045955e-01],\n",
       "       [ 8.38975549e-01,  7.91413188e-01],\n",
       "       [-2.96556234e-01, -1.89982310e-01],\n",
       "       [ 8.73139143e-01,  7.30595112e-01],\n",
       "       [ 4.20048445e-01,  4.18915629e-01],\n",
       "       [ 3.60013813e-01,  6.68368220e-01],\n",
       "       [ 3.69235009e-01,  7.50610590e-01],\n",
       "       [ 9.51511443e-01,  9.36716437e-01],\n",
       "       [ 5.18980682e-01,  3.98146003e-01],\n",
       "       [ 5.77131093e-01,  6.33053780e-01],\n",
       "       [-1.58845112e-01, -3.74358833e-01],\n",
       "       [ 9.64927673e-01,  9.10206854e-01],\n",
       "       [ 2.12748602e-01,  1.15537465e-01],\n",
       "       [ 9.19007838e-01,  8.51841211e-01],\n",
       "       [ 8.68031025e-01,  9.20017183e-01],\n",
       "       [ 9.66586649e-01,  8.90986443e-01],\n",
       "       [ 5.85469425e-01,  4.22094494e-01],\n",
       "       [ 1.33612469e-01,  3.14261824e-01],\n",
       "       [ 8.95704985e-01,  9.06954646e-01],\n",
       "       [-1.67764425e-01,  2.27056444e-02],\n",
       "       [ 2.21677452e-01,  3.43064338e-01],\n",
       "       [ 3.91633242e-01,  4.27052826e-01],\n",
       "       [ 7.86456108e-01,  7.82017827e-01],\n",
       "       [ 7.71088898e-01,  6.56889200e-01],\n",
       "       [ 9.22332883e-01,  5.29371262e-01],\n",
       "       [ 9.49172139e-01,  9.02256370e-01],\n",
       "       [ 6.42336547e-01,  6.30786836e-01],\n",
       "       [ 6.49854302e-01,  6.74897969e-01],\n",
       "       [ 5.48541725e-01,  6.44665420e-01],\n",
       "       [ 5.87311447e-01,  5.93644977e-01],\n",
       "       [ 4.87151712e-01,  4.29570615e-01],\n",
       "       [ 6.13608301e-01,  5.80312431e-01],\n",
       "       [ 3.13609540e-01,  1.71722129e-01],\n",
       "       [ 2.48091102e-01,  2.68157750e-01],\n",
       "       [ 9.27549124e-01,  9.14547741e-01],\n",
       "       [ 3.83053422e-01,  3.72956097e-01]], dtype=float32)"
      ]
     },
     "execution_count": 295,
     "metadata": {},
     "output_type": "execute_result"
    }
   ],
   "source": [
    "y_pred_probabilities"
   ]
  },
  {
   "cell_type": "code",
   "execution_count": 296,
   "id": "29ef16c5",
   "metadata": {},
   "outputs": [],
   "source": [
    "# Converting predicted probabilities to class labels\n",
    "y_pred_labels = np.argmax(y_pred_probabilities, axis=1)"
   ]
  },
  {
   "cell_type": "code",
   "execution_count": 297,
   "id": "aed37060",
   "metadata": {},
   "outputs": [
    {
     "data": {
      "text/plain": [
       "array([0, 0, 1, 1, 1, 1, 0, 0, 1, 1, 0, 0, 1, 1, 1, 0, 0, 1, 0, 1, 0, 1,\n",
       "       1, 0, 0, 1, 0, 0, 1, 1, 0, 0, 0, 0, 0, 0, 1, 1, 0, 0, 0, 0, 0, 0,\n",
       "       1, 0, 0, 0, 0, 0, 1, 0, 0, 1, 0, 1, 1, 1, 1, 1, 0, 0, 1, 1, 0, 1,\n",
       "       0, 0, 0, 1, 0, 0, 0, 1, 1, 1, 1, 0, 0, 1, 0, 0, 1, 0, 1, 0, 1, 1,\n",
       "       0, 0, 0, 0, 1, 0, 0, 0, 0, 0, 0, 0, 0, 0, 1, 1, 0, 1, 0, 1, 1, 0,\n",
       "       1, 1, 0, 1, 1, 0, 1, 0, 1, 0, 0, 0, 1, 0, 1, 1, 1, 0, 0, 1, 0, 0,\n",
       "       0, 0, 0, 0, 0, 0, 1, 1, 1, 0, 0, 0, 1, 1, 1, 0, 0, 0, 1, 1, 1, 1,\n",
       "       0, 0, 0, 0, 0, 1, 0, 1, 0, 1, 1, 1, 1, 0, 1, 1, 0, 0, 0, 0, 0, 0,\n",
       "       1, 0, 1, 1, 0, 1, 1, 0, 0, 0, 0, 0, 0, 0, 0, 0, 1, 0, 0, 0, 0, 1,\n",
       "       0, 1, 0, 0, 0, 0, 0, 1, 1, 1, 1, 0, 1, 1, 0, 0, 0, 0, 1, 1, 0, 0,\n",
       "       0, 0, 0, 0, 0, 1, 0, 0, 0, 1, 1, 0, 0, 1, 0, 1, 1, 1, 0, 0, 1, 1,\n",
       "       0, 0, 0, 1, 0, 1, 0, 0, 0, 1, 0, 0, 1, 1, 1, 1, 0, 1, 0, 1, 0, 0,\n",
       "       1, 0, 0, 1, 0, 0, 0, 0, 1, 0, 1, 0, 1, 0, 0, 0, 0, 0, 1, 0, 0, 0,\n",
       "       1, 0, 0, 1, 1, 0, 0, 1, 0, 0, 0, 0, 1, 0, 0, 1, 1, 1, 1, 1, 0, 0,\n",
       "       0, 0, 0, 1, 1, 1, 0, 0, 0, 1, 0, 0], dtype=int64)"
      ]
     },
     "execution_count": 297,
     "metadata": {},
     "output_type": "execute_result"
    }
   ],
   "source": [
    "y_pred_labels"
   ]
  },
  {
   "cell_type": "markdown",
   "id": "849ade6b",
   "metadata": {},
   "source": [
    "### Evaluating model's accuracy using accuracy_score"
   ]
  },
  {
   "cell_type": "code",
   "execution_count": 298,
   "id": "e6af631a",
   "metadata": {},
   "outputs": [],
   "source": [
    "from sklearn.metrics import accuracy_score,confusion_matrix,classification_report"
   ]
  },
  {
   "cell_type": "code",
   "execution_count": 299,
   "id": "edfa257e",
   "metadata": {},
   "outputs": [
    {
     "name": "stdout",
     "output_type": "stream",
     "text": [
      "Accuracy: 44.6875 %\n"
     ]
    }
   ],
   "source": [
    "print(f'Accuracy: {accuracy_score(y_test,y_pred_labels)*100} %')"
   ]
  },
  {
   "cell_type": "code",
   "execution_count": 300,
   "id": "b651e979",
   "metadata": {},
   "outputs": [
    {
     "name": "stdout",
     "output_type": "stream",
     "text": [
      "Confusion Matirix:\n",
      "[[ 78  63]\n",
      " [114  65]]\n"
     ]
    }
   ],
   "source": [
    "print('Confusion Matirix:')\n",
    "print(confusion_matrix(y_test,y_pred_labels))"
   ]
  },
  {
   "cell_type": "code",
   "execution_count": 301,
   "id": "16932f81",
   "metadata": {},
   "outputs": [
    {
     "name": "stdout",
     "output_type": "stream",
     "text": [
      "Classification Report:\n",
      "              precision    recall  f1-score   support\n",
      "\n",
      "           0       0.41      0.55      0.47       141\n",
      "           1       0.51      0.36      0.42       179\n",
      "\n",
      "    accuracy                           0.45       320\n",
      "   macro avg       0.46      0.46      0.45       320\n",
      "weighted avg       0.46      0.45      0.44       320\n",
      "\n"
     ]
    }
   ],
   "source": [
    "print('Classification Report:')\n",
    "print(classification_report(y_test,y_pred_labels))"
   ]
  },
  {
   "cell_type": "markdown",
   "id": "100b4208-8f0c-4a67-a84b-b2b3207e3959",
   "metadata": {},
   "source": []
  },
  {
   "cell_type": "markdown",
   "id": "ade0101f-c76b-4dda-a031-db883e6d0b41",
   "metadata": {},
   "source": []
  },
  {
   "cell_type": "markdown",
   "id": "66bc4627-162c-4c74-b27d-795c016ab7f4",
   "metadata": {},
   "source": []
  },
  {
   "cell_type": "markdown",
   "id": "93b899b1-789f-44b6-971c-aa71f62e55ad",
   "metadata": {},
   "source": []
  },
  {
   "cell_type": "markdown",
   "id": "eb9111ca-27df-439d-8196-6e58f962cb3e",
   "metadata": {},
   "source": []
  },
  {
   "cell_type": "markdown",
   "id": "96bbdc0d-0443-43a4-bb35-823217a0977a",
   "metadata": {},
   "source": [
    "# ModelCheckPoint Training"
   ]
  },
  {
   "cell_type": "code",
   "execution_count": 302,
   "id": "cb669861-45b7-4844-a319-2aca69581c5d",
   "metadata": {},
   "outputs": [],
   "source": [
    "chk_point_model = keras.models.load_model('best_model.h5')"
   ]
  },
  {
   "cell_type": "code",
   "execution_count": 303,
   "id": "7a4d35c5-8755-4a65-8436-6b7be511dba2",
   "metadata": {
    "scrolled": true
   },
   "outputs": [
    {
     "name": "stdout",
     "output_type": "stream",
     "text": [
      "Epoch 1/1000\n",
      "32/32 [==============================] - 1s 9ms/step - loss: 0.6883 - accuracy: 0.4907 - val_loss: 0.7419 - val_accuracy: 0.5156\n",
      "Epoch 2/1000\n",
      "32/32 [==============================] - 0s 4ms/step - loss: 0.6871 - accuracy: 0.4946 - val_loss: 0.7231 - val_accuracy: 0.5039\n",
      "Epoch 3/1000\n",
      "32/32 [==============================] - 0s 4ms/step - loss: 0.6865 - accuracy: 0.4936 - val_loss: 0.7169 - val_accuracy: 0.5117\n",
      "Epoch 4/1000\n",
      "32/32 [==============================] - 0s 3ms/step - loss: 0.6863 - accuracy: 0.4936 - val_loss: 0.7398 - val_accuracy: 0.5117\n",
      "Epoch 5/1000\n",
      "32/32 [==============================] - 0s 3ms/step - loss: 0.6851 - accuracy: 0.4936 - val_loss: 0.7169 - val_accuracy: 0.5078\n",
      "Epoch 6/1000\n",
      "32/32 [==============================] - 0s 3ms/step - loss: 0.6839 - accuracy: 0.4946 - val_loss: 0.7401 - val_accuracy: 0.5078\n"
     ]
    }
   ],
   "source": [
    "chk_point_model_history = chk_point_model.fit(X_train, y_train, validation_data=(X_valid, y_valid), epochs=1000,callbacks=[early_stopping,model_checkpoint,tensorboard])"
   ]
  },
  {
   "cell_type": "code",
   "execution_count": 304,
   "id": "dc8deefd-9203-4cfd-8d8f-83cd306a4451",
   "metadata": {
    "scrolled": true
   },
   "outputs": [
    {
     "name": "stdout",
     "output_type": "stream",
     "text": [
      "[<tf.Variable 'dense_12/kernel:0' shape=(11, 10) dtype=float32, numpy=\n",
      "array([[ 0.12836541, -0.08780505, -0.41714022, -0.04378998,  0.35917312,\n",
      "         0.019181  , -0.46460044, -0.22868894, -0.3108501 , -0.44844043],\n",
      "       [-0.25237828,  0.17754973, -0.2654931 ,  0.02456548,  0.29820636,\n",
      "        -0.07657976,  0.1977557 ,  0.04060638,  0.20888916, -0.12806492],\n",
      "       [ 0.42722112, -0.29604605,  0.25661346,  0.3624298 ,  0.45825443,\n",
      "         0.17572248,  0.44714227,  0.3175309 ,  0.03223815, -0.24709736],\n",
      "       [ 0.14723931,  0.38068447,  0.39389068, -0.14079677,  0.04641288,\n",
      "        -0.16700657, -0.41415706,  0.44415027,  0.3199146 , -0.01777017],\n",
      "       [-0.25435472, -0.0042105 , -0.29146323,  0.02062647,  0.29351664,\n",
      "        -0.27967903, -0.22602473, -0.21453567, -0.0557393 ,  0.5446528 ],\n",
      "       [-0.309525  , -0.36965367,  0.20276375, -0.30486366, -0.06582876,\n",
      "         0.22628108,  0.3338393 , -0.16464384,  0.02258815,  0.09049708],\n",
      "       [ 0.18409538, -0.04226214, -0.32940045,  0.02618711,  0.0784606 ,\n",
      "        -0.01127201,  0.08951565, -0.40313816,  0.11617039, -0.38700426],\n",
      "       [-0.02886396, -0.16544734, -0.35587546,  0.35909006, -0.16433653,\n",
      "         0.09822094,  0.4129673 ,  0.518691  , -0.2265754 ,  0.2932599 ],\n",
      "       [-0.02543296, -0.382558  , -0.29894173, -0.00156991, -0.10700086,\n",
      "        -0.4261317 , -0.18350908, -0.45426998, -0.39697292,  0.33746353],\n",
      "       [-0.55417466,  0.11667413,  0.11695697,  0.14231557,  0.0966692 ,\n",
      "         0.01590107, -0.01498031, -0.11417228, -0.5778157 ,  0.27165258],\n",
      "       [ 0.25455675, -0.564269  , -0.06547561, -0.24786541, -0.22468676,\n",
      "         0.43135303, -0.33857742, -0.34544852, -0.00127453, -0.11290478]],\n",
      "      dtype=float32)>, <tf.Variable 'dense_12/bias:0' shape=(10,) dtype=float32, numpy=\n",
      "array([-0.2240941 , -0.16974148,  0.15662792,  0.2225049 , -0.28049508,\n",
      "        0.16745129,  0.05019773,  0.15263258, -0.2082219 , -0.08873363],\n",
      "      dtype=float32)>, <tf.Variable 'dense_13/kernel:0' shape=(10, 5) dtype=float32, numpy=\n",
      "array([[ 0.00539303, -0.12987012,  0.27921245,  0.605143  , -0.06513057],\n",
      "       [-0.48243317, -0.3748136 , -0.11168734,  0.14592378,  0.09771115],\n",
      "       [ 0.38208696,  0.6136967 ,  0.07355718, -0.58507043,  0.4420506 ],\n",
      "       [-0.48064697,  0.25928822, -0.14097255, -0.51292133, -0.0317002 ],\n",
      "       [ 0.53886276, -0.42372614,  0.15049705,  0.23067196, -0.04395156],\n",
      "       [-0.46234673,  0.14625736,  0.2802547 , -0.44642112, -0.64857465],\n",
      "       [-0.6583941 , -0.5540488 , -0.5022705 , -0.47204873,  0.52057934],\n",
      "       [ 0.12246066, -0.21325861, -0.00912118, -0.28860444,  0.01355173],\n",
      "       [-0.4783257 ,  0.13214034, -0.4016739 ,  0.30507296,  0.11885067],\n",
      "       [-0.22393557, -0.31545725,  0.21241024,  0.11673289, -0.3939716 ]],\n",
      "      dtype=float32)>, <tf.Variable 'dense_13/bias:0' shape=(5,) dtype=float32, numpy=\n",
      "array([ 0.02479216,  0.1867438 , -0.10676479, -0.2664165 , -0.20851666],\n",
      "      dtype=float32)>, <tf.Variable 'dense_14/kernel:0' shape=(5, 2) dtype=float32, numpy=\n",
      "array([[-0.66185546,  0.75799185],\n",
      "       [ 0.59244627,  0.38645622],\n",
      "       [ 0.53791034, -0.6862156 ],\n",
      "       [-0.3043757 , -0.6921477 ],\n",
      "       [-0.6921742 , -0.80453676]], dtype=float32)>, <tf.Variable 'dense_14/bias:0' shape=(2,) dtype=float32, numpy=array([0.21894854, 0.19263847], dtype=float32)>]\n"
     ]
    }
   ],
   "source": [
    "print(chk_point_model.weights)"
   ]
  },
  {
   "cell_type": "markdown",
   "id": "a0710ad1-b24d-439f-afe3-4c17543d08cb",
   "metadata": {},
   "source": [
    "### Visualizing history for loss"
   ]
  },
  {
   "cell_type": "code",
   "execution_count": 305,
   "id": "7acdd34a-1ef6-45b8-97aa-0ee5153c8778",
   "metadata": {},
   "outputs": [
    {
     "data": {
      "image/png": "[encoded data removed]",
      "text/plain": [
       "<Figure size 640x480 with 1 Axes>"
      ]
     },
     "metadata": {},
     "output_type": "display_data"
    }
   ],
   "source": [
    "plt.plot(chk_point_model_history.history['loss'])\n",
    "plt.plot(chk_point_model_history.history['val_loss'])\n",
    "plt.title('model loss')\n",
    "plt.ylabel('loss')\n",
    "plt.xlabel('epoch')\n",
    "plt.legend(['train', 'validation'], loc='upper right')\n",
    "plt.show()"
   ]
  },
  {
   "cell_type": "markdown",
   "id": "f45abfc0-b9ca-4045-b4ac-d1b95a6541ee",
   "metadata": {},
   "source": [
    "### Visualizing history for accuracy"
   ]
  },
  {
   "cell_type": "code",
   "execution_count": 306,
   "id": "a74a9906-8450-4494-aed6-1eb8011cd20c",
   "metadata": {},
   "outputs": [
    {
     "data": {
      "image/png": "[encoded data removed]",
      "text/plain": [
       "<Figure size 640x480 with 1 Axes>"
      ]
     },
     "metadata": {},
     "output_type": "display_data"
    }
   ],
   "source": [
    "plt.plot(chk_point_model_history.history['accuracy'])\n",
    "plt.plot(chk_point_model_history.history['val_accuracy'])\n",
    "plt.title('model accuracy')\n",
    "plt.ylabel('accuracy')\n",
    "plt.xlabel('epoch')\n",
    "plt.legend(['train', 'validation'], loc='upper left')\n",
    "plt.show()"
   ]
  },
  {
   "cell_type": "code",
   "execution_count": 307,
   "id": "2f5c0b22-965e-4a9f-aaba-0247d329449b",
   "metadata": {},
   "outputs": [
    {
     "name": "stdout",
     "output_type": "stream",
     "text": [
      "10/10 [==============================] - 0s 844us/step\n"
     ]
    }
   ],
   "source": [
    "y_pred_probabilities = chk_point_model.predict(X_test)"
   ]
  },
  {
   "cell_type": "code",
   "execution_count": 308,
   "id": "62c4d4bb-91cb-4edc-b8f6-fc2d5700d74b",
   "metadata": {
    "scrolled": true
   },
   "outputs": [
    {
     "data": {
      "text/plain": [
       "array([[ 4.08000827e-01,  3.72505903e-01],\n",
       "       [ 1.16024859e-01,  5.95103800e-02],\n",
       "       [ 5.89755237e-01,  6.30077422e-01],\n",
       "       [ 4.40277070e-01,  4.82360452e-01],\n",
       "       [ 7.07026005e-01,  7.94248104e-01],\n",
       "       [ 1.51017591e-01,  2.45732427e-01],\n",
       "       [ 1.02150694e-01,  1.07870938e-03],\n",
       "       [ 2.32772604e-01,  1.16744503e-01],\n",
       "       [ 6.35271430e-01,  6.37604773e-01],\n",
       "       [ 6.53049409e-01,  7.98820019e-01],\n",
       "       [ 8.79494607e-01,  8.16408098e-01],\n",
       "       [ 4.81395930e-01,  3.54291528e-01],\n",
       "       [ 4.77522075e-01,  5.40030956e-01],\n",
       "       [ 1.13974206e-01,  1.86328977e-01],\n",
       "       [ 3.50402057e-01,  4.72757548e-01],\n",
       "       [ 9.53298151e-01,  8.85467649e-01],\n",
       "       [ 2.12486684e-01,  4.12730947e-02],\n",
       "       [ 6.12934053e-01,  6.54456973e-01],\n",
       "       [ 9.41590488e-01,  9.32378650e-01],\n",
       "       [ 2.12843135e-01,  2.87908942e-01],\n",
       "       [ 2.10560367e-01, -6.16317950e-02],\n",
       "       [ 1.25434235e-01,  2.02549338e-01],\n",
       "       [ 7.45319903e-01,  8.11102748e-01],\n",
       "       [ 9.27619398e-01,  9.10035551e-01],\n",
       "       [ 4.57532704e-01,  3.96787345e-01],\n",
       "       [ 5.24291694e-01,  5.31155169e-01],\n",
       "       [ 8.78385782e-01,  7.15419471e-01],\n",
       "       [ 4.53817844e-01,  4.29887474e-01],\n",
       "       [-1.14048742e-01,  2.04085231e-01],\n",
       "       [ 7.35628188e-01,  8.55659008e-01],\n",
       "       [ 2.68322796e-01,  2.42272332e-01],\n",
       "       [ 5.88712633e-01,  4.41379219e-01],\n",
       "       [ 7.07871258e-01,  6.07434452e-01],\n",
       "       [ 4.67089385e-01,  4.08109397e-01],\n",
       "       [ 5.57838798e-01,  5.06386995e-01],\n",
       "       [-4.97705601e-02, -2.39515841e-01],\n",
       "       [ 8.50014806e-01,  9.13274407e-01],\n",
       "       [ 6.62354827e-01,  7.35226572e-01],\n",
       "       [ 7.02562630e-01,  5.77232540e-01],\n",
       "       [ 9.20997441e-01,  8.80103230e-01],\n",
       "       [ 6.16396844e-01,  4.59462970e-01],\n",
       "       [ 2.91394323e-01,  1.24174222e-01],\n",
       "       [ 8.95161629e-01,  7.86963165e-01],\n",
       "       [ 2.35103592e-01,  1.01076089e-01],\n",
       "       [ 5.01445591e-01,  6.32330596e-01],\n",
       "       [ 7.14026451e-01,  6.58163548e-01],\n",
       "       [ 9.22955334e-01,  8.91556859e-01],\n",
       "       [ 6.20673060e-01,  4.71181303e-01],\n",
       "       [ 2.93464869e-01,  6.54769987e-02],\n",
       "       [ 5.67612350e-01,  5.54593086e-01],\n",
       "       [-6.02331851e-03,  2.37786427e-01],\n",
       "       [ 5.45450628e-01,  1.23950414e-01],\n",
       "       [ 5.51336527e-01,  4.43636656e-01],\n",
       "       [ 8.61290395e-01,  9.35679197e-01],\n",
       "       [ 1.85529917e-01,  1.43989578e-01],\n",
       "       [-1.32927999e-01, -1.15286201e-01],\n",
       "       [ 8.14988256e-01,  9.03272331e-01],\n",
       "       [ 1.79512903e-01,  3.88583839e-01],\n",
       "       [ 7.70893574e-01,  8.48214507e-01],\n",
       "       [ 4.42560554e-01,  4.62020546e-01],\n",
       "       [ 6.56626046e-01,  5.91266632e-01],\n",
       "       [ 8.18650007e-01,  8.12783062e-01],\n",
       "       [ 1.52398497e-01,  2.22814694e-01],\n",
       "       [ 3.27194989e-01,  3.73438567e-01],\n",
       "       [ 9.30601776e-01,  9.08252954e-01],\n",
       "       [ 2.44201615e-01,  3.27694565e-01],\n",
       "       [ 9.25454855e-01,  8.84477079e-01],\n",
       "       [ 6.94076538e-01,  4.03809041e-01],\n",
       "       [ 9.50962186e-01,  8.90047669e-01],\n",
       "       [ 3.13815206e-01,  4.25607681e-01],\n",
       "       [ 9.31184113e-01,  8.68880510e-01],\n",
       "       [-2.99866498e-01, -4.14628297e-01],\n",
       "       [ 5.90973616e-01,  5.40785313e-01],\n",
       "       [ 7.69841015e-01,  8.39214385e-01],\n",
       "       [ 8.97837520e-01,  9.14342642e-01],\n",
       "       [ 2.41579682e-01,  2.77583987e-01],\n",
       "       [ 9.62597728e-01,  9.70726848e-01],\n",
       "       [ 7.42974520e-01,  6.70365274e-01],\n",
       "       [ 8.82399023e-01,  8.75281036e-01],\n",
       "       [ 9.30938780e-01,  9.38876212e-01],\n",
       "       [ 6.82180107e-01,  4.68498528e-01],\n",
       "       [ 9.38995838e-01,  8.91199827e-01],\n",
       "       [ 3.29942882e-01,  4.47837472e-01],\n",
       "       [ 7.18750060e-01,  6.70219362e-01],\n",
       "       [ 6.63197041e-01,  8.15009415e-01],\n",
       "       [ 9.40774381e-01,  9.22472715e-01],\n",
       "       [ 2.67241865e-01,  3.38693112e-01],\n",
       "       [ 6.71886683e-01,  8.78721595e-01],\n",
       "       [ 9.28560257e-01,  8.86403382e-01],\n",
       "       [ 4.74525511e-01,  3.45673293e-01],\n",
       "       [ 8.95661771e-01,  8.33459556e-01],\n",
       "       [ 5.10912776e-01,  4.76315171e-02],\n",
       "       [ 6.24315202e-01,  7.37266302e-01],\n",
       "       [ 8.02151918e-01,  6.55496418e-01],\n",
       "       [ 6.50774091e-02, -8.86956155e-02],\n",
       "       [ 7.01256454e-01,  5.40593684e-01],\n",
       "       [ 1.86359093e-01,  1.63640693e-01],\n",
       "       [ 5.73808014e-01,  5.63259959e-01],\n",
       "       [ 2.85991788e-01, -1.60597146e-01],\n",
       "       [ 6.02918863e-01,  6.01751804e-01],\n",
       "       [ 2.26244748e-01,  1.87260091e-01],\n",
       "       [ 2.83206403e-01,  2.56978005e-01],\n",
       "       [ 7.67932415e-01,  8.39229047e-01],\n",
       "       [ 3.33785325e-01,  6.21386170e-01],\n",
       "       [ 5.94132602e-01,  5.47528684e-01],\n",
       "       [ 8.38608027e-01,  8.69307280e-01],\n",
       "       [ 5.59702277e-01,  4.91339236e-01],\n",
       "       [ 5.01637220e-01,  6.01664364e-01],\n",
       "       [ 6.43848598e-01,  8.10896277e-01],\n",
       "       [ 3.79421860e-01,  3.71025741e-01],\n",
       "       [ 9.21425819e-01,  9.37988758e-01],\n",
       "       [ 2.33481660e-01,  2.67993391e-01],\n",
       "       [ 7.94212997e-01,  7.51580358e-01],\n",
       "       [-4.45335805e-01, -2.83196479e-01],\n",
       "       [ 7.56805599e-01,  7.98551440e-01],\n",
       "       [ 8.28261495e-01,  7.31747091e-01],\n",
       "       [ 8.12407553e-01,  8.39240968e-01],\n",
       "       [ 6.40834928e-01,  6.11135244e-01],\n",
       "       [-3.00342645e-02, -1.03996657e-02],\n",
       "       [ 8.25611055e-01,  7.84880102e-01],\n",
       "       [ 9.34943378e-01,  8.45963061e-01],\n",
       "       [ 4.53092873e-01,  3.94689620e-01],\n",
       "       [ 6.44088328e-01,  6.91683412e-01],\n",
       "       [ 5.87504148e-01,  5.60796380e-01],\n",
       "       [ 4.42386270e-01,  4.50345755e-01],\n",
       "       [ 2.63493836e-01,  2.87620306e-01],\n",
       "       [ 9.08128381e-01,  9.12089348e-01],\n",
       "       [ 7.18236804e-01,  6.50785804e-01],\n",
       "       [ 6.13102198e-01,  5.28404295e-01],\n",
       "       [ 7.45787084e-01,  8.48298967e-01],\n",
       "       [ 5.90973616e-01,  5.40785313e-01],\n",
       "       [ 4.42813545e-01,  1.52159438e-01],\n",
       "       [ 2.26155028e-01,  1.51852712e-01],\n",
       "       [ 9.32567120e-01,  8.34769845e-01],\n",
       "       [ 5.67612350e-01,  5.54593086e-01],\n",
       "       [ 2.90726215e-01,  2.26119757e-01],\n",
       "       [-4.60707508e-02, -1.18440196e-01],\n",
       "       [ 4.31829274e-01,  2.47643709e-01],\n",
       "       [ 1.33575708e-01,  2.54146367e-01],\n",
       "       [ 7.05082953e-01,  7.35368371e-01],\n",
       "       [ 7.06033051e-01,  7.69787252e-01],\n",
       "       [ 8.77470136e-01,  7.32500672e-01],\n",
       "       [ 9.18486536e-01,  9.11506295e-01],\n",
       "       [ 6.29862666e-01,  5.37361205e-01],\n",
       "       [ 5.07013738e-01,  6.32464111e-01],\n",
       "       [ 1.95054695e-01,  2.71929383e-01],\n",
       "       [ 8.17659259e-01,  8.81949961e-01],\n",
       "       [ 2.73491174e-01,  1.95288405e-01],\n",
       "       [ 8.35969985e-01,  7.72565365e-01],\n",
       "       [ 1.24380775e-01,  3.72890979e-02],\n",
       "       [ 6.86332285e-01,  7.47541189e-01],\n",
       "       [ 8.59024107e-01,  9.05533731e-01],\n",
       "       [ 2.65684754e-01,  3.18793476e-01],\n",
       "       [ 6.70292735e-01,  7.33740389e-01],\n",
       "       [ 5.90973616e-01,  5.40785313e-01],\n",
       "       [ 8.37863326e-01,  7.95108497e-01],\n",
       "       [ 6.33672297e-01,  4.49541152e-01],\n",
       "       [ 7.79022098e-01,  7.69358754e-01],\n",
       "       [ 5.55612862e-01,  4.96143043e-01],\n",
       "       [ 8.19853425e-01,  8.25940788e-01],\n",
       "       [ 9.51208532e-01,  9.07742321e-01],\n",
       "       [ 6.22125566e-01,  7.44575262e-01],\n",
       "       [ 8.64410520e-01,  8.25066507e-01],\n",
       "       [-1.91091225e-01, -1.18340373e-01],\n",
       "       [ 4.03650999e-01,  5.44499755e-01],\n",
       "       [ 6.30207419e-01,  6.62630498e-01],\n",
       "       [-3.33624303e-01, -3.07209104e-01],\n",
       "       [ 1.08046181e-01,  1.06332488e-01],\n",
       "       [ 6.40415177e-02,  2.89037377e-01],\n",
       "       [ 9.00847986e-02,  1.83994412e-01],\n",
       "       [ 2.41246954e-01,  2.16201723e-01],\n",
       "       [ 1.77960679e-01,  3.91289592e-04],\n",
       "       [ 9.39312994e-01,  8.58009577e-01],\n",
       "       [ 6.24925375e-01,  5.81754088e-01],\n",
       "       [ 9.18911695e-01, -3.57805967e-01],\n",
       "       [ 7.64155805e-01,  6.54376209e-01],\n",
       "       [ 7.96245873e-01,  8.55422497e-01],\n",
       "       [ 4.86258626e-01,  3.94404948e-01],\n",
       "       [ 3.50852817e-01,  3.70341420e-01],\n",
       "       [-1.81096479e-01, -2.23040376e-02],\n",
       "       [-1.78187698e-01, -2.74936855e-01],\n",
       "       [ 9.31044877e-01,  9.33556557e-01],\n",
       "       [ 6.18365049e-01,  6.71080709e-01],\n",
       "       [ 9.05793726e-01,  8.75635386e-01],\n",
       "       [ 3.31113964e-01,  2.58849978e-01],\n",
       "       [ 8.82377028e-01,  5.81099272e-01],\n",
       "       [ 5.10305226e-01,  4.92978781e-01],\n",
       "       [ 7.99322844e-01,  7.61293173e-01],\n",
       "       [ 9.69292521e-01,  9.39006031e-01],\n",
       "       [ 6.24925375e-01,  5.81754088e-01],\n",
       "       [ 5.28548956e-01,  4.98463601e-01],\n",
       "       [ 8.07295501e-01,  6.58494890e-01],\n",
       "       [ 6.32850111e-01,  6.56993091e-01],\n",
       "       [ 9.72681820e-01,  9.44638193e-01],\n",
       "       [ 8.34758997e-01,  7.00521827e-01],\n",
       "       [ 3.24712992e-01,  2.60965228e-01],\n",
       "       [-4.19518426e-02, -2.15793207e-01],\n",
       "       [ 3.08662534e-01,  3.62952828e-01],\n",
       "       [ 4.83421117e-01,  4.77996349e-01],\n",
       "       [ 8.38608027e-01,  8.69307280e-01],\n",
       "       [ 5.32316983e-01,  4.07762021e-01],\n",
       "       [ 5.81734598e-01,  4.55520630e-01],\n",
       "       [ 4.96133715e-01,  4.54692334e-01],\n",
       "       [ 9.10576656e-02, -1.00857154e-01],\n",
       "       [ 9.63425398e-01,  9.51212764e-01],\n",
       "       [ 6.32970452e-01,  6.99319005e-01],\n",
       "       [-4.51661795e-01, -4.10400331e-01],\n",
       "       [ 6.69345915e-01,  7.16093242e-01],\n",
       "       [ 3.11192274e-01,  3.44121367e-01],\n",
       "       [ 7.91621804e-01,  7.31725633e-01],\n",
       "       [ 7.80996144e-01,  8.81581247e-01],\n",
       "       [ 1.98724587e-03,  2.64688581e-01],\n",
       "       [ 5.84644079e-01,  5.19414663e-01],\n",
       "       [ 9.68951344e-01,  9.18139279e-01],\n",
       "       [ 9.59949374e-01,  8.19766223e-01],\n",
       "       [ 7.20846415e-01,  6.82948947e-01],\n",
       "       [-4.64218736e-01, -2.14974210e-03],\n",
       "       [-2.00637872e-03,  2.47693621e-02],\n",
       "       [ 6.76177144e-01,  6.02774680e-01],\n",
       "       [ 5.00157773e-01,  4.90146220e-01],\n",
       "       [ 2.29175314e-01,  1.42980859e-01],\n",
       "       [ 9.17219639e-01,  8.81784797e-01],\n",
       "       [ 9.54208016e-01,  8.80812407e-01],\n",
       "       [ 8.39953899e-01,  7.34907568e-01],\n",
       "       [ 2.71050870e-01,  1.59756929e-01],\n",
       "       [-2.88982242e-01, -2.53386378e-01],\n",
       "       [ 1.95834503e-01,  1.60964713e-01],\n",
       "       [ 9.48965371e-01,  9.17160690e-01],\n",
       "       [ 4.27540451e-01,  4.16653723e-01],\n",
       "       [ 5.16566873e-01,  5.45503080e-01],\n",
       "       [ 3.07925940e-01,  5.42004645e-01],\n",
       "       [ 2.44576722e-01,  2.11945340e-01],\n",
       "       [ 9.33751583e-01,  8.42745900e-01],\n",
       "       [ 8.37949514e-01,  8.45510960e-01],\n",
       "       [ 7.82135963e-01,  6.62817478e-01],\n",
       "       [ 8.38608027e-01,  8.69307280e-01],\n",
       "       [ 3.90858889e-01,  4.06030744e-01],\n",
       "       [ 6.63197041e-01,  8.15009415e-01],\n",
       "       [ 4.31633085e-01,  3.18961203e-01],\n",
       "       [-7.95423910e-02, -1.51815429e-01],\n",
       "       [ 3.96333933e-01,  5.07354975e-01],\n",
       "       [-5.13648279e-02,  5.31785190e-02],\n",
       "       [ 7.35680223e-01,  5.70537210e-01],\n",
       "       [ 8.93152833e-01,  7.22840190e-01],\n",
       "       [ 6.36936188e-01,  1.81860298e-01],\n",
       "       [ 4.47345316e-01,  5.68051100e-01],\n",
       "       [ 7.36581743e-01,  6.73425853e-01],\n",
       "       [ 4.65283722e-01,  5.57235062e-01],\n",
       "       [ 9.68422234e-01,  8.22506845e-01],\n",
       "       [ 1.93322092e-01,  8.76547992e-02],\n",
       "       [ 7.68294811e-01,  5.79499662e-01],\n",
       "       [ 6.82314873e-01,  6.88294888e-01],\n",
       "       [ 3.73314142e-01,  3.03039461e-01],\n",
       "       [ 5.59413254e-01,  5.48105776e-01],\n",
       "       [ 1.51850685e-01,  2.72164583e-01],\n",
       "       [ 5.10016009e-02,  1.13544211e-01],\n",
       "       [ 4.67483848e-01,  5.27851343e-01],\n",
       "       [ 7.12754786e-01,  7.15720773e-01],\n",
       "       [ 6.75672472e-01,  6.32146418e-01],\n",
       "       [ 9.31834877e-01,  9.61470544e-01],\n",
       "       [ 9.18118775e-01,  8.36951435e-01],\n",
       "       [ 7.31063843e-01,  7.35034645e-01],\n",
       "       [ 4.86258626e-01,  3.94404948e-01],\n",
       "       [ 9.06088352e-01,  7.76827335e-01],\n",
       "       [ 7.55676389e-01,  7.57174253e-01],\n",
       "       [ 9.17430282e-01,  9.12817776e-01],\n",
       "       [ 4.14301783e-01, -1.88556742e-02],\n",
       "       [ 1.17350236e-01,  1.57754645e-01],\n",
       "       [ 8.02287757e-01,  6.59993410e-01],\n",
       "       [ 9.26326215e-01,  7.48778343e-01],\n",
       "       [ 6.45305291e-02, -1.76176224e-02],\n",
       "       [ 8.15294862e-01,  7.13657081e-01],\n",
       "       [ 3.99335593e-01,  4.49767798e-01],\n",
       "       [ 1.06960103e-01,  9.23642591e-02],\n",
       "       [-3.17744873e-02,  1.48360282e-01],\n",
       "       [ 5.79939067e-01,  4.30961400e-01],\n",
       "       [ 5.96911311e-01,  6.20104373e-01],\n",
       "       [ 9.48641360e-01,  8.94208789e-01],\n",
       "       [ 8.75650108e-01,  8.21469367e-01],\n",
       "       [ 4.39485997e-01,  3.65639716e-01],\n",
       "       [ 9.43321466e-01,  9.39176559e-01],\n",
       "       [ 3.32012117e-01,  1.12869395e-02],\n",
       "       [ 4.00372803e-01,  4.35203671e-01],\n",
       "       [ 5.82925260e-01,  5.39047599e-01],\n",
       "       [ 4.27403152e-01,  3.50356072e-01],\n",
       "       [ 8.31001043e-01,  7.95278490e-01],\n",
       "       [-3.59783053e-01, -2.34371826e-01],\n",
       "       [ 8.77470136e-01,  7.32500672e-01],\n",
       "       [ 3.98244619e-01,  4.05872911e-01],\n",
       "       [ 3.92839909e-01,  6.72268808e-01],\n",
       "       [ 2.45594874e-01,  7.36703575e-01],\n",
       "       [ 9.54982579e-01,  9.43280876e-01],\n",
       "       [ 5.05528271e-01,  4.03168470e-01],\n",
       "       [ 5.24880946e-01,  6.04167938e-01],\n",
       "       [-1.56485572e-01, -3.35269064e-01],\n",
       "       [ 9.63550091e-01,  9.17839527e-01],\n",
       "       [ 2.09466308e-01,  1.24764591e-01],\n",
       "       [ 9.19457376e-01,  8.56312871e-01],\n",
       "       [ 8.72180581e-01,  9.22086596e-01],\n",
       "       [ 9.67267454e-01,  8.99574280e-01],\n",
       "       [ 5.57291567e-01,  4.13138777e-01],\n",
       "       [ 9.00480002e-02,  2.74415493e-01],\n",
       "       [ 9.01695669e-01,  9.12677467e-01],\n",
       "       [-1.99854404e-01, -1.42867509e-02],\n",
       "       [ 2.34192923e-01,  3.48873585e-01],\n",
       "       [ 4.07943040e-01,  4.38638628e-01],\n",
       "       [ 7.76087344e-01,  7.85401821e-01],\n",
       "       [ 7.46303916e-01,  6.52347267e-01],\n",
       "       [ 9.18728173e-01,  5.23755550e-01],\n",
       "       [ 9.52956796e-01,  9.09659386e-01],\n",
       "       [ 6.35856628e-01,  6.25285208e-01],\n",
       "       [ 6.37328625e-01,  6.66516125e-01],\n",
       "       [ 5.43645203e-01,  6.48837686e-01],\n",
       "       [ 5.82893133e-01,  5.87625802e-01],\n",
       "       [ 4.67089385e-01,  4.08109397e-01],\n",
       "       [ 6.21314585e-01,  5.93429208e-01],\n",
       "       [ 2.16522917e-01,  1.07725509e-01],\n",
       "       [ 2.49149919e-01,  2.79017180e-01],\n",
       "       [ 9.28125322e-01,  9.19017792e-01],\n",
       "       [ 3.71969730e-01,  3.60636979e-01]], dtype=float32)"
      ]
     },
     "execution_count": 308,
     "metadata": {},
     "output_type": "execute_result"
    }
   ],
   "source": [
    "y_pred_probabilities"
   ]
  },
  {
   "cell_type": "code",
   "execution_count": 309,
   "id": "94bab959-fab0-4463-906a-a52a295185e1",
   "metadata": {},
   "outputs": [],
   "source": [
    "# Converting predicted probabilities to class labels\n",
    "y_pred_labels = np.argmax(y_pred_probabilities, axis=1)"
   ]
  },
  {
   "cell_type": "code",
   "execution_count": 310,
   "id": "3bb6082b-f036-4a8c-aadd-69f7a54ddf27",
   "metadata": {},
   "outputs": [
    {
     "data": {
      "text/plain": [
       "array([0, 0, 1, 1, 1, 1, 0, 0, 1, 1, 0, 0, 1, 1, 1, 0, 0, 1, 0, 1, 0, 1,\n",
       "       1, 0, 0, 1, 0, 0, 1, 1, 0, 0, 0, 0, 0, 0, 1, 1, 0, 0, 0, 0, 0, 0,\n",
       "       1, 0, 0, 0, 0, 0, 1, 0, 0, 1, 0, 1, 1, 1, 1, 1, 0, 0, 1, 1, 0, 1,\n",
       "       0, 0, 0, 1, 0, 0, 0, 1, 1, 1, 1, 0, 0, 1, 0, 0, 1, 0, 1, 0, 1, 1,\n",
       "       0, 0, 0, 0, 1, 0, 0, 0, 0, 0, 0, 0, 0, 0, 1, 1, 0, 1, 0, 1, 1, 0,\n",
       "       1, 1, 0, 1, 1, 0, 1, 0, 1, 0, 0, 0, 1, 0, 1, 1, 1, 0, 0, 1, 0, 0,\n",
       "       0, 0, 0, 0, 0, 0, 1, 1, 1, 0, 0, 0, 1, 1, 1, 0, 0, 0, 1, 1, 1, 1,\n",
       "       0, 0, 0, 0, 0, 1, 0, 1, 0, 1, 1, 1, 1, 0, 1, 1, 0, 0, 0, 0, 0, 0,\n",
       "       1, 0, 1, 1, 0, 1, 1, 0, 0, 0, 0, 0, 0, 0, 0, 0, 1, 0, 0, 0, 0, 1,\n",
       "       0, 1, 0, 0, 0, 0, 0, 1, 1, 1, 1, 0, 1, 1, 0, 0, 0, 0, 1, 1, 0, 0,\n",
       "       0, 0, 0, 0, 0, 1, 0, 0, 0, 1, 1, 0, 0, 1, 0, 1, 1, 1, 0, 0, 1, 1,\n",
       "       0, 0, 0, 1, 0, 1, 0, 0, 0, 1, 0, 0, 1, 1, 1, 1, 0, 1, 0, 1, 0, 0,\n",
       "       1, 0, 0, 1, 0, 0, 0, 0, 1, 0, 1, 0, 1, 0, 0, 0, 0, 0, 1, 0, 0, 0,\n",
       "       1, 0, 1, 1, 1, 0, 0, 1, 0, 0, 0, 0, 1, 0, 0, 1, 1, 1, 1, 1, 1, 0,\n",
       "       0, 0, 0, 1, 1, 1, 0, 0, 0, 1, 0, 0], dtype=int64)"
      ]
     },
     "execution_count": 310,
     "metadata": {},
     "output_type": "execute_result"
    }
   ],
   "source": [
    "y_pred_labels"
   ]
  },
  {
   "cell_type": "markdown",
   "id": "ea92f483-f61d-4f32-80a0-87e6d8f15fdf",
   "metadata": {},
   "source": [
    "### Evaluating model's accuracy using accuracy_score"
   ]
  },
  {
   "cell_type": "code",
   "execution_count": 311,
   "id": "5942b7e5-879d-4fa4-a377-5a92f35c192c",
   "metadata": {},
   "outputs": [
    {
     "name": "stdout",
     "output_type": "stream",
     "text": [
      "Accuracy: 44.6875 %\n"
     ]
    }
   ],
   "source": [
    "print(f'Accuracy: {accuracy_score(y_test,y_pred_labels)*100} %')"
   ]
  },
  {
   "cell_type": "code",
   "execution_count": 312,
   "id": "5a5d560b-d298-4422-9f8e-35682093e10b",
   "metadata": {},
   "outputs": [
    {
     "name": "stdout",
     "output_type": "stream",
     "text": [
      "Confusion Matirix:\n",
      "[[ 77  64]\n",
      " [113  66]]\n"
     ]
    }
   ],
   "source": [
    "print('Confusion Matirix:')\n",
    "print(confusion_matrix(y_test,y_pred_labels))"
   ]
  },
  {
   "cell_type": "code",
   "execution_count": 313,
   "id": "048f8639-bc60-4141-b7e7-bc472bd548bc",
   "metadata": {},
   "outputs": [
    {
     "name": "stdout",
     "output_type": "stream",
     "text": [
      "Classification Report:\n",
      "              precision    recall  f1-score   support\n",
      "\n",
      "           0       0.41      0.55      0.47       141\n",
      "           1       0.51      0.37      0.43       179\n",
      "\n",
      "    accuracy                           0.45       320\n",
      "   macro avg       0.46      0.46      0.45       320\n",
      "weighted avg       0.46      0.45      0.44       320\n",
      "\n"
     ]
    }
   ],
   "source": [
    "print('Classification Report:')\n",
    "print(classification_report(y_test,y_pred_labels))"
   ]
  }
 ],
 "metadata": {
  "kernelspec": {
   "display_name": "Python 3 (ipykernel)",
   "language": "python",
   "name": "python3"
  },
  "language_info": {
   "codemirror_mode": {
    "name": "ipython",
    "version": 3
   },
   "file_extension": ".py",
   "mimetype": "text/x-python",
   "name": "python",
   "nbconvert_exporter": "python",
   "pygments_lexer": "ipython3",
   "version": "3.11.3"
  }
 },
 "nbformat": 4,
 "nbformat_minor": 5
}
