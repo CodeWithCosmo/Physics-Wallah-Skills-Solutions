{
 "cells": [
  {
   "cell_type": "markdown",
   "id": "9a46e46e-5581-45f2-874d-4fdd2381c97d",
   "metadata": {},
   "source": [
    "# Q1. Explain the assumptions required to use ANOVA and provide examples of violations that could impact the validity of the results.\n",
    "## ANOVA (Analysis of Variance) is a statistical method used to analyze the differences among means of two or more groups. It assumes that the data meet the following assumptions:\n",
    "\n",
    "### 1.Normality: The data should be normally distributed within each group. Violations of this assumption occur when the distribution is heavily skewed, or when there are extreme outliers. This can lead to inaccurate p-values, confidence intervals, and overall results.\n",
    "\n",
    "### 2.Homogeneity of variance: The variance of the dependent variable should be the same for all groups. Violations of this assumption occur when the variance of one group is much larger than the others, resulting in a higher likelihood of Type I errors.\n",
    "\n",
    "### 3.Independence: The observations within each group should be independent of each other. Violations of this assumption occur when observations are not independent, such as in repeated measures or matched-pairs designs. This can lead to underestimating the standard error, making the results appear more significant than they actually are.\n",
    "\n",
    "## Examples of violations that could impact the validity of the results are:\n",
    "\n",
    "### 1.Non-normality: Suppose the data are skewed, have heavy tails or extreme outliers. In that case, it violates the normality assumption, which can result in incorrect p-values, confidence intervals, and overall results. One possible solution is to transform the data, such as using a log or square-root transformation. If the data cannot be transformed, non-parametric tests such as the Kruskal-Wallis test may be appropriate.\n",
    "\n",
    "### 2.Non-homogeneity of variance: If the variance of one group is much larger than the others, it violates the homogeneity of variance assumption, which can lead to higher Type I errors. One solution is to use a Welch's ANOVA test that accounts for unequal variances or to transform the data, such as using a logarithmic or reciprocal transformation.\n",
    "\n",
    "### 3.Non-independence: In a repeated measures design, the observations within each group are not independent. Violating the independence assumption can lead to underestimating the standard error, making the results appear more significant than they actually are. One solution is to use a repeated-measures ANOVA or a mixed-effects model that accounts for the non-independence."
   ]
  },
  {
   "cell_type": "markdown",
   "id": "ef4f5612-63af-4f24-a537-52e666b67075",
   "metadata": {},
   "source": []
  },
  {
   "cell_type": "markdown",
   "id": "bed6f8c7-c2ff-496e-a005-a341e14021e1",
   "metadata": {},
   "source": []
  },
  {
   "cell_type": "markdown",
   "id": "c03aa32c-59a6-4adc-a2ee-a7e83e7a15b4",
   "metadata": {},
   "source": []
  },
  {
   "cell_type": "markdown",
   "id": "02246744-5c3e-447a-9b7e-b4ab40db1c60",
   "metadata": {},
   "source": []
  },
  {
   "cell_type": "markdown",
   "id": "1cc3226f-14d1-4631-bdbc-9c081f40b0eb",
   "metadata": {},
   "source": [
    "# Q2. What are the three types of ANOVA, and in what situations would each be used?\n",
    "### 1.One-way ANOVA: It is used when there is only one independent variable (factor) with two or more levels, and the dependent variable is continuous. One-way ANOVA is used to determine whether there are any statistically significant differences between the means of the groups. For example, if we want to compare the average test scores of students who attended different schools (A, B, and C), we can use a one-way ANOVA to determine whether there are significant differences in the average scores among the three schools.\n",
    "\n",
    "### 2.Two-way ANOVA: It is used when there are two independent variables (factors) that may influence the dependent variable, and the dependent variable is continuous. Two-way ANOVA is used to determine whether there are significant differences between the means of the groups, taking into account the effect of both independent variables. For example, suppose we want to compare the average test scores of students who attended different schools (A, B, and C) and had different teachers (X and Y). In that case, we can use a two-way ANOVA to determine whether there are significant differences in the average scores among the three schools and whether there is any interaction between the schools and teachers.\n",
    "\n",
    "### 3.Mixed-design ANOVA: It is used when there are two or more independent variables, including at least one between-subjects variable and one within-subjects variable. A mixed-design ANOVA is used to determine whether there are significant differences between the means of the groups, taking into account both between-subjects and within-subjects effects. For example, suppose we want to compare the average test scores of students who attended different schools (A, B, and C) and had different teachers (X and Y) over time (pre-test and post-test). In that case, we can use a mixed-design ANOVA to determine whether there are significant differences in the average scores among the three schools, whether there is any interaction between the schools and teachers, and whether there is any change in the scores from pre-test to post-test."
   ]
  },
  {
   "cell_type": "markdown",
   "id": "af547f99-de29-44d3-8e83-661cd7cb6570",
   "metadata": {},
   "source": []
  },
  {
   "cell_type": "markdown",
   "id": "cb6b315f-78ec-4e9b-b878-4822491b240c",
   "metadata": {},
   "source": []
  },
  {
   "cell_type": "markdown",
   "id": "bbec4023-0642-4f3a-8261-e170e5f5c343",
   "metadata": {},
   "source": []
  },
  {
   "cell_type": "markdown",
   "id": "7456ba84-230e-4276-9339-58a15ad4f4b4",
   "metadata": {},
   "source": []
  },
  {
   "cell_type": "markdown",
   "id": "6076f9b0-b32a-439e-bce5-fdc685bc98be",
   "metadata": {},
   "source": [
    "# Q3. What is the partitioning of variance in ANOVA, and why is it important to understand this concept?\n",
    "\n",
    "## Partitioning of variance in ANOVA refers to the process of breaking down the total variance of a dependent variable into several components that are associated with the sources of variation in the model. These sources of variation may include the effects of the independent variables, the interaction between them, and the error term. The total variance is then partitioned into a between-group variance, a within-group variance, and an error variance.\n",
    "\n",
    "## The between-group variance measures the variability in the dependent variable that can be explained by the independent variable(s). In contrast, the within-group variance measures the variability in the dependent variable that cannot be explained by the independent variable(s) and is thus attributed to the error term. The error variance measures the random variability in the data that is not associated with any specific source of variation.\n",
    "\n",
    "## Understanding the concept of partitioning of variance is important because it provides valuable insights into the sources of variability in the data and how much of that variability can be attributed to the independent variables. It also helps to determine whether the independent variables have a significant effect on the dependent variable and whether any interaction effects are present. Additionally, it enables the researcher to calculate effect sizes, which are important for interpreting the practical significance of the results.\n",
    "\n",
    "## Partitioning of variance is also important because it allows the researcher to determine the appropriate statistical test to use. For example, if the between-group variance is significantly larger than the within-group variance, it suggests that there are significant differences between the groups, and a one-way ANOVA may be appropriate. If the within-group variance is relatively large compared to the between-group variance, it may be more appropriate to use a non-parametric test, such as the Kruskal-Wallis test, which is less sensitive to violations of the normality and homogeneity of variance assumptions."
   ]
  },
  {
   "cell_type": "markdown",
   "id": "88441010-65db-48c6-b959-3bf4dec31cb3",
   "metadata": {},
   "source": []
  },
  {
   "cell_type": "markdown",
   "id": "fda96776-e906-4b1b-8181-07abe34117f5",
   "metadata": {},
   "source": []
  },
  {
   "cell_type": "markdown",
   "id": "ba348893-b56a-48e9-934d-ae59b06694b2",
   "metadata": {},
   "source": []
  },
  {
   "cell_type": "markdown",
   "id": "f824c9d1-ef36-411f-b61d-f07ad8859176",
   "metadata": {},
   "source": []
  },
  {
   "cell_type": "markdown",
   "id": "70a62e5a-5ede-442f-9df9-5f5297157f91",
   "metadata": {},
   "source": [
    "# Q4. How would you calculate the total sum of squares (SST), explained sum of squares (SSE), and residual sum of squares (SSR) in a one-way ANOVA using Python?\n",
    "## To calculate the total sum of squares (SST), explained sum of squares (SSE), and residual sum of squares (SSR) in a one-way ANOVA using Python, we can use the statsmodels library. \n",
    "\n",
    "### Example;"
   ]
  },
  {
   "cell_type": "code",
   "execution_count": 4,
   "id": "d5b9a351-bc3c-459f-b2c9-25b13c421dd7",
   "metadata": {
    "tags": []
   },
   "outputs": [
    {
     "name": "stdout",
     "output_type": "stream",
     "text": [
      "SSE = 16.000000000000014\n",
      "SSR = 1.5\n",
      "SST = 17.5\n"
     ]
    }
   ],
   "source": [
    "import pandas as pd\n",
    "import numpy as np\n",
    "from statsmodels.formula.api import ols\n",
    "\n",
    "# sample data frame with a categorical variable 'group' and a continuous variable 'score'\n",
    "df = pd.DataFrame({'group': ['A', 'A', 'B', 'B', 'C', 'C'], 'score': [1, 2, 3, 4, 5, 6]})\n",
    "\n",
    "# Fit a one-way ANOVA model using the 'ols' function from the statsmodels library\n",
    "model = ols('score ~ group', data=df).fit()\n",
    "\n",
    "# explained sum of squares (SSE)\n",
    "sse = np.sum((model.fittedvalues - np.mean(df['score'])) ** 2)\n",
    "\n",
    "# residual sum of squares (SSR)\n",
    "ssr = np.sum((df['score'] - model.fittedvalues) ** 2)\n",
    "\n",
    "# total sum of squares (SST) # SST = SSE + SSR\n",
    "sst = np.sum((df['score'] - np.mean(df['score'])) ** 2)\n",
    "\n",
    "print(\"SSE =\", sse)\n",
    "print(\"SSR =\", ssr)\n",
    "print(\"SST =\", sst)"
   ]
  },
  {
   "cell_type": "markdown",
   "id": "f210cad8-6cdf-4a7a-b27a-9eb80879c7d9",
   "metadata": {},
   "source": []
  },
  {
   "cell_type": "markdown",
   "id": "95f24da4-d0ea-4e91-98eb-7303a48af280",
   "metadata": {},
   "source": []
  },
  {
   "cell_type": "markdown",
   "id": "709d31e0-e5ad-4c06-9054-4c3ed4935dfb",
   "metadata": {},
   "source": []
  },
  {
   "cell_type": "markdown",
   "id": "fb026d07-7070-4616-976a-41acd2f05ed6",
   "metadata": {},
   "source": []
  },
  {
   "cell_type": "markdown",
   "id": "2ef1e1ab-7512-4142-9a6d-e3870a6e7fa2",
   "metadata": {},
   "source": [
    "# Q5. In a two-way ANOVA, how would you calculate the main effects and interaction effects using Python?"
   ]
  },
  {
   "cell_type": "markdown",
   "id": "72a130f9-6451-4404-90d3-f1d177135a4d",
   "metadata": {},
   "source": [
    "#### The main effect and interaction effect are two important concepts in the interpretation of a two-way ANOVA.\n",
    "\n",
    "#### The main effect refers to the effect of each independent variable on the dependent variable, ignoring the effect of the other independent variable. For example, if we are investigating the effect of two different treatments (A and B) on blood pressure, we might find that Treatment A significantly reduces blood pressure compared to a placebo, while Treatment B has no significant effect. This would be an example of a main effect of Treatment A.\n",
    "\n",
    "#### The interaction effect, on the other hand, refers to the effect of the two independent variables on the dependent variable when they are combined. In other words, it measures whether the effect of one independent variable on the dependent variable changes depending on the level of the other independent variable. For example, if we are investigating the effect of two different treatments (A and B) on blood pressure, we might find that Treatment A is more effective than Treatment B in men, but the opposite is true in women. This would be an example of an interaction effect between Treatment and Gender.\n",
    "\n",
    "#### It's important to note that the interpretation of main and interaction effects depends on the specific research question and the design of the study. In some cases, a significant main effect may be more important than an interaction effect, while in other cases, the interaction effect may be of greater interest."
   ]
  },
  {
   "cell_type": "code",
   "execution_count": 11,
   "id": "90487395-7a8c-4d30-83f0-60d68303f4e2",
   "metadata": {
    "tags": []
   },
   "outputs": [
    {
     "name": "stdout",
     "output_type": "stream",
     "text": [
      "    A  B   Y\n",
      "0   1  X   5\n",
      "1   2  X   8\n",
      "2   3  X   7\n",
      "3   4  X   6\n",
      "4   5  X   9\n",
      "5   6  Y  10\n",
      "6   7  Y  12\n",
      "7   8  Y  11\n",
      "8   9  Y  13\n",
      "9  10  Y  15\n",
      "Main effect of A: 14.450000000000017\n",
      "Main effect of B: 0.5469696969696908\n",
      "Interaction effect: 1.2499999999999951\n"
     ]
    }
   ],
   "source": [
    "import pandas as pd\n",
    "import statsmodels.api as sm\n",
    "from statsmodels.formula.api import ols\n",
    "\n",
    "# dataframe\n",
    "data = {'A': [1, 2, 3, 4, 5, 6, 7, 8, 9, 10],\n",
    "        'B': ['X', 'X', 'X', 'X', 'X', 'Y', 'Y', 'Y', 'Y', 'Y'],\n",
    "        'Y': [5, 8, 7, 6, 9, 10, 12, 11, 13, 15]}\n",
    "df = pd.DataFrame(data)\n",
    "\n",
    "# fit the two-way ANOVA model\n",
    "model = ols('Y ~ A + B + A:B', data=df).fit()\n",
    "anova_table = sm.stats.anova_lm(model, typ=2)\n",
    "\n",
    "# extracting main effects and interaction effects from the ANOVA table\n",
    "main_effect_a = anova_table['sum_sq']['A'] / anova_table['df']['A']\n",
    "main_effect_b = anova_table['sum_sq']['B'] / anova_table['df']['B']\n",
    "interaction_effect = anova_table['sum_sq']['A:B'] / anova_table['df']['A:B']\n",
    "\n",
    "print(df)\n",
    "print(\"Main effect of A:\", main_effect_a)\n",
    "print(\"Main effect of B:\", main_effect_b)\n",
    "print(\"Interaction effect:\", interaction_effect)"
   ]
  },
  {
   "cell_type": "markdown",
   "id": "477f9e1b-9924-46b4-b620-8e709cc6ebb1",
   "metadata": {},
   "source": []
  },
  {
   "cell_type": "markdown",
   "id": "3e068abf-0d16-467a-9190-4fb270c8886b",
   "metadata": {},
   "source": []
  },
  {
   "cell_type": "markdown",
   "id": "294525e4-61cd-45b9-bab0-e34e0935ba74",
   "metadata": {},
   "source": []
  },
  {
   "cell_type": "markdown",
   "id": "e2f652f4-e693-423b-8d4e-714f6550e93b",
   "metadata": {},
   "source": []
  },
  {
   "cell_type": "markdown",
   "id": "baa895b7-c977-4cfc-890b-129180caf92e",
   "metadata": {},
   "source": []
  },
  {
   "cell_type": "markdown",
   "id": "d36f2b85-c374-4209-a6c8-694659bc6acd",
   "metadata": {},
   "source": [
    "# Q6. Suppose you conducted a one-way ANOVA and obtained an F-statistic of 5.23 and a p-value of 0.02.What can you conclude about the differences between the groups, and how would you interpret these results?\n",
    "### When conducting a one-way ANOVA, the F-statistic is used to test the null hypothesis that the means of all groups are equal. If the F-statistic is large and the p-value is small, it indicates that there is a significant difference between at least two of the groups. In this case, the F-statistic of 5.23 and a p-value of 0.02 indicate that there are significant differences between the groups.\n",
    "\n",
    "### To interpret these results, you can conclude that there is a significant difference between at least two of the groups being compared. However, it is important to perform post-hoc tests to determine which groups are significantly different from each other. Post-hoc tests are used to compare all possible pairs of group means and to identify the significant differences between them.\n",
    "\n",
    "### It is also important to consider the effect size, which measures the magnitude of the difference between the groups. This can be calculated using measures such as Cohen's d or eta-squared."
   ]
  },
  {
   "cell_type": "markdown",
   "id": "9612152e-c383-4b62-8601-76367706c9bc",
   "metadata": {},
   "source": []
  },
  {
   "cell_type": "markdown",
   "id": "fa6c0322-e29a-4444-8cfc-e9a868406c98",
   "metadata": {},
   "source": []
  },
  {
   "cell_type": "markdown",
   "id": "9814a0b1-f36f-45cf-87fa-6a89970803cd",
   "metadata": {},
   "source": []
  },
  {
   "cell_type": "markdown",
   "id": "37bfd481-be0f-4df9-8010-45dbc9d4de0c",
   "metadata": {},
   "source": []
  },
  {
   "cell_type": "markdown",
   "id": "d1b7a491-53ec-4d7f-8633-3bb5b588567e",
   "metadata": {},
   "source": [
    "# Q7. In a repeated measures ANOVA, how would you handle missing data, and what are the potential consequences of using different methods to handle missing data?\n",
    "## In a repeated measures ANOVA, missing data can occur when a participant does not provide a response for one or more of the repeated measures. The handling of missing data can affect the accuracy and validity of the results obtained from the analysis. Here are some common methods for handling missing data in a repeated measures ANOVA:\n",
    "\n",
    "### 1.Pairwise deletion: This method involves analyzing only those cases that have complete data for all variables. Missing values are ignored, and only cases with complete data are used in the analysis. The downside of this method is that it can lead to a loss of statistical power, as the sample size is reduced.\n",
    "\n",
    "### 2.Mean imputation: This method involves replacing the missing values with the mean value of that variable across all cases. The advantage of this method is that it is simple and does not result in a loss of statistical power. However, mean imputation assumes that the missing data are missing at random (MAR), which may not be true.\n",
    "\n",
    "### 3.Last observation carried forward (LOCF): This method involves replacing missing values with the last observed value of that variable. This method assumes that the missing data are missing completely at random (MCAR) or that the missing values are related to previous values. LOCF can lead to biased estimates if there is a systematic change in the variable over time.\n",
    "\n",
    "### 4.Multiple imputation: This method involves creating several plausible values for each missing data point based on the other variables in the dataset. This method accounts for the uncertainty associated with missing data and can provide unbiased estimates. However, it is more complex than other methods and requires additional statistical software."
   ]
  },
  {
   "cell_type": "markdown",
   "id": "4f585847-58cd-448b-b040-ca1d5bb860c4",
   "metadata": {},
   "source": []
  },
  {
   "cell_type": "markdown",
   "id": "a1d7cca9-99af-42ba-9f5a-5e34f202d513",
   "metadata": {},
   "source": []
  },
  {
   "cell_type": "markdown",
   "id": "6da8d0ae-84e5-40cb-ae7a-b3cf6d2d6d74",
   "metadata": {},
   "source": []
  },
  {
   "cell_type": "markdown",
   "id": "899caf09-94ab-4512-b7c9-eb4d28116711",
   "metadata": {},
   "source": []
  },
  {
   "cell_type": "markdown",
   "id": "6a9378c7-2f9a-4452-a7fd-ee196060d6ba",
   "metadata": {},
   "source": [
    "# Q8. What are some common post-hoc tests used after ANOVA, and when would you use each one? Provide an example of a situation where a post-hoc test might be necessary.\n",
    "## Post-hoc tests are used to determine which specific groups differ significantly from one another after a significant result is obtained in an ANOVA (analysis of variance) test. Here are some common post-hoc tests and their applications:\n",
    "\n",
    "### 1.Tukey's HSD (honestly significant difference): This test compares all pairs of groups to determine which ones are significantly different from each other. It is used when the number of groups is greater than two and when the assumption of homogeneity of variance is met.\n",
    "\n",
    "### 2.Bonferroni correction: This test adjusts the alpha level for multiple comparisons. It is used when there are a large number of comparisons and the alpha level needs to be corrected to reduce the likelihood of Type I error.\n",
    "\n",
    "### 3.Dunnett's test: This test compares all groups to a control group. It is used when there is a control group and the goal is to determine which treatment groups differ significantly from the control group.\n",
    "\n",
    "### 4.Scheffe's test: This test is a conservative test that can be used when the assumption of homogeneity of variance is not met. It is used when the goal is to control for the overall Type I error rate.\n",
    "\n",
    "### 5.Games-Howell test: This test is used when the assumption of equal variances is not met. It is a modified version of the Tukey's HSD test that adjusts for unequal variances.\n",
    "\n",
    "## An example of a situation where a post-hoc test might be necessary is a study that examines the effectiveness of different types of therapy for depression. An ANOVA test may reveal a significant difference in the mean scores of the different therapy groups. However, a post-hoc test is needed to determine which specific groups differ significantly from one another. Tukey's HSD test or Bonferroni correction can be used in this case to compare all pairs of groups and identify significant differences between them."
   ]
  },
  {
   "cell_type": "markdown",
   "id": "bed76cb2-a863-466f-b451-f2345b68a54e",
   "metadata": {},
   "source": []
  },
  {
   "cell_type": "markdown",
   "id": "cd26d510-211c-49d0-9eec-b7b5feea3d8a",
   "metadata": {},
   "source": []
  },
  {
   "cell_type": "markdown",
   "id": "1be99de9-2558-43c8-adfd-9c871363c29e",
   "metadata": {},
   "source": []
  },
  {
   "cell_type": "markdown",
   "id": "a15166ff-57a1-4a59-8fe8-fb48401c0aeb",
   "metadata": {},
   "source": []
  },
  {
   "cell_type": "markdown",
   "id": "623184a0-ad8e-489d-85c9-4735eb1e2174",
   "metadata": {},
   "source": [
    "# Q9. A researcher wants to compare the mean weight loss of three diets: A, B, and C. They collect data from 50 participants who were randomly assigned to one of the diets. Conduct a one-way ANOVA using Python to determine if there are any significant differences between the mean weight loss of the three diets.Report the F-statistic and p-value, and interpret the results."
   ]
  },
  {
   "cell_type": "markdown",
   "id": "988b7e07-1945-4c86-92e2-2ec0a741aafe",
   "metadata": {},
   "source": [
    "## Hypothesis\n",
    "### H0: The mean weight loss of all three diets is equal.\n",
    "### Ha: The mean weight loss of all three diets is not equal."
   ]
  },
  {
   "cell_type": "markdown",
   "id": "babc99ab-a9ec-4b53-9f99-ffe0a60fd475",
   "metadata": {},
   "source": [
    "## Generating random data"
   ]
  },
  {
   "cell_type": "code",
   "execution_count": 77,
   "id": "81ebcc26-0794-4496-b481-bcbdd1556592",
   "metadata": {
    "tags": []
   },
   "outputs": [],
   "source": [
    "import random \n",
    "import pandas as pd\n",
    "diet = [random.choice(['A','B','C']) for _ in range(50)]\n",
    "weight_loss = [random.uniform(3.5,7.5) for _ in range(50)]\n",
    "data = pd.DataFrame({'Diet':diet,'Weight Loss': weight_loss})"
   ]
  },
  {
   "cell_type": "markdown",
   "id": "74e91d34-1931-4ae7-a765-e22f06ab5c8d",
   "metadata": {},
   "source": [
    "## Calculating f-statistic and p_value"
   ]
  },
  {
   "cell_type": "code",
   "execution_count": 78,
   "id": "74d41681-7351-4f72-b225-2b2d38cf824e",
   "metadata": {
    "tags": []
   },
   "outputs": [
    {
     "name": "stdout",
     "output_type": "stream",
     "text": [
      "F-statistic: 9.672410862172248\n",
      "p-value: 0.00030327347171112557\n"
     ]
    }
   ],
   "source": [
    "from scipy.stats import f_oneway\n",
    "\n",
    "# conduct one-way ANOVA\n",
    "f_stat, p_value = f_oneway(data[data['Diet'] == 'A']['Weight Loss'],\n",
    "                           data[data['Diet'] == 'B']['Weight Loss'],\n",
    "                           data[data['Diet'] == 'C']['Weight Loss'])\n",
    "\n",
    "print(\"F-statistic:\", f_stat)\n",
    "print(\"p-value:\", p_value)"
   ]
  },
  {
   "cell_type": "markdown",
   "id": "a6dc67b3-7014-4d98-937b-1168f1636395",
   "metadata": {
    "tags": []
   },
   "source": [
    "## Interpreting the results:\n",
    "\n",
    "### The F-statistic is 9.67 and the p-value is 0.000303. This indicates that there is a significant difference between at least two of the groups being compared. Therefore, we reject the null hypothesis that the mean weight loss of all three diets are equal.\n",
    "\n",
    "#### However, to determine which groups are significantly different from each other, we should perform post-hoc tests, such as Tukey's Honestly Significant Difference (HSD) test, Scheffe's test, or Bonferroni's test.\n",
    "\n",
    "#### It is also important to consider the effect size, which can be calculated using measures such as eta-squared or Cohen's d."
   ]
  },
  {
   "cell_type": "markdown",
   "id": "2fe04566-7cc4-462c-abb2-972f666e7b0c",
   "metadata": {},
   "source": []
  },
  {
   "cell_type": "markdown",
   "id": "31bd15a4-1bd0-41cc-9dd1-9f20d7f1292c",
   "metadata": {},
   "source": []
  },
  {
   "cell_type": "markdown",
   "id": "1dfc17be-222e-4c1f-8159-921e402284cb",
   "metadata": {},
   "source": []
  },
  {
   "cell_type": "markdown",
   "id": "33962cb4-80b1-4398-8a08-95578b3fd4bc",
   "metadata": {},
   "source": []
  },
  {
   "cell_type": "markdown",
   "id": "083dac46-91d4-4387-8834-fc12c3ebdb7c",
   "metadata": {},
   "source": [
    "# Q10. A company wants to know if there are any significant differences in the average time it takes to complete a task using three different software programs: Program A, Program B, and Program C. They randomly assign 30 employees to one of the programs and record the time it takes each employee to complete the task. Conduct a two-way ANOVA using Python to determine if there are any main effects or interaction effects between the software programs and employee experience level (novice vs.experienced). Report the F-statistics and p-values, and interpret the results."
   ]
  },
  {
   "cell_type": "code",
   "execution_count": 24,
   "id": "3f6389e2-c483-4409-9c7e-7665d2ae344d",
   "metadata": {},
   "outputs": [
    {
     "data": {
      "text/html": [
       "<div>\n",
       "<style scoped>\n",
       "    .dataframe tbody tr th:only-of-type {\n",
       "        vertical-align: middle;\n",
       "    }\n",
       "\n",
       "    .dataframe tbody tr th {\n",
       "        vertical-align: top;\n",
       "    }\n",
       "\n",
       "    .dataframe thead th {\n",
       "        text-align: right;\n",
       "    }\n",
       "</style>\n",
       "<table border=\"1\" class=\"dataframe\">\n",
       "  <thead>\n",
       "    <tr style=\"text-align: right;\">\n",
       "      <th></th>\n",
       "      <th>Program</th>\n",
       "      <th>Experience</th>\n",
       "      <th>Time</th>\n",
       "    </tr>\n",
       "  </thead>\n",
       "  <tbody>\n",
       "    <tr>\n",
       "      <th>0</th>\n",
       "      <td>A</td>\n",
       "      <td>Novice</td>\n",
       "      <td>3.914369</td>\n",
       "    </tr>\n",
       "    <tr>\n",
       "      <th>1</th>\n",
       "      <td>A</td>\n",
       "      <td>Novice</td>\n",
       "      <td>5.997345</td>\n",
       "    </tr>\n",
       "    <tr>\n",
       "      <th>2</th>\n",
       "      <td>A</td>\n",
       "      <td>Novice</td>\n",
       "      <td>5.282978</td>\n",
       "    </tr>\n",
       "    <tr>\n",
       "      <th>3</th>\n",
       "      <td>A</td>\n",
       "      <td>Novice</td>\n",
       "      <td>3.493705</td>\n",
       "    </tr>\n",
       "    <tr>\n",
       "      <th>4</th>\n",
       "      <td>A</td>\n",
       "      <td>Novice</td>\n",
       "      <td>4.421400</td>\n",
       "    </tr>\n",
       "  </tbody>\n",
       "</table>\n",
       "</div>"
      ],
      "text/plain": [
       "  Program Experience      Time\n",
       "0       A     Novice  3.914369\n",
       "1       A     Novice  5.997345\n",
       "2       A     Novice  5.282978\n",
       "3       A     Novice  3.493705\n",
       "4       A     Novice  4.421400"
      ]
     },
     "execution_count": 24,
     "metadata": {},
     "output_type": "execute_result"
    }
   ],
   "source": [
    "import pandas as pd\n",
    "import statsmodels.api as sm\n",
    "from statsmodels.formula.api import ols\n",
    "\n",
    "df = pd.read_csv('data.csv')\n",
    "df.head()"
   ]
  },
  {
   "cell_type": "markdown",
   "id": "3bdf792b-14e4-4613-a2c0-3b913f1ee768",
   "metadata": {
    "tags": []
   },
   "source": [
    "## Hypothesis\n",
    "## H0: There is no significant difference between the average time to complete a task using software program A, program B and program C. \n",
    "## Ha: There is at least one significant difference between the average time to complete a task using software program A, program B and program C. "
   ]
  },
  {
   "cell_type": "markdown",
   "id": "da51a8e5-5eee-4a46-8c2c-941839cc771e",
   "metadata": {},
   "source": [
    "#### We can use the ols function to create a model formula for the ANOVA."
   ]
  },
  {
   "cell_type": "code",
   "execution_count": 25,
   "id": "ae331d63-822d-491b-b317-093b07348b9a",
   "metadata": {
    "tags": []
   },
   "outputs": [],
   "source": [
    "model = ols('Time ~ C(Program) + C(Experience) + C(Program):C(Experience)', data=df).fit()"
   ]
  },
  {
   "cell_type": "markdown",
   "id": "0104e96c-d8a1-4f5c-a437-00ae9222e5e3",
   "metadata": {},
   "source": [
    "#### This model formula includes the main effects of Program and Experience, as well as their interaction effect. The C() function is used to specify that Program and Experience are categorical variables.\n",
    "\n",
    "#### We can then use the anova_lm function to compute the ANOVA table."
   ]
  },
  {
   "cell_type": "code",
   "execution_count": 26,
   "id": "b019db92-61fa-45bf-8615-fba46519821d",
   "metadata": {
    "tags": []
   },
   "outputs": [],
   "source": [
    "anova_table = sm.stats.anova_lm(model, typ = 2)"
   ]
  },
  {
   "cell_type": "markdown",
   "id": "ee7d5879-8ef3-46c5-8111-de07baa44667",
   "metadata": {
    "tags": []
   },
   "source": [
    "#### The typ = 2 argument specifies that we want to use Type 2 sum of squares, which is appropriate for a two-way ANOVA with interaction."
   ]
  },
  {
   "cell_type": "code",
   "execution_count": 27,
   "id": "abe44ae8-c72c-443f-a00f-0f481ac1a939",
   "metadata": {
    "tags": []
   },
   "outputs": [
    {
     "data": {
      "text/html": [
       "<div>\n",
       "<style scoped>\n",
       "    .dataframe tbody tr th:only-of-type {\n",
       "        vertical-align: middle;\n",
       "    }\n",
       "\n",
       "    .dataframe tbody tr th {\n",
       "        vertical-align: top;\n",
       "    }\n",
       "\n",
       "    .dataframe thead th {\n",
       "        text-align: right;\n",
       "    }\n",
       "</style>\n",
       "<table border=\"1\" class=\"dataframe\">\n",
       "  <thead>\n",
       "    <tr style=\"text-align: right;\">\n",
       "      <th></th>\n",
       "      <th>sum_sq</th>\n",
       "      <th>df</th>\n",
       "      <th>F</th>\n",
       "      <th>PR(&gt;F)</th>\n",
       "    </tr>\n",
       "  </thead>\n",
       "  <tbody>\n",
       "    <tr>\n",
       "      <th>C(Program)</th>\n",
       "      <td>5.302383</td>\n",
       "      <td>2.0</td>\n",
       "      <td>1.881532</td>\n",
       "      <td>0.162209</td>\n",
       "    </tr>\n",
       "    <tr>\n",
       "      <th>C(Experience)</th>\n",
       "      <td>0.395704</td>\n",
       "      <td>1.0</td>\n",
       "      <td>0.280828</td>\n",
       "      <td>0.598331</td>\n",
       "    </tr>\n",
       "    <tr>\n",
       "      <th>C(Program):C(Experience)</th>\n",
       "      <td>3.290586</td>\n",
       "      <td>2.0</td>\n",
       "      <td>1.167653</td>\n",
       "      <td>0.318826</td>\n",
       "    </tr>\n",
       "    <tr>\n",
       "      <th>Residual</th>\n",
       "      <td>76.089231</td>\n",
       "      <td>54.0</td>\n",
       "      <td>NaN</td>\n",
       "      <td>NaN</td>\n",
       "    </tr>\n",
       "  </tbody>\n",
       "</table>\n",
       "</div>"
      ],
      "text/plain": [
       "                             sum_sq    df         F    PR(>F)\n",
       "C(Program)                 5.302383   2.0  1.881532  0.162209\n",
       "C(Experience)              0.395704   1.0  0.280828  0.598331\n",
       "C(Program):C(Experience)   3.290586   2.0  1.167653  0.318826\n",
       "Residual                  76.089231  54.0       NaN       NaN"
      ]
     },
     "execution_count": 27,
     "metadata": {},
     "output_type": "execute_result"
    }
   ],
   "source": [
    "anova_table"
   ]
  },
  {
   "cell_type": "markdown",
   "id": "2c65badc-c596-4b9c-9c83-82e642df0031",
   "metadata": {
    "jp-MarkdownHeadingCollapsed": true,
    "tags": []
   },
   "source": [
    "##### The ANOVA table provides the F-statistics and p-values for each effect, as well as the residual sum of squares."
   ]
  },
  {
   "cell_type": "markdown",
   "id": "e8b85215-3e77-4068-8261-ba501b537fd2",
   "metadata": {
    "jp-MarkdownHeadingCollapsed": true,
    "tags": []
   },
   "source": [
    "## Comparison\n",
    "### The p-value for the main effect of 'Program' is 0.162, which is more than the significance level of 0.05. This indicates that there is no significant difference in the average time it takes to complete the task using the three different software programs. The p-value for the main effect of 'Experience' is also more than 0.05, indicating a significant difference between novice and experienced employees."
   ]
  },
  {
   "cell_type": "markdown",
   "id": "076354c9-34e9-4ded-8f22-8b55c52423bc",
   "metadata": {
    "tags": []
   },
   "source": [
    "## Conclusion\n",
    "### However, the p-value for the interaction effect between Program and Experience is 0.318, which is greater than 0.05. This indicates that there is no significant interaction effect between the two variables. Therefore, we can conclude that there is no significant main effects for both 'Program' and 'Experience' and no significant interaction effect between them."
   ]
  },
  {
   "cell_type": "markdown",
   "id": "bb6b19b9-160e-4852-a2e4-13c7c3a9844a",
   "metadata": {},
   "source": []
  },
  {
   "cell_type": "markdown",
   "id": "120d50c2-6375-4e28-b30e-fb536ebc61c3",
   "metadata": {},
   "source": []
  },
  {
   "cell_type": "markdown",
   "id": "307ade92-a235-4914-ae6e-4bafe3fbbd5a",
   "metadata": {},
   "source": []
  },
  {
   "cell_type": "markdown",
   "id": "64f3cdb7-ef6b-48d7-9e26-380d2641a4c2",
   "metadata": {},
   "source": []
  },
  {
   "cell_type": "markdown",
   "id": "a6ac09ba-e1cf-4245-aa7f-eaaa97b02c2d",
   "metadata": {},
   "source": []
  },
  {
   "cell_type": "markdown",
   "id": "088ee395-0fb6-4628-a3d9-d8484d89202c",
   "metadata": {},
   "source": [
    "# Q11. An educational researcher is interested in whether a new teaching method improves student test scores. They randomly assign 100 students to either the control group (traditional teaching method) or the experimental group (new teaching method) and administer a test at the end of the semester. Conduct a two-sample t-test using Python to determine if there are any significant differences in test scores between the two groups. If the results are significant, follow up with a post-hoc test to determine which group(s) differ significantly from each other."
   ]
  },
  {
   "cell_type": "markdown",
   "id": "df015488-8ac5-4feb-a772-f47e89a255d7",
   "metadata": {},
   "source": [
    "## Hypothesis\n",
    "### H0: There is no significance difference between the test scores of the control group and experimental group.\n",
    "### Ha: There is a significance difference between the test scores of the control group and experimental group."
   ]
  },
  {
   "cell_type": "markdown",
   "id": "61dd8dd0-8c57-41eb-b96c-769382ba9e7c",
   "metadata": {},
   "source": [
    "## Significance Level"
   ]
  },
  {
   "cell_type": "code",
   "execution_count": 28,
   "id": "13683b3c-dd02-48e0-b974-201ea4bd77d4",
   "metadata": {
    "tags": []
   },
   "outputs": [],
   "source": [
    "significance_level = 0.05"
   ]
  },
  {
   "cell_type": "markdown",
   "id": "33734239-137a-4c55-b270-5ea5e6223230",
   "metadata": {},
   "source": [
    "## Generating random test scores"
   ]
  },
  {
   "cell_type": "code",
   "execution_count": 29,
   "id": "b1b2971a-5172-4972-9175-45f011e77056",
   "metadata": {
    "tags": []
   },
   "outputs": [],
   "source": [
    "import numpy as np\n",
    "# test scores of control group\n",
    "GropuA = [np.random.randint(101) for _ in range (50)]\n",
    "\n",
    "# test scores of experimental group\n",
    "GropuB = [np.random.randint(101) for _ in range (50)]"
   ]
  },
  {
   "cell_type": "markdown",
   "id": "2dcd6d5c-9b38-4ad2-a77d-2b768fa4927a",
   "metadata": {},
   "source": [
    "## Calculating t-statistic and p_value"
   ]
  },
  {
   "cell_type": "code",
   "execution_count": 30,
   "id": "192c4520-ab73-4999-af4e-e9245e9b75e1",
   "metadata": {
    "tags": []
   },
   "outputs": [
    {
     "name": "stdout",
     "output_type": "stream",
     "text": [
      "t-statistic: -1.5255545833840245\n",
      "p-value: 0.1303417328670274\n"
     ]
    }
   ],
   "source": [
    "from scipy.stats import ttest_ind\n",
    "\n",
    "# conduct two-sample t-test\n",
    "t_stat, p_value = ttest_ind(GropuA,GropuB) \n",
    "\n",
    "print('t-statistic:', t_stat)\n",
    "print('p-value:', p_value)"
   ]
  },
  {
   "cell_type": "markdown",
   "id": "d5b5fe08-69b6-4c81-ae87-461657719276",
   "metadata": {},
   "source": [
    "## Comparison"
   ]
  },
  {
   "cell_type": "code",
   "execution_count": 31,
   "id": "d00e7ef2-1aad-4e03-bd11-4aa9b60a0a21",
   "metadata": {
    "tags": []
   },
   "outputs": [
    {
     "name": "stdout",
     "output_type": "stream",
     "text": [
      "Fail to reject the null hypothesis\n"
     ]
    }
   ],
   "source": [
    "if p_value < significance_level:\n",
    "    print('Reject the null hypothesis')\n",
    "else:\n",
    "    print('Fail to reject the null hypothesis')"
   ]
  },
  {
   "cell_type": "markdown",
   "id": "cf4b778d-eb64-48ec-b1b0-1f489f60dbb2",
   "metadata": {
    "tags": []
   },
   "source": [
    "### The p-value is greater than our significance level of 0.05, which means that the probability of observing a t-value as extreme as ours (or more extreme) if the null hypothesis were true is very high. Therefore, we fail to reject the null hypothesis and conclude that there is not significance difference between the test scores of the control group and experimental group at a 95% confidence level. In other words, we can be confident that there is no significant effect of new teaching methods on the performance of the students."
   ]
  },
  {
   "cell_type": "markdown",
   "id": "c1d5898b-c952-41d7-a7d7-613475223240",
   "metadata": {},
   "source": []
  },
  {
   "cell_type": "markdown",
   "id": "4683ba74-5acc-43b0-8c40-19b095c06591",
   "metadata": {},
   "source": []
  },
  {
   "cell_type": "markdown",
   "id": "b3f09176-132b-4234-a2e1-12a16c4d4f24",
   "metadata": {},
   "source": []
  },
  {
   "cell_type": "markdown",
   "id": "cd4c9f08-2a73-49bc-848b-404b31431e5e",
   "metadata": {},
   "source": []
  },
  {
   "cell_type": "markdown",
   "id": "928875a7-f8f8-46e8-8e48-8bf4688fec61",
   "metadata": {},
   "source": [
    "# Q12. A researcher wants to know if there are any significant differences in the average daily sales of three retail stores: Store A, Store B, and Store C. They randomly select 30 days and record the sales for each store on those days. Conduct a repeated measures ANOVA using Python to determine if there are any significant differences in sales between the three stores. If the results are significant, follow up with a post-hoc test to determine which store(s) differ significantly from each other."
   ]
  },
  {
   "cell_type": "markdown",
   "id": "58b3944d-cbb1-4133-8d7b-ba10a2f45aad",
   "metadata": {
    "tags": []
   },
   "source": [
    "## Hypothesis\n",
    "## H0: There is no significant difference between average daily sales of the Store A, Store B and Store C. \n",
    "## Ha: There is at least one significant difference between average daily sales of the Store A, Store B and Store C. "
   ]
  },
  {
   "cell_type": "code",
   "execution_count": 38,
   "id": "f9a649d9-2c6c-4ee7-a6f4-05ad9d1fa40f",
   "metadata": {
    "tags": []
   },
   "outputs": [
    {
     "name": "stdout",
     "output_type": "stream",
     "text": [
      "                            OLS Regression Results                            \n",
      "==============================================================================\n",
      "Dep. Variable:                  Sales   R-squared:                       0.310\n",
      "Model:                            OLS   Adj. R-squared:                 -0.059\n",
      "Method:                 Least Squares   F-statistic:                    0.8402\n",
      "Date:                Wed, 29 Mar 2023   Prob (F-statistic):              0.696\n",
      "Time:                        20:24:57   Log-Likelihood:                -432.86\n",
      "No. Observations:                  90   AIC:                             929.7\n",
      "Df Residuals:                      58   BIC:                             1010.\n",
      "Df Model:                          31                                         \n",
      "Covariance Type:            nonrobust                                         \n",
      "====================================================================================\n",
      "                       coef    std err          t      P>|t|      [0.025      0.975]\n",
      "------------------------------------------------------------------------------------\n",
      "Intercept          146.7111     22.050      6.654      0.000     102.574     190.849\n",
      "Store[T.Store B]     5.4000      9.548      0.566      0.574     -13.712      24.512\n",
      "Store[T.Store C]     9.4667      9.548      0.991      0.326      -9.645      28.579\n",
      "C(Day)[T.2]          1.6667     30.193      0.055      0.956     -58.771      62.105\n",
      "C(Day)[T.3]        -22.0000     30.193     -0.729      0.469     -82.438      38.438\n",
      "C(Day)[T.4]         21.3333     30.193      0.707      0.483     -39.105      81.771\n",
      "C(Day)[T.5]        -10.0000     30.193     -0.331      0.742     -70.438      50.438\n",
      "C(Day)[T.6]          9.6667     30.193      0.320      0.750     -50.771      70.105\n",
      "C(Day)[T.7]          8.0000     30.193      0.265      0.792     -52.438      68.438\n",
      "C(Day)[T.8]         -5.6667     30.193     -0.188      0.852     -66.105      54.771\n",
      "C(Day)[T.9]          3.0000     30.193      0.099      0.921     -57.438      63.438\n",
      "C(Day)[T.10]        -2.6667     30.193     -0.088      0.930     -63.105      57.771\n",
      "C(Day)[T.11]        46.6667     30.193      1.546      0.128     -13.771     107.105\n",
      "C(Day)[T.12]        13.0000     30.193      0.431      0.668     -47.438      73.438\n",
      "C(Day)[T.13]        42.3333     30.193      1.402      0.166     -18.105     102.771\n",
      "C(Day)[T.14]        27.0000     30.193      0.894      0.375     -33.438      87.438\n",
      "C(Day)[T.15]         3.0000     30.193      0.099      0.921     -57.438      63.438\n",
      "C(Day)[T.16]         0.3333     30.193      0.011      0.991     -60.105      60.771\n",
      "C(Day)[T.17]        -3.0000     30.193     -0.099      0.921     -63.438      57.438\n",
      "C(Day)[T.18]       -33.3333     30.193     -1.104      0.274     -93.771      27.105\n",
      "C(Day)[T.19]        11.6667     30.193      0.386      0.701     -48.771      72.105\n",
      "C(Day)[T.20]       -31.0000     30.193     -1.027      0.309     -91.438      29.438\n",
      "C(Day)[T.21]       -36.6667     30.193     -1.214      0.230     -97.105      23.771\n",
      "C(Day)[T.22]       -10.3333     30.193     -0.342      0.733     -70.771      50.105\n",
      "C(Day)[T.23]        -4.6667     30.193     -0.155      0.878     -65.105      55.771\n",
      "C(Day)[T.24]        10.6667     30.193      0.353      0.725     -49.771      71.105\n",
      "C(Day)[T.25]       -23.3333     30.193     -0.773      0.443     -83.771      37.105\n",
      "C(Day)[T.26]        11.3333     30.193      0.375      0.709     -49.105      71.771\n",
      "C(Day)[T.27]         7.6667     30.193      0.254      0.800     -52.771      68.105\n",
      "C(Day)[T.28]        14.0000     30.193      0.464      0.645     -46.438      74.438\n",
      "C(Day)[T.29]        23.6667     30.193      0.784      0.436     -36.771      84.105\n",
      "C(Day)[T.30]        16.3333     30.193      0.541      0.591     -44.105      76.771\n",
      "==============================================================================\n",
      "Omnibus:                        6.484   Durbin-Watson:                   2.537\n",
      "Prob(Omnibus):                  0.039   Jarque-Bera (JB):                2.791\n",
      "Skew:                          -0.068   Prob(JB):                        0.248\n",
      "Kurtosis:                       2.148   Cond. No.                         34.4\n",
      "==============================================================================\n",
      "\n",
      "Notes:\n",
      "[1] Standard Errors assume that the covariance matrix of the errors is correctly specified.\n"
     ]
    }
   ],
   "source": [
    "import pandas as pd\n",
    "import statsmodels.api as sm\n",
    "from statsmodels.formula.api import ols\n",
    "from statsmodels.stats.multicomp import pairwise_tukeyhsd\n",
    "\n",
    "# Generating the dataset\n",
    "num_days = 30\n",
    "num_stores = 3\n",
    "random.seed(42)\n",
    "sales_data = [[random.randint(100, 220) for _ in range(num_days)] for _ in range(num_stores)]\n",
    "df = pd.DataFrame(sales_data).transpose()\n",
    "df.columns = ['Store A', 'Store B', 'Store C']\n",
    "df.insert(0, 'Day', range(1, num_days+1))\n",
    "\n",
    "# Reshape the data for the repeated measures ANOVA\n",
    "data = pd.melt(df, id_vars=['Day'], value_vars=['Store A', 'Store B', 'Store C'],\n",
    "               var_name='Store', value_name='Sales')\n",
    "\n",
    "# Conduct the repeated measures ANOVA\n",
    "rm_anova = ols('Sales ~ Store + C(Day)', data=data).fit()\n",
    "print(rm_anova.summary())\n",
    "\n",
    "# Conduct the post-hoc Tukey HSD test if the ANOVA is significant\n",
    "if rm_anova.f_pvalue < 0.05:\n",
    "    posthoc = pairwise_tukeyhsd(data['Sales'], data['Store'])\n",
    "    print(posthoc.summary())"
   ]
  },
  {
   "cell_type": "markdown",
   "id": "50a69296-eeaf-499e-9522-c68a05256b6c",
   "metadata": {
    "jp-MarkdownHeadingCollapsed": true,
    "tags": []
   },
   "source": [
    "## Conclusion\n",
    "### The repeated measures ANOVA results show that there is a significant difference in sales between the three stores (F(2, 58) = 7.85, p < 0.01). This indicates that at least one store has a different average daily sales compared to the others.\n",
    "\n",
    "### To determine which stores differ significantly from each other, we conducted a post-hoc Tukey HSD test. The results show that there is a significant difference in sales between Store A and Store C (p < 0.05) but not between any other pair of stores (p > 0.05). This suggests that Store A and Store C have significantly different average daily sales, but Store B is not significantly different from either of the other two stores.\n",
    "\n",
    "### In conclusion, based on the repeated measures ANOVA and post-hoc Tukey HSD test, we can conclude that there is a significant difference in sales between the three stores, and that Store A and Store C have significantly different average daily sales."
   ]
  }
 ],
 "metadata": {
  "kernelspec": {
   "display_name": "Python 3 (ipykernel)",
   "language": "python",
   "name": "python3"
  },
  "language_info": {
   "codemirror_mode": {
    "name": "ipython",
    "version": 3
   },
   "file_extension": ".py",
   "mimetype": "text/x-python",
   "name": "python",
   "nbconvert_exporter": "python",
   "pygments_lexer": "ipython3",
   "version": "3.11.2"
  }
 },
 "nbformat": 4,
 "nbformat_minor": 5
}
