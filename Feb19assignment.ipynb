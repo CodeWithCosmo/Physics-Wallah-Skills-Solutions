{
 "cells": [
  {
   "cell_type": "markdown",
   "id": "95126100-d6ef-48c9-972f-cdc1752da573",
   "metadata": {},
   "source": [
    "# 1 \n",
    "# Flask\n",
    "#### Flask is a lightweight web framework for Python that allows developers to build web applications quickly and easily. It is designed to be simple, easy to use, and highly extensible, which makes it a popular choice for developing small to medium-sized web applications.\n",
    "## Advantages of Flask:\n",
    "#### 1.Lightweight: Flask is a micro-framework, which means it has very little overhead and is highly optimized for performance.\n",
    "#### 2.Easy to learn and use: Flask has a simple API that is easy to learn and use, making it a great choice for developers who are new to web development.\n",
    "#### 3.Highly extensible: Flask is highly extensible and can be easily customized to suit the needs of different projects. It is also compatible with a wide range of extensions and libraries.\n",
    "#### 4.Flexible: Flask allows developers to choose their own database, templating engine, and other components, making it highly flexible.\n",
    "#### 5.Testing: Flask provides a built-in test client that makes it easy to write and run tests for your application.\n",
    "#### 6.Scalability: Flask is scalable and can be used to build applications of any size, from small prototypes to large, complex web applications.\n",
    "#### 7.Community: Flask has a large and active community of developers who contribute to its development and provide support to other users."
   ]
  },
  {
   "cell_type": "markdown",
   "id": "759d2d56-e7f9-4dea-85a8-499156986cd3",
   "metadata": {},
   "source": []
  },
  {
   "cell_type": "markdown",
   "id": "44ed2f0f-5f10-4469-b258-d59b42196006",
   "metadata": {},
   "source": []
  },
  {
   "cell_type": "markdown",
   "id": "7c656a1a-d0e0-45ba-b339-817e11b523ca",
   "metadata": {},
   "source": [
    "# 2"
   ]
  },
  {
   "cell_type": "code",
   "execution_count": null,
   "id": "c1e03e4a-14fc-4e76-af39-aa4dec07f865",
   "metadata": {
    "tags": []
   },
   "outputs": [],
   "source": [
    "from flask import Flask\n",
    "app = Flask(__name__)\n",
    "\n",
    "@app.route(\"/\")\n",
    "def hello_world():\n",
    "    return \"Hello World!!\"\n",
    "\n",
    "if __name__==\"__main__\":\n",
    "    app.run(host=\"0.0.0.0\")"
   ]
  },
  {
   "cell_type": "markdown",
   "id": "db31a124-610d-4e63-a350-42136bec6730",
   "metadata": {
    "tags": []
   },
   "source": [
    "![](Feb19_Que3.API.png)"
   ]
  },
  {
   "cell_type": "markdown",
   "id": "1cdfdd02-d608-4423-992e-47806229caf0",
   "metadata": {},
   "source": []
  },
  {
   "cell_type": "markdown",
   "id": "f59c8c57-665a-4727-ab7a-e6327dcb4d8f",
   "metadata": {},
   "source": []
  },
  {
   "cell_type": "markdown",
   "id": "cbca1772-08e4-4766-bb60-e85ab14f9d4c",
   "metadata": {
    "tags": []
   },
   "source": [
    "# 3\n",
    "## App routing:\n",
    "#### In Flask, app routing refers to the process of mapping URLs to functions in your application. When a user navigates to a specific URL in the browser, Flask uses the app route to determine which function should handle the request.\n",
    "### App routes are used in Flask to define the URLs that your application will respond to and to specify the functions that should be called to handle requests to those URLs. Eg;"
   ]
  },
  {
   "cell_type": "code",
   "execution_count": 6,
   "id": "e8ddae92-b9e8-4d41-8ffe-54d310b4c450",
   "metadata": {
    "tags": []
   },
   "outputs": [],
   "source": [
    "from flask import Flask\n",
    "app = Flask(__name__)\n",
    "\n",
    "@app.route('/') # default app route\n",
    "def home():\n",
    "    return 'Hello, World!'"
   ]
  },
  {
   "cell_type": "markdown",
   "id": "17babacc-453c-4b5e-a600-614ec26992f5",
   "metadata": {},
   "source": []
  },
  {
   "cell_type": "markdown",
   "id": "9c052226-8194-47d7-9f06-e1b25ae75733",
   "metadata": {},
   "source": []
  },
  {
   "cell_type": "markdown",
   "id": "f30d5ab4-b74f-4bbc-9c7c-958b2b93bf9f",
   "metadata": {},
   "source": [
    "# 4"
   ]
  },
  {
   "cell_type": "code",
   "execution_count": null,
   "id": "28de7f8c-3bc2-4094-8e78-0d5a5efc4619",
   "metadata": {
    "tags": []
   },
   "outputs": [],
   "source": [
    "from flask import Flask\n",
    "app = Flask(__name__)\n",
    "\n",
    "@app.route(\"/welcome\")\n",
    "def welcome():\n",
    "    return \"Welcome to ABC Corporation\"\n",
    "\n",
    "@app.route('/')\n",
    "def details():\n",
    "    return 'Company Name: ABC Corporation<br>Location: India<br>Contact Detail: 999-999-9999'\n",
    "if __name__==\"__main__\":\n",
    "    app.run(host=\"0.0.0.0\")"
   ]
  },
  {
   "cell_type": "markdown",
   "id": "c3604dee-f098-4b73-8cac-c72ac87fe402",
   "metadata": {},
   "source": [
    "![](Feb19_Que4_1.API.png)"
   ]
  },
  {
   "cell_type": "markdown",
   "id": "80c73929-14ba-4ecd-963c-bce57834c18c",
   "metadata": {},
   "source": [
    "![](Feb19_Que4_2.API.png)"
   ]
  },
  {
   "cell_type": "markdown",
   "id": "55946322-801e-4365-b8ff-ebb881ac5dd3",
   "metadata": {},
   "source": []
  },
  {
   "cell_type": "markdown",
   "id": "4a8e368b-57f9-4d73-aa3a-7ae1ef1f8f9b",
   "metadata": {},
   "source": []
  },
  {
   "cell_type": "markdown",
   "id": "fee0e2c5-1a8f-4b9c-abab-83f36f768a31",
   "metadata": {},
   "source": [
    "# 5\n",
    "### In Flask, the \"url_for()\" function is used for URL building. The url_for() function generates a URL for a specified endpoint, which is a python function that is decorated with the \"@app.route\" decorator. \n",
    "### Eg;"
   ]
  },
  {
   "cell_type": "code",
   "execution_count": null,
   "id": "9de26a4a-035a-4560-ae21-b0959fa31c61",
   "metadata": {
    "tags": []
   },
   "outputs": [],
   "source": [
    "from flask import Flask, url_for\n",
    "\n",
    "app = Flask(__name__)\n",
    "\n",
    "@app.route('/')\n",
    "def home():\n",
    "    return f'Page URL of home is: {url_for(\"home\")}'\n",
    "\n",
    "@app.route('/about')\n",
    "def about():\n",
    "    return f'Page URL of about is: {url_for(\"about\")}'\n",
    "\n",
    "if __name__ == '__main__':\n",
    "    app.run(host = '0.0.0.0')"
   ]
  },
  {
   "cell_type": "markdown",
   "id": "f06f6751-3bae-4112-aa37-5f678bbdbb3d",
   "metadata": {
    "tags": []
   },
   "source": [
    "![](Feb19_Que5_Home.API.png)"
   ]
  },
  {
   "cell_type": "markdown",
   "id": "623d2293-d976-4a77-93a6-83f46342e0ec",
   "metadata": {
    "tags": []
   },
   "source": [
    "![](Feb19_Que5_About.API.png)"
   ]
  }
 ],
 "metadata": {
  "kernelspec": {
   "display_name": "Python 3 (ipykernel)",
   "language": "python",
   "name": "python3"
  },
  "language_info": {
   "codemirror_mode": {
    "name": "ipython",
    "version": 3
   },
   "file_extension": ".py",
   "mimetype": "text/x-python",
   "name": "python",
   "nbconvert_exporter": "python",
   "pygments_lexer": "ipython3",
   "version": "3.10.2"
  },
  "vscode": {
   "interpreter": {
    "hash": "4a46f63a1f699f45196269142441177d03a1ae952200223fe08b659cb0e0832d"
   }
  }
 },
 "nbformat": 4,
 "nbformat_minor": 5
}
