{
 "cells": [
  {
   "attachments": {},
   "cell_type": "markdown",
   "metadata": {},
   "source": [
    "Q1, Create a vehicle class with an init method having instance variables as name_of_vehicle, max_speed and average_of_vehicle. \n",
    "\n",
    "Q2.  Create a child class car from the vehicle class created in Que 1, which will inherit the vehicle class.Create a method named seating_capacity which takes capacity as an argument and returns the name of the vehicle and its seating capacity.\n",
    "\n",
    "Q3. What is multiple inheritance? Write a python code to demonstrate multiple inheritance.\n",
    "\n",
    "Q4. What are getter and setter in python? Create a class and create a getter and a setter method in this class.\n",
    "\n",
    "Q5.What is method overriding in python? Write a python code to demonstrate method overriding."
   ]
  },
  {
   "attachments": {},
   "cell_type": "markdown",
   "metadata": {},
   "source": [
    "# 1"
   ]
  },
  {
   "cell_type": "code",
   "execution_count": 64,
   "metadata": {},
   "outputs": [],
   "source": [
    "class Vehicle:\n",
    "    def __init__(self, name_of_vehicle,max_speed,average_of_vehicle):\n",
    "        self.name_of_vehicle = name_of_vehicle\n",
    "        self.max_speed = max_speed\n",
    "        self.average_of_vehicle = average_of_vehicle      "
   ]
  },
  {
   "attachments": {},
   "cell_type": "markdown",
   "metadata": {},
   "source": [
    "# 2"
   ]
  },
  {
   "cell_type": "code",
   "execution_count": 65,
   "metadata": {},
   "outputs": [],
   "source": [
    "class Car(Vehicle):\n",
    "    def __init__(self,name_of_vehicle,max_speed,average_of_vehicle,capacity):\n",
    "        super().__init__(name_of_vehicle,max_speed,average_of_vehicle)  # Calling the base class constructor\n",
    "        self.capacity = capacity\n",
    "\n",
    "    def seating_capacity(self):\n",
    "        print(f\"Name of the Car: {self.name_of_vehicle}\")\n",
    "        print(f\"Seating Capacity: {self.capacity}\")            "
   ]
  },
  {
   "attachments": {},
   "cell_type": "markdown",
   "metadata": {},
   "source": [
    "# 3\n",
    "\n",
    "Multiple Inheritance is the process where the derived class inherits properties from multiple classes.\n",
    "\n",
    "eg;"
   ]
  },
  {
   "cell_type": "code",
   "execution_count": 92,
   "metadata": {},
   "outputs": [],
   "source": [
    "\n",
    "# 1st Base Class \n",
    "class Camera:\n",
    "    def photo(self):\n",
    "        print('Photo Captured')\n",
    "\n",
    "# 2nd Base Class         \n",
    "class Phone: \n",
    "    def __init__(self,brand):\n",
    "        self.brand = brand\n",
    "    def brand_name(self):        \n",
    "        print(f\"Brand: {self.brand}\")\n",
    "\n",
    "# Derived class\n",
    "class SmartPhone(Camera,Phone):\n",
    "    def gps(self):\n",
    "        print('GPS enabled')"
   ]
  },
  {
   "cell_type": "code",
   "execution_count": 94,
   "metadata": {},
   "outputs": [
    {
     "name": "stdout",
     "output_type": "stream",
     "text": [
      "Photo Captured\n",
      "Brand: OnePlus\n",
      "GPS enabled\n"
     ]
    }
   ],
   "source": [
    "newMobile = SmartPhone('OnePlus') # Creating derived class object\n",
    "newMobile.photo() # 1st base class method\n",
    "newMobile.brand_name() # 2nd base class method\n",
    "newMobile.gps() # derived class method"
   ]
  },
  {
   "attachments": {},
   "cell_type": "markdown",
   "metadata": {},
   "source": [
    "# 4\n",
    "\n",
    "Getters are the methods which are used for accessing the the data of the class variables.This method do not modify the class variables.\n",
    "\n",
    "While, Setters are the methods which are used for modifying the data of the class variables.\n",
    "\n",
    "Eg;"
   ]
  },
  {
   "cell_type": "code",
   "execution_count": 21,
   "metadata": {},
   "outputs": [],
   "source": [
    "class company:\n",
    "    def __init__(self,name):\n",
    "        self.__name = name\n",
    "\n",
    "    # getter    \n",
    "    def get_name(self):\n",
    "        return self.__name\n",
    "\n",
    "    # setter    \n",
    "    def set_name(self,new_name):\n",
    "        self.__name = new_name   "
   ]
  },
  {
   "cell_type": "code",
   "execution_count": 38,
   "metadata": {},
   "outputs": [],
   "source": [
    "c1 = company(\"PW Skills\") # Initial company name"
   ]
  },
  {
   "cell_type": "code",
   "execution_count": 39,
   "metadata": {},
   "outputs": [
    {
     "data": {
      "text/plain": [
       "'PW Skills'"
      ]
     },
     "execution_count": 39,
     "metadata": {},
     "output_type": "execute_result"
    }
   ],
   "source": [
    "c1.get_name() # getting the name of the company"
   ]
  },
  {
   "cell_type": "code",
   "execution_count": 40,
   "metadata": {},
   "outputs": [],
   "source": [
    "c1.set_name('iNeuron') # setting the new name of the company"
   ]
  },
  {
   "cell_type": "code",
   "execution_count": 42,
   "metadata": {},
   "outputs": [
    {
     "data": {
      "text/plain": [
       "'iNeuron'"
      ]
     },
     "execution_count": 42,
     "metadata": {},
     "output_type": "execute_result"
    }
   ],
   "source": [
    "c1.get_name() # getting the new name of the company"
   ]
  },
  {
   "attachments": {},
   "cell_type": "markdown",
   "metadata": {},
   "source": [
    "# 5\n",
    "\n",
    "Method overridig is a procees of defining an already defined method in derived class keeping its name,arguments and number of arguments same as base class method\n",
    "\n",
    "eg;"
   ]
  },
  {
   "cell_type": "code",
   "execution_count": 96,
   "metadata": {},
   "outputs": [],
   "source": [
    "class Father:    # Base class    \n",
    "    def job(self): \n",
    "        print(\"My father is doctor.\")"
   ]
  },
  {
   "cell_type": "code",
   "execution_count": 114,
   "metadata": {},
   "outputs": [],
   "source": [
    "class Son(Father):   # Derived class\n",
    "    def job(self):  # Overrided method as name, arguments and number of arguments are same        \n",
    "        print(\"I am a student.\")"
   ]
  },
  {
   "cell_type": "code",
   "execution_count": 115,
   "metadata": {},
   "outputs": [],
   "source": [
    "me = Son() # creating a Son object"
   ]
  },
  {
   "cell_type": "code",
   "execution_count": 116,
   "metadata": {},
   "outputs": [
    {
     "name": "stdout",
     "output_type": "stream",
     "text": [
      "I am a student.\n"
     ]
    }
   ],
   "source": [
    "me.job()"
   ]
  }
 ],
 "metadata": {
  "kernelspec": {
   "display_name": "Python 3",
   "language": "python",
   "name": "python3"
  },
  "language_info": {
   "codemirror_mode": {
    "name": "ipython",
    "version": 3
   },
   "file_extension": ".py",
   "mimetype": "text/x-python",
   "name": "python",
   "nbconvert_exporter": "python",
   "pygments_lexer": "ipython3",
   "version": "3.11.1"
  },
  "orig_nbformat": 4,
  "vscode": {
   "interpreter": {
    "hash": "60604c6687abd3d44db2988d94478afd71bdd2eba4a4e06208197b7b67afacd2"
   }
  }
 },
 "nbformat": 4,
 "nbformat_minor": 2
}
