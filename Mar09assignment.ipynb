{
 "cells": [
  {
   "cell_type": "markdown",
   "id": "38426b5e-2b82-4153-9354-6ef62c0b5347",
   "metadata": {},
   "source": [
    "# Q1: What are the Probability Mass Function (PMF) and Probability Density Function (PDF)? Explain with an example.\n",
    "## Both Probability Mass Function (PMF) and Probability Density Function (PDF) are used to describe the probability distribution of a random variable. However, they differ in the types of random variables they are used for.\n",
    "\n",
    "## Probability Mass Function (PMF):\n",
    "### PMF is used to describe the probability distribution of a discrete random variable. A discrete random variable can only take on a finite or countable number of possible values. The PMF gives the probability of each possible value of the random variable.\n",
    "\n",
    "### For example, consider a fair six-sided die. The possible values of the random variable X, representing the outcome of rolling the die, are 1, 2, 3, 4, 5, and 6. The PMF of X is:\n",
    "##### P(X=1) = 1/6\n",
    "##### P(X=2) = 1/6\n",
    "##### P(X=3) = 1/6\n",
    "##### P(X=4) = 1/6\n",
    "##### P(X=5) = 1/6\n",
    "##### P(X=6) = 1/6\n",
    "\n",
    "### The sum of all the probabilities in the PMF must be equal to 1.\n",
    "\n",
    "## Probability Density Function (PDF):\n",
    "### PDF is used to describe the probability distribution of a continuous random variable. A continuous random variable can take on any value within a certain range. The PDF gives the probability density of the random variable at each possible value. The area under the PDF curve between any two points gives the probability of the random variable being within that range.\n",
    "\n",
    "### For example, consider a standard normal distribution with mean 0 and variance 1. The random variable X can take on any value between negative infinity and positive infinity. The PDF of X is:\n",
    "##### f(x) = (1/√(2π)) e^(-x^2/2)\n",
    "\n",
    "### The PDF of a standard normal distribution has a bell-shaped curve. The total area under the curve is equal to 1."
   ]
  },
  {
   "cell_type": "markdown",
   "id": "7ffcb4b0-c247-406e-a84e-0986cc36d1ec",
   "metadata": {},
   "source": []
  },
  {
   "cell_type": "markdown",
   "id": "bc06bc3c-8096-42af-98cf-6b6816915916",
   "metadata": {},
   "source": []
  },
  {
   "cell_type": "markdown",
   "id": "44427c64-3289-4ce8-a980-0c56b6a4e687",
   "metadata": {},
   "source": []
  },
  {
   "cell_type": "markdown",
   "id": "66548c1a-99f9-4f21-9f38-f513307b62f4",
   "metadata": {},
   "source": []
  },
  {
   "cell_type": "markdown",
   "id": "795afa44-3c1e-44b3-85cd-6b59f602c2ab",
   "metadata": {},
   "source": [
    "# Q2: What is Cumulative Density Function (CDF)? Explain with an example. Why CDF is used?\n",
    "### The Cumulative Density Function (CDF) is a function that gives the probability that a random variable X takes on a value less than or equal to a given value x. In other words, it is the probability of X being less than or equal to x. The CDF is defined for both discrete and continuous random variables.\n",
    "\n",
    "#### For a discrete random variable X, the CDF is defined as:\n",
    "\n",
    "##### F(x) = P(X ≤ x)\n",
    "\n",
    "#### For a continuous random variable X with probability density function f(x), the CDF is defined as:\n",
    "\n",
    "##### F(x) = ∫_-∞^x f(t) dt\n",
    "\n",
    "### The CDF has several properties:\n",
    "\n",
    "#### 1.The CDF is a non-decreasing function.\n",
    "\n",
    "#### 2.The CDF is a right-continuous function, meaning that it has no jumps. In other words, the limit of F(x) as x approaches a value c from the right is equal to F(c).\n",
    "\n",
    "#### 3.The CDF is bounded between 0 and 1, since the probability of X being less than or equal to negative infinity is 0 and the probability of X being less than or equal to positive infinity is 1.\n",
    "\n",
    "### For example, consider a random variable X that follows a uniform distribution on the interval [0,1]. The probability density function of X is:\n",
    "##### f(x) = 1 for 0 ≤ x ≤ 1, and f(x) = 0 otherwise\n",
    "\n",
    "#### The CDF of X is:\n",
    "\n",
    "##### F(x) = 0 for x < 0,\n",
    "##### F(x) = x for 0 ≤ x ≤ 1, and\n",
    "##### F(x) = 1 for x > 1\n",
    "\n",
    "### The CDF is used to determine the probability of a random variable X taking on a value less than or equal to a given value x. It is also used to calculate other important measures such as the expected value and variance of a random variable. Additionally, the CDF can be used to generate random numbers with a specific probability distribution, which is useful in many applications such as simulation and modeling."
   ]
  },
  {
   "cell_type": "markdown",
   "id": "00f76080-25fc-414f-8ab3-390fdfd1d184",
   "metadata": {},
   "source": []
  },
  {
   "cell_type": "markdown",
   "id": "473dab64-bdc5-4012-a243-99e338eaad6a",
   "metadata": {},
   "source": []
  },
  {
   "cell_type": "markdown",
   "id": "c17c9343-f84e-4eb4-aaa8-9871c831b9b0",
   "metadata": {},
   "source": []
  },
  {
   "cell_type": "markdown",
   "id": "7a841a6a-ab3f-434f-8fdc-3b68a63221b3",
   "metadata": {},
   "source": []
  },
  {
   "cell_type": "markdown",
   "id": "077a0ea5-2f42-4f18-8685-fc507b75f7ad",
   "metadata": {},
   "source": [
    "# Q3: What are some examples of situations where the normal distribution might be used as a model? Explain how the parameters of the normal distribution relate to the shape of the distribution.\n",
    "### The normal distribution is a widely used probability distribution in statistics, and it is often used as a model for many real-world phenomena. Here are some examples of situations where the normal distribution might be used as a model:\n",
    "\n",
    "#### 1.Heights of people: The heights of people tend to follow a normal distribution with mean and standard deviation that depend on factors such as age, sex, and ethnicity.\n",
    "\n",
    "#### 2.Scores on standardized tests: Scores on standardized tests such as the SAT and ACT tend to follow a normal distribution with mean and standard deviation that depend on the specific test.\n",
    "\n",
    "#### 3.Errors in measurements: The errors in measurements made by instruments such as rulers and scales tend to follow a normal distribution with mean and standard deviation that depend on the precision of the instrument.\n",
    "\n",
    "#### 4.Natural phenomena: Many natural phenomena such as the distribution of particle velocities in a gas or the distribution of wind speeds tend to follow a normal distribution.\n",
    "\n",
    "### The normal distribution is characterized by two parameters: the mean and the standard deviation.The mean represents the center of the distribution, while the standard deviation represents the spread of the distribution. The shape of the normal distribution is symmetric and bell-shaped, with the highest point of the curve at the mean.\n",
    "\n",
    "### The mean determines the location of the peak of the distribution, while the standard deviation determines the width of the distribution. If the standard deviation is small, the curve will be tall and narrow, indicating that the values are closely clustered around the mean. If the standard deviation is large, the curve will be short and wide, indicating that the values are more spread out.\n",
    "\n",
    "### The normal distribution is often used as a model because many real-world phenomena tend to exhibit a normal distribution due to the central limit theorem, which states that the sum or average of many independent and identically distributed random variables tends to follow a normal distribution as the number of variables increases."
   ]
  },
  {
   "cell_type": "markdown",
   "id": "87a508a8-5d7a-4d38-9539-f8d475988f8d",
   "metadata": {},
   "source": []
  },
  {
   "cell_type": "markdown",
   "id": "da93c8e4-1837-4454-8cc3-833c73f32d47",
   "metadata": {},
   "source": []
  },
  {
   "cell_type": "markdown",
   "id": "d2a7904a-1e28-426a-9950-3962acb2d137",
   "metadata": {},
   "source": []
  },
  {
   "cell_type": "markdown",
   "id": "738c81fc-fb41-4912-868d-030e363bc00a",
   "metadata": {},
   "source": []
  },
  {
   "cell_type": "markdown",
   "id": "60862cb2-fc8a-4866-b279-f21ac30e8c0a",
   "metadata": {},
   "source": [
    "# Q4: Explain the importance of Normal Distribution. Give a few real-life examples of Normal Distribution.\n",
    "### The normal distribution is one of the most important probability distributions in statistics and is widely used in a variety of fields. Some of the key reasons why the normal distribution is important include:\n",
    "\n",
    "#### 1.It is a highly symmetric distribution, meaning that it is easy to work with mathematically.\n",
    "\n",
    "#### 2.It is a continuous distribution, meaning that it can model a wide range of continuous variables.\n",
    "\n",
    "#### 3.It is a versatile distribution that can be used to model many real-world phenomena.\n",
    "\n",
    "#### 4.Many statistical techniques, such as hypothesis testing and confidence intervals, rely on assumptions of normality.\n",
    "\n",
    "### Here are a few real-life examples of where the normal distribution is commonly used:\n",
    "\n",
    "#### 1.Height and weight: The heights and weights of people tend to follow a normal distribution, with most people being close to the mean and fewer people being farther away from the mean.\n",
    "\n",
    "#### 2.Test scores: Standardized test scores, such as the SAT and ACT, are often modeled using a normal distribution, with most students scoring close to the mean and fewer students scoring farther away from the mean.\n",
    "\n",
    "#### 3.IQ scores: IQ scores are often modeled using a normal distribution, with most people having an IQ close to the mean and fewer people having an IQ that is much higher or lower.\n",
    "\n",
    "#### 4.Measurement errors: Errors in measurements made by instruments such as rulers and scales tend to follow a normal distribution, with most errors being close to zero and fewer errors being farther away from zero.\n",
    "\n",
    "#### 5.Financial returns: The returns on investments such as stocks and bonds tend to follow a normal distribution, with most returns being close to the mean and fewer returns being farther away from the mean."
   ]
  },
  {
   "cell_type": "markdown",
   "id": "c330ff3e-cd73-4620-a06d-bd179fc9dc3a",
   "metadata": {},
   "source": []
  },
  {
   "cell_type": "markdown",
   "id": "886736bd-0782-4c19-afe6-e9b3dde7eefa",
   "metadata": {},
   "source": []
  },
  {
   "cell_type": "markdown",
   "id": "396e81e9-9688-4456-a0af-cccdc80dffe1",
   "metadata": {},
   "source": []
  },
  {
   "cell_type": "markdown",
   "id": "03006991-7895-4e5b-9e17-32a299089a7f",
   "metadata": {},
   "source": []
  },
  {
   "cell_type": "markdown",
   "id": "cce65cf2-0b92-4271-8545-46fa388a11bf",
   "metadata": {},
   "source": [
    "# Q5: What is Bernaulli Distribution? Give an Example. What is the difference between Bernoulli Distribution and Binomial Distribution?\n",
    "## The Bernoulli distribution is a probability distribution that models a single binary trial, such as the success or failure of an event. It is named after Swiss mathematician Jakob Bernoulli.\n",
    "\n",
    "## The Bernoulli distribution has a single parameter, p, which represents the probability of success in a single trial. The probability mass function (PMF) of the Bernoulli distribution is given by:\n",
    "\n",
    "#### P(X = x) = p^x * (1 - p)^(1-x), where x = 0 or 1.\n",
    "\n",
    "### An example of the Bernoulli distribution would be flipping a coin, where success is defined as getting heads (x=1) and failure is defined as getting tails (x=0). If the coin is fair, the probability of success (getting heads) is 0.5, and the probability of failure (getting tails) is also 0.5.\n",
    "\n",
    "## The binomial distribution, on the other hand, models the number of successes in a fixed number of independent Bernoulli trials. The binomial distribution has two parameters: n, the number of trials, and p, the probability of success in a single trial.The probability mass function (PMF) of the binomial distribution is given by:\n",
    "\n",
    "#### P(X = x) = (n choose x) * p^x * (1-p)^(n-x), where x = 0, 1, 2, ..., n.\n",
    "\n",
    "## The difference between the Bernoulli distribution and the binomial distribution is that the Bernoulli distribution models a single trial, whereas the binomial distribution models the number of successes in a fixed number of independent Bernoulli trials. In other words, the binomial distribution is the sum of n independent and identically distributed Bernoulli random variables, each with parameter p.\n",
    "\n",
    "### For example, if we flip a fair coin 10 times, the number of heads we get will follow a binomial distribution with n=10 and p=0.5. The probability of getting exactly 5 heads (x=5) would be given by:\n",
    "\n",
    "#### P(X = 5) = (10 choose 5) * 0.5^5 * 0.5^5 = 0.2461."
   ]
  },
  {
   "cell_type": "markdown",
   "id": "542f463f-586e-4b24-877c-8f95c184674b",
   "metadata": {},
   "source": []
  },
  {
   "cell_type": "markdown",
   "id": "479e3e24-0e11-4f42-a2b0-39c89d5969fd",
   "metadata": {},
   "source": []
  },
  {
   "cell_type": "markdown",
   "id": "45aec737-9aa9-4243-a017-95d435a0aff9",
   "metadata": {},
   "source": []
  },
  {
   "cell_type": "markdown",
   "id": "83a028fd-be91-47c4-807f-d47321930956",
   "metadata": {},
   "source": []
  },
  {
   "cell_type": "markdown",
   "id": "15d5c807-3163-4887-9c59-ed497c270794",
   "metadata": {},
   "source": [
    "# Q6. Consider a dataset with a mean of 50 and a standard deviation of 10. If we assume that the dataset is normally distributed, what is the probability that a randomly selected observation will be greater than 60? Use the appropriate formula and show your calculations.\n",
    "## To calculate the probability that a randomly selected observation from a normally distributed dataset with a mean of 50 and a standard deviation of 10 will be greater than 60, we can use the z-score formula and standard normal distribution table.\n",
    "\n",
    "### The formula for the z-score is:\n",
    "\n",
    "#### z = (x - μ) / σ\n",
    "\n",
    "#### where x is the observation we are interested in, μ is the population mean, and σ is the population standard deviation.\n",
    "\n",
    "### In this case, we want to find the z-score for x = 60, μ = 50, and σ = 10:\n",
    "\n",
    "#### z = (60 - 50) / 10 = 1\n",
    "\n",
    "### We can then use a standard normal distribution table to find the probability of observing a z-score of 1 or greater. The table tells us that the probability of observing a z-score of 1 or greater is approximately 0.1587.\n",
    "\n",
    "### Therefore, the probability that a randomly selected observation from a normally distributed dataset with a mean of 50 and a standard deviation of 10 will be greater than 60 is approximately 0.1587 or 15.87%."
   ]
  },
  {
   "cell_type": "markdown",
   "id": "5c0a73e3-e8ed-40c2-b6dd-53a9f19d2f20",
   "metadata": {},
   "source": []
  },
  {
   "cell_type": "markdown",
   "id": "5c3e0241-1976-44c9-a52b-00942000f585",
   "metadata": {},
   "source": []
  },
  {
   "cell_type": "markdown",
   "id": "9c928cbb-6623-4cd0-8a02-e982093f6a9e",
   "metadata": {},
   "source": []
  },
  {
   "cell_type": "markdown",
   "id": "e74760c6-e7aa-4846-a074-a881ada61a1e",
   "metadata": {},
   "source": []
  },
  {
   "cell_type": "markdown",
   "id": "76589eb2-8f2a-4a46-8ba9-f913119cc036",
   "metadata": {},
   "source": [
    "# Q7: Explain uniform Distribution with an example.\n",
    "## The uniform distribution is a probability distribution where all values within a specified range are equally likely. In other words, the probability of any value within the range is the same.\n",
    "\n",
    "## The uniform distribution has two parameters: a and b, which represent the lower and upper bounds of the range. The probability density function (PDF) of the uniform distribution is given by:\n",
    "\n",
    "#### f(x) = 1/(b-a) for a <= x <= b\n",
    "#### f(x) = 0 otherwise\n",
    "\n",
    "### An example of the uniform distribution would be rolling a fair six-sided die. Each outcome (1, 2, 3, 4, 5, or 6) has an equal probability of occurring, and the range of possible outcomes is 1 to 6. Therefore, the uniform distribution can be used to model the probability of rolling any of these numbers.\n",
    "\n",
    "### If we let a = 1 and b = 6, the PDF of the uniform distribution would be:\n",
    "\n",
    "#### f(x) = 1/5 for 1 <= x <= 6\n",
    "#### f(x) = 0 otherwise\n",
    "\n",
    "### This means that the probability of rolling any number between 1 and 6 is 1/6, which is a constant value since the range is equally likely. The cumulative distribution function (CDF) of the uniform distribution is also a straight line, which reflects the constant probability of each outcome within the range."
   ]
  },
  {
   "cell_type": "markdown",
   "id": "ba081795-c3b9-4287-a0c8-e5304ecc053f",
   "metadata": {},
   "source": []
  },
  {
   "cell_type": "markdown",
   "id": "7599f73d-4a0a-48ea-9ad6-81e016592a2b",
   "metadata": {},
   "source": []
  },
  {
   "cell_type": "markdown",
   "id": "ba7b1523-ac6b-4d7b-aff5-9dbe2bcc00b3",
   "metadata": {},
   "source": []
  },
  {
   "cell_type": "markdown",
   "id": "7f4286d5-38e9-45ad-9ba9-696651e0882d",
   "metadata": {},
   "source": []
  },
  {
   "cell_type": "markdown",
   "id": "0741c7e7-ce86-4485-9ddc-9d65cd9e631c",
   "metadata": {},
   "source": [
    "# Q8: What is the z score? State the importance of the z score.\n",
    "## The z-score, also known as the standard score, is a statistical measure that indicates how many standard deviations a data point is away from the mean of its distribution. It is used to standardize data from different distributions into a common scale, making it easier to compare them.\n",
    "\n",
    "### The formula for calculating the z-score of a data point x, given a distribution with mean μ and standard deviation σ, is:\n",
    "\n",
    "#### z = (x - μ) / σ\n",
    "\n",
    "### The z-score is a dimensionless quantity, meaning that it does not have any physical units. A positive z-score indicates that the data point is above the mean of the distribution, while a negative z-score indicates that it is below the mean.\n",
    "\n",
    "### The importance of the z-score is that it allows us to compare data points from different distributions on a common scale. For example, suppose we have two distributions with different means and standard deviations. By standardizing the data points in both distributions using the z-score, we can compare them to see which data points are relatively more extreme or unusual.\n",
    "\n",
    "### The z-score is also useful for identifying outliers in a dataset. Data points that have a z-score that is more than three standard deviations away from the mean are considered to be outliers and may be excluded from the analysis."
   ]
  },
  {
   "cell_type": "markdown",
   "id": "7231b6a1-037b-4bfd-8da1-e1a41f7de6e0",
   "metadata": {},
   "source": []
  },
  {
   "cell_type": "markdown",
   "id": "646b2018-29f4-4749-a998-334570b7e5dc",
   "metadata": {},
   "source": []
  },
  {
   "cell_type": "markdown",
   "id": "a6d15502-3447-4325-bb80-6cd10bdaaa76",
   "metadata": {},
   "source": []
  },
  {
   "cell_type": "markdown",
   "id": "6612c2f0-3399-4546-ae5a-2ff2022bedc5",
   "metadata": {},
   "source": []
  },
  {
   "cell_type": "markdown",
   "id": "6a8a50c1-002b-4356-91bf-e3615de5f823",
   "metadata": {},
   "source": [
    "# Q9: What is Central Limit Theorem? State the significance of the Central Limit Theorem.\n",
    "### The Central Limit Theorem is a fundamental concept in probability theory and statistics that states that as the sample size increases, the sampling distribution of the sample means tends to follow a normal distribution, regardless of the shape of the original population distribution. This means that if we take multiple samples of a certain size from any distribution, the means of those samples will be normally distributed, even if the original distribution is not.\n",
    "\n",
    "### The significance of the Central Limit Theorem lies in its wide applicability in real-world scenarios. The theorem is particularly important in inferential statistics, where we use sample statistics to make inferences about population parameters. By providing a method for approximating the distribution of sample means, the Central Limit Theorem allows us to make more accurate inferences about population parameters, even when the sample size is small or the original distribution is non-normal.\n",
    "\n",
    "### Another significance of the Central Limit Theorem is that it helps to explain why the normal distribution arises so frequently in nature. Many natural phenomena are the result of the interaction of many different factors, each of which may have its own distribution. The Central Limit Theorem tells us that the distribution of the sum or average of these factors will tend to follow a normal distribution, even if the individual factors do not"
   ]
  },
  {
   "cell_type": "markdown",
   "id": "56b8359a-4f6e-42c8-9b9c-1907e79eec92",
   "metadata": {},
   "source": []
  },
  {
   "cell_type": "markdown",
   "id": "0616fdd2-3920-4254-a9d4-ad54e0c84d0d",
   "metadata": {},
   "source": []
  },
  {
   "cell_type": "markdown",
   "id": "e9500aa1-35d2-444f-a491-e4da4f76320c",
   "metadata": {},
   "source": []
  },
  {
   "cell_type": "markdown",
   "id": "6893bb67-2327-4195-9f9d-bae3b20b2bde",
   "metadata": {},
   "source": []
  },
  {
   "cell_type": "markdown",
   "id": "7a65d6fa-8b8b-484c-8b58-6df1e6dd8382",
   "metadata": {},
   "source": [
    "# Q10: State the assumptions of the Central Limit Theorem.\n",
    "### The Central Limit Theorem makes several assumptions about the population distribution from which the samples are drawn. These assumptions are:\n",
    "\n",
    "#### 1.Independence: Each observation in the sample is independent of all other observations. This means that the value of one observation does not affect the value of any other observation.\n",
    "\n",
    "#### 2.Sample size: The sample size should be large enough. While there is no exact number for how large the sample size should be, a general rule of thumb is that the sample size should be at least 30.\n",
    "\n",
    "#### 3.Random sampling: The sample should be drawn randomly from the population. This means that each observation in the population should have an equal chance of being selected for the sample.\n",
    "\n",
    "#### 4.Finite variance: The population from which the sample is drawn should have a finite variance. This means that the variance of the population distribution should not be infinite.\n",
    "\n",
    "### These assumptions are important because violating any of them can lead to inaccurate results. For example, if the observations in the sample are not independent, the Central Limit Theorem may not apply. Similarly, if the sample size is too small or the sample is not drawn randomly, the sample mean may not be a good estimate of the population mean.\n",
    "\n",
    "### It is worth noting that while the assumptions of the Central Limit Theorem are important, in practice the theorem tends to be quite robust to violations of these assumptions. This means that even if the assumptions are not perfectly met, the Central Limit Theorem may still be applicable, especially if the sample size is large enough."
   ]
  }
 ],
 "metadata": {
  "kernelspec": {
   "display_name": "Python 3 (ipykernel)",
   "language": "python",
   "name": "python3"
  },
  "language_info": {
   "codemirror_mode": {
    "name": "ipython",
    "version": 3
   },
   "file_extension": ".py",
   "mimetype": "text/x-python",
   "name": "python",
   "nbconvert_exporter": "python",
   "pygments_lexer": "ipython3",
   "version": "3.11.2"
  }
 },
 "nbformat": 4,
 "nbformat_minor": 5
}
